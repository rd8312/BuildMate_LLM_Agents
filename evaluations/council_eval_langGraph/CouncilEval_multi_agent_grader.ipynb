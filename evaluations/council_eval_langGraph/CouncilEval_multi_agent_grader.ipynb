{
 "cells": [
  {
   "attachments": {},
   "cell_type": "markdown",
   "metadata": {},
   "source": [
    "# CouncilEval\n",
    "- A collaborative evaluation framework where multiple expert agents convene to assess, compare, and refine recommendations. By simulating a panel of specialists—each focusing on different performance criteria—CouncilEval ensures well-rounded, consensus-driven decisions on system recommendations, ultimately delivering more balanced, reliable, and user-focused outcomes."
   ]
  },
  {
   "cell_type": "code",
   "execution_count": 8,
   "metadata": {},
   "outputs": [],
   "source": [
    "import getpass\n",
    "import os\n",
    "\n",
    "if \"GOOGLE_API_KEY\" not in os.environ:\n",
    "    os.environ[\"GOOGLE_API_KEY\"] = getpass.getpass(\"Enter your Google AI API key: \")"
   ]
  },
  {
   "cell_type": "code",
   "execution_count": 9,
   "metadata": {},
   "outputs": [
    {
     "data": {
      "text/html": [
       "<pre style=\"white-space:pre;overflow-x:auto;line-height:normal;font-family:Menlo,'DejaVu Sans Mono',consolas,'Courier New',monospace\"><span style=\"font-weight: bold\">{</span>\n",
       "    <span style=\"color: #008000; text-decoration-color: #008000\">'question_id'</span>: <span style=\"color: #008080; text-decoration-color: #008080; font-weight: bold\">1</span>,\n",
       "    <span style=\"color: #008000; text-decoration-color: #008000\">'question'</span>: <span style=\"color: #008000; text-decoration-color: #008000\">'請問30000元內能組一台什麼樣的主機，主要是玩LOL和看Netflix用？'</span>,\n",
       "    <span style=\"color: #008000; text-decoration-color: #008000\">'gpt4o_recommendation'</span>: <span style=\"color: #008000; text-decoration-color: #008000\">'CPU: AMD Ryzen 5 5600G | price: 4990\\nMemory: Corsair Vengeance LPX 16GB (2 x 8GB) </span>\n",
       "<span style=\"color: #008000; text-decoration-color: #008000\">DDR4-3200 | price: 1590\\nGPU: MSI GeForce GTX 1650 D6 VENTUS XS OC | price: 6490\\nStorage: ADATA XPG SX8200 Pro </span>\n",
       "<span style=\"color: #008000; text-decoration-color: #008000\">512GB NVMe M.2 | price: 1490\\nPower Supply: Cooler Master MWE 550W 80+ Bronze | price: 1890\\nCase: Cooler Master </span>\n",
       "<span style=\"color: #008000; text-decoration-color: #008000\">MasterBox Q300L | price: 1290\\nCase Fan: ARCTIC P12 PWM PST 120mm | price: 490\\n總價: 18230'</span>,\n",
       "    <span style=\"color: #008000; text-decoration-color: #008000\">'buildmate_recommendation'</span>: <span style=\"color: #008000; text-decoration-color: #008000\">'CPU: Intel i5-14400F | price: 5400\\nMotherboard: 華碩 PRIME </span>\n",
       "<span style=\"color: #008000; text-decoration-color: #008000\">H610M-E-CSM(DDR5)(M-ATX/Realtek 1Gb/註冊四年/2DIMM) | price: 2990\\nMemory: 威剛 單條16GB DDR5-5600/CL46 </span>\n",
       "<span style=\"color: #008000; text-decoration-color: #008000\">(AD5U560016G-S)【雙參數】 | price: 1269\\nGPU: Acer Nitro Intel ARC B580 OC 12GB | price: 8690\\nStorage: 威剛 </span>\n",
       "<span style=\"color: #008000; text-decoration-color: #008000\">Ultimate SU800 512G/2.5吋/讀:560M/寫:520M/TLC/DRAM快取/SMI/台灣製 | price: 1499\\nPower Supply: Antec </span>\n",
       "<span style=\"color: #008000; text-decoration-color: #008000\">HCG1000(1000W)雙8/金牌/全模/全日系/智慧溫控風扇/10年保 送12+4pin模組線！ | price: 3990\\nCase: 銀欣 RL08 紅黑 | </span>\n",
       "<span style=\"color: #008000; text-decoration-color: #008000\">price: 1290\\nCase Fan: MSI MEG SILENT GALE P12 靜音風扇 /HDB軸承/2000RPM/抗震襯墊/PWM/六年保 | price: 790\\n總價: </span>\n",
       "<span style=\"color: #008000; text-decoration-color: #008000\">25918'</span>\n",
       "<span style=\"font-weight: bold\">}</span>\n",
       "</pre>\n"
      ],
      "text/plain": [
       "\u001b[1m{\u001b[0m\n",
       "    \u001b[32m'question_id'\u001b[0m: \u001b[1;36m1\u001b[0m,\n",
       "    \u001b[32m'question'\u001b[0m: \u001b[32m'請問30000元內能組一台什麼樣的主機，主要是玩LOL和看Netflix用？'\u001b[0m,\n",
       "    \u001b[32m'gpt4o_recommendation'\u001b[0m: \u001b[32m'CPU: AMD Ryzen 5 5600G | price: 4990\\nMemory: Corsair Vengeance LPX 16GB \u001b[0m\u001b[32m(\u001b[0m\u001b[32m2 x 8GB\u001b[0m\u001b[32m)\u001b[0m\u001b[32m \u001b[0m\n",
       "\u001b[32mDDR4-3200 | price: 1590\\nGPU: MSI GeForce GTX 1650 D6 VENTUS XS OC | price: 6490\\nStorage: ADATA XPG SX8200 Pro \u001b[0m\n",
       "\u001b[32m512GB NVMe M.2 | price: 1490\\nPower Supply: Cooler Master MWE 550W 80+ Bronze | price: 1890\\nCase: Cooler Master \u001b[0m\n",
       "\u001b[32mMasterBox Q300L | price: 1290\\nCase Fan: ARCTIC P12 PWM PST 120mm | price: 490\\n總價: 18230'\u001b[0m,\n",
       "    \u001b[32m'buildmate_recommendation'\u001b[0m: \u001b[32m'CPU: Intel i5-14400F | price: 5400\\nMotherboard: 華碩 PRIME \u001b[0m\n",
       "\u001b[32mH610M-E-CSM\u001b[0m\u001b[32m(\u001b[0m\u001b[32mDDR5\u001b[0m\u001b[32m)\u001b[0m\u001b[32m(\u001b[0m\u001b[32mM-ATX/Realtek 1Gb/註冊四年/2DIMM\u001b[0m\u001b[32m)\u001b[0m\u001b[32m | price: 2990\\nMemory: 威剛 單條16GB DDR5-5600/CL46 \u001b[0m\n",
       "\u001b[32m(\u001b[0m\u001b[32mAD5U560016G-S\u001b[0m\u001b[32m)\u001b[0m\u001b[32m【雙參數】 | price: 1269\\nGPU: Acer Nitro Intel ARC B580 OC 12GB | price: 8690\\nStorage: 威剛 \u001b[0m\n",
       "\u001b[32mUltimate SU800 512G/2.5吋/讀:560M/寫:520M/TLC/DRAM快取/SMI/台灣製 | price: 1499\\nPower Supply: Antec \u001b[0m\n",
       "\u001b[32mHCG1000\u001b[0m\u001b[32m(\u001b[0m\u001b[32m1000W\u001b[0m\u001b[32m)\u001b[0m\u001b[32m雙8/金牌/全模/全日系/智慧溫控風扇/10年保 送12+4pin模組線！ | price: 3990\\nCase: 銀欣 RL08 紅黑 | \u001b[0m\n",
       "\u001b[32mprice: 1290\\nCase Fan: MSI MEG SILENT GALE P12 靜音風扇 /HDB軸承/2000RPM/抗震襯墊/PWM/六年保 | price: 790\\n總價: \u001b[0m\n",
       "\u001b[32m25918'\u001b[0m\n",
       "\u001b[1m}\u001b[0m\n"
      ]
     },
     "metadata": {},
     "output_type": "display_data"
    },
    {
     "data": {
      "text/html": [
       "<pre style=\"white-space:pre;overflow-x:auto;line-height:normal;font-family:Menlo,'DejaVu Sans Mono',consolas,'Courier New',monospace\">Agent1: <span style=\"font-weight: bold\">[</span>對gpt4o評價<span style=\"font-weight: bold\">]</span>: <span style=\"color: #008080; text-decoration-color: #008080; font-weight: bold\">7</span>\n",
       "<span style=\"font-weight: bold\">[</span>對BuildMate評價<span style=\"font-weight: bold\">]</span>: <span style=\"color: #008080; text-decoration-color: #008080; font-weight: bold\">4</span>\n",
       "<span style=\"font-weight: bold\">[</span>簡短原因<span style=\"font-weight: bold\">]</span>: gpt4o均衡，價格合理。BuildMate電源過剩，記憶體與主機板不相容。\n",
       "\n",
       "</pre>\n"
      ],
      "text/plain": [
       "Agent1: \u001b[1m[\u001b[0m對gpt4o評價\u001b[1m]\u001b[0m: \u001b[1;36m7\u001b[0m\n",
       "\u001b[1m[\u001b[0m對BuildMate評價\u001b[1m]\u001b[0m: \u001b[1;36m4\u001b[0m\n",
       "\u001b[1m[\u001b[0m簡短原因\u001b[1m]\u001b[0m: gpt4o均衡，價格合理。BuildMate電源過剩，記憶體與主機板不相容。\n",
       "\n"
      ]
     },
     "metadata": {},
     "output_type": "display_data"
    },
    {
     "name": "stdout",
     "output_type": "stream",
     "text": [
      "======\n"
     ]
    },
    {
     "data": {
      "text/html": [
       "<pre style=\"white-space:pre;overflow-x:auto;line-height:normal;font-family:Menlo,'DejaVu Sans Mono',consolas,'Courier New',monospace\">Agent2: <span style=\"font-weight: bold\">[</span>對gpt4o評價<span style=\"font-weight: bold\">]</span>: <span style=\"color: #008080; text-decoration-color: #008080; font-weight: bold\">8</span>\n",
       "<span style=\"font-weight: bold\">[</span>對BuildMate評價<span style=\"font-weight: bold\">]</span>: <span style=\"color: #008080; text-decoration-color: #008080; font-weight: bold\">5</span>\n",
       "<span style=\"font-weight: bold\">[</span>簡短原因<span style=\"font-weight: bold\">]</span>: gpt4o配置均衡，價格合理。BuildMate主機板不支援DDR5記憶體，電源瓦數過高。\n",
       "\n",
       "</pre>\n"
      ],
      "text/plain": [
       "Agent2: \u001b[1m[\u001b[0m對gpt4o評價\u001b[1m]\u001b[0m: \u001b[1;36m8\u001b[0m\n",
       "\u001b[1m[\u001b[0m對BuildMate評價\u001b[1m]\u001b[0m: \u001b[1;36m5\u001b[0m\n",
       "\u001b[1m[\u001b[0m簡短原因\u001b[1m]\u001b[0m: gpt4o配置均衡，價格合理。BuildMate主機板不支援DDR5記憶體，電源瓦數過高。\n",
       "\n"
      ]
     },
     "metadata": {},
     "output_type": "display_data"
    },
    {
     "name": "stdout",
     "output_type": "stream",
     "text": [
      "======\n"
     ]
    },
    {
     "data": {
      "text/html": [
       "<pre style=\"white-space:pre;overflow-x:auto;line-height:normal;font-family:Menlo,'DejaVu Sans Mono',consolas,'Courier New',monospace\">Agent3: <span style=\"font-weight: bold\">[</span>對gpt4o評價<span style=\"font-weight: bold\">]</span>: <span style=\"color: #008080; text-decoration-color: #008080; font-weight: bold\">8</span>\n",
       "<span style=\"font-weight: bold\">[</span>對BuildMate評價<span style=\"font-weight: bold\">]</span>: <span style=\"color: #008080; text-decoration-color: #008080; font-weight: bold\">4</span>\n",
       "<span style=\"font-weight: bold\">[</span>簡短原因<span style=\"font-weight: bold\">]</span>: gpt4o符合需求和預算。BuildMate主機板不支援DDR5、電源過剩、整體價格偏高。\n",
       "\n",
       "</pre>\n"
      ],
      "text/plain": [
       "Agent3: \u001b[1m[\u001b[0m對gpt4o評價\u001b[1m]\u001b[0m: \u001b[1;36m8\u001b[0m\n",
       "\u001b[1m[\u001b[0m對BuildMate評價\u001b[1m]\u001b[0m: \u001b[1;36m4\u001b[0m\n",
       "\u001b[1m[\u001b[0m簡短原因\u001b[1m]\u001b[0m: gpt4o符合需求和預算。BuildMate主機板不支援DDR5、電源過剩、整體價格偏高。\n",
       "\n"
      ]
     },
     "metadata": {},
     "output_type": "display_data"
    },
    {
     "name": "stdout",
     "output_type": "stream",
     "text": [
      "======\n"
     ]
    },
    {
     "data": {
      "text/html": [
       "<pre style=\"white-space:pre;overflow-x:auto;line-height:normal;font-family:Menlo,'DejaVu Sans Mono',consolas,'Courier New',monospace\">Coordinator: 已達成共識，gpt4o較佳。配置均衡價格合理，BuildMate則出現不相容和過剩的配置導致性價比低。\n",
       "\n",
       "</pre>\n"
      ],
      "text/plain": [
       "Coordinator: 已達成共識，gpt4o較佳。配置均衡價格合理，BuildMate則出現不相容和過剩的配置導致性價比低。\n",
       "\n"
      ]
     },
     "metadata": {},
     "output_type": "display_data"
    },
    {
     "name": "stdout",
     "output_type": "stream",
     "text": [
      "======\n"
     ]
    },
    {
     "data": {
      "text/html": [
       "<pre style=\"white-space:pre;overflow-x:auto;line-height:normal;font-family:Menlo,'DejaVu Sans Mono',consolas,'Courier New',monospace\">Agent1: <span style=\"font-weight: bold\">[</span>對gpt4o評價<span style=\"font-weight: bold\">]</span>: <span style=\"color: #008080; text-decoration-color: #008080; font-weight: bold\">7</span>\n",
       "<span style=\"font-weight: bold\">[</span>對BuildMate評價<span style=\"font-weight: bold\">]</span>: <span style=\"color: #008080; text-decoration-color: #008080; font-weight: bold\">4</span>\n",
       "<span style=\"font-weight: bold\">[</span>簡短原因<span style=\"font-weight: bold\">]</span>: gpt4o性價比高，滿足需求。BuildMate電源過剩、<span style=\"color: #800080; text-decoration-color: #800080; font-weight: bold\">主機板與記憶體不相容</span><span style=\"font-weight: bold\">(</span>H610不支援DDR5<span style=\"font-weight: bold\">)</span>。\n",
       "\n",
       "</pre>\n"
      ],
      "text/plain": [
       "Agent1: \u001b[1m[\u001b[0m對gpt4o評價\u001b[1m]\u001b[0m: \u001b[1;36m7\u001b[0m\n",
       "\u001b[1m[\u001b[0m對BuildMate評價\u001b[1m]\u001b[0m: \u001b[1;36m4\u001b[0m\n",
       "\u001b[1m[\u001b[0m簡短原因\u001b[1m]\u001b[0m: gpt4o性價比高，滿足需求。BuildMate電源過剩、\u001b[1;35m主機板與記憶體不相容\u001b[0m\u001b[1m(\u001b[0mH610不支援DDR5\u001b[1m)\u001b[0m。\n",
       "\n"
      ]
     },
     "metadata": {},
     "output_type": "display_data"
    },
    {
     "name": "stdout",
     "output_type": "stream",
     "text": [
      "======\n"
     ]
    },
    {
     "data": {
      "text/html": [
       "<pre style=\"white-space:pre;overflow-x:auto;line-height:normal;font-family:Menlo,'DejaVu Sans Mono',consolas,'Courier New',monospace\">Agent2: <span style=\"font-weight: bold\">[</span>對gpt4o評價<span style=\"font-weight: bold\">]</span>: <span style=\"color: #008080; text-decoration-color: #008080; font-weight: bold\">8</span>\n",
       "<span style=\"font-weight: bold\">[</span>對BuildMate評價<span style=\"font-weight: bold\">]</span>: <span style=\"color: #008080; text-decoration-color: #008080; font-weight: bold\">3</span>\n",
       "<span style=\"font-weight: bold\">[</span>簡短原因<span style=\"font-weight: bold\">]</span>: gpt4o性價比高，零件均衡。BuildMate H610主機板不支援DDR5記憶體、電源瓦數過高、顯卡選擇不佳。\n",
       "\n",
       "</pre>\n"
      ],
      "text/plain": [
       "Agent2: \u001b[1m[\u001b[0m對gpt4o評價\u001b[1m]\u001b[0m: \u001b[1;36m8\u001b[0m\n",
       "\u001b[1m[\u001b[0m對BuildMate評價\u001b[1m]\u001b[0m: \u001b[1;36m3\u001b[0m\n",
       "\u001b[1m[\u001b[0m簡短原因\u001b[1m]\u001b[0m: gpt4o性價比高，零件均衡。BuildMate H610主機板不支援DDR5記憶體、電源瓦數過高、顯卡選擇不佳。\n",
       "\n"
      ]
     },
     "metadata": {},
     "output_type": "display_data"
    },
    {
     "name": "stdout",
     "output_type": "stream",
     "text": [
      "======\n"
     ]
    },
    {
     "data": {
      "text/html": [
       "<pre style=\"white-space:pre;overflow-x:auto;line-height:normal;font-family:Menlo,'DejaVu Sans Mono',consolas,'Courier New',monospace\">Agent3: <span style=\"font-weight: bold\">[</span>對gpt4o評價<span style=\"font-weight: bold\">]</span>: <span style=\"color: #008080; text-decoration-color: #008080; font-weight: bold\">8</span>\n",
       "<span style=\"font-weight: bold\">[</span>對BuildMate評價<span style=\"font-weight: bold\">]</span>: <span style=\"color: #008080; text-decoration-color: #008080; font-weight: bold\">3</span>\n",
       "<span style=\"font-weight: bold\">[</span>簡短原因<span style=\"font-weight: bold\">]</span>: gpt4o性價比高，符合需求。BuildMate主機板與記憶體不相容、電源過剩、顯卡選擇不佳。\n",
       "\n",
       "</pre>\n"
      ],
      "text/plain": [
       "Agent3: \u001b[1m[\u001b[0m對gpt4o評價\u001b[1m]\u001b[0m: \u001b[1;36m8\u001b[0m\n",
       "\u001b[1m[\u001b[0m對BuildMate評價\u001b[1m]\u001b[0m: \u001b[1;36m3\u001b[0m\n",
       "\u001b[1m[\u001b[0m簡短原因\u001b[1m]\u001b[0m: gpt4o性價比高，符合需求。BuildMate主機板與記憶體不相容、電源過剩、顯卡選擇不佳。\n",
       "\n"
      ]
     },
     "metadata": {},
     "output_type": "display_data"
    },
    {
     "name": "stdout",
     "output_type": "stream",
     "text": [
      "======\n"
     ]
    },
    {
     "data": {
      "text/html": [
       "<pre style=\"white-space:pre;overflow-x:auto;line-height:normal;font-family:Menlo,'DejaVu Sans Mono',consolas,'Courier New',monospace\">Coordinator: \n",
       "已達成共識，gpt4o較佳。價格較低且配置均衡，BuildMate使用H610主機板卻搭配DDR5記憶體，不相容。電源瓦數也過高。\n",
       "\n",
       "</pre>\n"
      ],
      "text/plain": [
       "Coordinator: \n",
       "已達成共識，gpt4o較佳。價格較低且配置均衡，BuildMate使用H610主機板卻搭配DDR5記憶體，不相容。電源瓦數也過高。\n",
       "\n"
      ]
     },
     "metadata": {},
     "output_type": "display_data"
    },
    {
     "name": "stdout",
     "output_type": "stream",
     "text": [
      "======\n",
      "{'Coordinator': {'messages': [HumanMessage(content='Agent1: [對gpt4o評價]: 7\\n[對BuildMate評價]: 4\\n[簡短原因]: gpt4o均衡，價格合理。BuildMate電源過剩，記憶體與主機板不相容。\\n', additional_kwargs={}, response_metadata={}), HumanMessage(content='Agent2: [對gpt4o評價]: 8\\n[對BuildMate評價]: 5\\n[簡短原因]: gpt4o配置均衡，價格合理。BuildMate主機板不支援DDR5記憶體，電源瓦數過高。\\n', additional_kwargs={}, response_metadata={}), HumanMessage(content='Agent3: [對gpt4o評價]: 8\\n[對BuildMate評價]: 4\\n[簡短原因]: gpt4o符合需求和預算。BuildMate主機板不支援DDR5、電源過剩、整體價格偏高。\\n', additional_kwargs={}, response_metadata={}), HumanMessage(content='Coordinator: 已達成共識，gpt4o較佳。配置均衡價格合理，BuildMate則出現不相容和過剩的配置導致性價比低。\\n', additional_kwargs={}, response_metadata={}), HumanMessage(content='Agent1: [對gpt4o評價]: 7\\n[對BuildMate評價]: 4\\n[簡短原因]: gpt4o性價比高，滿足需求。BuildMate電源過剩、主機板與記憶體不相容(H610不支援DDR5)。\\n', additional_kwargs={}, response_metadata={}), HumanMessage(content='Agent2: [對gpt4o評價]: 8\\n[對BuildMate評價]: 3\\n[簡短原因]: gpt4o性價比高，零件均衡。BuildMate H610主機板不支援DDR5記憶體、電源瓦數過高、顯卡選擇不佳。\\n', additional_kwargs={}, response_metadata={}), HumanMessage(content='Agent3: [對gpt4o評價]: 8\\n[對BuildMate評價]: 3\\n[簡短原因]: gpt4o性價比高，符合需求。BuildMate主機板與記憶體不相容、電源過剩、顯卡選擇不佳。\\n', additional_kwargs={}, response_metadata={}), HumanMessage(content='Coordinator: 已達成共識，gpt4o較佳。價格較低且配置均衡，BuildMate使用H610主機板卻搭配DDR5記憶體，不相容。電源瓦數也過高。\\n', additional_kwargs={}, response_metadata={})], 'next_agent': '__end__', 'question_id': 1, 'question': '請問30000元內能組一台什麼樣的主機，主要是玩LOL和看Netflix用？', 'gpt4o_recommendation': 'CPU: AMD Ryzen 5 5600G | price: 4990\\nMemory: Corsair Vengeance LPX 16GB (2 x 8GB) DDR4-3200 | price: 1590\\nGPU: MSI GeForce GTX 1650 D6 VENTUS XS OC | price: 6490\\nStorage: ADATA XPG SX8200 Pro 512GB NVMe M.2 | price: 1490\\nPower Supply: Cooler Master MWE 550W 80+ Bronze | price: 1890\\nCase: Cooler Master MasterBox Q300L | price: 1290\\nCase Fan: ARCTIC P12 PWM PST 120mm | price: 490\\n總價: 18230', 'buildmate_recommendation': 'CPU: Intel i5-14400F | price: 5400\\nMotherboard: 華碩 PRIME H610M-E-CSM(DDR5)(M-ATX/Realtek 1Gb/註冊四年/2DIMM) | price: 2990\\nMemory: 威剛 單條16GB DDR5-5600/CL46 (AD5U560016G-S)【雙參數】 | price: 1269\\nGPU: Acer Nitro Intel ARC B580 OC 12GB | price: 8690\\nStorage: 威剛 Ultimate SU800 512G/2.5吋/讀:560M/寫:520M/TLC/DRAM快取/SMI/台灣製 | price: 1499\\nPower Supply: Antec HCG1000(1000W)雙8/金牌/全模/全日系/智慧溫控風扇/10年保 送12+4pin模組線！ | price: 3990\\nCase: 銀欣 RL08 紅黑 | price: 1290\\nCase Fan: MSI MEG SILENT GALE P12 靜音風扇 /HDB軸承/2000RPM/抗震襯墊/PWM/六年保 | price: 790\\n總價: 25918', 'agent_scores': {'Agent1_round1': {'gpt4o_score': 7, 'buildmate_score': 4, 'reason': 'gpt4o均衡，價格合理。BuildMate電源過剩，記憶體與主機板不相容。'}, 'Agent2_round1': {'gpt4o_score': 8, 'buildmate_score': 5, 'reason': 'gpt4o配置均衡，價格合理。BuildMate主機板不支援DDR5記憶體，電源瓦數過高。'}, 'Agent3_round1': {'gpt4o_score': 8, 'buildmate_score': 4, 'reason': 'gpt4o符合需求和預算。BuildMate主機板不支援DDR5、電源過剩、整體價格偏高。'}, 'Agent1_round2': {'gpt4o_score': 7, 'buildmate_score': 4, 'reason': 'gpt4o性價比高，滿足需求。BuildMate電源過剩、主機板與記憶體不相容(H610不支援DDR5)。'}, 'Agent2_round2': {'gpt4o_score': 8, 'buildmate_score': 3, 'reason': 'gpt4o性價比高，零件均衡。BuildMate H610主機板不支援DDR5記憶體、電源瓦數過高、顯卡選擇不佳。'}, 'Agent3_round2': {'gpt4o_score': 8, 'buildmate_score': 3, 'reason': 'gpt4o性價比高，符合需求。BuildMate主機板與記憶體不相容、電源過剩、顯卡選擇不佳。'}}, 'round_count': 2, 'max_rounds': 3, 'consensus_reached': True}}\n",
      "{\n",
      "  \"question_id\": 1,\n",
      "  \"question\": \"請問30000元內能組一台什麼樣的主機，主要是玩LOL和看Netflix用？\",\n",
      "  \"buildmate_recommendation\": \"CPU: Intel i5-14400F | price: 5400\\nMotherboard: 華碩 PRIME H610M-E-CSM(DDR5)(M-ATX/Realtek 1Gb/註冊四年/2DIMM) | price: 2990\\nMemory: 威剛 單條16GB DDR5-5600/CL46 (AD5U560016G-S)【雙參數】 | price: 1269\\nGPU: Acer Nitro Intel ARC B580 OC 12GB | price: 8690\\nStorage: 威剛 Ultimate SU800 512G/2.5吋/讀:560M/寫:520M/TLC/DRAM快取/SMI/台灣製 | price: 1499\\nPower Supply: Antec HCG1000(1000W)雙8/金牌/全模/全日系/智慧溫控風扇/10年保 送12+4pin模組線！ | price: 3990\\nCase: 銀欣 RL08 紅黑 | price: 1290\\nCase Fan: MSI MEG SILENT GALE P12 靜音風扇 /HDB軸承/2000RPM/抗震襯墊/PWM/六年保 | price: 790\\n總價: 25918\",\n",
      "  \"gpt4o_recommendation\": \"CPU: AMD Ryzen 5 5600G | price: 4990\\nMemory: Corsair Vengeance LPX 16GB (2 x 8GB) DDR4-3200 | price: 1590\\nGPU: MSI GeForce GTX 1650 D6 VENTUS XS OC | price: 6490\\nStorage: ADATA XPG SX8200 Pro 512GB NVMe M.2 | price: 1490\\nPower Supply: Cooler Master MWE 550W 80+ Bronze | price: 1890\\nCase: Cooler Master MasterBox Q300L | price: 1290\\nCase Fan: ARCTIC P12 PWM PST 120mm | price: 490\\n總價: 18230\",\n",
      "  \"winner\": 0,\n",
      "  \"buildmate_avg_score\": 3.8333333333333335,\n",
      "  \"gpt4o_avg_score\": 7.666666666666667,\n",
      "  \"rounds\": [\n",
      "    {\n",
      "      \"round_number\": 1,\n",
      "      \"Agent1\": {\n",
      "        \"gpt4o_score\": 7,\n",
      "        \"buildmate_score\": 4,\n",
      "        \"reason\": \"gpt4o均衡，價格合理。BuildMate電源過剩，記憶體與主機板不相容。\"\n",
      "      },\n",
      "      \"Agent2\": {\n",
      "        \"gpt4o_score\": 8,\n",
      "        \"buildmate_score\": 5,\n",
      "        \"reason\": \"gpt4o配置均衡，價格合理。BuildMate主機板不支援DDR5記憶體，電源瓦數過高。\"\n",
      "      },\n",
      "      \"Agent3\": {\n",
      "        \"gpt4o_score\": 8,\n",
      "        \"buildmate_score\": 4,\n",
      "        \"reason\": \"gpt4o符合需求和預算。BuildMate主機板不支援DDR5、電源過剩、整體價格偏高。\"\n",
      "      }\n",
      "    },\n",
      "    {\n",
      "      \"round_number\": 2,\n",
      "      \"Agent1\": {\n",
      "        \"gpt4o_score\": 7,\n",
      "        \"buildmate_score\": 4,\n",
      "        \"reason\": \"gpt4o性價比高，滿足需求。BuildMate電源過剩、主機板與記憶體不相容(H610不支援DDR5)。\"\n",
      "      },\n",
      "      \"Agent2\": {\n",
      "        \"gpt4o_score\": 8,\n",
      "        \"buildmate_score\": 3,\n",
      "        \"reason\": \"gpt4o性價比高，零件均衡。BuildMate H610主機板不支援DDR5記憶體、電源瓦數過高、顯卡選擇不佳。\"\n",
      "      },\n",
      "      \"Agent3\": {\n",
      "        \"gpt4o_score\": 8,\n",
      "        \"buildmate_score\": 3,\n",
      "        \"reason\": \"gpt4o性價比高，符合需求。BuildMate主機板與記憶體不相容、電源過剩、顯卡選擇不佳。\"\n",
      "      }\n",
      "    }\n",
      "  ]\n",
      "}\n"
     ]
    },
    {
     "data": {
      "text/html": [
       "<pre style=\"white-space:pre;overflow-x:auto;line-height:normal;font-family:Menlo,'DejaVu Sans Mono',consolas,'Courier New',monospace\"><span style=\"font-weight: bold\">{</span>\n",
       "    <span style=\"color: #008000; text-decoration-color: #008000\">'question_id'</span>: <span style=\"color: #008080; text-decoration-color: #008080; font-weight: bold\">2</span>,\n",
       "    <span style=\"color: #008000; text-decoration-color: #008000\">'question'</span>: <span style=\"color: #008000; text-decoration-color: #008000\">'有推薦的組合嗎？預算大概在50000元，要能處理攝影後製和輕遊戲，如：軒轅劍7。'</span>,\n",
       "    <span style=\"color: #008000; text-decoration-color: #008000\">'gpt4o_recommendation'</span>: <span style=\"color: #008000; text-decoration-color: #008000\">'CPU: AMD Ryzen 5 5600X | price: 5990\\nMotherboard: 華碩 TUF GAMING B550M-PLUS (Wi-Fi) </span>\n",
       "<span style=\"color: #008000; text-decoration-color: #008000\">| price: 3990\\nMemory: Corsair Vengeance LPX 16GB (2 x 8GB) DDR4-3200 | price: 1990\\nGPU: NVIDIA GeForce GTX 1660 </span>\n",
       "<span style=\"color: #008000; text-decoration-color: #008000\">Super | price: 7490\\nStorage: Samsung 970 EVO Plus 500GB NVMe M.2 | price: 1890\\nPower Supply: Seasonic Focus </span>\n",
       "<span style=\"color: #008000; text-decoration-color: #008000\">GX-650 (650W) | price: 2990\\nCase: Cooler Master MasterBox Q300L | price: 1290\\nCase Fan: Noctua NF-P12 redux-1700 </span>\n",
       "<span style=\"color: #008000; text-decoration-color: #008000\">PWM | price: 790\\n總價: 26420'</span>,\n",
       "    <span style=\"color: #008000; text-decoration-color: #008000\">'buildmate_recommendation'</span>: <span style=\"color: #008000; text-decoration-color: #008000\">'CPU: Intel i7-14700F | price: 9700\\nMotherboard: 華碩 PRO WS W680-ACE | price: </span>\n",
       "<span style=\"color: #008000; text-decoration-color: #008000\">9990\\nMemory: 威剛 32GB(雙通16GB*2) DDR5 6000 XPG Lancer Blade(矮版散熱片)/CL48黑【雙參數】 | price: 2699\\nGPU: </span>\n",
       "<span style=\"color: #008000; text-decoration-color: #008000\">Acer Nitro Intel ARC B580 OC 12GB | price: 8690\\nStorage: 威剛 Ultimate SU800 </span>\n",
       "<span style=\"color: #008000; text-decoration-color: #008000\">512G/2.5吋/讀:560M/寫:520M/TLC/DRAM快取/SMI/台灣製【五年】 | price: 1499\\nPower Supply: Antec </span>\n",
       "<span style=\"color: #008000; text-decoration-color: #008000\">HCG1000(1000W)雙8/金牌/全模/全日系/智慧溫控風扇/10年保 | price: 3990\\nCase: 銀欣 RL08 紅黑 | price: 1290\\nCase Fan:</span>\n",
       "<span style=\"color: #008000; text-decoration-color: #008000\">Acer Predator Frostblade 120 風扇 | price: 390\\n總價: 38248'</span>\n",
       "<span style=\"font-weight: bold\">}</span>\n",
       "</pre>\n"
      ],
      "text/plain": [
       "\u001b[1m{\u001b[0m\n",
       "    \u001b[32m'question_id'\u001b[0m: \u001b[1;36m2\u001b[0m,\n",
       "    \u001b[32m'question'\u001b[0m: \u001b[32m'有推薦的組合嗎？預算大概在50000元，要能處理攝影後製和輕遊戲，如：軒轅劍7。'\u001b[0m,\n",
       "    \u001b[32m'gpt4o_recommendation'\u001b[0m: \u001b[32m'CPU: AMD Ryzen 5 5600X | price: 5990\\nMotherboard: 華碩 TUF GAMING B550M-PLUS \u001b[0m\u001b[32m(\u001b[0m\u001b[32mWi-Fi\u001b[0m\u001b[32m)\u001b[0m\u001b[32m \u001b[0m\n",
       "\u001b[32m| price: 3990\\nMemory: Corsair Vengeance LPX 16GB \u001b[0m\u001b[32m(\u001b[0m\u001b[32m2 x 8GB\u001b[0m\u001b[32m)\u001b[0m\u001b[32m DDR4-3200 | price: 1990\\nGPU: NVIDIA GeForce GTX 1660 \u001b[0m\n",
       "\u001b[32mSuper | price: 7490\\nStorage: Samsung 970 EVO Plus 500GB NVMe M.2 | price: 1890\\nPower Supply: Seasonic Focus \u001b[0m\n",
       "\u001b[32mGX-650 \u001b[0m\u001b[32m(\u001b[0m\u001b[32m650W\u001b[0m\u001b[32m)\u001b[0m\u001b[32m | price: 2990\\nCase: Cooler Master MasterBox Q300L | price: 1290\\nCase Fan: Noctua NF-P12 redux-1700 \u001b[0m\n",
       "\u001b[32mPWM | price: 790\\n總價: 26420'\u001b[0m,\n",
       "    \u001b[32m'buildmate_recommendation'\u001b[0m: \u001b[32m'CPU: Intel i7-14700F | price: 9700\\nMotherboard: 華碩 PRO WS W680-ACE | price: \u001b[0m\n",
       "\u001b[32m9990\\nMemory: 威剛 32GB\u001b[0m\u001b[32m(\u001b[0m\u001b[32m雙通16GB*2\u001b[0m\u001b[32m)\u001b[0m\u001b[32m DDR5 6000 XPG Lancer Blade\u001b[0m\u001b[32m(\u001b[0m\u001b[32m矮版散熱片\u001b[0m\u001b[32m)\u001b[0m\u001b[32m/CL48黑【雙參數】 | price: 2699\\nGPU: \u001b[0m\n",
       "\u001b[32mAcer Nitro Intel ARC B580 OC 12GB | price: 8690\\nStorage: 威剛 Ultimate SU800 \u001b[0m\n",
       "\u001b[32m512G/2.5吋/讀:560M/寫:520M/TLC/DRAM快取/SMI/台灣製【五年】 | price: 1499\\nPower Supply: Antec \u001b[0m\n",
       "\u001b[32mHCG1000\u001b[0m\u001b[32m(\u001b[0m\u001b[32m1000W\u001b[0m\u001b[32m)\u001b[0m\u001b[32m雙8/金牌/全模/全日系/智慧溫控風扇/10年保 | price: 3990\\nCase: 銀欣 RL08 紅黑 | price: 1290\\nCase Fan:\u001b[0m\n",
       "\u001b[32mAcer Predator Frostblade 120 風扇 | price: 390\\n總價: 38248'\u001b[0m\n",
       "\u001b[1m}\u001b[0m\n"
      ]
     },
     "metadata": {},
     "output_type": "display_data"
    },
    {
     "data": {
      "text/html": [
       "<pre style=\"white-space:pre;overflow-x:auto;line-height:normal;font-family:Menlo,'DejaVu Sans Mono',consolas,'Courier New',monospace\">Agent1: <span style=\"font-weight: bold\">[</span>對gpt4o評價<span style=\"font-weight: bold\">]</span>: <span style=\"color: #008080; text-decoration-color: #008080; font-weight: bold\">7</span>\n",
       "<span style=\"font-weight: bold\">[</span>對BuildMate評價<span style=\"font-weight: bold\">]</span>: <span style=\"color: #008080; text-decoration-color: #008080; font-weight: bold\">4</span>\n",
       "<span style=\"font-weight: bold\">[</span>簡短原因<span style=\"font-weight: bold\">]</span>: gpt4o均衡，價格合理。BuildMate主機板與CPU搭配不合理，記憶體與顯示卡選擇不佳。\n",
       "\n",
       "</pre>\n"
      ],
      "text/plain": [
       "Agent1: \u001b[1m[\u001b[0m對gpt4o評價\u001b[1m]\u001b[0m: \u001b[1;36m7\u001b[0m\n",
       "\u001b[1m[\u001b[0m對BuildMate評價\u001b[1m]\u001b[0m: \u001b[1;36m4\u001b[0m\n",
       "\u001b[1m[\u001b[0m簡短原因\u001b[1m]\u001b[0m: gpt4o均衡，價格合理。BuildMate主機板與CPU搭配不合理，記憶體與顯示卡選擇不佳。\n",
       "\n"
      ]
     },
     "metadata": {},
     "output_type": "display_data"
    },
    {
     "name": "stdout",
     "output_type": "stream",
     "text": [
      "======\n"
     ]
    },
    {
     "data": {
      "text/html": [
       "<pre style=\"white-space:pre;overflow-x:auto;line-height:normal;font-family:Menlo,'DejaVu Sans Mono',consolas,'Courier New',monospace\">Agent2: <span style=\"font-weight: bold\">[</span>對gpt4o評價<span style=\"font-weight: bold\">]</span>: <span style=\"color: #008080; text-decoration-color: #008080; font-weight: bold\">8</span>\n",
       "<span style=\"font-weight: bold\">[</span>對BuildMate評價<span style=\"font-weight: bold\">]</span>: <span style=\"color: #008080; text-decoration-color: #008080; font-weight: bold\">5</span>\n",
       "<span style=\"font-weight: bold\">[</span>簡短原因<span style=\"font-weight: bold\">]</span>: gpt4o配置均衡，價格合理，效能符合預算。BuildMate主機板過於高階，顯示卡效能不符價格。\n",
       "\n",
       "</pre>\n"
      ],
      "text/plain": [
       "Agent2: \u001b[1m[\u001b[0m對gpt4o評價\u001b[1m]\u001b[0m: \u001b[1;36m8\u001b[0m\n",
       "\u001b[1m[\u001b[0m對BuildMate評價\u001b[1m]\u001b[0m: \u001b[1;36m5\u001b[0m\n",
       "\u001b[1m[\u001b[0m簡短原因\u001b[1m]\u001b[0m: gpt4o配置均衡，價格合理，效能符合預算。BuildMate主機板過於高階，顯示卡效能不符價格。\n",
       "\n"
      ]
     },
     "metadata": {},
     "output_type": "display_data"
    },
    {
     "name": "stdout",
     "output_type": "stream",
     "text": [
      "======\n"
     ]
    },
    {
     "data": {
      "text/html": [
       "<pre style=\"white-space:pre;overflow-x:auto;line-height:normal;font-family:Menlo,'DejaVu Sans Mono',consolas,'Courier New',monospace\">Agent3: <span style=\"font-weight: bold\">[</span>對gpt4o評價<span style=\"font-weight: bold\">]</span>: <span style=\"color: #008080; text-decoration-color: #008080; font-weight: bold\">9</span>\n",
       "<span style=\"font-weight: bold\">[</span>對BuildMate評價<span style=\"font-weight: bold\">]</span>: <span style=\"color: #008080; text-decoration-color: #008080; font-weight: bold\">6</span>\n",
       "<span style=\"font-weight: bold\">[</span>簡短原因<span style=\"font-weight: bold\">]</span>: gpt4o性價比高，符合需求和預算。BuildMate主機板選擇過高，記憶體規格不適合Intel平台，顯示卡效能低落。\n",
       "\n",
       "</pre>\n"
      ],
      "text/plain": [
       "Agent3: \u001b[1m[\u001b[0m對gpt4o評價\u001b[1m]\u001b[0m: \u001b[1;36m9\u001b[0m\n",
       "\u001b[1m[\u001b[0m對BuildMate評價\u001b[1m]\u001b[0m: \u001b[1;36m6\u001b[0m\n",
       "\u001b[1m[\u001b[0m簡短原因\u001b[1m]\u001b[0m: gpt4o性價比高，符合需求和預算。BuildMate主機板選擇過高，記憶體規格不適合Intel平台，顯示卡效能低落。\n",
       "\n"
      ]
     },
     "metadata": {},
     "output_type": "display_data"
    },
    {
     "name": "stdout",
     "output_type": "stream",
     "text": [
      "======\n"
     ]
    },
    {
     "data": {
      "text/html": [
       "<pre style=\"white-space:pre;overflow-x:auto;line-height:normal;font-family:Menlo,'DejaVu Sans Mono',consolas,'Courier New',monospace\">Coordinator: \n",
       "已達成共識，gpt4o較佳。配置均衡、價格合理，符合需求且性價比高，反觀BuildMate主機板與CPU搭配不合理，顯示卡效能低落。\n",
       "\n",
       "</pre>\n"
      ],
      "text/plain": [
       "Coordinator: \n",
       "已達成共識，gpt4o較佳。配置均衡、價格合理，符合需求且性價比高，反觀BuildMate主機板與CPU搭配不合理，顯示卡效能低落。\n",
       "\n"
      ]
     },
     "metadata": {},
     "output_type": "display_data"
    },
    {
     "name": "stdout",
     "output_type": "stream",
     "text": [
      "======\n"
     ]
    },
    {
     "data": {
      "text/html": [
       "<pre style=\"white-space:pre;overflow-x:auto;line-height:normal;font-family:Menlo,'DejaVu Sans Mono',consolas,'Courier New',monospace\">Agent1: <span style=\"font-weight: bold\">[</span>對gpt4o評價<span style=\"font-weight: bold\">]</span>: <span style=\"color: #008080; text-decoration-color: #008080; font-weight: bold\">7</span>\n",
       "<span style=\"font-weight: bold\">[</span>對BuildMate評價<span style=\"font-weight: bold\">]</span>: <span style=\"color: #008080; text-decoration-color: #008080; font-weight: bold\">4</span>\n",
       "<span style=\"font-weight: bold\">[</span>簡短原因<span style=\"font-weight: bold\">]</span>: gpt4o性價比高，整體均衡。BuildMate CPU與主機板搭配溢價嚴重，顯示卡效能不足。\n",
       "\n",
       "</pre>\n"
      ],
      "text/plain": [
       "Agent1: \u001b[1m[\u001b[0m對gpt4o評價\u001b[1m]\u001b[0m: \u001b[1;36m7\u001b[0m\n",
       "\u001b[1m[\u001b[0m對BuildMate評價\u001b[1m]\u001b[0m: \u001b[1;36m4\u001b[0m\n",
       "\u001b[1m[\u001b[0m簡短原因\u001b[1m]\u001b[0m: gpt4o性價比高，整體均衡。BuildMate CPU與主機板搭配溢價嚴重，顯示卡效能不足。\n",
       "\n"
      ]
     },
     "metadata": {},
     "output_type": "display_data"
    },
    {
     "name": "stdout",
     "output_type": "stream",
     "text": [
      "======\n"
     ]
    },
    {
     "data": {
      "text/html": [
       "<pre style=\"white-space:pre;overflow-x:auto;line-height:normal;font-family:Menlo,'DejaVu Sans Mono',consolas,'Courier New',monospace\">Agent2: <span style=\"font-weight: bold\">[</span>對gpt4o評價<span style=\"font-weight: bold\">]</span>: <span style=\"color: #008080; text-decoration-color: #008080; font-weight: bold\">9</span>\n",
       "<span style=\"font-weight: bold\">[</span>對BuildMate評價<span style=\"font-weight: bold\">]</span>: <span style=\"color: #008080; text-decoration-color: #008080; font-weight: bold\">4</span>\n",
       "<span style=\"font-weight: bold\">[</span>簡短原因<span style=\"font-weight: bold\">]</span>: gpt4o配置均衡，性價比極高。BuildMate主機板CPU高階低配，顯示卡效能差，記憶體溢價。\n",
       "\n",
       "</pre>\n"
      ],
      "text/plain": [
       "Agent2: \u001b[1m[\u001b[0m對gpt4o評價\u001b[1m]\u001b[0m: \u001b[1;36m9\u001b[0m\n",
       "\u001b[1m[\u001b[0m對BuildMate評價\u001b[1m]\u001b[0m: \u001b[1;36m4\u001b[0m\n",
       "\u001b[1m[\u001b[0m簡短原因\u001b[1m]\u001b[0m: gpt4o配置均衡，性價比極高。BuildMate主機板CPU高階低配，顯示卡效能差，記憶體溢價。\n",
       "\n"
      ]
     },
     "metadata": {},
     "output_type": "display_data"
    },
    {
     "name": "stdout",
     "output_type": "stream",
     "text": [
      "======\n"
     ]
    },
    {
     "data": {
      "text/html": [
       "<pre style=\"white-space:pre;overflow-x:auto;line-height:normal;font-family:Menlo,'DejaVu Sans Mono',consolas,'Courier New',monospace\">Agent3: <span style=\"font-weight: bold\">[</span>對gpt4o評價<span style=\"font-weight: bold\">]</span>: <span style=\"color: #008080; text-decoration-color: #008080; font-weight: bold\">9</span>\n",
       "<span style=\"font-weight: bold\">[</span>對BuildMate評價<span style=\"font-weight: bold\">]</span>: <span style=\"color: #008080; text-decoration-color: #008080; font-weight: bold\">4</span>\n",
       "<span style=\"font-weight: bold\">[</span>簡短原因<span style=\"font-weight: bold\">]</span>: gpt4o性價比高，符合需求和預算。BuildMate主機板CPU搭配不合理，記憶體規格與價格不符，顯示卡效能低。\n",
       "\n",
       "</pre>\n"
      ],
      "text/plain": [
       "Agent3: \u001b[1m[\u001b[0m對gpt4o評價\u001b[1m]\u001b[0m: \u001b[1;36m9\u001b[0m\n",
       "\u001b[1m[\u001b[0m對BuildMate評價\u001b[1m]\u001b[0m: \u001b[1;36m4\u001b[0m\n",
       "\u001b[1m[\u001b[0m簡短原因\u001b[1m]\u001b[0m: gpt4o性價比高，符合需求和預算。BuildMate主機板CPU搭配不合理，記憶體規格與價格不符，顯示卡效能低。\n",
       "\n"
      ]
     },
     "metadata": {},
     "output_type": "display_data"
    },
    {
     "name": "stdout",
     "output_type": "stream",
     "text": [
      "======\n"
     ]
    },
    {
     "data": {
      "text/html": [
       "<pre style=\"white-space:pre;overflow-x:auto;line-height:normal;font-family:Menlo,'DejaVu Sans Mono',consolas,'Courier New',monospace\">Coordinator: \n",
       "已達成共識，gpt4o較佳。價格更低且效能均衡，符合預算與需求。BuildMate則CPU與主機板搭配不合理，記憶體規格與價格不符，\n",
       "顯示卡效能相對低落。\n",
       "\n",
       "</pre>\n"
      ],
      "text/plain": [
       "Coordinator: \n",
       "已達成共識，gpt4o較佳。價格更低且效能均衡，符合預算與需求。BuildMate則CPU與主機板搭配不合理，記憶體規格與價格不符，\n",
       "顯示卡效能相對低落。\n",
       "\n"
      ]
     },
     "metadata": {},
     "output_type": "display_data"
    },
    {
     "name": "stdout",
     "output_type": "stream",
     "text": [
      "======\n",
      "{'Coordinator': {'messages': [HumanMessage(content='Agent1: [對gpt4o評價]: 7\\n[對BuildMate評價]: 4\\n[簡短原因]: gpt4o均衡，價格合理。BuildMate主機板與CPU搭配不合理，記憶體與顯示卡選擇不佳。\\n', additional_kwargs={}, response_metadata={}), HumanMessage(content='Agent2: [對gpt4o評價]: 8\\n[對BuildMate評價]: 5\\n[簡短原因]: gpt4o配置均衡，價格合理，效能符合預算。BuildMate主機板過於高階，顯示卡效能不符價格。\\n', additional_kwargs={}, response_metadata={}), HumanMessage(content='Agent3: [對gpt4o評價]: 9\\n[對BuildMate評價]: 6\\n[簡短原因]: gpt4o性價比高，符合需求和預算。BuildMate主機板選擇過高，記憶體規格不適合Intel平台，顯示卡效能低落。\\n', additional_kwargs={}, response_metadata={}), HumanMessage(content='Coordinator: 已達成共識，gpt4o較佳。配置均衡、價格合理，符合需求且性價比高，反觀BuildMate主機板與CPU搭配不合理，顯示卡效能低落。\\n', additional_kwargs={}, response_metadata={}), HumanMessage(content='Agent1: [對gpt4o評價]: 7\\n[對BuildMate評價]: 4\\n[簡短原因]: gpt4o性價比高，整體均衡。BuildMate CPU與主機板搭配溢價嚴重，顯示卡效能不足。\\n', additional_kwargs={}, response_metadata={}), HumanMessage(content='Agent2: [對gpt4o評價]: 9\\n[對BuildMate評價]: 4\\n[簡短原因]: gpt4o配置均衡，性價比極高。BuildMate主機板CPU高階低配，顯示卡效能差，記憶體溢價。\\n', additional_kwargs={}, response_metadata={}), HumanMessage(content='Agent3: [對gpt4o評價]: 9\\n[對BuildMate評價]: 4\\n[簡短原因]: gpt4o性價比高，符合需求和預算。BuildMate主機板CPU搭配不合理，記憶體規格與價格不符，顯示卡效能低。\\n', additional_kwargs={}, response_metadata={}), HumanMessage(content='Coordinator: 已達成共識，gpt4o較佳。價格更低且效能均衡，符合預算與需求。BuildMate則CPU與主機板搭配不合理，記憶體規格與價格不符，顯示卡效能相對低落。\\n', additional_kwargs={}, response_metadata={})], 'next_agent': '__end__', 'question_id': 2, 'question': '有推薦的組合嗎？預算大概在50000元，要能處理攝影後製和輕遊戲，如：軒轅劍7。', 'gpt4o_recommendation': 'CPU: AMD Ryzen 5 5600X | price: 5990\\nMotherboard: 華碩 TUF GAMING B550M-PLUS (Wi-Fi) | price: 3990\\nMemory: Corsair Vengeance LPX 16GB (2 x 8GB) DDR4-3200 | price: 1990\\nGPU: NVIDIA GeForce GTX 1660 Super | price: 7490\\nStorage: Samsung 970 EVO Plus 500GB NVMe M.2 | price: 1890\\nPower Supply: Seasonic Focus GX-650 (650W) | price: 2990\\nCase: Cooler Master MasterBox Q300L | price: 1290\\nCase Fan: Noctua NF-P12 redux-1700 PWM | price: 790\\n總價: 26420', 'buildmate_recommendation': 'CPU: Intel i7-14700F | price: 9700\\nMotherboard: 華碩 PRO WS W680-ACE | price: 9990\\nMemory: 威剛 32GB(雙通16GB*2) DDR5 6000 XPG Lancer Blade(矮版散熱片)/CL48黑【雙參數】 | price: 2699\\nGPU: Acer Nitro Intel ARC B580 OC 12GB | price: 8690\\nStorage: 威剛 Ultimate SU800 512G/2.5吋/讀:560M/寫:520M/TLC/DRAM快取/SMI/台灣製【五年】 | price: 1499\\nPower Supply: Antec HCG1000(1000W)雙8/金牌/全模/全日系/智慧溫控風扇/10年保 | price: 3990\\nCase: 銀欣 RL08 紅黑 | price: 1290\\nCase Fan: Acer Predator Frostblade 120 風扇 | price: 390\\n總價: 38248', 'agent_scores': {'Agent1_round1': {'gpt4o_score': 7, 'buildmate_score': 4, 'reason': 'gpt4o均衡，價格合理。BuildMate主機板與CPU搭配不合理，記憶體與顯示卡選擇不佳。'}, 'Agent2_round1': {'gpt4o_score': 8, 'buildmate_score': 5, 'reason': 'gpt4o配置均衡，價格合理，效能符合預算。BuildMate主機板過於高階，顯示卡效能不符價格。'}, 'Agent3_round1': {'gpt4o_score': 9, 'buildmate_score': 6, 'reason': 'gpt4o性價比高，符合需求和預算。BuildMate主機板選擇過高，記憶體規格不適合Intel平台，顯示卡效能低落。'}, 'Agent1_round2': {'gpt4o_score': 7, 'buildmate_score': 4, 'reason': 'gpt4o性價比高，整體均衡。BuildMate CPU與主機板搭配溢價嚴重，顯示卡效能不足。'}, 'Agent2_round2': {'gpt4o_score': 9, 'buildmate_score': 4, 'reason': 'gpt4o配置均衡，性價比極高。BuildMate主機板CPU高階低配，顯示卡效能差，記憶體溢價。'}, 'Agent3_round2': {'gpt4o_score': 9, 'buildmate_score': 4, 'reason': 'gpt4o性價比高，符合需求和預算。BuildMate主機板CPU搭配不合理，記憶體規格與價格不符，顯示卡效能低。'}}, 'round_count': 2, 'max_rounds': 3, 'consensus_reached': True}}\n",
      "{\n",
      "  \"question_id\": 2,\n",
      "  \"question\": \"有推薦的組合嗎？預算大概在50000元，要能處理攝影後製和輕遊戲，如：軒轅劍7。\",\n",
      "  \"buildmate_recommendation\": \"CPU: Intel i7-14700F | price: 9700\\nMotherboard: 華碩 PRO WS W680-ACE | price: 9990\\nMemory: 威剛 32GB(雙通16GB*2) DDR5 6000 XPG Lancer Blade(矮版散熱片)/CL48黑【雙參數】 | price: 2699\\nGPU: Acer Nitro Intel ARC B580 OC 12GB | price: 8690\\nStorage: 威剛 Ultimate SU800 512G/2.5吋/讀:560M/寫:520M/TLC/DRAM快取/SMI/台灣製【五年】 | price: 1499\\nPower Supply: Antec HCG1000(1000W)雙8/金牌/全模/全日系/智慧溫控風扇/10年保 | price: 3990\\nCase: 銀欣 RL08 紅黑 | price: 1290\\nCase Fan: Acer Predator Frostblade 120 風扇 | price: 390\\n總價: 38248\",\n",
      "  \"gpt4o_recommendation\": \"CPU: AMD Ryzen 5 5600X | price: 5990\\nMotherboard: 華碩 TUF GAMING B550M-PLUS (Wi-Fi) | price: 3990\\nMemory: Corsair Vengeance LPX 16GB (2 x 8GB) DDR4-3200 | price: 1990\\nGPU: NVIDIA GeForce GTX 1660 Super | price: 7490\\nStorage: Samsung 970 EVO Plus 500GB NVMe M.2 | price: 1890\\nPower Supply: Seasonic Focus GX-650 (650W) | price: 2990\\nCase: Cooler Master MasterBox Q300L | price: 1290\\nCase Fan: Noctua NF-P12 redux-1700 PWM | price: 790\\n總價: 26420\",\n",
      "  \"winner\": 0,\n",
      "  \"buildmate_avg_score\": 4.5,\n",
      "  \"gpt4o_avg_score\": 8.166666666666666,\n",
      "  \"rounds\": [\n",
      "    {\n",
      "      \"round_number\": 1,\n",
      "      \"Agent1\": {\n",
      "        \"gpt4o_score\": 7,\n",
      "        \"buildmate_score\": 4,\n",
      "        \"reason\": \"gpt4o均衡，價格合理。BuildMate主機板與CPU搭配不合理，記憶體與顯示卡選擇不佳。\"\n",
      "      },\n",
      "      \"Agent2\": {\n",
      "        \"gpt4o_score\": 8,\n",
      "        \"buildmate_score\": 5,\n",
      "        \"reason\": \"gpt4o配置均衡，價格合理，效能符合預算。BuildMate主機板過於高階，顯示卡效能不符價格。\"\n",
      "      },\n",
      "      \"Agent3\": {\n",
      "        \"gpt4o_score\": 9,\n",
      "        \"buildmate_score\": 6,\n",
      "        \"reason\": \"gpt4o性價比高，符合需求和預算。BuildMate主機板選擇過高，記憶體規格不適合Intel平台，顯示卡效能低落。\"\n",
      "      }\n",
      "    },\n",
      "    {\n",
      "      \"round_number\": 2,\n",
      "      \"Agent1\": {\n",
      "        \"gpt4o_score\": 7,\n",
      "        \"buildmate_score\": 4,\n",
      "        \"reason\": \"gpt4o性價比高，整體均衡。BuildMate CPU與主機板搭配溢價嚴重，顯示卡效能不足。\"\n",
      "      },\n",
      "      \"Agent2\": {\n",
      "        \"gpt4o_score\": 9,\n",
      "        \"buildmate_score\": 4,\n",
      "        \"reason\": \"gpt4o配置均衡，性價比極高。BuildMate主機板CPU高階低配，顯示卡效能差，記憶體溢價。\"\n",
      "      },\n",
      "      \"Agent3\": {\n",
      "        \"gpt4o_score\": 9,\n",
      "        \"buildmate_score\": 4,\n",
      "        \"reason\": \"gpt4o性價比高，符合需求和預算。BuildMate主機板CPU搭配不合理，記憶體規格與價格不符，顯示卡效能低。\"\n",
      "      }\n",
      "    }\n",
      "  ]\n",
      "}\n"
     ]
    },
    {
     "data": {
      "text/html": [
       "<pre style=\"white-space:pre;overflow-x:auto;line-height:normal;font-family:Menlo,'DejaVu Sans Mono',consolas,'Courier New',monospace\"><span style=\"font-weight: bold\">{</span>\n",
       "    <span style=\"color: #008000; text-decoration-color: #008000\">'question_id'</span>: <span style=\"color: #008080; text-decoration-color: #008080; font-weight: bold\">3</span>,\n",
       "    <span style=\"color: #008000; text-decoration-color: #008000\">'question'</span>: <span style=\"color: #008000; text-decoration-color: #008000\">'碩士生研究用的電腦，預算約70000元，需要跑深度學習模型，有沒有建議配置？'</span>,\n",
       "    <span style=\"color: #008000; text-decoration-color: #008000\">'gpt4o_recommendation'</span>: <span style=\"color: #008000; text-decoration-color: #008000\">'CPU: AMD Ryzen 7 5800X | price: 10900\\nMotherboard: 華碩 TUF GAMING B550-PLUS | price:</span>\n",
       "<span style=\"color: #008000; text-decoration-color: #008000\">3990\\nMemory: Corsair Vengeance LPX 32GB (2 x 16GB) DDR4-3200 | price: 2990\\nGPU: NVIDIA GeForce RTX 3060 12GB | </span>\n",
       "<span style=\"color: #008000; text-decoration-color: #008000\">price: 15900\\nStorage: Samsung 970 EVO Plus 1TB NVMe M.2 | price: 3290\\nPower Supply: Seasonic Focus GX-750 (750W) </span>\n",
       "<span style=\"color: #008000; text-decoration-color: #008000\">80 PLUS Gold | price: 3990\\nCase: Cooler Master MasterBox Q300L | price: 1290\\nCase Fan: Noctua NF-P12 redux-1700 </span>\n",
       "<span style=\"color: #008000; text-decoration-color: #008000\">PWM | price: 790\\n總價: 43140'</span>,\n",
       "    <span style=\"color: #008000; text-decoration-color: #008000\">'buildmate_recommendation'</span>: <span style=\"color: #008000; text-decoration-color: #008000\">'CPU: Intel i7-14700F | price: 9700\\nMotherboard: 華碩 PRIME B760M-A D4-CSM | </span>\n",
       "<span style=\"color: #008000; text-decoration-color: #008000\">price: 3490\\nMemory: UMAX 單條32GB DDR5-6000/CL30【雙參數】 | price: 2899\\nGPU: Acer Nitro Intel ARC B580 OC 12GB |</span>\n",
       "<span style=\"color: #008000; text-decoration-color: #008000\">price: 8690\\nStorage: 美光Micron Crucial P3 Plus 1TB/Gen4 PCIe 4.0 | price: 1799\\nPower Supply: Antec </span>\n",
       "<span style=\"color: #008000; text-decoration-color: #008000\">HCG1000(1000W)雙8/金牌/全模/全日系/智慧溫控風扇/10年保 | price: 3990\\nCase: 華碩 Prime AP201 TG 黑 | price: </span>\n",
       "<span style=\"color: #008000; text-decoration-color: #008000\">1990\\nCase Fan: MSI MEG SILENT GALE P12 靜音風扇 /HDB軸承/2000RPM/抗震襯墊/PWM/六年保 | price: 790\\n總價: 33348'</span>\n",
       "<span style=\"font-weight: bold\">}</span>\n",
       "</pre>\n"
      ],
      "text/plain": [
       "\u001b[1m{\u001b[0m\n",
       "    \u001b[32m'question_id'\u001b[0m: \u001b[1;36m3\u001b[0m,\n",
       "    \u001b[32m'question'\u001b[0m: \u001b[32m'碩士生研究用的電腦，預算約70000元，需要跑深度學習模型，有沒有建議配置？'\u001b[0m,\n",
       "    \u001b[32m'gpt4o_recommendation'\u001b[0m: \u001b[32m'CPU: AMD Ryzen 7 5800X | price: 10900\\nMotherboard: 華碩 TUF GAMING B550-PLUS | price:\u001b[0m\n",
       "\u001b[32m3990\\nMemory: Corsair Vengeance LPX 32GB \u001b[0m\u001b[32m(\u001b[0m\u001b[32m2 x 16GB\u001b[0m\u001b[32m)\u001b[0m\u001b[32m DDR4-3200 | price: 2990\\nGPU: NVIDIA GeForce RTX 3060 12GB | \u001b[0m\n",
       "\u001b[32mprice: 15900\\nStorage: Samsung 970 EVO Plus 1TB NVMe M.2 | price: 3290\\nPower Supply: Seasonic Focus GX-750 \u001b[0m\u001b[32m(\u001b[0m\u001b[32m750W\u001b[0m\u001b[32m)\u001b[0m\u001b[32m \u001b[0m\n",
       "\u001b[32m80 PLUS Gold | price: 3990\\nCase: Cooler Master MasterBox Q300L | price: 1290\\nCase Fan: Noctua NF-P12 redux-1700 \u001b[0m\n",
       "\u001b[32mPWM | price: 790\\n總價: 43140'\u001b[0m,\n",
       "    \u001b[32m'buildmate_recommendation'\u001b[0m: \u001b[32m'CPU: Intel i7-14700F | price: 9700\\nMotherboard: 華碩 PRIME B760M-A D4-CSM | \u001b[0m\n",
       "\u001b[32mprice: 3490\\nMemory: UMAX 單條32GB DDR5-6000/CL30【雙參數】 | price: 2899\\nGPU: Acer Nitro Intel ARC B580 OC 12GB |\u001b[0m\n",
       "\u001b[32mprice: 8690\\nStorage: 美光Micron Crucial P3 Plus 1TB/Gen4 PCIe 4.0 | price: 1799\\nPower Supply: Antec \u001b[0m\n",
       "\u001b[32mHCG1000\u001b[0m\u001b[32m(\u001b[0m\u001b[32m1000W\u001b[0m\u001b[32m)\u001b[0m\u001b[32m雙8/金牌/全模/全日系/智慧溫控風扇/10年保 | price: 3990\\nCase: 華碩 Prime AP201 TG 黑 | price: \u001b[0m\n",
       "\u001b[32m1990\\nCase Fan: MSI MEG SILENT GALE P12 靜音風扇 /HDB軸承/2000RPM/抗震襯墊/PWM/六年保 | price: 790\\n總價: 33348'\u001b[0m\n",
       "\u001b[1m}\u001b[0m\n"
      ]
     },
     "metadata": {},
     "output_type": "display_data"
    },
    {
     "data": {
      "text/html": [
       "<pre style=\"white-space:pre;overflow-x:auto;line-height:normal;font-family:Menlo,'DejaVu Sans Mono',consolas,'Courier New',monospace\">Agent1: <span style=\"font-weight: bold\">[</span>對gpt4o評價<span style=\"font-weight: bold\">]</span>: <span style=\"color: #008080; text-decoration-color: #008080; font-weight: bold\">7</span>\n",
       "<span style=\"font-weight: bold\">[</span>對BuildMate評價<span style=\"font-weight: bold\">]</span>: <span style=\"color: #008080; text-decoration-color: #008080; font-weight: bold\">6</span>\n",
       "<span style=\"font-weight: bold\">[</span>簡短原因<span style=\"font-weight: bold\">]</span>: gpt4o配置均衡效能佳；BuildMate選用ARC顯卡，深度學習支援度和效能待考量。\n",
       "\n",
       "</pre>\n"
      ],
      "text/plain": [
       "Agent1: \u001b[1m[\u001b[0m對gpt4o評價\u001b[1m]\u001b[0m: \u001b[1;36m7\u001b[0m\n",
       "\u001b[1m[\u001b[0m對BuildMate評價\u001b[1m]\u001b[0m: \u001b[1;36m6\u001b[0m\n",
       "\u001b[1m[\u001b[0m簡短原因\u001b[1m]\u001b[0m: gpt4o配置均衡效能佳；BuildMate選用ARC顯卡，深度學習支援度和效能待考量。\n",
       "\n"
      ]
     },
     "metadata": {},
     "output_type": "display_data"
    },
    {
     "name": "stdout",
     "output_type": "stream",
     "text": [
      "======\n"
     ]
    },
    {
     "data": {
      "text/html": [
       "<pre style=\"white-space:pre;overflow-x:auto;line-height:normal;font-family:Menlo,'DejaVu Sans Mono',consolas,'Courier New',monospace\">Agent2: <span style=\"font-weight: bold\">[</span>對gpt4o評價<span style=\"font-weight: bold\">]</span>: <span style=\"color: #008080; text-decoration-color: #008080; font-weight: bold\">7</span>\n",
       "<span style=\"font-weight: bold\">[</span>對BuildMate評價<span style=\"font-weight: bold\">]</span>: <span style=\"color: #008080; text-decoration-color: #008080; font-weight: bold\">5</span>\n",
       "<span style=\"font-weight: bold\">[</span>簡短原因<span style=\"font-weight: bold\">]</span>: gpt4o的RTX3060深度學習支援較佳；BuildMate的ARC B580驅動及效能尚待驗證。\n",
       "\n",
       "</pre>\n"
      ],
      "text/plain": [
       "Agent2: \u001b[1m[\u001b[0m對gpt4o評價\u001b[1m]\u001b[0m: \u001b[1;36m7\u001b[0m\n",
       "\u001b[1m[\u001b[0m對BuildMate評價\u001b[1m]\u001b[0m: \u001b[1;36m5\u001b[0m\n",
       "\u001b[1m[\u001b[0m簡短原因\u001b[1m]\u001b[0m: gpt4o的RTX3060深度學習支援較佳；BuildMate的ARC B580驅動及效能尚待驗證。\n",
       "\n"
      ]
     },
     "metadata": {},
     "output_type": "display_data"
    },
    {
     "name": "stdout",
     "output_type": "stream",
     "text": [
      "======\n"
     ]
    },
    {
     "data": {
      "text/html": [
       "<pre style=\"white-space:pre;overflow-x:auto;line-height:normal;font-family:Menlo,'DejaVu Sans Mono',consolas,'Courier New',monospace\">Agent3: <span style=\"font-weight: bold\">[</span>對gpt4o評價<span style=\"font-weight: bold\">]</span>: <span style=\"color: #008080; text-decoration-color: #008080; font-weight: bold\">8</span>\n",
       "<span style=\"font-weight: bold\">[</span>對BuildMate評價<span style=\"font-weight: bold\">]</span>: <span style=\"color: #008080; text-decoration-color: #008080; font-weight: bold\">6</span>\n",
       "<span style=\"font-weight: bold\">[</span>簡短原因<span style=\"font-weight: bold\">]</span>: <span style=\"color: #800080; text-decoration-color: #800080; font-weight: bold\">gpt4o在深度學習GPU選擇</span><span style=\"font-weight: bold\">(</span>RTX3060<span style=\"font-weight: bold\">)</span>與價格上更佳;BuildMate的ARC B580深度學習支援度較低。\n",
       "\n",
       "</pre>\n"
      ],
      "text/plain": [
       "Agent3: \u001b[1m[\u001b[0m對gpt4o評價\u001b[1m]\u001b[0m: \u001b[1;36m8\u001b[0m\n",
       "\u001b[1m[\u001b[0m對BuildMate評價\u001b[1m]\u001b[0m: \u001b[1;36m6\u001b[0m\n",
       "\u001b[1m[\u001b[0m簡短原因\u001b[1m]\u001b[0m: \u001b[1;35mgpt4o在深度學習GPU選擇\u001b[0m\u001b[1m(\u001b[0mRTX3060\u001b[1m)\u001b[0m與價格上更佳;BuildMate的ARC B580深度學習支援度較低。\n",
       "\n"
      ]
     },
     "metadata": {},
     "output_type": "display_data"
    },
    {
     "name": "stdout",
     "output_type": "stream",
     "text": [
      "======\n"
     ]
    },
    {
     "data": {
      "text/html": [
       "<pre style=\"white-space:pre;overflow-x:auto;line-height:normal;font-family:Menlo,'DejaVu Sans Mono',consolas,'Courier New',monospace\">Coordinator: 已達成共識， gpt4o較佳。考量深度學習需求，gpt4o的RTX 3060在效能和穩定性上勝過BuildMate的ARC \n",
       "B580，雖然價格略高，但在預算內且更符合需求。\n",
       "\n",
       "</pre>\n"
      ],
      "text/plain": [
       "Coordinator: 已達成共識， gpt4o較佳。考量深度學習需求，gpt4o的RTX 3060在效能和穩定性上勝過BuildMate的ARC \n",
       "B580，雖然價格略高，但在預算內且更符合需求。\n",
       "\n"
      ]
     },
     "metadata": {},
     "output_type": "display_data"
    },
    {
     "name": "stdout",
     "output_type": "stream",
     "text": [
      "======\n"
     ]
    },
    {
     "data": {
      "text/html": [
       "<pre style=\"white-space:pre;overflow-x:auto;line-height:normal;font-family:Menlo,'DejaVu Sans Mono',consolas,'Courier New',monospace\">Agent1: <span style=\"font-weight: bold\">[</span>對gpt4o評價<span style=\"font-weight: bold\">]</span>: <span style=\"color: #008080; text-decoration-color: #008080; font-weight: bold\">8</span>\n",
       "<span style=\"font-weight: bold\">[</span>對BuildMate評價<span style=\"font-weight: bold\">]</span>: <span style=\"color: #008080; text-decoration-color: #008080; font-weight: bold\">6</span>\n",
       "<span style=\"font-weight: bold\">[</span>簡短原因<span style=\"font-weight: bold\">]</span>: gpt4o的RTX 3060和成熟平台更穩定; BuildMate的DDR5和高功率電源增加不穩定風險。\n",
       "\n",
       "</pre>\n"
      ],
      "text/plain": [
       "Agent1: \u001b[1m[\u001b[0m對gpt4o評價\u001b[1m]\u001b[0m: \u001b[1;36m8\u001b[0m\n",
       "\u001b[1m[\u001b[0m對BuildMate評價\u001b[1m]\u001b[0m: \u001b[1;36m6\u001b[0m\n",
       "\u001b[1m[\u001b[0m簡短原因\u001b[1m]\u001b[0m: gpt4o的RTX 3060和成熟平台更穩定; BuildMate的DDR5和高功率電源增加不穩定風險。\n",
       "\n"
      ]
     },
     "metadata": {},
     "output_type": "display_data"
    },
    {
     "name": "stdout",
     "output_type": "stream",
     "text": [
      "======\n"
     ]
    },
    {
     "data": {
      "text/html": [
       "<pre style=\"white-space:pre;overflow-x:auto;line-height:normal;font-family:Menlo,'DejaVu Sans Mono',consolas,'Courier New',monospace\">Agent2: <span style=\"font-weight: bold\">[</span>對gpt4o評價<span style=\"font-weight: bold\">]</span>: <span style=\"color: #008080; text-decoration-color: #008080; font-weight: bold\">7</span>\n",
       "<span style=\"font-weight: bold\">[</span>對BuildMate評價<span style=\"font-weight: bold\">]</span>: <span style=\"color: #008080; text-decoration-color: #008080; font-weight: bold\">6</span>\n",
       "<span style=\"font-weight: bold\">[</span>簡短原因<span style=\"font-weight: bold\">]</span>: gpt4o成熟穩定，效能釋放較佳;BuildMate的DDR5平台和高功率電源在深度學習應用中效益不明顯，且有相容性風險。\n",
       "\n",
       "</pre>\n"
      ],
      "text/plain": [
       "Agent2: \u001b[1m[\u001b[0m對gpt4o評價\u001b[1m]\u001b[0m: \u001b[1;36m7\u001b[0m\n",
       "\u001b[1m[\u001b[0m對BuildMate評價\u001b[1m]\u001b[0m: \u001b[1;36m6\u001b[0m\n",
       "\u001b[1m[\u001b[0m簡短原因\u001b[1m]\u001b[0m: gpt4o成熟穩定，效能釋放較佳;BuildMate的DDR5平台和高功率電源在深度學習應用中效益不明顯，且有相容性風險。\n",
       "\n"
      ]
     },
     "metadata": {},
     "output_type": "display_data"
    },
    {
     "name": "stdout",
     "output_type": "stream",
     "text": [
      "======\n"
     ]
    },
    {
     "data": {
      "text/html": [
       "<pre style=\"white-space:pre;overflow-x:auto;line-height:normal;font-family:Menlo,'DejaVu Sans Mono',consolas,'Courier New',monospace\">Agent3: Agent3: <span style=\"font-weight: bold\">[</span>對gpt4o評價<span style=\"font-weight: bold\">]</span>: <span style=\"color: #008080; text-decoration-color: #008080; font-weight: bold\">8</span>\n",
       "<span style=\"font-weight: bold\">[</span>對BuildMate評價<span style=\"font-weight: bold\">]</span>: <span style=\"color: #008080; text-decoration-color: #008080; font-weight: bold\">6</span>\n",
       "<span style=\"font-weight: bold\">[</span>簡短原因<span style=\"font-weight: bold\">]</span>: gpt4o的RTX 3060深度學習支援度較佳，整體配置更均衡;BuildMate的ARC \n",
       "B580驅動和生態系尚待成熟，高頻DDR5效益有限。\n",
       "\n",
       "</pre>\n"
      ],
      "text/plain": [
       "Agent3: Agent3: \u001b[1m[\u001b[0m對gpt4o評價\u001b[1m]\u001b[0m: \u001b[1;36m8\u001b[0m\n",
       "\u001b[1m[\u001b[0m對BuildMate評價\u001b[1m]\u001b[0m: \u001b[1;36m6\u001b[0m\n",
       "\u001b[1m[\u001b[0m簡短原因\u001b[1m]\u001b[0m: gpt4o的RTX 3060深度學習支援度較佳，整體配置更均衡;BuildMate的ARC \n",
       "B580驅動和生態系尚待成熟，高頻DDR5效益有限。\n",
       "\n"
      ]
     },
     "metadata": {},
     "output_type": "display_data"
    },
    {
     "name": "stdout",
     "output_type": "stream",
     "text": [
      "======\n"
     ]
    },
    {
     "data": {
      "text/html": [
       "<pre style=\"white-space:pre;overflow-x:auto;line-height:normal;font-family:Menlo,'DejaVu Sans Mono',consolas,'Courier New',monospace\">Coordinator: 已達成共識，gpt4o較佳。gpt4o在深度學習GPU的選擇 <span style=\"font-weight: bold\">(</span>RTX <span style=\"color: #008080; text-decoration-color: #008080; font-weight: bold\">3060</span><span style=\"font-weight: bold\">)</span> 上較ARC \n",
       "B580更為成熟穩定，效能表現更佳，整體配置更符合深度學習需求。\n",
       "\n",
       "</pre>\n"
      ],
      "text/plain": [
       "Coordinator: 已達成共識，gpt4o較佳。gpt4o在深度學習GPU的選擇 \u001b[1m(\u001b[0mRTX \u001b[1;36m3060\u001b[0m\u001b[1m)\u001b[0m 上較ARC \n",
       "B580更為成熟穩定，效能表現更佳，整體配置更符合深度學習需求。\n",
       "\n"
      ]
     },
     "metadata": {},
     "output_type": "display_data"
    },
    {
     "name": "stdout",
     "output_type": "stream",
     "text": [
      "======\n",
      "{'Coordinator': {'messages': [HumanMessage(content='Agent1: [對gpt4o評價]: 7\\n[對BuildMate評價]: 6\\n[簡短原因]: gpt4o配置均衡效能佳；BuildMate選用ARC顯卡，深度學習支援度和效能待考量。\\n', additional_kwargs={}, response_metadata={}), HumanMessage(content='Agent2: [對gpt4o評價]: 7\\n[對BuildMate評價]: 5\\n[簡短原因]: gpt4o的RTX3060深度學習支援較佳；BuildMate的ARC B580驅動及效能尚待驗證。\\n', additional_kwargs={}, response_metadata={}), HumanMessage(content='Agent3: [對gpt4o評價]: 8\\n[對BuildMate評價]: 6\\n[簡短原因]: gpt4o在深度學習GPU選擇(RTX3060)與價格上更佳;BuildMate的ARC B580深度學習支援度較低。\\n', additional_kwargs={}, response_metadata={}), HumanMessage(content='Coordinator: 已達成共識， gpt4o較佳。考量深度學習需求，gpt4o的RTX 3060在效能和穩定性上勝過BuildMate的ARC B580，雖然價格略高，但在預算內且更符合需求。\\n', additional_kwargs={}, response_metadata={}), HumanMessage(content='Agent1: [對gpt4o評價]: 8\\n[對BuildMate評價]: 6\\n[簡短原因]: gpt4o的RTX 3060和成熟平台更穩定; BuildMate的DDR5和高功率電源增加不穩定風險。\\n', additional_kwargs={}, response_metadata={}), HumanMessage(content='Agent2: [對gpt4o評價]: 7\\n[對BuildMate評價]: 6\\n[簡短原因]: gpt4o成熟穩定，效能釋放較佳;BuildMate的DDR5平台和高功率電源在深度學習應用中效益不明顯，且有相容性風險。\\n', additional_kwargs={}, response_metadata={}), HumanMessage(content='Agent3: Agent3: [對gpt4o評價]: 8\\n[對BuildMate評價]: 6\\n[簡短原因]: gpt4o的RTX 3060深度學習支援度較佳，整體配置更均衡;BuildMate的ARC B580驅動和生態系尚待成熟，高頻DDR5效益有限。\\n', additional_kwargs={}, response_metadata={}), HumanMessage(content='Coordinator: 已達成共識，gpt4o較佳。gpt4o在深度學習GPU的選擇 (RTX 3060) 上較ARC B580更為成熟穩定，效能表現更佳，整體配置更符合深度學習需求。\\n', additional_kwargs={}, response_metadata={})], 'next_agent': '__end__', 'question_id': 3, 'question': '碩士生研究用的電腦，預算約70000元，需要跑深度學習模型，有沒有建議配置？', 'gpt4o_recommendation': 'CPU: AMD Ryzen 7 5800X | price: 10900\\nMotherboard: 華碩 TUF GAMING B550-PLUS | price: 3990\\nMemory: Corsair Vengeance LPX 32GB (2 x 16GB) DDR4-3200 | price: 2990\\nGPU: NVIDIA GeForce RTX 3060 12GB | price: 15900\\nStorage: Samsung 970 EVO Plus 1TB NVMe M.2 | price: 3290\\nPower Supply: Seasonic Focus GX-750 (750W) 80 PLUS Gold | price: 3990\\nCase: Cooler Master MasterBox Q300L | price: 1290\\nCase Fan: Noctua NF-P12 redux-1700 PWM | price: 790\\n總價: 43140', 'buildmate_recommendation': 'CPU: Intel i7-14700F | price: 9700\\nMotherboard: 華碩 PRIME B760M-A D4-CSM | price: 3490\\nMemory: UMAX 單條32GB DDR5-6000/CL30【雙參數】 | price: 2899\\nGPU: Acer Nitro Intel ARC B580 OC 12GB | price: 8690\\nStorage: 美光Micron Crucial P3 Plus 1TB/Gen4 PCIe 4.0 | price: 1799\\nPower Supply: Antec HCG1000(1000W)雙8/金牌/全模/全日系/智慧溫控風扇/10年保 | price: 3990\\nCase: 華碩 Prime AP201 TG 黑 | price: 1990\\nCase Fan: MSI MEG SILENT GALE P12 靜音風扇 /HDB軸承/2000RPM/抗震襯墊/PWM/六年保 | price: 790\\n總價: 33348', 'agent_scores': {'Agent1_round1': {'gpt4o_score': 7, 'buildmate_score': 6, 'reason': 'gpt4o配置均衡效能佳；BuildMate選用ARC顯卡，深度學習支援度和效能待考量。'}, 'Agent2_round1': {'gpt4o_score': 7, 'buildmate_score': 5, 'reason': 'gpt4o的RTX3060深度學習支援較佳；BuildMate的ARC B580驅動及效能尚待驗證。'}, 'Agent3_round1': {'gpt4o_score': 8, 'buildmate_score': 6, 'reason': 'gpt4o在深度學習GPU選擇(RTX3060)與價格上更佳;BuildMate的ARC B580深度學習支援度較低。'}, 'Agent1_round2': {'gpt4o_score': 8, 'buildmate_score': 6, 'reason': 'gpt4o的RTX 3060和成熟平台更穩定; BuildMate的DDR5和高功率電源增加不穩定風險。'}, 'Agent2_round2': {'gpt4o_score': 7, 'buildmate_score': 6, 'reason': 'gpt4o成熟穩定，效能釋放較佳;BuildMate的DDR5平台和高功率電源在深度學習應用中效益不明顯，且有相容性風險。'}, 'Agent3_round2': {'gpt4o_score': 8, 'buildmate_score': 6, 'reason': 'gpt4o的RTX 3060深度學習支援度較佳，整體配置更均衡;BuildMate的ARC B580驅動和生態系尚待成熟，高頻DDR5效益有限。'}}, 'round_count': 2, 'max_rounds': 3, 'consensus_reached': True}}\n",
      "{\n",
      "  \"question_id\": 3,\n",
      "  \"question\": \"碩士生研究用的電腦，預算約70000元，需要跑深度學習模型，有沒有建議配置？\",\n",
      "  \"buildmate_recommendation\": \"CPU: Intel i7-14700F | price: 9700\\nMotherboard: 華碩 PRIME B760M-A D4-CSM | price: 3490\\nMemory: UMAX 單條32GB DDR5-6000/CL30【雙參數】 | price: 2899\\nGPU: Acer Nitro Intel ARC B580 OC 12GB | price: 8690\\nStorage: 美光Micron Crucial P3 Plus 1TB/Gen4 PCIe 4.0 | price: 1799\\nPower Supply: Antec HCG1000(1000W)雙8/金牌/全模/全日系/智慧溫控風扇/10年保 | price: 3990\\nCase: 華碩 Prime AP201 TG 黑 | price: 1990\\nCase Fan: MSI MEG SILENT GALE P12 靜音風扇 /HDB軸承/2000RPM/抗震襯墊/PWM/六年保 | price: 790\\n總價: 33348\",\n",
      "  \"gpt4o_recommendation\": \"CPU: AMD Ryzen 7 5800X | price: 10900\\nMotherboard: 華碩 TUF GAMING B550-PLUS | price: 3990\\nMemory: Corsair Vengeance LPX 32GB (2 x 16GB) DDR4-3200 | price: 2990\\nGPU: NVIDIA GeForce RTX 3060 12GB | price: 15900\\nStorage: Samsung 970 EVO Plus 1TB NVMe M.2 | price: 3290\\nPower Supply: Seasonic Focus GX-750 (750W) 80 PLUS Gold | price: 3990\\nCase: Cooler Master MasterBox Q300L | price: 1290\\nCase Fan: Noctua NF-P12 redux-1700 PWM | price: 790\\n總價: 43140\",\n",
      "  \"winner\": 0,\n",
      "  \"buildmate_avg_score\": 5.833333333333333,\n",
      "  \"gpt4o_avg_score\": 7.5,\n",
      "  \"rounds\": [\n",
      "    {\n",
      "      \"round_number\": 1,\n",
      "      \"Agent1\": {\n",
      "        \"gpt4o_score\": 7,\n",
      "        \"buildmate_score\": 6,\n",
      "        \"reason\": \"gpt4o配置均衡效能佳；BuildMate選用ARC顯卡，深度學習支援度和效能待考量。\"\n",
      "      },\n",
      "      \"Agent2\": {\n",
      "        \"gpt4o_score\": 7,\n",
      "        \"buildmate_score\": 5,\n",
      "        \"reason\": \"gpt4o的RTX3060深度學習支援較佳；BuildMate的ARC B580驅動及效能尚待驗證。\"\n",
      "      },\n",
      "      \"Agent3\": {\n",
      "        \"gpt4o_score\": 8,\n",
      "        \"buildmate_score\": 6,\n",
      "        \"reason\": \"gpt4o在深度學習GPU選擇(RTX3060)與價格上更佳;BuildMate的ARC B580深度學習支援度較低。\"\n",
      "      }\n",
      "    },\n",
      "    {\n",
      "      \"round_number\": 2,\n",
      "      \"Agent1\": {\n",
      "        \"gpt4o_score\": 8,\n",
      "        \"buildmate_score\": 6,\n",
      "        \"reason\": \"gpt4o的RTX 3060和成熟平台更穩定; BuildMate的DDR5和高功率電源增加不穩定風險。\"\n",
      "      },\n",
      "      \"Agent2\": {\n",
      "        \"gpt4o_score\": 7,\n",
      "        \"buildmate_score\": 6,\n",
      "        \"reason\": \"gpt4o成熟穩定，效能釋放較佳;BuildMate的DDR5平台和高功率電源在深度學習應用中效益不明顯，且有相容性風險。\"\n",
      "      },\n",
      "      \"Agent3\": {\n",
      "        \"gpt4o_score\": 8,\n",
      "        \"buildmate_score\": 6,\n",
      "        \"reason\": \"gpt4o的RTX 3060深度學習支援度較佳，整體配置更均衡;BuildMate的ARC B580驅動和生態系尚待成熟，高頻DDR5效益有限。\"\n",
      "      }\n",
      "    }\n",
      "  ]\n",
      "}\n"
     ]
    },
    {
     "data": {
      "text/html": [
       "<pre style=\"white-space:pre;overflow-x:auto;line-height:normal;font-family:Menlo,'DejaVu Sans Mono',consolas,'Courier New',monospace\"><span style=\"font-weight: bold\">{</span>\n",
       "    <span style=\"color: #008000; text-decoration-color: #008000\">'question_id'</span>: <span style=\"color: #008080; text-decoration-color: #008080; font-weight: bold\">4</span>,\n",
       "    <span style=\"color: #008000; text-decoration-color: #008000\">'question'</span>: <span style=\"color: #008000; text-decoration-color: #008000\">'預算大約30000元，尋求一台能寫報告和上網的簡易電腦，要求瀏覽器多開流暢。'</span>,\n",
       "    <span style=\"color: #008000; text-decoration-color: #008000\">'gpt4o_recommendation'</span>: <span style=\"color: #008000; text-decoration-color: #008000\">'CPU: Intel Core i3-12100 | price: 3500\\nMotherboard: 華碩 PRIME H610M-A D4 | price: </span>\n",
       "<span style=\"color: #008000; text-decoration-color: #008000\">2900\\nMemory: 威剛 單條16GB DDR4-3200 | price: 1200\\nGPU: 內建顯示核心 (Intel UHD Graphics 730) | price: </span>\n",
       "<span style=\"color: #008000; text-decoration-color: #008000\">0\\nStorage: 威剛 SU650 480GB SSD | price: 1300\\nPower Supply: Cooler Master MWE 450W 80+白牌 | price: 1200\\nCase: </span>\n",
       "<span style=\"color: #008000; text-decoration-color: #008000\">Cooler Master Q300L | price: 1200\\nCase Fan: Cooler Master SickleFlow 120 V2 | price: 400\\n總價: 11700'</span>,\n",
       "    <span style=\"color: #008000; text-decoration-color: #008000\">'buildmate_recommendation'</span>: <span style=\"color: #008000; text-decoration-color: #008000\">'CPU: Intel i5-14400F | price: 5400\\nMotherboard: 華碩 PRIME H610M-K-CSM(DDR5) | </span>\n",
       "<span style=\"color: #008000; text-decoration-color: #008000\">price: 2890\\nMemory: UMAX 單條16GB DDR5-4800/CL40 支援 XMP | price: 1150\\nGPU: INTEL 原廠 ARC B580 12G | price: </span>\n",
       "<span style=\"color: #008000; text-decoration-color: #008000\">8990\\nStorage: 威剛 Ultimate SU650 480G/2.5吋/讀:520M/寫:450M/TLC顆粒【三年保】 | price: 899\\nPower Supply: 全漢 </span>\n",
       "<span style=\"color: #008000; text-decoration-color: #008000\">HYDRO GT PRO 1000W 雙8/金牌/半模/全日系/10年保 | price: 3690\\nCase: 華碩 A21 黑 | price: 1490\\nCase Fan: 安耐美 </span>\n",
       "<span style=\"color: #008000; text-decoration-color: #008000\">靜蝠 12cm 磁力滾珠軸承 | price: 230\\n總價: 24739'</span>\n",
       "<span style=\"font-weight: bold\">}</span>\n",
       "</pre>\n"
      ],
      "text/plain": [
       "\u001b[1m{\u001b[0m\n",
       "    \u001b[32m'question_id'\u001b[0m: \u001b[1;36m4\u001b[0m,\n",
       "    \u001b[32m'question'\u001b[0m: \u001b[32m'預算大約30000元，尋求一台能寫報告和上網的簡易電腦，要求瀏覽器多開流暢。'\u001b[0m,\n",
       "    \u001b[32m'gpt4o_recommendation'\u001b[0m: \u001b[32m'CPU: Intel Core i3-12100 | price: 3500\\nMotherboard: 華碩 PRIME H610M-A D4 | price: \u001b[0m\n",
       "\u001b[32m2900\\nMemory: 威剛 單條16GB DDR4-3200 | price: 1200\\nGPU: 內建顯示核心 \u001b[0m\u001b[32m(\u001b[0m\u001b[32mIntel UHD Graphics 730\u001b[0m\u001b[32m)\u001b[0m\u001b[32m | price: \u001b[0m\n",
       "\u001b[32m0\\nStorage: 威剛 SU650 480GB SSD | price: 1300\\nPower Supply: Cooler Master MWE 450W 80+白牌 | price: 1200\\nCase: \u001b[0m\n",
       "\u001b[32mCooler Master Q300L | price: 1200\\nCase Fan: Cooler Master SickleFlow 120 V2 | price: 400\\n總價: 11700'\u001b[0m,\n",
       "    \u001b[32m'buildmate_recommendation'\u001b[0m: \u001b[32m'CPU: Intel i5-14400F | price: 5400\\nMotherboard: 華碩 PRIME H610M-K-CSM\u001b[0m\u001b[32m(\u001b[0m\u001b[32mDDR5\u001b[0m\u001b[32m)\u001b[0m\u001b[32m | \u001b[0m\n",
       "\u001b[32mprice: 2890\\nMemory: UMAX 單條16GB DDR5-4800/CL40 支援 XMP | price: 1150\\nGPU: INTEL 原廠 ARC B580 12G | price: \u001b[0m\n",
       "\u001b[32m8990\\nStorage: 威剛 Ultimate SU650 480G/2.5吋/讀:520M/寫:450M/TLC顆粒【三年保】 | price: 899\\nPower Supply: 全漢 \u001b[0m\n",
       "\u001b[32mHYDRO GT PRO 1000W 雙8/金牌/半模/全日系/10年保 | price: 3690\\nCase: 華碩 A21 黑 | price: 1490\\nCase Fan: 安耐美 \u001b[0m\n",
       "\u001b[32m靜蝠 12cm 磁力滾珠軸承 | price: 230\\n總價: 24739'\u001b[0m\n",
       "\u001b[1m}\u001b[0m\n"
      ]
     },
     "metadata": {},
     "output_type": "display_data"
    },
    {
     "data": {
      "text/html": [
       "<pre style=\"white-space:pre;overflow-x:auto;line-height:normal;font-family:Menlo,'DejaVu Sans Mono',consolas,'Courier New',monospace\">Agent1: <span style=\"font-weight: bold\">[</span>對gpt4o評價<span style=\"font-weight: bold\">]</span>: <span style=\"color: #008080; text-decoration-color: #008080; font-weight: bold\">8</span>\n",
       "<span style=\"font-weight: bold\">[</span>對BuildMate評價<span style=\"font-weight: bold\">]</span>: <span style=\"color: #008080; text-decoration-color: #008080; font-weight: bold\">4</span>\n",
       "<span style=\"font-weight: bold\">[</span>簡短原因<span style=\"font-weight: bold\">]</span>: gpt4o符合需求且價格合理；BuildMate過度配置，電源和顯卡選擇不當。\n",
       "\n",
       "</pre>\n"
      ],
      "text/plain": [
       "Agent1: \u001b[1m[\u001b[0m對gpt4o評價\u001b[1m]\u001b[0m: \u001b[1;36m8\u001b[0m\n",
       "\u001b[1m[\u001b[0m對BuildMate評價\u001b[1m]\u001b[0m: \u001b[1;36m4\u001b[0m\n",
       "\u001b[1m[\u001b[0m簡短原因\u001b[1m]\u001b[0m: gpt4o符合需求且價格合理；BuildMate過度配置，電源和顯卡選擇不當。\n",
       "\n"
      ]
     },
     "metadata": {},
     "output_type": "display_data"
    },
    {
     "name": "stdout",
     "output_type": "stream",
     "text": [
      "======\n"
     ]
    },
    {
     "data": {
      "text/html": [
       "<pre style=\"white-space:pre;overflow-x:auto;line-height:normal;font-family:Menlo,'DejaVu Sans Mono',consolas,'Courier New',monospace\">Agent2: <span style=\"font-weight: bold\">[</span>對gpt4o評價<span style=\"font-weight: bold\">]</span>: <span style=\"color: #008080; text-decoration-color: #008080; font-weight: bold\">10</span>\n",
       "<span style=\"font-weight: bold\">[</span>對BuildMate評價<span style=\"font-weight: bold\">]</span>: <span style=\"color: #008080; text-decoration-color: #008080; font-weight: bold\">4</span>\n",
       "<span style=\"font-weight: bold\">[</span>簡短原因<span style=\"font-weight: bold\">]</span>: gpt4o完全符合輕度使用需求，價格低廉；BuildMate效能過剩，浪費預算。\n",
       "\n",
       "</pre>\n"
      ],
      "text/plain": [
       "Agent2: \u001b[1m[\u001b[0m對gpt4o評價\u001b[1m]\u001b[0m: \u001b[1;36m10\u001b[0m\n",
       "\u001b[1m[\u001b[0m對BuildMate評價\u001b[1m]\u001b[0m: \u001b[1;36m4\u001b[0m\n",
       "\u001b[1m[\u001b[0m簡短原因\u001b[1m]\u001b[0m: gpt4o完全符合輕度使用需求，價格低廉；BuildMate效能過剩，浪費預算。\n",
       "\n"
      ]
     },
     "metadata": {},
     "output_type": "display_data"
    },
    {
     "name": "stdout",
     "output_type": "stream",
     "text": [
      "======\n"
     ]
    },
    {
     "data": {
      "text/html": [
       "<pre style=\"white-space:pre;overflow-x:auto;line-height:normal;font-family:Menlo,'DejaVu Sans Mono',consolas,'Courier New',monospace\">Agent3: <span style=\"font-weight: bold\">[</span>對gpt4o評價<span style=\"font-weight: bold\">]</span>: <span style=\"color: #008080; text-decoration-color: #008080; font-weight: bold\">10</span>\n",
       "<span style=\"font-weight: bold\">[</span>對BuildMate評價<span style=\"font-weight: bold\">]</span>: <span style=\"color: #008080; text-decoration-color: #008080; font-weight: bold\">3</span>\n",
       "<span style=\"font-weight: bold\">[</span>簡短原因<span style=\"font-weight: bold\">]</span>: gpt4o 完美符合文書需求且價格低廉；BuildMate 過度配置，不符預算及需求。\n",
       "\n",
       "</pre>\n"
      ],
      "text/plain": [
       "Agent3: \u001b[1m[\u001b[0m對gpt4o評價\u001b[1m]\u001b[0m: \u001b[1;36m10\u001b[0m\n",
       "\u001b[1m[\u001b[0m對BuildMate評價\u001b[1m]\u001b[0m: \u001b[1;36m3\u001b[0m\n",
       "\u001b[1m[\u001b[0m簡短原因\u001b[1m]\u001b[0m: gpt4o 完美符合文書需求且價格低廉；BuildMate 過度配置，不符預算及需求。\n",
       "\n"
      ]
     },
     "metadata": {},
     "output_type": "display_data"
    },
    {
     "name": "stdout",
     "output_type": "stream",
     "text": [
      "======\n"
     ]
    },
    {
     "data": {
      "text/html": [
       "<pre style=\"white-space:pre;overflow-x:auto;line-height:normal;font-family:Menlo,'DejaVu Sans Mono',consolas,'Courier New',monospace\">Coordinator: 已達成共識，gpt4o較佳。三者皆認為gpt4o符合需求且價格更低，BuildMate效能過剩、不符預算。\n",
       "\n",
       "</pre>\n"
      ],
      "text/plain": [
       "Coordinator: 已達成共識，gpt4o較佳。三者皆認為gpt4o符合需求且價格更低，BuildMate效能過剩、不符預算。\n",
       "\n"
      ]
     },
     "metadata": {},
     "output_type": "display_data"
    },
    {
     "name": "stdout",
     "output_type": "stream",
     "text": [
      "======\n"
     ]
    },
    {
     "data": {
      "text/html": [
       "<pre style=\"white-space:pre;overflow-x:auto;line-height:normal;font-family:Menlo,'DejaVu Sans Mono',consolas,'Courier New',monospace\">Agent1: <span style=\"font-weight: bold\">[</span>對gpt4o評價<span style=\"font-weight: bold\">]</span>: <span style=\"color: #008080; text-decoration-color: #008080; font-weight: bold\">9</span>\n",
       "<span style=\"font-weight: bold\">[</span>對BuildMate評價<span style=\"font-weight: bold\">]</span>: <span style=\"color: #008080; text-decoration-color: #008080; font-weight: bold\">3</span>\n",
       "<span style=\"font-weight: bold\">[</span>簡短原因<span style=\"font-weight: bold\">]</span>: gpt4o性價比高，滿足需求；BuildMate顯卡和電源過剩，不符「簡易」需求。\n",
       "\n",
       "</pre>\n"
      ],
      "text/plain": [
       "Agent1: \u001b[1m[\u001b[0m對gpt4o評價\u001b[1m]\u001b[0m: \u001b[1;36m9\u001b[0m\n",
       "\u001b[1m[\u001b[0m對BuildMate評價\u001b[1m]\u001b[0m: \u001b[1;36m3\u001b[0m\n",
       "\u001b[1m[\u001b[0m簡短原因\u001b[1m]\u001b[0m: gpt4o性價比高，滿足需求；BuildMate顯卡和電源過剩，不符「簡易」需求。\n",
       "\n"
      ]
     },
     "metadata": {},
     "output_type": "display_data"
    },
    {
     "name": "stdout",
     "output_type": "stream",
     "text": [
      "======\n"
     ]
    },
    {
     "data": {
      "text/html": [
       "<pre style=\"white-space:pre;overflow-x:auto;line-height:normal;font-family:Menlo,'DejaVu Sans Mono',consolas,'Courier New',monospace\">Agent2: <span style=\"font-weight: bold\">[</span>對gpt4o評價<span style=\"font-weight: bold\">]</span>: <span style=\"color: #008080; text-decoration-color: #008080; font-weight: bold\">10</span>\n",
       "<span style=\"font-weight: bold\">[</span>對BuildMate評價<span style=\"font-weight: bold\">]</span>: <span style=\"color: #008080; text-decoration-color: #008080; font-weight: bold\">3</span>\n",
       "<span style=\"font-weight: bold\">[</span>簡短原因<span style=\"font-weight: bold\">]</span>: gpt4o價格低且效能符合文書需求；BuildMate顯卡和電源嚴重過剩，浪費預算。\n",
       "\n",
       "</pre>\n"
      ],
      "text/plain": [
       "Agent2: \u001b[1m[\u001b[0m對gpt4o評價\u001b[1m]\u001b[0m: \u001b[1;36m10\u001b[0m\n",
       "\u001b[1m[\u001b[0m對BuildMate評價\u001b[1m]\u001b[0m: \u001b[1;36m3\u001b[0m\n",
       "\u001b[1m[\u001b[0m簡短原因\u001b[1m]\u001b[0m: gpt4o價格低且效能符合文書需求；BuildMate顯卡和電源嚴重過剩，浪費預算。\n",
       "\n"
      ]
     },
     "metadata": {},
     "output_type": "display_data"
    },
    {
     "name": "stdout",
     "output_type": "stream",
     "text": [
      "======\n"
     ]
    },
    {
     "data": {
      "text/html": [
       "<pre style=\"white-space:pre;overflow-x:auto;line-height:normal;font-family:Menlo,'DejaVu Sans Mono',consolas,'Courier New',monospace\">Agent3: Agent1: <span style=\"font-weight: bold\">[</span>對gpt4o評價<span style=\"font-weight: bold\">]</span>: <span style=\"color: #008080; text-decoration-color: #008080; font-weight: bold\">10</span>\n",
       "<span style=\"font-weight: bold\">[</span>對BuildMate評價<span style=\"font-weight: bold\">]</span>: <span style=\"color: #008080; text-decoration-color: #008080; font-weight: bold\">2</span>\n",
       "<span style=\"font-weight: bold\">[</span>簡短原因<span style=\"font-weight: bold\">]</span>: gpt4o完美符合簡易文書需求，價格合理；BuildMate過度配置，浪費預算。\n",
       "\n",
       "Agent2: <span style=\"font-weight: bold\">[</span>對gpt4o評價<span style=\"font-weight: bold\">]</span>: <span style=\"color: #008080; text-decoration-color: #008080; font-weight: bold\">10</span>\n",
       "<span style=\"font-weight: bold\">[</span>對BuildMate評價<span style=\"font-weight: bold\">]</span>: <span style=\"color: #008080; text-decoration-color: #008080; font-weight: bold\">2</span>\n",
       "<span style=\"font-weight: bold\">[</span>簡短原因<span style=\"font-weight: bold\">]</span>: gpt4o性價比極高，完全滿足需求；BuildMate高階顯卡、電源和DDR5記憶體皆屬浪費。\n",
       "\n",
       "Agent3: <span style=\"font-weight: bold\">[</span>對gpt4o評價<span style=\"font-weight: bold\">]</span>: <span style=\"color: #008080; text-decoration-color: #008080; font-weight: bold\">10</span>\n",
       "<span style=\"font-weight: bold\">[</span>對BuildMate評價<span style=\"font-weight: bold\">]</span>: <span style=\"color: #008080; text-decoration-color: #008080; font-weight: bold\">2</span>\n",
       "<span style=\"font-weight: bold\">[</span>簡短原因<span style=\"font-weight: bold\">]</span>: gpt4o精準符合需求和預算；BuildMate過度配置，顯卡、電源選擇不當。\n",
       "\n",
       "</pre>\n"
      ],
      "text/plain": [
       "Agent3: Agent1: \u001b[1m[\u001b[0m對gpt4o評價\u001b[1m]\u001b[0m: \u001b[1;36m10\u001b[0m\n",
       "\u001b[1m[\u001b[0m對BuildMate評價\u001b[1m]\u001b[0m: \u001b[1;36m2\u001b[0m\n",
       "\u001b[1m[\u001b[0m簡短原因\u001b[1m]\u001b[0m: gpt4o完美符合簡易文書需求，價格合理；BuildMate過度配置，浪費預算。\n",
       "\n",
       "Agent2: \u001b[1m[\u001b[0m對gpt4o評價\u001b[1m]\u001b[0m: \u001b[1;36m10\u001b[0m\n",
       "\u001b[1m[\u001b[0m對BuildMate評價\u001b[1m]\u001b[0m: \u001b[1;36m2\u001b[0m\n",
       "\u001b[1m[\u001b[0m簡短原因\u001b[1m]\u001b[0m: gpt4o性價比極高，完全滿足需求；BuildMate高階顯卡、電源和DDR5記憶體皆屬浪費。\n",
       "\n",
       "Agent3: \u001b[1m[\u001b[0m對gpt4o評價\u001b[1m]\u001b[0m: \u001b[1;36m10\u001b[0m\n",
       "\u001b[1m[\u001b[0m對BuildMate評價\u001b[1m]\u001b[0m: \u001b[1;36m2\u001b[0m\n",
       "\u001b[1m[\u001b[0m簡短原因\u001b[1m]\u001b[0m: gpt4o精準符合需求和預算；BuildMate過度配置，顯卡、電源選擇不當。\n",
       "\n"
      ]
     },
     "metadata": {},
     "output_type": "display_data"
    },
    {
     "name": "stdout",
     "output_type": "stream",
     "text": [
      "======\n"
     ]
    },
    {
     "data": {
      "text/html": [
       "<pre style=\"white-space:pre;overflow-x:auto;line-height:normal;font-family:Menlo,'DejaVu Sans Mono',consolas,'Courier New',monospace\">Coordinator: \n",
       "已達成共識，gpt4o較佳。三者皆認為gpt4o性價比高，符合簡易文書需求；BuildMate配置過高，尤其顯卡、電源選擇不當，浪費預\n",
       "算。\n",
       "\n",
       "</pre>\n"
      ],
      "text/plain": [
       "Coordinator: \n",
       "已達成共識，gpt4o較佳。三者皆認為gpt4o性價比高，符合簡易文書需求；BuildMate配置過高，尤其顯卡、電源選擇不當，浪費預\n",
       "算。\n",
       "\n"
      ]
     },
     "metadata": {},
     "output_type": "display_data"
    },
    {
     "name": "stdout",
     "output_type": "stream",
     "text": [
      "======\n",
      "{'Coordinator': {'messages': [HumanMessage(content='Agent1: [對gpt4o評價]: 8\\n[對BuildMate評價]: 4\\n[簡短原因]: gpt4o符合需求且價格合理；BuildMate過度配置，電源和顯卡選擇不當。\\n', additional_kwargs={}, response_metadata={}), HumanMessage(content='Agent2: [對gpt4o評價]: 10\\n[對BuildMate評價]: 4\\n[簡短原因]: gpt4o完全符合輕度使用需求，價格低廉；BuildMate效能過剩，浪費預算。\\n', additional_kwargs={}, response_metadata={}), HumanMessage(content='Agent3: [對gpt4o評價]: 10\\n[對BuildMate評價]: 3\\n[簡短原因]: gpt4o 完美符合文書需求且價格低廉；BuildMate 過度配置，不符預算及需求。\\n', additional_kwargs={}, response_metadata={}), HumanMessage(content='Coordinator: 已達成共識，gpt4o較佳。三者皆認為gpt4o符合需求且價格更低，BuildMate效能過剩、不符預算。\\n', additional_kwargs={}, response_metadata={}), HumanMessage(content='Agent1: [對gpt4o評價]: 9\\n[對BuildMate評價]: 3\\n[簡短原因]: gpt4o性價比高，滿足需求；BuildMate顯卡和電源過剩，不符「簡易」需求。\\n', additional_kwargs={}, response_metadata={}), HumanMessage(content='Agent2: [對gpt4o評價]: 10\\n[對BuildMate評價]: 3\\n[簡短原因]: gpt4o價格低且效能符合文書需求；BuildMate顯卡和電源嚴重過剩，浪費預算。\\n', additional_kwargs={}, response_metadata={}), HumanMessage(content='Agent3: Agent1: [對gpt4o評價]: 10\\n[對BuildMate評價]: 2\\n[簡短原因]: gpt4o完美符合簡易文書需求，價格合理；BuildMate過度配置，浪費預算。\\n\\nAgent2: [對gpt4o評價]: 10\\n[對BuildMate評價]: 2\\n[簡短原因]: gpt4o性價比極高，完全滿足需求；BuildMate高階顯卡、電源和DDR5記憶體皆屬浪費。\\n\\nAgent3: [對gpt4o評價]: 10\\n[對BuildMate評價]: 2\\n[簡短原因]: gpt4o精準符合需求和預算；BuildMate過度配置，顯卡、電源選擇不當。\\n', additional_kwargs={}, response_metadata={}), HumanMessage(content='Coordinator: 已達成共識，gpt4o較佳。三者皆認為gpt4o性價比高，符合簡易文書需求；BuildMate配置過高，尤其顯卡、電源選擇不當，浪費預算。\\n', additional_kwargs={}, response_metadata={})], 'next_agent': '__end__', 'question_id': 4, 'question': '預算大約30000元，尋求一台能寫報告和上網的簡易電腦，要求瀏覽器多開流暢。', 'gpt4o_recommendation': 'CPU: Intel Core i3-12100 | price: 3500\\nMotherboard: 華碩 PRIME H610M-A D4 | price: 2900\\nMemory: 威剛 單條16GB DDR4-3200 | price: 1200\\nGPU: 內建顯示核心 (Intel UHD Graphics 730) | price: 0\\nStorage: 威剛 SU650 480GB SSD | price: 1300\\nPower Supply: Cooler Master MWE 450W 80+白牌 | price: 1200\\nCase: Cooler Master Q300L | price: 1200\\nCase Fan: Cooler Master SickleFlow 120 V2 | price: 400\\n總價: 11700', 'buildmate_recommendation': 'CPU: Intel i5-14400F | price: 5400\\nMotherboard: 華碩 PRIME H610M-K-CSM(DDR5) | price: 2890\\nMemory: UMAX 單條16GB DDR5-4800/CL40 支援 XMP | price: 1150\\nGPU: INTEL 原廠 ARC B580 12G | price: 8990\\nStorage: 威剛 Ultimate SU650 480G/2.5吋/讀:520M/寫:450M/TLC顆粒【三年保】 | price: 899\\nPower Supply: 全漢 HYDRO GT PRO 1000W 雙8/金牌/半模/全日系/10年保 | price: 3690\\nCase: 華碩 A21 黑 | price: 1490\\nCase Fan: 安耐美 靜蝠 12cm 磁力滾珠軸承 | price: 230\\n總價: 24739', 'agent_scores': {'Agent1_round1': {'gpt4o_score': 8, 'buildmate_score': 4, 'reason': 'gpt4o符合需求且價格合理；BuildMate過度配置，電源和顯卡選擇不當。'}, 'Agent2_round1': {'gpt4o_score': 10, 'buildmate_score': 4, 'reason': 'gpt4o完全符合輕度使用需求，價格低廉；BuildMate效能過剩，浪費預算。'}, 'Agent3_round1': {'gpt4o_score': 10, 'buildmate_score': 3, 'reason': 'gpt4o 完美符合文書需求且價格低廉；BuildMate 過度配置，不符預算及需求。'}, 'Agent1_round2': {'gpt4o_score': 9, 'buildmate_score': 3, 'reason': 'gpt4o性價比高，滿足需求；BuildMate顯卡和電源過剩，不符「簡易」需求。'}, 'Agent2_round2': {'gpt4o_score': 10, 'buildmate_score': 3, 'reason': 'gpt4o價格低且效能符合文書需求；BuildMate顯卡和電源嚴重過剩，浪費預算。'}, 'Agent3_round2': {'gpt4o_score': 10, 'buildmate_score': 2, 'reason': 'gpt4o完美符合簡易文書需求，價格合理；BuildMate過度配置，浪費預算。'}}, 'round_count': 2, 'max_rounds': 3, 'consensus_reached': True}}\n",
      "{\n",
      "  \"question_id\": 4,\n",
      "  \"question\": \"預算大約30000元，尋求一台能寫報告和上網的簡易電腦，要求瀏覽器多開流暢。\",\n",
      "  \"buildmate_recommendation\": \"CPU: Intel i5-14400F | price: 5400\\nMotherboard: 華碩 PRIME H610M-K-CSM(DDR5) | price: 2890\\nMemory: UMAX 單條16GB DDR5-4800/CL40 支援 XMP | price: 1150\\nGPU: INTEL 原廠 ARC B580 12G | price: 8990\\nStorage: 威剛 Ultimate SU650 480G/2.5吋/讀:520M/寫:450M/TLC顆粒【三年保】 | price: 899\\nPower Supply: 全漢 HYDRO GT PRO 1000W 雙8/金牌/半模/全日系/10年保 | price: 3690\\nCase: 華碩 A21 黑 | price: 1490\\nCase Fan: 安耐美 靜蝠 12cm 磁力滾珠軸承 | price: 230\\n總價: 24739\",\n",
      "  \"gpt4o_recommendation\": \"CPU: Intel Core i3-12100 | price: 3500\\nMotherboard: 華碩 PRIME H610M-A D4 | price: 2900\\nMemory: 威剛 單條16GB DDR4-3200 | price: 1200\\nGPU: 內建顯示核心 (Intel UHD Graphics 730) | price: 0\\nStorage: 威剛 SU650 480GB SSD | price: 1300\\nPower Supply: Cooler Master MWE 450W 80+白牌 | price: 1200\\nCase: Cooler Master Q300L | price: 1200\\nCase Fan: Cooler Master SickleFlow 120 V2 | price: 400\\n總價: 11700\",\n",
      "  \"winner\": 0,\n",
      "  \"buildmate_avg_score\": 3.1666666666666665,\n",
      "  \"gpt4o_avg_score\": 9.5,\n",
      "  \"rounds\": [\n",
      "    {\n",
      "      \"round_number\": 1,\n",
      "      \"Agent1\": {\n",
      "        \"gpt4o_score\": 8,\n",
      "        \"buildmate_score\": 4,\n",
      "        \"reason\": \"gpt4o符合需求且價格合理；BuildMate過度配置，電源和顯卡選擇不當。\"\n",
      "      },\n",
      "      \"Agent2\": {\n",
      "        \"gpt4o_score\": 10,\n",
      "        \"buildmate_score\": 4,\n",
      "        \"reason\": \"gpt4o完全符合輕度使用需求，價格低廉；BuildMate效能過剩，浪費預算。\"\n",
      "      },\n",
      "      \"Agent3\": {\n",
      "        \"gpt4o_score\": 10,\n",
      "        \"buildmate_score\": 3,\n",
      "        \"reason\": \"gpt4o 完美符合文書需求且價格低廉；BuildMate 過度配置，不符預算及需求。\"\n",
      "      }\n",
      "    },\n",
      "    {\n",
      "      \"round_number\": 2,\n",
      "      \"Agent1\": {\n",
      "        \"gpt4o_score\": 9,\n",
      "        \"buildmate_score\": 3,\n",
      "        \"reason\": \"gpt4o性價比高，滿足需求；BuildMate顯卡和電源過剩，不符「簡易」需求。\"\n",
      "      },\n",
      "      \"Agent2\": {\n",
      "        \"gpt4o_score\": 10,\n",
      "        \"buildmate_score\": 3,\n",
      "        \"reason\": \"gpt4o價格低且效能符合文書需求；BuildMate顯卡和電源嚴重過剩，浪費預算。\"\n",
      "      },\n",
      "      \"Agent3\": {\n",
      "        \"gpt4o_score\": 10,\n",
      "        \"buildmate_score\": 2,\n",
      "        \"reason\": \"gpt4o完美符合簡易文書需求，價格合理；BuildMate過度配置，浪費預算。\"\n",
      "      }\n",
      "    }\n",
      "  ]\n",
      "}\n"
     ]
    },
    {
     "data": {
      "text/html": [
       "<pre style=\"white-space:pre;overflow-x:auto;line-height:normal;font-family:Menlo,'DejaVu Sans Mono',consolas,'Courier New',monospace\"><span style=\"font-weight: bold\">{</span>\n",
       "    <span style=\"color: #008000; text-decoration-color: #008000\">'question_id'</span>: <span style=\"color: #008080; text-decoration-color: #008080; font-weight: bold\">5</span>,\n",
       "    <span style=\"color: #008000; text-decoration-color: #008000\">'question'</span>: <span style=\"color: #008000; text-decoration-color: #008000\">'想請問80000元左右，能組出來什麼級別的遊戲主機？想玩些新遊戲，畫質要好。'</span>,\n",
       "    <span style=\"color: #008000; text-decoration-color: #008000\">'gpt4o_recommendation'</span>: <span style=\"color: #008000; text-decoration-color: #008000\">'CPU: AMD Ryzen 5 7600 | price: 6990\\nMotherboard: 華碩 TUF Gaming B650-PLUS (ATX/DDR5)</span>\n",
       "<span style=\"color: #008000; text-decoration-color: #008000\">| price: 4990\\nMemory: Corsair Vengeance LPX 16GB (2x8GB) DDR5-5600 | price: 2990\\nGPU: NVIDIA GeForce RTX 3060 </span>\n",
       "<span style=\"color: #008000; text-decoration-color: #008000\">12GB | price: 12900\\nStorage: Samsung 970 EVO Plus 1TB NVMe M.2 SSD | price: 2990\\nPower Supply: Seasonic Focus </span>\n",
       "<span style=\"color: #008000; text-decoration-color: #008000\">GX-750 (750W) 80+ Gold | price: 3990\\nCase: Cooler Master MasterBox Q300L | price: 1290\\nCase Fan: Noctua NF-P12 </span>\n",
       "<span style=\"color: #008000; text-decoration-color: #008000\">redux-1700 PWM | price: 790\\n總價: 36930'</span>,\n",
       "    <span style=\"color: #008000; text-decoration-color: #008000\">'buildmate_recommendation'</span>: <span style=\"color: #008000; text-decoration-color: #008000\">'CPU: Intel i5-14600KF | price: 7400\\nMotherboard: 華碩 PRIME B760M-F D4-CSM | </span>\n",
       "<span style=\"color: #008000; text-decoration-color: #008000\">price: 2590\\nMemory: 威剛 單條16GB DDR5 6000 XPG Lancer Blade(矮版散熱片)/CL48黑【雙參數】 | price: 1349\\nGPU: 微星</span>\n",
       "<span style=\"color: #008000; text-decoration-color: #008000\">RTX3060 VENTUS 2X 12G OC | price: 8990\\nStorage: 威剛 Ultimate SU800 </span>\n",
       "<span style=\"color: #008000; text-decoration-color: #008000\">512G/2.5吋/讀:560M/寫:520M/TLC/DRAM快取/SMI/台灣製【五年】 | price: 1499\\nPower Supply: Antec </span>\n",
       "<span style=\"color: #008000; text-decoration-color: #008000\">HCG1000(1000W)雙8/金牌/全模/全日系/智慧溫控風扇/10年保 | price: 3990\\nCase: 華碩 A21 黑 | price: 1490\\nCase Fan: </span>\n",
       "<span style=\"color: #008000; text-decoration-color: #008000\">華碩 AR120 ARGB PWM 風扇 | price: 299\\n總價: 27607'</span>\n",
       "<span style=\"font-weight: bold\">}</span>\n",
       "</pre>\n"
      ],
      "text/plain": [
       "\u001b[1m{\u001b[0m\n",
       "    \u001b[32m'question_id'\u001b[0m: \u001b[1;36m5\u001b[0m,\n",
       "    \u001b[32m'question'\u001b[0m: \u001b[32m'想請問80000元左右，能組出來什麼級別的遊戲主機？想玩些新遊戲，畫質要好。'\u001b[0m,\n",
       "    \u001b[32m'gpt4o_recommendation'\u001b[0m: \u001b[32m'CPU: AMD Ryzen 5 7600 | price: 6990\\nMotherboard: 華碩 TUF Gaming B650-PLUS \u001b[0m\u001b[32m(\u001b[0m\u001b[32mATX/DDR5\u001b[0m\u001b[32m)\u001b[0m\n",
       "\u001b[32m| price: 4990\\nMemory: Corsair Vengeance LPX 16GB \u001b[0m\u001b[32m(\u001b[0m\u001b[32m2x8GB\u001b[0m\u001b[32m)\u001b[0m\u001b[32m DDR5-5600 | price: 2990\\nGPU: NVIDIA GeForce RTX 3060 \u001b[0m\n",
       "\u001b[32m12GB | price: 12900\\nStorage: Samsung 970 EVO Plus 1TB NVMe M.2 SSD | price: 2990\\nPower Supply: Seasonic Focus \u001b[0m\n",
       "\u001b[32mGX-750 \u001b[0m\u001b[32m(\u001b[0m\u001b[32m750W\u001b[0m\u001b[32m)\u001b[0m\u001b[32m 80+ Gold | price: 3990\\nCase: Cooler Master MasterBox Q300L | price: 1290\\nCase Fan: Noctua NF-P12 \u001b[0m\n",
       "\u001b[32mredux-1700 PWM | price: 790\\n總價: 36930'\u001b[0m,\n",
       "    \u001b[32m'buildmate_recommendation'\u001b[0m: \u001b[32m'CPU: Intel i5-14600KF | price: 7400\\nMotherboard: 華碩 PRIME B760M-F D4-CSM | \u001b[0m\n",
       "\u001b[32mprice: 2590\\nMemory: 威剛 單條16GB DDR5 6000 XPG Lancer Blade\u001b[0m\u001b[32m(\u001b[0m\u001b[32m矮版散熱片\u001b[0m\u001b[32m)\u001b[0m\u001b[32m/CL48黑【雙參數】 | price: 1349\\nGPU: 微星\u001b[0m\n",
       "\u001b[32mRTX3060 VENTUS 2X 12G OC | price: 8990\\nStorage: 威剛 Ultimate SU800 \u001b[0m\n",
       "\u001b[32m512G/2.5吋/讀:560M/寫:520M/TLC/DRAM快取/SMI/台灣製【五年】 | price: 1499\\nPower Supply: Antec \u001b[0m\n",
       "\u001b[32mHCG1000\u001b[0m\u001b[32m(\u001b[0m\u001b[32m1000W\u001b[0m\u001b[32m)\u001b[0m\u001b[32m雙8/金牌/全模/全日系/智慧溫控風扇/10年保 | price: 3990\\nCase: 華碩 A21 黑 | price: 1490\\nCase Fan: \u001b[0m\n",
       "\u001b[32m華碩 AR120 ARGB PWM 風扇 | price: 299\\n總價: 27607'\u001b[0m\n",
       "\u001b[1m}\u001b[0m\n"
      ]
     },
     "metadata": {},
     "output_type": "display_data"
    },
    {
     "data": {
      "text/html": [
       "<pre style=\"white-space:pre;overflow-x:auto;line-height:normal;font-family:Menlo,'DejaVu Sans Mono',consolas,'Courier New',monospace\">Agent1: <span style=\"font-weight: bold\">[</span>對gpt4o評價<span style=\"font-weight: bold\">]</span>: <span style=\"color: #008080; text-decoration-color: #008080; font-weight: bold\">7</span>\n",
       "<span style=\"font-weight: bold\">[</span>對BuildMate評價<span style=\"font-weight: bold\">]</span>: <span style=\"color: #008080; text-decoration-color: #008080; font-weight: bold\">6</span>\n",
       "<span style=\"font-weight: bold\">[</span>簡短原因<span style=\"font-weight: bold\">]</span>: gpt4o整體均衡，BuildMate記憶體/SSD容量不足，電源瓦數過高。\n",
       "\n",
       "</pre>\n"
      ],
      "text/plain": [
       "Agent1: \u001b[1m[\u001b[0m對gpt4o評價\u001b[1m]\u001b[0m: \u001b[1;36m7\u001b[0m\n",
       "\u001b[1m[\u001b[0m對BuildMate評價\u001b[1m]\u001b[0m: \u001b[1;36m6\u001b[0m\n",
       "\u001b[1m[\u001b[0m簡短原因\u001b[1m]\u001b[0m: gpt4o整體均衡，BuildMate記憶體/SSD容量不足，電源瓦數過高。\n",
       "\n"
      ]
     },
     "metadata": {},
     "output_type": "display_data"
    },
    {
     "name": "stdout",
     "output_type": "stream",
     "text": [
      "======\n"
     ]
    },
    {
     "data": {
      "text/html": [
       "<pre style=\"white-space:pre;overflow-x:auto;line-height:normal;font-family:Menlo,'DejaVu Sans Mono',consolas,'Courier New',monospace\">Agent2: <span style=\"font-weight: bold\">[</span>對gpt4o評價<span style=\"font-weight: bold\">]</span>: <span style=\"color: #008080; text-decoration-color: #008080; font-weight: bold\">7</span>\n",
       "<span style=\"font-weight: bold\">[</span>對BuildMate評價<span style=\"font-weight: bold\">]</span>: <span style=\"color: #008080; text-decoration-color: #008080; font-weight: bold\">5</span>\n",
       "<span style=\"font-weight: bold\">[</span>簡短原因<span style=\"font-weight: bold\">]</span>: gpt4o較均衡，BuildMate記憶體及SSD容量不足，電供瓦數過高不符需求。\n",
       "\n",
       "</pre>\n"
      ],
      "text/plain": [
       "Agent2: \u001b[1m[\u001b[0m對gpt4o評價\u001b[1m]\u001b[0m: \u001b[1;36m7\u001b[0m\n",
       "\u001b[1m[\u001b[0m對BuildMate評價\u001b[1m]\u001b[0m: \u001b[1;36m5\u001b[0m\n",
       "\u001b[1m[\u001b[0m簡短原因\u001b[1m]\u001b[0m: gpt4o較均衡，BuildMate記憶體及SSD容量不足，電供瓦數過高不符需求。\n",
       "\n"
      ]
     },
     "metadata": {},
     "output_type": "display_data"
    },
    {
     "name": "stdout",
     "output_type": "stream",
     "text": [
      "======\n"
     ]
    },
    {
     "data": {
      "text/html": [
       "<pre style=\"white-space:pre;overflow-x:auto;line-height:normal;font-family:Menlo,'DejaVu Sans Mono',consolas,'Courier New',monospace\">Agent3: <span style=\"font-weight: bold\">[</span>對gpt4o評價<span style=\"font-weight: bold\">]</span>: <span style=\"color: #008080; text-decoration-color: #008080; font-weight: bold\">8</span>\n",
       "<span style=\"font-weight: bold\">[</span>對BuildMate評價<span style=\"font-weight: bold\">]</span>: <span style=\"color: #008080; text-decoration-color: #008080; font-weight: bold\">6</span>\n",
       "<span style=\"font-weight: bold\">[</span>簡短原因<span style=\"font-weight: bold\">]</span>: gpt4o較佳，BuildMate記憶體及SSD容量不足，電源瓦數過高。\n",
       "\n",
       "</pre>\n"
      ],
      "text/plain": [
       "Agent3: \u001b[1m[\u001b[0m對gpt4o評價\u001b[1m]\u001b[0m: \u001b[1;36m8\u001b[0m\n",
       "\u001b[1m[\u001b[0m對BuildMate評價\u001b[1m]\u001b[0m: \u001b[1;36m6\u001b[0m\n",
       "\u001b[1m[\u001b[0m簡短原因\u001b[1m]\u001b[0m: gpt4o較佳，BuildMate記憶體及SSD容量不足，電源瓦數過高。\n",
       "\n"
      ]
     },
     "metadata": {},
     "output_type": "display_data"
    },
    {
     "name": "stdout",
     "output_type": "stream",
     "text": [
      "======\n"
     ]
    },
    {
     "data": {
      "text/html": [
       "<pre style=\"white-space:pre;overflow-x:auto;line-height:normal;font-family:Menlo,'DejaVu Sans Mono',consolas,'Courier New',monospace\">Coordinator: 已達成共識，gpt4o較佳。記憶體與SSD容量較大，電源瓦數適中，整體較均衡。\n",
       "\n",
       "</pre>\n"
      ],
      "text/plain": [
       "Coordinator: 已達成共識，gpt4o較佳。記憶體與SSD容量較大，電源瓦數適中，整體較均衡。\n",
       "\n"
      ]
     },
     "metadata": {},
     "output_type": "display_data"
    },
    {
     "name": "stdout",
     "output_type": "stream",
     "text": [
      "======\n"
     ]
    },
    {
     "data": {
      "text/html": [
       "<pre style=\"white-space:pre;overflow-x:auto;line-height:normal;font-family:Menlo,'DejaVu Sans Mono',consolas,'Courier New',monospace\">Agent1: <span style=\"font-weight: bold\">[</span>對gpt4o評價<span style=\"font-weight: bold\">]</span>: <span style=\"color: #008080; text-decoration-color: #008080; font-weight: bold\">7</span>\n",
       "<span style=\"font-weight: bold\">[</span>對BuildMate評價<span style=\"font-weight: bold\">]</span>: <span style=\"color: #008080; text-decoration-color: #008080; font-weight: bold\">5</span>\n",
       "<span style=\"font-weight: bold\">[</span>簡短原因<span style=\"font-weight: bold\">]</span>: gpt4o均衡，BuildMate SSD容量小，電源瓦數過高，記憶體單通道影響效能。\n",
       "\n",
       "</pre>\n"
      ],
      "text/plain": [
       "Agent1: \u001b[1m[\u001b[0m對gpt4o評價\u001b[1m]\u001b[0m: \u001b[1;36m7\u001b[0m\n",
       "\u001b[1m[\u001b[0m對BuildMate評價\u001b[1m]\u001b[0m: \u001b[1;36m5\u001b[0m\n",
       "\u001b[1m[\u001b[0m簡短原因\u001b[1m]\u001b[0m: gpt4o均衡，BuildMate SSD容量小，電源瓦數過高，記憶體單通道影響效能。\n",
       "\n"
      ]
     },
     "metadata": {},
     "output_type": "display_data"
    },
    {
     "name": "stdout",
     "output_type": "stream",
     "text": [
      "======\n"
     ]
    },
    {
     "data": {
      "text/html": [
       "<pre style=\"white-space:pre;overflow-x:auto;line-height:normal;font-family:Menlo,'DejaVu Sans Mono',consolas,'Courier New',monospace\">Agent2: <span style=\"font-weight: bold\">[</span>對gpt4o評價<span style=\"font-weight: bold\">]</span>: <span style=\"color: #008080; text-decoration-color: #008080; font-weight: bold\">7</span>\n",
       "<span style=\"font-weight: bold\">[</span>對BuildMate評價<span style=\"font-weight: bold\">]</span>: <span style=\"color: #008080; text-decoration-color: #008080; font-weight: bold\">4</span>\n",
       "<span style=\"font-weight: bold\">[</span>簡短原因<span style=\"font-weight: bold\">]</span>: gpt4o較均衡，BuildMate SSD容量過小，記憶體單通道效能差，電源瓦數過高。\n",
       "\n",
       "</pre>\n"
      ],
      "text/plain": [
       "Agent2: \u001b[1m[\u001b[0m對gpt4o評價\u001b[1m]\u001b[0m: \u001b[1;36m7\u001b[0m\n",
       "\u001b[1m[\u001b[0m對BuildMate評價\u001b[1m]\u001b[0m: \u001b[1;36m4\u001b[0m\n",
       "\u001b[1m[\u001b[0m簡短原因\u001b[1m]\u001b[0m: gpt4o較均衡，BuildMate SSD容量過小，記憶體單通道效能差，電源瓦數過高。\n",
       "\n"
      ]
     },
     "metadata": {},
     "output_type": "display_data"
    },
    {
     "name": "stdout",
     "output_type": "stream",
     "text": [
      "======\n"
     ]
    },
    {
     "data": {
      "text/html": [
       "<pre style=\"white-space:pre;overflow-x:auto;line-height:normal;font-family:Menlo,'DejaVu Sans Mono',consolas,'Courier New',monospace\">Agent3: <span style=\"font-weight: bold\">[</span>對gpt4o評價<span style=\"font-weight: bold\">]</span>: <span style=\"color: #008080; text-decoration-color: #008080; font-weight: bold\">8</span>\n",
       "<span style=\"font-weight: bold\">[</span>對BuildMate評價<span style=\"font-weight: bold\">]</span>: <span style=\"color: #008080; text-decoration-color: #008080; font-weight: bold\">5</span>\n",
       "<span style=\"font-weight: bold\">[</span>簡短原因<span style=\"font-weight: bold\">]</span>: gpt4o較佳，BuildMate SSD容量過小、記憶體單通道且電源瓦數過高。\n",
       "\n",
       "</pre>\n"
      ],
      "text/plain": [
       "Agent3: \u001b[1m[\u001b[0m對gpt4o評價\u001b[1m]\u001b[0m: \u001b[1;36m8\u001b[0m\n",
       "\u001b[1m[\u001b[0m對BuildMate評價\u001b[1m]\u001b[0m: \u001b[1;36m5\u001b[0m\n",
       "\u001b[1m[\u001b[0m簡短原因\u001b[1m]\u001b[0m: gpt4o較佳，BuildMate SSD容量過小、記憶體單通道且電源瓦數過高。\n",
       "\n"
      ]
     },
     "metadata": {},
     "output_type": "display_data"
    },
    {
     "name": "stdout",
     "output_type": "stream",
     "text": [
      "======\n"
     ]
    },
    {
     "data": {
      "text/html": [
       "<pre style=\"white-space:pre;overflow-x:auto;line-height:normal;font-family:Menlo,'DejaVu Sans Mono',consolas,'Courier New',monospace\">Coordinator: \n",
       "已達成共識，gpt4o較佳。gpt4o的記憶體為雙通道16GB，SSD容量更大，整體效能更佳，且價格在預算內。BuildMate的記憶體單通\n",
       "道且SSD容量較小。\n",
       "\n",
       "</pre>\n"
      ],
      "text/plain": [
       "Coordinator: \n",
       "已達成共識，gpt4o較佳。gpt4o的記憶體為雙通道16GB，SSD容量更大，整體效能更佳，且價格在預算內。BuildMate的記憶體單通\n",
       "道且SSD容量較小。\n",
       "\n"
      ]
     },
     "metadata": {},
     "output_type": "display_data"
    },
    {
     "name": "stdout",
     "output_type": "stream",
     "text": [
      "======\n",
      "{'Coordinator': {'messages': [HumanMessage(content='Agent1: [對gpt4o評價]: 7\\n[對BuildMate評價]: 6\\n[簡短原因]: gpt4o整體均衡，BuildMate記憶體/SSD容量不足，電源瓦數過高。\\n', additional_kwargs={}, response_metadata={}), HumanMessage(content='Agent2: [對gpt4o評價]: 7\\n[對BuildMate評價]: 5\\n[簡短原因]: gpt4o較均衡，BuildMate記憶體及SSD容量不足，電供瓦數過高不符需求。\\n', additional_kwargs={}, response_metadata={}), HumanMessage(content='Agent3: [對gpt4o評價]: 8\\n[對BuildMate評價]: 6\\n[簡短原因]: gpt4o較佳，BuildMate記憶體及SSD容量不足，電源瓦數過高。\\n', additional_kwargs={}, response_metadata={}), HumanMessage(content='Coordinator: 已達成共識，gpt4o較佳。記憶體與SSD容量較大，電源瓦數適中，整體較均衡。\\n', additional_kwargs={}, response_metadata={}), HumanMessage(content='Agent1: [對gpt4o評價]: 7\\n[對BuildMate評價]: 5\\n[簡短原因]: gpt4o均衡，BuildMate SSD容量小，電源瓦數過高，記憶體單通道影響效能。\\n', additional_kwargs={}, response_metadata={}), HumanMessage(content='Agent2: [對gpt4o評價]: 7\\n[對BuildMate評價]: 4\\n[簡短原因]: gpt4o較均衡，BuildMate SSD容量過小，記憶體單通道效能差，電源瓦數過高。\\n', additional_kwargs={}, response_metadata={}), HumanMessage(content='Agent3: [對gpt4o評價]: 8\\n[對BuildMate評價]: 5\\n[簡短原因]: gpt4o較佳，BuildMate SSD容量過小、記憶體單通道且電源瓦數過高。\\n', additional_kwargs={}, response_metadata={}), HumanMessage(content='Coordinator: 已達成共識，gpt4o較佳。gpt4o的記憶體為雙通道16GB，SSD容量更大，整體效能更佳，且價格在預算內。BuildMate的記憶體單通道且SSD容量較小。\\n', additional_kwargs={}, response_metadata={})], 'next_agent': '__end__', 'question_id': 5, 'question': '想請問80000元左右，能組出來什麼級別的遊戲主機？想玩些新遊戲，畫質要好。', 'gpt4o_recommendation': 'CPU: AMD Ryzen 5 7600 | price: 6990\\nMotherboard: 華碩 TUF Gaming B650-PLUS (ATX/DDR5) | price: 4990\\nMemory: Corsair Vengeance LPX 16GB (2x8GB) DDR5-5600 | price: 2990\\nGPU: NVIDIA GeForce RTX 3060 12GB | price: 12900\\nStorage: Samsung 970 EVO Plus 1TB NVMe M.2 SSD | price: 2990\\nPower Supply: Seasonic Focus GX-750 (750W) 80+ Gold | price: 3990\\nCase: Cooler Master MasterBox Q300L | price: 1290\\nCase Fan: Noctua NF-P12 redux-1700 PWM | price: 790\\n總價: 36930', 'buildmate_recommendation': 'CPU: Intel i5-14600KF | price: 7400\\nMotherboard: 華碩 PRIME B760M-F D4-CSM | price: 2590\\nMemory: 威剛 單條16GB DDR5 6000 XPG Lancer Blade(矮版散熱片)/CL48黑【雙參數】 | price: 1349\\nGPU: 微星 RTX3060 VENTUS 2X 12G OC | price: 8990\\nStorage: 威剛 Ultimate SU800 512G/2.5吋/讀:560M/寫:520M/TLC/DRAM快取/SMI/台灣製【五年】 | price: 1499\\nPower Supply: Antec HCG1000(1000W)雙8/金牌/全模/全日系/智慧溫控風扇/10年保 | price: 3990\\nCase: 華碩 A21 黑 | price: 1490\\nCase Fan: 華碩 AR120 ARGB PWM 風扇 | price: 299\\n總價: 27607', 'agent_scores': {'Agent1_round1': {'gpt4o_score': 7, 'buildmate_score': 6, 'reason': 'gpt4o整體均衡，BuildMate記憶體/SSD容量不足，電源瓦數過高。'}, 'Agent2_round1': {'gpt4o_score': 7, 'buildmate_score': 5, 'reason': 'gpt4o較均衡，BuildMate記憶體及SSD容量不足，電供瓦數過高不符需求。'}, 'Agent3_round1': {'gpt4o_score': 8, 'buildmate_score': 6, 'reason': 'gpt4o較佳，BuildMate記憶體及SSD容量不足，電源瓦數過高。'}, 'Agent1_round2': {'gpt4o_score': 7, 'buildmate_score': 5, 'reason': 'gpt4o均衡，BuildMate SSD容量小，電源瓦數過高，記憶體單通道影響效能。'}, 'Agent2_round2': {'gpt4o_score': 7, 'buildmate_score': 4, 'reason': 'gpt4o較均衡，BuildMate SSD容量過小，記憶體單通道效能差，電源瓦數過高。'}, 'Agent3_round2': {'gpt4o_score': 8, 'buildmate_score': 5, 'reason': 'gpt4o較佳，BuildMate SSD容量過小、記憶體單通道且電源瓦數過高。'}}, 'round_count': 2, 'max_rounds': 3, 'consensus_reached': True}}\n",
      "{\n",
      "  \"question_id\": 5,\n",
      "  \"question\": \"想請問80000元左右，能組出來什麼級別的遊戲主機？想玩些新遊戲，畫質要好。\",\n",
      "  \"buildmate_recommendation\": \"CPU: Intel i5-14600KF | price: 7400\\nMotherboard: 華碩 PRIME B760M-F D4-CSM | price: 2590\\nMemory: 威剛 單條16GB DDR5 6000 XPG Lancer Blade(矮版散熱片)/CL48黑【雙參數】 | price: 1349\\nGPU: 微星 RTX3060 VENTUS 2X 12G OC | price: 8990\\nStorage: 威剛 Ultimate SU800 512G/2.5吋/讀:560M/寫:520M/TLC/DRAM快取/SMI/台灣製【五年】 | price: 1499\\nPower Supply: Antec HCG1000(1000W)雙8/金牌/全模/全日系/智慧溫控風扇/10年保 | price: 3990\\nCase: 華碩 A21 黑 | price: 1490\\nCase Fan: 華碩 AR120 ARGB PWM 風扇 | price: 299\\n總價: 27607\",\n",
      "  \"gpt4o_recommendation\": \"CPU: AMD Ryzen 5 7600 | price: 6990\\nMotherboard: 華碩 TUF Gaming B650-PLUS (ATX/DDR5) | price: 4990\\nMemory: Corsair Vengeance LPX 16GB (2x8GB) DDR5-5600 | price: 2990\\nGPU: NVIDIA GeForce RTX 3060 12GB | price: 12900\\nStorage: Samsung 970 EVO Plus 1TB NVMe M.2 SSD | price: 2990\\nPower Supply: Seasonic Focus GX-750 (750W) 80+ Gold | price: 3990\\nCase: Cooler Master MasterBox Q300L | price: 1290\\nCase Fan: Noctua NF-P12 redux-1700 PWM | price: 790\\n總價: 36930\",\n",
      "  \"winner\": 0,\n",
      "  \"buildmate_avg_score\": 5.166666666666667,\n",
      "  \"gpt4o_avg_score\": 7.333333333333333,\n",
      "  \"rounds\": [\n",
      "    {\n",
      "      \"round_number\": 1,\n",
      "      \"Agent1\": {\n",
      "        \"gpt4o_score\": 7,\n",
      "        \"buildmate_score\": 6,\n",
      "        \"reason\": \"gpt4o整體均衡，BuildMate記憶體/SSD容量不足，電源瓦數過高。\"\n",
      "      },\n",
      "      \"Agent2\": {\n",
      "        \"gpt4o_score\": 7,\n",
      "        \"buildmate_score\": 5,\n",
      "        \"reason\": \"gpt4o較均衡，BuildMate記憶體及SSD容量不足，電供瓦數過高不符需求。\"\n",
      "      },\n",
      "      \"Agent3\": {\n",
      "        \"gpt4o_score\": 8,\n",
      "        \"buildmate_score\": 6,\n",
      "        \"reason\": \"gpt4o較佳，BuildMate記憶體及SSD容量不足，電源瓦數過高。\"\n",
      "      }\n",
      "    },\n",
      "    {\n",
      "      \"round_number\": 2,\n",
      "      \"Agent1\": {\n",
      "        \"gpt4o_score\": 7,\n",
      "        \"buildmate_score\": 5,\n",
      "        \"reason\": \"gpt4o均衡，BuildMate SSD容量小，電源瓦數過高，記憶體單通道影響效能。\"\n",
      "      },\n",
      "      \"Agent2\": {\n",
      "        \"gpt4o_score\": 7,\n",
      "        \"buildmate_score\": 4,\n",
      "        \"reason\": \"gpt4o較均衡，BuildMate SSD容量過小，記憶體單通道效能差，電源瓦數過高。\"\n",
      "      },\n",
      "      \"Agent3\": {\n",
      "        \"gpt4o_score\": 8,\n",
      "        \"buildmate_score\": 5,\n",
      "        \"reason\": \"gpt4o較佳，BuildMate SSD容量過小、記憶體單通道且電源瓦數過高。\"\n",
      "      }\n",
      "    }\n",
      "  ]\n",
      "}\n"
     ]
    },
    {
     "data": {
      "text/html": [
       "<pre style=\"white-space:pre;overflow-x:auto;line-height:normal;font-family:Menlo,'DejaVu Sans Mono',consolas,'Courier New',monospace\"><span style=\"font-weight: bold\">{</span>\n",
       "    <span style=\"color: #008000; text-decoration-color: #008000\">'question_id'</span>: <span style=\"color: #008080; text-decoration-color: #008080; font-weight: bold\">6</span>,\n",
       "    <span style=\"color: #008000; text-decoration-color: #008000\">'question'</span>: <span style=\"color: #008000; text-decoration-color: #008000\">'工作需要，我要一台能跑Solidworks和AutoCAD的工作站，預算大概60000元，有建議嗎？'</span>,\n",
       "    <span style=\"color: #008000; text-decoration-color: #008000\">'gpt4o_recommendation'</span>: <span style=\"color: #008000; text-decoration-color: #008000\">'CPU: AMD Ryzen 5 5600X | price: 4990\\nMotherboard: 華碩 TUF GAMING B550M-PLUS | price:</span>\n",
       "<span style=\"color: #008000; text-decoration-color: #008000\">3490\\nMemory: Corsair Vengeance LPX 16GB (2 x 8GB) DDR4-3200 | price: 1990\\nGPU: NVIDIA GeForce GTX 1660 Super | </span>\n",
       "<span style=\"color: #008000; text-decoration-color: #008000\">price: 6990\\nStorage: Samsung 970 EVO Plus 500GB NVMe M.2 SSD | price: 2290\\nPower Supply: Cooler Master MWE Gold </span>\n",
       "<span style=\"color: #008000; text-decoration-color: #008000\">650W | price: 2490\\nCase: Cooler Master MasterBox Q300L | price: 1290\\nCase Fan: Noctua NF-P12 redux-1700 PWM | </span>\n",
       "<span style=\"color: #008000; text-decoration-color: #008000\">price: 790\\n總價: 24320'</span>,\n",
       "    <span style=\"color: #008000; text-decoration-color: #008000\">'buildmate_recommendation'</span>: <span style=\"color: #008000; text-decoration-color: #008000\">'CPU: Intel i9-14900F | price: 14900\\nMotherboard: 華碩 PRO WS W680-ACE | price: </span>\n",
       "<span style=\"color: #008000; text-decoration-color: #008000\">9990\\nMemory: 威剛 單條16GB DDR5 6000 XPG Lancer Blade(矮版散熱片)/CL48黑【雙參數】 | price: 1349\\nGPU: 技嘉 </span>\n",
       "<span style=\"color: #008000; text-decoration-color: #008000\">RTX3060 WINDFORCE OC 12G(rev2.0) | price: 8990\\nStorage: 威剛 Ultimate SU800 </span>\n",
       "<span style=\"color: #008000; text-decoration-color: #008000\">512G/2.5吋/讀:560M/寫:520M/TLC/DRAM快取/SMI/台灣製 | price: 1499\\nPower Supply: Antec </span>\n",
       "<span style=\"color: #008000; text-decoration-color: #008000\">HCG1000(1000W)雙8/金牌/全模/全日系/智慧溫控風扇/10年保 | price: 3990\\nCase: Montech SKY TWO 黑 | price: 1890\\nCase </span>\n",
       "<span style=\"color: #008000; text-decoration-color: #008000\">Fan: MSI MEG SILENT GALE P12 靜音風扇 | price: 790\\n總價: 43398'</span>\n",
       "<span style=\"font-weight: bold\">}</span>\n",
       "</pre>\n"
      ],
      "text/plain": [
       "\u001b[1m{\u001b[0m\n",
       "    \u001b[32m'question_id'\u001b[0m: \u001b[1;36m6\u001b[0m,\n",
       "    \u001b[32m'question'\u001b[0m: \u001b[32m'工作需要，我要一台能跑Solidworks和AutoCAD的工作站，預算大概60000元，有建議嗎？'\u001b[0m,\n",
       "    \u001b[32m'gpt4o_recommendation'\u001b[0m: \u001b[32m'CPU: AMD Ryzen 5 5600X | price: 4990\\nMotherboard: 華碩 TUF GAMING B550M-PLUS | price:\u001b[0m\n",
       "\u001b[32m3490\\nMemory: Corsair Vengeance LPX 16GB \u001b[0m\u001b[32m(\u001b[0m\u001b[32m2 x 8GB\u001b[0m\u001b[32m)\u001b[0m\u001b[32m DDR4-3200 | price: 1990\\nGPU: NVIDIA GeForce GTX 1660 Super | \u001b[0m\n",
       "\u001b[32mprice: 6990\\nStorage: Samsung 970 EVO Plus 500GB NVMe M.2 SSD | price: 2290\\nPower Supply: Cooler Master MWE Gold \u001b[0m\n",
       "\u001b[32m650W | price: 2490\\nCase: Cooler Master MasterBox Q300L | price: 1290\\nCase Fan: Noctua NF-P12 redux-1700 PWM | \u001b[0m\n",
       "\u001b[32mprice: 790\\n總價: 24320'\u001b[0m,\n",
       "    \u001b[32m'buildmate_recommendation'\u001b[0m: \u001b[32m'CPU: Intel i9-14900F | price: 14900\\nMotherboard: 華碩 PRO WS W680-ACE | price: \u001b[0m\n",
       "\u001b[32m9990\\nMemory: 威剛 單條16GB DDR5 6000 XPG Lancer Blade\u001b[0m\u001b[32m(\u001b[0m\u001b[32m矮版散熱片\u001b[0m\u001b[32m)\u001b[0m\u001b[32m/CL48黑【雙參數】 | price: 1349\\nGPU: 技嘉 \u001b[0m\n",
       "\u001b[32mRTX3060 WINDFORCE OC 12G\u001b[0m\u001b[32m(\u001b[0m\u001b[32mrev2.0\u001b[0m\u001b[32m)\u001b[0m\u001b[32m | price: 8990\\nStorage: 威剛 Ultimate SU800 \u001b[0m\n",
       "\u001b[32m512G/2.5吋/讀:560M/寫:520M/TLC/DRAM快取/SMI/台灣製 | price: 1499\\nPower Supply: Antec \u001b[0m\n",
       "\u001b[32mHCG1000\u001b[0m\u001b[32m(\u001b[0m\u001b[32m1000W\u001b[0m\u001b[32m)\u001b[0m\u001b[32m雙8/金牌/全模/全日系/智慧溫控風扇/10年保 | price: 3990\\nCase: Montech SKY TWO 黑 | price: 1890\\nCase \u001b[0m\n",
       "\u001b[32mFan: MSI MEG SILENT GALE P12 靜音風扇 | price: 790\\n總價: 43398'\u001b[0m\n",
       "\u001b[1m}\u001b[0m\n"
      ]
     },
     "metadata": {},
     "output_type": "display_data"
    },
    {
     "data": {
      "text/html": [
       "<pre style=\"white-space:pre;overflow-x:auto;line-height:normal;font-family:Menlo,'DejaVu Sans Mono',consolas,'Courier New',monospace\">Agent1: <span style=\"font-weight: bold\">[</span>對gpt4o評價<span style=\"font-weight: bold\">]</span>: <span style=\"color: #008080; text-decoration-color: #008080; font-weight: bold\">4</span>\n",
       "<span style=\"font-weight: bold\">[</span>對BuildMate評價<span style=\"font-weight: bold\">]</span>: <span style=\"color: #008080; text-decoration-color: #008080; font-weight: bold\">7</span>\n",
       "<span style=\"font-weight: bold\">[</span>簡短原因<span style=\"font-weight: bold\">]</span>: gpt4o配置過低，BuildMate較均衡，但SSD選擇需升級NVMe。\n",
       "\n",
       "</pre>\n"
      ],
      "text/plain": [
       "Agent1: \u001b[1m[\u001b[0m對gpt4o評價\u001b[1m]\u001b[0m: \u001b[1;36m4\u001b[0m\n",
       "\u001b[1m[\u001b[0m對BuildMate評價\u001b[1m]\u001b[0m: \u001b[1;36m7\u001b[0m\n",
       "\u001b[1m[\u001b[0m簡短原因\u001b[1m]\u001b[0m: gpt4o配置過低，BuildMate較均衡，但SSD選擇需升級NVMe。\n",
       "\n"
      ]
     },
     "metadata": {},
     "output_type": "display_data"
    },
    {
     "name": "stdout",
     "output_type": "stream",
     "text": [
      "======\n"
     ]
    },
    {
     "data": {
      "text/html": [
       "<pre style=\"white-space:pre;overflow-x:auto;line-height:normal;font-family:Menlo,'DejaVu Sans Mono',consolas,'Courier New',monospace\">Agent2: <span style=\"font-weight: bold\">[</span>對gpt4o評價<span style=\"font-weight: bold\">]</span>: <span style=\"color: #008080; text-decoration-color: #008080; font-weight: bold\">3</span>\n",
       "<span style=\"font-weight: bold\">[</span>對BuildMate評價<span style=\"font-weight: bold\">]</span>: <span style=\"color: #008080; text-decoration-color: #008080; font-weight: bold\">7</span>\n",
       "<span style=\"font-weight: bold\">[</span>簡短原因<span style=\"font-weight: bold\">]</span>: gpt4o顯卡過弱，CPU也低，BuildMate較佳，但記憶體單通道需調整。\n",
       "\n",
       "</pre>\n"
      ],
      "text/plain": [
       "Agent2: \u001b[1m[\u001b[0m對gpt4o評價\u001b[1m]\u001b[0m: \u001b[1;36m3\u001b[0m\n",
       "\u001b[1m[\u001b[0m對BuildMate評價\u001b[1m]\u001b[0m: \u001b[1;36m7\u001b[0m\n",
       "\u001b[1m[\u001b[0m簡短原因\u001b[1m]\u001b[0m: gpt4o顯卡過弱，CPU也低，BuildMate較佳，但記憶體單通道需調整。\n",
       "\n"
      ]
     },
     "metadata": {},
     "output_type": "display_data"
    },
    {
     "name": "stdout",
     "output_type": "stream",
     "text": [
      "======\n"
     ]
    },
    {
     "data": {
      "text/html": [
       "<pre style=\"white-space:pre;overflow-x:auto;line-height:normal;font-family:Menlo,'DejaVu Sans Mono',consolas,'Courier New',monospace\">Agent3: <span style=\"font-weight: bold\">[</span>對gpt4o評價<span style=\"font-weight: bold\">]</span>: <span style=\"color: #008080; text-decoration-color: #008080; font-weight: bold\">4</span>\n",
       "<span style=\"font-weight: bold\">[</span>對BuildMate評價<span style=\"font-weight: bold\">]</span>: <span style=\"color: #008080; text-decoration-color: #008080; font-weight: bold\">8</span>\n",
       "<span style=\"font-weight: bold\">[</span>簡短原因<span style=\"font-weight: bold\">]</span>: gpt4o配置過低，無法滿足Solidworks需求。BuildMate合理，但SSD宜升級NVMe。\n",
       "\n",
       "</pre>\n"
      ],
      "text/plain": [
       "Agent3: \u001b[1m[\u001b[0m對gpt4o評價\u001b[1m]\u001b[0m: \u001b[1;36m4\u001b[0m\n",
       "\u001b[1m[\u001b[0m對BuildMate評價\u001b[1m]\u001b[0m: \u001b[1;36m8\u001b[0m\n",
       "\u001b[1m[\u001b[0m簡短原因\u001b[1m]\u001b[0m: gpt4o配置過低，無法滿足Solidworks需求。BuildMate合理，但SSD宜升級NVMe。\n",
       "\n"
      ]
     },
     "metadata": {},
     "output_type": "display_data"
    },
    {
     "name": "stdout",
     "output_type": "stream",
     "text": [
      "======\n"
     ]
    },
    {
     "data": {
      "text/html": [
       "<pre style=\"white-space:pre;overflow-x:auto;line-height:normal;font-family:Menlo,'DejaVu Sans Mono',consolas,'Courier New',monospace\">Coordinator: 已達成共識，BuildMate較佳。 \n",
       "專家們一致認為BuildMate在效能上更符合Solidworks和AutoCAD的需求，雖然價格較高，但在預算內且CP值更高。\n",
       "\n",
       "</pre>\n"
      ],
      "text/plain": [
       "Coordinator: 已達成共識，BuildMate較佳。 \n",
       "專家們一致認為BuildMate在效能上更符合Solidworks和AutoCAD的需求，雖然價格較高，但在預算內且CP值更高。\n",
       "\n"
      ]
     },
     "metadata": {},
     "output_type": "display_data"
    },
    {
     "name": "stdout",
     "output_type": "stream",
     "text": [
      "======\n"
     ]
    },
    {
     "data": {
      "text/html": [
       "<pre style=\"white-space:pre;overflow-x:auto;line-height:normal;font-family:Menlo,'DejaVu Sans Mono',consolas,'Courier New',monospace\">Agent1: <span style=\"font-weight: bold\">[</span>對gpt4o評價<span style=\"font-weight: bold\">]</span>: <span style=\"color: #008080; text-decoration-color: #008080; font-weight: bold\">4</span>\n",
       "<span style=\"font-weight: bold\">[</span>對BuildMate評價<span style=\"font-weight: bold\">]</span>: <span style=\"color: #008080; text-decoration-color: #008080; font-weight: bold\">7</span>\n",
       "<span style=\"font-weight: bold\">[</span>簡短原因<span style=\"font-weight: bold\">]</span>: gpt4o規格低，不符Solidworks需求。BuildMate均衡，SSD宜升級NVMe。\n",
       "\n",
       "</pre>\n"
      ],
      "text/plain": [
       "Agent1: \u001b[1m[\u001b[0m對gpt4o評價\u001b[1m]\u001b[0m: \u001b[1;36m4\u001b[0m\n",
       "\u001b[1m[\u001b[0m對BuildMate評價\u001b[1m]\u001b[0m: \u001b[1;36m7\u001b[0m\n",
       "\u001b[1m[\u001b[0m簡短原因\u001b[1m]\u001b[0m: gpt4o規格低，不符Solidworks需求。BuildMate均衡，SSD宜升級NVMe。\n",
       "\n"
      ]
     },
     "metadata": {},
     "output_type": "display_data"
    },
    {
     "name": "stdout",
     "output_type": "stream",
     "text": [
      "======\n"
     ]
    },
    {
     "data": {
      "text/html": [
       "<pre style=\"white-space:pre;overflow-x:auto;line-height:normal;font-family:Menlo,'DejaVu Sans Mono',consolas,'Courier New',monospace\">Agent2: <span style=\"font-weight: bold\">[</span>對gpt4o評價<span style=\"font-weight: bold\">]</span>: <span style=\"color: #008080; text-decoration-color: #008080; font-weight: bold\">4</span>\n",
       "<span style=\"font-weight: bold\">[</span>對BuildMate評價<span style=\"font-weight: bold\">]</span>: <span style=\"color: #008080; text-decoration-color: #008080; font-weight: bold\">8</span>\n",
       "<span style=\"font-weight: bold\">[</span>簡短原因<span style=\"font-weight: bold\">]</span>: gpt4o性價比低，規格不符需求。BuildMate較佳，SSD建議升級NVMe。\n",
       "\n",
       "</pre>\n"
      ],
      "text/plain": [
       "Agent2: \u001b[1m[\u001b[0m對gpt4o評價\u001b[1m]\u001b[0m: \u001b[1;36m4\u001b[0m\n",
       "\u001b[1m[\u001b[0m對BuildMate評價\u001b[1m]\u001b[0m: \u001b[1;36m8\u001b[0m\n",
       "\u001b[1m[\u001b[0m簡短原因\u001b[1m]\u001b[0m: gpt4o性價比低，規格不符需求。BuildMate較佳，SSD建議升級NVMe。\n",
       "\n"
      ]
     },
     "metadata": {},
     "output_type": "display_data"
    },
    {
     "name": "stdout",
     "output_type": "stream",
     "text": [
      "======\n"
     ]
    },
    {
     "data": {
      "text/html": [
       "<pre style=\"white-space:pre;overflow-x:auto;line-height:normal;font-family:Menlo,'DejaVu Sans Mono',consolas,'Courier New',monospace\">Agent3: <span style=\"font-weight: bold\">[</span>對gpt4o評價<span style=\"font-weight: bold\">]</span>: <span style=\"color: #008080; text-decoration-color: #008080; font-weight: bold\">4</span>\n",
       "<span style=\"font-weight: bold\">[</span>對BuildMate評價<span style=\"font-weight: bold\">]</span>: <span style=\"color: #008080; text-decoration-color: #008080; font-weight: bold\">7</span>\n",
       "<span style=\"font-weight: bold\">[</span>簡短原因<span style=\"font-weight: bold\">]</span>: gpt4o規格明顯不足以運行Solidworks/AutoCAD。BuildMate較佳，但SSD宜升級NVMe。\n",
       "\n",
       "</pre>\n"
      ],
      "text/plain": [
       "Agent3: \u001b[1m[\u001b[0m對gpt4o評價\u001b[1m]\u001b[0m: \u001b[1;36m4\u001b[0m\n",
       "\u001b[1m[\u001b[0m對BuildMate評價\u001b[1m]\u001b[0m: \u001b[1;36m7\u001b[0m\n",
       "\u001b[1m[\u001b[0m簡短原因\u001b[1m]\u001b[0m: gpt4o規格明顯不足以運行Solidworks/AutoCAD。BuildMate較佳，但SSD宜升級NVMe。\n",
       "\n"
      ]
     },
     "metadata": {},
     "output_type": "display_data"
    },
    {
     "name": "stdout",
     "output_type": "stream",
     "text": [
      "======\n"
     ]
    },
    {
     "data": {
      "text/html": [
       "<pre style=\"white-space:pre;overflow-x:auto;line-height:normal;font-family:Menlo,'DejaVu Sans Mono',consolas,'Courier New',monospace\">Coordinator: 已達成共識，BuildMate較佳。 \n",
       "專家們認為BuildMate效能更佳，能順暢運行Solidworks/AutoCAD，雖然價格較高，但在預算內且更符合需求。\n",
       "\n",
       "</pre>\n"
      ],
      "text/plain": [
       "Coordinator: 已達成共識，BuildMate較佳。 \n",
       "專家們認為BuildMate效能更佳，能順暢運行Solidworks/AutoCAD，雖然價格較高，但在預算內且更符合需求。\n",
       "\n"
      ]
     },
     "metadata": {},
     "output_type": "display_data"
    },
    {
     "name": "stdout",
     "output_type": "stream",
     "text": [
      "======\n",
      "{'Coordinator': {'messages': [HumanMessage(content='Agent1: [對gpt4o評價]: 4\\n[對BuildMate評價]: 7\\n[簡短原因]: gpt4o配置過低，BuildMate較均衡，但SSD選擇需升級NVMe。\\n', additional_kwargs={}, response_metadata={}), HumanMessage(content='Agent2: [對gpt4o評價]: 3\\n[對BuildMate評價]: 7\\n[簡短原因]: gpt4o顯卡過弱，CPU也低，BuildMate較佳，但記憶體單通道需調整。\\n', additional_kwargs={}, response_metadata={}), HumanMessage(content='Agent3: [對gpt4o評價]: 4\\n[對BuildMate評價]: 8\\n[簡短原因]: gpt4o配置過低，無法滿足Solidworks需求。BuildMate合理，但SSD宜升級NVMe。\\n', additional_kwargs={}, response_metadata={}), HumanMessage(content='Coordinator: 已達成共識，BuildMate較佳。 專家們一致認為BuildMate在效能上更符合Solidworks和AutoCAD的需求，雖然價格較高，但在預算內且CP值更高。\\n', additional_kwargs={}, response_metadata={}), HumanMessage(content='Agent1: [對gpt4o評價]: 4\\n[對BuildMate評價]: 7\\n[簡短原因]: gpt4o規格低，不符Solidworks需求。BuildMate均衡，SSD宜升級NVMe。\\n', additional_kwargs={}, response_metadata={}), HumanMessage(content='Agent2: [對gpt4o評價]: 4\\n[對BuildMate評價]: 8\\n[簡短原因]: gpt4o性價比低，規格不符需求。BuildMate較佳，SSD建議升級NVMe。\\n', additional_kwargs={}, response_metadata={}), HumanMessage(content='Agent3: [對gpt4o評價]: 4\\n[對BuildMate評價]: 7\\n[簡短原因]: gpt4o規格明顯不足以運行Solidworks/AutoCAD。BuildMate較佳，但SSD宜升級NVMe。\\n', additional_kwargs={}, response_metadata={}), HumanMessage(content='Coordinator: 已達成共識，BuildMate較佳。 專家們認為BuildMate效能更佳，能順暢運行Solidworks/AutoCAD，雖然價格較高，但在預算內且更符合需求。\\n', additional_kwargs={}, response_metadata={})], 'next_agent': '__end__', 'question_id': 6, 'question': '工作需要，我要一台能跑Solidworks和AutoCAD的工作站，預算大概60000元，有建議嗎？', 'gpt4o_recommendation': 'CPU: AMD Ryzen 5 5600X | price: 4990\\nMotherboard: 華碩 TUF GAMING B550M-PLUS | price: 3490\\nMemory: Corsair Vengeance LPX 16GB (2 x 8GB) DDR4-3200 | price: 1990\\nGPU: NVIDIA GeForce GTX 1660 Super | price: 6990\\nStorage: Samsung 970 EVO Plus 500GB NVMe M.2 SSD | price: 2290\\nPower Supply: Cooler Master MWE Gold 650W | price: 2490\\nCase: Cooler Master MasterBox Q300L | price: 1290\\nCase Fan: Noctua NF-P12 redux-1700 PWM | price: 790\\n總價: 24320', 'buildmate_recommendation': 'CPU: Intel i9-14900F | price: 14900\\nMotherboard: 華碩 PRO WS W680-ACE | price: 9990\\nMemory: 威剛 單條16GB DDR5 6000 XPG Lancer Blade(矮版散熱片)/CL48黑【雙參數】 | price: 1349\\nGPU: 技嘉 RTX3060 WINDFORCE OC 12G(rev2.0) | price: 8990\\nStorage: 威剛 Ultimate SU800 512G/2.5吋/讀:560M/寫:520M/TLC/DRAM快取/SMI/台灣製 | price: 1499\\nPower Supply: Antec HCG1000(1000W)雙8/金牌/全模/全日系/智慧溫控風扇/10年保 | price: 3990\\nCase: Montech SKY TWO 黑 | price: 1890\\nCase Fan: MSI MEG SILENT GALE P12 靜音風扇 | price: 790\\n總價: 43398', 'agent_scores': {'Agent1_round1': {'gpt4o_score': 4, 'buildmate_score': 7, 'reason': 'gpt4o配置過低，BuildMate較均衡，但SSD選擇需升級NVMe。'}, 'Agent2_round1': {'gpt4o_score': 3, 'buildmate_score': 7, 'reason': 'gpt4o顯卡過弱，CPU也低，BuildMate較佳，但記憶體單通道需調整。'}, 'Agent3_round1': {'gpt4o_score': 4, 'buildmate_score': 8, 'reason': 'gpt4o配置過低，無法滿足Solidworks需求。BuildMate合理，但SSD宜升級NVMe。'}, 'Agent1_round2': {'gpt4o_score': 4, 'buildmate_score': 7, 'reason': 'gpt4o規格低，不符Solidworks需求。BuildMate均衡，SSD宜升級NVMe。'}, 'Agent2_round2': {'gpt4o_score': 4, 'buildmate_score': 8, 'reason': 'gpt4o性價比低，規格不符需求。BuildMate較佳，SSD建議升級NVMe。'}, 'Agent3_round2': {'gpt4o_score': 4, 'buildmate_score': 7, 'reason': 'gpt4o規格明顯不足以運行Solidworks/AutoCAD。BuildMate較佳，但SSD宜升級NVMe。'}}, 'round_count': 2, 'max_rounds': 3, 'consensus_reached': True}}\n",
      "{\n",
      "  \"question_id\": 6,\n",
      "  \"question\": \"工作需要，我要一台能跑Solidworks和AutoCAD的工作站，預算大概60000元，有建議嗎？\",\n",
      "  \"buildmate_recommendation\": \"CPU: Intel i9-14900F | price: 14900\\nMotherboard: 華碩 PRO WS W680-ACE | price: 9990\\nMemory: 威剛 單條16GB DDR5 6000 XPG Lancer Blade(矮版散熱片)/CL48黑【雙參數】 | price: 1349\\nGPU: 技嘉 RTX3060 WINDFORCE OC 12G(rev2.0) | price: 8990\\nStorage: 威剛 Ultimate SU800 512G/2.5吋/讀:560M/寫:520M/TLC/DRAM快取/SMI/台灣製 | price: 1499\\nPower Supply: Antec HCG1000(1000W)雙8/金牌/全模/全日系/智慧溫控風扇/10年保 | price: 3990\\nCase: Montech SKY TWO 黑 | price: 1890\\nCase Fan: MSI MEG SILENT GALE P12 靜音風扇 | price: 790\\n總價: 43398\",\n",
      "  \"gpt4o_recommendation\": \"CPU: AMD Ryzen 5 5600X | price: 4990\\nMotherboard: 華碩 TUF GAMING B550M-PLUS | price: 3490\\nMemory: Corsair Vengeance LPX 16GB (2 x 8GB) DDR4-3200 | price: 1990\\nGPU: NVIDIA GeForce GTX 1660 Super | price: 6990\\nStorage: Samsung 970 EVO Plus 500GB NVMe M.2 SSD | price: 2290\\nPower Supply: Cooler Master MWE Gold 650W | price: 2490\\nCase: Cooler Master MasterBox Q300L | price: 1290\\nCase Fan: Noctua NF-P12 redux-1700 PWM | price: 790\\n總價: 24320\",\n",
      "  \"winner\": 1,\n",
      "  \"buildmate_avg_score\": 7.333333333333333,\n",
      "  \"gpt4o_avg_score\": 3.8333333333333335,\n",
      "  \"rounds\": [\n",
      "    {\n",
      "      \"round_number\": 1,\n",
      "      \"Agent1\": {\n",
      "        \"gpt4o_score\": 4,\n",
      "        \"buildmate_score\": 7,\n",
      "        \"reason\": \"gpt4o配置過低，BuildMate較均衡，但SSD選擇需升級NVMe。\"\n",
      "      },\n",
      "      \"Agent2\": {\n",
      "        \"gpt4o_score\": 3,\n",
      "        \"buildmate_score\": 7,\n",
      "        \"reason\": \"gpt4o顯卡過弱，CPU也低，BuildMate較佳，但記憶體單通道需調整。\"\n",
      "      },\n",
      "      \"Agent3\": {\n",
      "        \"gpt4o_score\": 4,\n",
      "        \"buildmate_score\": 8,\n",
      "        \"reason\": \"gpt4o配置過低，無法滿足Solidworks需求。BuildMate合理，但SSD宜升級NVMe。\"\n",
      "      }\n",
      "    },\n",
      "    {\n",
      "      \"round_number\": 2,\n",
      "      \"Agent1\": {\n",
      "        \"gpt4o_score\": 4,\n",
      "        \"buildmate_score\": 7,\n",
      "        \"reason\": \"gpt4o規格低，不符Solidworks需求。BuildMate均衡，SSD宜升級NVMe。\"\n",
      "      },\n",
      "      \"Agent2\": {\n",
      "        \"gpt4o_score\": 4,\n",
      "        \"buildmate_score\": 8,\n",
      "        \"reason\": \"gpt4o性價比低，規格不符需求。BuildMate較佳，SSD建議升級NVMe。\"\n",
      "      },\n",
      "      \"Agent3\": {\n",
      "        \"gpt4o_score\": 4,\n",
      "        \"buildmate_score\": 7,\n",
      "        \"reason\": \"gpt4o規格明顯不足以運行Solidworks/AutoCAD。BuildMate較佳，但SSD宜升級NVMe。\"\n",
      "      }\n",
      "    }\n",
      "  ]\n",
      "}\n"
     ]
    },
    {
     "data": {
      "text/html": [
       "<pre style=\"white-space:pre;overflow-x:auto;line-height:normal;font-family:Menlo,'DejaVu Sans Mono',consolas,'Courier New',monospace\"><span style=\"font-weight: bold\">{</span>\n",
       "    <span style=\"color: #008000; text-decoration-color: #008000\">'question_id'</span>: <span style=\"color: #008080; text-decoration-color: #008080; font-weight: bold\">7</span>,\n",
       "    <span style=\"color: #008000; text-decoration-color: #008000\">'question'</span>: <span style=\"color: #008000; text-decoration-color: #008000\">'有沒有推薦的遊戲主機配置？預算在45000元，想要玩 POE、APEX等槍戰、LOL。'</span>,\n",
       "    <span style=\"color: #008000; text-decoration-color: #008000\">'gpt4o_recommendation'</span>: <span style=\"color: #008000; text-decoration-color: #008000\">'CPU: AMD Ryzen 5 5600X | price: 5990\\nMotherboard: 華碩 TUF Gaming B550M-PLUS (Wi-Fi) </span>\n",
       "<span style=\"color: #008000; text-decoration-color: #008000\">(M-ATX) | price: 3290\\nMemory: Corsair Vengeance LPX 16GB (2 x 8GB) DDR4-3200 | price: 1890\\nGPU: NVIDIA GeForce </span>\n",
       "<span style=\"color: #008000; text-decoration-color: #008000\">GTX 1660 Super 6GB | price: 7490\\nStorage: Samsung 970 EVO Plus 500GB NVMe M.2 | price: 1990\\nPower Supply: </span>\n",
       "<span style=\"color: #008000; text-decoration-color: #008000\">Seasonic Focus GX-650 (650W) 80+ Gold | price: 2990\\nCase: Cooler Master MasterBox Q300L | price: 1390\\nCase Fan: </span>\n",
       "<span style=\"color: #008000; text-decoration-color: #008000\">Noctua NF-P12 redux-1700 PWM | price: 790\\n總價: 25820'</span>,\n",
       "    <span style=\"color: #008000; text-decoration-color: #008000\">'buildmate_recommendation'</span>: <span style=\"color: #008000; text-decoration-color: #008000\">'CPU: Intel i5-14600K | price: 7990\\nMotherboard: 華碩 PRIME </span>\n",
       "<span style=\"color: #008000; text-decoration-color: #008000\">H610M-K-CSM(DDR5)(M-ATX/1A1H/Realtek 1Gb/註冊四年/2DIMM) | price: 2890\\nMemory: 威剛 單條16GB DDR5 6000 XPG Lancer </span>\n",
       "<span style=\"color: #008000; text-decoration-color: #008000\">Blade(矮版散熱片)/CL48黑【雙參數】 | price: 1349\\nGPU: Acer Nitro Intel ARC B580 OC 12GB | price: 8690\\nStorage: </span>\n",
       "<span style=\"color: #008000; text-decoration-color: #008000\">威剛 Ultimate SU800 512G/2.5吋/讀:560M/寫:520M/TLC/DRAM快取/SMI/台灣製【五年】 | price: 1499\\nPower Supply: 全漢 </span>\n",
       "<span style=\"color: #008000; text-decoration-color: #008000\">HYDRO G PRO 1000W ATX3.0(PCIe 5.0) 雙8/金牌/全模/全日系/防潮塗層/10年保 | price: 4890\\nCase: 銀欣 RL08 紅黑 | </span>\n",
       "<span style=\"color: #008000; text-decoration-color: #008000\">price: 1290\\nCase Fan: MSI MEG SILENT GALE P12 靜音風扇 | price: 790\\n總價: 29388'</span>\n",
       "<span style=\"font-weight: bold\">}</span>\n",
       "</pre>\n"
      ],
      "text/plain": [
       "\u001b[1m{\u001b[0m\n",
       "    \u001b[32m'question_id'\u001b[0m: \u001b[1;36m7\u001b[0m,\n",
       "    \u001b[32m'question'\u001b[0m: \u001b[32m'有沒有推薦的遊戲主機配置？預算在45000元，想要玩 POE、APEX等槍戰、LOL。'\u001b[0m,\n",
       "    \u001b[32m'gpt4o_recommendation'\u001b[0m: \u001b[32m'CPU: AMD Ryzen 5 5600X | price: 5990\\nMotherboard: 華碩 TUF Gaming B550M-PLUS \u001b[0m\u001b[32m(\u001b[0m\u001b[32mWi-Fi\u001b[0m\u001b[32m)\u001b[0m\u001b[32m \u001b[0m\n",
       "\u001b[32m(\u001b[0m\u001b[32mM-ATX\u001b[0m\u001b[32m)\u001b[0m\u001b[32m | price: 3290\\nMemory: Corsair Vengeance LPX 16GB \u001b[0m\u001b[32m(\u001b[0m\u001b[32m2 x 8GB\u001b[0m\u001b[32m)\u001b[0m\u001b[32m DDR4-3200 | price: 1890\\nGPU: NVIDIA GeForce \u001b[0m\n",
       "\u001b[32mGTX 1660 Super 6GB | price: 7490\\nStorage: Samsung 970 EVO Plus 500GB NVMe M.2 | price: 1990\\nPower Supply: \u001b[0m\n",
       "\u001b[32mSeasonic Focus GX-650 \u001b[0m\u001b[32m(\u001b[0m\u001b[32m650W\u001b[0m\u001b[32m)\u001b[0m\u001b[32m 80+ Gold | price: 2990\\nCase: Cooler Master MasterBox Q300L | price: 1390\\nCase Fan: \u001b[0m\n",
       "\u001b[32mNoctua NF-P12 redux-1700 PWM | price: 790\\n總價: 25820'\u001b[0m,\n",
       "    \u001b[32m'buildmate_recommendation'\u001b[0m: \u001b[32m'CPU: Intel i5-14600K | price: 7990\\nMotherboard: 華碩 PRIME \u001b[0m\n",
       "\u001b[32mH610M-K-CSM\u001b[0m\u001b[32m(\u001b[0m\u001b[32mDDR5\u001b[0m\u001b[32m)\u001b[0m\u001b[32m(\u001b[0m\u001b[32mM-ATX/1A1H/Realtek 1Gb/註冊四年/2DIMM\u001b[0m\u001b[32m)\u001b[0m\u001b[32m | price: 2890\\nMemory: 威剛 單條16GB DDR5 6000 XPG Lancer \u001b[0m\n",
       "\u001b[32mBlade\u001b[0m\u001b[32m(\u001b[0m\u001b[32m矮版散熱片\u001b[0m\u001b[32m)\u001b[0m\u001b[32m/CL48黑【雙參數】 | price: 1349\\nGPU: Acer Nitro Intel ARC B580 OC 12GB | price: 8690\\nStorage: \u001b[0m\n",
       "\u001b[32m威剛 Ultimate SU800 512G/2.5吋/讀:560M/寫:520M/TLC/DRAM快取/SMI/台灣製【五年】 | price: 1499\\nPower Supply: 全漢 \u001b[0m\n",
       "\u001b[32mHYDRO G PRO 1000W ATX3.0\u001b[0m\u001b[32m(\u001b[0m\u001b[32mPCIe 5.0\u001b[0m\u001b[32m)\u001b[0m\u001b[32m 雙8/金牌/全模/全日系/防潮塗層/10年保 | price: 4890\\nCase: 銀欣 RL08 紅黑 | \u001b[0m\n",
       "\u001b[32mprice: 1290\\nCase Fan: MSI MEG SILENT GALE P12 靜音風扇 | price: 790\\n總價: 29388'\u001b[0m\n",
       "\u001b[1m}\u001b[0m\n"
      ]
     },
     "metadata": {},
     "output_type": "display_data"
    },
    {
     "data": {
      "text/html": [
       "<pre style=\"white-space:pre;overflow-x:auto;line-height:normal;font-family:Menlo,'DejaVu Sans Mono',consolas,'Courier New',monospace\">Agent1: <span style=\"font-weight: bold\">[</span>對gpt4o評價<span style=\"font-weight: bold\">]</span>: <span style=\"color: #008080; text-decoration-color: #008080; font-weight: bold\">7</span>\n",
       "<span style=\"font-weight: bold\">[</span>對BuildMate評價<span style=\"font-weight: bold\">]</span>: <span style=\"color: #008080; text-decoration-color: #008080; font-weight: bold\">4</span>\n",
       "<span style=\"font-weight: bold\">[</span>簡短原因<span style=\"font-weight: bold\">]</span>: gpt4o均衡，價格合理。BuildMate電源瓦數過高，顯示卡選擇不佳。\n",
       "\n",
       "</pre>\n"
      ],
      "text/plain": [
       "Agent1: \u001b[1m[\u001b[0m對gpt4o評價\u001b[1m]\u001b[0m: \u001b[1;36m7\u001b[0m\n",
       "\u001b[1m[\u001b[0m對BuildMate評價\u001b[1m]\u001b[0m: \u001b[1;36m4\u001b[0m\n",
       "\u001b[1m[\u001b[0m簡短原因\u001b[1m]\u001b[0m: gpt4o均衡，價格合理。BuildMate電源瓦數過高，顯示卡選擇不佳。\n",
       "\n"
      ]
     },
     "metadata": {},
     "output_type": "display_data"
    },
    {
     "name": "stdout",
     "output_type": "stream",
     "text": [
      "======\n"
     ]
    },
    {
     "data": {
      "text/html": [
       "<pre style=\"white-space:pre;overflow-x:auto;line-height:normal;font-family:Menlo,'DejaVu Sans Mono',consolas,'Courier New',monospace\">Agent2: <span style=\"font-weight: bold\">[</span>對gpt4o評價<span style=\"font-weight: bold\">]</span>: <span style=\"color: #008080; text-decoration-color: #008080; font-weight: bold\">8</span>\n",
       "<span style=\"font-weight: bold\">[</span>對BuildMate評價<span style=\"font-weight: bold\">]</span>: <span style=\"color: #008080; text-decoration-color: #008080; font-weight: bold\">5</span>\n",
       "<span style=\"font-weight: bold\">[</span>簡短原因<span style=\"font-weight: bold\">]</span>: gpt4o性價比高，零件均衡。BuildMate電源和顯示卡選擇不當，浪費預算。\n",
       "\n",
       "</pre>\n"
      ],
      "text/plain": [
       "Agent2: \u001b[1m[\u001b[0m對gpt4o評價\u001b[1m]\u001b[0m: \u001b[1;36m8\u001b[0m\n",
       "\u001b[1m[\u001b[0m對BuildMate評價\u001b[1m]\u001b[0m: \u001b[1;36m5\u001b[0m\n",
       "\u001b[1m[\u001b[0m簡短原因\u001b[1m]\u001b[0m: gpt4o性價比高，零件均衡。BuildMate電源和顯示卡選擇不當，浪費預算。\n",
       "\n"
      ]
     },
     "metadata": {},
     "output_type": "display_data"
    },
    {
     "name": "stdout",
     "output_type": "stream",
     "text": [
      "======\n"
     ]
    },
    {
     "data": {
      "text/html": [
       "<pre style=\"white-space:pre;overflow-x:auto;line-height:normal;font-family:Menlo,'DejaVu Sans Mono',consolas,'Courier New',monospace\">Agent3: <span style=\"font-weight: bold\">[</span>對gpt4o評價<span style=\"font-weight: bold\">]</span>: <span style=\"color: #008080; text-decoration-color: #008080; font-weight: bold\">8</span>\n",
       "<span style=\"font-weight: bold\">[</span>對BuildMate評價<span style=\"font-weight: bold\">]</span>: <span style=\"color: #008080; text-decoration-color: #008080; font-weight: bold\">4</span>\n",
       "<span style=\"font-weight: bold\">[</span>簡短原因<span style=\"font-weight: bold\">]</span>: gpt4o在預算內提供均衡效能。BuildMate超預算，且B580效能不如1660S。\n",
       "\n",
       "</pre>\n"
      ],
      "text/plain": [
       "Agent3: \u001b[1m[\u001b[0m對gpt4o評價\u001b[1m]\u001b[0m: \u001b[1;36m8\u001b[0m\n",
       "\u001b[1m[\u001b[0m對BuildMate評價\u001b[1m]\u001b[0m: \u001b[1;36m4\u001b[0m\n",
       "\u001b[1m[\u001b[0m簡短原因\u001b[1m]\u001b[0m: gpt4o在預算內提供均衡效能。BuildMate超預算，且B580效能不如1660S。\n",
       "\n"
      ]
     },
     "metadata": {},
     "output_type": "display_data"
    },
    {
     "name": "stdout",
     "output_type": "stream",
     "text": [
      "======\n"
     ]
    },
    {
     "data": {
      "text/html": [
       "<pre style=\"white-space:pre;overflow-x:auto;line-height:normal;font-family:Menlo,'DejaVu Sans Mono',consolas,'Courier New',monospace\">Coordinator: 已達成共識， \n",
       "gpt4o較佳。它在預算內提供更均衡的效能，BuildMate則電源瓦數過高、顯示卡選擇不當且超出預算。\n",
       "\n",
       "</pre>\n"
      ],
      "text/plain": [
       "Coordinator: 已達成共識， \n",
       "gpt4o較佳。它在預算內提供更均衡的效能，BuildMate則電源瓦數過高、顯示卡選擇不當且超出預算。\n",
       "\n"
      ]
     },
     "metadata": {},
     "output_type": "display_data"
    },
    {
     "name": "stdout",
     "output_type": "stream",
     "text": [
      "======\n"
     ]
    },
    {
     "data": {
      "text/html": [
       "<pre style=\"white-space:pre;overflow-x:auto;line-height:normal;font-family:Menlo,'DejaVu Sans Mono',consolas,'Courier New',monospace\">Agent1: <span style=\"font-weight: bold\">[</span>對gpt4o評價<span style=\"font-weight: bold\">]</span>: <span style=\"color: #008080; text-decoration-color: #008080; font-weight: bold\">8</span>\n",
       "<span style=\"font-weight: bold\">[</span>對BuildMate評價<span style=\"font-weight: bold\">]</span>: <span style=\"color: #008080; text-decoration-color: #008080; font-weight: bold\">5</span>\n",
       "<span style=\"font-weight: bold\">[</span>簡短原因<span style=\"font-weight: bold\">]</span>: gpt4o性價比高，配置均衡。BuildMate B580效能低落，1000W電源浪費。\n",
       "\n",
       "</pre>\n"
      ],
      "text/plain": [
       "Agent1: \u001b[1m[\u001b[0m對gpt4o評價\u001b[1m]\u001b[0m: \u001b[1;36m8\u001b[0m\n",
       "\u001b[1m[\u001b[0m對BuildMate評價\u001b[1m]\u001b[0m: \u001b[1;36m5\u001b[0m\n",
       "\u001b[1m[\u001b[0m簡短原因\u001b[1m]\u001b[0m: gpt4o性價比高，配置均衡。BuildMate B580效能低落，1000W電源浪費。\n",
       "\n"
      ]
     },
     "metadata": {},
     "output_type": "display_data"
    },
    {
     "name": "stdout",
     "output_type": "stream",
     "text": [
      "======\n"
     ]
    },
    {
     "data": {
      "text/html": [
       "<pre style=\"white-space:pre;overflow-x:auto;line-height:normal;font-family:Menlo,'DejaVu Sans Mono',consolas,'Courier New',monospace\">Agent2: <span style=\"font-weight: bold\">[</span>對gpt4o評價<span style=\"font-weight: bold\">]</span>: <span style=\"color: #008080; text-decoration-color: #008080; font-weight: bold\">9</span>\n",
       "<span style=\"font-weight: bold\">[</span>對BuildMate評價<span style=\"font-weight: bold\">]</span>: <span style=\"color: #008080; text-decoration-color: #008080; font-weight: bold\">4</span>\n",
       "<span style=\"font-weight: bold\">[</span>簡短原因<span style=\"font-weight: bold\">]</span>: gpt4o性價比極高，各項均衡。BuildMate B580效能低、1000W電源過剩且浪費預算。\n",
       "\n",
       "</pre>\n"
      ],
      "text/plain": [
       "Agent2: \u001b[1m[\u001b[0m對gpt4o評價\u001b[1m]\u001b[0m: \u001b[1;36m9\u001b[0m\n",
       "\u001b[1m[\u001b[0m對BuildMate評價\u001b[1m]\u001b[0m: \u001b[1;36m4\u001b[0m\n",
       "\u001b[1m[\u001b[0m簡短原因\u001b[1m]\u001b[0m: gpt4o性價比極高，各項均衡。BuildMate B580效能低、1000W電源過剩且浪費預算。\n",
       "\n"
      ]
     },
     "metadata": {},
     "output_type": "display_data"
    },
    {
     "name": "stdout",
     "output_type": "stream",
     "text": [
      "======\n"
     ]
    },
    {
     "data": {
      "text/html": [
       "<pre style=\"white-space:pre;overflow-x:auto;line-height:normal;font-family:Menlo,'DejaVu Sans Mono',consolas,'Courier New',monospace\">Agent3: <span style=\"font-weight: bold\">[</span>對gpt4o評價<span style=\"font-weight: bold\">]</span>: <span style=\"color: #008080; text-decoration-color: #008080; font-weight: bold\">9</span>\n",
       "<span style=\"font-weight: bold\">[</span>對BuildMate評價<span style=\"font-weight: bold\">]</span>: <span style=\"color: #008080; text-decoration-color: #008080; font-weight: bold\">4</span>\n",
       "<span style=\"font-weight: bold\">[</span>簡短原因<span style=\"font-weight: bold\">]</span>: gpt4o性價比高，滿足需求。BuildMate配置不合理，浪費預算在低效能硬體上。\n",
       "\n",
       "</pre>\n"
      ],
      "text/plain": [
       "Agent3: \u001b[1m[\u001b[0m對gpt4o評價\u001b[1m]\u001b[0m: \u001b[1;36m9\u001b[0m\n",
       "\u001b[1m[\u001b[0m對BuildMate評價\u001b[1m]\u001b[0m: \u001b[1;36m4\u001b[0m\n",
       "\u001b[1m[\u001b[0m簡短原因\u001b[1m]\u001b[0m: gpt4o性價比高，滿足需求。BuildMate配置不合理，浪費預算在低效能硬體上。\n",
       "\n"
      ]
     },
     "metadata": {},
     "output_type": "display_data"
    },
    {
     "name": "stdout",
     "output_type": "stream",
     "text": [
      "======\n"
     ]
    },
    {
     "data": {
      "text/html": [
       "<pre style=\"white-space:pre;overflow-x:auto;line-height:normal;font-family:Menlo,'DejaVu Sans Mono',consolas,'Courier New',monospace\">Coordinator: \n",
       "已達成共識，gpt4o較佳。它在價格較低的情況下，提供更均衡合理的配置，BuildMate則顯示卡效能低、電源瓦數過高且浪費預算\n",
       "。\n",
       "\n",
       "</pre>\n"
      ],
      "text/plain": [
       "Coordinator: \n",
       "已達成共識，gpt4o較佳。它在價格較低的情況下，提供更均衡合理的配置，BuildMate則顯示卡效能低、電源瓦數過高且浪費預算\n",
       "。\n",
       "\n"
      ]
     },
     "metadata": {},
     "output_type": "display_data"
    },
    {
     "name": "stdout",
     "output_type": "stream",
     "text": [
      "======\n",
      "{'Coordinator': {'messages': [HumanMessage(content='Agent1: [對gpt4o評價]: 7\\n[對BuildMate評價]: 4\\n[簡短原因]: gpt4o均衡，價格合理。BuildMate電源瓦數過高，顯示卡選擇不佳。\\n', additional_kwargs={}, response_metadata={}), HumanMessage(content='Agent2: [對gpt4o評價]: 8\\n[對BuildMate評價]: 5\\n[簡短原因]: gpt4o性價比高，零件均衡。BuildMate電源和顯示卡選擇不當，浪費預算。\\n', additional_kwargs={}, response_metadata={}), HumanMessage(content='Agent3: [對gpt4o評價]: 8\\n[對BuildMate評價]: 4\\n[簡短原因]: gpt4o在預算內提供均衡效能。BuildMate超預算，且B580效能不如1660S。\\n', additional_kwargs={}, response_metadata={}), HumanMessage(content='Coordinator: 已達成共識， gpt4o較佳。它在預算內提供更均衡的效能，BuildMate則電源瓦數過高、顯示卡選擇不當且超出預算。\\n', additional_kwargs={}, response_metadata={}), HumanMessage(content='Agent1: [對gpt4o評價]: 8\\n[對BuildMate評價]: 5\\n[簡短原因]: gpt4o性價比高，配置均衡。BuildMate B580效能低落，1000W電源浪費。\\n', additional_kwargs={}, response_metadata={}), HumanMessage(content='Agent2: [對gpt4o評價]: 9\\n[對BuildMate評價]: 4\\n[簡短原因]: gpt4o性價比極高，各項均衡。BuildMate B580效能低、1000W電源過剩且浪費預算。\\n', additional_kwargs={}, response_metadata={}), HumanMessage(content='Agent3: [對gpt4o評價]: 9\\n[對BuildMate評價]: 4\\n[簡短原因]: gpt4o性價比高，滿足需求。BuildMate配置不合理，浪費預算在低效能硬體上。\\n', additional_kwargs={}, response_metadata={}), HumanMessage(content='Coordinator: 已達成共識，gpt4o較佳。它在價格較低的情況下，提供更均衡合理的配置，BuildMate則顯示卡效能低、電源瓦數過高且浪費預算。\\n', additional_kwargs={}, response_metadata={})], 'next_agent': '__end__', 'question_id': 7, 'question': '有沒有推薦的遊戲主機配置？預算在45000元，想要玩 POE、APEX等槍戰、LOL。', 'gpt4o_recommendation': 'CPU: AMD Ryzen 5 5600X | price: 5990\\nMotherboard: 華碩 TUF Gaming B550M-PLUS (Wi-Fi) (M-ATX) | price: 3290\\nMemory: Corsair Vengeance LPX 16GB (2 x 8GB) DDR4-3200 | price: 1890\\nGPU: NVIDIA GeForce GTX 1660 Super 6GB | price: 7490\\nStorage: Samsung 970 EVO Plus 500GB NVMe M.2 | price: 1990\\nPower Supply: Seasonic Focus GX-650 (650W) 80+ Gold | price: 2990\\nCase: Cooler Master MasterBox Q300L | price: 1390\\nCase Fan: Noctua NF-P12 redux-1700 PWM | price: 790\\n總價: 25820', 'buildmate_recommendation': 'CPU: Intel i5-14600K | price: 7990\\nMotherboard: 華碩 PRIME H610M-K-CSM(DDR5)(M-ATX/1A1H/Realtek 1Gb/註冊四年/2DIMM) | price: 2890\\nMemory: 威剛 單條16GB DDR5 6000 XPG Lancer Blade(矮版散熱片)/CL48黑【雙參數】 | price: 1349\\nGPU: Acer Nitro Intel ARC B580 OC 12GB | price: 8690\\nStorage: 威剛 Ultimate SU800 512G/2.5吋/讀:560M/寫:520M/TLC/DRAM快取/SMI/台灣製【五年】 | price: 1499\\nPower Supply: 全漢 HYDRO G PRO 1000W ATX3.0(PCIe 5.0) 雙8/金牌/全模/全日系/防潮塗層/10年保 | price: 4890\\nCase: 銀欣 RL08 紅黑 | price: 1290\\nCase Fan: MSI MEG SILENT GALE P12 靜音風扇 | price: 790\\n總價: 29388', 'agent_scores': {'Agent1_round1': {'gpt4o_score': 7, 'buildmate_score': 4, 'reason': 'gpt4o均衡，價格合理。BuildMate電源瓦數過高，顯示卡選擇不佳。'}, 'Agent2_round1': {'gpt4o_score': 8, 'buildmate_score': 5, 'reason': 'gpt4o性價比高，零件均衡。BuildMate電源和顯示卡選擇不當，浪費預算。'}, 'Agent3_round1': {'gpt4o_score': 8, 'buildmate_score': 4, 'reason': 'gpt4o在預算內提供均衡效能。BuildMate超預算，且B580效能不如1660S。'}, 'Agent1_round2': {'gpt4o_score': 8, 'buildmate_score': 5, 'reason': 'gpt4o性價比高，配置均衡。BuildMate B580效能低落，1000W電源浪費。'}, 'Agent2_round2': {'gpt4o_score': 9, 'buildmate_score': 4, 'reason': 'gpt4o性價比極高，各項均衡。BuildMate B580效能低、1000W電源過剩且浪費預算。'}, 'Agent3_round2': {'gpt4o_score': 9, 'buildmate_score': 4, 'reason': 'gpt4o性價比高，滿足需求。BuildMate配置不合理，浪費預算在低效能硬體上。'}}, 'round_count': 2, 'max_rounds': 3, 'consensus_reached': True}}\n",
      "{\n",
      "  \"question_id\": 7,\n",
      "  \"question\": \"有沒有推薦的遊戲主機配置？預算在45000元，想要玩 POE、APEX等槍戰、LOL。\",\n",
      "  \"buildmate_recommendation\": \"CPU: Intel i5-14600K | price: 7990\\nMotherboard: 華碩 PRIME H610M-K-CSM(DDR5)(M-ATX/1A1H/Realtek 1Gb/註冊四年/2DIMM) | price: 2890\\nMemory: 威剛 單條16GB DDR5 6000 XPG Lancer Blade(矮版散熱片)/CL48黑【雙參數】 | price: 1349\\nGPU: Acer Nitro Intel ARC B580 OC 12GB | price: 8690\\nStorage: 威剛 Ultimate SU800 512G/2.5吋/讀:560M/寫:520M/TLC/DRAM快取/SMI/台灣製【五年】 | price: 1499\\nPower Supply: 全漢 HYDRO G PRO 1000W ATX3.0(PCIe 5.0) 雙8/金牌/全模/全日系/防潮塗層/10年保 | price: 4890\\nCase: 銀欣 RL08 紅黑 | price: 1290\\nCase Fan: MSI MEG SILENT GALE P12 靜音風扇 | price: 790\\n總價: 29388\",\n",
      "  \"gpt4o_recommendation\": \"CPU: AMD Ryzen 5 5600X | price: 5990\\nMotherboard: 華碩 TUF Gaming B550M-PLUS (Wi-Fi) (M-ATX) | price: 3290\\nMemory: Corsair Vengeance LPX 16GB (2 x 8GB) DDR4-3200 | price: 1890\\nGPU: NVIDIA GeForce GTX 1660 Super 6GB | price: 7490\\nStorage: Samsung 970 EVO Plus 500GB NVMe M.2 | price: 1990\\nPower Supply: Seasonic Focus GX-650 (650W) 80+ Gold | price: 2990\\nCase: Cooler Master MasterBox Q300L | price: 1390\\nCase Fan: Noctua NF-P12 redux-1700 PWM | price: 790\\n總價: 25820\",\n",
      "  \"winner\": 0,\n",
      "  \"buildmate_avg_score\": 4.333333333333333,\n",
      "  \"gpt4o_avg_score\": 8.166666666666666,\n",
      "  \"rounds\": [\n",
      "    {\n",
      "      \"round_number\": 1,\n",
      "      \"Agent1\": {\n",
      "        \"gpt4o_score\": 7,\n",
      "        \"buildmate_score\": 4,\n",
      "        \"reason\": \"gpt4o均衡，價格合理。BuildMate電源瓦數過高，顯示卡選擇不佳。\"\n",
      "      },\n",
      "      \"Agent2\": {\n",
      "        \"gpt4o_score\": 8,\n",
      "        \"buildmate_score\": 5,\n",
      "        \"reason\": \"gpt4o性價比高，零件均衡。BuildMate電源和顯示卡選擇不當，浪費預算。\"\n",
      "      },\n",
      "      \"Agent3\": {\n",
      "        \"gpt4o_score\": 8,\n",
      "        \"buildmate_score\": 4,\n",
      "        \"reason\": \"gpt4o在預算內提供均衡效能。BuildMate超預算，且B580效能不如1660S。\"\n",
      "      }\n",
      "    },\n",
      "    {\n",
      "      \"round_number\": 2,\n",
      "      \"Agent1\": {\n",
      "        \"gpt4o_score\": 8,\n",
      "        \"buildmate_score\": 5,\n",
      "        \"reason\": \"gpt4o性價比高，配置均衡。BuildMate B580效能低落，1000W電源浪費。\"\n",
      "      },\n",
      "      \"Agent2\": {\n",
      "        \"gpt4o_score\": 9,\n",
      "        \"buildmate_score\": 4,\n",
      "        \"reason\": \"gpt4o性價比極高，各項均衡。BuildMate B580效能低、1000W電源過剩且浪費預算。\"\n",
      "      },\n",
      "      \"Agent3\": {\n",
      "        \"gpt4o_score\": 9,\n",
      "        \"buildmate_score\": 4,\n",
      "        \"reason\": \"gpt4o性價比高，滿足需求。BuildMate配置不合理，浪費預算在低效能硬體上。\"\n",
      "      }\n",
      "    }\n",
      "  ]\n",
      "}\n"
     ]
    },
    {
     "data": {
      "text/html": [
       "<pre style=\"white-space:pre;overflow-x:auto;line-height:normal;font-family:Menlo,'DejaVu Sans Mono',consolas,'Courier New',monospace\"><span style=\"font-weight: bold\">{</span>\n",
       "    <span style=\"color: #008000; text-decoration-color: #008000\">'question_id'</span>: <span style=\"color: #008080; text-decoration-color: #008080; font-weight: bold\">8</span>,\n",
       "    <span style=\"color: #008000; text-decoration-color: #008000\">'question'</span>: <span style=\"color: #008000; text-decoration-color: #008000\">'預算約45000元，需要一台主要用來跑Adobe系列軟體的電腦，特別是Photoshop和After Effects。'</span>,\n",
       "    <span style=\"color: #008000; text-decoration-color: #008000\">'gpt4o_recommendation'</span>: <span style=\"color: #008000; text-decoration-color: #008000\">'CPU: AMD Ryzen 5 5600X | price: 5990\\nMotherboard: 華碩 TUF GAMING B550M-PLUS | price:</span>\n",
       "<span style=\"color: #008000; text-decoration-color: #008000\">3290\\nMemory: Corsair Vengeance LPX 16GB (2x8GB) DDR4-3200 | price: 1990\\nGPU: NVIDIA GeForce RTX 3060 12GB | </span>\n",
       "<span style=\"color: #008000; text-decoration-color: #008000\">price: 10900\\nStorage: Samsung 970 EVO Plus 500GB NVMe M.2 | price: 1990\\nPower Supply: Seasonic Focus GX-650 </span>\n",
       "<span style=\"color: #008000; text-decoration-color: #008000\">(650W) 80 PLUS Gold | price: 3290\\nCase: Cooler Master MasterBox Q300L | price: 1290\\nCase Fan: Noctua NF-P12 </span>\n",
       "<span style=\"color: #008000; text-decoration-color: #008000\">redux-1700 PWM | price: 790\\n總價: 29530'</span>,\n",
       "    <span style=\"color: #008000; text-decoration-color: #008000\">'buildmate_recommendation'</span>: <span style=\"color: #008000; text-decoration-color: #008000\">'CPU: Intel i7-14700F | price: 9700\\nMotherboard: 華碩 PRIME H610M-K </span>\n",
       "<span style=\"color: #008000; text-decoration-color: #008000\">D4-CSM(M-ATX/1A1H/Realtek 1Gb/註冊四年/2DIMM)6+1+1相 | price: 2890\\nMemory: 威剛 單條16GB DDR5 6000 XPG Lancer </span>\n",
       "<span style=\"color: #008000; text-decoration-color: #008000\">Blade(矮版散熱片)/CL48黑【雙參數】 | price: 1349\\nGPU: 華擎 ARC B580 Challenger 12G OC | price: 9290\\nStorage: 威剛</span>\n",
       "<span style=\"color: #008000; text-decoration-color: #008000\">Ultimate SU800 512G/2.5吋/讀:560M/寫:520M/TLC/DRAM快取/SMI/台灣製【五年】 | price: 1499\\nPower Supply: Antec </span>\n",
       "<span style=\"color: #008000; text-decoration-color: #008000\">HCG1000(1000W)雙8/金牌/全模/全日系/智慧溫控風扇/10年保 | price: 3990\\nCase: 華碩 A21 黑 | price: 1490\\nCase Fan: </span>\n",
       "<span style=\"color: #008000; text-decoration-color: #008000\">MONTECH AX120 PWM 黑 風扇/A.RGB/1600RPM/HDB軸/三年保 | price: 299\\n總價: 30507'</span>\n",
       "<span style=\"font-weight: bold\">}</span>\n",
       "</pre>\n"
      ],
      "text/plain": [
       "\u001b[1m{\u001b[0m\n",
       "    \u001b[32m'question_id'\u001b[0m: \u001b[1;36m8\u001b[0m,\n",
       "    \u001b[32m'question'\u001b[0m: \u001b[32m'預算約45000元，需要一台主要用來跑Adobe系列軟體的電腦，特別是Photoshop和After Effects。'\u001b[0m,\n",
       "    \u001b[32m'gpt4o_recommendation'\u001b[0m: \u001b[32m'CPU: AMD Ryzen 5 5600X | price: 5990\\nMotherboard: 華碩 TUF GAMING B550M-PLUS | price:\u001b[0m\n",
       "\u001b[32m3290\\nMemory: Corsair Vengeance LPX 16GB \u001b[0m\u001b[32m(\u001b[0m\u001b[32m2x8GB\u001b[0m\u001b[32m)\u001b[0m\u001b[32m DDR4-3200 | price: 1990\\nGPU: NVIDIA GeForce RTX 3060 12GB | \u001b[0m\n",
       "\u001b[32mprice: 10900\\nStorage: Samsung 970 EVO Plus 500GB NVMe M.2 | price: 1990\\nPower Supply: Seasonic Focus GX-650 \u001b[0m\n",
       "\u001b[32m(\u001b[0m\u001b[32m650W\u001b[0m\u001b[32m)\u001b[0m\u001b[32m 80 PLUS Gold | price: 3290\\nCase: Cooler Master MasterBox Q300L | price: 1290\\nCase Fan: Noctua NF-P12 \u001b[0m\n",
       "\u001b[32mredux-1700 PWM | price: 790\\n總價: 29530'\u001b[0m,\n",
       "    \u001b[32m'buildmate_recommendation'\u001b[0m: \u001b[32m'CPU: Intel i7-14700F | price: 9700\\nMotherboard: 華碩 PRIME H610M-K \u001b[0m\n",
       "\u001b[32mD4-CSM\u001b[0m\u001b[32m(\u001b[0m\u001b[32mM-ATX/1A1H/Realtek 1Gb/註冊四年/2DIMM\u001b[0m\u001b[32m)\u001b[0m\u001b[32m6+1+1相 | price: 2890\\nMemory: 威剛 單條16GB DDR5 6000 XPG Lancer \u001b[0m\n",
       "\u001b[32mBlade\u001b[0m\u001b[32m(\u001b[0m\u001b[32m矮版散熱片\u001b[0m\u001b[32m)\u001b[0m\u001b[32m/CL48黑【雙參數】 | price: 1349\\nGPU: 華擎 ARC B580 Challenger 12G OC | price: 9290\\nStorage: 威剛\u001b[0m\n",
       "\u001b[32mUltimate SU800 512G/2.5吋/讀:560M/寫:520M/TLC/DRAM快取/SMI/台灣製【五年】 | price: 1499\\nPower Supply: Antec \u001b[0m\n",
       "\u001b[32mHCG1000\u001b[0m\u001b[32m(\u001b[0m\u001b[32m1000W\u001b[0m\u001b[32m)\u001b[0m\u001b[32m雙8/金牌/全模/全日系/智慧溫控風扇/10年保 | price: 3990\\nCase: 華碩 A21 黑 | price: 1490\\nCase Fan: \u001b[0m\n",
       "\u001b[32mMONTECH AX120 PWM 黑 風扇/A.RGB/1600RPM/HDB軸/三年保 | price: 299\\n總價: 30507'\u001b[0m\n",
       "\u001b[1m}\u001b[0m\n"
      ]
     },
     "metadata": {},
     "output_type": "display_data"
    },
    {
     "data": {
      "text/html": [
       "<pre style=\"white-space:pre;overflow-x:auto;line-height:normal;font-family:Menlo,'DejaVu Sans Mono',consolas,'Courier New',monospace\">Agent1: <span style=\"font-weight: bold\">[</span>對gpt4o評價<span style=\"font-weight: bold\">]</span>: <span style=\"color: #008080; text-decoration-color: #008080; font-weight: bold\">7</span>\n",
       "<span style=\"font-weight: bold\">[</span>對BuildMate評價<span style=\"font-weight: bold\">]</span>: <span style=\"color: #008080; text-decoration-color: #008080; font-weight: bold\">5</span>\n",
       "<span style=\"font-weight: bold\">[</span>簡短原因<span style=\"font-weight: bold\">]</span>: gpt4o配置均衡，3060在Adobe表現較佳。BuildMate的電源瓦數過高，B580相容性堪慮。\n",
       "\n",
       "</pre>\n"
      ],
      "text/plain": [
       "Agent1: \u001b[1m[\u001b[0m對gpt4o評價\u001b[1m]\u001b[0m: \u001b[1;36m7\u001b[0m\n",
       "\u001b[1m[\u001b[0m對BuildMate評價\u001b[1m]\u001b[0m: \u001b[1;36m5\u001b[0m\n",
       "\u001b[1m[\u001b[0m簡短原因\u001b[1m]\u001b[0m: gpt4o配置均衡，3060在Adobe表現較佳。BuildMate的電源瓦數過高，B580相容性堪慮。\n",
       "\n"
      ]
     },
     "metadata": {},
     "output_type": "display_data"
    },
    {
     "name": "stdout",
     "output_type": "stream",
     "text": [
      "======\n"
     ]
    },
    {
     "data": {
      "text/html": [
       "<pre style=\"white-space:pre;overflow-x:auto;line-height:normal;font-family:Menlo,'DejaVu Sans Mono',consolas,'Courier New',monospace\">Agent2: <span style=\"font-weight: bold\">[</span>對gpt4o評價<span style=\"font-weight: bold\">]</span>: <span style=\"color: #008080; text-decoration-color: #008080; font-weight: bold\">8</span>\n",
       "<span style=\"font-weight: bold\">[</span>對BuildMate評價<span style=\"font-weight: bold\">]</span>: <span style=\"color: #008080; text-decoration-color: #008080; font-weight: bold\">5</span>\n",
       "<span style=\"font-weight: bold\">[</span>簡短原因<span style=\"font-weight: bold\">]</span>: gpt4o 3060在Adobe更佳，價格合理。BuildMate B580 Adobe相容性差，1000W電源浪費。\n",
       "\n",
       "</pre>\n"
      ],
      "text/plain": [
       "Agent2: \u001b[1m[\u001b[0m對gpt4o評價\u001b[1m]\u001b[0m: \u001b[1;36m8\u001b[0m\n",
       "\u001b[1m[\u001b[0m對BuildMate評價\u001b[1m]\u001b[0m: \u001b[1;36m5\u001b[0m\n",
       "\u001b[1m[\u001b[0m簡短原因\u001b[1m]\u001b[0m: gpt4o 3060在Adobe更佳，價格合理。BuildMate B580 Adobe相容性差，1000W電源浪費。\n",
       "\n"
      ]
     },
     "metadata": {},
     "output_type": "display_data"
    },
    {
     "name": "stdout",
     "output_type": "stream",
     "text": [
      "======\n"
     ]
    },
    {
     "data": {
      "text/html": [
       "<pre style=\"white-space:pre;overflow-x:auto;line-height:normal;font-family:Menlo,'DejaVu Sans Mono',consolas,'Courier New',monospace\">Agent3: <span style=\"font-weight: bold\">[</span>對gpt4o評價<span style=\"font-weight: bold\">]</span>: <span style=\"color: #008080; text-decoration-color: #008080; font-weight: bold\">8</span>\n",
       "<span style=\"font-weight: bold\">[</span>對BuildMate評價<span style=\"font-weight: bold\">]</span>: <span style=\"color: #008080; text-decoration-color: #008080; font-weight: bold\">4</span>\n",
       "<span style=\"font-weight: bold\">[</span>簡短原因<span style=\"font-weight: bold\">]</span>: gpt4o性價比高，滿足Adobe需求。BuildMate B580驅動及Adobe相容性問題多，1000W電源過剩。\n",
       "\n",
       "</pre>\n"
      ],
      "text/plain": [
       "Agent3: \u001b[1m[\u001b[0m對gpt4o評價\u001b[1m]\u001b[0m: \u001b[1;36m8\u001b[0m\n",
       "\u001b[1m[\u001b[0m對BuildMate評價\u001b[1m]\u001b[0m: \u001b[1;36m4\u001b[0m\n",
       "\u001b[1m[\u001b[0m簡短原因\u001b[1m]\u001b[0m: gpt4o性價比高，滿足Adobe需求。BuildMate B580驅動及Adobe相容性問題多，1000W電源過剩。\n",
       "\n"
      ]
     },
     "metadata": {},
     "output_type": "display_data"
    },
    {
     "name": "stdout",
     "output_type": "stream",
     "text": [
      "======\n"
     ]
    },
    {
     "data": {
      "text/html": [
       "<pre style=\"white-space:pre;overflow-x:auto;line-height:normal;font-family:Menlo,'DejaVu Sans Mono',consolas,'Courier New',monospace\">Coordinator: 已達成共識， gpt4o較佳。在Adobe軟體應用上，3060表現優於B580，且gpt4o整體配置更均衡、價格更具優勢。\n",
       "\n",
       "</pre>\n"
      ],
      "text/plain": [
       "Coordinator: 已達成共識， gpt4o較佳。在Adobe軟體應用上，3060表現優於B580，且gpt4o整體配置更均衡、價格更具優勢。\n",
       "\n"
      ]
     },
     "metadata": {},
     "output_type": "display_data"
    },
    {
     "name": "stdout",
     "output_type": "stream",
     "text": [
      "======\n"
     ]
    },
    {
     "data": {
      "text/html": [
       "<pre style=\"white-space:pre;overflow-x:auto;line-height:normal;font-family:Menlo,'DejaVu Sans Mono',consolas,'Courier New',monospace\">Agent1: <span style=\"font-weight: bold\">[</span>對gpt4o評價<span style=\"font-weight: bold\">]</span>: <span style=\"color: #008080; text-decoration-color: #008080; font-weight: bold\">8</span>\n",
       "<span style=\"font-weight: bold\">[</span>對BuildMate評價<span style=\"font-weight: bold\">]</span>: <span style=\"color: #008080; text-decoration-color: #008080; font-weight: bold\">5</span>\n",
       "<span style=\"font-weight: bold\">[</span>簡短原因<span style=\"font-weight: bold\">]</span>: gpt4o均衡，3060對Adobe更佳。BuildMate i7-14700F配H610限制效能，B580 Adobe相容性問題多。\n",
       "\n",
       "</pre>\n"
      ],
      "text/plain": [
       "Agent1: \u001b[1m[\u001b[0m對gpt4o評價\u001b[1m]\u001b[0m: \u001b[1;36m8\u001b[0m\n",
       "\u001b[1m[\u001b[0m對BuildMate評價\u001b[1m]\u001b[0m: \u001b[1;36m5\u001b[0m\n",
       "\u001b[1m[\u001b[0m簡短原因\u001b[1m]\u001b[0m: gpt4o均衡，3060對Adobe更佳。BuildMate i7-14700F配H610限制效能，B580 Adobe相容性問題多。\n",
       "\n"
      ]
     },
     "metadata": {},
     "output_type": "display_data"
    },
    {
     "name": "stdout",
     "output_type": "stream",
     "text": [
      "======\n"
     ]
    },
    {
     "data": {
      "text/html": [
       "<pre style=\"white-space:pre;overflow-x:auto;line-height:normal;font-family:Menlo,'DejaVu Sans Mono',consolas,'Courier New',monospace\">Agent2: <span style=\"font-weight: bold\">[</span>對gpt4o評價<span style=\"font-weight: bold\">]</span>: <span style=\"color: #008080; text-decoration-color: #008080; font-weight: bold\">9</span>\n",
       "<span style=\"font-weight: bold\">[</span>對BuildMate評價<span style=\"font-weight: bold\">]</span>: <span style=\"color: #008080; text-decoration-color: #008080; font-weight: bold\">4</span>\n",
       "<span style=\"font-weight: bold\">[</span>簡短原因<span style=\"font-weight: bold\">]</span>: gpt4o配置均衡，性價比高。BuildMate i7-14700F配低階H610限制效能，浪費預算。\n",
       "\n",
       "</pre>\n"
      ],
      "text/plain": [
       "Agent2: \u001b[1m[\u001b[0m對gpt4o評價\u001b[1m]\u001b[0m: \u001b[1;36m9\u001b[0m\n",
       "\u001b[1m[\u001b[0m對BuildMate評價\u001b[1m]\u001b[0m: \u001b[1;36m4\u001b[0m\n",
       "\u001b[1m[\u001b[0m簡短原因\u001b[1m]\u001b[0m: gpt4o配置均衡，性價比高。BuildMate i7-14700F配低階H610限制效能，浪費預算。\n",
       "\n"
      ]
     },
     "metadata": {},
     "output_type": "display_data"
    },
    {
     "name": "stdout",
     "output_type": "stream",
     "text": [
      "======\n"
     ]
    },
    {
     "data": {
      "text/html": [
       "<pre style=\"white-space:pre;overflow-x:auto;line-height:normal;font-family:Menlo,'DejaVu Sans Mono',consolas,'Courier New',monospace\">Agent3: Agent3: <span style=\"font-weight: bold\">[</span>對gpt4o評價<span style=\"font-weight: bold\">]</span>: <span style=\"color: #008080; text-decoration-color: #008080; font-weight: bold\">9</span>\n",
       "<span style=\"font-weight: bold\">[</span>對BuildMate評價<span style=\"font-weight: bold\">]</span>: <span style=\"color: #008080; text-decoration-color: #008080; font-weight: bold\">4</span>\n",
       "<span style=\"font-weight: bold\">[</span>簡短原因<span style=\"font-weight: bold\">]</span>:  gpt4o性價比高，3060對Adobe更佳。BuildMate i7-14700F配H610嚴重限制效能，浪費預算。\n",
       "\n",
       "</pre>\n"
      ],
      "text/plain": [
       "Agent3: Agent3: \u001b[1m[\u001b[0m對gpt4o評價\u001b[1m]\u001b[0m: \u001b[1;36m9\u001b[0m\n",
       "\u001b[1m[\u001b[0m對BuildMate評價\u001b[1m]\u001b[0m: \u001b[1;36m4\u001b[0m\n",
       "\u001b[1m[\u001b[0m簡短原因\u001b[1m]\u001b[0m:  gpt4o性價比高，3060對Adobe更佳。BuildMate i7-14700F配H610嚴重限制效能，浪費預算。\n",
       "\n"
      ]
     },
     "metadata": {},
     "output_type": "display_data"
    },
    {
     "name": "stdout",
     "output_type": "stream",
     "text": [
      "======\n"
     ]
    },
    {
     "data": {
      "text/html": [
       "<pre style=\"white-space:pre;overflow-x:auto;line-height:normal;font-family:Menlo,'DejaVu Sans Mono',consolas,'Courier New',monospace\">Coordinator: \n",
       "已達成共識，gpt4o較佳。價格更低且配置更合理，3060在Adobe上的表現也優於B580，BuildMate的H610主機板限制了i7-14700F的\n",
       "效能，且1000W電源過剩。\n",
       "\n",
       "</pre>\n"
      ],
      "text/plain": [
       "Coordinator: \n",
       "已達成共識，gpt4o較佳。價格更低且配置更合理，3060在Adobe上的表現也優於B580，BuildMate的H610主機板限制了i7-14700F的\n",
       "效能，且1000W電源過剩。\n",
       "\n"
      ]
     },
     "metadata": {},
     "output_type": "display_data"
    },
    {
     "name": "stdout",
     "output_type": "stream",
     "text": [
      "======\n",
      "{'Coordinator': {'messages': [HumanMessage(content='Agent1: [對gpt4o評價]: 7\\n[對BuildMate評價]: 5\\n[簡短原因]: gpt4o配置均衡，3060在Adobe表現較佳。BuildMate的電源瓦數過高，B580相容性堪慮。\\n', additional_kwargs={}, response_metadata={}), HumanMessage(content='Agent2: [對gpt4o評價]: 8\\n[對BuildMate評價]: 5\\n[簡短原因]: gpt4o 3060在Adobe更佳，價格合理。BuildMate B580 Adobe相容性差，1000W電源浪費。\\n', additional_kwargs={}, response_metadata={}), HumanMessage(content='Agent3: [對gpt4o評價]: 8\\n[對BuildMate評價]: 4\\n[簡短原因]: gpt4o性價比高，滿足Adobe需求。BuildMate B580驅動及Adobe相容性問題多，1000W電源過剩。\\n', additional_kwargs={}, response_metadata={}), HumanMessage(content='Coordinator: 已達成共識， gpt4o較佳。在Adobe軟體應用上，3060表現優於B580，且gpt4o整體配置更均衡、價格更具優勢。\\n', additional_kwargs={}, response_metadata={}), HumanMessage(content='Agent1: [對gpt4o評價]: 8\\n[對BuildMate評價]: 5\\n[簡短原因]: gpt4o均衡，3060對Adobe更佳。BuildMate i7-14700F配H610限制效能，B580 Adobe相容性問題多。\\n', additional_kwargs={}, response_metadata={}), HumanMessage(content='Agent2: [對gpt4o評價]: 9\\n[對BuildMate評價]: 4\\n[簡短原因]: gpt4o配置均衡，性價比高。BuildMate i7-14700F配低階H610限制效能，浪費預算。\\n', additional_kwargs={}, response_metadata={}), HumanMessage(content='Agent3: Agent3: [對gpt4o評價]: 9\\n[對BuildMate評價]: 4\\n[簡短原因]:  gpt4o性價比高，3060對Adobe更佳。BuildMate i7-14700F配H610嚴重限制效能，浪費預算。\\n', additional_kwargs={}, response_metadata={}), HumanMessage(content='Coordinator: 已達成共識，gpt4o較佳。價格更低且配置更合理，3060在Adobe上的表現也優於B580，BuildMate的H610主機板限制了i7-14700F的效能，且1000W電源過剩。\\n', additional_kwargs={}, response_metadata={})], 'next_agent': '__end__', 'question_id': 8, 'question': '預算約45000元，需要一台主要用來跑Adobe系列軟體的電腦，特別是Photoshop和After Effects。', 'gpt4o_recommendation': 'CPU: AMD Ryzen 5 5600X | price: 5990\\nMotherboard: 華碩 TUF GAMING B550M-PLUS | price: 3290\\nMemory: Corsair Vengeance LPX 16GB (2x8GB) DDR4-3200 | price: 1990\\nGPU: NVIDIA GeForce RTX 3060 12GB | price: 10900\\nStorage: Samsung 970 EVO Plus 500GB NVMe M.2 | price: 1990\\nPower Supply: Seasonic Focus GX-650 (650W) 80 PLUS Gold | price: 3290\\nCase: Cooler Master MasterBox Q300L | price: 1290\\nCase Fan: Noctua NF-P12 redux-1700 PWM | price: 790\\n總價: 29530', 'buildmate_recommendation': 'CPU: Intel i7-14700F | price: 9700\\nMotherboard: 華碩 PRIME H610M-K D4-CSM(M-ATX/1A1H/Realtek 1Gb/註冊四年/2DIMM)6+1+1相 | price: 2890\\nMemory: 威剛 單條16GB DDR5 6000 XPG Lancer Blade(矮版散熱片)/CL48黑【雙參數】 | price: 1349\\nGPU: 華擎 ARC B580 Challenger 12G OC | price: 9290\\nStorage: 威剛 Ultimate SU800 512G/2.5吋/讀:560M/寫:520M/TLC/DRAM快取/SMI/台灣製【五年】 | price: 1499\\nPower Supply: Antec HCG1000(1000W)雙8/金牌/全模/全日系/智慧溫控風扇/10年保 | price: 3990\\nCase: 華碩 A21 黑 | price: 1490\\nCase Fan: MONTECH AX120 PWM 黑 風扇/A.RGB/1600RPM/HDB軸/三年保 | price: 299\\n總價: 30507', 'agent_scores': {'Agent1_round1': {'gpt4o_score': 7, 'buildmate_score': 5, 'reason': 'gpt4o配置均衡，3060在Adobe表現較佳。BuildMate的電源瓦數過高，B580相容性堪慮。'}, 'Agent2_round1': {'gpt4o_score': 8, 'buildmate_score': 5, 'reason': 'gpt4o 3060在Adobe更佳，價格合理。BuildMate B580 Adobe相容性差，1000W電源浪費。'}, 'Agent3_round1': {'gpt4o_score': 8, 'buildmate_score': 4, 'reason': 'gpt4o性價比高，滿足Adobe需求。BuildMate B580驅動及Adobe相容性問題多，1000W電源過剩。'}, 'Agent1_round2': {'gpt4o_score': 8, 'buildmate_score': 5, 'reason': 'gpt4o均衡，3060對Adobe更佳。BuildMate i7-14700F配H610限制效能，B580 Adobe相容性問題多。'}, 'Agent2_round2': {'gpt4o_score': 9, 'buildmate_score': 4, 'reason': 'gpt4o配置均衡，性價比高。BuildMate i7-14700F配低階H610限制效能，浪費預算。'}, 'Agent3_round2': {'gpt4o_score': 9, 'buildmate_score': 4, 'reason': 'gpt4o性價比高，3060對Adobe更佳。BuildMate i7-14700F配H610嚴重限制效能，浪費預算。'}}, 'round_count': 2, 'max_rounds': 3, 'consensus_reached': True}}\n",
      "{\n",
      "  \"question_id\": 8,\n",
      "  \"question\": \"預算約45000元，需要一台主要用來跑Adobe系列軟體的電腦，特別是Photoshop和After Effects。\",\n",
      "  \"buildmate_recommendation\": \"CPU: Intel i7-14700F | price: 9700\\nMotherboard: 華碩 PRIME H610M-K D4-CSM(M-ATX/1A1H/Realtek 1Gb/註冊四年/2DIMM)6+1+1相 | price: 2890\\nMemory: 威剛 單條16GB DDR5 6000 XPG Lancer Blade(矮版散熱片)/CL48黑【雙參數】 | price: 1349\\nGPU: 華擎 ARC B580 Challenger 12G OC | price: 9290\\nStorage: 威剛 Ultimate SU800 512G/2.5吋/讀:560M/寫:520M/TLC/DRAM快取/SMI/台灣製【五年】 | price: 1499\\nPower Supply: Antec HCG1000(1000W)雙8/金牌/全模/全日系/智慧溫控風扇/10年保 | price: 3990\\nCase: 華碩 A21 黑 | price: 1490\\nCase Fan: MONTECH AX120 PWM 黑 風扇/A.RGB/1600RPM/HDB軸/三年保 | price: 299\\n總價: 30507\",\n",
      "  \"gpt4o_recommendation\": \"CPU: AMD Ryzen 5 5600X | price: 5990\\nMotherboard: 華碩 TUF GAMING B550M-PLUS | price: 3290\\nMemory: Corsair Vengeance LPX 16GB (2x8GB) DDR4-3200 | price: 1990\\nGPU: NVIDIA GeForce RTX 3060 12GB | price: 10900\\nStorage: Samsung 970 EVO Plus 500GB NVMe M.2 | price: 1990\\nPower Supply: Seasonic Focus GX-650 (650W) 80 PLUS Gold | price: 3290\\nCase: Cooler Master MasterBox Q300L | price: 1290\\nCase Fan: Noctua NF-P12 redux-1700 PWM | price: 790\\n總價: 29530\",\n",
      "  \"winner\": 0,\n",
      "  \"buildmate_avg_score\": 4.5,\n",
      "  \"gpt4o_avg_score\": 8.166666666666666,\n",
      "  \"rounds\": [\n",
      "    {\n",
      "      \"round_number\": 1,\n",
      "      \"Agent1\": {\n",
      "        \"gpt4o_score\": 7,\n",
      "        \"buildmate_score\": 5,\n",
      "        \"reason\": \"gpt4o配置均衡，3060在Adobe表現較佳。BuildMate的電源瓦數過高，B580相容性堪慮。\"\n",
      "      },\n",
      "      \"Agent2\": {\n",
      "        \"gpt4o_score\": 8,\n",
      "        \"buildmate_score\": 5,\n",
      "        \"reason\": \"gpt4o 3060在Adobe更佳，價格合理。BuildMate B580 Adobe相容性差，1000W電源浪費。\"\n",
      "      },\n",
      "      \"Agent3\": {\n",
      "        \"gpt4o_score\": 8,\n",
      "        \"buildmate_score\": 4,\n",
      "        \"reason\": \"gpt4o性價比高，滿足Adobe需求。BuildMate B580驅動及Adobe相容性問題多，1000W電源過剩。\"\n",
      "      }\n",
      "    },\n",
      "    {\n",
      "      \"round_number\": 2,\n",
      "      \"Agent1\": {\n",
      "        \"gpt4o_score\": 8,\n",
      "        \"buildmate_score\": 5,\n",
      "        \"reason\": \"gpt4o均衡，3060對Adobe更佳。BuildMate i7-14700F配H610限制效能，B580 Adobe相容性問題多。\"\n",
      "      },\n",
      "      \"Agent2\": {\n",
      "        \"gpt4o_score\": 9,\n",
      "        \"buildmate_score\": 4,\n",
      "        \"reason\": \"gpt4o配置均衡，性價比高。BuildMate i7-14700F配低階H610限制效能，浪費預算。\"\n",
      "      },\n",
      "      \"Agent3\": {\n",
      "        \"gpt4o_score\": 9,\n",
      "        \"buildmate_score\": 4,\n",
      "        \"reason\": \"gpt4o性價比高，3060對Adobe更佳。BuildMate i7-14700F配H610嚴重限制效能，浪費預算。\"\n",
      "      }\n",
      "    }\n",
      "  ]\n",
      "}\n"
     ]
    },
    {
     "data": {
      "text/html": [
       "<pre style=\"white-space:pre;overflow-x:auto;line-height:normal;font-family:Menlo,'DejaVu Sans Mono',consolas,'Courier New',monospace\"><span style=\"font-weight: bold\">{</span>\n",
       "    <span style=\"color: #008000; text-decoration-color: #008000\">'question_id'</span>: <span style=\"color: #008080; text-decoration-color: #008080; font-weight: bold\">9</span>,\n",
       "    <span style=\"color: #008000; text-decoration-color: #008000\">'question'</span>: <span style=\"color: #008000; text-decoration-color: #008000\">'我需要一台適合股市分析的電腦，預算大概30000元，需要大量運算和多螢幕，有什麼好提議？'</span>,\n",
       "    <span style=\"color: #008000; text-decoration-color: #008000\">'gpt4o_recommendation'</span>: <span style=\"color: #008000; text-decoration-color: #008000\">'CPU: AMD Ryzen 7 5700G | price: 6500\\nMotherboard: 華碩 TUF Gaming B550-PLUS | price: </span>\n",
       "<span style=\"color: #008000; text-decoration-color: #008000\">3500\\nMemory: Corsair Vengeance LPX 32GB (2 x 16GB) DDR4-3200 | price: 2500\\nGPU: MSI GeForce GTX 1660 Super 6GB | </span>\n",
       "<span style=\"color: #008000; text-decoration-color: #008000\">price: 7000\\nStorage: Samsung 970 EVO Plus 1TB NVMe M.2 SSD | price: 3500\\nPower Supply: Cooler Master MWE Gold </span>\n",
       "<span style=\"color: #008000; text-decoration-color: #008000\">650W | price: 2500\\nCase: Fractal Design Meshify C | price: 2000\\nCase Fan: Noctua NF-P12 redux-1700 PWM | price: </span>\n",
       "<span style=\"color: #008000; text-decoration-color: #008000\">800\\n總價: 28300'</span>,\n",
       "    <span style=\"color: #008000; text-decoration-color: #008000\">'buildmate_recommendation'</span>: <span style=\"color: #008000; text-decoration-color: #008000\">'CPU: Intel i7-14700F | price: 9700\\nMotherboard: 華碩 PRIME H610M-K </span>\n",
       "<span style=\"color: #008000; text-decoration-color: #008000\">D4-CSM(M-ATX/1A1H/Realtek 1Gb/註冊四年/2DIMM)6+1+1相 | price: 2890\\nMemory: 威剛 單條16GB DDR5 6000 XPG Lancer </span>\n",
       "<span style=\"color: #008000; text-decoration-color: #008000\">Blade(矮版散熱片)/CL48黑【雙參數】 | price: 1349\\nGPU: NVIDIA GTX 1660 Super | price: 4990\\nStorage: 威剛 Ultimate </span>\n",
       "<span style=\"color: #008000; text-decoration-color: #008000\">SU800 512G/2.5吋/讀:560M/寫:520M/TLC/DRAM快取/SMI/台灣製【五年】 | price: 1499\\nPower Supply: 全漢 HYDRO G PRO </span>\n",
       "<span style=\"color: #008000; text-decoration-color: #008000\">1000W ATX3.0(PCIe 5.0) 雙8/金牌/全模/全日系/防潮塗層/10年保 | price: 4890\\nCase: 銀欣 RL08 紅黑 | price: 1290\\nCase</span>\n",
       "<span style=\"color: #008000; text-decoration-color: #008000\">Fan: MSI MEG SILENT GALE P12 靜音風扇 | price: 790\\n總價: 27398'</span>\n",
       "<span style=\"font-weight: bold\">}</span>\n",
       "</pre>\n"
      ],
      "text/plain": [
       "\u001b[1m{\u001b[0m\n",
       "    \u001b[32m'question_id'\u001b[0m: \u001b[1;36m9\u001b[0m,\n",
       "    \u001b[32m'question'\u001b[0m: \u001b[32m'我需要一台適合股市分析的電腦，預算大概30000元，需要大量運算和多螢幕，有什麼好提議？'\u001b[0m,\n",
       "    \u001b[32m'gpt4o_recommendation'\u001b[0m: \u001b[32m'CPU: AMD Ryzen 7 5700G | price: 6500\\nMotherboard: 華碩 TUF Gaming B550-PLUS | price: \u001b[0m\n",
       "\u001b[32m3500\\nMemory: Corsair Vengeance LPX 32GB \u001b[0m\u001b[32m(\u001b[0m\u001b[32m2 x 16GB\u001b[0m\u001b[32m)\u001b[0m\u001b[32m DDR4-3200 | price: 2500\\nGPU: MSI GeForce GTX 1660 Super 6GB | \u001b[0m\n",
       "\u001b[32mprice: 7000\\nStorage: Samsung 970 EVO Plus 1TB NVMe M.2 SSD | price: 3500\\nPower Supply: Cooler Master MWE Gold \u001b[0m\n",
       "\u001b[32m650W | price: 2500\\nCase: Fractal Design Meshify C | price: 2000\\nCase Fan: Noctua NF-P12 redux-1700 PWM | price: \u001b[0m\n",
       "\u001b[32m800\\n總價: 28300'\u001b[0m,\n",
       "    \u001b[32m'buildmate_recommendation'\u001b[0m: \u001b[32m'CPU: Intel i7-14700F | price: 9700\\nMotherboard: 華碩 PRIME H610M-K \u001b[0m\n",
       "\u001b[32mD4-CSM\u001b[0m\u001b[32m(\u001b[0m\u001b[32mM-ATX/1A1H/Realtek 1Gb/註冊四年/2DIMM\u001b[0m\u001b[32m)\u001b[0m\u001b[32m6+1+1相 | price: 2890\\nMemory: 威剛 單條16GB DDR5 6000 XPG Lancer \u001b[0m\n",
       "\u001b[32mBlade\u001b[0m\u001b[32m(\u001b[0m\u001b[32m矮版散熱片\u001b[0m\u001b[32m)\u001b[0m\u001b[32m/CL48黑【雙參數】 | price: 1349\\nGPU: NVIDIA GTX 1660 Super | price: 4990\\nStorage: 威剛 Ultimate \u001b[0m\n",
       "\u001b[32mSU800 512G/2.5吋/讀:560M/寫:520M/TLC/DRAM快取/SMI/台灣製【五年】 | price: 1499\\nPower Supply: 全漢 HYDRO G PRO \u001b[0m\n",
       "\u001b[32m1000W ATX3.0\u001b[0m\u001b[32m(\u001b[0m\u001b[32mPCIe 5.0\u001b[0m\u001b[32m)\u001b[0m\u001b[32m 雙8/金牌/全模/全日系/防潮塗層/10年保 | price: 4890\\nCase: 銀欣 RL08 紅黑 | price: 1290\\nCase\u001b[0m\n",
       "\u001b[32mFan: MSI MEG SILENT GALE P12 靜音風扇 | price: 790\\n總價: 27398'\u001b[0m\n",
       "\u001b[1m}\u001b[0m\n"
      ]
     },
     "metadata": {},
     "output_type": "display_data"
    },
    {
     "data": {
      "text/html": [
       "<pre style=\"white-space:pre;overflow-x:auto;line-height:normal;font-family:Menlo,'DejaVu Sans Mono',consolas,'Courier New',monospace\">Agent1: <span style=\"font-weight: bold\">[</span>對gpt4o評價<span style=\"font-weight: bold\">]</span>: <span style=\"color: #008080; text-decoration-color: #008080; font-weight: bold\">7</span>\n",
       "<span style=\"font-weight: bold\">[</span>對BuildMate評價<span style=\"font-weight: bold\">]</span>: <span style=\"color: #008080; text-decoration-color: #008080; font-weight: bold\">5</span>\n",
       "<span style=\"font-weight: bold\">[</span>簡短原因<span style=\"font-weight: bold\">]</span>: gpt4o均衡考量價格/效能。BuildMate電源瓦數過高且記憶體不足。\n",
       "\n",
       "</pre>\n"
      ],
      "text/plain": [
       "Agent1: \u001b[1m[\u001b[0m對gpt4o評價\u001b[1m]\u001b[0m: \u001b[1;36m7\u001b[0m\n",
       "\u001b[1m[\u001b[0m對BuildMate評價\u001b[1m]\u001b[0m: \u001b[1;36m5\u001b[0m\n",
       "\u001b[1m[\u001b[0m簡短原因\u001b[1m]\u001b[0m: gpt4o均衡考量價格/效能。BuildMate電源瓦數過高且記憶體不足。\n",
       "\n"
      ]
     },
     "metadata": {},
     "output_type": "display_data"
    },
    {
     "name": "stdout",
     "output_type": "stream",
     "text": [
      "======\n"
     ]
    },
    {
     "data": {
      "text/html": [
       "<pre style=\"white-space:pre;overflow-x:auto;line-height:normal;font-family:Menlo,'DejaVu Sans Mono',consolas,'Courier New',monospace\">Agent2: <span style=\"font-weight: bold\">[</span>對gpt4o評價<span style=\"font-weight: bold\">]</span>: <span style=\"color: #008080; text-decoration-color: #008080; font-weight: bold\">8</span>\n",
       "<span style=\"font-weight: bold\">[</span>對BuildMate評價<span style=\"font-weight: bold\">]</span>: <span style=\"color: #008080; text-decoration-color: #008080; font-weight: bold\">6</span>\n",
       "<span style=\"font-weight: bold\">[</span>簡短原因<span style=\"font-weight: bold\">]</span>: gpt4o記憶體容量較BuildMate合理，BuildMate電源瓦數過高。\n",
       "\n",
       "</pre>\n"
      ],
      "text/plain": [
       "Agent2: \u001b[1m[\u001b[0m對gpt4o評價\u001b[1m]\u001b[0m: \u001b[1;36m8\u001b[0m\n",
       "\u001b[1m[\u001b[0m對BuildMate評價\u001b[1m]\u001b[0m: \u001b[1;36m6\u001b[0m\n",
       "\u001b[1m[\u001b[0m簡短原因\u001b[1m]\u001b[0m: gpt4o記憶體容量較BuildMate合理，BuildMate電源瓦數過高。\n",
       "\n"
      ]
     },
     "metadata": {},
     "output_type": "display_data"
    },
    {
     "name": "stdout",
     "output_type": "stream",
     "text": [
      "======\n"
     ]
    },
    {
     "data": {
      "text/html": [
       "<pre style=\"white-space:pre;overflow-x:auto;line-height:normal;font-family:Menlo,'DejaVu Sans Mono',consolas,'Courier New',monospace\">Agent3: <span style=\"font-weight: bold\">[</span>對gpt4o評價<span style=\"font-weight: bold\">]</span>: <span style=\"color: #008080; text-decoration-color: #008080; font-weight: bold\">7</span>\n",
       "<span style=\"font-weight: bold\">[</span>對BuildMate評價<span style=\"font-weight: bold\">]</span>: <span style=\"color: #008080; text-decoration-color: #008080; font-weight: bold\">4</span>\n",
       "<span style=\"font-weight: bold\">[</span>簡短原因<span style=\"font-weight: bold\">]</span>: gpt4o 記憶體容量選擇較佳。BuildMate電源瓦數過高、記憶體不足、SSD容量小。\n",
       "\n",
       "</pre>\n"
      ],
      "text/plain": [
       "Agent3: \u001b[1m[\u001b[0m對gpt4o評價\u001b[1m]\u001b[0m: \u001b[1;36m7\u001b[0m\n",
       "\u001b[1m[\u001b[0m對BuildMate評價\u001b[1m]\u001b[0m: \u001b[1;36m4\u001b[0m\n",
       "\u001b[1m[\u001b[0m簡短原因\u001b[1m]\u001b[0m: gpt4o 記憶體容量選擇較佳。BuildMate電源瓦數過高、記憶體不足、SSD容量小。\n",
       "\n"
      ]
     },
     "metadata": {},
     "output_type": "display_data"
    },
    {
     "name": "stdout",
     "output_type": "stream",
     "text": [
      "======\n"
     ]
    },
    {
     "data": {
      "text/html": [
       "<pre style=\"white-space:pre;overflow-x:auto;line-height:normal;font-family:Menlo,'DejaVu Sans Mono',consolas,'Courier New',monospace\">Coordinator: \n",
       "已達成共識，gpt4o較佳。專家們一致認為gpt4o的記憶體容量與電源瓦數配置更合理，整體價格也更具競爭力。BuildMate的電源瓦\n",
       "數過高，記憶體和SSD容量不足，不符合需求。\n",
       "\n",
       "</pre>\n"
      ],
      "text/plain": [
       "Coordinator: \n",
       "已達成共識，gpt4o較佳。專家們一致認為gpt4o的記憶體容量與電源瓦數配置更合理，整體價格也更具競爭力。BuildMate的電源瓦\n",
       "數過高，記憶體和SSD容量不足，不符合需求。\n",
       "\n"
      ]
     },
     "metadata": {},
     "output_type": "display_data"
    },
    {
     "name": "stdout",
     "output_type": "stream",
     "text": [
      "======\n"
     ]
    },
    {
     "data": {
      "text/html": [
       "<pre style=\"white-space:pre;overflow-x:auto;line-height:normal;font-family:Menlo,'DejaVu Sans Mono',consolas,'Courier New',monospace\">Agent1: <span style=\"font-weight: bold\">[</span>對gpt4o評價<span style=\"font-weight: bold\">]</span>: <span style=\"color: #008080; text-decoration-color: #008080; font-weight: bold\">7</span>\n",
       "<span style=\"font-weight: bold\">[</span>對BuildMate評價<span style=\"font-weight: bold\">]</span>: <span style=\"color: #008080; text-decoration-color: #008080; font-weight: bold\">5</span>\n",
       "<span style=\"font-weight: bold\">[</span>簡短原因<span style=\"font-weight: bold\">]</span>: gpt4o 記憶體容量符合多螢幕/多任務需求。BuildMate電源瓦數過大、SSD容量不足。\n",
       "\n",
       "</pre>\n"
      ],
      "text/plain": [
       "Agent1: \u001b[1m[\u001b[0m對gpt4o評價\u001b[1m]\u001b[0m: \u001b[1;36m7\u001b[0m\n",
       "\u001b[1m[\u001b[0m對BuildMate評價\u001b[1m]\u001b[0m: \u001b[1;36m5\u001b[0m\n",
       "\u001b[1m[\u001b[0m簡短原因\u001b[1m]\u001b[0m: gpt4o 記憶體容量符合多螢幕/多任務需求。BuildMate電源瓦數過大、SSD容量不足。\n",
       "\n"
      ]
     },
     "metadata": {},
     "output_type": "display_data"
    },
    {
     "name": "stdout",
     "output_type": "stream",
     "text": [
      "======\n"
     ]
    },
    {
     "data": {
      "text/html": [
       "<pre style=\"white-space:pre;overflow-x:auto;line-height:normal;font-family:Menlo,'DejaVu Sans Mono',consolas,'Courier New',monospace\">Agent2: <span style=\"font-weight: bold\">[</span>對gpt4o評價<span style=\"font-weight: bold\">]</span>: <span style=\"color: #008080; text-decoration-color: #008080; font-weight: bold\">8</span>\n",
       "<span style=\"font-weight: bold\">[</span>對BuildMate評價<span style=\"font-weight: bold\">]</span>: <span style=\"color: #008080; text-decoration-color: #008080; font-weight: bold\">5</span>\n",
       "<span style=\"font-weight: bold\">[</span>簡短原因<span style=\"font-weight: bold\">]</span>: gpt4o配置更均衡，BuildMate記憶體不足、電源瓦數過高、SSD容量過小。\n",
       "\n",
       "</pre>\n"
      ],
      "text/plain": [
       "Agent2: \u001b[1m[\u001b[0m對gpt4o評價\u001b[1m]\u001b[0m: \u001b[1;36m8\u001b[0m\n",
       "\u001b[1m[\u001b[0m對BuildMate評價\u001b[1m]\u001b[0m: \u001b[1;36m5\u001b[0m\n",
       "\u001b[1m[\u001b[0m簡短原因\u001b[1m]\u001b[0m: gpt4o配置更均衡，BuildMate記憶體不足、電源瓦數過高、SSD容量過小。\n",
       "\n"
      ]
     },
     "metadata": {},
     "output_type": "display_data"
    },
    {
     "name": "stdout",
     "output_type": "stream",
     "text": [
      "======\n"
     ]
    },
    {
     "data": {
      "text/html": [
       "<pre style=\"white-space:pre;overflow-x:auto;line-height:normal;font-family:Menlo,'DejaVu Sans Mono',consolas,'Courier New',monospace\">Agent3: <span style=\"font-weight: bold\">[</span>對gpt4o評價<span style=\"font-weight: bold\">]</span>: <span style=\"color: #008080; text-decoration-color: #008080; font-weight: bold\">8</span>\n",
       "<span style=\"font-weight: bold\">[</span>對BuildMate評價<span style=\"font-weight: bold\">]</span>: <span style=\"color: #008080; text-decoration-color: #008080; font-weight: bold\">5</span>\n",
       "<span style=\"font-weight: bold\">[</span>簡短原因<span style=\"font-weight: bold\">]</span>: gpt4o 32G記憶體符合多工需求，BuildMate記憶體不足、電源過剩。\n",
       "\n",
       "</pre>\n"
      ],
      "text/plain": [
       "Agent3: \u001b[1m[\u001b[0m對gpt4o評價\u001b[1m]\u001b[0m: \u001b[1;36m8\u001b[0m\n",
       "\u001b[1m[\u001b[0m對BuildMate評價\u001b[1m]\u001b[0m: \u001b[1;36m5\u001b[0m\n",
       "\u001b[1m[\u001b[0m簡短原因\u001b[1m]\u001b[0m: gpt4o 32G記憶體符合多工需求，BuildMate記憶體不足、電源過剩。\n",
       "\n"
      ]
     },
     "metadata": {},
     "output_type": "display_data"
    },
    {
     "name": "stdout",
     "output_type": "stream",
     "text": [
      "======\n"
     ]
    },
    {
     "data": {
      "text/html": [
       "<pre style=\"white-space:pre;overflow-x:auto;line-height:normal;font-family:Menlo,'DejaVu Sans Mono',consolas,'Courier New',monospace\">Coordinator: \n",
       "已達成共識，gpt4o較佳。專家們認為gpt4o的32GB記憶體更符合多工需求，且整體配置均衡。BuildMate記憶體不足、電源瓦數過高\n",
       "，SSD容量也偏小。\n",
       "\n",
       "</pre>\n"
      ],
      "text/plain": [
       "Coordinator: \n",
       "已達成共識，gpt4o較佳。專家們認為gpt4o的32GB記憶體更符合多工需求，且整體配置均衡。BuildMate記憶體不足、電源瓦數過高\n",
       "，SSD容量也偏小。\n",
       "\n"
      ]
     },
     "metadata": {},
     "output_type": "display_data"
    },
    {
     "name": "stdout",
     "output_type": "stream",
     "text": [
      "======\n",
      "{'Coordinator': {'messages': [HumanMessage(content='Agent1: [對gpt4o評價]: 7\\n[對BuildMate評價]: 5\\n[簡短原因]: gpt4o均衡考量價格/效能。BuildMate電源瓦數過高且記憶體不足。\\n', additional_kwargs={}, response_metadata={}), HumanMessage(content='Agent2: [對gpt4o評價]: 8\\n[對BuildMate評價]: 6\\n[簡短原因]: gpt4o記憶體容量較BuildMate合理，BuildMate電源瓦數過高。\\n', additional_kwargs={}, response_metadata={}), HumanMessage(content='Agent3: [對gpt4o評價]: 7\\n[對BuildMate評價]: 4\\n[簡短原因]: gpt4o 記憶體容量選擇較佳。BuildMate電源瓦數過高、記憶體不足、SSD容量小。\\n', additional_kwargs={}, response_metadata={}), HumanMessage(content='Coordinator: 已達成共識，gpt4o較佳。專家們一致認為gpt4o的記憶體容量與電源瓦數配置更合理，整體價格也更具競爭力。BuildMate的電源瓦數過高，記憶體和SSD容量不足，不符合需求。\\n', additional_kwargs={}, response_metadata={}), HumanMessage(content='Agent1: [對gpt4o評價]: 7\\n[對BuildMate評價]: 5\\n[簡短原因]: gpt4o 記憶體容量符合多螢幕/多任務需求。BuildMate電源瓦數過大、SSD容量不足。\\n', additional_kwargs={}, response_metadata={}), HumanMessage(content='Agent2: [對gpt4o評價]: 8\\n[對BuildMate評價]: 5\\n[簡短原因]: gpt4o配置更均衡，BuildMate記憶體不足、電源瓦數過高、SSD容量過小。\\n', additional_kwargs={}, response_metadata={}), HumanMessage(content='Agent3: [對gpt4o評價]: 8\\n[對BuildMate評價]: 5\\n[簡短原因]: gpt4o 32G記憶體符合多工需求，BuildMate記憶體不足、電源過剩。\\n', additional_kwargs={}, response_metadata={}), HumanMessage(content='Coordinator: 已達成共識，gpt4o較佳。專家們認為gpt4o的32GB記憶體更符合多工需求，且整體配置均衡。BuildMate記憶體不足、電源瓦數過高，SSD容量也偏小。\\n', additional_kwargs={}, response_metadata={})], 'next_agent': '__end__', 'question_id': 9, 'question': '我需要一台適合股市分析的電腦，預算大概30000元，需要大量運算和多螢幕，有什麼好提議？', 'gpt4o_recommendation': 'CPU: AMD Ryzen 7 5700G | price: 6500\\nMotherboard: 華碩 TUF Gaming B550-PLUS | price: 3500\\nMemory: Corsair Vengeance LPX 32GB (2 x 16GB) DDR4-3200 | price: 2500\\nGPU: MSI GeForce GTX 1660 Super 6GB | price: 7000\\nStorage: Samsung 970 EVO Plus 1TB NVMe M.2 SSD | price: 3500\\nPower Supply: Cooler Master MWE Gold 650W | price: 2500\\nCase: Fractal Design Meshify C | price: 2000\\nCase Fan: Noctua NF-P12 redux-1700 PWM | price: 800\\n總價: 28300', 'buildmate_recommendation': 'CPU: Intel i7-14700F | price: 9700\\nMotherboard: 華碩 PRIME H610M-K D4-CSM(M-ATX/1A1H/Realtek 1Gb/註冊四年/2DIMM)6+1+1相 | price: 2890\\nMemory: 威剛 單條16GB DDR5 6000 XPG Lancer Blade(矮版散熱片)/CL48黑【雙參數】 | price: 1349\\nGPU: NVIDIA GTX 1660 Super | price: 4990\\nStorage: 威剛 Ultimate SU800 512G/2.5吋/讀:560M/寫:520M/TLC/DRAM快取/SMI/台灣製【五年】 | price: 1499\\nPower Supply: 全漢 HYDRO G PRO 1000W ATX3.0(PCIe 5.0) 雙8/金牌/全模/全日系/防潮塗層/10年保 | price: 4890\\nCase: 銀欣 RL08 紅黑 | price: 1290\\nCase Fan: MSI MEG SILENT GALE P12 靜音風扇 | price: 790\\n總價: 27398', 'agent_scores': {'Agent1_round1': {'gpt4o_score': 7, 'buildmate_score': 5, 'reason': 'gpt4o均衡考量價格/效能。BuildMate電源瓦數過高且記憶體不足。'}, 'Agent2_round1': {'gpt4o_score': 8, 'buildmate_score': 6, 'reason': 'gpt4o記憶體容量較BuildMate合理，BuildMate電源瓦數過高。'}, 'Agent3_round1': {'gpt4o_score': 7, 'buildmate_score': 4, 'reason': 'gpt4o 記憶體容量選擇較佳。BuildMate電源瓦數過高、記憶體不足、SSD容量小。'}, 'Agent1_round2': {'gpt4o_score': 7, 'buildmate_score': 5, 'reason': 'gpt4o 記憶體容量符合多螢幕/多任務需求。BuildMate電源瓦數過大、SSD容量不足。'}, 'Agent2_round2': {'gpt4o_score': 8, 'buildmate_score': 5, 'reason': 'gpt4o配置更均衡，BuildMate記憶體不足、電源瓦數過高、SSD容量過小。'}, 'Agent3_round2': {'gpt4o_score': 8, 'buildmate_score': 5, 'reason': 'gpt4o 32G記憶體符合多工需求，BuildMate記憶體不足、電源過剩。'}}, 'round_count': 2, 'max_rounds': 3, 'consensus_reached': True}}\n",
      "{\n",
      "  \"question_id\": 9,\n",
      "  \"question\": \"我需要一台適合股市分析的電腦，預算大概30000元，需要大量運算和多螢幕，有什麼好提議？\",\n",
      "  \"buildmate_recommendation\": \"CPU: Intel i7-14700F | price: 9700\\nMotherboard: 華碩 PRIME H610M-K D4-CSM(M-ATX/1A1H/Realtek 1Gb/註冊四年/2DIMM)6+1+1相 | price: 2890\\nMemory: 威剛 單條16GB DDR5 6000 XPG Lancer Blade(矮版散熱片)/CL48黑【雙參數】 | price: 1349\\nGPU: NVIDIA GTX 1660 Super | price: 4990\\nStorage: 威剛 Ultimate SU800 512G/2.5吋/讀:560M/寫:520M/TLC/DRAM快取/SMI/台灣製【五年】 | price: 1499\\nPower Supply: 全漢 HYDRO G PRO 1000W ATX3.0(PCIe 5.0) 雙8/金牌/全模/全日系/防潮塗層/10年保 | price: 4890\\nCase: 銀欣 RL08 紅黑 | price: 1290\\nCase Fan: MSI MEG SILENT GALE P12 靜音風扇 | price: 790\\n總價: 27398\",\n",
      "  \"gpt4o_recommendation\": \"CPU: AMD Ryzen 7 5700G | price: 6500\\nMotherboard: 華碩 TUF Gaming B550-PLUS | price: 3500\\nMemory: Corsair Vengeance LPX 32GB (2 x 16GB) DDR4-3200 | price: 2500\\nGPU: MSI GeForce GTX 1660 Super 6GB | price: 7000\\nStorage: Samsung 970 EVO Plus 1TB NVMe M.2 SSD | price: 3500\\nPower Supply: Cooler Master MWE Gold 650W | price: 2500\\nCase: Fractal Design Meshify C | price: 2000\\nCase Fan: Noctua NF-P12 redux-1700 PWM | price: 800\\n總價: 28300\",\n",
      "  \"winner\": 0,\n",
      "  \"buildmate_avg_score\": 5.0,\n",
      "  \"gpt4o_avg_score\": 7.5,\n",
      "  \"rounds\": [\n",
      "    {\n",
      "      \"round_number\": 1,\n",
      "      \"Agent1\": {\n",
      "        \"gpt4o_score\": 7,\n",
      "        \"buildmate_score\": 5,\n",
      "        \"reason\": \"gpt4o均衡考量價格/效能。BuildMate電源瓦數過高且記憶體不足。\"\n",
      "      },\n",
      "      \"Agent2\": {\n",
      "        \"gpt4o_score\": 8,\n",
      "        \"buildmate_score\": 6,\n",
      "        \"reason\": \"gpt4o記憶體容量較BuildMate合理，BuildMate電源瓦數過高。\"\n",
      "      },\n",
      "      \"Agent3\": {\n",
      "        \"gpt4o_score\": 7,\n",
      "        \"buildmate_score\": 4,\n",
      "        \"reason\": \"gpt4o 記憶體容量選擇較佳。BuildMate電源瓦數過高、記憶體不足、SSD容量小。\"\n",
      "      }\n",
      "    },\n",
      "    {\n",
      "      \"round_number\": 2,\n",
      "      \"Agent1\": {\n",
      "        \"gpt4o_score\": 7,\n",
      "        \"buildmate_score\": 5,\n",
      "        \"reason\": \"gpt4o 記憶體容量符合多螢幕/多任務需求。BuildMate電源瓦數過大、SSD容量不足。\"\n",
      "      },\n",
      "      \"Agent2\": {\n",
      "        \"gpt4o_score\": 8,\n",
      "        \"buildmate_score\": 5,\n",
      "        \"reason\": \"gpt4o配置更均衡，BuildMate記憶體不足、電源瓦數過高、SSD容量過小。\"\n",
      "      },\n",
      "      \"Agent3\": {\n",
      "        \"gpt4o_score\": 8,\n",
      "        \"buildmate_score\": 5,\n",
      "        \"reason\": \"gpt4o 32G記憶體符合多工需求，BuildMate記憶體不足、電源過剩。\"\n",
      "      }\n",
      "    }\n",
      "  ]\n",
      "}\n"
     ]
    },
    {
     "data": {
      "text/html": [
       "<pre style=\"white-space:pre;overflow-x:auto;line-height:normal;font-family:Menlo,'DejaVu Sans Mono',consolas,'Courier New',monospace\"><span style=\"font-weight: bold\">{</span>\n",
       "    <span style=\"color: #008000; text-decoration-color: #008000\">'question_id'</span>: <span style=\"color: #008080; text-decoration-color: #008080; font-weight: bold\">10</span>,\n",
       "    <span style=\"color: #008000; text-decoration-color: #008000\">'question'</span>: <span style=\"color: #008000; text-decoration-color: #008000\">'想要組一台約65000元的電腦，主要用於VR遊戲和一般辦公，有沒有推薦配置？'</span>,\n",
       "    <span style=\"color: #008000; text-decoration-color: #008000\">'gpt4o_recommendation'</span>: <span style=\"color: #008000; text-decoration-color: #008000\">'CPU: AMD Ryzen 5 7600 | price: 5990\\nMotherboard: 華碩 TUF GAMING B650M-PLUS WIFI </span>\n",
       "<span style=\"color: #008000; text-decoration-color: #008000\">(AM5/M-ATX) | price: 4990\\nMemory: Corsair Vengeance LPX 16GB (2x8GB) DDR5-5200 | price: 2490\\nGPU: NVIDIA GeForce </span>\n",
       "<span style=\"color: #008000; text-decoration-color: #008000\">RTX 3060 12GB | price: 13900\\nStorage: Samsung 970 EVO Plus 1TB NVMe M.2 | price: 3290\\nPower Supply: Seasonic </span>\n",
       "<span style=\"color: #008000; text-decoration-color: #008000\">Focus GX-650 (650W) 80+ Gold | price: 2990\\nCase: Cooler Master MasterBox Q300L | price: 1290\\nCase Fan: Noctua </span>\n",
       "<span style=\"color: #008000; text-decoration-color: #008000\">NF-P12 redux-1700 PWM | price: 790\\n總價: 35730'</span>,\n",
       "    <span style=\"color: #008000; text-decoration-color: #008000\">'buildmate_recommendation'</span>: <span style=\"color: #008000; text-decoration-color: #008000\">'CPU: Intel i7-14700F | price: 9700\\nMotherboard: 華碩 PRIME </span>\n",
       "<span style=\"color: #008000; text-decoration-color: #008000\">H610M-K-CSM(DDR5)(M-ATX/1A1H/Realtek 1Gb/註冊四年/2DIMM) | price: 2890\\nMemory: 威剛 單條 16GB DDR5 6000 XPG Lancer</span>\n",
       "<span style=\"color: #008000; text-decoration-color: #008000\">Blade(矮版散熱片)/CL48黑【雙參數】 | price: 1349\\nGPU: 華擎 ARC B580 Challenger 12G OC | price: 9290\\nStorage: 威剛</span>\n",
       "<span style=\"color: #008000; text-decoration-color: #008000\">Ultimate SU650 480G/2.5吋/讀:520M/寫:450M/TLC顆粒【三年保】 | price: 899\\nPower Supply: 全漢 HYDRO G PRO 1000W </span>\n",
       "<span style=\"color: #008000; text-decoration-color: #008000\">ATX3.0(PCIe 5.0) 雙8/金牌/全模/全日系/防潮塗層/10年保 | price: 4890\\nCase: SAMA SAK702 新鏡界(白) | price: </span>\n",
       "<span style=\"color: #008000; text-decoration-color: #008000\">1890\\nCase Fan: Acer Predator Frostblade 120 風扇 | price: 390\\n總價: 31298'</span>\n",
       "<span style=\"font-weight: bold\">}</span>\n",
       "</pre>\n"
      ],
      "text/plain": [
       "\u001b[1m{\u001b[0m\n",
       "    \u001b[32m'question_id'\u001b[0m: \u001b[1;36m10\u001b[0m,\n",
       "    \u001b[32m'question'\u001b[0m: \u001b[32m'想要組一台約65000元的電腦，主要用於VR遊戲和一般辦公，有沒有推薦配置？'\u001b[0m,\n",
       "    \u001b[32m'gpt4o_recommendation'\u001b[0m: \u001b[32m'CPU: AMD Ryzen 5 7600 | price: 5990\\nMotherboard: 華碩 TUF GAMING B650M-PLUS WIFI \u001b[0m\n",
       "\u001b[32m(\u001b[0m\u001b[32mAM5/M-ATX\u001b[0m\u001b[32m)\u001b[0m\u001b[32m | price: 4990\\nMemory: Corsair Vengeance LPX 16GB \u001b[0m\u001b[32m(\u001b[0m\u001b[32m2x8GB\u001b[0m\u001b[32m)\u001b[0m\u001b[32m DDR5-5200 | price: 2490\\nGPU: NVIDIA GeForce \u001b[0m\n",
       "\u001b[32mRTX 3060 12GB | price: 13900\\nStorage: Samsung 970 EVO Plus 1TB NVMe M.2 | price: 3290\\nPower Supply: Seasonic \u001b[0m\n",
       "\u001b[32mFocus GX-650 \u001b[0m\u001b[32m(\u001b[0m\u001b[32m650W\u001b[0m\u001b[32m)\u001b[0m\u001b[32m 80+ Gold | price: 2990\\nCase: Cooler Master MasterBox Q300L | price: 1290\\nCase Fan: Noctua \u001b[0m\n",
       "\u001b[32mNF-P12 redux-1700 PWM | price: 790\\n總價: 35730'\u001b[0m,\n",
       "    \u001b[32m'buildmate_recommendation'\u001b[0m: \u001b[32m'CPU: Intel i7-14700F | price: 9700\\nMotherboard: 華碩 PRIME \u001b[0m\n",
       "\u001b[32mH610M-K-CSM\u001b[0m\u001b[32m(\u001b[0m\u001b[32mDDR5\u001b[0m\u001b[32m)\u001b[0m\u001b[32m(\u001b[0m\u001b[32mM-ATX/1A1H/Realtek 1Gb/註冊四年/2DIMM\u001b[0m\u001b[32m)\u001b[0m\u001b[32m | price: 2890\\nMemory: 威剛 單條 16GB DDR5 6000 XPG Lancer\u001b[0m\n",
       "\u001b[32mBlade\u001b[0m\u001b[32m(\u001b[0m\u001b[32m矮版散熱片\u001b[0m\u001b[32m)\u001b[0m\u001b[32m/CL48黑【雙參數】 | price: 1349\\nGPU: 華擎 ARC B580 Challenger 12G OC | price: 9290\\nStorage: 威剛\u001b[0m\n",
       "\u001b[32mUltimate SU650 480G/2.5吋/讀:520M/寫:450M/TLC顆粒【三年保】 | price: 899\\nPower Supply: 全漢 HYDRO G PRO 1000W \u001b[0m\n",
       "\u001b[32mATX3.0\u001b[0m\u001b[32m(\u001b[0m\u001b[32mPCIe 5.0\u001b[0m\u001b[32m)\u001b[0m\u001b[32m 雙8/金牌/全模/全日系/防潮塗層/10年保 | price: 4890\\nCase: SAMA SAK702 新鏡界\u001b[0m\u001b[32m(\u001b[0m\u001b[32m白\u001b[0m\u001b[32m)\u001b[0m\u001b[32m | price: \u001b[0m\n",
       "\u001b[32m1890\\nCase Fan: Acer Predator Frostblade 120 風扇 | price: 390\\n總價: 31298'\u001b[0m\n",
       "\u001b[1m}\u001b[0m\n"
      ]
     },
     "metadata": {},
     "output_type": "display_data"
    },
    {
     "data": {
      "text/html": [
       "<pre style=\"white-space:pre;overflow-x:auto;line-height:normal;font-family:Menlo,'DejaVu Sans Mono',consolas,'Courier New',monospace\">Agent1: <span style=\"font-weight: bold\">[</span>對gpt4o評價<span style=\"font-weight: bold\">]</span>: <span style=\"color: #008080; text-decoration-color: #008080; font-weight: bold\">7</span>\n",
       "<span style=\"font-weight: bold\">[</span>對BuildMate評價<span style=\"font-weight: bold\">]</span>: <span style=\"color: #008080; text-decoration-color: #008080; font-weight: bold\">4</span>\n",
       "<span style=\"font-weight: bold\">[</span>簡短原因<span style=\"font-weight: bold\">]</span>: gpt4o配置均衡，效能穩定。BuildMate電源瓦數過高，儲存空間不足，顯示卡效能較弱。\n",
       "\n",
       "</pre>\n"
      ],
      "text/plain": [
       "Agent1: \u001b[1m[\u001b[0m對gpt4o評價\u001b[1m]\u001b[0m: \u001b[1;36m7\u001b[0m\n",
       "\u001b[1m[\u001b[0m對BuildMate評價\u001b[1m]\u001b[0m: \u001b[1;36m4\u001b[0m\n",
       "\u001b[1m[\u001b[0m簡短原因\u001b[1m]\u001b[0m: gpt4o配置均衡，效能穩定。BuildMate電源瓦數過高，儲存空間不足，顯示卡效能較弱。\n",
       "\n"
      ]
     },
     "metadata": {},
     "output_type": "display_data"
    },
    {
     "name": "stdout",
     "output_type": "stream",
     "text": [
      "======\n"
     ]
    },
    {
     "data": {
      "text/html": [
       "<pre style=\"white-space:pre;overflow-x:auto;line-height:normal;font-family:Menlo,'DejaVu Sans Mono',consolas,'Courier New',monospace\">Agent2: <span style=\"font-weight: bold\">[</span>對gpt4o評價<span style=\"font-weight: bold\">]</span>: <span style=\"color: #008080; text-decoration-color: #008080; font-weight: bold\">8</span>\n",
       "<span style=\"font-weight: bold\">[</span>對BuildMate評價<span style=\"font-weight: bold\">]</span>: <span style=\"color: #008080; text-decoration-color: #008080; font-weight: bold\">5</span>\n",
       "<span style=\"font-weight: bold\">[</span>簡短原因<span style=\"font-weight: bold\">]</span>: gpt4o在VR遊戲方面更佳，BuildMate電源過剩，SSD容量小，B580性價比低。\n",
       "\n",
       "</pre>\n"
      ],
      "text/plain": [
       "Agent2: \u001b[1m[\u001b[0m對gpt4o評價\u001b[1m]\u001b[0m: \u001b[1;36m8\u001b[0m\n",
       "\u001b[1m[\u001b[0m對BuildMate評價\u001b[1m]\u001b[0m: \u001b[1;36m5\u001b[0m\n",
       "\u001b[1m[\u001b[0m簡短原因\u001b[1m]\u001b[0m: gpt4o在VR遊戲方面更佳，BuildMate電源過剩，SSD容量小，B580性價比低。\n",
       "\n"
      ]
     },
     "metadata": {},
     "output_type": "display_data"
    },
    {
     "name": "stdout",
     "output_type": "stream",
     "text": [
      "======\n"
     ]
    },
    {
     "data": {
      "text/html": [
       "<pre style=\"white-space:pre;overflow-x:auto;line-height:normal;font-family:Menlo,'DejaVu Sans Mono',consolas,'Courier New',monospace\">Agent3: <span style=\"font-weight: bold\">[</span>對gpt4o評價<span style=\"font-weight: bold\">]</span>: <span style=\"color: #008080; text-decoration-color: #008080; font-weight: bold\">8</span>\n",
       "<span style=\"font-weight: bold\">[</span>對BuildMate評價<span style=\"font-weight: bold\">]</span>: <span style=\"color: #008080; text-decoration-color: #008080; font-weight: bold\">5</span>\n",
       "<span style=\"font-weight: bold\">[</span>簡短原因<span style=\"font-weight: bold\">]</span>: gpt4o均衡，價格合理。BuildMate電源瓦數過高，SSD容量過小，顯示卡效能不足以應付VR遊戲。\n",
       "\n",
       "</pre>\n"
      ],
      "text/plain": [
       "Agent3: \u001b[1m[\u001b[0m對gpt4o評價\u001b[1m]\u001b[0m: \u001b[1;36m8\u001b[0m\n",
       "\u001b[1m[\u001b[0m對BuildMate評價\u001b[1m]\u001b[0m: \u001b[1;36m5\u001b[0m\n",
       "\u001b[1m[\u001b[0m簡短原因\u001b[1m]\u001b[0m: gpt4o均衡，價格合理。BuildMate電源瓦數過高，SSD容量過小，顯示卡效能不足以應付VR遊戲。\n",
       "\n"
      ]
     },
     "metadata": {},
     "output_type": "display_data"
    },
    {
     "name": "stdout",
     "output_type": "stream",
     "text": [
      "======\n"
     ]
    },
    {
     "data": {
      "text/html": [
       "<pre style=\"white-space:pre;overflow-x:auto;line-height:normal;font-family:Menlo,'DejaVu Sans Mono',consolas,'Courier New',monospace\">Coordinator: \n",
       "已達成共識，gpt4o較佳。配置更均衡，效能穩定，且價格合理，能滿足VR遊戲和日常辦公的需求。BuildMate則存在電源過剩、SSD\n",
       "容量不足和顯示卡效能較弱等問題。\n",
       "\n",
       "</pre>\n"
      ],
      "text/plain": [
       "Coordinator: \n",
       "已達成共識，gpt4o較佳。配置更均衡，效能穩定，且價格合理，能滿足VR遊戲和日常辦公的需求。BuildMate則存在電源過剩、SSD\n",
       "容量不足和顯示卡效能較弱等問題。\n",
       "\n"
      ]
     },
     "metadata": {},
     "output_type": "display_data"
    },
    {
     "name": "stdout",
     "output_type": "stream",
     "text": [
      "======\n"
     ]
    },
    {
     "data": {
      "text/html": [
       "<pre style=\"white-space:pre;overflow-x:auto;line-height:normal;font-family:Menlo,'DejaVu Sans Mono',consolas,'Courier New',monospace\">Agent1: <span style=\"font-weight: bold\">[</span>對gpt4o評價<span style=\"font-weight: bold\">]</span>: <span style=\"color: #008080; text-decoration-color: #008080; font-weight: bold\">9</span>\n",
       "<span style=\"font-weight: bold\">[</span>對BuildMate評價<span style=\"font-weight: bold\">]</span>: <span style=\"color: #008080; text-decoration-color: #008080; font-weight: bold\">4</span>\n",
       "<span style=\"font-weight: bold\">[</span>簡短原因<span style=\"font-weight: bold\">]</span>: gpt4o配置均衡，效能出色。BuildMate顯示卡效能低，SSD容量嚴重不足，電源瓦數冗餘。\n",
       "\n",
       "</pre>\n"
      ],
      "text/plain": [
       "Agent1: \u001b[1m[\u001b[0m對gpt4o評價\u001b[1m]\u001b[0m: \u001b[1;36m9\u001b[0m\n",
       "\u001b[1m[\u001b[0m對BuildMate評價\u001b[1m]\u001b[0m: \u001b[1;36m4\u001b[0m\n",
       "\u001b[1m[\u001b[0m簡短原因\u001b[1m]\u001b[0m: gpt4o配置均衡，效能出色。BuildMate顯示卡效能低，SSD容量嚴重不足，電源瓦數冗餘。\n",
       "\n"
      ]
     },
     "metadata": {},
     "output_type": "display_data"
    },
    {
     "name": "stdout",
     "output_type": "stream",
     "text": [
      "======\n"
     ]
    },
    {
     "data": {
      "text/html": [
       "<pre style=\"white-space:pre;overflow-x:auto;line-height:normal;font-family:Menlo,'DejaVu Sans Mono',consolas,'Courier New',monospace\">Agent2: <span style=\"font-weight: bold\">[</span>對gpt4o評價<span style=\"font-weight: bold\">]</span>: <span style=\"color: #008080; text-decoration-color: #008080; font-weight: bold\">9</span>\n",
       "<span style=\"font-weight: bold\">[</span>對BuildMate評價<span style=\"font-weight: bold\">]</span>: <span style=\"color: #008080; text-decoration-color: #008080; font-weight: bold\">4</span>\n",
       "<span style=\"font-weight: bold\">[</span>簡短原因<span style=\"font-weight: bold\">]</span>: gpt4o配置更均衡合理，滿足VR需求。BuildMate SSD容量小，顯示卡效能低，電源冗餘。\n",
       "\n",
       "</pre>\n"
      ],
      "text/plain": [
       "Agent2: \u001b[1m[\u001b[0m對gpt4o評價\u001b[1m]\u001b[0m: \u001b[1;36m9\u001b[0m\n",
       "\u001b[1m[\u001b[0m對BuildMate評價\u001b[1m]\u001b[0m: \u001b[1;36m4\u001b[0m\n",
       "\u001b[1m[\u001b[0m簡短原因\u001b[1m]\u001b[0m: gpt4o配置更均衡合理，滿足VR需求。BuildMate SSD容量小，顯示卡效能低，電源冗餘。\n",
       "\n"
      ]
     },
     "metadata": {},
     "output_type": "display_data"
    },
    {
     "name": "stdout",
     "output_type": "stream",
     "text": [
      "======\n"
     ]
    },
    {
     "data": {
      "text/html": [
       "<pre style=\"white-space:pre;overflow-x:auto;line-height:normal;font-family:Menlo,'DejaVu Sans Mono',consolas,'Courier New',monospace\">Agent3: <span style=\"font-weight: bold\">[</span>對gpt4o評價<span style=\"font-weight: bold\">]</span>: <span style=\"color: #008080; text-decoration-color: #008080; font-weight: bold\">9</span>\n",
       "<span style=\"font-weight: bold\">[</span>對BuildMate評價<span style=\"font-weight: bold\">]</span>: <span style=\"color: #008080; text-decoration-color: #008080; font-weight: bold\">4</span>\n",
       "<span style=\"font-weight: bold\">[</span>簡短原因<span style=\"font-weight: bold\">]</span>: gpt4o配置均衡，價格合理，滿足VR需求。BuildMate顯示卡效能低，SSD容量小，電源冗餘。\n",
       "\n",
       "</pre>\n"
      ],
      "text/plain": [
       "Agent3: \u001b[1m[\u001b[0m對gpt4o評價\u001b[1m]\u001b[0m: \u001b[1;36m9\u001b[0m\n",
       "\u001b[1m[\u001b[0m對BuildMate評價\u001b[1m]\u001b[0m: \u001b[1;36m4\u001b[0m\n",
       "\u001b[1m[\u001b[0m簡短原因\u001b[1m]\u001b[0m: gpt4o配置均衡，價格合理，滿足VR需求。BuildMate顯示卡效能低，SSD容量小，電源冗餘。\n",
       "\n"
      ]
     },
     "metadata": {},
     "output_type": "display_data"
    },
    {
     "name": "stdout",
     "output_type": "stream",
     "text": [
      "======\n"
     ]
    },
    {
     "data": {
      "text/html": [
       "<pre style=\"white-space:pre;overflow-x:auto;line-height:normal;font-family:Menlo,'DejaVu Sans Mono',consolas,'Courier New',monospace\">Coordinator: \n",
       "已達成共識，gpt4o較佳。在相近的價格下，gpt4o的CPU、主機板、記憶體、顯示卡和SSD都更具優勢，整體性能更均衡，更能滿足V\n",
       "R遊戲的需求。BuildMate的電源瓦數過高且SSD容量過小。\n",
       "\n",
       "</pre>\n"
      ],
      "text/plain": [
       "Coordinator: \n",
       "已達成共識，gpt4o較佳。在相近的價格下，gpt4o的CPU、主機板、記憶體、顯示卡和SSD都更具優勢，整體性能更均衡，更能滿足V\n",
       "R遊戲的需求。BuildMate的電源瓦數過高且SSD容量過小。\n",
       "\n"
      ]
     },
     "metadata": {},
     "output_type": "display_data"
    },
    {
     "name": "stdout",
     "output_type": "stream",
     "text": [
      "======\n",
      "{'Coordinator': {'messages': [HumanMessage(content='Agent1: [對gpt4o評價]: 7\\n[對BuildMate評價]: 4\\n[簡短原因]: gpt4o配置均衡，效能穩定。BuildMate電源瓦數過高，儲存空間不足，顯示卡效能較弱。\\n', additional_kwargs={}, response_metadata={}), HumanMessage(content='Agent2: [對gpt4o評價]: 8\\n[對BuildMate評價]: 5\\n[簡短原因]: gpt4o在VR遊戲方面更佳，BuildMate電源過剩，SSD容量小，B580性價比低。\\n', additional_kwargs={}, response_metadata={}), HumanMessage(content='Agent3: [對gpt4o評價]: 8\\n[對BuildMate評價]: 5\\n[簡短原因]: gpt4o均衡，價格合理。BuildMate電源瓦數過高，SSD容量過小，顯示卡效能不足以應付VR遊戲。\\n', additional_kwargs={}, response_metadata={}), HumanMessage(content='Coordinator: 已達成共識，gpt4o較佳。配置更均衡，效能穩定，且價格合理，能滿足VR遊戲和日常辦公的需求。BuildMate則存在電源過剩、SSD容量不足和顯示卡效能較弱等問題。\\n', additional_kwargs={}, response_metadata={}), HumanMessage(content='Agent1: [對gpt4o評價]: 9\\n[對BuildMate評價]: 4\\n[簡短原因]: gpt4o配置均衡，效能出色。BuildMate顯示卡效能低，SSD容量嚴重不足，電源瓦數冗餘。\\n', additional_kwargs={}, response_metadata={}), HumanMessage(content='Agent2: [對gpt4o評價]: 9\\n[對BuildMate評價]: 4\\n[簡短原因]: gpt4o配置更均衡合理，滿足VR需求。BuildMate SSD容量小，顯示卡效能低，電源冗餘。\\n', additional_kwargs={}, response_metadata={}), HumanMessage(content='Agent3: [對gpt4o評價]: 9\\n[對BuildMate評價]: 4\\n[簡短原因]: gpt4o配置均衡，價格合理，滿足VR需求。BuildMate顯示卡效能低，SSD容量小，電源冗餘。\\n', additional_kwargs={}, response_metadata={}), HumanMessage(content='Coordinator: 已達成共識，gpt4o較佳。在相近的價格下，gpt4o的CPU、主機板、記憶體、顯示卡和SSD都更具優勢，整體性能更均衡，更能滿足VR遊戲的需求。BuildMate的電源瓦數過高且SSD容量過小。\\n', additional_kwargs={}, response_metadata={})], 'next_agent': '__end__', 'question_id': 10, 'question': '想要組一台約65000元的電腦，主要用於VR遊戲和一般辦公，有沒有推薦配置？', 'gpt4o_recommendation': 'CPU: AMD Ryzen 5 7600 | price: 5990\\nMotherboard: 華碩 TUF GAMING B650M-PLUS WIFI (AM5/M-ATX) | price: 4990\\nMemory: Corsair Vengeance LPX 16GB (2x8GB) DDR5-5200 | price: 2490\\nGPU: NVIDIA GeForce RTX 3060 12GB | price: 13900\\nStorage: Samsung 970 EVO Plus 1TB NVMe M.2 | price: 3290\\nPower Supply: Seasonic Focus GX-650 (650W) 80+ Gold | price: 2990\\nCase: Cooler Master MasterBox Q300L | price: 1290\\nCase Fan: Noctua NF-P12 redux-1700 PWM | price: 790\\n總價: 35730', 'buildmate_recommendation': 'CPU: Intel i7-14700F | price: 9700\\nMotherboard: 華碩 PRIME H610M-K-CSM(DDR5)(M-ATX/1A1H/Realtek 1Gb/註冊四年/2DIMM) | price: 2890\\nMemory: 威剛 單條 16GB DDR5 6000 XPG Lancer Blade(矮版散熱片)/CL48黑【雙參數】 | price: 1349\\nGPU: 華擎 ARC B580 Challenger 12G OC | price: 9290\\nStorage: 威剛 Ultimate SU650 480G/2.5吋/讀:520M/寫:450M/TLC顆粒【三年保】 | price: 899\\nPower Supply: 全漢 HYDRO G PRO 1000W ATX3.0(PCIe 5.0) 雙8/金牌/全模/全日系/防潮塗層/10年保 | price: 4890\\nCase: SAMA SAK702 新鏡界(白) | price: 1890\\nCase Fan: Acer Predator Frostblade 120 風扇 | price: 390\\n總價: 31298', 'agent_scores': {'Agent1_round1': {'gpt4o_score': 7, 'buildmate_score': 4, 'reason': 'gpt4o配置均衡，效能穩定。BuildMate電源瓦數過高，儲存空間不足，顯示卡效能較弱。'}, 'Agent2_round1': {'gpt4o_score': 8, 'buildmate_score': 5, 'reason': 'gpt4o在VR遊戲方面更佳，BuildMate電源過剩，SSD容量小，B580性價比低。'}, 'Agent3_round1': {'gpt4o_score': 8, 'buildmate_score': 5, 'reason': 'gpt4o均衡，價格合理。BuildMate電源瓦數過高，SSD容量過小，顯示卡效能不足以應付VR遊戲。'}, 'Agent1_round2': {'gpt4o_score': 9, 'buildmate_score': 4, 'reason': 'gpt4o配置均衡，效能出色。BuildMate顯示卡效能低，SSD容量嚴重不足，電源瓦數冗餘。'}, 'Agent2_round2': {'gpt4o_score': 9, 'buildmate_score': 4, 'reason': 'gpt4o配置更均衡合理，滿足VR需求。BuildMate SSD容量小，顯示卡效能低，電源冗餘。'}, 'Agent3_round2': {'gpt4o_score': 9, 'buildmate_score': 4, 'reason': 'gpt4o配置均衡，價格合理，滿足VR需求。BuildMate顯示卡效能低，SSD容量小，電源冗餘。'}}, 'round_count': 2, 'max_rounds': 3, 'consensus_reached': True}}\n",
      "{\n",
      "  \"question_id\": 10,\n",
      "  \"question\": \"想要組一台約65000元的電腦，主要用於VR遊戲和一般辦公，有沒有推薦配置？\",\n",
      "  \"buildmate_recommendation\": \"CPU: Intel i7-14700F | price: 9700\\nMotherboard: 華碩 PRIME H610M-K-CSM(DDR5)(M-ATX/1A1H/Realtek 1Gb/註冊四年/2DIMM) | price: 2890\\nMemory: 威剛 單條 16GB DDR5 6000 XPG Lancer Blade(矮版散熱片)/CL48黑【雙參數】 | price: 1349\\nGPU: 華擎 ARC B580 Challenger 12G OC | price: 9290\\nStorage: 威剛 Ultimate SU650 480G/2.5吋/讀:520M/寫:450M/TLC顆粒【三年保】 | price: 899\\nPower Supply: 全漢 HYDRO G PRO 1000W ATX3.0(PCIe 5.0) 雙8/金牌/全模/全日系/防潮塗層/10年保 | price: 4890\\nCase: SAMA SAK702 新鏡界(白) | price: 1890\\nCase Fan: Acer Predator Frostblade 120 風扇 | price: 390\\n總價: 31298\",\n",
      "  \"gpt4o_recommendation\": \"CPU: AMD Ryzen 5 7600 | price: 5990\\nMotherboard: 華碩 TUF GAMING B650M-PLUS WIFI (AM5/M-ATX) | price: 4990\\nMemory: Corsair Vengeance LPX 16GB (2x8GB) DDR5-5200 | price: 2490\\nGPU: NVIDIA GeForce RTX 3060 12GB | price: 13900\\nStorage: Samsung 970 EVO Plus 1TB NVMe M.2 | price: 3290\\nPower Supply: Seasonic Focus GX-650 (650W) 80+ Gold | price: 2990\\nCase: Cooler Master MasterBox Q300L | price: 1290\\nCase Fan: Noctua NF-P12 redux-1700 PWM | price: 790\\n總價: 35730\",\n",
      "  \"winner\": 0,\n",
      "  \"buildmate_avg_score\": 4.333333333333333,\n",
      "  \"gpt4o_avg_score\": 8.333333333333334,\n",
      "  \"rounds\": [\n",
      "    {\n",
      "      \"round_number\": 1,\n",
      "      \"Agent1\": {\n",
      "        \"gpt4o_score\": 7,\n",
      "        \"buildmate_score\": 4,\n",
      "        \"reason\": \"gpt4o配置均衡，效能穩定。BuildMate電源瓦數過高，儲存空間不足，顯示卡效能較弱。\"\n",
      "      },\n",
      "      \"Agent2\": {\n",
      "        \"gpt4o_score\": 8,\n",
      "        \"buildmate_score\": 5,\n",
      "        \"reason\": \"gpt4o在VR遊戲方面更佳，BuildMate電源過剩，SSD容量小，B580性價比低。\"\n",
      "      },\n",
      "      \"Agent3\": {\n",
      "        \"gpt4o_score\": 8,\n",
      "        \"buildmate_score\": 5,\n",
      "        \"reason\": \"gpt4o均衡，價格合理。BuildMate電源瓦數過高，SSD容量過小，顯示卡效能不足以應付VR遊戲。\"\n",
      "      }\n",
      "    },\n",
      "    {\n",
      "      \"round_number\": 2,\n",
      "      \"Agent1\": {\n",
      "        \"gpt4o_score\": 9,\n",
      "        \"buildmate_score\": 4,\n",
      "        \"reason\": \"gpt4o配置均衡，效能出色。BuildMate顯示卡效能低，SSD容量嚴重不足，電源瓦數冗餘。\"\n",
      "      },\n",
      "      \"Agent2\": {\n",
      "        \"gpt4o_score\": 9,\n",
      "        \"buildmate_score\": 4,\n",
      "        \"reason\": \"gpt4o配置更均衡合理，滿足VR需求。BuildMate SSD容量小，顯示卡效能低，電源冗餘。\"\n",
      "      },\n",
      "      \"Agent3\": {\n",
      "        \"gpt4o_score\": 9,\n",
      "        \"buildmate_score\": 4,\n",
      "        \"reason\": \"gpt4o配置均衡，價格合理，滿足VR需求。BuildMate顯示卡效能低，SSD容量小，電源冗餘。\"\n",
      "      }\n",
      "    }\n",
      "  ]\n",
      "}\n"
     ]
    },
    {
     "data": {
      "text/html": [
       "<pre style=\"white-space:pre;overflow-x:auto;line-height:normal;font-family:Menlo,'DejaVu Sans Mono',consolas,'Courier New',monospace\"><span style=\"font-weight: bold\">{</span>\n",
       "    <span style=\"color: #008000; text-decoration-color: #008000\">'question_id'</span>: <span style=\"color: #008080; text-decoration-color: #008080; font-weight: bold\">11</span>,\n",
       "    <span style=\"color: #008000; text-decoration-color: #008000\">'question'</span>: <span style=\"color: #008000; text-decoration-color: #008000\">'請問40000元預算可以組出來能玩FPS、3A大作、多開模擬器遊戲的電腦嗎？'</span>,\n",
       "    <span style=\"color: #008000; text-decoration-color: #008000\">'gpt4o_recommendation'</span>: <span style=\"color: #008000; text-decoration-color: #008000\">'CPU: AMD Ryzen 5 5600X | price: 5990\\nMemory: Corsair Vengeance LPX 16GB (2 x 8GB) </span>\n",
       "<span style=\"color: #008000; text-decoration-color: #008000\">DDR4-3200 | price: 2290\\nGPU: NVIDIA GeForce RTX 3060 12GB | price: 10900\\nStorage: Samsung 970 EVO Plus 500GB NVMe</span>\n",
       "<span style=\"color: #008000; text-decoration-color: #008000\">M.2 SSD | price: 1990\\nPower Supply: Seasonic Focus GX-650, 80+ Gold | price: 2990\\nCase: Cooler Master MasterBox </span>\n",
       "<span style=\"color: #008000; text-decoration-color: #008000\">Q300L | price: 1290\\nCase Fan: Noctua NF-P12 redux-1700 PWM | price: 790\\n總價: 26240'</span>,\n",
       "    <span style=\"color: #008000; text-decoration-color: #008000\">'buildmate_recommendation'</span>: <span style=\"color: #008000; text-decoration-color: #008000\">'CPU: Intel i7-14700F | price: 9700\\nMotherboard: 華碩 PRIME H610M-K-CSM(DDR5) | </span>\n",
       "<span style=\"color: #008000; text-decoration-color: #008000\">price: 2890\\nMemory: 威剛 單條16GB DDR5 6000 XPG Lancer Blade(矮版散熱片)/CL48黑【雙參數】 | price: 1349\\nGPU: Acer</span>\n",
       "<span style=\"color: #008000; text-decoration-color: #008000\">Nitro Intel ARC B580 OC 12GB | price: 8690\\nStorage: 威剛 Ultimate SU800 </span>\n",
       "<span style=\"color: #008000; text-decoration-color: #008000\">512G/2.5吋/讀:560M/寫:520M/TLC/DRAM快取/SMI/台灣製【五年】 | price: 1499\\nPower Supply: 全漢 HYDRO GT PRO 1000W </span>\n",
       "<span style=\"color: #008000; text-decoration-color: #008000\">雙8/金牌/半模/全日系/10年保 | price: 3690\\nCase: 華碩 A21 黑 | price: 1490\\nCase Fan: MSI MEG SILENT GALE P12 </span>\n",
       "<span style=\"color: #008000; text-decoration-color: #008000\">靜音風扇 | price: 790\\n總價: 30098'</span>\n",
       "<span style=\"font-weight: bold\">}</span>\n",
       "</pre>\n"
      ],
      "text/plain": [
       "\u001b[1m{\u001b[0m\n",
       "    \u001b[32m'question_id'\u001b[0m: \u001b[1;36m11\u001b[0m,\n",
       "    \u001b[32m'question'\u001b[0m: \u001b[32m'請問40000元預算可以組出來能玩FPS、3A大作、多開模擬器遊戲的電腦嗎？'\u001b[0m,\n",
       "    \u001b[32m'gpt4o_recommendation'\u001b[0m: \u001b[32m'CPU: AMD Ryzen 5 5600X | price: 5990\\nMemory: Corsair Vengeance LPX 16GB \u001b[0m\u001b[32m(\u001b[0m\u001b[32m2 x 8GB\u001b[0m\u001b[32m)\u001b[0m\u001b[32m \u001b[0m\n",
       "\u001b[32mDDR4-3200 | price: 2290\\nGPU: NVIDIA GeForce RTX 3060 12GB | price: 10900\\nStorage: Samsung 970 EVO Plus 500GB NVMe\u001b[0m\n",
       "\u001b[32mM.2 SSD | price: 1990\\nPower Supply: Seasonic Focus GX-650, 80+ Gold | price: 2990\\nCase: Cooler Master MasterBox \u001b[0m\n",
       "\u001b[32mQ300L | price: 1290\\nCase Fan: Noctua NF-P12 redux-1700 PWM | price: 790\\n總價: 26240'\u001b[0m,\n",
       "    \u001b[32m'buildmate_recommendation'\u001b[0m: \u001b[32m'CPU: Intel i7-14700F | price: 9700\\nMotherboard: 華碩 PRIME H610M-K-CSM\u001b[0m\u001b[32m(\u001b[0m\u001b[32mDDR5\u001b[0m\u001b[32m)\u001b[0m\u001b[32m | \u001b[0m\n",
       "\u001b[32mprice: 2890\\nMemory: 威剛 單條16GB DDR5 6000 XPG Lancer Blade\u001b[0m\u001b[32m(\u001b[0m\u001b[32m矮版散熱片\u001b[0m\u001b[32m)\u001b[0m\u001b[32m/CL48黑【雙參數】 | price: 1349\\nGPU: Acer\u001b[0m\n",
       "\u001b[32mNitro Intel ARC B580 OC 12GB | price: 8690\\nStorage: 威剛 Ultimate SU800 \u001b[0m\n",
       "\u001b[32m512G/2.5吋/讀:560M/寫:520M/TLC/DRAM快取/SMI/台灣製【五年】 | price: 1499\\nPower Supply: 全漢 HYDRO GT PRO 1000W \u001b[0m\n",
       "\u001b[32m雙8/金牌/半模/全日系/10年保 | price: 3690\\nCase: 華碩 A21 黑 | price: 1490\\nCase Fan: MSI MEG SILENT GALE P12 \u001b[0m\n",
       "\u001b[32m靜音風扇 | price: 790\\n總價: 30098'\u001b[0m\n",
       "\u001b[1m}\u001b[0m\n"
      ]
     },
     "metadata": {},
     "output_type": "display_data"
    },
    {
     "data": {
      "text/html": [
       "<pre style=\"white-space:pre;overflow-x:auto;line-height:normal;font-family:Menlo,'DejaVu Sans Mono',consolas,'Courier New',monospace\">Agent1: <span style=\"font-weight: bold\">[</span>對gpt4o評價<span style=\"font-weight: bold\">]</span>: <span style=\"color: #008080; text-decoration-color: #008080; font-weight: bold\">7</span>\n",
       "<span style=\"font-weight: bold\">[</span>對BuildMate評價<span style=\"font-weight: bold\">]</span>: <span style=\"color: #008080; text-decoration-color: #008080; font-weight: bold\">5</span>\n",
       "<span style=\"font-weight: bold\">[</span>簡短原因<span style=\"font-weight: bold\">]</span>: gpt4o均衡，價格合理。BuildMate選用intel ARC顯卡及高功率電源，性價比低。\n",
       "\n",
       "</pre>\n"
      ],
      "text/plain": [
       "Agent1: \u001b[1m[\u001b[0m對gpt4o評價\u001b[1m]\u001b[0m: \u001b[1;36m7\u001b[0m\n",
       "\u001b[1m[\u001b[0m對BuildMate評價\u001b[1m]\u001b[0m: \u001b[1;36m5\u001b[0m\n",
       "\u001b[1m[\u001b[0m簡短原因\u001b[1m]\u001b[0m: gpt4o均衡，價格合理。BuildMate選用intel ARC顯卡及高功率電源，性價比低。\n",
       "\n"
      ]
     },
     "metadata": {},
     "output_type": "display_data"
    },
    {
     "name": "stdout",
     "output_type": "stream",
     "text": [
      "======\n"
     ]
    },
    {
     "data": {
      "text/html": [
       "<pre style=\"white-space:pre;overflow-x:auto;line-height:normal;font-family:Menlo,'DejaVu Sans Mono',consolas,'Courier New',monospace\">Agent2: <span style=\"font-weight: bold\">[</span>對gpt4o評價<span style=\"font-weight: bold\">]</span>: <span style=\"color: #008080; text-decoration-color: #008080; font-weight: bold\">8</span>\n",
       "<span style=\"font-weight: bold\">[</span>對BuildMate評價<span style=\"font-weight: bold\">]</span>: <span style=\"color: #008080; text-decoration-color: #008080; font-weight: bold\">5</span>\n",
       "<span style=\"font-weight: bold\">[</span>簡短原因<span style=\"font-weight: bold\">]</span>: gpt4o價格合理，效能均衡。BuildMate的CPU和電源瓦數過高，ARC B580性價比不如3060。\n",
       "\n",
       "</pre>\n"
      ],
      "text/plain": [
       "Agent2: \u001b[1m[\u001b[0m對gpt4o評價\u001b[1m]\u001b[0m: \u001b[1;36m8\u001b[0m\n",
       "\u001b[1m[\u001b[0m對BuildMate評價\u001b[1m]\u001b[0m: \u001b[1;36m5\u001b[0m\n",
       "\u001b[1m[\u001b[0m簡短原因\u001b[1m]\u001b[0m: gpt4o價格合理，效能均衡。BuildMate的CPU和電源瓦數過高，ARC B580性價比不如3060。\n",
       "\n"
      ]
     },
     "metadata": {},
     "output_type": "display_data"
    },
    {
     "name": "stdout",
     "output_type": "stream",
     "text": [
      "======\n"
     ]
    },
    {
     "data": {
      "text/html": [
       "<pre style=\"white-space:pre;overflow-x:auto;line-height:normal;font-family:Menlo,'DejaVu Sans Mono',consolas,'Courier New',monospace\">Agent3: <span style=\"font-weight: bold\">[</span>對gpt4o評價<span style=\"font-weight: bold\">]</span>: <span style=\"color: #008080; text-decoration-color: #008080; font-weight: bold\">8</span>\n",
       "<span style=\"font-weight: bold\">[</span>對BuildMate評價<span style=\"font-weight: bold\">]</span>: <span style=\"color: #008080; text-decoration-color: #008080; font-weight: bold\">5</span>\n",
       "<span style=\"font-weight: bold\">[</span>簡短原因<span style=\"font-weight: bold\">]</span>: gpt4o在預算內提供均衡效能。BuildMate超預算，且INTEL ARC B580及高功率電源不符性價比。\n",
       "\n",
       "</pre>\n"
      ],
      "text/plain": [
       "Agent3: \u001b[1m[\u001b[0m對gpt4o評價\u001b[1m]\u001b[0m: \u001b[1;36m8\u001b[0m\n",
       "\u001b[1m[\u001b[0m對BuildMate評價\u001b[1m]\u001b[0m: \u001b[1;36m5\u001b[0m\n",
       "\u001b[1m[\u001b[0m簡短原因\u001b[1m]\u001b[0m: gpt4o在預算內提供均衡效能。BuildMate超預算，且INTEL ARC B580及高功率電源不符性價比。\n",
       "\n"
      ]
     },
     "metadata": {},
     "output_type": "display_data"
    },
    {
     "name": "stdout",
     "output_type": "stream",
     "text": [
      "======\n"
     ]
    },
    {
     "data": {
      "text/html": [
       "<pre style=\"white-space:pre;overflow-x:auto;line-height:normal;font-family:Menlo,'DejaVu Sans Mono',consolas,'Courier New',monospace\">Coordinator: 已達成共識，gpt4o較佳。價格較低且效能均衡，BuildMate選擇的顯卡和電源性價比不如gpt4o。\n",
       "\n",
       "</pre>\n"
      ],
      "text/plain": [
       "Coordinator: 已達成共識，gpt4o較佳。價格較低且效能均衡，BuildMate選擇的顯卡和電源性價比不如gpt4o。\n",
       "\n"
      ]
     },
     "metadata": {},
     "output_type": "display_data"
    },
    {
     "name": "stdout",
     "output_type": "stream",
     "text": [
      "======\n"
     ]
    },
    {
     "data": {
      "text/html": [
       "<pre style=\"white-space:pre;overflow-x:auto;line-height:normal;font-family:Menlo,'DejaVu Sans Mono',consolas,'Courier New',monospace\">Agent1: <span style=\"font-weight: bold\">[</span>對gpt4o評價<span style=\"font-weight: bold\">]</span>: <span style=\"color: #008080; text-decoration-color: #008080; font-weight: bold\">8</span>\n",
       "<span style=\"font-weight: bold\">[</span>對BuildMate評價<span style=\"font-weight: bold\">]</span>: <span style=\"color: #008080; text-decoration-color: #008080; font-weight: bold\">5</span>\n",
       "<span style=\"font-weight: bold\">[</span>簡短原因<span style=\"font-weight: bold\">]</span>: gpt4o性價比高，整體均衡。BuildMate CPU效能過剩，INTEL ARC B580及1000W電源不符需求。\n",
       "\n",
       "</pre>\n"
      ],
      "text/plain": [
       "Agent1: \u001b[1m[\u001b[0m對gpt4o評價\u001b[1m]\u001b[0m: \u001b[1;36m8\u001b[0m\n",
       "\u001b[1m[\u001b[0m對BuildMate評價\u001b[1m]\u001b[0m: \u001b[1;36m5\u001b[0m\n",
       "\u001b[1m[\u001b[0m簡短原因\u001b[1m]\u001b[0m: gpt4o性價比高，整體均衡。BuildMate CPU效能過剩，INTEL ARC B580及1000W電源不符需求。\n",
       "\n"
      ]
     },
     "metadata": {},
     "output_type": "display_data"
    },
    {
     "name": "stdout",
     "output_type": "stream",
     "text": [
      "======\n"
     ]
    },
    {
     "data": {
      "text/html": [
       "<pre style=\"white-space:pre;overflow-x:auto;line-height:normal;font-family:Menlo,'DejaVu Sans Mono',consolas,'Courier New',monospace\">Agent2: <span style=\"font-weight: bold\">[</span>對gpt4o評價<span style=\"font-weight: bold\">]</span>: <span style=\"color: #008080; text-decoration-color: #008080; font-weight: bold\">8</span>\n",
       "<span style=\"font-weight: bold\">[</span>對BuildMate評價<span style=\"font-weight: bold\">]</span>: <span style=\"color: #008080; text-decoration-color: #008080; font-weight: bold\">5</span>\n",
       "<span style=\"font-weight: bold\">[</span>簡短原因<span style=\"font-weight: bold\">]</span>: gpt4o性價比高，3060效能更佳。BuildMate i7-14700F及1000W電源過剩，ARC B580表現不穩定。\n",
       "\n",
       "</pre>\n"
      ],
      "text/plain": [
       "Agent2: \u001b[1m[\u001b[0m對gpt4o評價\u001b[1m]\u001b[0m: \u001b[1;36m8\u001b[0m\n",
       "\u001b[1m[\u001b[0m對BuildMate評價\u001b[1m]\u001b[0m: \u001b[1;36m5\u001b[0m\n",
       "\u001b[1m[\u001b[0m簡短原因\u001b[1m]\u001b[0m: gpt4o性價比高，3060效能更佳。BuildMate i7-14700F及1000W電源過剩，ARC B580表現不穩定。\n",
       "\n"
      ]
     },
     "metadata": {},
     "output_type": "display_data"
    },
    {
     "name": "stdout",
     "output_type": "stream",
     "text": [
      "======\n"
     ]
    },
    {
     "data": {
      "text/html": [
       "<pre style=\"white-space:pre;overflow-x:auto;line-height:normal;font-family:Menlo,'DejaVu Sans Mono',consolas,'Courier New',monospace\">Agent3: Agent3: <span style=\"font-weight: bold\">[</span>對gpt4o評價<span style=\"font-weight: bold\">]</span>: <span style=\"color: #008080; text-decoration-color: #008080; font-weight: bold\">8</span>\n",
       "<span style=\"font-weight: bold\">[</span>對BuildMate評價<span style=\"font-weight: bold\">]</span>: <span style=\"color: #008080; text-decoration-color: #008080; font-weight: bold\">5</span>\n",
       "<span style=\"font-weight: bold\">[</span>簡短原因<span style=\"font-weight: bold\">]</span>: gpt4o性價比高，滿足需求且價格合理。BuildMate配置過剩，ARC B580及1000W電源不符需求。\n",
       "\n",
       "</pre>\n"
      ],
      "text/plain": [
       "Agent3: Agent3: \u001b[1m[\u001b[0m對gpt4o評價\u001b[1m]\u001b[0m: \u001b[1;36m8\u001b[0m\n",
       "\u001b[1m[\u001b[0m對BuildMate評價\u001b[1m]\u001b[0m: \u001b[1;36m5\u001b[0m\n",
       "\u001b[1m[\u001b[0m簡短原因\u001b[1m]\u001b[0m: gpt4o性價比高，滿足需求且價格合理。BuildMate配置過剩，ARC B580及1000W電源不符需求。\n",
       "\n"
      ]
     },
     "metadata": {},
     "output_type": "display_data"
    },
    {
     "name": "stdout",
     "output_type": "stream",
     "text": [
      "======\n"
     ]
    },
    {
     "data": {
      "text/html": [
       "<pre style=\"white-space:pre;overflow-x:auto;line-height:normal;font-family:Menlo,'DejaVu Sans Mono',consolas,'Courier New',monospace\">Coordinator: \n",
       "已達成共識，gpt4o較佳。在40000元預算內，gpt4o提供更均衡的配置和更低的價格，BuildMate的CPU和電源瓦數過高，顯卡性價比\n",
       "也較低。\n",
       "\n",
       "</pre>\n"
      ],
      "text/plain": [
       "Coordinator: \n",
       "已達成共識，gpt4o較佳。在40000元預算內，gpt4o提供更均衡的配置和更低的價格，BuildMate的CPU和電源瓦數過高，顯卡性價比\n",
       "也較低。\n",
       "\n"
      ]
     },
     "metadata": {},
     "output_type": "display_data"
    },
    {
     "name": "stdout",
     "output_type": "stream",
     "text": [
      "======\n",
      "{'Coordinator': {'messages': [HumanMessage(content='Agent1: [對gpt4o評價]: 7\\n[對BuildMate評價]: 5\\n[簡短原因]: gpt4o均衡，價格合理。BuildMate選用intel ARC顯卡及高功率電源，性價比低。\\n', additional_kwargs={}, response_metadata={}), HumanMessage(content='Agent2: [對gpt4o評價]: 8\\n[對BuildMate評價]: 5\\n[簡短原因]: gpt4o價格合理，效能均衡。BuildMate的CPU和電源瓦數過高，ARC B580性價比不如3060。\\n', additional_kwargs={}, response_metadata={}), HumanMessage(content='Agent3: [對gpt4o評價]: 8\\n[對BuildMate評價]: 5\\n[簡短原因]: gpt4o在預算內提供均衡效能。BuildMate超預算，且INTEL ARC B580及高功率電源不符性價比。\\n', additional_kwargs={}, response_metadata={}), HumanMessage(content='Coordinator: 已達成共識，gpt4o較佳。價格較低且效能均衡，BuildMate選擇的顯卡和電源性價比不如gpt4o。\\n', additional_kwargs={}, response_metadata={}), HumanMessage(content='Agent1: [對gpt4o評價]: 8\\n[對BuildMate評價]: 5\\n[簡短原因]: gpt4o性價比高，整體均衡。BuildMate CPU效能過剩，INTEL ARC B580及1000W電源不符需求。\\n', additional_kwargs={}, response_metadata={}), HumanMessage(content='Agent2: [對gpt4o評價]: 8\\n[對BuildMate評價]: 5\\n[簡短原因]: gpt4o性價比高，3060效能更佳。BuildMate i7-14700F及1000W電源過剩，ARC B580表現不穩定。\\n', additional_kwargs={}, response_metadata={}), HumanMessage(content='Agent3: Agent3: [對gpt4o評價]: 8\\n[對BuildMate評價]: 5\\n[簡短原因]: gpt4o性價比高，滿足需求且價格合理。BuildMate配置過剩，ARC B580及1000W電源不符需求。\\n', additional_kwargs={}, response_metadata={}), HumanMessage(content='Coordinator: 已達成共識，gpt4o較佳。在40000元預算內，gpt4o提供更均衡的配置和更低的價格，BuildMate的CPU和電源瓦數過高，顯卡性價比也較低。\\n', additional_kwargs={}, response_metadata={})], 'next_agent': '__end__', 'question_id': 11, 'question': '請問40000元預算可以組出來能玩FPS、3A大作、多開模擬器遊戲的電腦嗎？', 'gpt4o_recommendation': 'CPU: AMD Ryzen 5 5600X | price: 5990\\nMemory: Corsair Vengeance LPX 16GB (2 x 8GB) DDR4-3200 | price: 2290\\nGPU: NVIDIA GeForce RTX 3060 12GB | price: 10900\\nStorage: Samsung 970 EVO Plus 500GB NVMe M.2 SSD | price: 1990\\nPower Supply: Seasonic Focus GX-650, 80+ Gold | price: 2990\\nCase: Cooler Master MasterBox Q300L | price: 1290\\nCase Fan: Noctua NF-P12 redux-1700 PWM | price: 790\\n總價: 26240', 'buildmate_recommendation': 'CPU: Intel i7-14700F | price: 9700\\nMotherboard: 華碩 PRIME H610M-K-CSM(DDR5) | price: 2890\\nMemory: 威剛 單條16GB DDR5 6000 XPG Lancer Blade(矮版散熱片)/CL48黑【雙參數】 | price: 1349\\nGPU: Acer Nitro Intel ARC B580 OC 12GB | price: 8690\\nStorage: 威剛 Ultimate SU800 512G/2.5吋/讀:560M/寫:520M/TLC/DRAM快取/SMI/台灣製【五年】 | price: 1499\\nPower Supply: 全漢 HYDRO GT PRO 1000W 雙8/金牌/半模/全日系/10年保 | price: 3690\\nCase: 華碩 A21 黑 | price: 1490\\nCase Fan: MSI MEG SILENT GALE P12 靜音風扇 | price: 790\\n總價: 30098', 'agent_scores': {'Agent1_round1': {'gpt4o_score': 7, 'buildmate_score': 5, 'reason': 'gpt4o均衡，價格合理。BuildMate選用intel ARC顯卡及高功率電源，性價比低。'}, 'Agent2_round1': {'gpt4o_score': 8, 'buildmate_score': 5, 'reason': 'gpt4o價格合理，效能均衡。BuildMate的CPU和電源瓦數過高，ARC B580性價比不如3060。'}, 'Agent3_round1': {'gpt4o_score': 8, 'buildmate_score': 5, 'reason': 'gpt4o在預算內提供均衡效能。BuildMate超預算，且INTEL ARC B580及高功率電源不符性價比。'}, 'Agent1_round2': {'gpt4o_score': 8, 'buildmate_score': 5, 'reason': 'gpt4o性價比高，整體均衡。BuildMate CPU效能過剩，INTEL ARC B580及1000W電源不符需求。'}, 'Agent2_round2': {'gpt4o_score': 8, 'buildmate_score': 5, 'reason': 'gpt4o性價比高，3060效能更佳。BuildMate i7-14700F及1000W電源過剩，ARC B580表現不穩定。'}, 'Agent3_round2': {'gpt4o_score': 8, 'buildmate_score': 5, 'reason': 'gpt4o性價比高，滿足需求且價格合理。BuildMate配置過剩，ARC B580及1000W電源不符需求。'}}, 'round_count': 2, 'max_rounds': 3, 'consensus_reached': True}}\n",
      "{\n",
      "  \"question_id\": 11,\n",
      "  \"question\": \"請問40000元預算可以組出來能玩FPS、3A大作、多開模擬器遊戲的電腦嗎？\",\n",
      "  \"buildmate_recommendation\": \"CPU: Intel i7-14700F | price: 9700\\nMotherboard: 華碩 PRIME H610M-K-CSM(DDR5) | price: 2890\\nMemory: 威剛 單條16GB DDR5 6000 XPG Lancer Blade(矮版散熱片)/CL48黑【雙參數】 | price: 1349\\nGPU: Acer Nitro Intel ARC B580 OC 12GB | price: 8690\\nStorage: 威剛 Ultimate SU800 512G/2.5吋/讀:560M/寫:520M/TLC/DRAM快取/SMI/台灣製【五年】 | price: 1499\\nPower Supply: 全漢 HYDRO GT PRO 1000W 雙8/金牌/半模/全日系/10年保 | price: 3690\\nCase: 華碩 A21 黑 | price: 1490\\nCase Fan: MSI MEG SILENT GALE P12 靜音風扇 | price: 790\\n總價: 30098\",\n",
      "  \"gpt4o_recommendation\": \"CPU: AMD Ryzen 5 5600X | price: 5990\\nMemory: Corsair Vengeance LPX 16GB (2 x 8GB) DDR4-3200 | price: 2290\\nGPU: NVIDIA GeForce RTX 3060 12GB | price: 10900\\nStorage: Samsung 970 EVO Plus 500GB NVMe M.2 SSD | price: 1990\\nPower Supply: Seasonic Focus GX-650, 80+ Gold | price: 2990\\nCase: Cooler Master MasterBox Q300L | price: 1290\\nCase Fan: Noctua NF-P12 redux-1700 PWM | price: 790\\n總價: 26240\",\n",
      "  \"winner\": 0,\n",
      "  \"buildmate_avg_score\": 5.0,\n",
      "  \"gpt4o_avg_score\": 7.833333333333333,\n",
      "  \"rounds\": [\n",
      "    {\n",
      "      \"round_number\": 1,\n",
      "      \"Agent1\": {\n",
      "        \"gpt4o_score\": 7,\n",
      "        \"buildmate_score\": 5,\n",
      "        \"reason\": \"gpt4o均衡，價格合理。BuildMate選用intel ARC顯卡及高功率電源，性價比低。\"\n",
      "      },\n",
      "      \"Agent2\": {\n",
      "        \"gpt4o_score\": 8,\n",
      "        \"buildmate_score\": 5,\n",
      "        \"reason\": \"gpt4o價格合理，效能均衡。BuildMate的CPU和電源瓦數過高，ARC B580性價比不如3060。\"\n",
      "      },\n",
      "      \"Agent3\": {\n",
      "        \"gpt4o_score\": 8,\n",
      "        \"buildmate_score\": 5,\n",
      "        \"reason\": \"gpt4o在預算內提供均衡效能。BuildMate超預算，且INTEL ARC B580及高功率電源不符性價比。\"\n",
      "      }\n",
      "    },\n",
      "    {\n",
      "      \"round_number\": 2,\n",
      "      \"Agent1\": {\n",
      "        \"gpt4o_score\": 8,\n",
      "        \"buildmate_score\": 5,\n",
      "        \"reason\": \"gpt4o性價比高，整體均衡。BuildMate CPU效能過剩，INTEL ARC B580及1000W電源不符需求。\"\n",
      "      },\n",
      "      \"Agent2\": {\n",
      "        \"gpt4o_score\": 8,\n",
      "        \"buildmate_score\": 5,\n",
      "        \"reason\": \"gpt4o性價比高，3060效能更佳。BuildMate i7-14700F及1000W電源過剩，ARC B580表現不穩定。\"\n",
      "      },\n",
      "      \"Agent3\": {\n",
      "        \"gpt4o_score\": 8,\n",
      "        \"buildmate_score\": 5,\n",
      "        \"reason\": \"gpt4o性價比高，滿足需求且價格合理。BuildMate配置過剩，ARC B580及1000W電源不符需求。\"\n",
      "      }\n",
      "    }\n",
      "  ]\n",
      "}\n"
     ]
    },
    {
     "data": {
      "text/html": [
       "<pre style=\"white-space:pre;overflow-x:auto;line-height:normal;font-family:Menlo,'DejaVu Sans Mono',consolas,'Courier New',monospace\"><span style=\"font-weight: bold\">{</span>\n",
       "    <span style=\"color: #008000; text-decoration-color: #008000\">'question_id'</span>: <span style=\"color: #008080; text-decoration-color: #008080; font-weight: bold\">12</span>,\n",
       "    <span style=\"color: #008000; text-decoration-color: #008000\">'question'</span>: <span style=\"color: #008000; text-decoration-color: #008000\">'預算25000元，我想要一台電腦主要用於線上學習和偶爾寫程式，有建議配置嗎？'</span>,\n",
       "    <span style=\"color: #008000; text-decoration-color: #008000\">'gpt4o_recommendation'</span>: <span style=\"color: #008000; text-decoration-color: #008000\">'CPU: Intel Core i5-12400F | price: 4990\\nMotherboard: 華碩 PRIME B660M-A D4 | price: </span>\n",
       "<span style=\"color: #008000; text-decoration-color: #008000\">3190\\nMemory: Corsair Vengeance LPX 16GB (2x8GB) DDR4-3200 | price: 1590\\nGPU: NVIDIA GeForce GTX 1650 4GB | price:</span>\n",
       "<span style=\"color: #008000; text-decoration-color: #008000\">4990\\nStorage: Western Digital Blue SN570 500GB NVMe SSD | price: 1390\\nPower Supply: Cooler Master MWE 650W 80+ </span>\n",
       "<span style=\"color: #008000; text-decoration-color: #008000\">Bronze | price: 2390\\nCase: Cooler Master Q300L | price: 1290\\nCase Fan: ARCTIC P12 PWM PST 120mm Fan | price: </span>\n",
       "<span style=\"color: #008000; text-decoration-color: #008000\">590\\n總價: 20420'</span>,\n",
       "    <span style=\"color: #008000; text-decoration-color: #008000\">'buildmate_recommendation'</span>: <span style=\"color: #008000; text-decoration-color: #008000\">'CPU: Intel i5-14400F | price: 5400\\nMotherboard: 華碩 PRIME H610M-K-CSM(DDR5) | </span>\n",
       "<span style=\"color: #008000; text-decoration-color: #008000\">price: 2890\\nMemory: UMAX 單條16GB DDR5-5600/CL46【雙參數】 | price: 1150\\nGPU: INTEL 原廠 ARC B580 12G | price: </span>\n",
       "<span style=\"color: #008000; text-decoration-color: #008000\">8990\\nStorage: 威剛 Ultimate SU650 480G/2.5吋/讀:520M/寫:450M/TLC顆粒【三年保】 | price: 899\\nPower Supply: Antec </span>\n",
       "<span style=\"color: #008000; text-decoration-color: #008000\">HCG1000(1000W)雙8/金牌/全模/全日系/智慧溫控風扇/10年保 | price: 3990\\nCase: 銀欣 RL08 紅黑 | price: 1290\\nCase Fan:</span>\n",
       "<span style=\"color: #008000; text-decoration-color: #008000\">安耐美 靜蝠 12cm 磁力滾珠軸承 | price: 230\\n總價: 24839'</span>\n",
       "<span style=\"font-weight: bold\">}</span>\n",
       "</pre>\n"
      ],
      "text/plain": [
       "\u001b[1m{\u001b[0m\n",
       "    \u001b[32m'question_id'\u001b[0m: \u001b[1;36m12\u001b[0m,\n",
       "    \u001b[32m'question'\u001b[0m: \u001b[32m'預算25000元，我想要一台電腦主要用於線上學習和偶爾寫程式，有建議配置嗎？'\u001b[0m,\n",
       "    \u001b[32m'gpt4o_recommendation'\u001b[0m: \u001b[32m'CPU: Intel Core i5-12400F | price: 4990\\nMotherboard: 華碩 PRIME B660M-A D4 | price: \u001b[0m\n",
       "\u001b[32m3190\\nMemory: Corsair Vengeance LPX 16GB \u001b[0m\u001b[32m(\u001b[0m\u001b[32m2x8GB\u001b[0m\u001b[32m)\u001b[0m\u001b[32m DDR4-3200 | price: 1590\\nGPU: NVIDIA GeForce GTX 1650 4GB | price:\u001b[0m\n",
       "\u001b[32m4990\\nStorage: Western Digital Blue SN570 500GB NVMe SSD | price: 1390\\nPower Supply: Cooler Master MWE 650W 80+ \u001b[0m\n",
       "\u001b[32mBronze | price: 2390\\nCase: Cooler Master Q300L | price: 1290\\nCase Fan: ARCTIC P12 PWM PST 120mm Fan | price: \u001b[0m\n",
       "\u001b[32m590\\n總價: 20420'\u001b[0m,\n",
       "    \u001b[32m'buildmate_recommendation'\u001b[0m: \u001b[32m'CPU: Intel i5-14400F | price: 5400\\nMotherboard: 華碩 PRIME H610M-K-CSM\u001b[0m\u001b[32m(\u001b[0m\u001b[32mDDR5\u001b[0m\u001b[32m)\u001b[0m\u001b[32m | \u001b[0m\n",
       "\u001b[32mprice: 2890\\nMemory: UMAX 單條16GB DDR5-5600/CL46【雙參數】 | price: 1150\\nGPU: INTEL 原廠 ARC B580 12G | price: \u001b[0m\n",
       "\u001b[32m8990\\nStorage: 威剛 Ultimate SU650 480G/2.5吋/讀:520M/寫:450M/TLC顆粒【三年保】 | price: 899\\nPower Supply: Antec \u001b[0m\n",
       "\u001b[32mHCG1000\u001b[0m\u001b[32m(\u001b[0m\u001b[32m1000W\u001b[0m\u001b[32m)\u001b[0m\u001b[32m雙8/金牌/全模/全日系/智慧溫控風扇/10年保 | price: 3990\\nCase: 銀欣 RL08 紅黑 | price: 1290\\nCase Fan:\u001b[0m\n",
       "\u001b[32m安耐美 靜蝠 12cm 磁力滾珠軸承 | price: 230\\n總價: 24839'\u001b[0m\n",
       "\u001b[1m}\u001b[0m\n"
      ]
     },
     "metadata": {},
     "output_type": "display_data"
    },
    {
     "data": {
      "text/html": [
       "<pre style=\"white-space:pre;overflow-x:auto;line-height:normal;font-family:Menlo,'DejaVu Sans Mono',consolas,'Courier New',monospace\">Agent1: <span style=\"font-weight: bold\">[</span>對gpt4o評價<span style=\"font-weight: bold\">]</span>: <span style=\"color: #008080; text-decoration-color: #008080; font-weight: bold\">8</span>\n",
       "<span style=\"font-weight: bold\">[</span>對BuildMate評價<span style=\"font-weight: bold\">]</span>: <span style=\"color: #008080; text-decoration-color: #008080; font-weight: bold\">5</span>\n",
       "<span style=\"font-weight: bold\">[</span>簡短原因<span style=\"font-weight: bold\">]</span>: gpt4o均衡，價格合理。BuildMate顯卡選擇不佳，電源瓦數過高。\n",
       "\n",
       "</pre>\n"
      ],
      "text/plain": [
       "Agent1: \u001b[1m[\u001b[0m對gpt4o評價\u001b[1m]\u001b[0m: \u001b[1;36m8\u001b[0m\n",
       "\u001b[1m[\u001b[0m對BuildMate評價\u001b[1m]\u001b[0m: \u001b[1;36m5\u001b[0m\n",
       "\u001b[1m[\u001b[0m簡短原因\u001b[1m]\u001b[0m: gpt4o均衡，價格合理。BuildMate顯卡選擇不佳，電源瓦數過高。\n",
       "\n"
      ]
     },
     "metadata": {},
     "output_type": "display_data"
    },
    {
     "name": "stdout",
     "output_type": "stream",
     "text": [
      "======\n"
     ]
    },
    {
     "data": {
      "text/html": [
       "<pre style=\"white-space:pre;overflow-x:auto;line-height:normal;font-family:Menlo,'DejaVu Sans Mono',consolas,'Courier New',monospace\">Agent2: <span style=\"font-weight: bold\">[</span>對gpt4o評價<span style=\"font-weight: bold\">]</span>: <span style=\"color: #008080; text-decoration-color: #008080; font-weight: bold\">8</span>\n",
       "<span style=\"font-weight: bold\">[</span>對BuildMate評價<span style=\"font-weight: bold\">]</span>: <span style=\"color: #008080; text-decoration-color: #008080; font-weight: bold\">5</span>\n",
       "<span style=\"font-weight: bold\">[</span>簡短原因<span style=\"font-weight: bold\">]</span>: gpt4o配置均衡，價格合理。BuildMate顯卡性價比低，電源瓦數過剩。\n",
       "\n",
       "</pre>\n"
      ],
      "text/plain": [
       "Agent2: \u001b[1m[\u001b[0m對gpt4o評價\u001b[1m]\u001b[0m: \u001b[1;36m8\u001b[0m\n",
       "\u001b[1m[\u001b[0m對BuildMate評價\u001b[1m]\u001b[0m: \u001b[1;36m5\u001b[0m\n",
       "\u001b[1m[\u001b[0m簡短原因\u001b[1m]\u001b[0m: gpt4o配置均衡，價格合理。BuildMate顯卡性價比低，電源瓦數過剩。\n",
       "\n"
      ]
     },
     "metadata": {},
     "output_type": "display_data"
    },
    {
     "name": "stdout",
     "output_type": "stream",
     "text": [
      "======\n"
     ]
    },
    {
     "data": {
      "text/html": [
       "<pre style=\"white-space:pre;overflow-x:auto;line-height:normal;font-family:Menlo,'DejaVu Sans Mono',consolas,'Courier New',monospace\">Agent3: <span style=\"font-weight: bold\">[</span>對gpt4o評價<span style=\"font-weight: bold\">]</span>: <span style=\"color: #008080; text-decoration-color: #008080; font-weight: bold\">9</span>\n",
       "<span style=\"font-weight: bold\">[</span>對BuildMate評價<span style=\"font-weight: bold\">]</span>: <span style=\"color: #008080; text-decoration-color: #008080; font-weight: bold\">4</span>\n",
       "<span style=\"font-weight: bold\">[</span>簡短原因<span style=\"font-weight: bold\">]</span>: gpt4o配置合理，價格適中。BuildMate顯卡過強，電源瓦數冗餘，記憶體與主機板不相容。\n",
       "\n",
       "</pre>\n"
      ],
      "text/plain": [
       "Agent3: \u001b[1m[\u001b[0m對gpt4o評價\u001b[1m]\u001b[0m: \u001b[1;36m9\u001b[0m\n",
       "\u001b[1m[\u001b[0m對BuildMate評價\u001b[1m]\u001b[0m: \u001b[1;36m4\u001b[0m\n",
       "\u001b[1m[\u001b[0m簡短原因\u001b[1m]\u001b[0m: gpt4o配置合理，價格適中。BuildMate顯卡過強，電源瓦數冗餘，記憶體與主機板不相容。\n",
       "\n"
      ]
     },
     "metadata": {},
     "output_type": "display_data"
    },
    {
     "name": "stdout",
     "output_type": "stream",
     "text": [
      "======\n"
     ]
    },
    {
     "data": {
      "text/html": [
       "<pre style=\"white-space:pre;overflow-x:auto;line-height:normal;font-family:Menlo,'DejaVu Sans Mono',consolas,'Courier New',monospace\">Coordinator: \n",
       "已達成共識，gpt4o較佳。配置更均衡合理，價格也更具優勢。BuildMate選擇了不相容的記憶體和主機板，顯卡效能過高且性價比\n",
       "低，電源瓦數也過高。\n",
       "\n",
       "</pre>\n"
      ],
      "text/plain": [
       "Coordinator: \n",
       "已達成共識，gpt4o較佳。配置更均衡合理，價格也更具優勢。BuildMate選擇了不相容的記憶體和主機板，顯卡效能過高且性價比\n",
       "低，電源瓦數也過高。\n",
       "\n"
      ]
     },
     "metadata": {},
     "output_type": "display_data"
    },
    {
     "name": "stdout",
     "output_type": "stream",
     "text": [
      "======\n"
     ]
    },
    {
     "data": {
      "text/html": [
       "<pre style=\"white-space:pre;overflow-x:auto;line-height:normal;font-family:Menlo,'DejaVu Sans Mono',consolas,'Courier New',monospace\">Agent1: <span style=\"font-weight: bold\">[</span>對gpt4o評價<span style=\"font-weight: bold\">]</span>: <span style=\"color: #008080; text-decoration-color: #008080; font-weight: bold\">9</span>\n",
       "<span style=\"font-weight: bold\">[</span>對BuildMate評價<span style=\"font-weight: bold\">]</span>: <span style=\"color: #008080; text-decoration-color: #008080; font-weight: bold\">4</span>\n",
       "<span style=\"font-weight: bold\">[</span>簡短原因<span style=\"font-weight: bold\">]</span>: gpt4o性價比高，均衡穩定。BuildMate顯卡過剩，電源冗餘，DDR5平台不適合此預算。\n",
       "\n",
       "</pre>\n"
      ],
      "text/plain": [
       "Agent1: \u001b[1m[\u001b[0m對gpt4o評價\u001b[1m]\u001b[0m: \u001b[1;36m9\u001b[0m\n",
       "\u001b[1m[\u001b[0m對BuildMate評價\u001b[1m]\u001b[0m: \u001b[1;36m4\u001b[0m\n",
       "\u001b[1m[\u001b[0m簡短原因\u001b[1m]\u001b[0m: gpt4o性價比高，均衡穩定。BuildMate顯卡過剩，電源冗餘，DDR5平台不適合此預算。\n",
       "\n"
      ]
     },
     "metadata": {},
     "output_type": "display_data"
    },
    {
     "name": "stdout",
     "output_type": "stream",
     "text": [
      "======\n"
     ]
    },
    {
     "data": {
      "text/html": [
       "<pre style=\"white-space:pre;overflow-x:auto;line-height:normal;font-family:Menlo,'DejaVu Sans Mono',consolas,'Courier New',monospace\">Agent2: <span style=\"font-weight: bold\">[</span>對gpt4o評價<span style=\"font-weight: bold\">]</span>: <span style=\"color: #008080; text-decoration-color: #008080; font-weight: bold\">9</span>\n",
       "<span style=\"font-weight: bold\">[</span>對BuildMate評價<span style=\"font-weight: bold\">]</span>: <span style=\"color: #008080; text-decoration-color: #008080; font-weight: bold\">4</span>\n",
       "<span style=\"font-weight: bold\">[</span>簡短原因<span style=\"font-weight: bold\">]</span>: gpt4o性價比高，配置合理。BuildMate顯卡過強，電源冗餘，DDR5平台浪費預算。\n",
       "\n",
       "</pre>\n"
      ],
      "text/plain": [
       "Agent2: \u001b[1m[\u001b[0m對gpt4o評價\u001b[1m]\u001b[0m: \u001b[1;36m9\u001b[0m\n",
       "\u001b[1m[\u001b[0m對BuildMate評價\u001b[1m]\u001b[0m: \u001b[1;36m4\u001b[0m\n",
       "\u001b[1m[\u001b[0m簡短原因\u001b[1m]\u001b[0m: gpt4o性價比高，配置合理。BuildMate顯卡過強，電源冗餘，DDR5平台浪費預算。\n",
       "\n"
      ]
     },
     "metadata": {},
     "output_type": "display_data"
    },
    {
     "name": "stdout",
     "output_type": "stream",
     "text": [
      "======\n"
     ]
    },
    {
     "data": {
      "text/html": [
       "<pre style=\"white-space:pre;overflow-x:auto;line-height:normal;font-family:Menlo,'DejaVu Sans Mono',consolas,'Courier New',monospace\">Agent3: <span style=\"font-weight: bold\">[</span>對gpt4o評價<span style=\"font-weight: bold\">]</span>: <span style=\"color: #008080; text-decoration-color: #008080; font-weight: bold\">9</span>\n",
       "<span style=\"font-weight: bold\">[</span>對BuildMate評價<span style=\"font-weight: bold\">]</span>: <span style=\"color: #008080; text-decoration-color: #008080; font-weight: bold\">4</span>\n",
       "<span style=\"font-weight: bold\">[</span>簡短原因<span style=\"font-weight: bold\">]</span>: gpt4o配置合理，性價比高。BuildMate顯卡過剩，電源冗餘，高頻DDR5記憶體浪費。\n",
       "\n",
       "</pre>\n"
      ],
      "text/plain": [
       "Agent3: \u001b[1m[\u001b[0m對gpt4o評價\u001b[1m]\u001b[0m: \u001b[1;36m9\u001b[0m\n",
       "\u001b[1m[\u001b[0m對BuildMate評價\u001b[1m]\u001b[0m: \u001b[1;36m4\u001b[0m\n",
       "\u001b[1m[\u001b[0m簡短原因\u001b[1m]\u001b[0m: gpt4o配置合理，性價比高。BuildMate顯卡過剩，電源冗餘，高頻DDR5記憶體浪費。\n",
       "\n"
      ]
     },
     "metadata": {},
     "output_type": "display_data"
    },
    {
     "name": "stdout",
     "output_type": "stream",
     "text": [
      "======\n"
     ]
    },
    {
     "data": {
      "text/html": [
       "<pre style=\"white-space:pre;overflow-x:auto;line-height:normal;font-family:Menlo,'DejaVu Sans Mono',consolas,'Courier New',monospace\">Coordinator: \n",
       "已達成共識，gpt4o較佳。價格更低且配置均衡，滿足線上學習和程式編寫的需求。BuildMate則選用價格高昂的B580顯卡及1000W電\n",
       "源，不符合預算和實際需求，高頻DDR5記憶體也造成浪費。\n",
       "\n",
       "</pre>\n"
      ],
      "text/plain": [
       "Coordinator: \n",
       "已達成共識，gpt4o較佳。價格更低且配置均衡，滿足線上學習和程式編寫的需求。BuildMate則選用價格高昂的B580顯卡及1000W電\n",
       "源，不符合預算和實際需求，高頻DDR5記憶體也造成浪費。\n",
       "\n"
      ]
     },
     "metadata": {},
     "output_type": "display_data"
    },
    {
     "name": "stdout",
     "output_type": "stream",
     "text": [
      "======\n",
      "{'Coordinator': {'messages': [HumanMessage(content='Agent1: [對gpt4o評價]: 8\\n[對BuildMate評價]: 5\\n[簡短原因]: gpt4o均衡，價格合理。BuildMate顯卡選擇不佳，電源瓦數過高。\\n', additional_kwargs={}, response_metadata={}), HumanMessage(content='Agent2: [對gpt4o評價]: 8\\n[對BuildMate評價]: 5\\n[簡短原因]: gpt4o配置均衡，價格合理。BuildMate顯卡性價比低，電源瓦數過剩。\\n', additional_kwargs={}, response_metadata={}), HumanMessage(content='Agent3: [對gpt4o評價]: 9\\n[對BuildMate評價]: 4\\n[簡短原因]: gpt4o配置合理，價格適中。BuildMate顯卡過強，電源瓦數冗餘，記憶體與主機板不相容。\\n', additional_kwargs={}, response_metadata={}), HumanMessage(content='Coordinator: 已達成共識，gpt4o較佳。配置更均衡合理，價格也更具優勢。BuildMate選擇了不相容的記憶體和主機板，顯卡效能過高且性價比低，電源瓦數也過高。\\n', additional_kwargs={}, response_metadata={}), HumanMessage(content='Agent1: [對gpt4o評價]: 9\\n[對BuildMate評價]: 4\\n[簡短原因]: gpt4o性價比高，均衡穩定。BuildMate顯卡過剩，電源冗餘，DDR5平台不適合此預算。\\n', additional_kwargs={}, response_metadata={}), HumanMessage(content='Agent2: [對gpt4o評價]: 9\\n[對BuildMate評價]: 4\\n[簡短原因]: gpt4o性價比高，配置合理。BuildMate顯卡過強，電源冗餘，DDR5平台浪費預算。\\n', additional_kwargs={}, response_metadata={}), HumanMessage(content='Agent3: [對gpt4o評價]: 9\\n[對BuildMate評價]: 4\\n[簡短原因]: gpt4o配置合理，性價比高。BuildMate顯卡過剩，電源冗餘，高頻DDR5記憶體浪費。\\n', additional_kwargs={}, response_metadata={}), HumanMessage(content='Coordinator: 已達成共識，gpt4o較佳。價格更低且配置均衡，滿足線上學習和程式編寫的需求。BuildMate則選用價格高昂的B580顯卡及1000W電源，不符合預算和實際需求，高頻DDR5記憶體也造成浪費。\\n', additional_kwargs={}, response_metadata={})], 'next_agent': '__end__', 'question_id': 12, 'question': '預算25000元，我想要一台電腦主要用於線上學習和偶爾寫程式，有建議配置嗎？', 'gpt4o_recommendation': 'CPU: Intel Core i5-12400F | price: 4990\\nMotherboard: 華碩 PRIME B660M-A D4 | price: 3190\\nMemory: Corsair Vengeance LPX 16GB (2x8GB) DDR4-3200 | price: 1590\\nGPU: NVIDIA GeForce GTX 1650 4GB | price: 4990\\nStorage: Western Digital Blue SN570 500GB NVMe SSD | price: 1390\\nPower Supply: Cooler Master MWE 650W 80+ Bronze | price: 2390\\nCase: Cooler Master Q300L | price: 1290\\nCase Fan: ARCTIC P12 PWM PST 120mm Fan | price: 590\\n總價: 20420', 'buildmate_recommendation': 'CPU: Intel i5-14400F | price: 5400\\nMotherboard: 華碩 PRIME H610M-K-CSM(DDR5) | price: 2890\\nMemory: UMAX 單條16GB DDR5-5600/CL46【雙參數】 | price: 1150\\nGPU: INTEL 原廠 ARC B580 12G | price: 8990\\nStorage: 威剛 Ultimate SU650 480G/2.5吋/讀:520M/寫:450M/TLC顆粒【三年保】 | price: 899\\nPower Supply: Antec HCG1000(1000W)雙8/金牌/全模/全日系/智慧溫控風扇/10年保 | price: 3990\\nCase: 銀欣 RL08 紅黑 | price: 1290\\nCase Fan: 安耐美 靜蝠 12cm 磁力滾珠軸承 | price: 230\\n總價: 24839', 'agent_scores': {'Agent1_round1': {'gpt4o_score': 8, 'buildmate_score': 5, 'reason': 'gpt4o均衡，價格合理。BuildMate顯卡選擇不佳，電源瓦數過高。'}, 'Agent2_round1': {'gpt4o_score': 8, 'buildmate_score': 5, 'reason': 'gpt4o配置均衡，價格合理。BuildMate顯卡性價比低，電源瓦數過剩。'}, 'Agent3_round1': {'gpt4o_score': 9, 'buildmate_score': 4, 'reason': 'gpt4o配置合理，價格適中。BuildMate顯卡過強，電源瓦數冗餘，記憶體與主機板不相容。'}, 'Agent1_round2': {'gpt4o_score': 9, 'buildmate_score': 4, 'reason': 'gpt4o性價比高，均衡穩定。BuildMate顯卡過剩，電源冗餘，DDR5平台不適合此預算。'}, 'Agent2_round2': {'gpt4o_score': 9, 'buildmate_score': 4, 'reason': 'gpt4o性價比高，配置合理。BuildMate顯卡過強，電源冗餘，DDR5平台浪費預算。'}, 'Agent3_round2': {'gpt4o_score': 9, 'buildmate_score': 4, 'reason': 'gpt4o配置合理，性價比高。BuildMate顯卡過剩，電源冗餘，高頻DDR5記憶體浪費。'}}, 'round_count': 2, 'max_rounds': 3, 'consensus_reached': True}}\n",
      "{\n",
      "  \"question_id\": 12,\n",
      "  \"question\": \"預算25000元，我想要一台電腦主要用於線上學習和偶爾寫程式，有建議配置嗎？\",\n",
      "  \"buildmate_recommendation\": \"CPU: Intel i5-14400F | price: 5400\\nMotherboard: 華碩 PRIME H610M-K-CSM(DDR5) | price: 2890\\nMemory: UMAX 單條16GB DDR5-5600/CL46【雙參數】 | price: 1150\\nGPU: INTEL 原廠 ARC B580 12G | price: 8990\\nStorage: 威剛 Ultimate SU650 480G/2.5吋/讀:520M/寫:450M/TLC顆粒【三年保】 | price: 899\\nPower Supply: Antec HCG1000(1000W)雙8/金牌/全模/全日系/智慧溫控風扇/10年保 | price: 3990\\nCase: 銀欣 RL08 紅黑 | price: 1290\\nCase Fan: 安耐美 靜蝠 12cm 磁力滾珠軸承 | price: 230\\n總價: 24839\",\n",
      "  \"gpt4o_recommendation\": \"CPU: Intel Core i5-12400F | price: 4990\\nMotherboard: 華碩 PRIME B660M-A D4 | price: 3190\\nMemory: Corsair Vengeance LPX 16GB (2x8GB) DDR4-3200 | price: 1590\\nGPU: NVIDIA GeForce GTX 1650 4GB | price: 4990\\nStorage: Western Digital Blue SN570 500GB NVMe SSD | price: 1390\\nPower Supply: Cooler Master MWE 650W 80+ Bronze | price: 2390\\nCase: Cooler Master Q300L | price: 1290\\nCase Fan: ARCTIC P12 PWM PST 120mm Fan | price: 590\\n總價: 20420\",\n",
      "  \"winner\": 0,\n",
      "  \"buildmate_avg_score\": 4.333333333333333,\n",
      "  \"gpt4o_avg_score\": 8.666666666666666,\n",
      "  \"rounds\": [\n",
      "    {\n",
      "      \"round_number\": 1,\n",
      "      \"Agent1\": {\n",
      "        \"gpt4o_score\": 8,\n",
      "        \"buildmate_score\": 5,\n",
      "        \"reason\": \"gpt4o均衡，價格合理。BuildMate顯卡選擇不佳，電源瓦數過高。\"\n",
      "      },\n",
      "      \"Agent2\": {\n",
      "        \"gpt4o_score\": 8,\n",
      "        \"buildmate_score\": 5,\n",
      "        \"reason\": \"gpt4o配置均衡，價格合理。BuildMate顯卡性價比低，電源瓦數過剩。\"\n",
      "      },\n",
      "      \"Agent3\": {\n",
      "        \"gpt4o_score\": 9,\n",
      "        \"buildmate_score\": 4,\n",
      "        \"reason\": \"gpt4o配置合理，價格適中。BuildMate顯卡過強，電源瓦數冗餘，記憶體與主機板不相容。\"\n",
      "      }\n",
      "    },\n",
      "    {\n",
      "      \"round_number\": 2,\n",
      "      \"Agent1\": {\n",
      "        \"gpt4o_score\": 9,\n",
      "        \"buildmate_score\": 4,\n",
      "        \"reason\": \"gpt4o性價比高，均衡穩定。BuildMate顯卡過剩，電源冗餘，DDR5平台不適合此預算。\"\n",
      "      },\n",
      "      \"Agent2\": {\n",
      "        \"gpt4o_score\": 9,\n",
      "        \"buildmate_score\": 4,\n",
      "        \"reason\": \"gpt4o性價比高，配置合理。BuildMate顯卡過強，電源冗餘，DDR5平台浪費預算。\"\n",
      "      },\n",
      "      \"Agent3\": {\n",
      "        \"gpt4o_score\": 9,\n",
      "        \"buildmate_score\": 4,\n",
      "        \"reason\": \"gpt4o配置合理，性價比高。BuildMate顯卡過剩，電源冗餘，高頻DDR5記憶體浪費。\"\n",
      "      }\n",
      "    }\n",
      "  ]\n",
      "}\n"
     ]
    },
    {
     "data": {
      "text/html": [
       "<pre style=\"white-space:pre;overflow-x:auto;line-height:normal;font-family:Menlo,'DejaVu Sans Mono',consolas,'Courier New',monospace\"><span style=\"font-weight: bold\">{</span>\n",
       "    <span style=\"color: #008000; text-decoration-color: #008000\">'question_id'</span>: <span style=\"color: #008080; text-decoration-color: #008080; font-weight: bold\">13</span>,\n",
       "    <span style=\"color: #008000; text-decoration-color: #008000\">'question'</span>: <span style=\"color: #008000; text-decoration-color: #008000\">'請問75000元左右的預算能組一台什麼樣的4K影片剪輯機？'</span>,\n",
       "    <span style=\"color: #008000; text-decoration-color: #008000\">'gpt4o_recommendation'</span>: <span style=\"color: #008000; text-decoration-color: #008000\">'CPU: AMD Ryzen 7 5800X | price: 7500\\nMotherboard: MSI B550-A PRO | price: </span>\n",
       "<span style=\"color: #008000; text-decoration-color: #008000\">3500\\nMemory: Corsair Vengeance LPX 32GB (2 x 16GB) DDR4-3200 | price: 2500\\nGPU: NVIDIA GeForce RTX 3060 12GB | </span>\n",
       "<span style=\"color: #008000; text-decoration-color: #008000\">price: 12000\\nStorage: Samsung 970 EVO Plus 1TB NVMe SSD | price: 4000\\nPower Supply: Corsair RM750x (750W) 80 Plus</span>\n",
       "<span style=\"color: #008000; text-decoration-color: #008000\">Gold | price: 3500\\nCase: Fractal Design Meshify C | price: 2500\\nCase Fan: Noctua NF-P12 redux-1700 PWM | price: </span>\n",
       "<span style=\"color: #008000; text-decoration-color: #008000\">800\\n總價: 36300'</span>,\n",
       "    <span style=\"color: #008000; text-decoration-color: #008000\">'buildmate_recommendation'</span>: <span style=\"color: #008000; text-decoration-color: #008000\">'CPU: Intel i7-14700F | price: 9700\\nMotherboard: 華碩 PRIME B760M-F D4-CSM | </span>\n",
       "<span style=\"color: #008000; text-decoration-color: #008000\">price: 2590\\nMemory: 威剛 單條16GB DDR5 6000 XPG Lancer Blade(矮版散熱片)/CL48黑【雙參數】 | price: 1349\\nGPU: 技嘉</span>\n",
       "<span style=\"color: #008000; text-decoration-color: #008000\">RTX 4070 WINDFORCE 2X OC V2 12G | price: 18990\\nStorage: 美光Micron Crucial BX500 </span>\n",
       "<span style=\"color: #008000; text-decoration-color: #008000\">500G/2.5吋/讀:540M/寫:500M/TLC顆粒【三年保】 | price: 949\\nPower Supply: Antec </span>\n",
       "<span style=\"color: #008000; text-decoration-color: #008000\">HCG1000(1000W)雙8/金牌/全模/全日系/智慧溫控風扇/10年保 送12+4pin模組線！ | price: 3990\\nCase: 聯力 PC-O11 Dynamic </span>\n",
       "<span style=\"color: #008000; text-decoration-color: #008000\">白 | price: 2790\\nCase Fan: MSI MEG SILENT GALE P12 靜音風扇 | price: 790\\n總價: 41148'</span>\n",
       "<span style=\"font-weight: bold\">}</span>\n",
       "</pre>\n"
      ],
      "text/plain": [
       "\u001b[1m{\u001b[0m\n",
       "    \u001b[32m'question_id'\u001b[0m: \u001b[1;36m13\u001b[0m,\n",
       "    \u001b[32m'question'\u001b[0m: \u001b[32m'請問75000元左右的預算能組一台什麼樣的4K影片剪輯機？'\u001b[0m,\n",
       "    \u001b[32m'gpt4o_recommendation'\u001b[0m: \u001b[32m'CPU: AMD Ryzen 7 5800X | price: 7500\\nMotherboard: MSI B550-A PRO | price: \u001b[0m\n",
       "\u001b[32m3500\\nMemory: Corsair Vengeance LPX 32GB \u001b[0m\u001b[32m(\u001b[0m\u001b[32m2 x 16GB\u001b[0m\u001b[32m)\u001b[0m\u001b[32m DDR4-3200 | price: 2500\\nGPU: NVIDIA GeForce RTX 3060 12GB | \u001b[0m\n",
       "\u001b[32mprice: 12000\\nStorage: Samsung 970 EVO Plus 1TB NVMe SSD | price: 4000\\nPower Supply: Corsair RM750x \u001b[0m\u001b[32m(\u001b[0m\u001b[32m750W\u001b[0m\u001b[32m)\u001b[0m\u001b[32m 80 Plus\u001b[0m\n",
       "\u001b[32mGold | price: 3500\\nCase: Fractal Design Meshify C | price: 2500\\nCase Fan: Noctua NF-P12 redux-1700 PWM | price: \u001b[0m\n",
       "\u001b[32m800\\n總價: 36300'\u001b[0m,\n",
       "    \u001b[32m'buildmate_recommendation'\u001b[0m: \u001b[32m'CPU: Intel i7-14700F | price: 9700\\nMotherboard: 華碩 PRIME B760M-F D4-CSM | \u001b[0m\n",
       "\u001b[32mprice: 2590\\nMemory: 威剛 單條16GB DDR5 6000 XPG Lancer Blade\u001b[0m\u001b[32m(\u001b[0m\u001b[32m矮版散熱片\u001b[0m\u001b[32m)\u001b[0m\u001b[32m/CL48黑【雙參數】 | price: 1349\\nGPU: 技嘉\u001b[0m\n",
       "\u001b[32mRTX 4070 WINDFORCE 2X OC V2 12G | price: 18990\\nStorage: 美光Micron Crucial BX500 \u001b[0m\n",
       "\u001b[32m500G/2.5吋/讀:540M/寫:500M/TLC顆粒【三年保】 | price: 949\\nPower Supply: Antec \u001b[0m\n",
       "\u001b[32mHCG1000\u001b[0m\u001b[32m(\u001b[0m\u001b[32m1000W\u001b[0m\u001b[32m)\u001b[0m\u001b[32m雙8/金牌/全模/全日系/智慧溫控風扇/10年保 送12+4pin模組線！ | price: 3990\\nCase: 聯力 PC-O11 Dynamic \u001b[0m\n",
       "\u001b[32m白 | price: 2790\\nCase Fan: MSI MEG SILENT GALE P12 靜音風扇 | price: 790\\n總價: 41148'\u001b[0m\n",
       "\u001b[1m}\u001b[0m\n"
      ]
     },
     "metadata": {},
     "output_type": "display_data"
    },
    {
     "data": {
      "text/html": [
       "<pre style=\"white-space:pre;overflow-x:auto;line-height:normal;font-family:Menlo,'DejaVu Sans Mono',consolas,'Courier New',monospace\">Agent1: <span style=\"font-weight: bold\">[</span>對gpt4o評價<span style=\"font-weight: bold\">]</span>: <span style=\"color: #008080; text-decoration-color: #008080; font-weight: bold\">6</span>\n",
       "<span style=\"font-weight: bold\">[</span>對BuildMate評價<span style=\"font-weight: bold\">]</span>: <span style=\"color: #008080; text-decoration-color: #008080; font-weight: bold\">8</span>\n",
       "<span style=\"font-weight: bold\">[</span>簡短原因<span style=\"font-weight: bold\">]</span>: BuildMate清單較為均衡，效能更佳，且考量到新平台。gpt4o的3060略顯不足。\n",
       "\n",
       "</pre>\n"
      ],
      "text/plain": [
       "Agent1: \u001b[1m[\u001b[0m對gpt4o評價\u001b[1m]\u001b[0m: \u001b[1;36m6\u001b[0m\n",
       "\u001b[1m[\u001b[0m對BuildMate評價\u001b[1m]\u001b[0m: \u001b[1;36m8\u001b[0m\n",
       "\u001b[1m[\u001b[0m簡短原因\u001b[1m]\u001b[0m: BuildMate清單較為均衡，效能更佳，且考量到新平台。gpt4o的3060略顯不足。\n",
       "\n"
      ]
     },
     "metadata": {},
     "output_type": "display_data"
    },
    {
     "name": "stdout",
     "output_type": "stream",
     "text": [
      "======\n"
     ]
    },
    {
     "data": {
      "text/html": [
       "<pre style=\"white-space:pre;overflow-x:auto;line-height:normal;font-family:Menlo,'DejaVu Sans Mono',consolas,'Courier New',monospace\">Agent2: <span style=\"font-weight: bold\">[</span>對gpt4o評價<span style=\"font-weight: bold\">]</span>: <span style=\"color: #008080; text-decoration-color: #008080; font-weight: bold\">5</span>\n",
       "<span style=\"font-weight: bold\">[</span>對BuildMate評價<span style=\"font-weight: bold\">]</span>: <span style=\"color: #008080; text-decoration-color: #008080; font-weight: bold\">7</span>\n",
       "<span style=\"font-weight: bold\">[</span>簡短原因<span style=\"font-weight: bold\">]</span>: gpt4o 75000預算只用36000，且顯卡效能低。BuildMate配置較佳，但記憶體稍嫌不足。\n",
       "\n",
       "</pre>\n"
      ],
      "text/plain": [
       "Agent2: \u001b[1m[\u001b[0m對gpt4o評價\u001b[1m]\u001b[0m: \u001b[1;36m5\u001b[0m\n",
       "\u001b[1m[\u001b[0m對BuildMate評價\u001b[1m]\u001b[0m: \u001b[1;36m7\u001b[0m\n",
       "\u001b[1m[\u001b[0m簡短原因\u001b[1m]\u001b[0m: gpt4o 75000預算只用36000，且顯卡效能低。BuildMate配置較佳，但記憶體稍嫌不足。\n",
       "\n"
      ]
     },
     "metadata": {},
     "output_type": "display_data"
    },
    {
     "name": "stdout",
     "output_type": "stream",
     "text": [
      "======\n"
     ]
    },
    {
     "data": {
      "text/html": [
       "<pre style=\"white-space:pre;overflow-x:auto;line-height:normal;font-family:Menlo,'DejaVu Sans Mono',consolas,'Courier New',monospace\">Agent3: <span style=\"font-weight: bold\">[</span>對gpt4o評價<span style=\"font-weight: bold\">]</span>: <span style=\"color: #008080; text-decoration-color: #008080; font-weight: bold\">4</span>\n",
       "<span style=\"font-weight: bold\">[</span>對BuildMate評價<span style=\"font-weight: bold\">]</span>: <span style=\"color: #008080; text-decoration-color: #008080; font-weight: bold\">7</span>\n",
       "<span style=\"font-weight: bold\">[</span>簡短原因<span style=\"font-weight: bold\">]</span>: gpt4o 嚴重低估4K剪輯需求，且預算運用不佳。BuildMate較為合理，但記憶體仍需升級。\n",
       "\n",
       "</pre>\n"
      ],
      "text/plain": [
       "Agent3: \u001b[1m[\u001b[0m對gpt4o評價\u001b[1m]\u001b[0m: \u001b[1;36m4\u001b[0m\n",
       "\u001b[1m[\u001b[0m對BuildMate評價\u001b[1m]\u001b[0m: \u001b[1;36m7\u001b[0m\n",
       "\u001b[1m[\u001b[0m簡短原因\u001b[1m]\u001b[0m: gpt4o 嚴重低估4K剪輯需求，且預算運用不佳。BuildMate較為合理，但記憶體仍需升級。\n",
       "\n"
      ]
     },
     "metadata": {},
     "output_type": "display_data"
    },
    {
     "name": "stdout",
     "output_type": "stream",
     "text": [
      "======\n"
     ]
    },
    {
     "data": {
      "text/html": [
       "<pre style=\"white-space:pre;overflow-x:auto;line-height:normal;font-family:Menlo,'DejaVu Sans Mono',consolas,'Courier New',monospace\">Coordinator: \n",
       "已達成共識，BuildMate較佳。評測員一致認為BuildMate的配置更均衡、效能更佳，更符合4K剪輯需求，雖然記憶體略有不足，但\n",
       "整體明顯優於gpt4o。\n",
       "\n",
       "</pre>\n"
      ],
      "text/plain": [
       "Coordinator: \n",
       "已達成共識，BuildMate較佳。評測員一致認為BuildMate的配置更均衡、效能更佳，更符合4K剪輯需求，雖然記憶體略有不足，但\n",
       "整體明顯優於gpt4o。\n",
       "\n"
      ]
     },
     "metadata": {},
     "output_type": "display_data"
    },
    {
     "name": "stdout",
     "output_type": "stream",
     "text": [
      "======\n"
     ]
    },
    {
     "data": {
      "text/html": [
       "<pre style=\"white-space:pre;overflow-x:auto;line-height:normal;font-family:Menlo,'DejaVu Sans Mono',consolas,'Courier New',monospace\">Agent1: <span style=\"font-weight: bold\">[</span>對gpt4o評價<span style=\"font-weight: bold\">]</span>: <span style=\"color: #008080; text-decoration-color: #008080; font-weight: bold\">4</span>\n",
       "<span style=\"font-weight: bold\">[</span>對BuildMate評價<span style=\"font-weight: bold\">]</span>: <span style=\"color: #008080; text-decoration-color: #008080; font-weight: bold\">7</span>\n",
       "<span style=\"font-weight: bold\">[</span>簡短原因<span style=\"font-weight: bold\">]</span>: gpt4o配置過時，且嚴重低估4K剪輯需求。BuildMate較合理，但記憶體容量不足。\n",
       "\n",
       "</pre>\n"
      ],
      "text/plain": [
       "Agent1: \u001b[1m[\u001b[0m對gpt4o評價\u001b[1m]\u001b[0m: \u001b[1;36m4\u001b[0m\n",
       "\u001b[1m[\u001b[0m對BuildMate評價\u001b[1m]\u001b[0m: \u001b[1;36m7\u001b[0m\n",
       "\u001b[1m[\u001b[0m簡短原因\u001b[1m]\u001b[0m: gpt4o配置過時，且嚴重低估4K剪輯需求。BuildMate較合理，但記憶體容量不足。\n",
       "\n"
      ]
     },
     "metadata": {},
     "output_type": "display_data"
    },
    {
     "name": "stdout",
     "output_type": "stream",
     "text": [
      "======\n"
     ]
    },
    {
     "data": {
      "text/html": [
       "<pre style=\"white-space:pre;overflow-x:auto;line-height:normal;font-family:Menlo,'DejaVu Sans Mono',consolas,'Courier New',monospace\">Agent2: <span style=\"font-weight: bold\">[</span>對gpt4o評價<span style=\"font-weight: bold\">]</span>: <span style=\"color: #008080; text-decoration-color: #008080; font-weight: bold\">3</span>\n",
       "<span style=\"font-weight: bold\">[</span>對BuildMate評價<span style=\"font-weight: bold\">]</span>: <span style=\"color: #008080; text-decoration-color: #008080; font-weight: bold\">7</span>\n",
       "<span style=\"font-weight: bold\">[</span>簡短原因<span style=\"font-weight: bold\">]</span>: gpt4o過時且預算運用極差。BuildMate合理但記憶體不足，SSD容量小。\n",
       "\n",
       "</pre>\n"
      ],
      "text/plain": [
       "Agent2: \u001b[1m[\u001b[0m對gpt4o評價\u001b[1m]\u001b[0m: \u001b[1;36m3\u001b[0m\n",
       "\u001b[1m[\u001b[0m對BuildMate評價\u001b[1m]\u001b[0m: \u001b[1;36m7\u001b[0m\n",
       "\u001b[1m[\u001b[0m簡短原因\u001b[1m]\u001b[0m: gpt4o過時且預算運用極差。BuildMate合理但記憶體不足，SSD容量小。\n",
       "\n"
      ]
     },
     "metadata": {},
     "output_type": "display_data"
    },
    {
     "name": "stdout",
     "output_type": "stream",
     "text": [
      "======\n"
     ]
    },
    {
     "data": {
      "text/html": [
       "<pre style=\"white-space:pre;overflow-x:auto;line-height:normal;font-family:Menlo,'DejaVu Sans Mono',consolas,'Courier New',monospace\">Agent3: Agent1: <span style=\"font-weight: bold\">[</span>對gpt4o評價<span style=\"font-weight: bold\">]</span>: <span style=\"color: #008080; text-decoration-color: #008080; font-weight: bold\">4</span>\n",
       "<span style=\"font-weight: bold\">[</span>對BuildMate評價<span style=\"font-weight: bold\">]</span>: <span style=\"color: #008080; text-decoration-color: #008080; font-weight: bold\">7</span>\n",
       "<span style=\"font-weight: bold\">[</span>簡短原因<span style=\"font-weight: bold\">]</span>: gpt4o配置過時，CPU/GPU效能不足以應付4K剪輯。BuildMate較新，但記憶體/SSD容量小。\n",
       "\n",
       "Agent2: <span style=\"font-weight: bold\">[</span>對gpt4o評價<span style=\"font-weight: bold\">]</span>: <span style=\"color: #008080; text-decoration-color: #008080; font-weight: bold\">3</span>\n",
       "<span style=\"font-weight: bold\">[</span>對BuildMate評價<span style=\"font-weight: bold\">]</span>: <span style=\"color: #008080; text-decoration-color: #008080; font-weight: bold\">7</span>\n",
       "<span style=\"font-weight: bold\">[</span>簡短原因<span style=\"font-weight: bold\">]</span>: gpt4o嚴重低估4K剪輯需求，預算運用差。BuildMate較佳，但記憶體和SSD容量不足。\n",
       "\n",
       "Agent3: <span style=\"font-weight: bold\">[</span>對gpt4o評價<span style=\"font-weight: bold\">]</span>: <span style=\"color: #008080; text-decoration-color: #008080; font-weight: bold\">4</span>\n",
       "<span style=\"font-weight: bold\">[</span>對BuildMate評價<span style=\"font-weight: bold\">]</span>: <span style=\"color: #008080; text-decoration-color: #008080; font-weight: bold\">7</span>\n",
       "<span style=\"font-weight: bold\">[</span>簡短原因<span style=\"font-weight: bold\">]</span>: gpt4o的CPU/GPU效能和記憶體容量不足，平台老舊。BuildMate較新，但記憶體/SSD仍需升級。\n",
       "\n",
       "</pre>\n"
      ],
      "text/plain": [
       "Agent3: Agent1: \u001b[1m[\u001b[0m對gpt4o評價\u001b[1m]\u001b[0m: \u001b[1;36m4\u001b[0m\n",
       "\u001b[1m[\u001b[0m對BuildMate評價\u001b[1m]\u001b[0m: \u001b[1;36m7\u001b[0m\n",
       "\u001b[1m[\u001b[0m簡短原因\u001b[1m]\u001b[0m: gpt4o配置過時，CPU/GPU效能不足以應付4K剪輯。BuildMate較新，但記憶體/SSD容量小。\n",
       "\n",
       "Agent2: \u001b[1m[\u001b[0m對gpt4o評價\u001b[1m]\u001b[0m: \u001b[1;36m3\u001b[0m\n",
       "\u001b[1m[\u001b[0m對BuildMate評價\u001b[1m]\u001b[0m: \u001b[1;36m7\u001b[0m\n",
       "\u001b[1m[\u001b[0m簡短原因\u001b[1m]\u001b[0m: gpt4o嚴重低估4K剪輯需求，預算運用差。BuildMate較佳，但記憶體和SSD容量不足。\n",
       "\n",
       "Agent3: \u001b[1m[\u001b[0m對gpt4o評價\u001b[1m]\u001b[0m: \u001b[1;36m4\u001b[0m\n",
       "\u001b[1m[\u001b[0m對BuildMate評價\u001b[1m]\u001b[0m: \u001b[1;36m7\u001b[0m\n",
       "\u001b[1m[\u001b[0m簡短原因\u001b[1m]\u001b[0m: gpt4o的CPU/GPU效能和記憶體容量不足，平台老舊。BuildMate較新，但記憶體/SSD仍需升級。\n",
       "\n"
      ]
     },
     "metadata": {},
     "output_type": "display_data"
    },
    {
     "name": "stdout",
     "output_type": "stream",
     "text": [
      "======\n"
     ]
    },
    {
     "data": {
      "text/html": [
       "<pre style=\"white-space:pre;overflow-x:auto;line-height:normal;font-family:Menlo,'DejaVu Sans Mono',consolas,'Courier New',monospace\">Coordinator: \n",
       "已達成共識，BuildMate較佳。所有評測員都認為BuildMate的配置更現代化，效能更強，更適合4K剪輯，雖記憶體和SSD容量略小，\n",
       "但整體仍優於gpt4o。\n",
       "\n",
       "</pre>\n"
      ],
      "text/plain": [
       "Coordinator: \n",
       "已達成共識，BuildMate較佳。所有評測員都認為BuildMate的配置更現代化，效能更強，更適合4K剪輯，雖記憶體和SSD容量略小，\n",
       "但整體仍優於gpt4o。\n",
       "\n"
      ]
     },
     "metadata": {},
     "output_type": "display_data"
    },
    {
     "name": "stdout",
     "output_type": "stream",
     "text": [
      "======\n",
      "{'Coordinator': {'messages': [HumanMessage(content='Agent1: [對gpt4o評價]: 6\\n[對BuildMate評價]: 8\\n[簡短原因]: BuildMate清單較為均衡，效能更佳，且考量到新平台。gpt4o的3060略顯不足。\\n', additional_kwargs={}, response_metadata={}), HumanMessage(content='Agent2: [對gpt4o評價]: 5\\n[對BuildMate評價]: 7\\n[簡短原因]: gpt4o 75000預算只用36000，且顯卡效能低。BuildMate配置較佳，但記憶體稍嫌不足。\\n', additional_kwargs={}, response_metadata={}), HumanMessage(content='Agent3: [對gpt4o評價]: 4\\n[對BuildMate評價]: 7\\n[簡短原因]: gpt4o 嚴重低估4K剪輯需求，且預算運用不佳。BuildMate較為合理，但記憶體仍需升級。\\n', additional_kwargs={}, response_metadata={}), HumanMessage(content='Coordinator: 已達成共識，BuildMate較佳。評測員一致認為BuildMate的配置更均衡、效能更佳，更符合4K剪輯需求，雖然記憶體略有不足，但整體明顯優於gpt4o。\\n', additional_kwargs={}, response_metadata={}), HumanMessage(content='Agent1: [對gpt4o評價]: 4\\n[對BuildMate評價]: 7\\n[簡短原因]: gpt4o配置過時，且嚴重低估4K剪輯需求。BuildMate較合理，但記憶體容量不足。\\n', additional_kwargs={}, response_metadata={}), HumanMessage(content='Agent2: [對gpt4o評價]: 3\\n[對BuildMate評價]: 7\\n[簡短原因]: gpt4o過時且預算運用極差。BuildMate合理但記憶體不足，SSD容量小。\\n', additional_kwargs={}, response_metadata={}), HumanMessage(content='Agent3: Agent1: [對gpt4o評價]: 4\\n[對BuildMate評價]: 7\\n[簡短原因]: gpt4o配置過時，CPU/GPU效能不足以應付4K剪輯。BuildMate較新，但記憶體/SSD容量小。\\n\\nAgent2: [對gpt4o評價]: 3\\n[對BuildMate評價]: 7\\n[簡短原因]: gpt4o嚴重低估4K剪輯需求，預算運用差。BuildMate較佳，但記憶體和SSD容量不足。\\n\\nAgent3: [對gpt4o評價]: 4\\n[對BuildMate評價]: 7\\n[簡短原因]: gpt4o的CPU/GPU效能和記憶體容量不足，平台老舊。BuildMate較新，但記憶體/SSD仍需升級。\\n', additional_kwargs={}, response_metadata={}), HumanMessage(content='Coordinator: 已達成共識，BuildMate較佳。所有評測員都認為BuildMate的配置更現代化，效能更強，更適合4K剪輯，雖記憶體和SSD容量略小，但整體仍優於gpt4o。\\n', additional_kwargs={}, response_metadata={})], 'next_agent': '__end__', 'question_id': 13, 'question': '請問75000元左右的預算能組一台什麼樣的4K影片剪輯機？', 'gpt4o_recommendation': 'CPU: AMD Ryzen 7 5800X | price: 7500\\nMotherboard: MSI B550-A PRO | price: 3500\\nMemory: Corsair Vengeance LPX 32GB (2 x 16GB) DDR4-3200 | price: 2500\\nGPU: NVIDIA GeForce RTX 3060 12GB | price: 12000\\nStorage: Samsung 970 EVO Plus 1TB NVMe SSD | price: 4000\\nPower Supply: Corsair RM750x (750W) 80 Plus Gold | price: 3500\\nCase: Fractal Design Meshify C | price: 2500\\nCase Fan: Noctua NF-P12 redux-1700 PWM | price: 800\\n總價: 36300', 'buildmate_recommendation': 'CPU: Intel i7-14700F | price: 9700\\nMotherboard: 華碩 PRIME B760M-F D4-CSM | price: 2590\\nMemory: 威剛 單條16GB DDR5 6000 XPG Lancer Blade(矮版散熱片)/CL48黑【雙參數】 | price: 1349\\nGPU: 技嘉 RTX 4070 WINDFORCE 2X OC V2 12G | price: 18990\\nStorage: 美光Micron Crucial BX500 500G/2.5吋/讀:540M/寫:500M/TLC顆粒【三年保】 | price: 949\\nPower Supply: Antec HCG1000(1000W)雙8/金牌/全模/全日系/智慧溫控風扇/10年保 送12+4pin模組線！ | price: 3990\\nCase: 聯力 PC-O11 Dynamic 白 | price: 2790\\nCase Fan: MSI MEG SILENT GALE P12 靜音風扇 | price: 790\\n總價: 41148', 'agent_scores': {'Agent1_round1': {'gpt4o_score': 6, 'buildmate_score': 8, 'reason': 'BuildMate清單較為均衡，效能更佳，且考量到新平台。gpt4o的3060略顯不足。'}, 'Agent2_round1': {'gpt4o_score': 5, 'buildmate_score': 7, 'reason': 'gpt4o 75000預算只用36000，且顯卡效能低。BuildMate配置較佳，但記憶體稍嫌不足。'}, 'Agent3_round1': {'gpt4o_score': 4, 'buildmate_score': 7, 'reason': 'gpt4o 嚴重低估4K剪輯需求，且預算運用不佳。BuildMate較為合理，但記憶體仍需升級。'}, 'Agent1_round2': {'gpt4o_score': 4, 'buildmate_score': 7, 'reason': 'gpt4o配置過時，且嚴重低估4K剪輯需求。BuildMate較合理，但記憶體容量不足。'}, 'Agent2_round2': {'gpt4o_score': 3, 'buildmate_score': 7, 'reason': 'gpt4o過時且預算運用極差。BuildMate合理但記憶體不足，SSD容量小。'}, 'Agent3_round2': {'gpt4o_score': 4, 'buildmate_score': 7, 'reason': 'gpt4o配置過時，CPU/GPU效能不足以應付4K剪輯。BuildMate較新，但記憶體/SSD容量小。'}}, 'round_count': 2, 'max_rounds': 3, 'consensus_reached': True}}\n",
      "{\n",
      "  \"question_id\": 13,\n",
      "  \"question\": \"請問75000元左右的預算能組一台什麼樣的4K影片剪輯機？\",\n",
      "  \"buildmate_recommendation\": \"CPU: Intel i7-14700F | price: 9700\\nMotherboard: 華碩 PRIME B760M-F D4-CSM | price: 2590\\nMemory: 威剛 單條16GB DDR5 6000 XPG Lancer Blade(矮版散熱片)/CL48黑【雙參數】 | price: 1349\\nGPU: 技嘉 RTX 4070 WINDFORCE 2X OC V2 12G | price: 18990\\nStorage: 美光Micron Crucial BX500 500G/2.5吋/讀:540M/寫:500M/TLC顆粒【三年保】 | price: 949\\nPower Supply: Antec HCG1000(1000W)雙8/金牌/全模/全日系/智慧溫控風扇/10年保 送12+4pin模組線！ | price: 3990\\nCase: 聯力 PC-O11 Dynamic 白 | price: 2790\\nCase Fan: MSI MEG SILENT GALE P12 靜音風扇 | price: 790\\n總價: 41148\",\n",
      "  \"gpt4o_recommendation\": \"CPU: AMD Ryzen 7 5800X | price: 7500\\nMotherboard: MSI B550-A PRO | price: 3500\\nMemory: Corsair Vengeance LPX 32GB (2 x 16GB) DDR4-3200 | price: 2500\\nGPU: NVIDIA GeForce RTX 3060 12GB | price: 12000\\nStorage: Samsung 970 EVO Plus 1TB NVMe SSD | price: 4000\\nPower Supply: Corsair RM750x (750W) 80 Plus Gold | price: 3500\\nCase: Fractal Design Meshify C | price: 2500\\nCase Fan: Noctua NF-P12 redux-1700 PWM | price: 800\\n總價: 36300\",\n",
      "  \"winner\": 1,\n",
      "  \"buildmate_avg_score\": 7.166666666666667,\n",
      "  \"gpt4o_avg_score\": 4.333333333333333,\n",
      "  \"rounds\": [\n",
      "    {\n",
      "      \"round_number\": 1,\n",
      "      \"Agent1\": {\n",
      "        \"gpt4o_score\": 6,\n",
      "        \"buildmate_score\": 8,\n",
      "        \"reason\": \"BuildMate清單較為均衡，效能更佳，且考量到新平台。gpt4o的3060略顯不足。\"\n",
      "      },\n",
      "      \"Agent2\": {\n",
      "        \"gpt4o_score\": 5,\n",
      "        \"buildmate_score\": 7,\n",
      "        \"reason\": \"gpt4o 75000預算只用36000，且顯卡效能低。BuildMate配置較佳，但記憶體稍嫌不足。\"\n",
      "      },\n",
      "      \"Agent3\": {\n",
      "        \"gpt4o_score\": 4,\n",
      "        \"buildmate_score\": 7,\n",
      "        \"reason\": \"gpt4o 嚴重低估4K剪輯需求，且預算運用不佳。BuildMate較為合理，但記憶體仍需升級。\"\n",
      "      }\n",
      "    },\n",
      "    {\n",
      "      \"round_number\": 2,\n",
      "      \"Agent1\": {\n",
      "        \"gpt4o_score\": 4,\n",
      "        \"buildmate_score\": 7,\n",
      "        \"reason\": \"gpt4o配置過時，且嚴重低估4K剪輯需求。BuildMate較合理，但記憶體容量不足。\"\n",
      "      },\n",
      "      \"Agent2\": {\n",
      "        \"gpt4o_score\": 3,\n",
      "        \"buildmate_score\": 7,\n",
      "        \"reason\": \"gpt4o過時且預算運用極差。BuildMate合理但記憶體不足，SSD容量小。\"\n",
      "      },\n",
      "      \"Agent3\": {\n",
      "        \"gpt4o_score\": 4,\n",
      "        \"buildmate_score\": 7,\n",
      "        \"reason\": \"gpt4o配置過時，CPU/GPU效能不足以應付4K剪輯。BuildMate較新，但記憶體/SSD容量小。\"\n",
      "      }\n",
      "    }\n",
      "  ]\n",
      "}\n"
     ]
    },
    {
     "data": {
      "text/html": [
       "<pre style=\"white-space:pre;overflow-x:auto;line-height:normal;font-family:Menlo,'DejaVu Sans Mono',consolas,'Courier New',monospace\"><span style=\"font-weight: bold\">{</span>\n",
       "    <span style=\"color: #008000; text-decoration-color: #008000\">'question_id'</span>: <span style=\"color: #008080; text-decoration-color: #008080; font-weight: bold\">14</span>,\n",
       "    <span style=\"color: #008000; text-decoration-color: #008000\">'question'</span>: <span style=\"color: #008000; text-decoration-color: #008000\">'我要組一台電腦，預算約35000元，主要用於玩《英雄聯盟》和做寫作業與論文研究，推薦配置是？'</span>,\n",
       "    <span style=\"color: #008000; text-decoration-color: #008000\">'gpt4o_recommendation'</span>: <span style=\"color: #008000; text-decoration-color: #008000\">'CPU: AMD Ryzen 5 5600G | price: 5990\\nMotherboard: 華碩 TUF GAMING B550M-PLUS (Wi-Fi) </span>\n",
       "<span style=\"color: #008000; text-decoration-color: #008000\">(M-ATX) | price: 3990\\nMemory: Corsair Vengeance LPX 16GB (2 x 8GB) DDR4-3200 | price: 1990\\nGPU: NVIDIA GeForce </span>\n",
       "<span style=\"color: #008000; text-decoration-color: #008000\">GTX 1660 Super 6GB | price: 6990\\nStorage: Samsung 970 EVO Plus 500GB NVMe M.2 SSD | price: 1990\\nPower Supply: </span>\n",
       "<span style=\"color: #008000; text-decoration-color: #008000\">Cooler Master MWE 650W 80+ Bronze | price: 1990\\nCase: Cooler Master MasterBox Q300L | price: 1290\\nCase Fan: </span>\n",
       "<span style=\"color: #008000; text-decoration-color: #008000\">ARCTIC P12 PWM PST 120mm Fan | price: 590\\n總價: 24820'</span>,\n",
       "    <span style=\"color: #008000; text-decoration-color: #008000\">'buildmate_recommendation'</span>: <span style=\"color: #008000; text-decoration-color: #008000\">'CPU: Intel Core Ultra 5 245KF | price: 9650\\nMotherboard: 華碩 PRIME </span>\n",
       "<span style=\"color: #008000; text-decoration-color: #008000\">H610M-K-CSM(DDR5) | price: 2490\\nMemory: UMAX 單條16GB DDR5-5600/CL46【雙參數】 | price: 1150\\nGPU: 技嘉 RTX3050 </span>\n",
       "<span style=\"color: #008000; text-decoration-color: #008000\">WINDFORCE OC 6G | price: 5990\\nStorage: 威剛 Ultimate SU650 480G/2.5吋/讀:520M/寫:450M/TLC顆粒【三年保】 | price: </span>\n",
       "<span style=\"color: #008000; text-decoration-color: #008000\">899\\nPower Supply: 全漢 HYDRO G PRO 1000W ATX3.0(PCIe 5.0) 雙8/金牌/全模/全日系/防潮塗層/10年保 | price: </span>\n",
       "<span style=\"color: #008000; text-decoration-color: #008000\">4890\\nCase: 銀欣 RL08 紅黑 | price: 1290\\nCase Fan: 安耐美 靜蝠 12cm 磁力滾珠軸承 | price: 230\\n總價: 26589'</span>\n",
       "<span style=\"font-weight: bold\">}</span>\n",
       "</pre>\n"
      ],
      "text/plain": [
       "\u001b[1m{\u001b[0m\n",
       "    \u001b[32m'question_id'\u001b[0m: \u001b[1;36m14\u001b[0m,\n",
       "    \u001b[32m'question'\u001b[0m: \u001b[32m'我要組一台電腦，預算約35000元，主要用於玩《英雄聯盟》和做寫作業與論文研究，推薦配置是？'\u001b[0m,\n",
       "    \u001b[32m'gpt4o_recommendation'\u001b[0m: \u001b[32m'CPU: AMD Ryzen 5 5600G | price: 5990\\nMotherboard: 華碩 TUF GAMING B550M-PLUS \u001b[0m\u001b[32m(\u001b[0m\u001b[32mWi-Fi\u001b[0m\u001b[32m)\u001b[0m\u001b[32m \u001b[0m\n",
       "\u001b[32m(\u001b[0m\u001b[32mM-ATX\u001b[0m\u001b[32m)\u001b[0m\u001b[32m | price: 3990\\nMemory: Corsair Vengeance LPX 16GB \u001b[0m\u001b[32m(\u001b[0m\u001b[32m2 x 8GB\u001b[0m\u001b[32m)\u001b[0m\u001b[32m DDR4-3200 | price: 1990\\nGPU: NVIDIA GeForce \u001b[0m\n",
       "\u001b[32mGTX 1660 Super 6GB | price: 6990\\nStorage: Samsung 970 EVO Plus 500GB NVMe M.2 SSD | price: 1990\\nPower Supply: \u001b[0m\n",
       "\u001b[32mCooler Master MWE 650W 80+ Bronze | price: 1990\\nCase: Cooler Master MasterBox Q300L | price: 1290\\nCase Fan: \u001b[0m\n",
       "\u001b[32mARCTIC P12 PWM PST 120mm Fan | price: 590\\n總價: 24820'\u001b[0m,\n",
       "    \u001b[32m'buildmate_recommendation'\u001b[0m: \u001b[32m'CPU: Intel Core Ultra 5 245KF | price: 9650\\nMotherboard: 華碩 PRIME \u001b[0m\n",
       "\u001b[32mH610M-K-CSM\u001b[0m\u001b[32m(\u001b[0m\u001b[32mDDR5\u001b[0m\u001b[32m)\u001b[0m\u001b[32m | price: 2490\\nMemory: UMAX 單條16GB DDR5-5600/CL46【雙參數】 | price: 1150\\nGPU: 技嘉 RTX3050 \u001b[0m\n",
       "\u001b[32mWINDFORCE OC 6G | price: 5990\\nStorage: 威剛 Ultimate SU650 480G/2.5吋/讀:520M/寫:450M/TLC顆粒【三年保】 | price: \u001b[0m\n",
       "\u001b[32m899\\nPower Supply: 全漢 HYDRO G PRO 1000W ATX3.0\u001b[0m\u001b[32m(\u001b[0m\u001b[32mPCIe 5.0\u001b[0m\u001b[32m)\u001b[0m\u001b[32m 雙8/金牌/全模/全日系/防潮塗層/10年保 | price: \u001b[0m\n",
       "\u001b[32m4890\\nCase: 銀欣 RL08 紅黑 | price: 1290\\nCase Fan: 安耐美 靜蝠 12cm 磁力滾珠軸承 | price: 230\\n總價: 26589'\u001b[0m\n",
       "\u001b[1m}\u001b[0m\n"
      ]
     },
     "metadata": {},
     "output_type": "display_data"
    },
    {
     "data": {
      "text/html": [
       "<pre style=\"white-space:pre;overflow-x:auto;line-height:normal;font-family:Menlo,'DejaVu Sans Mono',consolas,'Courier New',monospace\">Agent1: <span style=\"font-weight: bold\">[</span>對gpt4o評價<span style=\"font-weight: bold\">]</span>: <span style=\"color: #008080; text-decoration-color: #008080; font-weight: bold\">7</span>\n",
       "<span style=\"font-weight: bold\">[</span>對BuildMate評價<span style=\"font-weight: bold\">]</span>: <span style=\"color: #008080; text-decoration-color: #008080; font-weight: bold\">5</span>\n",
       "<span style=\"font-weight: bold\">[</span>簡短原因<span style=\"font-weight: bold\">]</span>: gpt4o均衡，BuildMate電源瓦數過高且SSD較慢，記憶體單通道影響效能。\n",
       "\n",
       "</pre>\n"
      ],
      "text/plain": [
       "Agent1: \u001b[1m[\u001b[0m對gpt4o評價\u001b[1m]\u001b[0m: \u001b[1;36m7\u001b[0m\n",
       "\u001b[1m[\u001b[0m對BuildMate評價\u001b[1m]\u001b[0m: \u001b[1;36m5\u001b[0m\n",
       "\u001b[1m[\u001b[0m簡短原因\u001b[1m]\u001b[0m: gpt4o均衡，BuildMate電源瓦數過高且SSD較慢，記憶體單通道影響效能。\n",
       "\n"
      ]
     },
     "metadata": {},
     "output_type": "display_data"
    },
    {
     "name": "stdout",
     "output_type": "stream",
     "text": [
      "======\n"
     ]
    },
    {
     "data": {
      "text/html": [
       "<pre style=\"white-space:pre;overflow-x:auto;line-height:normal;font-family:Menlo,'DejaVu Sans Mono',consolas,'Courier New',monospace\">Agent2: <span style=\"font-weight: bold\">[</span>對gpt4o評價<span style=\"font-weight: bold\">]</span>: <span style=\"color: #008080; text-decoration-color: #008080; font-weight: bold\">8</span>\n",
       "<span style=\"font-weight: bold\">[</span>對BuildMate評價<span style=\"font-weight: bold\">]</span>: <span style=\"color: #008080; text-decoration-color: #008080; font-weight: bold\">5</span>\n",
       "<span style=\"font-weight: bold\">[</span>簡短原因<span style=\"font-weight: bold\">]</span>: gpt4o性價比高，BuildMate記憶體單通道、SSD速度慢、電源瓦數過剩。\n",
       "\n",
       "</pre>\n"
      ],
      "text/plain": [
       "Agent2: \u001b[1m[\u001b[0m對gpt4o評價\u001b[1m]\u001b[0m: \u001b[1;36m8\u001b[0m\n",
       "\u001b[1m[\u001b[0m對BuildMate評價\u001b[1m]\u001b[0m: \u001b[1;36m5\u001b[0m\n",
       "\u001b[1m[\u001b[0m簡短原因\u001b[1m]\u001b[0m: gpt4o性價比高，BuildMate記憶體單通道、SSD速度慢、電源瓦數過剩。\n",
       "\n"
      ]
     },
     "metadata": {},
     "output_type": "display_data"
    },
    {
     "name": "stdout",
     "output_type": "stream",
     "text": [
      "======\n"
     ]
    },
    {
     "data": {
      "text/html": [
       "<pre style=\"white-space:pre;overflow-x:auto;line-height:normal;font-family:Menlo,'DejaVu Sans Mono',consolas,'Courier New',monospace\">Agent3: <span style=\"font-weight: bold\">[</span>對gpt4o評價<span style=\"font-weight: bold\">]</span>: <span style=\"color: #008080; text-decoration-color: #008080; font-weight: bold\">8</span>\n",
       "<span style=\"font-weight: bold\">[</span>對BuildMate評價<span style=\"font-weight: bold\">]</span>: <span style=\"color: #008080; text-decoration-color: #008080; font-weight: bold\">5</span>\n",
       "<span style=\"font-weight: bold\">[</span>簡短原因<span style=\"font-weight: bold\">]</span>: gpt4o較均衡，BuildMate記憶體單通道、SSD SATA且慢速、電源瓦數過高。\n",
       "\n",
       "</pre>\n"
      ],
      "text/plain": [
       "Agent3: \u001b[1m[\u001b[0m對gpt4o評價\u001b[1m]\u001b[0m: \u001b[1;36m8\u001b[0m\n",
       "\u001b[1m[\u001b[0m對BuildMate評價\u001b[1m]\u001b[0m: \u001b[1;36m5\u001b[0m\n",
       "\u001b[1m[\u001b[0m簡短原因\u001b[1m]\u001b[0m: gpt4o較均衡，BuildMate記憶體單通道、SSD SATA且慢速、電源瓦數過高。\n",
       "\n"
      ]
     },
     "metadata": {},
     "output_type": "display_data"
    },
    {
     "name": "stdout",
     "output_type": "stream",
     "text": [
      "======\n"
     ]
    },
    {
     "data": {
      "text/html": [
       "<pre style=\"white-space:pre;overflow-x:auto;line-height:normal;font-family:Menlo,'DejaVu Sans Mono',consolas,'Courier New',monospace\">Coordinator: 已達成共識， \n",
       "gpt4o較佳。價格較低且規格均衡，BuildMate的記憶體單通道、SSD速度慢、電源瓦數過高，不符合需求。\n",
       "\n",
       "</pre>\n"
      ],
      "text/plain": [
       "Coordinator: 已達成共識， \n",
       "gpt4o較佳。價格較低且規格均衡，BuildMate的記憶體單通道、SSD速度慢、電源瓦數過高，不符合需求。\n",
       "\n"
      ]
     },
     "metadata": {},
     "output_type": "display_data"
    },
    {
     "name": "stdout",
     "output_type": "stream",
     "text": [
      "======\n"
     ]
    },
    {
     "data": {
      "text/html": [
       "<pre style=\"white-space:pre;overflow-x:auto;line-height:normal;font-family:Menlo,'DejaVu Sans Mono',consolas,'Courier New',monospace\">Agent1: <span style=\"font-weight: bold\">[</span>對gpt4o評價<span style=\"font-weight: bold\">]</span>: <span style=\"color: #008080; text-decoration-color: #008080; font-weight: bold\">8</span>\n",
       "<span style=\"font-weight: bold\">[</span>對BuildMate評價<span style=\"font-weight: bold\">]</span>: <span style=\"color: #008080; text-decoration-color: #008080; font-weight: bold\">5</span>\n",
       "<span style=\"font-weight: bold\">[</span>簡短原因<span style=\"font-weight: bold\">]</span>: gpt4o性價比高，BuildMate記憶體單通道、SSD SATA且慢、電源瓦數過剩。\n",
       "\n",
       "</pre>\n"
      ],
      "text/plain": [
       "Agent1: \u001b[1m[\u001b[0m對gpt4o評價\u001b[1m]\u001b[0m: \u001b[1;36m8\u001b[0m\n",
       "\u001b[1m[\u001b[0m對BuildMate評價\u001b[1m]\u001b[0m: \u001b[1;36m5\u001b[0m\n",
       "\u001b[1m[\u001b[0m簡短原因\u001b[1m]\u001b[0m: gpt4o性價比高，BuildMate記憶體單通道、SSD SATA且慢、電源瓦數過剩。\n",
       "\n"
      ]
     },
     "metadata": {},
     "output_type": "display_data"
    },
    {
     "name": "stdout",
     "output_type": "stream",
     "text": [
      "======\n"
     ]
    },
    {
     "data": {
      "text/html": [
       "<pre style=\"white-space:pre;overflow-x:auto;line-height:normal;font-family:Menlo,'DejaVu Sans Mono',consolas,'Courier New',monospace\">Agent2: <span style=\"font-weight: bold\">[</span>對gpt4o評價<span style=\"font-weight: bold\">]</span>: <span style=\"color: #008080; text-decoration-color: #008080; font-weight: bold\">9</span>\n",
       "<span style=\"font-weight: bold\">[</span>對BuildMate評價<span style=\"font-weight: bold\">]</span>: <span style=\"color: #008080; text-decoration-color: #008080; font-weight: bold\">4</span>\n",
       "<span style=\"font-weight: bold\">[</span>簡短原因<span style=\"font-weight: bold\">]</span>: gpt4o性價比極高，BuildMate CPU和電源選擇昂貴且不必要，記憶體單通道嚴重影響效能。\n",
       "\n",
       "</pre>\n"
      ],
      "text/plain": [
       "Agent2: \u001b[1m[\u001b[0m對gpt4o評價\u001b[1m]\u001b[0m: \u001b[1;36m9\u001b[0m\n",
       "\u001b[1m[\u001b[0m對BuildMate評價\u001b[1m]\u001b[0m: \u001b[1;36m4\u001b[0m\n",
       "\u001b[1m[\u001b[0m簡短原因\u001b[1m]\u001b[0m: gpt4o性價比極高，BuildMate CPU和電源選擇昂貴且不必要，記憶體單通道嚴重影響效能。\n",
       "\n"
      ]
     },
     "metadata": {},
     "output_type": "display_data"
    },
    {
     "name": "stdout",
     "output_type": "stream",
     "text": [
      "======\n"
     ]
    },
    {
     "data": {
      "text/html": [
       "<pre style=\"white-space:pre;overflow-x:auto;line-height:normal;font-family:Menlo,'DejaVu Sans Mono',consolas,'Courier New',monospace\">Agent3: <span style=\"font-weight: bold\">[</span>對gpt4o評價<span style=\"font-weight: bold\">]</span>: <span style=\"color: #008080; text-decoration-color: #008080; font-weight: bold\">9</span>\n",
       "<span style=\"font-weight: bold\">[</span>對BuildMate評價<span style=\"font-weight: bold\">]</span>: <span style=\"color: #008080; text-decoration-color: #008080; font-weight: bold\">5</span>\n",
       "<span style=\"font-weight: bold\">[</span>簡短原因<span style=\"font-weight: bold\">]</span>: gpt4o性價比高，BuildMate記憶體單通道、SSD SATA且慢、電源瓦數過剩且昂貴。\n",
       "\n",
       "</pre>\n"
      ],
      "text/plain": [
       "Agent3: \u001b[1m[\u001b[0m對gpt4o評價\u001b[1m]\u001b[0m: \u001b[1;36m9\u001b[0m\n",
       "\u001b[1m[\u001b[0m對BuildMate評價\u001b[1m]\u001b[0m: \u001b[1;36m5\u001b[0m\n",
       "\u001b[1m[\u001b[0m簡短原因\u001b[1m]\u001b[0m: gpt4o性價比高，BuildMate記憶體單通道、SSD SATA且慢、電源瓦數過剩且昂貴。\n",
       "\n"
      ]
     },
     "metadata": {},
     "output_type": "display_data"
    },
    {
     "name": "stdout",
     "output_type": "stream",
     "text": [
      "======\n"
     ]
    },
    {
     "data": {
      "text/html": [
       "<pre style=\"white-space:pre;overflow-x:auto;line-height:normal;font-family:Menlo,'DejaVu Sans Mono',consolas,'Courier New',monospace\">Coordinator: \n",
       "已達成共識，gpt4o較佳。價格更低，CPU、記憶體和SSD規格更佳，整體均衡性價比高。BuildMate電源瓦數過高，記憶體單通道且\n",
       "速度慢，SSD也較慢。\n",
       "\n",
       "</pre>\n"
      ],
      "text/plain": [
       "Coordinator: \n",
       "已達成共識，gpt4o較佳。價格更低，CPU、記憶體和SSD規格更佳，整體均衡性價比高。BuildMate電源瓦數過高，記憶體單通道且\n",
       "速度慢，SSD也較慢。\n",
       "\n"
      ]
     },
     "metadata": {},
     "output_type": "display_data"
    },
    {
     "name": "stdout",
     "output_type": "stream",
     "text": [
      "======\n",
      "{'Coordinator': {'messages': [HumanMessage(content='Agent1: [對gpt4o評價]: 7\\n[對BuildMate評價]: 5\\n[簡短原因]: gpt4o均衡，BuildMate電源瓦數過高且SSD較慢，記憶體單通道影響效能。\\n', additional_kwargs={}, response_metadata={}), HumanMessage(content='Agent2: [對gpt4o評價]: 8\\n[對BuildMate評價]: 5\\n[簡短原因]: gpt4o性價比高，BuildMate記憶體單通道、SSD速度慢、電源瓦數過剩。\\n', additional_kwargs={}, response_metadata={}), HumanMessage(content='Agent3: [對gpt4o評價]: 8\\n[對BuildMate評價]: 5\\n[簡短原因]: gpt4o較均衡，BuildMate記憶體單通道、SSD SATA且慢速、電源瓦數過高。\\n', additional_kwargs={}, response_metadata={}), HumanMessage(content='Coordinator: 已達成共識， gpt4o較佳。價格較低且規格均衡，BuildMate的記憶體單通道、SSD速度慢、電源瓦數過高，不符合需求。\\n', additional_kwargs={}, response_metadata={}), HumanMessage(content='Agent1: [對gpt4o評價]: 8\\n[對BuildMate評價]: 5\\n[簡短原因]: gpt4o性價比高，BuildMate記憶體單通道、SSD SATA且慢、電源瓦數過剩。\\n', additional_kwargs={}, response_metadata={}), HumanMessage(content='Agent2: [對gpt4o評價]: 9\\n[對BuildMate評價]: 4\\n[簡短原因]: gpt4o性價比極高，BuildMate CPU和電源選擇昂貴且不必要，記憶體單通道嚴重影響效能。\\n', additional_kwargs={}, response_metadata={}), HumanMessage(content='Agent3: [對gpt4o評價]: 9\\n[對BuildMate評價]: 5\\n[簡短原因]: gpt4o性價比高，BuildMate記憶體單通道、SSD SATA且慢、電源瓦數過剩且昂貴。\\n', additional_kwargs={}, response_metadata={}), HumanMessage(content='Coordinator: 已達成共識，gpt4o較佳。價格更低，CPU、記憶體和SSD規格更佳，整體均衡性價比高。BuildMate電源瓦數過高，記憶體單通道且速度慢，SSD也較慢。\\n', additional_kwargs={}, response_metadata={})], 'next_agent': '__end__', 'question_id': 14, 'question': '我要組一台電腦，預算約35000元，主要用於玩《英雄聯盟》和做寫作業與論文研究，推薦配置是？', 'gpt4o_recommendation': 'CPU: AMD Ryzen 5 5600G | price: 5990\\nMotherboard: 華碩 TUF GAMING B550M-PLUS (Wi-Fi) (M-ATX) | price: 3990\\nMemory: Corsair Vengeance LPX 16GB (2 x 8GB) DDR4-3200 | price: 1990\\nGPU: NVIDIA GeForce GTX 1660 Super 6GB | price: 6990\\nStorage: Samsung 970 EVO Plus 500GB NVMe M.2 SSD | price: 1990\\nPower Supply: Cooler Master MWE 650W 80+ Bronze | price: 1990\\nCase: Cooler Master MasterBox Q300L | price: 1290\\nCase Fan: ARCTIC P12 PWM PST 120mm Fan | price: 590\\n總價: 24820', 'buildmate_recommendation': 'CPU: Intel Core Ultra 5 245KF | price: 9650\\nMotherboard: 華碩 PRIME H610M-K-CSM(DDR5) | price: 2490\\nMemory: UMAX 單條16GB DDR5-5600/CL46【雙參數】 | price: 1150\\nGPU: 技嘉 RTX3050 WINDFORCE OC 6G | price: 5990\\nStorage: 威剛 Ultimate SU650 480G/2.5吋/讀:520M/寫:450M/TLC顆粒【三年保】 | price: 899\\nPower Supply: 全漢 HYDRO G PRO 1000W ATX3.0(PCIe 5.0) 雙8/金牌/全模/全日系/防潮塗層/10年保 | price: 4890\\nCase: 銀欣 RL08 紅黑 | price: 1290\\nCase Fan: 安耐美 靜蝠 12cm 磁力滾珠軸承 | price: 230\\n總價: 26589', 'agent_scores': {'Agent1_round1': {'gpt4o_score': 7, 'buildmate_score': 5, 'reason': 'gpt4o均衡，BuildMate電源瓦數過高且SSD較慢，記憶體單通道影響效能。'}, 'Agent2_round1': {'gpt4o_score': 8, 'buildmate_score': 5, 'reason': 'gpt4o性價比高，BuildMate記憶體單通道、SSD速度慢、電源瓦數過剩。'}, 'Agent3_round1': {'gpt4o_score': 8, 'buildmate_score': 5, 'reason': 'gpt4o較均衡，BuildMate記憶體單通道、SSD SATA且慢速、電源瓦數過高。'}, 'Agent1_round2': {'gpt4o_score': 8, 'buildmate_score': 5, 'reason': 'gpt4o性價比高，BuildMate記憶體單通道、SSD SATA且慢、電源瓦數過剩。'}, 'Agent2_round2': {'gpt4o_score': 9, 'buildmate_score': 4, 'reason': 'gpt4o性價比極高，BuildMate CPU和電源選擇昂貴且不必要，記憶體單通道嚴重影響效能。'}, 'Agent3_round2': {'gpt4o_score': 9, 'buildmate_score': 5, 'reason': 'gpt4o性價比高，BuildMate記憶體單通道、SSD SATA且慢、電源瓦數過剩且昂貴。'}}, 'round_count': 2, 'max_rounds': 3, 'consensus_reached': True}}\n",
      "{\n",
      "  \"question_id\": 14,\n",
      "  \"question\": \"我要組一台電腦，預算約35000元，主要用於玩《英雄聯盟》和做寫作業與論文研究，推薦配置是？\",\n",
      "  \"buildmate_recommendation\": \"CPU: Intel Core Ultra 5 245KF | price: 9650\\nMotherboard: 華碩 PRIME H610M-K-CSM(DDR5) | price: 2490\\nMemory: UMAX 單條16GB DDR5-5600/CL46【雙參數】 | price: 1150\\nGPU: 技嘉 RTX3050 WINDFORCE OC 6G | price: 5990\\nStorage: 威剛 Ultimate SU650 480G/2.5吋/讀:520M/寫:450M/TLC顆粒【三年保】 | price: 899\\nPower Supply: 全漢 HYDRO G PRO 1000W ATX3.0(PCIe 5.0) 雙8/金牌/全模/全日系/防潮塗層/10年保 | price: 4890\\nCase: 銀欣 RL08 紅黑 | price: 1290\\nCase Fan: 安耐美 靜蝠 12cm 磁力滾珠軸承 | price: 230\\n總價: 26589\",\n",
      "  \"gpt4o_recommendation\": \"CPU: AMD Ryzen 5 5600G | price: 5990\\nMotherboard: 華碩 TUF GAMING B550M-PLUS (Wi-Fi) (M-ATX) | price: 3990\\nMemory: Corsair Vengeance LPX 16GB (2 x 8GB) DDR4-3200 | price: 1990\\nGPU: NVIDIA GeForce GTX 1660 Super 6GB | price: 6990\\nStorage: Samsung 970 EVO Plus 500GB NVMe M.2 SSD | price: 1990\\nPower Supply: Cooler Master MWE 650W 80+ Bronze | price: 1990\\nCase: Cooler Master MasterBox Q300L | price: 1290\\nCase Fan: ARCTIC P12 PWM PST 120mm Fan | price: 590\\n總價: 24820\",\n",
      "  \"winner\": 0,\n",
      "  \"buildmate_avg_score\": 4.833333333333333,\n",
      "  \"gpt4o_avg_score\": 8.166666666666666,\n",
      "  \"rounds\": [\n",
      "    {\n",
      "      \"round_number\": 1,\n",
      "      \"Agent1\": {\n",
      "        \"gpt4o_score\": 7,\n",
      "        \"buildmate_score\": 5,\n",
      "        \"reason\": \"gpt4o均衡，BuildMate電源瓦數過高且SSD較慢，記憶體單通道影響效能。\"\n",
      "      },\n",
      "      \"Agent2\": {\n",
      "        \"gpt4o_score\": 8,\n",
      "        \"buildmate_score\": 5,\n",
      "        \"reason\": \"gpt4o性價比高，BuildMate記憶體單通道、SSD速度慢、電源瓦數過剩。\"\n",
      "      },\n",
      "      \"Agent3\": {\n",
      "        \"gpt4o_score\": 8,\n",
      "        \"buildmate_score\": 5,\n",
      "        \"reason\": \"gpt4o較均衡，BuildMate記憶體單通道、SSD SATA且慢速、電源瓦數過高。\"\n",
      "      }\n",
      "    },\n",
      "    {\n",
      "      \"round_number\": 2,\n",
      "      \"Agent1\": {\n",
      "        \"gpt4o_score\": 8,\n",
      "        \"buildmate_score\": 5,\n",
      "        \"reason\": \"gpt4o性價比高，BuildMate記憶體單通道、SSD SATA且慢、電源瓦數過剩。\"\n",
      "      },\n",
      "      \"Agent2\": {\n",
      "        \"gpt4o_score\": 9,\n",
      "        \"buildmate_score\": 4,\n",
      "        \"reason\": \"gpt4o性價比極高，BuildMate CPU和電源選擇昂貴且不必要，記憶體單通道嚴重影響效能。\"\n",
      "      },\n",
      "      \"Agent3\": {\n",
      "        \"gpt4o_score\": 9,\n",
      "        \"buildmate_score\": 5,\n",
      "        \"reason\": \"gpt4o性價比高，BuildMate記憶體單通道、SSD SATA且慢、電源瓦數過剩且昂貴。\"\n",
      "      }\n",
      "    }\n",
      "  ]\n",
      "}\n"
     ]
    },
    {
     "data": {
      "text/html": [
       "<pre style=\"white-space:pre;overflow-x:auto;line-height:normal;font-family:Menlo,'DejaVu Sans Mono',consolas,'Courier New',monospace\"><span style=\"font-weight: bold\">{</span>\n",
       "    <span style=\"color: #008000; text-decoration-color: #008000\">'question_id'</span>: <span style=\"color: #008080; text-decoration-color: #008080; font-weight: bold\">15</span>,\n",
       "    <span style=\"color: #008000; text-decoration-color: #008000\">'question'</span>: <span style=\"color: #008000; text-decoration-color: #008000\">'預算大概55000元，尋找一台適合做3D動畫和模型設計的電腦，有推薦嗎？'</span>,\n",
       "    <span style=\"color: #008000; text-decoration-color: #008000\">'gpt4o_recommendation'</span>: <span style=\"color: #008000; text-decoration-color: #008000\">'CPU: AMD Ryzen 7 5800X | price: 9500\\nMotherboard: MSI MAG B550 TOMAHAWK | price: </span>\n",
       "<span style=\"color: #008000; text-decoration-color: #008000\">3990\\nMemory: Corsair Vengeance LPX 32GB (2 x 16GB) DDR4-3200 | price: 2500\\nGPU: NVIDIA GeForce RTX 3060 12GB | </span>\n",
       "<span style=\"color: #008000; text-decoration-color: #008000\">price: 13900\\nStorage: Samsung 970 EVO Plus 1TB NVMe SSD | price: 3500\\nPower Supply: Seasonic Focus GX-750, 750W </span>\n",
       "<span style=\"color: #008000; text-decoration-color: #008000\">80+ Gold | price: 3500\\nCase: Fractal Design Meshify C | price: 2500\\nCase Fan: Noctua NF-P12 redux-1700 PWM | </span>\n",
       "<span style=\"color: #008000; text-decoration-color: #008000\">price: 800\\n總價: 40190'</span>,\n",
       "    <span style=\"color: #008000; text-decoration-color: #008000\">'buildmate_recommendation'</span>: <span style=\"color: #008000; text-decoration-color: #008000\">'CPU: Intel i7-14700F | price: 9700\\nMotherboard: 華碩 PRO WS W680-ACE | price: </span>\n",
       "<span style=\"color: #008000; text-decoration-color: #008000\">9990\\nMemory: 威剛 單條16GB DDR5 6000 XPG Lancer Blade(矮版散熱片)/CL48黑【雙參數】 | price: 1349\\nGPU: 華碩 </span>\n",
       "<span style=\"color: #008000; text-decoration-color: #008000\">DUAL-RTX4060-O8G-EVO | price: 10990\\nStorage: 威剛 Ultimate SU800 512G | price: 1499\\nPower Supply: Antec </span>\n",
       "<span style=\"color: #008000; text-decoration-color: #008000\">HCG1000(1000W) | price: 3990\\nCase: 聯力 PC-O11 Dynamic 白 | price: 2790\\nCase Fan: MSI MEG SILENT GALE P12 </span>\n",
       "<span style=\"color: #008000; text-decoration-color: #008000\">靜音風扇 | price: 790\\n總價: 41098'</span>\n",
       "<span style=\"font-weight: bold\">}</span>\n",
       "</pre>\n"
      ],
      "text/plain": [
       "\u001b[1m{\u001b[0m\n",
       "    \u001b[32m'question_id'\u001b[0m: \u001b[1;36m15\u001b[0m,\n",
       "    \u001b[32m'question'\u001b[0m: \u001b[32m'預算大概55000元，尋找一台適合做3D動畫和模型設計的電腦，有推薦嗎？'\u001b[0m,\n",
       "    \u001b[32m'gpt4o_recommendation'\u001b[0m: \u001b[32m'CPU: AMD Ryzen 7 5800X | price: 9500\\nMotherboard: MSI MAG B550 TOMAHAWK | price: \u001b[0m\n",
       "\u001b[32m3990\\nMemory: Corsair Vengeance LPX 32GB \u001b[0m\u001b[32m(\u001b[0m\u001b[32m2 x 16GB\u001b[0m\u001b[32m)\u001b[0m\u001b[32m DDR4-3200 | price: 2500\\nGPU: NVIDIA GeForce RTX 3060 12GB | \u001b[0m\n",
       "\u001b[32mprice: 13900\\nStorage: Samsung 970 EVO Plus 1TB NVMe SSD | price: 3500\\nPower Supply: Seasonic Focus GX-750, 750W \u001b[0m\n",
       "\u001b[32m80+ Gold | price: 3500\\nCase: Fractal Design Meshify C | price: 2500\\nCase Fan: Noctua NF-P12 redux-1700 PWM | \u001b[0m\n",
       "\u001b[32mprice: 800\\n總價: 40190'\u001b[0m,\n",
       "    \u001b[32m'buildmate_recommendation'\u001b[0m: \u001b[32m'CPU: Intel i7-14700F | price: 9700\\nMotherboard: 華碩 PRO WS W680-ACE | price: \u001b[0m\n",
       "\u001b[32m9990\\nMemory: 威剛 單條16GB DDR5 6000 XPG Lancer Blade\u001b[0m\u001b[32m(\u001b[0m\u001b[32m矮版散熱片\u001b[0m\u001b[32m)\u001b[0m\u001b[32m/CL48黑【雙參數】 | price: 1349\\nGPU: 華碩 \u001b[0m\n",
       "\u001b[32mDUAL-RTX4060-O8G-EVO | price: 10990\\nStorage: 威剛 Ultimate SU800 512G | price: 1499\\nPower Supply: Antec \u001b[0m\n",
       "\u001b[32mHCG1000\u001b[0m\u001b[32m(\u001b[0m\u001b[32m1000W\u001b[0m\u001b[32m)\u001b[0m\u001b[32m | price: 3990\\nCase: 聯力 PC-O11 Dynamic 白 | price: 2790\\nCase Fan: MSI MEG SILENT GALE P12 \u001b[0m\n",
       "\u001b[32m靜音風扇 | price: 790\\n總價: 41098'\u001b[0m\n",
       "\u001b[1m}\u001b[0m\n"
      ]
     },
     "metadata": {},
     "output_type": "display_data"
    },
    {
     "data": {
      "text/html": [
       "<pre style=\"white-space:pre;overflow-x:auto;line-height:normal;font-family:Menlo,'DejaVu Sans Mono',consolas,'Courier New',monospace\">Agent1: <span style=\"font-weight: bold\">[</span>對gpt4o評價<span style=\"font-weight: bold\">]</span>: <span style=\"color: #008080; text-decoration-color: #008080; font-weight: bold\">7</span>\n",
       "<span style=\"font-weight: bold\">[</span>對BuildMate評價<span style=\"font-weight: bold\">]</span>: <span style=\"color: #008080; text-decoration-color: #008080; font-weight: bold\">5</span>\n",
       "<span style=\"font-weight: bold\">[</span>簡短原因<span style=\"font-weight: bold\">]</span>: gpt4o均衡，BuildMate主機板過於高階，記憶體容量不足，SSD容量小。\n",
       "\n",
       "</pre>\n"
      ],
      "text/plain": [
       "Agent1: \u001b[1m[\u001b[0m對gpt4o評價\u001b[1m]\u001b[0m: \u001b[1;36m7\u001b[0m\n",
       "\u001b[1m[\u001b[0m對BuildMate評價\u001b[1m]\u001b[0m: \u001b[1;36m5\u001b[0m\n",
       "\u001b[1m[\u001b[0m簡短原因\u001b[1m]\u001b[0m: gpt4o均衡，BuildMate主機板過於高階，記憶體容量不足，SSD容量小。\n",
       "\n"
      ]
     },
     "metadata": {},
     "output_type": "display_data"
    },
    {
     "name": "stdout",
     "output_type": "stream",
     "text": [
      "======\n"
     ]
    },
    {
     "data": {
      "text/html": [
       "<pre style=\"white-space:pre;overflow-x:auto;line-height:normal;font-family:Menlo,'DejaVu Sans Mono',consolas,'Courier New',monospace\">Agent2: <span style=\"font-weight: bold\">[</span>對gpt4o評價<span style=\"font-weight: bold\">]</span>: <span style=\"color: #008080; text-decoration-color: #008080; font-weight: bold\">8</span>\n",
       "<span style=\"font-weight: bold\">[</span>對BuildMate評價<span style=\"font-weight: bold\">]</span>: <span style=\"color: #008080; text-decoration-color: #008080; font-weight: bold\">6</span>\n",
       "<span style=\"font-weight: bold\">[</span>簡短原因<span style=\"font-weight: bold\">]</span>: gpt4o配置均衡，記憶體容量較BuildMate合理; BuildMate主機板規格過高，記憶體不足，SSD容量小。\n",
       "\n",
       "</pre>\n"
      ],
      "text/plain": [
       "Agent2: \u001b[1m[\u001b[0m對gpt4o評價\u001b[1m]\u001b[0m: \u001b[1;36m8\u001b[0m\n",
       "\u001b[1m[\u001b[0m對BuildMate評價\u001b[1m]\u001b[0m: \u001b[1;36m6\u001b[0m\n",
       "\u001b[1m[\u001b[0m簡短原因\u001b[1m]\u001b[0m: gpt4o配置均衡，記憶體容量較BuildMate合理; BuildMate主機板規格過高，記憶體不足，SSD容量小。\n",
       "\n"
      ]
     },
     "metadata": {},
     "output_type": "display_data"
    },
    {
     "name": "stdout",
     "output_type": "stream",
     "text": [
      "======\n"
     ]
    },
    {
     "data": {
      "text/html": [
       "<pre style=\"white-space:pre;overflow-x:auto;line-height:normal;font-family:Menlo,'DejaVu Sans Mono',consolas,'Courier New',monospace\">Agent3: <span style=\"font-weight: bold\">[</span>對gpt4o評價<span style=\"font-weight: bold\">]</span>: <span style=\"color: #008080; text-decoration-color: #008080; font-weight: bold\">8</span>\n",
       "<span style=\"font-weight: bold\">[</span>對BuildMate評價<span style=\"font-weight: bold\">]</span>: <span style=\"color: #008080; text-decoration-color: #008080; font-weight: bold\">5</span>\n",
       "<span style=\"font-weight: bold\">[</span>簡短原因<span style=\"font-weight: bold\">]</span>: gpt4o較均衡，記憶體容量符合3D設計需求。BuildMate主機板過高階，記憶體不足，SSD容量小。\n",
       "\n",
       "</pre>\n"
      ],
      "text/plain": [
       "Agent3: \u001b[1m[\u001b[0m對gpt4o評價\u001b[1m]\u001b[0m: \u001b[1;36m8\u001b[0m\n",
       "\u001b[1m[\u001b[0m對BuildMate評價\u001b[1m]\u001b[0m: \u001b[1;36m5\u001b[0m\n",
       "\u001b[1m[\u001b[0m簡短原因\u001b[1m]\u001b[0m: gpt4o較均衡，記憶體容量符合3D設計需求。BuildMate主機板過高階，記憶體不足，SSD容量小。\n",
       "\n"
      ]
     },
     "metadata": {},
     "output_type": "display_data"
    },
    {
     "name": "stdout",
     "output_type": "stream",
     "text": [
      "======\n"
     ]
    },
    {
     "data": {
      "text/html": [
       "<pre style=\"white-space:pre;overflow-x:auto;line-height:normal;font-family:Menlo,'DejaVu Sans Mono',consolas,'Courier New',monospace\">Coordinator: 已達成共識， gpt4o較佳。記憶體容量較大、主機板價格合理，整體配置更均衡，符合預算和3D設計需求。\n",
       "\n",
       "</pre>\n"
      ],
      "text/plain": [
       "Coordinator: 已達成共識， gpt4o較佳。記憶體容量較大、主機板價格合理，整體配置更均衡，符合預算和3D設計需求。\n",
       "\n"
      ]
     },
     "metadata": {},
     "output_type": "display_data"
    },
    {
     "name": "stdout",
     "output_type": "stream",
     "text": [
      "======\n"
     ]
    },
    {
     "data": {
      "text/html": [
       "<pre style=\"white-space:pre;overflow-x:auto;line-height:normal;font-family:Menlo,'DejaVu Sans Mono',consolas,'Courier New',monospace\">Agent1: <span style=\"font-weight: bold\">[</span>對gpt4o評價<span style=\"font-weight: bold\">]</span>: <span style=\"color: #008080; text-decoration-color: #008080; font-weight: bold\">8</span>\n",
       "<span style=\"font-weight: bold\">[</span>對BuildMate評價<span style=\"font-weight: bold\">]</span>: <span style=\"color: #008080; text-decoration-color: #008080; font-weight: bold\">5</span>\n",
       "<span style=\"font-weight: bold\">[</span>簡短原因<span style=\"font-weight: bold\">]</span>: gpt4o性價比高，記憶體容量足。BuildMate主機板昂貴，記憶體容量不足，SSD容量小。\n",
       "\n",
       "</pre>\n"
      ],
      "text/plain": [
       "Agent1: \u001b[1m[\u001b[0m對gpt4o評價\u001b[1m]\u001b[0m: \u001b[1;36m8\u001b[0m\n",
       "\u001b[1m[\u001b[0m對BuildMate評價\u001b[1m]\u001b[0m: \u001b[1;36m5\u001b[0m\n",
       "\u001b[1m[\u001b[0m簡短原因\u001b[1m]\u001b[0m: gpt4o性價比高，記憶體容量足。BuildMate主機板昂貴，記憶體容量不足，SSD容量小。\n",
       "\n"
      ]
     },
     "metadata": {},
     "output_type": "display_data"
    },
    {
     "name": "stdout",
     "output_type": "stream",
     "text": [
      "======\n"
     ]
    },
    {
     "data": {
      "text/html": [
       "<pre style=\"white-space:pre;overflow-x:auto;line-height:normal;font-family:Menlo,'DejaVu Sans Mono',consolas,'Courier New',monospace\">Agent2: <span style=\"font-weight: bold\">[</span>對gpt4o評價<span style=\"font-weight: bold\">]</span>: <span style=\"color: #008080; text-decoration-color: #008080; font-weight: bold\">8</span>\n",
       "<span style=\"font-weight: bold\">[</span>對BuildMate評價<span style=\"font-weight: bold\">]</span>: <span style=\"color: #008080; text-decoration-color: #008080; font-weight: bold\">5</span>\n",
       "<span style=\"font-weight: bold\">[</span>簡短原因<span style=\"font-weight: bold\">]</span>: gpt4o配置均衡，價格合理。BuildMate主機板價格過高，記憶體和SSD容量不足。\n",
       "\n",
       "</pre>\n"
      ],
      "text/plain": [
       "Agent2: \u001b[1m[\u001b[0m對gpt4o評價\u001b[1m]\u001b[0m: \u001b[1;36m8\u001b[0m\n",
       "\u001b[1m[\u001b[0m對BuildMate評價\u001b[1m]\u001b[0m: \u001b[1;36m5\u001b[0m\n",
       "\u001b[1m[\u001b[0m簡短原因\u001b[1m]\u001b[0m: gpt4o配置均衡，價格合理。BuildMate主機板價格過高，記憶體和SSD容量不足。\n",
       "\n"
      ]
     },
     "metadata": {},
     "output_type": "display_data"
    },
    {
     "name": "stdout",
     "output_type": "stream",
     "text": [
      "======\n"
     ]
    },
    {
     "data": {
      "text/html": [
       "<pre style=\"white-space:pre;overflow-x:auto;line-height:normal;font-family:Menlo,'DejaVu Sans Mono',consolas,'Courier New',monospace\">Agent3: Agent1: <span style=\"font-weight: bold\">[</span>對gpt4o評價<span style=\"font-weight: bold\">]</span>: <span style=\"color: #008080; text-decoration-color: #008080; font-weight: bold\">8</span>\n",
       "<span style=\"font-weight: bold\">[</span>對BuildMate評價<span style=\"font-weight: bold\">]</span>: <span style=\"color: #008080; text-decoration-color: #008080; font-weight: bold\">5</span>\n",
       "<span style=\"font-weight: bold\">[</span>簡短原因<span style=\"font-weight: bold\">]</span>: gpt4o性價比高，記憶體容量足。BuildMate主機板昂貴，記憶體容量不足，SSD容量小。\n",
       "\n",
       "\n",
       "Agent2: <span style=\"font-weight: bold\">[</span>對gpt4o評價<span style=\"font-weight: bold\">]</span>: <span style=\"color: #008080; text-decoration-color: #008080; font-weight: bold\">8</span>\n",
       "<span style=\"font-weight: bold\">[</span>對BuildMate評價<span style=\"font-weight: bold\">]</span>: <span style=\"color: #008080; text-decoration-color: #008080; font-weight: bold\">5</span>\n",
       "<span style=\"font-weight: bold\">[</span>簡短原因<span style=\"font-weight: bold\">]</span>: gpt4o配置均衡，價格合理。BuildMate主機板價格過高，記憶體和SSD容量不足。\n",
       "\n",
       "</pre>\n"
      ],
      "text/plain": [
       "Agent3: Agent1: \u001b[1m[\u001b[0m對gpt4o評價\u001b[1m]\u001b[0m: \u001b[1;36m8\u001b[0m\n",
       "\u001b[1m[\u001b[0m對BuildMate評價\u001b[1m]\u001b[0m: \u001b[1;36m5\u001b[0m\n",
       "\u001b[1m[\u001b[0m簡短原因\u001b[1m]\u001b[0m: gpt4o性價比高，記憶體容量足。BuildMate主機板昂貴，記憶體容量不足，SSD容量小。\n",
       "\n",
       "\n",
       "Agent2: \u001b[1m[\u001b[0m對gpt4o評價\u001b[1m]\u001b[0m: \u001b[1;36m8\u001b[0m\n",
       "\u001b[1m[\u001b[0m對BuildMate評價\u001b[1m]\u001b[0m: \u001b[1;36m5\u001b[0m\n",
       "\u001b[1m[\u001b[0m簡短原因\u001b[1m]\u001b[0m: gpt4o配置均衡，價格合理。BuildMate主機板價格過高，記憶體和SSD容量不足。\n",
       "\n"
      ]
     },
     "metadata": {},
     "output_type": "display_data"
    },
    {
     "name": "stdout",
     "output_type": "stream",
     "text": [
      "======\n"
     ]
    },
    {
     "data": {
      "text/html": [
       "<pre style=\"white-space:pre;overflow-x:auto;line-height:normal;font-family:Menlo,'DejaVu Sans Mono',consolas,'Courier New',monospace\">Coordinator: 已達成共識，gpt4o較佳。價格較低且記憶體容量較BuildMate大，更符合3D設計需求，整體性價比高。\n",
       "\n",
       "</pre>\n"
      ],
      "text/plain": [
       "Coordinator: 已達成共識，gpt4o較佳。價格較低且記憶體容量較BuildMate大，更符合3D設計需求，整體性價比高。\n",
       "\n"
      ]
     },
     "metadata": {},
     "output_type": "display_data"
    },
    {
     "name": "stdout",
     "output_type": "stream",
     "text": [
      "======\n",
      "{'Coordinator': {'messages': [HumanMessage(content='Agent1: [對gpt4o評價]: 7\\n[對BuildMate評價]: 5\\n[簡短原因]: gpt4o均衡，BuildMate主機板過於高階，記憶體容量不足，SSD容量小。\\n', additional_kwargs={}, response_metadata={}), HumanMessage(content='Agent2: [對gpt4o評價]: 8\\n[對BuildMate評價]: 6\\n[簡短原因]: gpt4o配置均衡，記憶體容量較BuildMate合理; BuildMate主機板規格過高，記憶體不足，SSD容量小。\\n', additional_kwargs={}, response_metadata={}), HumanMessage(content='Agent3: [對gpt4o評價]: 8\\n[對BuildMate評價]: 5\\n[簡短原因]: gpt4o較均衡，記憶體容量符合3D設計需求。BuildMate主機板過高階，記憶體不足，SSD容量小。\\n', additional_kwargs={}, response_metadata={}), HumanMessage(content='Coordinator: 已達成共識， gpt4o較佳。記憶體容量較大、主機板價格合理，整體配置更均衡，符合預算和3D設計需求。\\n', additional_kwargs={}, response_metadata={}), HumanMessage(content='Agent1: [對gpt4o評價]: 8\\n[對BuildMate評價]: 5\\n[簡短原因]: gpt4o性價比高，記憶體容量足。BuildMate主機板昂貴，記憶體容量不足，SSD容量小。\\n', additional_kwargs={}, response_metadata={}), HumanMessage(content='Agent2: [對gpt4o評價]: 8\\n[對BuildMate評價]: 5\\n[簡短原因]: gpt4o配置均衡，價格合理。BuildMate主機板價格過高，記憶體和SSD容量不足。\\n', additional_kwargs={}, response_metadata={}), HumanMessage(content='Agent3: Agent1: [對gpt4o評價]: 8\\n[對BuildMate評價]: 5\\n[簡短原因]: gpt4o性價比高，記憶體容量足。BuildMate主機板昂貴，記憶體容量不足，SSD容量小。\\n\\n\\nAgent2: [對gpt4o評價]: 8\\n[對BuildMate評價]: 5\\n[簡短原因]: gpt4o配置均衡，價格合理。BuildMate主機板價格過高，記憶體和SSD容量不足。\\n', additional_kwargs={}, response_metadata={}), HumanMessage(content='Coordinator: 已達成共識，gpt4o較佳。價格較低且記憶體容量較BuildMate大，更符合3D設計需求，整體性價比高。\\n', additional_kwargs={}, response_metadata={})], 'next_agent': '__end__', 'question_id': 15, 'question': '預算大概55000元，尋找一台適合做3D動畫和模型設計的電腦，有推薦嗎？', 'gpt4o_recommendation': 'CPU: AMD Ryzen 7 5800X | price: 9500\\nMotherboard: MSI MAG B550 TOMAHAWK | price: 3990\\nMemory: Corsair Vengeance LPX 32GB (2 x 16GB) DDR4-3200 | price: 2500\\nGPU: NVIDIA GeForce RTX 3060 12GB | price: 13900\\nStorage: Samsung 970 EVO Plus 1TB NVMe SSD | price: 3500\\nPower Supply: Seasonic Focus GX-750, 750W 80+ Gold | price: 3500\\nCase: Fractal Design Meshify C | price: 2500\\nCase Fan: Noctua NF-P12 redux-1700 PWM | price: 800\\n總價: 40190', 'buildmate_recommendation': 'CPU: Intel i7-14700F | price: 9700\\nMotherboard: 華碩 PRO WS W680-ACE | price: 9990\\nMemory: 威剛 單條16GB DDR5 6000 XPG Lancer Blade(矮版散熱片)/CL48黑【雙參數】 | price: 1349\\nGPU: 華碩 DUAL-RTX4060-O8G-EVO | price: 10990\\nStorage: 威剛 Ultimate SU800 512G | price: 1499\\nPower Supply: Antec HCG1000(1000W) | price: 3990\\nCase: 聯力 PC-O11 Dynamic 白 | price: 2790\\nCase Fan: MSI MEG SILENT GALE P12 靜音風扇 | price: 790\\n總價: 41098', 'agent_scores': {'Agent1_round1': {'gpt4o_score': 7, 'buildmate_score': 5, 'reason': 'gpt4o均衡，BuildMate主機板過於高階，記憶體容量不足，SSD容量小。'}, 'Agent2_round1': {'gpt4o_score': 8, 'buildmate_score': 6, 'reason': 'gpt4o配置均衡，記憶體容量較BuildMate合理; BuildMate主機板規格過高，記憶體不足，SSD容量小。'}, 'Agent3_round1': {'gpt4o_score': 8, 'buildmate_score': 5, 'reason': 'gpt4o較均衡，記憶體容量符合3D設計需求。BuildMate主機板過高階，記憶體不足，SSD容量小。'}, 'Agent1_round2': {'gpt4o_score': 8, 'buildmate_score': 5, 'reason': 'gpt4o性價比高，記憶體容量足。BuildMate主機板昂貴，記憶體容量不足，SSD容量小。'}, 'Agent2_round2': {'gpt4o_score': 8, 'buildmate_score': 5, 'reason': 'gpt4o配置均衡，價格合理。BuildMate主機板價格過高，記憶體和SSD容量不足。'}, 'Agent3_round2': {'gpt4o_score': 8, 'buildmate_score': 5, 'reason': 'gpt4o性價比高，記憶體容量足。BuildMate主機板昂貴，記憶體容量不足，SSD容量小。'}}, 'round_count': 2, 'max_rounds': 3, 'consensus_reached': True}}\n",
      "{\n",
      "  \"question_id\": 15,\n",
      "  \"question\": \"預算大概55000元，尋找一台適合做3D動畫和模型設計的電腦，有推薦嗎？\",\n",
      "  \"buildmate_recommendation\": \"CPU: Intel i7-14700F | price: 9700\\nMotherboard: 華碩 PRO WS W680-ACE | price: 9990\\nMemory: 威剛 單條16GB DDR5 6000 XPG Lancer Blade(矮版散熱片)/CL48黑【雙參數】 | price: 1349\\nGPU: 華碩 DUAL-RTX4060-O8G-EVO | price: 10990\\nStorage: 威剛 Ultimate SU800 512G | price: 1499\\nPower Supply: Antec HCG1000(1000W) | price: 3990\\nCase: 聯力 PC-O11 Dynamic 白 | price: 2790\\nCase Fan: MSI MEG SILENT GALE P12 靜音風扇 | price: 790\\n總價: 41098\",\n",
      "  \"gpt4o_recommendation\": \"CPU: AMD Ryzen 7 5800X | price: 9500\\nMotherboard: MSI MAG B550 TOMAHAWK | price: 3990\\nMemory: Corsair Vengeance LPX 32GB (2 x 16GB) DDR4-3200 | price: 2500\\nGPU: NVIDIA GeForce RTX 3060 12GB | price: 13900\\nStorage: Samsung 970 EVO Plus 1TB NVMe SSD | price: 3500\\nPower Supply: Seasonic Focus GX-750, 750W 80+ Gold | price: 3500\\nCase: Fractal Design Meshify C | price: 2500\\nCase Fan: Noctua NF-P12 redux-1700 PWM | price: 800\\n總價: 40190\",\n",
      "  \"winner\": 0,\n",
      "  \"buildmate_avg_score\": 5.166666666666667,\n",
      "  \"gpt4o_avg_score\": 7.833333333333333,\n",
      "  \"rounds\": [\n",
      "    {\n",
      "      \"round_number\": 1,\n",
      "      \"Agent1\": {\n",
      "        \"gpt4o_score\": 7,\n",
      "        \"buildmate_score\": 5,\n",
      "        \"reason\": \"gpt4o均衡，BuildMate主機板過於高階，記憶體容量不足，SSD容量小。\"\n",
      "      },\n",
      "      \"Agent2\": {\n",
      "        \"gpt4o_score\": 8,\n",
      "        \"buildmate_score\": 6,\n",
      "        \"reason\": \"gpt4o配置均衡，記憶體容量較BuildMate合理; BuildMate主機板規格過高，記憶體不足，SSD容量小。\"\n",
      "      },\n",
      "      \"Agent3\": {\n",
      "        \"gpt4o_score\": 8,\n",
      "        \"buildmate_score\": 5,\n",
      "        \"reason\": \"gpt4o較均衡，記憶體容量符合3D設計需求。BuildMate主機板過高階，記憶體不足，SSD容量小。\"\n",
      "      }\n",
      "    },\n",
      "    {\n",
      "      \"round_number\": 2,\n",
      "      \"Agent1\": {\n",
      "        \"gpt4o_score\": 8,\n",
      "        \"buildmate_score\": 5,\n",
      "        \"reason\": \"gpt4o性價比高，記憶體容量足。BuildMate主機板昂貴，記憶體容量不足，SSD容量小。\"\n",
      "      },\n",
      "      \"Agent2\": {\n",
      "        \"gpt4o_score\": 8,\n",
      "        \"buildmate_score\": 5,\n",
      "        \"reason\": \"gpt4o配置均衡，價格合理。BuildMate主機板價格過高，記憶體和SSD容量不足。\"\n",
      "      },\n",
      "      \"Agent3\": {\n",
      "        \"gpt4o_score\": 8,\n",
      "        \"buildmate_score\": 5,\n",
      "        \"reason\": \"gpt4o性價比高，記憶體容量足。BuildMate主機板昂貴，記憶體容量不足，SSD容量小。\"\n",
      "      }\n",
      "    }\n",
      "  ]\n",
      "}\n"
     ]
    },
    {
     "data": {
      "text/html": [
       "<pre style=\"white-space:pre;overflow-x:auto;line-height:normal;font-family:Menlo,'DejaVu Sans Mono',consolas,'Courier New',monospace\"><span style=\"font-weight: bold\">{</span>\n",
       "    <span style=\"color: #008000; text-decoration-color: #008000\">'question_id'</span>: <span style=\"color: #008080; text-decoration-color: #008080; font-weight: bold\">16</span>,\n",
       "    <span style=\"color: #008000; text-decoration-color: #008000\">'question'</span>: <span style=\"color: #008000; text-decoration-color: #008000\">'我是遊戲開發學生，預算大約85000元，需要一台能處理遊戲開發和渲染的高階機，有沒有好的配置？'</span>,\n",
       "    <span style=\"color: #008000; text-decoration-color: #008000\">'gpt4o_recommendation'</span>: <span style=\"color: #008000; text-decoration-color: #008000\">'CPU: AMD Ryzen 7 5800X | price: 8500\\nMotherboard: 華碩 TUF Gaming B550-PLUS | price: </span>\n",
       "<span style=\"color: #008000; text-decoration-color: #008000\">4500\\nMemory: Corsair Vengeance LPX 32GB (2 x 16GB) DDR4-3200 | price: 3500\\nGPU: NVIDIA GeForce RTX 3060 12GB | </span>\n",
       "<span style=\"color: #008000; text-decoration-color: #008000\">price: 15000\\nStorage: Samsung 970 EVO Plus 1TB NVMe M.2 SSD | price: 3500\\nPower Supply: Cooler Master MWE Gold </span>\n",
       "<span style=\"color: #008000; text-decoration-color: #008000\">750W | price: 3000\\nCase: NZXT H510 | price: 2000\\nCase Fan: Noctua NF-P12 redux-1700 PWM | price: 800\\n總價: </span>\n",
       "<span style=\"color: #008000; text-decoration-color: #008000\">40800'</span>,\n",
       "    <span style=\"color: #008000; text-decoration-color: #008000\">'buildmate_recommendation'</span>: <span style=\"color: #008000; text-decoration-color: #008000\">'CPU: Intel i7-14700F | price: 9700\\nMotherboard: 華碩 PRIME B760M-K </span>\n",
       "<span style=\"color: #008000; text-decoration-color: #008000\">D4-CSM(M-ATX/1A1H/Realtek 1Gb/註冊四年/2DIMM)6+1+1相 | price: 2890\\nMemory: 威剛 單條16GB DDR5 6000 XPG Lancer </span>\n",
       "<span style=\"color: #008000; text-decoration-color: #008000\">Blade(矮版散熱片)/CL48黑【雙參數】 | price: 1349\\nGPU: INTEL 原廠 ARC B580 12G | price: 8990\\nStorage: 威剛 </span>\n",
       "<span style=\"color: #008000; text-decoration-color: #008000\">Ultimate SU800 512G/2.5吋/讀:560M/寫:520M/TLC/DRAM快取/SMI/台灣製 | price: 1499\\nPower Supply: 全漢 HYDRO GT PRO </span>\n",
       "<span style=\"color: #008000; text-decoration-color: #008000\">1000W 雙8/金牌/半模/全日系/10年保 | price: 3690\\nCase: 聯力 PC-O11 Dynamic 白 | price: 2790\\nCase Fan: MSI MEG </span>\n",
       "<span style=\"color: #008000; text-decoration-color: #008000\">SILENT GALE P12 靜音風扇 | price: 790\\n總價: 31698'</span>\n",
       "<span style=\"font-weight: bold\">}</span>\n",
       "</pre>\n"
      ],
      "text/plain": [
       "\u001b[1m{\u001b[0m\n",
       "    \u001b[32m'question_id'\u001b[0m: \u001b[1;36m16\u001b[0m,\n",
       "    \u001b[32m'question'\u001b[0m: \u001b[32m'我是遊戲開發學生，預算大約85000元，需要一台能處理遊戲開發和渲染的高階機，有沒有好的配置？'\u001b[0m,\n",
       "    \u001b[32m'gpt4o_recommendation'\u001b[0m: \u001b[32m'CPU: AMD Ryzen 7 5800X | price: 8500\\nMotherboard: 華碩 TUF Gaming B550-PLUS | price: \u001b[0m\n",
       "\u001b[32m4500\\nMemory: Corsair Vengeance LPX 32GB \u001b[0m\u001b[32m(\u001b[0m\u001b[32m2 x 16GB\u001b[0m\u001b[32m)\u001b[0m\u001b[32m DDR4-3200 | price: 3500\\nGPU: NVIDIA GeForce RTX 3060 12GB | \u001b[0m\n",
       "\u001b[32mprice: 15000\\nStorage: Samsung 970 EVO Plus 1TB NVMe M.2 SSD | price: 3500\\nPower Supply: Cooler Master MWE Gold \u001b[0m\n",
       "\u001b[32m750W | price: 3000\\nCase: NZXT H510 | price: 2000\\nCase Fan: Noctua NF-P12 redux-1700 PWM | price: 800\\n總價: \u001b[0m\n",
       "\u001b[32m40800'\u001b[0m,\n",
       "    \u001b[32m'buildmate_recommendation'\u001b[0m: \u001b[32m'CPU: Intel i7-14700F | price: 9700\\nMotherboard: 華碩 PRIME B760M-K \u001b[0m\n",
       "\u001b[32mD4-CSM\u001b[0m\u001b[32m(\u001b[0m\u001b[32mM-ATX/1A1H/Realtek 1Gb/註冊四年/2DIMM\u001b[0m\u001b[32m)\u001b[0m\u001b[32m6+1+1相 | price: 2890\\nMemory: 威剛 單條16GB DDR5 6000 XPG Lancer \u001b[0m\n",
       "\u001b[32mBlade\u001b[0m\u001b[32m(\u001b[0m\u001b[32m矮版散熱片\u001b[0m\u001b[32m)\u001b[0m\u001b[32m/CL48黑【雙參數】 | price: 1349\\nGPU: INTEL 原廠 ARC B580 12G | price: 8990\\nStorage: 威剛 \u001b[0m\n",
       "\u001b[32mUltimate SU800 512G/2.5吋/讀:560M/寫:520M/TLC/DRAM快取/SMI/台灣製 | price: 1499\\nPower Supply: 全漢 HYDRO GT PRO \u001b[0m\n",
       "\u001b[32m1000W 雙8/金牌/半模/全日系/10年保 | price: 3690\\nCase: 聯力 PC-O11 Dynamic 白 | price: 2790\\nCase Fan: MSI MEG \u001b[0m\n",
       "\u001b[32mSILENT GALE P12 靜音風扇 | price: 790\\n總價: 31698'\u001b[0m\n",
       "\u001b[1m}\u001b[0m\n"
      ]
     },
     "metadata": {},
     "output_type": "display_data"
    },
    {
     "data": {
      "text/html": [
       "<pre style=\"white-space:pre;overflow-x:auto;line-height:normal;font-family:Menlo,'DejaVu Sans Mono',consolas,'Courier New',monospace\">Agent1: <span style=\"font-weight: bold\">[</span>對gpt4o評價<span style=\"font-weight: bold\">]</span>: <span style=\"color: #008080; text-decoration-color: #008080; font-weight: bold\">7</span>\n",
       "<span style=\"font-weight: bold\">[</span>對BuildMate評價<span style=\"font-weight: bold\">]</span>: <span style=\"color: #008080; text-decoration-color: #008080; font-weight: bold\">4</span>\n",
       "<span style=\"font-weight: bold\">[</span>簡短原因<span style=\"font-weight: bold\">]</span>: gpt4o配置較均衡，BuildMate顯卡與CPU不相襯，且記憶體容量不足以應付遊戲開發。\n",
       "\n",
       "</pre>\n"
      ],
      "text/plain": [
       "Agent1: \u001b[1m[\u001b[0m對gpt4o評價\u001b[1m]\u001b[0m: \u001b[1;36m7\u001b[0m\n",
       "\u001b[1m[\u001b[0m對BuildMate評價\u001b[1m]\u001b[0m: \u001b[1;36m4\u001b[0m\n",
       "\u001b[1m[\u001b[0m簡短原因\u001b[1m]\u001b[0m: gpt4o配置較均衡，BuildMate顯卡與CPU不相襯，且記憶體容量不足以應付遊戲開發。\n",
       "\n"
      ]
     },
     "metadata": {},
     "output_type": "display_data"
    },
    {
     "name": "stdout",
     "output_type": "stream",
     "text": [
      "======\n"
     ]
    },
    {
     "data": {
      "text/html": [
       "<pre style=\"white-space:pre;overflow-x:auto;line-height:normal;font-family:Menlo,'DejaVu Sans Mono',consolas,'Courier New',monospace\">Agent2: <span style=\"font-weight: bold\">[</span>對gpt4o評價<span style=\"font-weight: bold\">]</span>: <span style=\"color: #008080; text-decoration-color: #008080; font-weight: bold\">7</span>\n",
       "<span style=\"font-weight: bold\">[</span>對BuildMate評價<span style=\"font-weight: bold\">]</span>: <span style=\"color: #008080; text-decoration-color: #008080; font-weight: bold\">5</span>\n",
       "<span style=\"font-weight: bold\">[</span>簡短原因<span style=\"font-weight: bold\">]</span>: gpt4o整體均衡，BuildMate記憶體不足，B580顯卡效能低於預期預算。\n",
       "\n",
       "</pre>\n"
      ],
      "text/plain": [
       "Agent2: \u001b[1m[\u001b[0m對gpt4o評價\u001b[1m]\u001b[0m: \u001b[1;36m7\u001b[0m\n",
       "\u001b[1m[\u001b[0m對BuildMate評價\u001b[1m]\u001b[0m: \u001b[1;36m5\u001b[0m\n",
       "\u001b[1m[\u001b[0m簡短原因\u001b[1m]\u001b[0m: gpt4o整體均衡，BuildMate記憶體不足，B580顯卡效能低於預期預算。\n",
       "\n"
      ]
     },
     "metadata": {},
     "output_type": "display_data"
    },
    {
     "name": "stdout",
     "output_type": "stream",
     "text": [
      "======\n"
     ]
    },
    {
     "data": {
      "text/html": [
       "<pre style=\"white-space:pre;overflow-x:auto;line-height:normal;font-family:Menlo,'DejaVu Sans Mono',consolas,'Courier New',monospace\">Agent3: <span style=\"font-weight: bold\">[</span>對gpt4o評價<span style=\"font-weight: bold\">]</span>: <span style=\"color: #008080; text-decoration-color: #008080; font-weight: bold\">7</span>\n",
       "<span style=\"font-weight: bold\">[</span>對BuildMate評價<span style=\"font-weight: bold\">]</span>: <span style=\"color: #008080; text-decoration-color: #008080; font-weight: bold\">4</span>\n",
       "<span style=\"font-weight: bold\">[</span>簡短原因<span style=\"font-weight: bold\">]</span>: gpt4o較均衡，BuildMate記憶體不足，且B580效能低於預算預期。\n",
       "\n",
       "</pre>\n"
      ],
      "text/plain": [
       "Agent3: \u001b[1m[\u001b[0m對gpt4o評價\u001b[1m]\u001b[0m: \u001b[1;36m7\u001b[0m\n",
       "\u001b[1m[\u001b[0m對BuildMate評價\u001b[1m]\u001b[0m: \u001b[1;36m4\u001b[0m\n",
       "\u001b[1m[\u001b[0m簡短原因\u001b[1m]\u001b[0m: gpt4o較均衡，BuildMate記憶體不足，且B580效能低於預算預期。\n",
       "\n"
      ]
     },
     "metadata": {},
     "output_type": "display_data"
    },
    {
     "name": "stdout",
     "output_type": "stream",
     "text": [
      "======\n"
     ]
    },
    {
     "data": {
      "text/html": [
       "<pre style=\"white-space:pre;overflow-x:auto;line-height:normal;font-family:Menlo,'DejaVu Sans Mono',consolas,'Courier New',monospace\">Coordinator: 已達成共識， gpt4o較佳。記憶體容量較大，且顯示卡效能更佳，整體配置更均衡，更適合遊戲開發。\n",
       "\n",
       "</pre>\n"
      ],
      "text/plain": [
       "Coordinator: 已達成共識， gpt4o較佳。記憶體容量較大，且顯示卡效能更佳，整體配置更均衡，更適合遊戲開發。\n",
       "\n"
      ]
     },
     "metadata": {},
     "output_type": "display_data"
    },
    {
     "name": "stdout",
     "output_type": "stream",
     "text": [
      "======\n"
     ]
    },
    {
     "data": {
      "text/html": [
       "<pre style=\"white-space:pre;overflow-x:auto;line-height:normal;font-family:Menlo,'DejaVu Sans Mono',consolas,'Courier New',monospace\">Agent1: <span style=\"font-weight: bold\">[</span>對gpt4o評價<span style=\"font-weight: bold\">]</span>: <span style=\"color: #008080; text-decoration-color: #008080; font-weight: bold\">7</span>\n",
       "<span style=\"font-weight: bold\">[</span>對BuildMate評價<span style=\"font-weight: bold\">]</span>: <span style=\"color: #008080; text-decoration-color: #008080; font-weight: bold\">4</span>\n",
       "<span style=\"font-weight: bold\">[</span>簡短原因<span style=\"font-weight: bold\">]</span>: gpt4o 顯示卡效能佳，BuildMate 記憶體不足、B580效能低。\n",
       "\n",
       "</pre>\n"
      ],
      "text/plain": [
       "Agent1: \u001b[1m[\u001b[0m對gpt4o評價\u001b[1m]\u001b[0m: \u001b[1;36m7\u001b[0m\n",
       "\u001b[1m[\u001b[0m對BuildMate評價\u001b[1m]\u001b[0m: \u001b[1;36m4\u001b[0m\n",
       "\u001b[1m[\u001b[0m簡短原因\u001b[1m]\u001b[0m: gpt4o 顯示卡效能佳，BuildMate 記憶體不足、B580效能低。\n",
       "\n"
      ]
     },
     "metadata": {},
     "output_type": "display_data"
    },
    {
     "name": "stdout",
     "output_type": "stream",
     "text": [
      "======\n"
     ]
    },
    {
     "data": {
      "text/html": [
       "<pre style=\"white-space:pre;overflow-x:auto;line-height:normal;font-family:Menlo,'DejaVu Sans Mono',consolas,'Courier New',monospace\">Agent2: <span style=\"font-weight: bold\">[</span>對gpt4o評價<span style=\"font-weight: bold\">]</span>: <span style=\"color: #008080; text-decoration-color: #008080; font-weight: bold\">8</span>\n",
       "<span style=\"font-weight: bold\">[</span>對BuildMate評價<span style=\"font-weight: bold\">]</span>: <span style=\"color: #008080; text-decoration-color: #008080; font-weight: bold\">5</span>\n",
       "<span style=\"font-weight: bold\">[</span>簡短原因<span style=\"font-weight: bold\">]</span>: gpt4o 3060效能遠勝B580，BuildMate記憶體不足、PSU瓦數過剩。\n",
       "\n",
       "</pre>\n"
      ],
      "text/plain": [
       "Agent2: \u001b[1m[\u001b[0m對gpt4o評價\u001b[1m]\u001b[0m: \u001b[1;36m8\u001b[0m\n",
       "\u001b[1m[\u001b[0m對BuildMate評價\u001b[1m]\u001b[0m: \u001b[1;36m5\u001b[0m\n",
       "\u001b[1m[\u001b[0m簡短原因\u001b[1m]\u001b[0m: gpt4o 3060效能遠勝B580，BuildMate記憶體不足、PSU瓦數過剩。\n",
       "\n"
      ]
     },
     "metadata": {},
     "output_type": "display_data"
    },
    {
     "name": "stdout",
     "output_type": "stream",
     "text": [
      "======\n"
     ]
    },
    {
     "data": {
      "text/html": [
       "<pre style=\"white-space:pre;overflow-x:auto;line-height:normal;font-family:Menlo,'DejaVu Sans Mono',consolas,'Courier New',monospace\">Agent3: <span style=\"font-weight: bold\">[</span>對gpt4o評價<span style=\"font-weight: bold\">]</span>: <span style=\"color: #008080; text-decoration-color: #008080; font-weight: bold\">7</span>\n",
       "<span style=\"font-weight: bold\">[</span>對BuildMate評價<span style=\"font-weight: bold\">]</span>: <span style=\"color: #008080; text-decoration-color: #008080; font-weight: bold\">4</span>\n",
       "<span style=\"font-weight: bold\">[</span>簡短原因<span style=\"font-weight: bold\">]</span>: gpt4o的3060更適合遊戲開發，BuildMate記憶體不足、B580效能低。\n",
       "\n",
       "</pre>\n"
      ],
      "text/plain": [
       "Agent3: \u001b[1m[\u001b[0m對gpt4o評價\u001b[1m]\u001b[0m: \u001b[1;36m7\u001b[0m\n",
       "\u001b[1m[\u001b[0m對BuildMate評價\u001b[1m]\u001b[0m: \u001b[1;36m4\u001b[0m\n",
       "\u001b[1m[\u001b[0m簡短原因\u001b[1m]\u001b[0m: gpt4o的3060更適合遊戲開發，BuildMate記憶體不足、B580效能低。\n",
       "\n"
      ]
     },
     "metadata": {},
     "output_type": "display_data"
    },
    {
     "name": "stdout",
     "output_type": "stream",
     "text": [
      "======\n"
     ]
    },
    {
     "data": {
      "text/html": [
       "<pre style=\"white-space:pre;overflow-x:auto;line-height:normal;font-family:Menlo,'DejaVu Sans Mono',consolas,'Courier New',monospace\">Coordinator: \n",
       "已達成共識，gpt4o較佳。gpt4o的3060顯示卡效能明顯優於BuildMate的B580，且記憶體容量也更符合遊戲開發需求。雖然BuildMat\n",
       "e價格較低，但在關鍵效能方面不足。\n",
       "\n",
       "</pre>\n"
      ],
      "text/plain": [
       "Coordinator: \n",
       "已達成共識，gpt4o較佳。gpt4o的3060顯示卡效能明顯優於BuildMate的B580，且記憶體容量也更符合遊戲開發需求。雖然BuildMat\n",
       "e價格較低，但在關鍵效能方面不足。\n",
       "\n"
      ]
     },
     "metadata": {},
     "output_type": "display_data"
    },
    {
     "name": "stdout",
     "output_type": "stream",
     "text": [
      "======\n",
      "{'Coordinator': {'messages': [HumanMessage(content='Agent1: [對gpt4o評價]: 7\\n[對BuildMate評價]: 4\\n[簡短原因]: gpt4o配置較均衡，BuildMate顯卡與CPU不相襯，且記憶體容量不足以應付遊戲開發。\\n', additional_kwargs={}, response_metadata={}), HumanMessage(content='Agent2: [對gpt4o評價]: 7\\n[對BuildMate評價]: 5\\n[簡短原因]: gpt4o整體均衡，BuildMate記憶體不足，B580顯卡效能低於預期預算。\\n', additional_kwargs={}, response_metadata={}), HumanMessage(content='Agent3: [對gpt4o評價]: 7\\n[對BuildMate評價]: 4\\n[簡短原因]: gpt4o較均衡，BuildMate記憶體不足，且B580效能低於預算預期。\\n', additional_kwargs={}, response_metadata={}), HumanMessage(content='Coordinator: 已達成共識， gpt4o較佳。記憶體容量較大，且顯示卡效能更佳，整體配置更均衡，更適合遊戲開發。\\n', additional_kwargs={}, response_metadata={}), HumanMessage(content='Agent1: [對gpt4o評價]: 7\\n[對BuildMate評價]: 4\\n[簡短原因]: gpt4o 顯示卡效能佳，BuildMate 記憶體不足、B580效能低。\\n', additional_kwargs={}, response_metadata={}), HumanMessage(content='Agent2: [對gpt4o評價]: 8\\n[對BuildMate評價]: 5\\n[簡短原因]: gpt4o 3060效能遠勝B580，BuildMate記憶體不足、PSU瓦數過剩。\\n', additional_kwargs={}, response_metadata={}), HumanMessage(content='Agent3: [對gpt4o評價]: 7\\n[對BuildMate評價]: 4\\n[簡短原因]: gpt4o的3060更適合遊戲開發，BuildMate記憶體不足、B580效能低。\\n', additional_kwargs={}, response_metadata={}), HumanMessage(content='Coordinator: 已達成共識，gpt4o較佳。gpt4o的3060顯示卡效能明顯優於BuildMate的B580，且記憶體容量也更符合遊戲開發需求。雖然BuildMate價格較低，但在關鍵效能方面不足。\\n', additional_kwargs={}, response_metadata={})], 'next_agent': '__end__', 'question_id': 16, 'question': '我是遊戲開發學生，預算大約85000元，需要一台能處理遊戲開發和渲染的高階機，有沒有好的配置？', 'gpt4o_recommendation': 'CPU: AMD Ryzen 7 5800X | price: 8500\\nMotherboard: 華碩 TUF Gaming B550-PLUS | price: 4500\\nMemory: Corsair Vengeance LPX 32GB (2 x 16GB) DDR4-3200 | price: 3500\\nGPU: NVIDIA GeForce RTX 3060 12GB | price: 15000\\nStorage: Samsung 970 EVO Plus 1TB NVMe M.2 SSD | price: 3500\\nPower Supply: Cooler Master MWE Gold 750W | price: 3000\\nCase: NZXT H510 | price: 2000\\nCase Fan: Noctua NF-P12 redux-1700 PWM | price: 800\\n總價: 40800', 'buildmate_recommendation': 'CPU: Intel i7-14700F | price: 9700\\nMotherboard: 華碩 PRIME B760M-K D4-CSM(M-ATX/1A1H/Realtek 1Gb/註冊四年/2DIMM)6+1+1相 | price: 2890\\nMemory: 威剛 單條16GB DDR5 6000 XPG Lancer Blade(矮版散熱片)/CL48黑【雙參數】 | price: 1349\\nGPU: INTEL 原廠 ARC B580 12G | price: 8990\\nStorage: 威剛 Ultimate SU800 512G/2.5吋/讀:560M/寫:520M/TLC/DRAM快取/SMI/台灣製 | price: 1499\\nPower Supply: 全漢 HYDRO GT PRO 1000W 雙8/金牌/半模/全日系/10年保 | price: 3690\\nCase: 聯力 PC-O11 Dynamic 白 | price: 2790\\nCase Fan: MSI MEG SILENT GALE P12 靜音風扇 | price: 790\\n總價: 31698', 'agent_scores': {'Agent1_round1': {'gpt4o_score': 7, 'buildmate_score': 4, 'reason': 'gpt4o配置較均衡，BuildMate顯卡與CPU不相襯，且記憶體容量不足以應付遊戲開發。'}, 'Agent2_round1': {'gpt4o_score': 7, 'buildmate_score': 5, 'reason': 'gpt4o整體均衡，BuildMate記憶體不足，B580顯卡效能低於預期預算。'}, 'Agent3_round1': {'gpt4o_score': 7, 'buildmate_score': 4, 'reason': 'gpt4o較均衡，BuildMate記憶體不足，且B580效能低於預算預期。'}, 'Agent1_round2': {'gpt4o_score': 7, 'buildmate_score': 4, 'reason': 'gpt4o 顯示卡效能佳，BuildMate 記憶體不足、B580效能低。'}, 'Agent2_round2': {'gpt4o_score': 8, 'buildmate_score': 5, 'reason': 'gpt4o 3060效能遠勝B580，BuildMate記憶體不足、PSU瓦數過剩。'}, 'Agent3_round2': {'gpt4o_score': 7, 'buildmate_score': 4, 'reason': 'gpt4o的3060更適合遊戲開發，BuildMate記憶體不足、B580效能低。'}}, 'round_count': 2, 'max_rounds': 3, 'consensus_reached': True}}\n",
      "{\n",
      "  \"question_id\": 16,\n",
      "  \"question\": \"我是遊戲開發學生，預算大約85000元，需要一台能處理遊戲開發和渲染的高階機，有沒有好的配置？\",\n",
      "  \"buildmate_recommendation\": \"CPU: Intel i7-14700F | price: 9700\\nMotherboard: 華碩 PRIME B760M-K D4-CSM(M-ATX/1A1H/Realtek 1Gb/註冊四年/2DIMM)6+1+1相 | price: 2890\\nMemory: 威剛 單條16GB DDR5 6000 XPG Lancer Blade(矮版散熱片)/CL48黑【雙參數】 | price: 1349\\nGPU: INTEL 原廠 ARC B580 12G | price: 8990\\nStorage: 威剛 Ultimate SU800 512G/2.5吋/讀:560M/寫:520M/TLC/DRAM快取/SMI/台灣製 | price: 1499\\nPower Supply: 全漢 HYDRO GT PRO 1000W 雙8/金牌/半模/全日系/10年保 | price: 3690\\nCase: 聯力 PC-O11 Dynamic 白 | price: 2790\\nCase Fan: MSI MEG SILENT GALE P12 靜音風扇 | price: 790\\n總價: 31698\",\n",
      "  \"gpt4o_recommendation\": \"CPU: AMD Ryzen 7 5800X | price: 8500\\nMotherboard: 華碩 TUF Gaming B550-PLUS | price: 4500\\nMemory: Corsair Vengeance LPX 32GB (2 x 16GB) DDR4-3200 | price: 3500\\nGPU: NVIDIA GeForce RTX 3060 12GB | price: 15000\\nStorage: Samsung 970 EVO Plus 1TB NVMe M.2 SSD | price: 3500\\nPower Supply: Cooler Master MWE Gold 750W | price: 3000\\nCase: NZXT H510 | price: 2000\\nCase Fan: Noctua NF-P12 redux-1700 PWM | price: 800\\n總價: 40800\",\n",
      "  \"winner\": 0,\n",
      "  \"buildmate_avg_score\": 4.333333333333333,\n",
      "  \"gpt4o_avg_score\": 7.166666666666667,\n",
      "  \"rounds\": [\n",
      "    {\n",
      "      \"round_number\": 1,\n",
      "      \"Agent1\": {\n",
      "        \"gpt4o_score\": 7,\n",
      "        \"buildmate_score\": 4,\n",
      "        \"reason\": \"gpt4o配置較均衡，BuildMate顯卡與CPU不相襯，且記憶體容量不足以應付遊戲開發。\"\n",
      "      },\n",
      "      \"Agent2\": {\n",
      "        \"gpt4o_score\": 7,\n",
      "        \"buildmate_score\": 5,\n",
      "        \"reason\": \"gpt4o整體均衡，BuildMate記憶體不足，B580顯卡效能低於預期預算。\"\n",
      "      },\n",
      "      \"Agent3\": {\n",
      "        \"gpt4o_score\": 7,\n",
      "        \"buildmate_score\": 4,\n",
      "        \"reason\": \"gpt4o較均衡，BuildMate記憶體不足，且B580效能低於預算預期。\"\n",
      "      }\n",
      "    },\n",
      "    {\n",
      "      \"round_number\": 2,\n",
      "      \"Agent1\": {\n",
      "        \"gpt4o_score\": 7,\n",
      "        \"buildmate_score\": 4,\n",
      "        \"reason\": \"gpt4o 顯示卡效能佳，BuildMate 記憶體不足、B580效能低。\"\n",
      "      },\n",
      "      \"Agent2\": {\n",
      "        \"gpt4o_score\": 8,\n",
      "        \"buildmate_score\": 5,\n",
      "        \"reason\": \"gpt4o 3060效能遠勝B580，BuildMate記憶體不足、PSU瓦數過剩。\"\n",
      "      },\n",
      "      \"Agent3\": {\n",
      "        \"gpt4o_score\": 7,\n",
      "        \"buildmate_score\": 4,\n",
      "        \"reason\": \"gpt4o的3060更適合遊戲開發，BuildMate記憶體不足、B580效能低。\"\n",
      "      }\n",
      "    }\n",
      "  ]\n",
      "}\n"
     ]
    },
    {
     "data": {
      "text/html": [
       "<pre style=\"white-space:pre;overflow-x:auto;line-height:normal;font-family:Menlo,'DejaVu Sans Mono',consolas,'Courier New',monospace\"><span style=\"font-weight: bold\">{</span>\n",
       "    <span style=\"color: #008000; text-decoration-color: #008000\">'question_id'</span>: <span style=\"color: #008080; text-decoration-color: #008080; font-weight: bold\">17</span>,\n",
       "    <span style=\"color: #008000; text-decoration-color: #008000\">'question'</span>: <span style=\"color: #008000; text-decoration-color: #008000\">'預算30000元內，請問有適合辦公和輕度Photoshop使用的電腦配置嗎？'</span>,\n",
       "    <span style=\"color: #008000; text-decoration-color: #008000\">'gpt4o_recommendation'</span>: <span style=\"color: #008000; text-decoration-color: #008000\">'CPU: Intel i5-11400 | price: 5300\\nMotherboard: 華碩 PRIME B560M-A (M-ATX/Realtek </span>\n",
       "<span style=\"color: #008000; text-decoration-color: #008000\">1Gb/支援DDR4) | price: 2990\\nMemory: 威剛 單條16GB DDR4-3200 (AD4U320016G22) | price: 1090\\nGPU: 華碩 GeForce GTX </span>\n",
       "<span style=\"color: #008000; text-decoration-color: #008000\">1650 4GB | price: 5990\\nStorage: 西部數據 WD Blue 500GB M.2 NVMe SSD | price: 1390\\nPower Supply: 海韻 VS500 (500W)</span>\n",
       "<span style=\"color: #008000; text-decoration-color: #008000\">80 PLUS | price: 1290\\nCase: Cooler Master Q300L | price: 1290\\nCase Fan: Cooler Master SickleFlow 120 V2 | price: </span>\n",
       "<span style=\"color: #008000; text-decoration-color: #008000\">490\\n總價: 19830'</span>,\n",
       "    <span style=\"color: #008000; text-decoration-color: #008000\">'buildmate_recommendation'</span>: <span style=\"color: #008000; text-decoration-color: #008000\">'CPU: Intel i5-14400F | price: 5400\\nMotherboard: 華碩 PRIME H610M-K-CSM(DDR5) | </span>\n",
       "<span style=\"color: #008000; text-decoration-color: #008000\">price: 2890\\nMemory: UMAX 單條16GB DDR5-4800/CL40 支援 XMP | price: 1150\\nGPU: Acer Nitro Intel ARC B580 OC 12GB | </span>\n",
       "<span style=\"color: #008000; text-decoration-color: #008000\">price: 8690\\nStorage: 威剛 Ultimate SU650 480G/2.5吋/讀:520M/寫:450M/TLC顆粒 | price: 899\\nPower Supply: 全漢 HYDRO</span>\n",
       "<span style=\"color: #008000; text-decoration-color: #008000\">GT PRO 1000W 雙8/金牌/半模/全日系/10年保 | price: 3690\\nCase: 銀欣 RL08 紅黑 | price: 1290\\nCase Fan: 安耐美 靜蝠 </span>\n",
       "<span style=\"color: #008000; text-decoration-color: #008000\">12cm 磁力滾珠軸承 | price: 230\\n總價: 24239'</span>\n",
       "<span style=\"font-weight: bold\">}</span>\n",
       "</pre>\n"
      ],
      "text/plain": [
       "\u001b[1m{\u001b[0m\n",
       "    \u001b[32m'question_id'\u001b[0m: \u001b[1;36m17\u001b[0m,\n",
       "    \u001b[32m'question'\u001b[0m: \u001b[32m'預算30000元內，請問有適合辦公和輕度Photoshop使用的電腦配置嗎？'\u001b[0m,\n",
       "    \u001b[32m'gpt4o_recommendation'\u001b[0m: \u001b[32m'CPU: Intel i5-11400 | price: 5300\\nMotherboard: 華碩 PRIME B560M-A \u001b[0m\u001b[32m(\u001b[0m\u001b[32mM-ATX/Realtek \u001b[0m\n",
       "\u001b[32m1Gb/支援DDR4\u001b[0m\u001b[32m)\u001b[0m\u001b[32m | price: 2990\\nMemory: 威剛 單條16GB DDR4-3200 \u001b[0m\u001b[32m(\u001b[0m\u001b[32mAD4U320016G22\u001b[0m\u001b[32m)\u001b[0m\u001b[32m | price: 1090\\nGPU: 華碩 GeForce GTX \u001b[0m\n",
       "\u001b[32m1650 4GB | price: 5990\\nStorage: 西部數據 WD Blue 500GB M.2 NVMe SSD | price: 1390\\nPower Supply: 海韻 VS500 \u001b[0m\u001b[32m(\u001b[0m\u001b[32m500W\u001b[0m\u001b[32m)\u001b[0m\n",
       "\u001b[32m80 PLUS | price: 1290\\nCase: Cooler Master Q300L | price: 1290\\nCase Fan: Cooler Master SickleFlow 120 V2 | price: \u001b[0m\n",
       "\u001b[32m490\\n總價: 19830'\u001b[0m,\n",
       "    \u001b[32m'buildmate_recommendation'\u001b[0m: \u001b[32m'CPU: Intel i5-14400F | price: 5400\\nMotherboard: 華碩 PRIME H610M-K-CSM\u001b[0m\u001b[32m(\u001b[0m\u001b[32mDDR5\u001b[0m\u001b[32m)\u001b[0m\u001b[32m | \u001b[0m\n",
       "\u001b[32mprice: 2890\\nMemory: UMAX 單條16GB DDR5-4800/CL40 支援 XMP | price: 1150\\nGPU: Acer Nitro Intel ARC B580 OC 12GB | \u001b[0m\n",
       "\u001b[32mprice: 8690\\nStorage: 威剛 Ultimate SU650 480G/2.5吋/讀:520M/寫:450M/TLC顆粒 | price: 899\\nPower Supply: 全漢 HYDRO\u001b[0m\n",
       "\u001b[32mGT PRO 1000W 雙8/金牌/半模/全日系/10年保 | price: 3690\\nCase: 銀欣 RL08 紅黑 | price: 1290\\nCase Fan: 安耐美 靜蝠 \u001b[0m\n",
       "\u001b[32m12cm 磁力滾珠軸承 | price: 230\\n總價: 24239'\u001b[0m\n",
       "\u001b[1m}\u001b[0m\n"
      ]
     },
     "metadata": {},
     "output_type": "display_data"
    },
    {
     "data": {
      "text/html": [
       "<pre style=\"white-space:pre;overflow-x:auto;line-height:normal;font-family:Menlo,'DejaVu Sans Mono',consolas,'Courier New',monospace\">Agent1: <span style=\"font-weight: bold\">[</span>對gpt4o評價<span style=\"font-weight: bold\">]</span>: <span style=\"color: #008080; text-decoration-color: #008080; font-weight: bold\">7</span>\n",
       "<span style=\"font-weight: bold\">[</span>對BuildMate評價<span style=\"font-weight: bold\">]</span>: <span style=\"color: #008080; text-decoration-color: #008080; font-weight: bold\">5</span>\n",
       "<span style=\"font-weight: bold\">[</span>簡短原因<span style=\"font-weight: bold\">]</span>: gpt4o均衡，價格合理。BuildMate電源瓦數過高，B580驅動不成熟，SSD速度慢。\n",
       "\n",
       "</pre>\n"
      ],
      "text/plain": [
       "Agent1: \u001b[1m[\u001b[0m對gpt4o評價\u001b[1m]\u001b[0m: \u001b[1;36m7\u001b[0m\n",
       "\u001b[1m[\u001b[0m對BuildMate評價\u001b[1m]\u001b[0m: \u001b[1;36m5\u001b[0m\n",
       "\u001b[1m[\u001b[0m簡短原因\u001b[1m]\u001b[0m: gpt4o均衡，價格合理。BuildMate電源瓦數過高，B580驅動不成熟，SSD速度慢。\n",
       "\n"
      ]
     },
     "metadata": {},
     "output_type": "display_data"
    },
    {
     "name": "stdout",
     "output_type": "stream",
     "text": [
      "======\n"
     ]
    },
    {
     "data": {
      "text/html": [
       "<pre style=\"white-space:pre;overflow-x:auto;line-height:normal;font-family:Menlo,'DejaVu Sans Mono',consolas,'Courier New',monospace\">Agent2: <span style=\"font-weight: bold\">[</span>對gpt4o評價<span style=\"font-weight: bold\">]</span>: <span style=\"color: #008080; text-decoration-color: #008080; font-weight: bold\">8</span>\n",
       "<span style=\"font-weight: bold\">[</span>對BuildMate評價<span style=\"font-weight: bold\">]</span>: <span style=\"color: #008080; text-decoration-color: #008080; font-weight: bold\">5</span>\n",
       "<span style=\"font-weight: bold\">[</span>簡短原因<span style=\"font-weight: bold\">]</span>: gpt4o配置均衡，價格合理。BuildMate顯卡驅動不成熟，電源瓦數過高，SSD速度慢。\n",
       "\n",
       "</pre>\n"
      ],
      "text/plain": [
       "Agent2: \u001b[1m[\u001b[0m對gpt4o評價\u001b[1m]\u001b[0m: \u001b[1;36m8\u001b[0m\n",
       "\u001b[1m[\u001b[0m對BuildMate評價\u001b[1m]\u001b[0m: \u001b[1;36m5\u001b[0m\n",
       "\u001b[1m[\u001b[0m簡短原因\u001b[1m]\u001b[0m: gpt4o配置均衡，價格合理。BuildMate顯卡驅動不成熟，電源瓦數過高，SSD速度慢。\n",
       "\n"
      ]
     },
     "metadata": {},
     "output_type": "display_data"
    },
    {
     "name": "stdout",
     "output_type": "stream",
     "text": [
      "======\n"
     ]
    },
    {
     "data": {
      "text/html": [
       "<pre style=\"white-space:pre;overflow-x:auto;line-height:normal;font-family:Menlo,'DejaVu Sans Mono',consolas,'Courier New',monospace\">Agent3: <span style=\"font-weight: bold\">[</span>對gpt4o評價<span style=\"font-weight: bold\">]</span>: <span style=\"color: #008080; text-decoration-color: #008080; font-weight: bold\">8</span>\n",
       "<span style=\"font-weight: bold\">[</span>對BuildMate評價<span style=\"font-weight: bold\">]</span>: <span style=\"color: #008080; text-decoration-color: #008080; font-weight: bold\">4</span>\n",
       "<span style=\"font-weight: bold\">[</span>簡短原因<span style=\"font-weight: bold\">]</span>: gpt4o配置合理，價格適中。BuildMate電源瓦數過高，B580驅動不成熟，SSD速度慢，不符合輕度使用需求。\n",
       "\n",
       "</pre>\n"
      ],
      "text/plain": [
       "Agent3: \u001b[1m[\u001b[0m對gpt4o評價\u001b[1m]\u001b[0m: \u001b[1;36m8\u001b[0m\n",
       "\u001b[1m[\u001b[0m對BuildMate評價\u001b[1m]\u001b[0m: \u001b[1;36m4\u001b[0m\n",
       "\u001b[1m[\u001b[0m簡短原因\u001b[1m]\u001b[0m: gpt4o配置合理，價格適中。BuildMate電源瓦數過高，B580驅動不成熟，SSD速度慢，不符合輕度使用需求。\n",
       "\n"
      ]
     },
     "metadata": {},
     "output_type": "display_data"
    },
    {
     "name": "stdout",
     "output_type": "stream",
     "text": [
      "======\n"
     ]
    },
    {
     "data": {
      "text/html": [
       "<pre style=\"white-space:pre;overflow-x:auto;line-height:normal;font-family:Menlo,'DejaVu Sans Mono',consolas,'Courier New',monospace\">Coordinator: 已達成共識，gpt4o較佳。配置均衡價格合理，反觀BuildMate電源瓦數過高、B580驅動不成熟、SSD速度慢等問題。\n",
       "\n",
       "</pre>\n"
      ],
      "text/plain": [
       "Coordinator: 已達成共識，gpt4o較佳。配置均衡價格合理，反觀BuildMate電源瓦數過高、B580驅動不成熟、SSD速度慢等問題。\n",
       "\n"
      ]
     },
     "metadata": {},
     "output_type": "display_data"
    },
    {
     "name": "stdout",
     "output_type": "stream",
     "text": [
      "======\n"
     ]
    },
    {
     "data": {
      "text/html": [
       "<pre style=\"white-space:pre;overflow-x:auto;line-height:normal;font-family:Menlo,'DejaVu Sans Mono',consolas,'Courier New',monospace\">Agent1: <span style=\"font-weight: bold\">[</span>對gpt4o評價<span style=\"font-weight: bold\">]</span>: <span style=\"color: #008080; text-decoration-color: #008080; font-weight: bold\">8</span>\n",
       "<span style=\"font-weight: bold\">[</span>對BuildMate評價<span style=\"font-weight: bold\">]</span>: <span style=\"color: #008080; text-decoration-color: #008080; font-weight: bold\">5</span>\n",
       "<span style=\"font-weight: bold\">[</span>簡短原因<span style=\"font-weight: bold\">]</span>: gpt4o性價比高，均衡穩定。BuildMate電源過剩，B580驅動仍有疑慮，SATA SSD效能瓶頸。\n",
       "\n",
       "</pre>\n"
      ],
      "text/plain": [
       "Agent1: \u001b[1m[\u001b[0m對gpt4o評價\u001b[1m]\u001b[0m: \u001b[1;36m8\u001b[0m\n",
       "\u001b[1m[\u001b[0m對BuildMate評價\u001b[1m]\u001b[0m: \u001b[1;36m5\u001b[0m\n",
       "\u001b[1m[\u001b[0m簡短原因\u001b[1m]\u001b[0m: gpt4o性價比高，均衡穩定。BuildMate電源過剩，B580驅動仍有疑慮，SATA SSD效能瓶頸。\n",
       "\n"
      ]
     },
     "metadata": {},
     "output_type": "display_data"
    },
    {
     "name": "stdout",
     "output_type": "stream",
     "text": [
      "======\n"
     ]
    },
    {
     "data": {
      "text/html": [
       "<pre style=\"white-space:pre;overflow-x:auto;line-height:normal;font-family:Menlo,'DejaVu Sans Mono',consolas,'Courier New',monospace\">Agent2: <span style=\"font-weight: bold\">[</span>對gpt4o評價<span style=\"font-weight: bold\">]</span>: <span style=\"color: #008080; text-decoration-color: #008080; font-weight: bold\">8</span>\n",
       "<span style=\"font-weight: bold\">[</span>對BuildMate評價<span style=\"font-weight: bold\">]</span>: <span style=\"color: #008080; text-decoration-color: #008080; font-weight: bold\">4</span>\n",
       "<span style=\"font-weight: bold\">[</span>簡短原因<span style=\"font-weight: bold\">]</span>: gpt4o配置均衡，價格合理。BuildMate顯卡驅動不成熟，電源瓦數過高，SSD速度慢。\n",
       "\n",
       "</pre>\n"
      ],
      "text/plain": [
       "Agent2: \u001b[1m[\u001b[0m對gpt4o評價\u001b[1m]\u001b[0m: \u001b[1;36m8\u001b[0m\n",
       "\u001b[1m[\u001b[0m對BuildMate評價\u001b[1m]\u001b[0m: \u001b[1;36m4\u001b[0m\n",
       "\u001b[1m[\u001b[0m簡短原因\u001b[1m]\u001b[0m: gpt4o配置均衡，價格合理。BuildMate顯卡驅動不成熟，電源瓦數過高，SSD速度慢。\n",
       "\n"
      ]
     },
     "metadata": {},
     "output_type": "display_data"
    },
    {
     "name": "stdout",
     "output_type": "stream",
     "text": [
      "======\n"
     ]
    },
    {
     "data": {
      "text/html": [
       "<pre style=\"white-space:pre;overflow-x:auto;line-height:normal;font-family:Menlo,'DejaVu Sans Mono',consolas,'Courier New',monospace\">Agent3: <span style=\"font-weight: bold\">[</span>對gpt4o評價<span style=\"font-weight: bold\">]</span>: <span style=\"color: #008080; text-decoration-color: #008080; font-weight: bold\">9</span>\n",
       "<span style=\"font-weight: bold\">[</span>對BuildMate評價<span style=\"font-weight: bold\">]</span>: <span style=\"color: #008080; text-decoration-color: #008080; font-weight: bold\">4</span>\n",
       "<span style=\"font-weight: bold\">[</span>簡短原因<span style=\"font-weight: bold\">]</span>: gpt4o性價比高，滿足需求。BuildMate電源過剩，B580驅動仍有疑慮，SATA SSD效能落後。\n",
       "\n",
       "</pre>\n"
      ],
      "text/plain": [
       "Agent3: \u001b[1m[\u001b[0m對gpt4o評價\u001b[1m]\u001b[0m: \u001b[1;36m9\u001b[0m\n",
       "\u001b[1m[\u001b[0m對BuildMate評價\u001b[1m]\u001b[0m: \u001b[1;36m4\u001b[0m\n",
       "\u001b[1m[\u001b[0m簡短原因\u001b[1m]\u001b[0m: gpt4o性價比高，滿足需求。BuildMate電源過剩，B580驅動仍有疑慮，SATA SSD效能落後。\n",
       "\n"
      ]
     },
     "metadata": {},
     "output_type": "display_data"
    },
    {
     "name": "stdout",
     "output_type": "stream",
     "text": [
      "======\n"
     ]
    },
    {
     "data": {
      "text/html": [
       "<pre style=\"white-space:pre;overflow-x:auto;line-height:normal;font-family:Menlo,'DejaVu Sans Mono',consolas,'Courier New',monospace\">Coordinator: 已達成共識，gpt4o較佳。價格更低且配置均衡，BuildMate的電源瓦數過高、B580驅動仍有疑慮、SATA \n",
       "SSD效能較慢。\n",
       "\n",
       "</pre>\n"
      ],
      "text/plain": [
       "Coordinator: 已達成共識，gpt4o較佳。價格更低且配置均衡，BuildMate的電源瓦數過高、B580驅動仍有疑慮、SATA \n",
       "SSD效能較慢。\n",
       "\n"
      ]
     },
     "metadata": {},
     "output_type": "display_data"
    },
    {
     "name": "stdout",
     "output_type": "stream",
     "text": [
      "======\n",
      "{'Coordinator': {'messages': [HumanMessage(content='Agent1: [對gpt4o評價]: 7\\n[對BuildMate評價]: 5\\n[簡短原因]: gpt4o均衡，價格合理。BuildMate電源瓦數過高，B580驅動不成熟，SSD速度慢。\\n', additional_kwargs={}, response_metadata={}), HumanMessage(content='Agent2: [對gpt4o評價]: 8\\n[對BuildMate評價]: 5\\n[簡短原因]: gpt4o配置均衡，價格合理。BuildMate顯卡驅動不成熟，電源瓦數過高，SSD速度慢。\\n', additional_kwargs={}, response_metadata={}), HumanMessage(content='Agent3: [對gpt4o評價]: 8\\n[對BuildMate評價]: 4\\n[簡短原因]: gpt4o配置合理，價格適中。BuildMate電源瓦數過高，B580驅動不成熟，SSD速度慢，不符合輕度使用需求。\\n', additional_kwargs={}, response_metadata={}), HumanMessage(content='Coordinator: 已達成共識，gpt4o較佳。配置均衡價格合理，反觀BuildMate電源瓦數過高、B580驅動不成熟、SSD速度慢等問題。\\n', additional_kwargs={}, response_metadata={}), HumanMessage(content='Agent1: [對gpt4o評價]: 8\\n[對BuildMate評價]: 5\\n[簡短原因]: gpt4o性價比高，均衡穩定。BuildMate電源過剩，B580驅動仍有疑慮，SATA SSD效能瓶頸。\\n', additional_kwargs={}, response_metadata={}), HumanMessage(content='Agent2: [對gpt4o評價]: 8\\n[對BuildMate評價]: 4\\n[簡短原因]: gpt4o配置均衡，價格合理。BuildMate顯卡驅動不成熟，電源瓦數過高，SSD速度慢。\\n', additional_kwargs={}, response_metadata={}), HumanMessage(content='Agent3: [對gpt4o評價]: 9\\n[對BuildMate評價]: 4\\n[簡短原因]: gpt4o性價比高，滿足需求。BuildMate電源過剩，B580驅動仍有疑慮，SATA SSD效能落後。\\n', additional_kwargs={}, response_metadata={}), HumanMessage(content='Coordinator: 已達成共識，gpt4o較佳。價格更低且配置均衡，BuildMate的電源瓦數過高、B580驅動仍有疑慮、SATA SSD效能較慢。\\n', additional_kwargs={}, response_metadata={})], 'next_agent': '__end__', 'question_id': 17, 'question': '預算30000元內，請問有適合辦公和輕度Photoshop使用的電腦配置嗎？', 'gpt4o_recommendation': 'CPU: Intel i5-11400 | price: 5300\\nMotherboard: 華碩 PRIME B560M-A (M-ATX/Realtek 1Gb/支援DDR4) | price: 2990\\nMemory: 威剛 單條16GB DDR4-3200 (AD4U320016G22) | price: 1090\\nGPU: 華碩 GeForce GTX 1650 4GB | price: 5990\\nStorage: 西部數據 WD Blue 500GB M.2 NVMe SSD | price: 1390\\nPower Supply: 海韻 VS500 (500W) 80 PLUS | price: 1290\\nCase: Cooler Master Q300L | price: 1290\\nCase Fan: Cooler Master SickleFlow 120 V2 | price: 490\\n總價: 19830', 'buildmate_recommendation': 'CPU: Intel i5-14400F | price: 5400\\nMotherboard: 華碩 PRIME H610M-K-CSM(DDR5) | price: 2890\\nMemory: UMAX 單條16GB DDR5-4800/CL40 支援 XMP | price: 1150\\nGPU: Acer Nitro Intel ARC B580 OC 12GB | price: 8690\\nStorage: 威剛 Ultimate SU650 480G/2.5吋/讀:520M/寫:450M/TLC顆粒 | price: 899\\nPower Supply: 全漢 HYDRO GT PRO 1000W 雙8/金牌/半模/全日系/10年保 | price: 3690\\nCase: 銀欣 RL08 紅黑 | price: 1290\\nCase Fan: 安耐美 靜蝠 12cm 磁力滾珠軸承 | price: 230\\n總價: 24239', 'agent_scores': {'Agent1_round1': {'gpt4o_score': 7, 'buildmate_score': 5, 'reason': 'gpt4o均衡，價格合理。BuildMate電源瓦數過高，B580驅動不成熟，SSD速度慢。'}, 'Agent2_round1': {'gpt4o_score': 8, 'buildmate_score': 5, 'reason': 'gpt4o配置均衡，價格合理。BuildMate顯卡驅動不成熟，電源瓦數過高，SSD速度慢。'}, 'Agent3_round1': {'gpt4o_score': 8, 'buildmate_score': 4, 'reason': 'gpt4o配置合理，價格適中。BuildMate電源瓦數過高，B580驅動不成熟，SSD速度慢，不符合輕度使用需求。'}, 'Agent1_round2': {'gpt4o_score': 8, 'buildmate_score': 5, 'reason': 'gpt4o性價比高，均衡穩定。BuildMate電源過剩，B580驅動仍有疑慮，SATA SSD效能瓶頸。'}, 'Agent2_round2': {'gpt4o_score': 8, 'buildmate_score': 4, 'reason': 'gpt4o配置均衡，價格合理。BuildMate顯卡驅動不成熟，電源瓦數過高，SSD速度慢。'}, 'Agent3_round2': {'gpt4o_score': 9, 'buildmate_score': 4, 'reason': 'gpt4o性價比高，滿足需求。BuildMate電源過剩，B580驅動仍有疑慮，SATA SSD效能落後。'}}, 'round_count': 2, 'max_rounds': 3, 'consensus_reached': True}}\n",
      "{\n",
      "  \"question_id\": 17,\n",
      "  \"question\": \"預算30000元內，請問有適合辦公和輕度Photoshop使用的電腦配置嗎？\",\n",
      "  \"buildmate_recommendation\": \"CPU: Intel i5-14400F | price: 5400\\nMotherboard: 華碩 PRIME H610M-K-CSM(DDR5) | price: 2890\\nMemory: UMAX 單條16GB DDR5-4800/CL40 支援 XMP | price: 1150\\nGPU: Acer Nitro Intel ARC B580 OC 12GB | price: 8690\\nStorage: 威剛 Ultimate SU650 480G/2.5吋/讀:520M/寫:450M/TLC顆粒 | price: 899\\nPower Supply: 全漢 HYDRO GT PRO 1000W 雙8/金牌/半模/全日系/10年保 | price: 3690\\nCase: 銀欣 RL08 紅黑 | price: 1290\\nCase Fan: 安耐美 靜蝠 12cm 磁力滾珠軸承 | price: 230\\n總價: 24239\",\n",
      "  \"gpt4o_recommendation\": \"CPU: Intel i5-11400 | price: 5300\\nMotherboard: 華碩 PRIME B560M-A (M-ATX/Realtek 1Gb/支援DDR4) | price: 2990\\nMemory: 威剛 單條16GB DDR4-3200 (AD4U320016G22) | price: 1090\\nGPU: 華碩 GeForce GTX 1650 4GB | price: 5990\\nStorage: 西部數據 WD Blue 500GB M.2 NVMe SSD | price: 1390\\nPower Supply: 海韻 VS500 (500W) 80 PLUS | price: 1290\\nCase: Cooler Master Q300L | price: 1290\\nCase Fan: Cooler Master SickleFlow 120 V2 | price: 490\\n總價: 19830\",\n",
      "  \"winner\": 0,\n",
      "  \"buildmate_avg_score\": 4.5,\n",
      "  \"gpt4o_avg_score\": 8.0,\n",
      "  \"rounds\": [\n",
      "    {\n",
      "      \"round_number\": 1,\n",
      "      \"Agent1\": {\n",
      "        \"gpt4o_score\": 7,\n",
      "        \"buildmate_score\": 5,\n",
      "        \"reason\": \"gpt4o均衡，價格合理。BuildMate電源瓦數過高，B580驅動不成熟，SSD速度慢。\"\n",
      "      },\n",
      "      \"Agent2\": {\n",
      "        \"gpt4o_score\": 8,\n",
      "        \"buildmate_score\": 5,\n",
      "        \"reason\": \"gpt4o配置均衡，價格合理。BuildMate顯卡驅動不成熟，電源瓦數過高，SSD速度慢。\"\n",
      "      },\n",
      "      \"Agent3\": {\n",
      "        \"gpt4o_score\": 8,\n",
      "        \"buildmate_score\": 4,\n",
      "        \"reason\": \"gpt4o配置合理，價格適中。BuildMate電源瓦數過高，B580驅動不成熟，SSD速度慢，不符合輕度使用需求。\"\n",
      "      }\n",
      "    },\n",
      "    {\n",
      "      \"round_number\": 2,\n",
      "      \"Agent1\": {\n",
      "        \"gpt4o_score\": 8,\n",
      "        \"buildmate_score\": 5,\n",
      "        \"reason\": \"gpt4o性價比高，均衡穩定。BuildMate電源過剩，B580驅動仍有疑慮，SATA SSD效能瓶頸。\"\n",
      "      },\n",
      "      \"Agent2\": {\n",
      "        \"gpt4o_score\": 8,\n",
      "        \"buildmate_score\": 4,\n",
      "        \"reason\": \"gpt4o配置均衡，價格合理。BuildMate顯卡驅動不成熟，電源瓦數過高，SSD速度慢。\"\n",
      "      },\n",
      "      \"Agent3\": {\n",
      "        \"gpt4o_score\": 9,\n",
      "        \"buildmate_score\": 4,\n",
      "        \"reason\": \"gpt4o性價比高，滿足需求。BuildMate電源過剩，B580驅動仍有疑慮，SATA SSD效能落後。\"\n",
      "      }\n",
      "    }\n",
      "  ]\n",
      "}\n"
     ]
    },
    {
     "data": {
      "text/html": [
       "<pre style=\"white-space:pre;overflow-x:auto;line-height:normal;font-family:Menlo,'DejaVu Sans Mono',consolas,'Courier New',monospace\"><span style=\"font-weight: bold\">{</span>\n",
       "    <span style=\"color: #008000; text-decoration-color: #008000\">'question_id'</span>: <span style=\"color: #008080; text-decoration-color: #008080; font-weight: bold\">18</span>,\n",
       "    <span style=\"color: #008000; text-decoration-color: #008000\">'question'</span>: <span style=\"color: #008000; text-decoration-color: #008000\">'想問下，有沒有大約50000元的電腦配置，適合玩大型開放世界遊戲的？'</span>,\n",
       "    <span style=\"color: #008000; text-decoration-color: #008000\">'gpt4o_recommendation'</span>: <span style=\"color: #008000; text-decoration-color: #008000\">'CPU: AMD Ryzen 5 5600X | price: 5990\\nMotherboard: 華碩 TUF Gaming B550M-PLUS (Wi-Fi) </span>\n",
       "<span style=\"color: #008000; text-decoration-color: #008000\">(M-ATX) | price: 3590\\nMemory: Corsair Vengeance LPX 16GB (2x8GB) DDR4-3200 | price: 1990\\nGPU: NVIDIA GeForce GTX </span>\n",
       "<span style=\"color: #008000; text-decoration-color: #008000\">1660 Super | price: 7490\\nStorage: Samsung 970 EVO Plus 500GB NVMe M.2 | price: 1990\\nPower Supply: Seasonic Focus </span>\n",
       "<span style=\"color: #008000; text-decoration-color: #008000\">GX-650 (650W) 80+ Gold | price: 2990\\nCase: Cooler Master MasterBox Q300L | price: 1290\\nCase Fan: Noctua NF-P12 </span>\n",
       "<span style=\"color: #008000; text-decoration-color: #008000\">redux-1700 PWM | price: 790\\n總價: 26120'</span>,\n",
       "    <span style=\"color: #008000; text-decoration-color: #008000\">'buildmate_recommendation'</span>: <span style=\"color: #008000; text-decoration-color: #008000\">'CPU: Intel i7-14700F | price: 9700\\nMotherboard: 華碩 TUF GAMING </span>\n",
       "<span style=\"color: #008000; text-decoration-color: #008000\">B650M-PLUS(M-ATX/Realtek 2.5G/註五年)12+2+2相電源 | price: 4090\\nMemory: 威剛 單條16GB DDR5 6000 XPG Lancer </span>\n",
       "<span style=\"color: #008000; text-decoration-color: #008000\">Blade(矮版散熱片)/CL48黑【雙參數】 | price: 1349\\nGPU: Acer Nitro Intel ARC B580 OC 12GB | price: 8690\\nStorage: </span>\n",
       "<span style=\"color: #008000; text-decoration-color: #008000\">威剛 Ultimate SU800 512G/2.5吋/讀:560M/寫:520M/TLC/DRAM快取/SMI/台灣製 | price: 1499\\nPower Supply: 全漢 HYDRO GT </span>\n",
       "<span style=\"color: #008000; text-decoration-color: #008000\">PRO 1000W 雙8/金牌/半模/全日系/10年保 | price: 3690\\nCase: 聯力 PC-O11 Dynamic 白 | price: 2790\\nCase Fan: MSI MEG </span>\n",
       "<span style=\"color: #008000; text-decoration-color: #008000\">SILENT GALE P12 靜音風扇 | price: 790\\n總價: 32598'</span>\n",
       "<span style=\"font-weight: bold\">}</span>\n",
       "</pre>\n"
      ],
      "text/plain": [
       "\u001b[1m{\u001b[0m\n",
       "    \u001b[32m'question_id'\u001b[0m: \u001b[1;36m18\u001b[0m,\n",
       "    \u001b[32m'question'\u001b[0m: \u001b[32m'想問下，有沒有大約50000元的電腦配置，適合玩大型開放世界遊戲的？'\u001b[0m,\n",
       "    \u001b[32m'gpt4o_recommendation'\u001b[0m: \u001b[32m'CPU: AMD Ryzen 5 5600X | price: 5990\\nMotherboard: 華碩 TUF Gaming B550M-PLUS \u001b[0m\u001b[32m(\u001b[0m\u001b[32mWi-Fi\u001b[0m\u001b[32m)\u001b[0m\u001b[32m \u001b[0m\n",
       "\u001b[32m(\u001b[0m\u001b[32mM-ATX\u001b[0m\u001b[32m)\u001b[0m\u001b[32m | price: 3590\\nMemory: Corsair Vengeance LPX 16GB \u001b[0m\u001b[32m(\u001b[0m\u001b[32m2x8GB\u001b[0m\u001b[32m)\u001b[0m\u001b[32m DDR4-3200 | price: 1990\\nGPU: NVIDIA GeForce GTX \u001b[0m\n",
       "\u001b[32m1660 Super | price: 7490\\nStorage: Samsung 970 EVO Plus 500GB NVMe M.2 | price: 1990\\nPower Supply: Seasonic Focus \u001b[0m\n",
       "\u001b[32mGX-650 \u001b[0m\u001b[32m(\u001b[0m\u001b[32m650W\u001b[0m\u001b[32m)\u001b[0m\u001b[32m 80+ Gold | price: 2990\\nCase: Cooler Master MasterBox Q300L | price: 1290\\nCase Fan: Noctua NF-P12 \u001b[0m\n",
       "\u001b[32mredux-1700 PWM | price: 790\\n總價: 26120'\u001b[0m,\n",
       "    \u001b[32m'buildmate_recommendation'\u001b[0m: \u001b[32m'CPU: Intel i7-14700F | price: 9700\\nMotherboard: 華碩 TUF GAMING \u001b[0m\n",
       "\u001b[32mB650M-PLUS\u001b[0m\u001b[32m(\u001b[0m\u001b[32mM-ATX/Realtek 2.5G/註五年\u001b[0m\u001b[32m)\u001b[0m\u001b[32m12+2+2相電源 | price: 4090\\nMemory: 威剛 單條16GB DDR5 6000 XPG Lancer \u001b[0m\n",
       "\u001b[32mBlade\u001b[0m\u001b[32m(\u001b[0m\u001b[32m矮版散熱片\u001b[0m\u001b[32m)\u001b[0m\u001b[32m/CL48黑【雙參數】 | price: 1349\\nGPU: Acer Nitro Intel ARC B580 OC 12GB | price: 8690\\nStorage: \u001b[0m\n",
       "\u001b[32m威剛 Ultimate SU800 512G/2.5吋/讀:560M/寫:520M/TLC/DRAM快取/SMI/台灣製 | price: 1499\\nPower Supply: 全漢 HYDRO GT \u001b[0m\n",
       "\u001b[32mPRO 1000W 雙8/金牌/半模/全日系/10年保 | price: 3690\\nCase: 聯力 PC-O11 Dynamic 白 | price: 2790\\nCase Fan: MSI MEG \u001b[0m\n",
       "\u001b[32mSILENT GALE P12 靜音風扇 | price: 790\\n總價: 32598'\u001b[0m\n",
       "\u001b[1m}\u001b[0m\n"
      ]
     },
     "metadata": {},
     "output_type": "display_data"
    },
    {
     "data": {
      "text/html": [
       "<pre style=\"white-space:pre;overflow-x:auto;line-height:normal;font-family:Menlo,'DejaVu Sans Mono',consolas,'Courier New',monospace\">Agent1: <span style=\"font-weight: bold\">[</span>對gpt4o評價<span style=\"font-weight: bold\">]</span>: <span style=\"color: #008080; text-decoration-color: #008080; font-weight: bold\">4</span>\n",
       "<span style=\"font-weight: bold\">[</span>對BuildMate評價<span style=\"font-weight: bold\">]</span>: <span style=\"color: #008080; text-decoration-color: #008080; font-weight: bold\">7</span>\n",
       "<span style=\"font-weight: bold\">[</span>簡短原因<span style=\"font-weight: bold\">]</span>: gpt4o配置過時且效能低；BuildMate較為均衡，但B580顯卡驅動需注意。\n",
       "\n",
       "</pre>\n"
      ],
      "text/plain": [
       "Agent1: \u001b[1m[\u001b[0m對gpt4o評價\u001b[1m]\u001b[0m: \u001b[1;36m4\u001b[0m\n",
       "\u001b[1m[\u001b[0m對BuildMate評價\u001b[1m]\u001b[0m: \u001b[1;36m7\u001b[0m\n",
       "\u001b[1m[\u001b[0m簡短原因\u001b[1m]\u001b[0m: gpt4o配置過時且效能低；BuildMate較為均衡，但B580顯卡驅動需注意。\n",
       "\n"
      ]
     },
     "metadata": {},
     "output_type": "display_data"
    },
    {
     "name": "stdout",
     "output_type": "stream",
     "text": [
      "======\n"
     ]
    },
    {
     "data": {
      "text/html": [
       "<pre style=\"white-space:pre;overflow-x:auto;line-height:normal;font-family:Menlo,'DejaVu Sans Mono',consolas,'Courier New',monospace\">Agent2: <span style=\"font-weight: bold\">[</span>對gpt4o評價<span style=\"font-weight: bold\">]</span>: <span style=\"color: #008080; text-decoration-color: #008080; font-weight: bold\">3</span>\n",
       "<span style=\"font-weight: bold\">[</span>對BuildMate評價<span style=\"font-weight: bold\">]</span>: <span style=\"color: #008080; text-decoration-color: #008080; font-weight: bold\">6</span>\n",
       "<span style=\"font-weight: bold\">[</span>簡短原因<span style=\"font-weight: bold\">]</span>: gpt4o顯卡過時，效能不足以應付大型遊戲；BuildMate選擇較新，但B580驅動仍需考量。\n",
       "\n",
       "</pre>\n"
      ],
      "text/plain": [
       "Agent2: \u001b[1m[\u001b[0m對gpt4o評價\u001b[1m]\u001b[0m: \u001b[1;36m3\u001b[0m\n",
       "\u001b[1m[\u001b[0m對BuildMate評價\u001b[1m]\u001b[0m: \u001b[1;36m6\u001b[0m\n",
       "\u001b[1m[\u001b[0m簡短原因\u001b[1m]\u001b[0m: gpt4o顯卡過時，效能不足以應付大型遊戲；BuildMate選擇較新，但B580驅動仍需考量。\n",
       "\n"
      ]
     },
     "metadata": {},
     "output_type": "display_data"
    },
    {
     "name": "stdout",
     "output_type": "stream",
     "text": [
      "======\n"
     ]
    },
    {
     "data": {
      "text/html": [
       "<pre style=\"white-space:pre;overflow-x:auto;line-height:normal;font-family:Menlo,'DejaVu Sans Mono',consolas,'Courier New',monospace\">Agent3: <span style=\"font-weight: bold\">[</span>對gpt4o評價<span style=\"font-weight: bold\">]</span>: <span style=\"color: #008080; text-decoration-color: #008080; font-weight: bold\">4</span>\n",
       "<span style=\"font-weight: bold\">[</span>對BuildMate評價<span style=\"font-weight: bold\">]</span>: <span style=\"color: #008080; text-decoration-color: #008080; font-weight: bold\">7</span>\n",
       "<span style=\"font-weight: bold\">[</span>簡短原因<span style=\"font-weight: bold\">]</span>: gpt4o顯卡過時，價格低於預算許多；BuildMate配置較新，價格合理。\n",
       "\n",
       "</pre>\n"
      ],
      "text/plain": [
       "Agent3: \u001b[1m[\u001b[0m對gpt4o評價\u001b[1m]\u001b[0m: \u001b[1;36m4\u001b[0m\n",
       "\u001b[1m[\u001b[0m對BuildMate評價\u001b[1m]\u001b[0m: \u001b[1;36m7\u001b[0m\n",
       "\u001b[1m[\u001b[0m簡短原因\u001b[1m]\u001b[0m: gpt4o顯卡過時，價格低於預算許多；BuildMate配置較新，價格合理。\n",
       "\n"
      ]
     },
     "metadata": {},
     "output_type": "display_data"
    },
    {
     "name": "stdout",
     "output_type": "stream",
     "text": [
      "======\n"
     ]
    },
    {
     "data": {
      "text/html": [
       "<pre style=\"white-space:pre;overflow-x:auto;line-height:normal;font-family:Menlo,'DejaVu Sans Mono',consolas,'Courier New',monospace\">Coordinator: 已達成共識，BuildMate較佳。效能更佳、配置更新，雖驅動需注意，但整體而言更符合需求。\n",
       "\n",
       "</pre>\n"
      ],
      "text/plain": [
       "Coordinator: 已達成共識，BuildMate較佳。效能更佳、配置更新，雖驅動需注意，但整體而言更符合需求。\n",
       "\n"
      ]
     },
     "metadata": {},
     "output_type": "display_data"
    },
    {
     "name": "stdout",
     "output_type": "stream",
     "text": [
      "======\n"
     ]
    },
    {
     "data": {
      "text/html": [
       "<pre style=\"white-space:pre;overflow-x:auto;line-height:normal;font-family:Menlo,'DejaVu Sans Mono',consolas,'Courier New',monospace\">Agent1: <span style=\"font-weight: bold\">[</span>對gpt4o評價<span style=\"font-weight: bold\">]</span>: <span style=\"color: #008080; text-decoration-color: #008080; font-weight: bold\">3</span>\n",
       "<span style=\"font-weight: bold\">[</span>對BuildMate評價<span style=\"font-weight: bold\">]</span>: <span style=\"color: #008080; text-decoration-color: #008080; font-weight: bold\">6</span>\n",
       "<span style=\"font-weight: bold\">[</span>簡短原因<span style=\"font-weight: bold\">]</span>: gpt4o嚴重過時且低於預算；BuildMate較符合預算與效能需求，但B580驅動仍需注意。\n",
       "\n",
       "</pre>\n"
      ],
      "text/plain": [
       "Agent1: \u001b[1m[\u001b[0m對gpt4o評價\u001b[1m]\u001b[0m: \u001b[1;36m3\u001b[0m\n",
       "\u001b[1m[\u001b[0m對BuildMate評價\u001b[1m]\u001b[0m: \u001b[1;36m6\u001b[0m\n",
       "\u001b[1m[\u001b[0m簡短原因\u001b[1m]\u001b[0m: gpt4o嚴重過時且低於預算；BuildMate較符合預算與效能需求，但B580驅動仍需注意。\n",
       "\n"
      ]
     },
     "metadata": {},
     "output_type": "display_data"
    },
    {
     "name": "stdout",
     "output_type": "stream",
     "text": [
      "======\n"
     ]
    },
    {
     "data": {
      "text/html": [
       "<pre style=\"white-space:pre;overflow-x:auto;line-height:normal;font-family:Menlo,'DejaVu Sans Mono',consolas,'Courier New',monospace\">Agent2: <span style=\"font-weight: bold\">[</span>對gpt4o評價<span style=\"font-weight: bold\">]</span>: <span style=\"color: #008080; text-decoration-color: #008080; font-weight: bold\">2</span>\n",
       "<span style=\"font-weight: bold\">[</span>對BuildMate評價<span style=\"font-weight: bold\">]</span>: <span style=\"color: #008080; text-decoration-color: #008080; font-weight: bold\">6</span>\n",
       "<span style=\"font-weight: bold\">[</span>簡短原因<span style=\"font-weight: bold\">]</span>: gpt4o過時低配，不符預算及遊戲需求；BuildMate較佳，但B580驅動和散熱仍需注意。\n",
       "\n",
       "</pre>\n"
      ],
      "text/plain": [
       "Agent2: \u001b[1m[\u001b[0m對gpt4o評價\u001b[1m]\u001b[0m: \u001b[1;36m2\u001b[0m\n",
       "\u001b[1m[\u001b[0m對BuildMate評價\u001b[1m]\u001b[0m: \u001b[1;36m6\u001b[0m\n",
       "\u001b[1m[\u001b[0m簡短原因\u001b[1m]\u001b[0m: gpt4o過時低配，不符預算及遊戲需求；BuildMate較佳，但B580驅動和散熱仍需注意。\n",
       "\n"
      ]
     },
     "metadata": {},
     "output_type": "display_data"
    },
    {
     "name": "stdout",
     "output_type": "stream",
     "text": [
      "======\n"
     ]
    },
    {
     "data": {
      "text/html": [
       "<pre style=\"white-space:pre;overflow-x:auto;line-height:normal;font-family:Menlo,'DejaVu Sans Mono',consolas,'Courier New',monospace\">Agent3: <span style=\"font-weight: bold\">[</span>對gpt4o評價<span style=\"font-weight: bold\">]</span>: <span style=\"color: #008080; text-decoration-color: #008080; font-weight: bold\">2</span>\n",
       "<span style=\"font-weight: bold\">[</span>對BuildMate評價<span style=\"font-weight: bold\">]</span>: <span style=\"color: #008080; text-decoration-color: #008080; font-weight: bold\">7</span>\n",
       "<span style=\"font-weight: bold\">[</span>簡短原因<span style=\"font-weight: bold\">]</span>: gpt4o配置過時，價格遠低於預算；BuildMate較符合需求和預算，但B580驅動仍需注意。\n",
       "\n",
       "</pre>\n"
      ],
      "text/plain": [
       "Agent3: \u001b[1m[\u001b[0m對gpt4o評價\u001b[1m]\u001b[0m: \u001b[1;36m2\u001b[0m\n",
       "\u001b[1m[\u001b[0m對BuildMate評價\u001b[1m]\u001b[0m: \u001b[1;36m7\u001b[0m\n",
       "\u001b[1m[\u001b[0m簡短原因\u001b[1m]\u001b[0m: gpt4o配置過時，價格遠低於預算；BuildMate較符合需求和預算，但B580驅動仍需注意。\n",
       "\n"
      ]
     },
     "metadata": {},
     "output_type": "display_data"
    },
    {
     "name": "stdout",
     "output_type": "stream",
     "text": [
      "======\n"
     ]
    },
    {
     "data": {
      "text/html": [
       "<pre style=\"white-space:pre;overflow-x:auto;line-height:normal;font-family:Menlo,'DejaVu Sans Mono',consolas,'Courier New',monospace\">Coordinator: 已達成共識，BuildMate較佳。雖價格略高，但CPU和GPU效能更佳，更符合大型遊戲需求。\n",
       "\n",
       "</pre>\n"
      ],
      "text/plain": [
       "Coordinator: 已達成共識，BuildMate較佳。雖價格略高，但CPU和GPU效能更佳，更符合大型遊戲需求。\n",
       "\n"
      ]
     },
     "metadata": {},
     "output_type": "display_data"
    },
    {
     "name": "stdout",
     "output_type": "stream",
     "text": [
      "======\n",
      "{'Coordinator': {'messages': [HumanMessage(content='Agent1: [對gpt4o評價]: 4\\n[對BuildMate評價]: 7\\n[簡短原因]: gpt4o配置過時且效能低；BuildMate較為均衡，但B580顯卡驅動需注意。\\n', additional_kwargs={}, response_metadata={}), HumanMessage(content='Agent2: [對gpt4o評價]: 3\\n[對BuildMate評價]: 6\\n[簡短原因]: gpt4o顯卡過時，效能不足以應付大型遊戲；BuildMate選擇較新，但B580驅動仍需考量。\\n', additional_kwargs={}, response_metadata={}), HumanMessage(content='Agent3: [對gpt4o評價]: 4\\n[對BuildMate評價]: 7\\n[簡短原因]: gpt4o顯卡過時，價格低於預算許多；BuildMate配置較新，價格合理。\\n', additional_kwargs={}, response_metadata={}), HumanMessage(content='Coordinator: 已達成共識，BuildMate較佳。效能更佳、配置更新，雖驅動需注意，但整體而言更符合需求。\\n', additional_kwargs={}, response_metadata={}), HumanMessage(content='Agent1: [對gpt4o評價]: 3\\n[對BuildMate評價]: 6\\n[簡短原因]: gpt4o嚴重過時且低於預算；BuildMate較符合預算與效能需求，但B580驅動仍需注意。\\n', additional_kwargs={}, response_metadata={}), HumanMessage(content='Agent2: [對gpt4o評價]: 2\\n[對BuildMate評價]: 6\\n[簡短原因]: gpt4o過時低配，不符預算及遊戲需求；BuildMate較佳，但B580驅動和散熱仍需注意。\\n', additional_kwargs={}, response_metadata={}), HumanMessage(content='Agent3: [對gpt4o評價]: 2\\n[對BuildMate評價]: 7\\n[簡短原因]: gpt4o配置過時，價格遠低於預算；BuildMate較符合需求和預算，但B580驅動仍需注意。\\n', additional_kwargs={}, response_metadata={}), HumanMessage(content='Coordinator: 已達成共識，BuildMate較佳。雖價格略高，但CPU和GPU效能更佳，更符合大型遊戲需求。\\n', additional_kwargs={}, response_metadata={})], 'next_agent': '__end__', 'question_id': 18, 'question': '想問下，有沒有大約50000元的電腦配置，適合玩大型開放世界遊戲的？', 'gpt4o_recommendation': 'CPU: AMD Ryzen 5 5600X | price: 5990\\nMotherboard: 華碩 TUF Gaming B550M-PLUS (Wi-Fi) (M-ATX) | price: 3590\\nMemory: Corsair Vengeance LPX 16GB (2x8GB) DDR4-3200 | price: 1990\\nGPU: NVIDIA GeForce GTX 1660 Super | price: 7490\\nStorage: Samsung 970 EVO Plus 500GB NVMe M.2 | price: 1990\\nPower Supply: Seasonic Focus GX-650 (650W) 80+ Gold | price: 2990\\nCase: Cooler Master MasterBox Q300L | price: 1290\\nCase Fan: Noctua NF-P12 redux-1700 PWM | price: 790\\n總價: 26120', 'buildmate_recommendation': 'CPU: Intel i7-14700F | price: 9700\\nMotherboard: 華碩 TUF GAMING B650M-PLUS(M-ATX/Realtek 2.5G/註五年)12+2+2相電源 | price: 4090\\nMemory: 威剛 單條16GB DDR5 6000 XPG Lancer Blade(矮版散熱片)/CL48黑【雙參數】 | price: 1349\\nGPU: Acer Nitro Intel ARC B580 OC 12GB | price: 8690\\nStorage: 威剛 Ultimate SU800 512G/2.5吋/讀:560M/寫:520M/TLC/DRAM快取/SMI/台灣製 | price: 1499\\nPower Supply: 全漢 HYDRO GT PRO 1000W 雙8/金牌/半模/全日系/10年保 | price: 3690\\nCase: 聯力 PC-O11 Dynamic 白 | price: 2790\\nCase Fan: MSI MEG SILENT GALE P12 靜音風扇 | price: 790\\n總價: 32598', 'agent_scores': {'Agent1_round1': {'gpt4o_score': 4, 'buildmate_score': 7, 'reason': 'gpt4o配置過時且效能低；BuildMate較為均衡，但B580顯卡驅動需注意。'}, 'Agent2_round1': {'gpt4o_score': 3, 'buildmate_score': 6, 'reason': 'gpt4o顯卡過時，效能不足以應付大型遊戲；BuildMate選擇較新，但B580驅動仍需考量。'}, 'Agent3_round1': {'gpt4o_score': 4, 'buildmate_score': 7, 'reason': 'gpt4o顯卡過時，價格低於預算許多；BuildMate配置較新，價格合理。'}, 'Agent1_round2': {'gpt4o_score': 3, 'buildmate_score': 6, 'reason': 'gpt4o嚴重過時且低於預算；BuildMate較符合預算與效能需求，但B580驅動仍需注意。'}, 'Agent2_round2': {'gpt4o_score': 2, 'buildmate_score': 6, 'reason': 'gpt4o過時低配，不符預算及遊戲需求；BuildMate較佳，但B580驅動和散熱仍需注意。'}, 'Agent3_round2': {'gpt4o_score': 2, 'buildmate_score': 7, 'reason': 'gpt4o配置過時，價格遠低於預算；BuildMate較符合需求和預算，但B580驅動仍需注意。'}}, 'round_count': 2, 'max_rounds': 3, 'consensus_reached': True}}\n",
      "{\n",
      "  \"question_id\": 18,\n",
      "  \"question\": \"想問下，有沒有大約50000元的電腦配置，適合玩大型開放世界遊戲的？\",\n",
      "  \"buildmate_recommendation\": \"CPU: Intel i7-14700F | price: 9700\\nMotherboard: 華碩 TUF GAMING B650M-PLUS(M-ATX/Realtek 2.5G/註五年)12+2+2相電源 | price: 4090\\nMemory: 威剛 單條16GB DDR5 6000 XPG Lancer Blade(矮版散熱片)/CL48黑【雙參數】 | price: 1349\\nGPU: Acer Nitro Intel ARC B580 OC 12GB | price: 8690\\nStorage: 威剛 Ultimate SU800 512G/2.5吋/讀:560M/寫:520M/TLC/DRAM快取/SMI/台灣製 | price: 1499\\nPower Supply: 全漢 HYDRO GT PRO 1000W 雙8/金牌/半模/全日系/10年保 | price: 3690\\nCase: 聯力 PC-O11 Dynamic 白 | price: 2790\\nCase Fan: MSI MEG SILENT GALE P12 靜音風扇 | price: 790\\n總價: 32598\",\n",
      "  \"gpt4o_recommendation\": \"CPU: AMD Ryzen 5 5600X | price: 5990\\nMotherboard: 華碩 TUF Gaming B550M-PLUS (Wi-Fi) (M-ATX) | price: 3590\\nMemory: Corsair Vengeance LPX 16GB (2x8GB) DDR4-3200 | price: 1990\\nGPU: NVIDIA GeForce GTX 1660 Super | price: 7490\\nStorage: Samsung 970 EVO Plus 500GB NVMe M.2 | price: 1990\\nPower Supply: Seasonic Focus GX-650 (650W) 80+ Gold | price: 2990\\nCase: Cooler Master MasterBox Q300L | price: 1290\\nCase Fan: Noctua NF-P12 redux-1700 PWM | price: 790\\n總價: 26120\",\n",
      "  \"winner\": 1,\n",
      "  \"buildmate_avg_score\": 6.5,\n",
      "  \"gpt4o_avg_score\": 3.0,\n",
      "  \"rounds\": [\n",
      "    {\n",
      "      \"round_number\": 1,\n",
      "      \"Agent1\": {\n",
      "        \"gpt4o_score\": 4,\n",
      "        \"buildmate_score\": 7,\n",
      "        \"reason\": \"gpt4o配置過時且效能低；BuildMate較為均衡，但B580顯卡驅動需注意。\"\n",
      "      },\n",
      "      \"Agent2\": {\n",
      "        \"gpt4o_score\": 3,\n",
      "        \"buildmate_score\": 6,\n",
      "        \"reason\": \"gpt4o顯卡過時，效能不足以應付大型遊戲；BuildMate選擇較新，但B580驅動仍需考量。\"\n",
      "      },\n",
      "      \"Agent3\": {\n",
      "        \"gpt4o_score\": 4,\n",
      "        \"buildmate_score\": 7,\n",
      "        \"reason\": \"gpt4o顯卡過時，價格低於預算許多；BuildMate配置較新，價格合理。\"\n",
      "      }\n",
      "    },\n",
      "    {\n",
      "      \"round_number\": 2,\n",
      "      \"Agent1\": {\n",
      "        \"gpt4o_score\": 3,\n",
      "        \"buildmate_score\": 6,\n",
      "        \"reason\": \"gpt4o嚴重過時且低於預算；BuildMate較符合預算與效能需求，但B580驅動仍需注意。\"\n",
      "      },\n",
      "      \"Agent2\": {\n",
      "        \"gpt4o_score\": 2,\n",
      "        \"buildmate_score\": 6,\n",
      "        \"reason\": \"gpt4o過時低配，不符預算及遊戲需求；BuildMate較佳，但B580驅動和散熱仍需注意。\"\n",
      "      },\n",
      "      \"Agent3\": {\n",
      "        \"gpt4o_score\": 2,\n",
      "        \"buildmate_score\": 7,\n",
      "        \"reason\": \"gpt4o配置過時，價格遠低於預算；BuildMate較符合需求和預算，但B580驅動仍需注意。\"\n",
      "      }\n",
      "    }\n",
      "  ]\n",
      "}\n"
     ]
    },
    {
     "data": {
      "text/html": [
       "<pre style=\"white-space:pre;overflow-x:auto;line-height:normal;font-family:Menlo,'DejaVu Sans Mono',consolas,'Courier New',monospace\"><span style=\"font-weight: bold\">{</span>\n",
       "    <span style=\"color: #008000; text-decoration-color: #008000\">'question_id'</span>: <span style=\"color: #008080; text-decoration-color: #008080; font-weight: bold\">19</span>,\n",
       "    <span style=\"color: #008000; text-decoration-color: #008000\">'question'</span>: <span style=\"color: #008000; text-decoration-color: #008000\">'我需要一台電腦，預算大概45000元，主要用於音樂製作和錄音，需要特別注意什麼配件？'</span>,\n",
       "    <span style=\"color: #008000; text-decoration-color: #008000\">'gpt4o_recommendation'</span>: <span style=\"color: #008000; text-decoration-color: #008000\">'CPU: AMD Ryzen 5 5600X | price: 5490\\nMotherboard: 華碩 TUF Gaming B550M-PLUS | price:</span>\n",
       "<span style=\"color: #008000; text-decoration-color: #008000\">3490\\nMemory: Corsair Vengeance LPX 16GB DDR4-3200 | price: 1490\\nGPU: NVIDIA GeForce GTX 1660 Super | price: </span>\n",
       "<span style=\"color: #008000; text-decoration-color: #008000\">6990\\nStorage: Samsung 970 EVO Plus 500GB NVMe M.2 SSD | price: 1990\\nPower Supply: Cooler Master MWE Gold 650W | </span>\n",
       "<span style=\"color: #008000; text-decoration-color: #008000\">price: 2490\\nCase: Fractal Design Meshify C | price: 1990\\nCase Fan: Noctua NF-P12 redux-1700 PWM | price: </span>\n",
       "<span style=\"color: #008000; text-decoration-color: #008000\">790\\n總價: 24720'</span>,\n",
       "    <span style=\"color: #008000; text-decoration-color: #008000\">'buildmate_recommendation'</span>: <span style=\"color: #008000; text-decoration-color: #008000\">'CPU: Intel i5-14600KF | price: 7400\\nMotherboard: 華碩 PRIME H610M-K-CSM(DDR5) | </span>\n",
       "<span style=\"color: #008000; text-decoration-color: #008000\">price: 2890\\nMemory: 威剛 單條32GB DDR5 5600/CL46 XPG Lancer Blade(矮版散熱片) | price: 2499\\nGPU: Acer Nitro Intel</span>\n",
       "<span style=\"color: #008000; text-decoration-color: #008000\">ARC B580 OC 12GB | price: 8690\\nStorage: 威剛 Ultimate SU800 </span>\n",
       "<span style=\"color: #008000; text-decoration-color: #008000\">512G/2.5吋/讀:560M/寫:520M/TLC/DRAM快取/SMI/台灣製【五年】 | price: 1499\\nPower Supply: 全漢 HYDRO GT PRO 1000W </span>\n",
       "<span style=\"color: #008000; text-decoration-color: #008000\">雙8/金牌/半模/全日系/10年保 | price: 3690\\nCase: 銀欣 RL08 紅黑 | price: 1290\\nCase Fan: darkFlash S100 12cm 黑 </span>\n",
       "<span style=\"color: #008000; text-decoration-color: #008000\">效能扇/1800RPM/FDB軸/PWM可串接/10年保 | price: 399\\n總價: 28357'</span>\n",
       "<span style=\"font-weight: bold\">}</span>\n",
       "</pre>\n"
      ],
      "text/plain": [
       "\u001b[1m{\u001b[0m\n",
       "    \u001b[32m'question_id'\u001b[0m: \u001b[1;36m19\u001b[0m,\n",
       "    \u001b[32m'question'\u001b[0m: \u001b[32m'我需要一台電腦，預算大概45000元，主要用於音樂製作和錄音，需要特別注意什麼配件？'\u001b[0m,\n",
       "    \u001b[32m'gpt4o_recommendation'\u001b[0m: \u001b[32m'CPU: AMD Ryzen 5 5600X | price: 5490\\nMotherboard: 華碩 TUF Gaming B550M-PLUS | price:\u001b[0m\n",
       "\u001b[32m3490\\nMemory: Corsair Vengeance LPX 16GB DDR4-3200 | price: 1490\\nGPU: NVIDIA GeForce GTX 1660 Super | price: \u001b[0m\n",
       "\u001b[32m6990\\nStorage: Samsung 970 EVO Plus 500GB NVMe M.2 SSD | price: 1990\\nPower Supply: Cooler Master MWE Gold 650W | \u001b[0m\n",
       "\u001b[32mprice: 2490\\nCase: Fractal Design Meshify C | price: 1990\\nCase Fan: Noctua NF-P12 redux-1700 PWM | price: \u001b[0m\n",
       "\u001b[32m790\\n總價: 24720'\u001b[0m,\n",
       "    \u001b[32m'buildmate_recommendation'\u001b[0m: \u001b[32m'CPU: Intel i5-14600KF | price: 7400\\nMotherboard: 華碩 PRIME H610M-K-CSM\u001b[0m\u001b[32m(\u001b[0m\u001b[32mDDR5\u001b[0m\u001b[32m)\u001b[0m\u001b[32m | \u001b[0m\n",
       "\u001b[32mprice: 2890\\nMemory: 威剛 單條32GB DDR5 5600/CL46 XPG Lancer Blade\u001b[0m\u001b[32m(\u001b[0m\u001b[32m矮版散熱片\u001b[0m\u001b[32m)\u001b[0m\u001b[32m | price: 2499\\nGPU: Acer Nitro Intel\u001b[0m\n",
       "\u001b[32mARC B580 OC 12GB | price: 8690\\nStorage: 威剛 Ultimate SU800 \u001b[0m\n",
       "\u001b[32m512G/2.5吋/讀:560M/寫:520M/TLC/DRAM快取/SMI/台灣製【五年】 | price: 1499\\nPower Supply: 全漢 HYDRO GT PRO 1000W \u001b[0m\n",
       "\u001b[32m雙8/金牌/半模/全日系/10年保 | price: 3690\\nCase: 銀欣 RL08 紅黑 | price: 1290\\nCase Fan: darkFlash S100 12cm 黑 \u001b[0m\n",
       "\u001b[32m效能扇/1800RPM/FDB軸/PWM可串接/10年保 | price: 399\\n總價: 28357'\u001b[0m\n",
       "\u001b[1m}\u001b[0m\n"
      ]
     },
     "metadata": {},
     "output_type": "display_data"
    },
    {
     "data": {
      "text/html": [
       "<pre style=\"white-space:pre;overflow-x:auto;line-height:normal;font-family:Menlo,'DejaVu Sans Mono',consolas,'Courier New',monospace\">Agent1: <span style=\"font-weight: bold\">[</span>對gpt4o評價<span style=\"font-weight: bold\">]</span>: <span style=\"color: #008080; text-decoration-color: #008080; font-weight: bold\">7</span>\n",
       "<span style=\"font-weight: bold\">[</span>對BuildMate評價<span style=\"font-weight: bold\">]</span>: <span style=\"color: #008080; text-decoration-color: #008080; font-weight: bold\">5</span>\n",
       "<span style=\"font-weight: bold\">[</span>簡短原因<span style=\"font-weight: bold\">]</span>: gpt4o均衡，價格合理。BuildMate記憶體單通道，顯卡和電源選擇不佳。\n",
       "\n",
       "</pre>\n"
      ],
      "text/plain": [
       "Agent1: \u001b[1m[\u001b[0m對gpt4o評價\u001b[1m]\u001b[0m: \u001b[1;36m7\u001b[0m\n",
       "\u001b[1m[\u001b[0m對BuildMate評價\u001b[1m]\u001b[0m: \u001b[1;36m5\u001b[0m\n",
       "\u001b[1m[\u001b[0m簡短原因\u001b[1m]\u001b[0m: gpt4o均衡，價格合理。BuildMate記憶體單通道，顯卡和電源選擇不佳。\n",
       "\n"
      ]
     },
     "metadata": {},
     "output_type": "display_data"
    },
    {
     "name": "stdout",
     "output_type": "stream",
     "text": [
      "======\n"
     ]
    },
    {
     "data": {
      "text/html": [
       "<pre style=\"white-space:pre;overflow-x:auto;line-height:normal;font-family:Menlo,'DejaVu Sans Mono',consolas,'Courier New',monospace\">Agent2: <span style=\"font-weight: bold\">[</span>對gpt4o評價<span style=\"font-weight: bold\">]</span>: <span style=\"color: #008080; text-decoration-color: #008080; font-weight: bold\">8</span>\n",
       "<span style=\"font-weight: bold\">[</span>對BuildMate評價<span style=\"font-weight: bold\">]</span>: <span style=\"color: #008080; text-decoration-color: #008080; font-weight: bold\">5</span>\n",
       "<span style=\"font-weight: bold\">[</span>簡短原因<span style=\"font-weight: bold\">]</span>: gpt4o價格合理，效能均衡。BuildMate記憶體單通道，顯卡選擇不佳，電源過剩。\n",
       "\n",
       "</pre>\n"
      ],
      "text/plain": [
       "Agent2: \u001b[1m[\u001b[0m對gpt4o評價\u001b[1m]\u001b[0m: \u001b[1;36m8\u001b[0m\n",
       "\u001b[1m[\u001b[0m對BuildMate評價\u001b[1m]\u001b[0m: \u001b[1;36m5\u001b[0m\n",
       "\u001b[1m[\u001b[0m簡短原因\u001b[1m]\u001b[0m: gpt4o價格合理，效能均衡。BuildMate記憶體單通道，顯卡選擇不佳，電源過剩。\n",
       "\n"
      ]
     },
     "metadata": {},
     "output_type": "display_data"
    },
    {
     "name": "stdout",
     "output_type": "stream",
     "text": [
      "======\n"
     ]
    },
    {
     "data": {
      "text/html": [
       "<pre style=\"white-space:pre;overflow-x:auto;line-height:normal;font-family:Menlo,'DejaVu Sans Mono',consolas,'Courier New',monospace\">Agent3: <span style=\"font-weight: bold\">[</span>對gpt4o評價<span style=\"font-weight: bold\">]</span>: <span style=\"color: #008080; text-decoration-color: #008080; font-weight: bold\">9</span>\n",
       "<span style=\"font-weight: bold\">[</span>對BuildMate評價<span style=\"font-weight: bold\">]</span>: <span style=\"color: #008080; text-decoration-color: #008080; font-weight: bold\">5</span>\n",
       "<span style=\"font-weight: bold\">[</span>簡短原因<span style=\"font-weight: bold\">]</span>: gpt4o價格合理，效能均衡，符合音樂製作需求。BuildMate單通道記憶體不利音樂製作，顯卡選擇不佳。\n",
       "\n",
       "</pre>\n"
      ],
      "text/plain": [
       "Agent3: \u001b[1m[\u001b[0m對gpt4o評價\u001b[1m]\u001b[0m: \u001b[1;36m9\u001b[0m\n",
       "\u001b[1m[\u001b[0m對BuildMate評價\u001b[1m]\u001b[0m: \u001b[1;36m5\u001b[0m\n",
       "\u001b[1m[\u001b[0m簡短原因\u001b[1m]\u001b[0m: gpt4o價格合理，效能均衡，符合音樂製作需求。BuildMate單通道記憶體不利音樂製作，顯卡選擇不佳。\n",
       "\n"
      ]
     },
     "metadata": {},
     "output_type": "display_data"
    },
    {
     "name": "stdout",
     "output_type": "stream",
     "text": [
      "======\n"
     ]
    },
    {
     "data": {
      "text/html": [
       "<pre style=\"white-space:pre;overflow-x:auto;line-height:normal;font-family:Menlo,'DejaVu Sans Mono',consolas,'Courier New',monospace\">Coordinator: 已達成共識， \n",
       "gpt4o較佳。價格更低，且配件選擇更均衡，符合音樂製作需求。BuildMate記憶體單通道和顯卡選擇不佳，電源瓦數過高。\n",
       "\n",
       "</pre>\n"
      ],
      "text/plain": [
       "Coordinator: 已達成共識， \n",
       "gpt4o較佳。價格更低，且配件選擇更均衡，符合音樂製作需求。BuildMate記憶體單通道和顯卡選擇不佳，電源瓦數過高。\n",
       "\n"
      ]
     },
     "metadata": {},
     "output_type": "display_data"
    },
    {
     "name": "stdout",
     "output_type": "stream",
     "text": [
      "======\n"
     ]
    },
    {
     "data": {
      "text/html": [
       "<pre style=\"white-space:pre;overflow-x:auto;line-height:normal;font-family:Menlo,'DejaVu Sans Mono',consolas,'Courier New',monospace\">Agent1: <span style=\"font-weight: bold\">[</span>對gpt4o評價<span style=\"font-weight: bold\">]</span>: <span style=\"color: #008080; text-decoration-color: #008080; font-weight: bold\">8</span>\n",
       "<span style=\"font-weight: bold\">[</span>對BuildMate評價<span style=\"font-weight: bold\">]</span>: <span style=\"color: #008080; text-decoration-color: #008080; font-weight: bold\">5</span>\n",
       "<span style=\"font-weight: bold\">[</span>簡短原因<span style=\"font-weight: bold\">]</span>: gpt4o均衡，性價比高。BuildMate記憶體單通道，B580顯卡效能不穩定，電源過剩。\n",
       "\n",
       "</pre>\n"
      ],
      "text/plain": [
       "Agent1: \u001b[1m[\u001b[0m對gpt4o評價\u001b[1m]\u001b[0m: \u001b[1;36m8\u001b[0m\n",
       "\u001b[1m[\u001b[0m對BuildMate評價\u001b[1m]\u001b[0m: \u001b[1;36m5\u001b[0m\n",
       "\u001b[1m[\u001b[0m簡短原因\u001b[1m]\u001b[0m: gpt4o均衡，性價比高。BuildMate記憶體單通道，B580顯卡效能不穩定，電源過剩。\n",
       "\n"
      ]
     },
     "metadata": {},
     "output_type": "display_data"
    },
    {
     "name": "stdout",
     "output_type": "stream",
     "text": [
      "======\n"
     ]
    },
    {
     "data": {
      "text/html": [
       "<pre style=\"white-space:pre;overflow-x:auto;line-height:normal;font-family:Menlo,'DejaVu Sans Mono',consolas,'Courier New',monospace\">Agent2: <span style=\"font-weight: bold\">[</span>對gpt4o評價<span style=\"font-weight: bold\">]</span>: <span style=\"color: #008080; text-decoration-color: #008080; font-weight: bold\">9</span>\n",
       "<span style=\"font-weight: bold\">[</span>對BuildMate評價<span style=\"font-weight: bold\">]</span>: <span style=\"color: #008080; text-decoration-color: #008080; font-weight: bold\">4</span>\n",
       "<span style=\"font-weight: bold\">[</span>簡短原因<span style=\"font-weight: bold\">]</span>: gpt4o性價比極高，滿足需求。BuildMate記憶體單通道嚴重影響音樂製作，顯卡和電源選擇不佳，價格偏高。\n",
       "\n",
       "</pre>\n"
      ],
      "text/plain": [
       "Agent2: \u001b[1m[\u001b[0m對gpt4o評價\u001b[1m]\u001b[0m: \u001b[1;36m9\u001b[0m\n",
       "\u001b[1m[\u001b[0m對BuildMate評價\u001b[1m]\u001b[0m: \u001b[1;36m4\u001b[0m\n",
       "\u001b[1m[\u001b[0m簡短原因\u001b[1m]\u001b[0m: gpt4o性價比極高，滿足需求。BuildMate記憶體單通道嚴重影響音樂製作，顯卡和電源選擇不佳，價格偏高。\n",
       "\n"
      ]
     },
     "metadata": {},
     "output_type": "display_data"
    },
    {
     "name": "stdout",
     "output_type": "stream",
     "text": [
      "======\n"
     ]
    },
    {
     "data": {
      "text/html": [
       "<pre style=\"white-space:pre;overflow-x:auto;line-height:normal;font-family:Menlo,'DejaVu Sans Mono',consolas,'Courier New',monospace\">Agent3: Agent: <span style=\"font-weight: bold\">[</span>對gpt4o評價<span style=\"font-weight: bold\">]</span>: <span style=\"color: #008080; text-decoration-color: #008080; font-weight: bold\">9</span>\n",
       "<span style=\"font-weight: bold\">[</span>對BuildMate評價<span style=\"font-weight: bold\">]</span>: <span style=\"color: #008080; text-decoration-color: #008080; font-weight: bold\">4</span>\n",
       "<span style=\"font-weight: bold\">[</span>簡短原因<span style=\"font-weight: bold\">]</span>: gpt4o性價比高，滿足音樂製作需求。BuildMate記憶體單通道不利音樂製作，顯卡和電源選擇不佳，價格偏高。\n",
       "\n",
       "</pre>\n"
      ],
      "text/plain": [
       "Agent3: Agent: \u001b[1m[\u001b[0m對gpt4o評價\u001b[1m]\u001b[0m: \u001b[1;36m9\u001b[0m\n",
       "\u001b[1m[\u001b[0m對BuildMate評價\u001b[1m]\u001b[0m: \u001b[1;36m4\u001b[0m\n",
       "\u001b[1m[\u001b[0m簡短原因\u001b[1m]\u001b[0m: gpt4o性價比高，滿足音樂製作需求。BuildMate記憶體單通道不利音樂製作，顯卡和電源選擇不佳，價格偏高。\n",
       "\n"
      ]
     },
     "metadata": {},
     "output_type": "display_data"
    },
    {
     "name": "stdout",
     "output_type": "stream",
     "text": [
      "======\n"
     ]
    },
    {
     "data": {
      "text/html": [
       "<pre style=\"white-space:pre;overflow-x:auto;line-height:normal;font-family:Menlo,'DejaVu Sans Mono',consolas,'Courier New',monospace\">Coordinator: \n",
       "已達成共識，gpt4o較佳。價格更低，且配件均衡，滿足音樂製作需求。BuildMate記憶體單通道不利音樂製作，B580顯卡和高功率\n",
       "電源選擇不佳，價格也偏高。\n",
       "\n",
       "</pre>\n"
      ],
      "text/plain": [
       "Coordinator: \n",
       "已達成共識，gpt4o較佳。價格更低，且配件均衡，滿足音樂製作需求。BuildMate記憶體單通道不利音樂製作，B580顯卡和高功率\n",
       "電源選擇不佳，價格也偏高。\n",
       "\n"
      ]
     },
     "metadata": {},
     "output_type": "display_data"
    },
    {
     "name": "stdout",
     "output_type": "stream",
     "text": [
      "======\n",
      "{'Coordinator': {'messages': [HumanMessage(content='Agent1: [對gpt4o評價]: 7\\n[對BuildMate評價]: 5\\n[簡短原因]: gpt4o均衡，價格合理。BuildMate記憶體單通道，顯卡和電源選擇不佳。\\n', additional_kwargs={}, response_metadata={}), HumanMessage(content='Agent2: [對gpt4o評價]: 8\\n[對BuildMate評價]: 5\\n[簡短原因]: gpt4o價格合理，效能均衡。BuildMate記憶體單通道，顯卡選擇不佳，電源過剩。\\n', additional_kwargs={}, response_metadata={}), HumanMessage(content='Agent3: [對gpt4o評價]: 9\\n[對BuildMate評價]: 5\\n[簡短原因]: gpt4o價格合理，效能均衡，符合音樂製作需求。BuildMate單通道記憶體不利音樂製作，顯卡選擇不佳。\\n', additional_kwargs={}, response_metadata={}), HumanMessage(content='Coordinator: 已達成共識， gpt4o較佳。價格更低，且配件選擇更均衡，符合音樂製作需求。BuildMate記憶體單通道和顯卡選擇不佳，電源瓦數過高。\\n', additional_kwargs={}, response_metadata={}), HumanMessage(content='Agent1: [對gpt4o評價]: 8\\n[對BuildMate評價]: 5\\n[簡短原因]: gpt4o均衡，性價比高。BuildMate記憶體單通道，B580顯卡效能不穩定，電源過剩。\\n', additional_kwargs={}, response_metadata={}), HumanMessage(content='Agent2: [對gpt4o評價]: 9\\n[對BuildMate評價]: 4\\n[簡短原因]: gpt4o性價比極高，滿足需求。BuildMate記憶體單通道嚴重影響音樂製作，顯卡和電源選擇不佳，價格偏高。\\n', additional_kwargs={}, response_metadata={}), HumanMessage(content='Agent3: Agent: [對gpt4o評價]: 9\\n[對BuildMate評價]: 4\\n[簡短原因]: gpt4o性價比高，滿足音樂製作需求。BuildMate記憶體單通道不利音樂製作，顯卡和電源選擇不佳，價格偏高。\\n', additional_kwargs={}, response_metadata={}), HumanMessage(content='Coordinator: 已達成共識，gpt4o較佳。價格更低，且配件均衡，滿足音樂製作需求。BuildMate記憶體單通道不利音樂製作，B580顯卡和高功率電源選擇不佳，價格也偏高。\\n', additional_kwargs={}, response_metadata={})], 'next_agent': '__end__', 'question_id': 19, 'question': '我需要一台電腦，預算大概45000元，主要用於音樂製作和錄音，需要特別注意什麼配件？', 'gpt4o_recommendation': 'CPU: AMD Ryzen 5 5600X | price: 5490\\nMotherboard: 華碩 TUF Gaming B550M-PLUS | price: 3490\\nMemory: Corsair Vengeance LPX 16GB DDR4-3200 | price: 1490\\nGPU: NVIDIA GeForce GTX 1660 Super | price: 6990\\nStorage: Samsung 970 EVO Plus 500GB NVMe M.2 SSD | price: 1990\\nPower Supply: Cooler Master MWE Gold 650W | price: 2490\\nCase: Fractal Design Meshify C | price: 1990\\nCase Fan: Noctua NF-P12 redux-1700 PWM | price: 790\\n總價: 24720', 'buildmate_recommendation': 'CPU: Intel i5-14600KF | price: 7400\\nMotherboard: 華碩 PRIME H610M-K-CSM(DDR5) | price: 2890\\nMemory: 威剛 單條32GB DDR5 5600/CL46 XPG Lancer Blade(矮版散熱片) | price: 2499\\nGPU: Acer Nitro Intel ARC B580 OC 12GB | price: 8690\\nStorage: 威剛 Ultimate SU800 512G/2.5吋/讀:560M/寫:520M/TLC/DRAM快取/SMI/台灣製【五年】 | price: 1499\\nPower Supply: 全漢 HYDRO GT PRO 1000W 雙8/金牌/半模/全日系/10年保 | price: 3690\\nCase: 銀欣 RL08 紅黑 | price: 1290\\nCase Fan: darkFlash S100 12cm 黑 效能扇/1800RPM/FDB軸/PWM可串接/10年保 | price: 399\\n總價: 28357', 'agent_scores': {'Agent1_round1': {'gpt4o_score': 7, 'buildmate_score': 5, 'reason': 'gpt4o均衡，價格合理。BuildMate記憶體單通道，顯卡和電源選擇不佳。'}, 'Agent2_round1': {'gpt4o_score': 8, 'buildmate_score': 5, 'reason': 'gpt4o價格合理，效能均衡。BuildMate記憶體單通道，顯卡選擇不佳，電源過剩。'}, 'Agent3_round1': {'gpt4o_score': 9, 'buildmate_score': 5, 'reason': 'gpt4o價格合理，效能均衡，符合音樂製作需求。BuildMate單通道記憶體不利音樂製作，顯卡選擇不佳。'}, 'Agent1_round2': {'gpt4o_score': 8, 'buildmate_score': 5, 'reason': 'gpt4o均衡，性價比高。BuildMate記憶體單通道，B580顯卡效能不穩定，電源過剩。'}, 'Agent2_round2': {'gpt4o_score': 9, 'buildmate_score': 4, 'reason': 'gpt4o性價比極高，滿足需求。BuildMate記憶體單通道嚴重影響音樂製作，顯卡和電源選擇不佳，價格偏高。'}, 'Agent3_round2': {'gpt4o_score': 9, 'buildmate_score': 4, 'reason': 'gpt4o性價比高，滿足音樂製作需求。BuildMate記憶體單通道不利音樂製作，顯卡和電源選擇不佳，價格偏高。'}}, 'round_count': 2, 'max_rounds': 3, 'consensus_reached': True}}\n",
      "{\n",
      "  \"question_id\": 19,\n",
      "  \"question\": \"我需要一台電腦，預算大概45000元，主要用於音樂製作和錄音，需要特別注意什麼配件？\",\n",
      "  \"buildmate_recommendation\": \"CPU: Intel i5-14600KF | price: 7400\\nMotherboard: 華碩 PRIME H610M-K-CSM(DDR5) | price: 2890\\nMemory: 威剛 單條32GB DDR5 5600/CL46 XPG Lancer Blade(矮版散熱片) | price: 2499\\nGPU: Acer Nitro Intel ARC B580 OC 12GB | price: 8690\\nStorage: 威剛 Ultimate SU800 512G/2.5吋/讀:560M/寫:520M/TLC/DRAM快取/SMI/台灣製【五年】 | price: 1499\\nPower Supply: 全漢 HYDRO GT PRO 1000W 雙8/金牌/半模/全日系/10年保 | price: 3690\\nCase: 銀欣 RL08 紅黑 | price: 1290\\nCase Fan: darkFlash S100 12cm 黑 效能扇/1800RPM/FDB軸/PWM可串接/10年保 | price: 399\\n總價: 28357\",\n",
      "  \"gpt4o_recommendation\": \"CPU: AMD Ryzen 5 5600X | price: 5490\\nMotherboard: 華碩 TUF Gaming B550M-PLUS | price: 3490\\nMemory: Corsair Vengeance LPX 16GB DDR4-3200 | price: 1490\\nGPU: NVIDIA GeForce GTX 1660 Super | price: 6990\\nStorage: Samsung 970 EVO Plus 500GB NVMe M.2 SSD | price: 1990\\nPower Supply: Cooler Master MWE Gold 650W | price: 2490\\nCase: Fractal Design Meshify C | price: 1990\\nCase Fan: Noctua NF-P12 redux-1700 PWM | price: 790\\n總價: 24720\",\n",
      "  \"winner\": 0,\n",
      "  \"buildmate_avg_score\": 4.666666666666667,\n",
      "  \"gpt4o_avg_score\": 8.333333333333334,\n",
      "  \"rounds\": [\n",
      "    {\n",
      "      \"round_number\": 1,\n",
      "      \"Agent1\": {\n",
      "        \"gpt4o_score\": 7,\n",
      "        \"buildmate_score\": 5,\n",
      "        \"reason\": \"gpt4o均衡，價格合理。BuildMate記憶體單通道，顯卡和電源選擇不佳。\"\n",
      "      },\n",
      "      \"Agent2\": {\n",
      "        \"gpt4o_score\": 8,\n",
      "        \"buildmate_score\": 5,\n",
      "        \"reason\": \"gpt4o價格合理，效能均衡。BuildMate記憶體單通道，顯卡選擇不佳，電源過剩。\"\n",
      "      },\n",
      "      \"Agent3\": {\n",
      "        \"gpt4o_score\": 9,\n",
      "        \"buildmate_score\": 5,\n",
      "        \"reason\": \"gpt4o價格合理，效能均衡，符合音樂製作需求。BuildMate單通道記憶體不利音樂製作，顯卡選擇不佳。\"\n",
      "      }\n",
      "    },\n",
      "    {\n",
      "      \"round_number\": 2,\n",
      "      \"Agent1\": {\n",
      "        \"gpt4o_score\": 8,\n",
      "        \"buildmate_score\": 5,\n",
      "        \"reason\": \"gpt4o均衡，性價比高。BuildMate記憶體單通道，B580顯卡效能不穩定，電源過剩。\"\n",
      "      },\n",
      "      \"Agent2\": {\n",
      "        \"gpt4o_score\": 9,\n",
      "        \"buildmate_score\": 4,\n",
      "        \"reason\": \"gpt4o性價比極高，滿足需求。BuildMate記憶體單通道嚴重影響音樂製作，顯卡和電源選擇不佳，價格偏高。\"\n",
      "      },\n",
      "      \"Agent3\": {\n",
      "        \"gpt4o_score\": 9,\n",
      "        \"buildmate_score\": 4,\n",
      "        \"reason\": \"gpt4o性價比高，滿足音樂製作需求。BuildMate記憶體單通道不利音樂製作，顯卡和電源選擇不佳，價格偏高。\"\n",
      "      }\n",
      "    }\n",
      "  ]\n",
      "}\n"
     ]
    },
    {
     "data": {
      "text/html": [
       "<pre style=\"white-space:pre;overflow-x:auto;line-height:normal;font-family:Menlo,'DejaVu Sans Mono',consolas,'Courier New',monospace\"><span style=\"font-weight: bold\">{</span>\n",
       "    <span style=\"color: #008000; text-decoration-color: #008000\">'question_id'</span>: <span style=\"color: #008080; text-decoration-color: #008080; font-weight: bold\">20</span>,\n",
       "    <span style=\"color: #008000; text-decoration-color: #008000\">'question'</span>: <span style=\"color: #008000; text-decoration-color: #008000\">'預算約60000元，想要一台電腦主要用於科學計算和寫程式，有推薦配置嗎？'</span>,\n",
       "    <span style=\"color: #008000; text-decoration-color: #008000\">'gpt4o_recommendation'</span>: <span style=\"color: #008000; text-decoration-color: #008000\">'CPU: AMD Ryzen 5 5600X | price: 5500\\nMotherboard: 華碩 TUF Gaming B550M-PLUS | price:</span>\n",
       "<span style=\"color: #008000; text-decoration-color: #008000\">3500\\nMemory: Corsair Vengeance LPX 16GB (2 x 8GB) DDR4-3200 | price: 2000\\nGPU: NVIDIA GeForce GTX 1660 Super | </span>\n",
       "<span style=\"color: #008000; text-decoration-color: #008000\">price: 7500\\nStorage: Samsung 970 EVO Plus 500GB NVMe M.2 SSD | price: 2500\\nPower Supply: Cooler Master MWE Gold </span>\n",
       "<span style=\"color: #008000; text-decoration-color: #008000\">650W | price: 2500\\nCase: NZXT H510 | price: 1800\\nCase Fan: Noctua NF-P12 redux-1700 PWM | price: 800\\n總價: </span>\n",
       "<span style=\"color: #008000; text-decoration-color: #008000\">26100'</span>,\n",
       "    <span style=\"color: #008000; text-decoration-color: #008000\">'buildmate_recommendation'</span>: <span style=\"color: #008000; text-decoration-color: #008000\">'CPU: Intel i7-14700F | price: 9700\\nMotherboard: 華碩 PRIME </span>\n",
       "<span style=\"color: #008000; text-decoration-color: #008000\">B650M-F-CSM(M-ATX/Realtek 1Gb/註四年/2DIMM)8相 | price: 2990\\nMemory: 威剛 單條16GB DDR5 6000 XPG Lancer </span>\n",
       "<span style=\"color: #008000; text-decoration-color: #008000\">Blade(矮版散熱片)/CL48黑【雙參數】 | price: 1349\\nGPU: Acer Nitro Intel ARC B580 OC 12GB | price: 8690\\nStorage: </span>\n",
       "<span style=\"color: #008000; text-decoration-color: #008000\">威剛 Ultimate SU800 512G/2.5吋/讀:560M/寫:520M/TLC/DRAM快取/SMI/台灣製【五年】 | price: 1499\\nPower Supply: Antec </span>\n",
       "<span style=\"color: #008000; text-decoration-color: #008000\">HCG1000(1000W)雙8/金牌/全模/全日系/智慧溫控風扇 | price: 3990\\nCase: 華碩 TUF Gaming GT301 | price: 2390\\nCase Fan:</span>\n",
       "<span style=\"color: #008000; text-decoration-color: #008000\">MSI MEG SILENT GALE P12 靜音風扇 | price: 790\\n總價: 31398'</span>\n",
       "<span style=\"font-weight: bold\">}</span>\n",
       "</pre>\n"
      ],
      "text/plain": [
       "\u001b[1m{\u001b[0m\n",
       "    \u001b[32m'question_id'\u001b[0m: \u001b[1;36m20\u001b[0m,\n",
       "    \u001b[32m'question'\u001b[0m: \u001b[32m'預算約60000元，想要一台電腦主要用於科學計算和寫程式，有推薦配置嗎？'\u001b[0m,\n",
       "    \u001b[32m'gpt4o_recommendation'\u001b[0m: \u001b[32m'CPU: AMD Ryzen 5 5600X | price: 5500\\nMotherboard: 華碩 TUF Gaming B550M-PLUS | price:\u001b[0m\n",
       "\u001b[32m3500\\nMemory: Corsair Vengeance LPX 16GB \u001b[0m\u001b[32m(\u001b[0m\u001b[32m2 x 8GB\u001b[0m\u001b[32m)\u001b[0m\u001b[32m DDR4-3200 | price: 2000\\nGPU: NVIDIA GeForce GTX 1660 Super | \u001b[0m\n",
       "\u001b[32mprice: 7500\\nStorage: Samsung 970 EVO Plus 500GB NVMe M.2 SSD | price: 2500\\nPower Supply: Cooler Master MWE Gold \u001b[0m\n",
       "\u001b[32m650W | price: 2500\\nCase: NZXT H510 | price: 1800\\nCase Fan: Noctua NF-P12 redux-1700 PWM | price: 800\\n總價: \u001b[0m\n",
       "\u001b[32m26100'\u001b[0m,\n",
       "    \u001b[32m'buildmate_recommendation'\u001b[0m: \u001b[32m'CPU: Intel i7-14700F | price: 9700\\nMotherboard: 華碩 PRIME \u001b[0m\n",
       "\u001b[32mB650M-F-CSM\u001b[0m\u001b[32m(\u001b[0m\u001b[32mM-ATX/Realtek 1Gb/註四年/2DIMM\u001b[0m\u001b[32m)\u001b[0m\u001b[32m8相 | price: 2990\\nMemory: 威剛 單條16GB DDR5 6000 XPG Lancer \u001b[0m\n",
       "\u001b[32mBlade\u001b[0m\u001b[32m(\u001b[0m\u001b[32m矮版散熱片\u001b[0m\u001b[32m)\u001b[0m\u001b[32m/CL48黑【雙參數】 | price: 1349\\nGPU: Acer Nitro Intel ARC B580 OC 12GB | price: 8690\\nStorage: \u001b[0m\n",
       "\u001b[32m威剛 Ultimate SU800 512G/2.5吋/讀:560M/寫:520M/TLC/DRAM快取/SMI/台灣製【五年】 | price: 1499\\nPower Supply: Antec \u001b[0m\n",
       "\u001b[32mHCG1000\u001b[0m\u001b[32m(\u001b[0m\u001b[32m1000W\u001b[0m\u001b[32m)\u001b[0m\u001b[32m雙8/金牌/全模/全日系/智慧溫控風扇 | price: 3990\\nCase: 華碩 TUF Gaming GT301 | price: 2390\\nCase Fan:\u001b[0m\n",
       "\u001b[32mMSI MEG SILENT GALE P12 靜音風扇 | price: 790\\n總價: 31398'\u001b[0m\n",
       "\u001b[1m}\u001b[0m\n"
      ]
     },
     "metadata": {},
     "output_type": "display_data"
    },
    {
     "data": {
      "text/html": [
       "<pre style=\"white-space:pre;overflow-x:auto;line-height:normal;font-family:Menlo,'DejaVu Sans Mono',consolas,'Courier New',monospace\">Agent1: <span style=\"font-weight: bold\">[</span>對gpt4o評價<span style=\"font-weight: bold\">]</span>: <span style=\"color: #008080; text-decoration-color: #008080; font-weight: bold\">7</span>\n",
       "<span style=\"font-weight: bold\">[</span>對BuildMate評價<span style=\"font-weight: bold\">]</span>: <span style=\"color: #008080; text-decoration-color: #008080; font-weight: bold\">8</span>\n",
       "<span style=\"font-weight: bold\">[</span>簡短原因<span style=\"font-weight: bold\">]</span>: BuildMate的CPU和記憶體效能更佳，適合科學計算。GPT4o價格較低。\n",
       "\n",
       "</pre>\n"
      ],
      "text/plain": [
       "Agent1: \u001b[1m[\u001b[0m對gpt4o評價\u001b[1m]\u001b[0m: \u001b[1;36m7\u001b[0m\n",
       "\u001b[1m[\u001b[0m對BuildMate評價\u001b[1m]\u001b[0m: \u001b[1;36m8\u001b[0m\n",
       "\u001b[1m[\u001b[0m簡短原因\u001b[1m]\u001b[0m: BuildMate的CPU和記憶體效能更佳，適合科學計算。GPT4o價格較低。\n",
       "\n"
      ]
     },
     "metadata": {},
     "output_type": "display_data"
    },
    {
     "name": "stdout",
     "output_type": "stream",
     "text": [
      "======\n"
     ]
    },
    {
     "data": {
      "text/html": [
       "<pre style=\"white-space:pre;overflow-x:auto;line-height:normal;font-family:Menlo,'DejaVu Sans Mono',consolas,'Courier New',monospace\">Agent2: <span style=\"font-weight: bold\">[</span>對gpt4o評價<span style=\"font-weight: bold\">]</span>: <span style=\"color: #008080; text-decoration-color: #008080; font-weight: bold\">6</span>\n",
       "<span style=\"font-weight: bold\">[</span>對BuildMate評價<span style=\"font-weight: bold\">]</span>: <span style=\"color: #008080; text-decoration-color: #008080; font-weight: bold\">8</span>\n",
       "<span style=\"font-weight: bold\">[</span>簡短原因<span style=\"font-weight: bold\">]</span>: BuildMate的CPU和RAM選擇更利於科學計算，但顯卡略顯不足。gpt4o性價比更高。\n",
       "\n",
       "</pre>\n"
      ],
      "text/plain": [
       "Agent2: \u001b[1m[\u001b[0m對gpt4o評價\u001b[1m]\u001b[0m: \u001b[1;36m6\u001b[0m\n",
       "\u001b[1m[\u001b[0m對BuildMate評價\u001b[1m]\u001b[0m: \u001b[1;36m8\u001b[0m\n",
       "\u001b[1m[\u001b[0m簡短原因\u001b[1m]\u001b[0m: BuildMate的CPU和RAM選擇更利於科學計算，但顯卡略顯不足。gpt4o性價比更高。\n",
       "\n"
      ]
     },
     "metadata": {},
     "output_type": "display_data"
    },
    {
     "name": "stdout",
     "output_type": "stream",
     "text": [
      "======\n"
     ]
    },
    {
     "data": {
      "text/html": [
       "<pre style=\"white-space:pre;overflow-x:auto;line-height:normal;font-family:Menlo,'DejaVu Sans Mono',consolas,'Courier New',monospace\">Agent3: <span style=\"font-weight: bold\">[</span>對gpt4o評價<span style=\"font-weight: bold\">]</span>: <span style=\"color: #008080; text-decoration-color: #008080; font-weight: bold\">4</span>\n",
       "<span style=\"font-weight: bold\">[</span>對BuildMate評價<span style=\"font-weight: bold\">]</span>: <span style=\"color: #008080; text-decoration-color: #008080; font-weight: bold\">7</span>\n",
       "<span style=\"font-weight: bold\">[</span>簡短原因<span style=\"font-weight: bold\">]</span>: gpt4o顯卡選擇不適合科學計算，記憶體太小。BuildMate較均衡但電源瓦數過高。\n",
       "\n",
       "</pre>\n"
      ],
      "text/plain": [
       "Agent3: \u001b[1m[\u001b[0m對gpt4o評價\u001b[1m]\u001b[0m: \u001b[1;36m4\u001b[0m\n",
       "\u001b[1m[\u001b[0m對BuildMate評價\u001b[1m]\u001b[0m: \u001b[1;36m7\u001b[0m\n",
       "\u001b[1m[\u001b[0m簡短原因\u001b[1m]\u001b[0m: gpt4o顯卡選擇不適合科學計算，記憶體太小。BuildMate較均衡但電源瓦數過高。\n",
       "\n"
      ]
     },
     "metadata": {},
     "output_type": "display_data"
    },
    {
     "name": "stdout",
     "output_type": "stream",
     "text": [
      "======\n"
     ]
    },
    {
     "data": {
      "text/html": [
       "<pre style=\"white-space:pre;overflow-x:auto;line-height:normal;font-family:Menlo,'DejaVu Sans Mono',consolas,'Courier New',monospace\">Coordinator: 已達成共識，BuildMate較佳。效能更佳，較符合科學計算需求，雖價格稍高但在預算內。\n",
       "\n",
       "</pre>\n"
      ],
      "text/plain": [
       "Coordinator: 已達成共識，BuildMate較佳。效能更佳，較符合科學計算需求，雖價格稍高但在預算內。\n",
       "\n"
      ]
     },
     "metadata": {},
     "output_type": "display_data"
    },
    {
     "name": "stdout",
     "output_type": "stream",
     "text": [
      "======\n"
     ]
    },
    {
     "data": {
      "text/html": [
       "<pre style=\"white-space:pre;overflow-x:auto;line-height:normal;font-family:Menlo,'DejaVu Sans Mono',consolas,'Courier New',monospace\">Agent1: <span style=\"font-weight: bold\">[</span>對gpt4o評價<span style=\"font-weight: bold\">]</span>: <span style=\"color: #008080; text-decoration-color: #008080; font-weight: bold\">5</span>\n",
       "<span style=\"font-weight: bold\">[</span>對BuildMate評價<span style=\"font-weight: bold\">]</span>: <span style=\"color: #008080; text-decoration-color: #008080; font-weight: bold\">7</span>\n",
       "<span style=\"font-weight: bold\">[</span>簡短原因<span style=\"font-weight: bold\">]</span>: BuildMate CPU效能明顯較強，記憶體也用上DDR5，有利科學計算。gpt4o性價比高，但效能不足。\n",
       "\n",
       "</pre>\n"
      ],
      "text/plain": [
       "Agent1: \u001b[1m[\u001b[0m對gpt4o評價\u001b[1m]\u001b[0m: \u001b[1;36m5\u001b[0m\n",
       "\u001b[1m[\u001b[0m對BuildMate評價\u001b[1m]\u001b[0m: \u001b[1;36m7\u001b[0m\n",
       "\u001b[1m[\u001b[0m簡短原因\u001b[1m]\u001b[0m: BuildMate CPU效能明顯較強，記憶體也用上DDR5，有利科學計算。gpt4o性價比高，但效能不足。\n",
       "\n"
      ]
     },
     "metadata": {},
     "output_type": "display_data"
    },
    {
     "name": "stdout",
     "output_type": "stream",
     "text": [
      "======\n"
     ]
    },
    {
     "data": {
      "text/html": [
       "<pre style=\"white-space:pre;overflow-x:auto;line-height:normal;font-family:Menlo,'DejaVu Sans Mono',consolas,'Courier New',monospace\">Agent2: <span style=\"font-weight: bold\">[</span>對gpt4o評價<span style=\"font-weight: bold\">]</span>: <span style=\"color: #008080; text-decoration-color: #008080; font-weight: bold\">6</span>\n",
       "<span style=\"font-weight: bold\">[</span>對BuildMate評價<span style=\"font-weight: bold\">]</span>: <span style=\"color: #008080; text-decoration-color: #008080; font-weight: bold\">8</span>\n",
       "<span style=\"font-weight: bold\">[</span>簡短原因<span style=\"font-weight: bold\">]</span>: BuildMate的CPU和RAM選擇更佳，但顯卡和電源配置略有不妥。gpt4o性價比高，但效能不足以應付複雜科學計算。\n",
       "\n",
       "</pre>\n"
      ],
      "text/plain": [
       "Agent2: \u001b[1m[\u001b[0m對gpt4o評價\u001b[1m]\u001b[0m: \u001b[1;36m6\u001b[0m\n",
       "\u001b[1m[\u001b[0m對BuildMate評價\u001b[1m]\u001b[0m: \u001b[1;36m8\u001b[0m\n",
       "\u001b[1m[\u001b[0m簡短原因\u001b[1m]\u001b[0m: BuildMate的CPU和RAM選擇更佳，但顯卡和電源配置略有不妥。gpt4o性價比高，但效能不足以應付複雜科學計算。\n",
       "\n"
      ]
     },
     "metadata": {},
     "output_type": "display_data"
    },
    {
     "name": "stdout",
     "output_type": "stream",
     "text": [
      "======\n"
     ]
    },
    {
     "data": {
      "text/html": [
       "<pre style=\"white-space:pre;overflow-x:auto;line-height:normal;font-family:Menlo,'DejaVu Sans Mono',consolas,'Courier New',monospace\">Agent3: <span style=\"font-weight: bold\">[</span>對gpt4o評價<span style=\"font-weight: bold\">]</span>: <span style=\"color: #008080; text-decoration-color: #008080; font-weight: bold\">4</span>\n",
       "<span style=\"font-weight: bold\">[</span>對BuildMate評價<span style=\"font-weight: bold\">]</span>: <span style=\"color: #008080; text-decoration-color: #008080; font-weight: bold\">7</span>\n",
       "<span style=\"font-weight: bold\">[</span>簡短原因<span style=\"font-weight: bold\">]</span>: gpt4o配置過低，記憶體不足。BuildMate較符合科學計算需求，但電源瓦數過高。\n",
       "\n",
       "</pre>\n"
      ],
      "text/plain": [
       "Agent3: \u001b[1m[\u001b[0m對gpt4o評價\u001b[1m]\u001b[0m: \u001b[1;36m4\u001b[0m\n",
       "\u001b[1m[\u001b[0m對BuildMate評價\u001b[1m]\u001b[0m: \u001b[1;36m7\u001b[0m\n",
       "\u001b[1m[\u001b[0m簡短原因\u001b[1m]\u001b[0m: gpt4o配置過低，記憶體不足。BuildMate較符合科學計算需求，但電源瓦數過高。\n",
       "\n"
      ]
     },
     "metadata": {},
     "output_type": "display_data"
    },
    {
     "name": "stdout",
     "output_type": "stream",
     "text": [
      "======\n"
     ]
    },
    {
     "data": {
      "text/html": [
       "<pre style=\"white-space:pre;overflow-x:auto;line-height:normal;font-family:Menlo,'DejaVu Sans Mono',consolas,'Courier New',monospace\">Coordinator: 已達成共識，BuildMate較佳。雖價格較高但仍在預算內，效能更強且規格更適合科學計算需求。\n",
       "\n",
       "</pre>\n"
      ],
      "text/plain": [
       "Coordinator: 已達成共識，BuildMate較佳。雖價格較高但仍在預算內，效能更強且規格更適合科學計算需求。\n",
       "\n"
      ]
     },
     "metadata": {},
     "output_type": "display_data"
    },
    {
     "name": "stdout",
     "output_type": "stream",
     "text": [
      "======\n",
      "{'Coordinator': {'messages': [HumanMessage(content='Agent1: [對gpt4o評價]: 7\\n[對BuildMate評價]: 8\\n[簡短原因]: BuildMate的CPU和記憶體效能更佳，適合科學計算。GPT4o價格較低。\\n', additional_kwargs={}, response_metadata={}), HumanMessage(content='Agent2: [對gpt4o評價]: 6\\n[對BuildMate評價]: 8\\n[簡短原因]: BuildMate的CPU和RAM選擇更利於科學計算，但顯卡略顯不足。gpt4o性價比更高。\\n', additional_kwargs={}, response_metadata={}), HumanMessage(content='Agent3: [對gpt4o評價]: 4\\n[對BuildMate評價]: 7\\n[簡短原因]: gpt4o顯卡選擇不適合科學計算，記憶體太小。BuildMate較均衡但電源瓦數過高。\\n', additional_kwargs={}, response_metadata={}), HumanMessage(content='Coordinator: 已達成共識，BuildMate較佳。效能更佳，較符合科學計算需求，雖價格稍高但在預算內。\\n', additional_kwargs={}, response_metadata={}), HumanMessage(content='Agent1: [對gpt4o評價]: 5\\n[對BuildMate評價]: 7\\n[簡短原因]: BuildMate CPU效能明顯較強，記憶體也用上DDR5，有利科學計算。gpt4o性價比高，但效能不足。\\n', additional_kwargs={}, response_metadata={}), HumanMessage(content='Agent2: [對gpt4o評價]: 6\\n[對BuildMate評價]: 8\\n[簡短原因]: BuildMate的CPU和RAM選擇更佳，但顯卡和電源配置略有不妥。gpt4o性價比高，但效能不足以應付複雜科學計算。\\n', additional_kwargs={}, response_metadata={}), HumanMessage(content='Agent3: [對gpt4o評價]: 4\\n[對BuildMate評價]: 7\\n[簡短原因]: gpt4o配置過低，記憶體不足。BuildMate較符合科學計算需求，但電源瓦數過高。\\n', additional_kwargs={}, response_metadata={}), HumanMessage(content='Coordinator: 已達成共識，BuildMate較佳。雖價格較高但仍在預算內，效能更強且規格更適合科學計算需求。\\n', additional_kwargs={}, response_metadata={})], 'next_agent': '__end__', 'question_id': 20, 'question': '預算約60000元，想要一台電腦主要用於科學計算和寫程式，有推薦配置嗎？', 'gpt4o_recommendation': 'CPU: AMD Ryzen 5 5600X | price: 5500\\nMotherboard: 華碩 TUF Gaming B550M-PLUS | price: 3500\\nMemory: Corsair Vengeance LPX 16GB (2 x 8GB) DDR4-3200 | price: 2000\\nGPU: NVIDIA GeForce GTX 1660 Super | price: 7500\\nStorage: Samsung 970 EVO Plus 500GB NVMe M.2 SSD | price: 2500\\nPower Supply: Cooler Master MWE Gold 650W | price: 2500\\nCase: NZXT H510 | price: 1800\\nCase Fan: Noctua NF-P12 redux-1700 PWM | price: 800\\n總價: 26100', 'buildmate_recommendation': 'CPU: Intel i7-14700F | price: 9700\\nMotherboard: 華碩 PRIME B650M-F-CSM(M-ATX/Realtek 1Gb/註四年/2DIMM)8相 | price: 2990\\nMemory: 威剛 單條16GB DDR5 6000 XPG Lancer Blade(矮版散熱片)/CL48黑【雙參數】 | price: 1349\\nGPU: Acer Nitro Intel ARC B580 OC 12GB | price: 8690\\nStorage: 威剛 Ultimate SU800 512G/2.5吋/讀:560M/寫:520M/TLC/DRAM快取/SMI/台灣製【五年】 | price: 1499\\nPower Supply: Antec HCG1000(1000W)雙8/金牌/全模/全日系/智慧溫控風扇 | price: 3990\\nCase: 華碩 TUF Gaming GT301 | price: 2390\\nCase Fan: MSI MEG SILENT GALE P12 靜音風扇 | price: 790\\n總價: 31398', 'agent_scores': {'Agent1_round1': {'gpt4o_score': 7, 'buildmate_score': 8, 'reason': 'BuildMate的CPU和記憶體效能更佳，適合科學計算。GPT4o價格較低。'}, 'Agent2_round1': {'gpt4o_score': 6, 'buildmate_score': 8, 'reason': 'BuildMate的CPU和RAM選擇更利於科學計算，但顯卡略顯不足。gpt4o性價比更高。'}, 'Agent3_round1': {'gpt4o_score': 4, 'buildmate_score': 7, 'reason': 'gpt4o顯卡選擇不適合科學計算，記憶體太小。BuildMate較均衡但電源瓦數過高。'}, 'Agent1_round2': {'gpt4o_score': 5, 'buildmate_score': 7, 'reason': 'BuildMate CPU效能明顯較強，記憶體也用上DDR5，有利科學計算。gpt4o性價比高，但效能不足。'}, 'Agent2_round2': {'gpt4o_score': 6, 'buildmate_score': 8, 'reason': 'BuildMate的CPU和RAM選擇更佳，但顯卡和電源配置略有不妥。gpt4o性價比高，但效能不足以應付複雜科學計算。'}, 'Agent3_round2': {'gpt4o_score': 4, 'buildmate_score': 7, 'reason': 'gpt4o配置過低，記憶體不足。BuildMate較符合科學計算需求，但電源瓦數過高。'}}, 'round_count': 2, 'max_rounds': 3, 'consensus_reached': True}}\n",
      "{\n",
      "  \"question_id\": 20,\n",
      "  \"question\": \"預算約60000元，想要一台電腦主要用於科學計算和寫程式，有推薦配置嗎？\",\n",
      "  \"buildmate_recommendation\": \"CPU: Intel i7-14700F | price: 9700\\nMotherboard: 華碩 PRIME B650M-F-CSM(M-ATX/Realtek 1Gb/註四年/2DIMM)8相 | price: 2990\\nMemory: 威剛 單條16GB DDR5 6000 XPG Lancer Blade(矮版散熱片)/CL48黑【雙參數】 | price: 1349\\nGPU: Acer Nitro Intel ARC B580 OC 12GB | price: 8690\\nStorage: 威剛 Ultimate SU800 512G/2.5吋/讀:560M/寫:520M/TLC/DRAM快取/SMI/台灣製【五年】 | price: 1499\\nPower Supply: Antec HCG1000(1000W)雙8/金牌/全模/全日系/智慧溫控風扇 | price: 3990\\nCase: 華碩 TUF Gaming GT301 | price: 2390\\nCase Fan: MSI MEG SILENT GALE P12 靜音風扇 | price: 790\\n總價: 31398\",\n",
      "  \"gpt4o_recommendation\": \"CPU: AMD Ryzen 5 5600X | price: 5500\\nMotherboard: 華碩 TUF Gaming B550M-PLUS | price: 3500\\nMemory: Corsair Vengeance LPX 16GB (2 x 8GB) DDR4-3200 | price: 2000\\nGPU: NVIDIA GeForce GTX 1660 Super | price: 7500\\nStorage: Samsung 970 EVO Plus 500GB NVMe M.2 SSD | price: 2500\\nPower Supply: Cooler Master MWE Gold 650W | price: 2500\\nCase: NZXT H510 | price: 1800\\nCase Fan: Noctua NF-P12 redux-1700 PWM | price: 800\\n總價: 26100\",\n",
      "  \"winner\": 1,\n",
      "  \"buildmate_avg_score\": 7.5,\n",
      "  \"gpt4o_avg_score\": 5.333333333333333,\n",
      "  \"rounds\": [\n",
      "    {\n",
      "      \"round_number\": 1,\n",
      "      \"Agent1\": {\n",
      "        \"gpt4o_score\": 7,\n",
      "        \"buildmate_score\": 8,\n",
      "        \"reason\": \"BuildMate的CPU和記憶體效能更佳，適合科學計算。GPT4o價格較低。\"\n",
      "      },\n",
      "      \"Agent2\": {\n",
      "        \"gpt4o_score\": 6,\n",
      "        \"buildmate_score\": 8,\n",
      "        \"reason\": \"BuildMate的CPU和RAM選擇更利於科學計算，但顯卡略顯不足。gpt4o性價比更高。\"\n",
      "      },\n",
      "      \"Agent3\": {\n",
      "        \"gpt4o_score\": 4,\n",
      "        \"buildmate_score\": 7,\n",
      "        \"reason\": \"gpt4o顯卡選擇不適合科學計算，記憶體太小。BuildMate較均衡但電源瓦數過高。\"\n",
      "      }\n",
      "    },\n",
      "    {\n",
      "      \"round_number\": 2,\n",
      "      \"Agent1\": {\n",
      "        \"gpt4o_score\": 5,\n",
      "        \"buildmate_score\": 7,\n",
      "        \"reason\": \"BuildMate CPU效能明顯較強，記憶體也用上DDR5，有利科學計算。gpt4o性價比高，但效能不足。\"\n",
      "      },\n",
      "      \"Agent2\": {\n",
      "        \"gpt4o_score\": 6,\n",
      "        \"buildmate_score\": 8,\n",
      "        \"reason\": \"BuildMate的CPU和RAM選擇更佳，但顯卡和電源配置略有不妥。gpt4o性價比高，但效能不足以應付複雜科學計算。\"\n",
      "      },\n",
      "      \"Agent3\": {\n",
      "        \"gpt4o_score\": 4,\n",
      "        \"buildmate_score\": 7,\n",
      "        \"reason\": \"gpt4o配置過低，記憶體不足。BuildMate較符合科學計算需求，但電源瓦數過高。\"\n",
      "      }\n",
      "    }\n",
      "  ]\n",
      "}\n"
     ]
    },
    {
     "data": {
      "text/html": [
       "<pre style=\"white-space:pre;overflow-x:auto;line-height:normal;font-family:Menlo,'DejaVu Sans Mono',consolas,'Courier New',monospace\"><span style=\"font-weight: bold\">{</span>\n",
       "    <span style=\"color: #008000; text-decoration-color: #008000\">'question_id'</span>: <span style=\"color: #008080; text-decoration-color: #008080; font-weight: bold\">21</span>,\n",
       "    <span style=\"color: #008000; text-decoration-color: #008000\">'question'</span>: <span style=\"color: #008000; text-decoration-color: #008000\">'請問我想組一台約70000元的電腦，主要用於虛擬機運行和大數據處理，有什麼建議？'</span>,\n",
       "    <span style=\"color: #008000; text-decoration-color: #008000\">'gpt4o_recommendation'</span>: <span style=\"color: #008000; text-decoration-color: #008000\">'CPU: AMD Ryzen 7 5800X | price: 7800\\nMotherboard: 華碩 TUF Gaming B550-PLUS | price: </span>\n",
       "<span style=\"color: #008000; text-decoration-color: #008000\">4500\\nMemory: Corsair Vengeance LPX 32GB (2 x 16GB) DDR4-3200 | price: 2800\\nGPU: NVIDIA GeForce RTX 3060 12GB | </span>\n",
       "<span style=\"color: #008000; text-decoration-color: #008000\">price: 12000\\nStorage: Samsung 970 EVO Plus 1TB NVMe SSD | price: 3500\\nPower Supply: Corsair RM750x (750W) 80 Plus</span>\n",
       "<span style=\"color: #008000; text-decoration-color: #008000\">Gold | price: 3500\\nCase: Fractal Design Meshify C | price: 2500\\nCase Fan: Noctua NF-P12 redux-1700 PWM | price: </span>\n",
       "<span style=\"color: #008000; text-decoration-color: #008000\">800\\n總價: 37400'</span>,\n",
       "    <span style=\"color: #008000; text-decoration-color: #008000\">'buildmate_recommendation'</span>: <span style=\"color: #008000; text-decoration-color: #008000\">'CPU: Intel i7-14700F | price: 9700\\nMotherboard: 華碩 PRIME B760M-F D4-CSM | </span>\n",
       "<span style=\"color: #008000; text-decoration-color: #008000\">price: 2590\\nMemory: 美光Micron Crucial PRO 超頻 32GB(雙通16GB*2) D5 6000/CL36 黑色散熱片 | price: 2499\\nGPU: INTEL</span>\n",
       "<span style=\"color: #008000; text-decoration-color: #008000\">原廠 ARC B580 12G | price: 8990\\nStorage: 威剛 ADATA LEGEND 900 1TB/Gen4/讀:7000M/寫:4700M/五年保 | price: </span>\n",
       "<span style=\"color: #008000; text-decoration-color: #008000\">1999\\nPower Supply: 全漢 HYDRO PTM PRO 1000W 參8/白金/全模/主日系/防潮塗層/10年 | price: 4690\\nCase: 華碩 Prime </span>\n",
       "<span style=\"color: #008000; text-decoration-color: #008000\">AP201 黑 | price: 1890\\nCase Fan: MSI MEG SILENT GALE P12 靜音風扇 | price: 790\\n總價: 33148'</span>\n",
       "<span style=\"font-weight: bold\">}</span>\n",
       "</pre>\n"
      ],
      "text/plain": [
       "\u001b[1m{\u001b[0m\n",
       "    \u001b[32m'question_id'\u001b[0m: \u001b[1;36m21\u001b[0m,\n",
       "    \u001b[32m'question'\u001b[0m: \u001b[32m'請問我想組一台約70000元的電腦，主要用於虛擬機運行和大數據處理，有什麼建議？'\u001b[0m,\n",
       "    \u001b[32m'gpt4o_recommendation'\u001b[0m: \u001b[32m'CPU: AMD Ryzen 7 5800X | price: 7800\\nMotherboard: 華碩 TUF Gaming B550-PLUS | price: \u001b[0m\n",
       "\u001b[32m4500\\nMemory: Corsair Vengeance LPX 32GB \u001b[0m\u001b[32m(\u001b[0m\u001b[32m2 x 16GB\u001b[0m\u001b[32m)\u001b[0m\u001b[32m DDR4-3200 | price: 2800\\nGPU: NVIDIA GeForce RTX 3060 12GB | \u001b[0m\n",
       "\u001b[32mprice: 12000\\nStorage: Samsung 970 EVO Plus 1TB NVMe SSD | price: 3500\\nPower Supply: Corsair RM750x \u001b[0m\u001b[32m(\u001b[0m\u001b[32m750W\u001b[0m\u001b[32m)\u001b[0m\u001b[32m 80 Plus\u001b[0m\n",
       "\u001b[32mGold | price: 3500\\nCase: Fractal Design Meshify C | price: 2500\\nCase Fan: Noctua NF-P12 redux-1700 PWM | price: \u001b[0m\n",
       "\u001b[32m800\\n總價: 37400'\u001b[0m,\n",
       "    \u001b[32m'buildmate_recommendation'\u001b[0m: \u001b[32m'CPU: Intel i7-14700F | price: 9700\\nMotherboard: 華碩 PRIME B760M-F D4-CSM | \u001b[0m\n",
       "\u001b[32mprice: 2590\\nMemory: 美光Micron Crucial PRO 超頻 32GB\u001b[0m\u001b[32m(\u001b[0m\u001b[32m雙通16GB*2\u001b[0m\u001b[32m)\u001b[0m\u001b[32m D5 6000/CL36 黑色散熱片 | price: 2499\\nGPU: INTEL\u001b[0m\n",
       "\u001b[32m原廠 ARC B580 12G | price: 8990\\nStorage: 威剛 ADATA LEGEND 900 1TB/Gen4/讀:7000M/寫:4700M/五年保 | price: \u001b[0m\n",
       "\u001b[32m1999\\nPower Supply: 全漢 HYDRO PTM PRO 1000W 參8/白金/全模/主日系/防潮塗層/10年 | price: 4690\\nCase: 華碩 Prime \u001b[0m\n",
       "\u001b[32mAP201 黑 | price: 1890\\nCase Fan: MSI MEG SILENT GALE P12 靜音風扇 | price: 790\\n總價: 33148'\u001b[0m\n",
       "\u001b[1m}\u001b[0m\n"
      ]
     },
     "metadata": {},
     "output_type": "display_data"
    },
    {
     "data": {
      "text/html": [
       "<pre style=\"white-space:pre;overflow-x:auto;line-height:normal;font-family:Menlo,'DejaVu Sans Mono',consolas,'Courier New',monospace\">Agent1: <span style=\"font-weight: bold\">[</span>對gpt4o評價<span style=\"font-weight: bold\">]</span>: <span style=\"color: #008080; text-decoration-color: #008080; font-weight: bold\">7</span>\n",
       "<span style=\"font-weight: bold\">[</span>對BuildMate評價<span style=\"font-weight: bold\">]</span>: <span style=\"color: #008080; text-decoration-color: #008080; font-weight: bold\">6</span>\n",
       "<span style=\"font-weight: bold\">[</span>簡短原因<span style=\"font-weight: bold\">]</span>: gpt4o在CPU/GPU選擇較佳，BuildMate電源瓦數過高，B580效能不如3060。\n",
       "\n",
       "</pre>\n"
      ],
      "text/plain": [
       "Agent1: \u001b[1m[\u001b[0m對gpt4o評價\u001b[1m]\u001b[0m: \u001b[1;36m7\u001b[0m\n",
       "\u001b[1m[\u001b[0m對BuildMate評價\u001b[1m]\u001b[0m: \u001b[1;36m6\u001b[0m\n",
       "\u001b[1m[\u001b[0m簡短原因\u001b[1m]\u001b[0m: gpt4o在CPU/GPU選擇較佳，BuildMate電源瓦數過高，B580效能不如3060。\n",
       "\n"
      ]
     },
     "metadata": {},
     "output_type": "display_data"
    },
    {
     "name": "stdout",
     "output_type": "stream",
     "text": [
      "======\n"
     ]
    },
    {
     "data": {
      "text/html": [
       "<pre style=\"white-space:pre;overflow-x:auto;line-height:normal;font-family:Menlo,'DejaVu Sans Mono',consolas,'Courier New',monospace\">Agent2: <span style=\"font-weight: bold\">[</span>對gpt4o評價<span style=\"font-weight: bold\">]</span>: <span style=\"color: #008080; text-decoration-color: #008080; font-weight: bold\">8</span>\n",
       "<span style=\"font-weight: bold\">[</span>對BuildMate評價<span style=\"font-weight: bold\">]</span>: <span style=\"color: #008080; text-decoration-color: #008080; font-weight: bold\">6</span>\n",
       "<span style=\"font-weight: bold\">[</span>簡短原因<span style=\"font-weight: bold\">]</span>: gpt4o均衡，顯卡選擇正確。BuildMate記憶體超規，B580效能低，電源過剩。\n",
       "\n",
       "</pre>\n"
      ],
      "text/plain": [
       "Agent2: \u001b[1m[\u001b[0m對gpt4o評價\u001b[1m]\u001b[0m: \u001b[1;36m8\u001b[0m\n",
       "\u001b[1m[\u001b[0m對BuildMate評價\u001b[1m]\u001b[0m: \u001b[1;36m6\u001b[0m\n",
       "\u001b[1m[\u001b[0m簡短原因\u001b[1m]\u001b[0m: gpt4o均衡，顯卡選擇正確。BuildMate記憶體超規，B580效能低，電源過剩。\n",
       "\n"
      ]
     },
     "metadata": {},
     "output_type": "display_data"
    },
    {
     "name": "stdout",
     "output_type": "stream",
     "text": [
      "======\n"
     ]
    },
    {
     "data": {
      "text/html": [
       "<pre style=\"white-space:pre;overflow-x:auto;line-height:normal;font-family:Menlo,'DejaVu Sans Mono',consolas,'Courier New',monospace\">Agent3: <span style=\"font-weight: bold\">[</span>對gpt4o評價<span style=\"font-weight: bold\">]</span>: <span style=\"color: #008080; text-decoration-color: #008080; font-weight: bold\">7</span>\n",
       "<span style=\"font-weight: bold\">[</span>對BuildMate評價<span style=\"font-weight: bold\">]</span>: <span style=\"color: #008080; text-decoration-color: #008080; font-weight: bold\">5</span>\n",
       "<span style=\"font-weight: bold\">[</span>簡短原因<span style=\"font-weight: bold\">]</span>: gpt4o較均衡，顯卡選擇更適合大數據。BuildMate記憶體規格過高，B580不適合此應用，電源瓦數過剩。\n",
       "\n",
       "</pre>\n"
      ],
      "text/plain": [
       "Agent3: \u001b[1m[\u001b[0m對gpt4o評價\u001b[1m]\u001b[0m: \u001b[1;36m7\u001b[0m\n",
       "\u001b[1m[\u001b[0m對BuildMate評價\u001b[1m]\u001b[0m: \u001b[1;36m5\u001b[0m\n",
       "\u001b[1m[\u001b[0m簡短原因\u001b[1m]\u001b[0m: gpt4o較均衡，顯卡選擇更適合大數據。BuildMate記憶體規格過高，B580不適合此應用，電源瓦數過剩。\n",
       "\n"
      ]
     },
     "metadata": {},
     "output_type": "display_data"
    },
    {
     "name": "stdout",
     "output_type": "stream",
     "text": [
      "======\n"
     ]
    },
    {
     "data": {
      "text/html": [
       "<pre style=\"white-space:pre;overflow-x:auto;line-height:normal;font-family:Menlo,'DejaVu Sans Mono',consolas,'Courier New',monospace\">Coordinator: 已達成共識，gpt4o較佳。它在顯卡和CPU選擇上更符合大數據處理需求，整體配置更均衡，價格也更合理。\n",
       "\n",
       "</pre>\n"
      ],
      "text/plain": [
       "Coordinator: 已達成共識，gpt4o較佳。它在顯卡和CPU選擇上更符合大數據處理需求，整體配置更均衡，價格也更合理。\n",
       "\n"
      ]
     },
     "metadata": {},
     "output_type": "display_data"
    },
    {
     "name": "stdout",
     "output_type": "stream",
     "text": [
      "======\n"
     ]
    },
    {
     "data": {
      "text/html": [
       "<pre style=\"white-space:pre;overflow-x:auto;line-height:normal;font-family:Menlo,'DejaVu Sans Mono',consolas,'Courier New',monospace\">Agent1: <span style=\"font-weight: bold\">[</span>對gpt4o評價<span style=\"font-weight: bold\">]</span>: <span style=\"color: #008080; text-decoration-color: #008080; font-weight: bold\">8</span>\n",
       "<span style=\"font-weight: bold\">[</span>對BuildMate評價<span style=\"font-weight: bold\">]</span>: <span style=\"color: #008080; text-decoration-color: #008080; font-weight: bold\">5</span>\n",
       "<span style=\"font-weight: bold\">[</span>簡短原因<span style=\"font-weight: bold\">]</span>: gpt4o性價比高，3060效能優於B580。BuildMate記憶體頻率過高，不必要且浪費預算，電源瓦數冗餘。\n",
       "\n",
       "</pre>\n"
      ],
      "text/plain": [
       "Agent1: \u001b[1m[\u001b[0m對gpt4o評價\u001b[1m]\u001b[0m: \u001b[1;36m8\u001b[0m\n",
       "\u001b[1m[\u001b[0m對BuildMate評價\u001b[1m]\u001b[0m: \u001b[1;36m5\u001b[0m\n",
       "\u001b[1m[\u001b[0m簡短原因\u001b[1m]\u001b[0m: gpt4o性價比高，3060效能優於B580。BuildMate記憶體頻率過高，不必要且浪費預算，電源瓦數冗餘。\n",
       "\n"
      ]
     },
     "metadata": {},
     "output_type": "display_data"
    },
    {
     "name": "stdout",
     "output_type": "stream",
     "text": [
      "======\n"
     ]
    },
    {
     "data": {
      "text/html": [
       "<pre style=\"white-space:pre;overflow-x:auto;line-height:normal;font-family:Menlo,'DejaVu Sans Mono',consolas,'Courier New',monospace\">Agent2: <span style=\"font-weight: bold\">[</span>對gpt4o評價<span style=\"font-weight: bold\">]</span>: <span style=\"color: #008080; text-decoration-color: #008080; font-weight: bold\">7</span>\n",
       "<span style=\"font-weight: bold\">[</span>對BuildMate評價<span style=\"font-weight: bold\">]</span>: <span style=\"color: #008080; text-decoration-color: #008080; font-weight: bold\">4</span>\n",
       "<span style=\"font-weight: bold\">[</span>簡短原因<span style=\"font-weight: bold\">]</span>: gpt4o配置均衡，價格合理。BuildMate顯卡效能不足，記憶體頻率過高浪費預算。\n",
       "\n",
       "</pre>\n"
      ],
      "text/plain": [
       "Agent2: \u001b[1m[\u001b[0m對gpt4o評價\u001b[1m]\u001b[0m: \u001b[1;36m7\u001b[0m\n",
       "\u001b[1m[\u001b[0m對BuildMate評價\u001b[1m]\u001b[0m: \u001b[1;36m4\u001b[0m\n",
       "\u001b[1m[\u001b[0m簡短原因\u001b[1m]\u001b[0m: gpt4o配置均衡，價格合理。BuildMate顯卡效能不足，記憶體頻率過高浪費預算。\n",
       "\n"
      ]
     },
     "metadata": {},
     "output_type": "display_data"
    },
    {
     "name": "stdout",
     "output_type": "stream",
     "text": [
      "======\n"
     ]
    },
    {
     "data": {
      "text/html": [
       "<pre style=\"white-space:pre;overflow-x:auto;line-height:normal;font-family:Menlo,'DejaVu Sans Mono',consolas,'Courier New',monospace\">Agent3: <span style=\"font-weight: bold\">[</span>對gpt4o評價<span style=\"font-weight: bold\">]</span>: <span style=\"color: #008080; text-decoration-color: #008080; font-weight: bold\">8</span>\n",
       "<span style=\"font-weight: bold\">[</span>對BuildMate評價<span style=\"font-weight: bold\">]</span>: <span style=\"color: #008080; text-decoration-color: #008080; font-weight: bold\">5</span>\n",
       "<span style=\"font-weight: bold\">[</span>簡短原因<span style=\"font-weight: bold\">]</span>: gpt4o整體均衡，價格合理，3060更適合大數據。BuildMate記憶體過剩，B580效能不足。\n",
       "\n",
       "</pre>\n"
      ],
      "text/plain": [
       "Agent3: \u001b[1m[\u001b[0m對gpt4o評價\u001b[1m]\u001b[0m: \u001b[1;36m8\u001b[0m\n",
       "\u001b[1m[\u001b[0m對BuildMate評價\u001b[1m]\u001b[0m: \u001b[1;36m5\u001b[0m\n",
       "\u001b[1m[\u001b[0m簡短原因\u001b[1m]\u001b[0m: gpt4o整體均衡，價格合理，3060更適合大數據。BuildMate記憶體過剩，B580效能不足。\n",
       "\n"
      ]
     },
     "metadata": {},
     "output_type": "display_data"
    },
    {
     "name": "stdout",
     "output_type": "stream",
     "text": [
      "======\n"
     ]
    },
    {
     "data": {
      "text/html": [
       "<pre style=\"white-space:pre;overflow-x:auto;line-height:normal;font-family:Menlo,'DejaVu Sans Mono',consolas,'Courier New',monospace\">Coordinator: \n",
       "已達成共識，gpt4o較佳。gpt4o的CPU和GPU組合在效能和價格上更具優勢，整體配置更均衡，適合大數據處理和虛擬機運行。\n",
       "\n",
       "</pre>\n"
      ],
      "text/plain": [
       "Coordinator: \n",
       "已達成共識，gpt4o較佳。gpt4o的CPU和GPU組合在效能和價格上更具優勢，整體配置更均衡，適合大數據處理和虛擬機運行。\n",
       "\n"
      ]
     },
     "metadata": {},
     "output_type": "display_data"
    },
    {
     "name": "stdout",
     "output_type": "stream",
     "text": [
      "======\n",
      "{'Coordinator': {'messages': [HumanMessage(content='Agent1: [對gpt4o評價]: 7\\n[對BuildMate評價]: 6\\n[簡短原因]: gpt4o在CPU/GPU選擇較佳，BuildMate電源瓦數過高，B580效能不如3060。\\n', additional_kwargs={}, response_metadata={}), HumanMessage(content='Agent2: [對gpt4o評價]: 8\\n[對BuildMate評價]: 6\\n[簡短原因]: gpt4o均衡，顯卡選擇正確。BuildMate記憶體超規，B580效能低，電源過剩。\\n', additional_kwargs={}, response_metadata={}), HumanMessage(content='Agent3: [對gpt4o評價]: 7\\n[對BuildMate評價]: 5\\n[簡短原因]: gpt4o較均衡，顯卡選擇更適合大數據。BuildMate記憶體規格過高，B580不適合此應用，電源瓦數過剩。\\n', additional_kwargs={}, response_metadata={}), HumanMessage(content='Coordinator: 已達成共識，gpt4o較佳。它在顯卡和CPU選擇上更符合大數據處理需求，整體配置更均衡，價格也更合理。\\n', additional_kwargs={}, response_metadata={}), HumanMessage(content='Agent1: [對gpt4o評價]: 8\\n[對BuildMate評價]: 5\\n[簡短原因]: gpt4o性價比高，3060效能優於B580。BuildMate記憶體頻率過高，不必要且浪費預算，電源瓦數冗餘。\\n', additional_kwargs={}, response_metadata={}), HumanMessage(content='Agent2: [對gpt4o評價]: 7\\n[對BuildMate評價]: 4\\n[簡短原因]: gpt4o配置均衡，價格合理。BuildMate顯卡效能不足，記憶體頻率過高浪費預算。\\n', additional_kwargs={}, response_metadata={}), HumanMessage(content='Agent3: [對gpt4o評價]: 8\\n[對BuildMate評價]: 5\\n[簡短原因]: gpt4o整體均衡，價格合理，3060更適合大數據。BuildMate記憶體過剩，B580效能不足。\\n', additional_kwargs={}, response_metadata={}), HumanMessage(content='Coordinator: 已達成共識，gpt4o較佳。gpt4o的CPU和GPU組合在效能和價格上更具優勢，整體配置更均衡，適合大數據處理和虛擬機運行。\\n', additional_kwargs={}, response_metadata={})], 'next_agent': '__end__', 'question_id': 21, 'question': '請問我想組一台約70000元的電腦，主要用於虛擬機運行和大數據處理，有什麼建議？', 'gpt4o_recommendation': 'CPU: AMD Ryzen 7 5800X | price: 7800\\nMotherboard: 華碩 TUF Gaming B550-PLUS | price: 4500\\nMemory: Corsair Vengeance LPX 32GB (2 x 16GB) DDR4-3200 | price: 2800\\nGPU: NVIDIA GeForce RTX 3060 12GB | price: 12000\\nStorage: Samsung 970 EVO Plus 1TB NVMe SSD | price: 3500\\nPower Supply: Corsair RM750x (750W) 80 Plus Gold | price: 3500\\nCase: Fractal Design Meshify C | price: 2500\\nCase Fan: Noctua NF-P12 redux-1700 PWM | price: 800\\n總價: 37400', 'buildmate_recommendation': 'CPU: Intel i7-14700F | price: 9700\\nMotherboard: 華碩 PRIME B760M-F D4-CSM | price: 2590\\nMemory: 美光Micron Crucial PRO 超頻 32GB(雙通16GB*2) D5 6000/CL36 黑色散熱片 | price: 2499\\nGPU: INTEL 原廠 ARC B580 12G | price: 8990\\nStorage: 威剛 ADATA LEGEND 900 1TB/Gen4/讀:7000M/寫:4700M/五年保 | price: 1999\\nPower Supply: 全漢 HYDRO PTM PRO 1000W 參8/白金/全模/主日系/防潮塗層/10年 | price: 4690\\nCase: 華碩 Prime AP201 黑 | price: 1890\\nCase Fan: MSI MEG SILENT GALE P12 靜音風扇 | price: 790\\n總價: 33148', 'agent_scores': {'Agent1_round1': {'gpt4o_score': 7, 'buildmate_score': 6, 'reason': 'gpt4o在CPU/GPU選擇較佳，BuildMate電源瓦數過高，B580效能不如3060。'}, 'Agent2_round1': {'gpt4o_score': 8, 'buildmate_score': 6, 'reason': 'gpt4o均衡，顯卡選擇正確。BuildMate記憶體超規，B580效能低，電源過剩。'}, 'Agent3_round1': {'gpt4o_score': 7, 'buildmate_score': 5, 'reason': 'gpt4o較均衡，顯卡選擇更適合大數據。BuildMate記憶體規格過高，B580不適合此應用，電源瓦數過剩。'}, 'Agent1_round2': {'gpt4o_score': 8, 'buildmate_score': 5, 'reason': 'gpt4o性價比高，3060效能優於B580。BuildMate記憶體頻率過高，不必要且浪費預算，電源瓦數冗餘。'}, 'Agent2_round2': {'gpt4o_score': 7, 'buildmate_score': 4, 'reason': 'gpt4o配置均衡，價格合理。BuildMate顯卡效能不足，記憶體頻率過高浪費預算。'}, 'Agent3_round2': {'gpt4o_score': 8, 'buildmate_score': 5, 'reason': 'gpt4o整體均衡，價格合理，3060更適合大數據。BuildMate記憶體過剩，B580效能不足。'}}, 'round_count': 2, 'max_rounds': 3, 'consensus_reached': True}}\n",
      "{\n",
      "  \"question_id\": 21,\n",
      "  \"question\": \"請問我想組一台約70000元的電腦，主要用於虛擬機運行和大數據處理，有什麼建議？\",\n",
      "  \"buildmate_recommendation\": \"CPU: Intel i7-14700F | price: 9700\\nMotherboard: 華碩 PRIME B760M-F D4-CSM | price: 2590\\nMemory: 美光Micron Crucial PRO 超頻 32GB(雙通16GB*2) D5 6000/CL36 黑色散熱片 | price: 2499\\nGPU: INTEL 原廠 ARC B580 12G | price: 8990\\nStorage: 威剛 ADATA LEGEND 900 1TB/Gen4/讀:7000M/寫:4700M/五年保 | price: 1999\\nPower Supply: 全漢 HYDRO PTM PRO 1000W 參8/白金/全模/主日系/防潮塗層/10年 | price: 4690\\nCase: 華碩 Prime AP201 黑 | price: 1890\\nCase Fan: MSI MEG SILENT GALE P12 靜音風扇 | price: 790\\n總價: 33148\",\n",
      "  \"gpt4o_recommendation\": \"CPU: AMD Ryzen 7 5800X | price: 7800\\nMotherboard: 華碩 TUF Gaming B550-PLUS | price: 4500\\nMemory: Corsair Vengeance LPX 32GB (2 x 16GB) DDR4-3200 | price: 2800\\nGPU: NVIDIA GeForce RTX 3060 12GB | price: 12000\\nStorage: Samsung 970 EVO Plus 1TB NVMe SSD | price: 3500\\nPower Supply: Corsair RM750x (750W) 80 Plus Gold | price: 3500\\nCase: Fractal Design Meshify C | price: 2500\\nCase Fan: Noctua NF-P12 redux-1700 PWM | price: 800\\n總價: 37400\",\n",
      "  \"winner\": 0,\n",
      "  \"buildmate_avg_score\": 5.166666666666667,\n",
      "  \"gpt4o_avg_score\": 7.5,\n",
      "  \"rounds\": [\n",
      "    {\n",
      "      \"round_number\": 1,\n",
      "      \"Agent1\": {\n",
      "        \"gpt4o_score\": 7,\n",
      "        \"buildmate_score\": 6,\n",
      "        \"reason\": \"gpt4o在CPU/GPU選擇較佳，BuildMate電源瓦數過高，B580效能不如3060。\"\n",
      "      },\n",
      "      \"Agent2\": {\n",
      "        \"gpt4o_score\": 8,\n",
      "        \"buildmate_score\": 6,\n",
      "        \"reason\": \"gpt4o均衡，顯卡選擇正確。BuildMate記憶體超規，B580效能低，電源過剩。\"\n",
      "      },\n",
      "      \"Agent3\": {\n",
      "        \"gpt4o_score\": 7,\n",
      "        \"buildmate_score\": 5,\n",
      "        \"reason\": \"gpt4o較均衡，顯卡選擇更適合大數據。BuildMate記憶體規格過高，B580不適合此應用，電源瓦數過剩。\"\n",
      "      }\n",
      "    },\n",
      "    {\n",
      "      \"round_number\": 2,\n",
      "      \"Agent1\": {\n",
      "        \"gpt4o_score\": 8,\n",
      "        \"buildmate_score\": 5,\n",
      "        \"reason\": \"gpt4o性價比高，3060效能優於B580。BuildMate記憶體頻率過高，不必要且浪費預算，電源瓦數冗餘。\"\n",
      "      },\n",
      "      \"Agent2\": {\n",
      "        \"gpt4o_score\": 7,\n",
      "        \"buildmate_score\": 4,\n",
      "        \"reason\": \"gpt4o配置均衡，價格合理。BuildMate顯卡效能不足，記憶體頻率過高浪費預算。\"\n",
      "      },\n",
      "      \"Agent3\": {\n",
      "        \"gpt4o_score\": 8,\n",
      "        \"buildmate_score\": 5,\n",
      "        \"reason\": \"gpt4o整體均衡，價格合理，3060更適合大數據。BuildMate記憶體過剩，B580效能不足。\"\n",
      "      }\n",
      "    }\n",
      "  ]\n",
      "}\n"
     ]
    },
    {
     "data": {
      "text/html": [
       "<pre style=\"white-space:pre;overflow-x:auto;line-height:normal;font-family:Menlo,'DejaVu Sans Mono',consolas,'Courier New',monospace\"><span style=\"font-weight: bold\">{</span>\n",
       "    <span style=\"color: #008000; text-decoration-color: #008000\">'question_id'</span>: <span style=\"color: #008080; text-decoration-color: #008080; font-weight: bold\">22</span>,\n",
       "    <span style=\"color: #008000; text-decoration-color: #008000\">'question'</span>: <span style=\"color: #008000; text-decoration-color: #008000\">'預算大約30000元，尋找一台適合初學者學習寫程式和偶爾玩遊戲的電腦，有推薦配置嗎？'</span>,\n",
       "    <span style=\"color: #008000; text-decoration-color: #008000\">'gpt4o_recommendation'</span>: <span style=\"color: #008000; text-decoration-color: #008000\">'CPU: AMD Ryzen 5 5600G | price: 4990\\nMotherboard: 華碩 TUF Gaming B550M-PLUS (Wi-Fi) </span>\n",
       "<span style=\"color: #008000; text-decoration-color: #008000\">(M-ATX) | price: 3990\\nMemory: Corsair Vengeance LPX 16GB (2 x 8GB) DDR4-3200 | price: 1990\\nGPU: 影馳 GTX 1660 </span>\n",
       "<span style=\"color: #008000; text-decoration-color: #008000\">Super 6GB | price: 5990\\nStorage: Samsung 970 EVO Plus 500GB NVMe M.2 SSD | price: 1990\\nPower Supply: Seasonic </span>\n",
       "<span style=\"color: #008000; text-decoration-color: #008000\">Focus GX-550 (550W) 80+ Gold | price: 2990\\nCase: Cooler Master MasterBox Q300L | price: 1290\\nCase Fan: Noctua </span>\n",
       "<span style=\"color: #008000; text-decoration-color: #008000\">NF-P12 redux-1700 PWM | price: 790\\n總價: 24020'</span>,\n",
       "    <span style=\"color: #008000; text-decoration-color: #008000\">'buildmate_recommendation'</span>: <span style=\"color: #008000; text-decoration-color: #008000\">'CPU: Intel i5-14400F | price: 5400\\nMotherboard: 華碩 PRIME H610M-K-CSM(DDR5) | </span>\n",
       "<span style=\"color: #008000; text-decoration-color: #008000\">price: 2490\\nMemory: UMAX 單條32GB DDR5-4800/CL40 支援 XMP | price: 2288\\nGPU: Acer Nitro Intel ARC B580 OC 12GB | </span>\n",
       "<span style=\"color: #008000; text-decoration-color: #008000\">price: 8690\\nStorage: 美光Micron Crucial BX500 500G | price: 949\\nPower Supply: 全漢 HYDRO GT PRO 1000W | price: </span>\n",
       "<span style=\"color: #008000; text-decoration-color: #008000\">3690\\nCase: 華碩 A21 黑 | price: 1490\\nCase Fan: Acer Predator Frostblade 120 風扇 | price: 390\\n總價: 25387'</span>\n",
       "<span style=\"font-weight: bold\">}</span>\n",
       "</pre>\n"
      ],
      "text/plain": [
       "\u001b[1m{\u001b[0m\n",
       "    \u001b[32m'question_id'\u001b[0m: \u001b[1;36m22\u001b[0m,\n",
       "    \u001b[32m'question'\u001b[0m: \u001b[32m'預算大約30000元，尋找一台適合初學者學習寫程式和偶爾玩遊戲的電腦，有推薦配置嗎？'\u001b[0m,\n",
       "    \u001b[32m'gpt4o_recommendation'\u001b[0m: \u001b[32m'CPU: AMD Ryzen 5 5600G | price: 4990\\nMotherboard: 華碩 TUF Gaming B550M-PLUS \u001b[0m\u001b[32m(\u001b[0m\u001b[32mWi-Fi\u001b[0m\u001b[32m)\u001b[0m\u001b[32m \u001b[0m\n",
       "\u001b[32m(\u001b[0m\u001b[32mM-ATX\u001b[0m\u001b[32m)\u001b[0m\u001b[32m | price: 3990\\nMemory: Corsair Vengeance LPX 16GB \u001b[0m\u001b[32m(\u001b[0m\u001b[32m2 x 8GB\u001b[0m\u001b[32m)\u001b[0m\u001b[32m DDR4-3200 | price: 1990\\nGPU: 影馳 GTX 1660 \u001b[0m\n",
       "\u001b[32mSuper 6GB | price: 5990\\nStorage: Samsung 970 EVO Plus 500GB NVMe M.2 SSD | price: 1990\\nPower Supply: Seasonic \u001b[0m\n",
       "\u001b[32mFocus GX-550 \u001b[0m\u001b[32m(\u001b[0m\u001b[32m550W\u001b[0m\u001b[32m)\u001b[0m\u001b[32m 80+ Gold | price: 2990\\nCase: Cooler Master MasterBox Q300L | price: 1290\\nCase Fan: Noctua \u001b[0m\n",
       "\u001b[32mNF-P12 redux-1700 PWM | price: 790\\n總價: 24020'\u001b[0m,\n",
       "    \u001b[32m'buildmate_recommendation'\u001b[0m: \u001b[32m'CPU: Intel i5-14400F | price: 5400\\nMotherboard: 華碩 PRIME H610M-K-CSM\u001b[0m\u001b[32m(\u001b[0m\u001b[32mDDR5\u001b[0m\u001b[32m)\u001b[0m\u001b[32m | \u001b[0m\n",
       "\u001b[32mprice: 2490\\nMemory: UMAX 單條32GB DDR5-4800/CL40 支援 XMP | price: 2288\\nGPU: Acer Nitro Intel ARC B580 OC 12GB | \u001b[0m\n",
       "\u001b[32mprice: 8690\\nStorage: 美光Micron Crucial BX500 500G | price: 949\\nPower Supply: 全漢 HYDRO GT PRO 1000W | price: \u001b[0m\n",
       "\u001b[32m3690\\nCase: 華碩 A21 黑 | price: 1490\\nCase Fan: Acer Predator Frostblade 120 風扇 | price: 390\\n總價: 25387'\u001b[0m\n",
       "\u001b[1m}\u001b[0m\n"
      ]
     },
     "metadata": {},
     "output_type": "display_data"
    },
    {
     "data": {
      "text/html": [
       "<pre style=\"white-space:pre;overflow-x:auto;line-height:normal;font-family:Menlo,'DejaVu Sans Mono',consolas,'Courier New',monospace\">Agent1: <span style=\"font-weight: bold\">[</span>對gpt4o評價<span style=\"font-weight: bold\">]</span>: <span style=\"color: #008080; text-decoration-color: #008080; font-weight: bold\">8</span>\n",
       "<span style=\"font-weight: bold\">[</span>對BuildMate評價<span style=\"font-weight: bold\">]</span>: <span style=\"color: #008080; text-decoration-color: #008080; font-weight: bold\">6</span>\n",
       "<span style=\"font-weight: bold\">[</span>簡短原因<span style=\"font-weight: bold\">]</span>: gpt4o均衡，散熱/電源充足。BuildMate記憶體單通道、顯卡/電源過剩。\n",
       "\n",
       "</pre>\n"
      ],
      "text/plain": [
       "Agent1: \u001b[1m[\u001b[0m對gpt4o評價\u001b[1m]\u001b[0m: \u001b[1;36m8\u001b[0m\n",
       "\u001b[1m[\u001b[0m對BuildMate評價\u001b[1m]\u001b[0m: \u001b[1;36m6\u001b[0m\n",
       "\u001b[1m[\u001b[0m簡短原因\u001b[1m]\u001b[0m: gpt4o均衡，散熱/電源充足。BuildMate記憶體單通道、顯卡/電源過剩。\n",
       "\n"
      ]
     },
     "metadata": {},
     "output_type": "display_data"
    },
    {
     "name": "stdout",
     "output_type": "stream",
     "text": [
      "======\n"
     ]
    },
    {
     "data": {
      "text/html": [
       "<pre style=\"white-space:pre;overflow-x:auto;line-height:normal;font-family:Menlo,'DejaVu Sans Mono',consolas,'Courier New',monospace\">Agent2: <span style=\"font-weight: bold\">[</span>對gpt4o評價<span style=\"font-weight: bold\">]</span>: <span style=\"color: #008080; text-decoration-color: #008080; font-weight: bold\">8</span>\n",
       "<span style=\"font-weight: bold\">[</span>對BuildMate評價<span style=\"font-weight: bold\">]</span>: <span style=\"color: #008080; text-decoration-color: #008080; font-weight: bold\">6</span>\n",
       "<span style=\"font-weight: bold\">[</span>簡短原因<span style=\"font-weight: bold\">]</span>: gpt4o較均衡，BuildMate記憶體單通道、顯卡低CP值。\n",
       "\n",
       "</pre>\n"
      ],
      "text/plain": [
       "Agent2: \u001b[1m[\u001b[0m對gpt4o評價\u001b[1m]\u001b[0m: \u001b[1;36m8\u001b[0m\n",
       "\u001b[1m[\u001b[0m對BuildMate評價\u001b[1m]\u001b[0m: \u001b[1;36m6\u001b[0m\n",
       "\u001b[1m[\u001b[0m簡短原因\u001b[1m]\u001b[0m: gpt4o較均衡，BuildMate記憶體單通道、顯卡低CP值。\n",
       "\n"
      ]
     },
     "metadata": {},
     "output_type": "display_data"
    },
    {
     "name": "stdout",
     "output_type": "stream",
     "text": [
      "======\n"
     ]
    },
    {
     "data": {
      "text/html": [
       "<pre style=\"white-space:pre;overflow-x:auto;line-height:normal;font-family:Menlo,'DejaVu Sans Mono',consolas,'Courier New',monospace\">Agent3: <span style=\"font-weight: bold\">[</span>對gpt4o評價<span style=\"font-weight: bold\">]</span>: <span style=\"color: #008080; text-decoration-color: #008080; font-weight: bold\">9</span>\n",
       "<span style=\"font-weight: bold\">[</span>對BuildMate評價<span style=\"font-weight: bold\">]</span>: <span style=\"color: #008080; text-decoration-color: #008080; font-weight: bold\">6</span>\n",
       "<span style=\"font-weight: bold\">[</span>簡短原因<span style=\"font-weight: bold\">]</span>: gpt4o 價格/效能佳，BuildMate記憶體單通道、顯卡/電源過剩，不適合新手。\n",
       "\n",
       "</pre>\n"
      ],
      "text/plain": [
       "Agent3: \u001b[1m[\u001b[0m對gpt4o評價\u001b[1m]\u001b[0m: \u001b[1;36m9\u001b[0m\n",
       "\u001b[1m[\u001b[0m對BuildMate評價\u001b[1m]\u001b[0m: \u001b[1;36m6\u001b[0m\n",
       "\u001b[1m[\u001b[0m簡短原因\u001b[1m]\u001b[0m: gpt4o 價格/效能佳，BuildMate記憶體單通道、顯卡/電源過剩，不適合新手。\n",
       "\n"
      ]
     },
     "metadata": {},
     "output_type": "display_data"
    },
    {
     "name": "stdout",
     "output_type": "stream",
     "text": [
      "======\n"
     ]
    },
    {
     "data": {
      "text/html": [
       "<pre style=\"white-space:pre;overflow-x:auto;line-height:normal;font-family:Menlo,'DejaVu Sans Mono',consolas,'Courier New',monospace\">Coordinator: 已達成共識， gpt4o較佳。記憶體雙通道效能較佳、顯卡選擇更適合遊戲、電源瓦數適中價格也更低。\n",
       "\n",
       "</pre>\n"
      ],
      "text/plain": [
       "Coordinator: 已達成共識， gpt4o較佳。記憶體雙通道效能較佳、顯卡選擇更適合遊戲、電源瓦數適中價格也更低。\n",
       "\n"
      ]
     },
     "metadata": {},
     "output_type": "display_data"
    },
    {
     "name": "stdout",
     "output_type": "stream",
     "text": [
      "======\n"
     ]
    },
    {
     "data": {
      "text/html": [
       "<pre style=\"white-space:pre;overflow-x:auto;line-height:normal;font-family:Menlo,'DejaVu Sans Mono',consolas,'Courier New',monospace\">Agent1: <span style=\"font-weight: bold\">[</span>對gpt4o評價<span style=\"font-weight: bold\">]</span>: <span style=\"color: #008080; text-decoration-color: #008080; font-weight: bold\">9</span>\n",
       "<span style=\"font-weight: bold\">[</span>對BuildMate評價<span style=\"font-weight: bold\">]</span>: <span style=\"color: #008080; text-decoration-color: #008080; font-weight: bold\">5</span>\n",
       "<span style=\"font-weight: bold\">[</span>簡短原因<span style=\"font-weight: bold\">]</span>: gpt4o性價比高，均衡穩定。BuildMate電源過剩、單通道記憶體、顯卡性價比低。\n",
       "\n",
       "</pre>\n"
      ],
      "text/plain": [
       "Agent1: \u001b[1m[\u001b[0m對gpt4o評價\u001b[1m]\u001b[0m: \u001b[1;36m9\u001b[0m\n",
       "\u001b[1m[\u001b[0m對BuildMate評價\u001b[1m]\u001b[0m: \u001b[1;36m5\u001b[0m\n",
       "\u001b[1m[\u001b[0m簡短原因\u001b[1m]\u001b[0m: gpt4o性價比高，均衡穩定。BuildMate電源過剩、單通道記憶體、顯卡性價比低。\n",
       "\n"
      ]
     },
     "metadata": {},
     "output_type": "display_data"
    },
    {
     "name": "stdout",
     "output_type": "stream",
     "text": [
      "======\n"
     ]
    },
    {
     "data": {
      "text/html": [
       "<pre style=\"white-space:pre;overflow-x:auto;line-height:normal;font-family:Menlo,'DejaVu Sans Mono',consolas,'Courier New',monospace\">Agent2: <span style=\"font-weight: bold\">[</span>對gpt4o評價<span style=\"font-weight: bold\">]</span>: <span style=\"color: #008080; text-decoration-color: #008080; font-weight: bold\">9</span>\n",
       "<span style=\"font-weight: bold\">[</span>對BuildMate評價<span style=\"font-weight: bold\">]</span>: <span style=\"color: #008080; text-decoration-color: #008080; font-weight: bold\">5</span>\n",
       "<span style=\"font-weight: bold\">[</span>簡短原因<span style=\"font-weight: bold\">]</span>: gpt4o配置均衡，價格合理。BuildMate顯卡/電源過剩，記憶體單通道影響效能。\n",
       "\n",
       "</pre>\n"
      ],
      "text/plain": [
       "Agent2: \u001b[1m[\u001b[0m對gpt4o評價\u001b[1m]\u001b[0m: \u001b[1;36m9\u001b[0m\n",
       "\u001b[1m[\u001b[0m對BuildMate評價\u001b[1m]\u001b[0m: \u001b[1;36m5\u001b[0m\n",
       "\u001b[1m[\u001b[0m簡短原因\u001b[1m]\u001b[0m: gpt4o配置均衡，價格合理。BuildMate顯卡/電源過剩，記憶體單通道影響效能。\n",
       "\n"
      ]
     },
     "metadata": {},
     "output_type": "display_data"
    },
    {
     "name": "stdout",
     "output_type": "stream",
     "text": [
      "======\n"
     ]
    },
    {
     "data": {
      "text/html": [
       "<pre style=\"white-space:pre;overflow-x:auto;line-height:normal;font-family:Menlo,'DejaVu Sans Mono',consolas,'Courier New',monospace\">Agent3: Agent1: <span style=\"font-weight: bold\">[</span>對gpt4o評價<span style=\"font-weight: bold\">]</span>: <span style=\"color: #008080; text-decoration-color: #008080; font-weight: bold\">9</span>\n",
       "<span style=\"font-weight: bold\">[</span>對BuildMate評價<span style=\"font-weight: bold\">]</span>: <span style=\"color: #008080; text-decoration-color: #008080; font-weight: bold\">5</span>\n",
       "<span style=\"font-weight: bold\">[</span>簡短原因<span style=\"font-weight: bold\">]</span>: gpt4o均衡，價格合理。BuildMate單通道記憶體、顯卡性價比低、電源過剩。\n",
       "\n",
       "Agent2: <span style=\"font-weight: bold\">[</span>對gpt4o評價<span style=\"font-weight: bold\">]</span>: <span style=\"color: #008080; text-decoration-color: #008080; font-weight: bold\">9</span>\n",
       "<span style=\"font-weight: bold\">[</span>對BuildMate評價<span style=\"font-weight: bold\">]</span>: <span style=\"color: #008080; text-decoration-color: #008080; font-weight: bold\">5</span>\n",
       "<span style=\"font-weight: bold\">[</span>簡短原因<span style=\"font-weight: bold\">]</span>: gpt4o性價比高，適合新手。BuildMate記憶體單通道、電源過剩、顯卡性價比低。\n",
       "\n",
       "Agent3: <span style=\"font-weight: bold\">[</span>對gpt4o評價<span style=\"font-weight: bold\">]</span>: <span style=\"color: #008080; text-decoration-color: #008080; font-weight: bold\">9</span>\n",
       "<span style=\"font-weight: bold\">[</span>對BuildMate評價<span style=\"font-weight: bold\">]</span>: <span style=\"color: #008080; text-decoration-color: #008080; font-weight: bold\">5</span>\n",
       "<span style=\"font-weight: bold\">[</span>簡短原因<span style=\"font-weight: bold\">]</span>: gpt4o配置均衡，價格合理。BuildMate記憶體單通道、電源過剩、顯卡低CP值。\n",
       "\n",
       "</pre>\n"
      ],
      "text/plain": [
       "Agent3: Agent1: \u001b[1m[\u001b[0m對gpt4o評價\u001b[1m]\u001b[0m: \u001b[1;36m9\u001b[0m\n",
       "\u001b[1m[\u001b[0m對BuildMate評價\u001b[1m]\u001b[0m: \u001b[1;36m5\u001b[0m\n",
       "\u001b[1m[\u001b[0m簡短原因\u001b[1m]\u001b[0m: gpt4o均衡，價格合理。BuildMate單通道記憶體、顯卡性價比低、電源過剩。\n",
       "\n",
       "Agent2: \u001b[1m[\u001b[0m對gpt4o評價\u001b[1m]\u001b[0m: \u001b[1;36m9\u001b[0m\n",
       "\u001b[1m[\u001b[0m對BuildMate評價\u001b[1m]\u001b[0m: \u001b[1;36m5\u001b[0m\n",
       "\u001b[1m[\u001b[0m簡短原因\u001b[1m]\u001b[0m: gpt4o性價比高，適合新手。BuildMate記憶體單通道、電源過剩、顯卡性價比低。\n",
       "\n",
       "Agent3: \u001b[1m[\u001b[0m對gpt4o評價\u001b[1m]\u001b[0m: \u001b[1;36m9\u001b[0m\n",
       "\u001b[1m[\u001b[0m對BuildMate評價\u001b[1m]\u001b[0m: \u001b[1;36m5\u001b[0m\n",
       "\u001b[1m[\u001b[0m簡短原因\u001b[1m]\u001b[0m: gpt4o配置均衡，價格合理。BuildMate記憶體單通道、電源過剩、顯卡低CP值。\n",
       "\n"
      ]
     },
     "metadata": {},
     "output_type": "display_data"
    },
    {
     "name": "stdout",
     "output_type": "stream",
     "text": [
      "======\n"
     ]
    },
    {
     "data": {
      "text/html": [
       "<pre style=\"white-space:pre;overflow-x:auto;line-height:normal;font-family:Menlo,'DejaVu Sans Mono',consolas,'Courier New',monospace\">Coordinator: 已達成共識， \n",
       "gpt4o較佳。gpt4o的配置更均衡，價格也更低，記憶體雙通道對效能更有利。BuildMate的電源和顯卡過剩，單通道記憶體影響效能\n",
       "。\n",
       "\n",
       "</pre>\n"
      ],
      "text/plain": [
       "Coordinator: 已達成共識， \n",
       "gpt4o較佳。gpt4o的配置更均衡，價格也更低，記憶體雙通道對效能更有利。BuildMate的電源和顯卡過剩，單通道記憶體影響效能\n",
       "。\n",
       "\n"
      ]
     },
     "metadata": {},
     "output_type": "display_data"
    },
    {
     "name": "stdout",
     "output_type": "stream",
     "text": [
      "======\n",
      "{'Coordinator': {'messages': [HumanMessage(content='Agent1: [對gpt4o評價]: 8\\n[對BuildMate評價]: 6\\n[簡短原因]: gpt4o均衡，散熱/電源充足。BuildMate記憶體單通道、顯卡/電源過剩。\\n', additional_kwargs={}, response_metadata={}), HumanMessage(content='Agent2: [對gpt4o評價]: 8\\n[對BuildMate評價]: 6\\n[簡短原因]: gpt4o較均衡，BuildMate記憶體單通道、顯卡低CP值。\\n', additional_kwargs={}, response_metadata={}), HumanMessage(content='Agent3: [對gpt4o評價]: 9\\n[對BuildMate評價]: 6\\n[簡短原因]: gpt4o 價格/效能佳，BuildMate記憶體單通道、顯卡/電源過剩，不適合新手。\\n', additional_kwargs={}, response_metadata={}), HumanMessage(content='Coordinator: 已達成共識， gpt4o較佳。記憶體雙通道效能較佳、顯卡選擇更適合遊戲、電源瓦數適中價格也更低。\\n', additional_kwargs={}, response_metadata={}), HumanMessage(content='Agent1: [對gpt4o評價]: 9\\n[對BuildMate評價]: 5\\n[簡短原因]: gpt4o性價比高，均衡穩定。BuildMate電源過剩、單通道記憶體、顯卡性價比低。\\n', additional_kwargs={}, response_metadata={}), HumanMessage(content='Agent2: [對gpt4o評價]: 9\\n[對BuildMate評價]: 5\\n[簡短原因]: gpt4o配置均衡，價格合理。BuildMate顯卡/電源過剩，記憶體單通道影響效能。\\n', additional_kwargs={}, response_metadata={}), HumanMessage(content='Agent3: Agent1: [對gpt4o評價]: 9\\n[對BuildMate評價]: 5\\n[簡短原因]: gpt4o均衡，價格合理。BuildMate單通道記憶體、顯卡性價比低、電源過剩。\\n\\nAgent2: [對gpt4o評價]: 9\\n[對BuildMate評價]: 5\\n[簡短原因]: gpt4o性價比高，適合新手。BuildMate記憶體單通道、電源過剩、顯卡性價比低。\\n\\nAgent3: [對gpt4o評價]: 9\\n[對BuildMate評價]: 5\\n[簡短原因]: gpt4o配置均衡，價格合理。BuildMate記憶體單通道、電源過剩、顯卡低CP值。\\n', additional_kwargs={}, response_metadata={}), HumanMessage(content='Coordinator: 已達成共識， gpt4o較佳。gpt4o的配置更均衡，價格也更低，記憶體雙通道對效能更有利。BuildMate的電源和顯卡過剩，單通道記憶體影響效能。\\n', additional_kwargs={}, response_metadata={})], 'next_agent': '__end__', 'question_id': 22, 'question': '預算大約30000元，尋找一台適合初學者學習寫程式和偶爾玩遊戲的電腦，有推薦配置嗎？', 'gpt4o_recommendation': 'CPU: AMD Ryzen 5 5600G | price: 4990\\nMotherboard: 華碩 TUF Gaming B550M-PLUS (Wi-Fi) (M-ATX) | price: 3990\\nMemory: Corsair Vengeance LPX 16GB (2 x 8GB) DDR4-3200 | price: 1990\\nGPU: 影馳 GTX 1660 Super 6GB | price: 5990\\nStorage: Samsung 970 EVO Plus 500GB NVMe M.2 SSD | price: 1990\\nPower Supply: Seasonic Focus GX-550 (550W) 80+ Gold | price: 2990\\nCase: Cooler Master MasterBox Q300L | price: 1290\\nCase Fan: Noctua NF-P12 redux-1700 PWM | price: 790\\n總價: 24020', 'buildmate_recommendation': 'CPU: Intel i5-14400F | price: 5400\\nMotherboard: 華碩 PRIME H610M-K-CSM(DDR5) | price: 2490\\nMemory: UMAX 單條32GB DDR5-4800/CL40 支援 XMP | price: 2288\\nGPU: Acer Nitro Intel ARC B580 OC 12GB | price: 8690\\nStorage: 美光Micron Crucial BX500 500G | price: 949\\nPower Supply: 全漢 HYDRO GT PRO 1000W | price: 3690\\nCase: 華碩 A21 黑 | price: 1490\\nCase Fan: Acer Predator Frostblade 120 風扇 | price: 390\\n總價: 25387', 'agent_scores': {'Agent1_round1': {'gpt4o_score': 8, 'buildmate_score': 6, 'reason': 'gpt4o均衡，散熱/電源充足。BuildMate記憶體單通道、顯卡/電源過剩。'}, 'Agent2_round1': {'gpt4o_score': 8, 'buildmate_score': 6, 'reason': 'gpt4o較均衡，BuildMate記憶體單通道、顯卡低CP值。'}, 'Agent3_round1': {'gpt4o_score': 9, 'buildmate_score': 6, 'reason': 'gpt4o 價格/效能佳，BuildMate記憶體單通道、顯卡/電源過剩，不適合新手。'}, 'Agent1_round2': {'gpt4o_score': 9, 'buildmate_score': 5, 'reason': 'gpt4o性價比高，均衡穩定。BuildMate電源過剩、單通道記憶體、顯卡性價比低。'}, 'Agent2_round2': {'gpt4o_score': 9, 'buildmate_score': 5, 'reason': 'gpt4o配置均衡，價格合理。BuildMate顯卡/電源過剩，記憶體單通道影響效能。'}, 'Agent3_round2': {'gpt4o_score': 9, 'buildmate_score': 5, 'reason': 'gpt4o均衡，價格合理。BuildMate單通道記憶體、顯卡性價比低、電源過剩。'}}, 'round_count': 2, 'max_rounds': 3, 'consensus_reached': True}}\n",
      "{\n",
      "  \"question_id\": 22,\n",
      "  \"question\": \"預算大約30000元，尋找一台適合初學者學習寫程式和偶爾玩遊戲的電腦，有推薦配置嗎？\",\n",
      "  \"buildmate_recommendation\": \"CPU: Intel i5-14400F | price: 5400\\nMotherboard: 華碩 PRIME H610M-K-CSM(DDR5) | price: 2490\\nMemory: UMAX 單條32GB DDR5-4800/CL40 支援 XMP | price: 2288\\nGPU: Acer Nitro Intel ARC B580 OC 12GB | price: 8690\\nStorage: 美光Micron Crucial BX500 500G | price: 949\\nPower Supply: 全漢 HYDRO GT PRO 1000W | price: 3690\\nCase: 華碩 A21 黑 | price: 1490\\nCase Fan: Acer Predator Frostblade 120 風扇 | price: 390\\n總價: 25387\",\n",
      "  \"gpt4o_recommendation\": \"CPU: AMD Ryzen 5 5600G | price: 4990\\nMotherboard: 華碩 TUF Gaming B550M-PLUS (Wi-Fi) (M-ATX) | price: 3990\\nMemory: Corsair Vengeance LPX 16GB (2 x 8GB) DDR4-3200 | price: 1990\\nGPU: 影馳 GTX 1660 Super 6GB | price: 5990\\nStorage: Samsung 970 EVO Plus 500GB NVMe M.2 SSD | price: 1990\\nPower Supply: Seasonic Focus GX-550 (550W) 80+ Gold | price: 2990\\nCase: Cooler Master MasterBox Q300L | price: 1290\\nCase Fan: Noctua NF-P12 redux-1700 PWM | price: 790\\n總價: 24020\",\n",
      "  \"winner\": 0,\n",
      "  \"buildmate_avg_score\": 5.5,\n",
      "  \"gpt4o_avg_score\": 8.666666666666666,\n",
      "  \"rounds\": [\n",
      "    {\n",
      "      \"round_number\": 1,\n",
      "      \"Agent1\": {\n",
      "        \"gpt4o_score\": 8,\n",
      "        \"buildmate_score\": 6,\n",
      "        \"reason\": \"gpt4o均衡，散熱/電源充足。BuildMate記憶體單通道、顯卡/電源過剩。\"\n",
      "      },\n",
      "      \"Agent2\": {\n",
      "        \"gpt4o_score\": 8,\n",
      "        \"buildmate_score\": 6,\n",
      "        \"reason\": \"gpt4o較均衡，BuildMate記憶體單通道、顯卡低CP值。\"\n",
      "      },\n",
      "      \"Agent3\": {\n",
      "        \"gpt4o_score\": 9,\n",
      "        \"buildmate_score\": 6,\n",
      "        \"reason\": \"gpt4o 價格/效能佳，BuildMate記憶體單通道、顯卡/電源過剩，不適合新手。\"\n",
      "      }\n",
      "    },\n",
      "    {\n",
      "      \"round_number\": 2,\n",
      "      \"Agent1\": {\n",
      "        \"gpt4o_score\": 9,\n",
      "        \"buildmate_score\": 5,\n",
      "        \"reason\": \"gpt4o性價比高，均衡穩定。BuildMate電源過剩、單通道記憶體、顯卡性價比低。\"\n",
      "      },\n",
      "      \"Agent2\": {\n",
      "        \"gpt4o_score\": 9,\n",
      "        \"buildmate_score\": 5,\n",
      "        \"reason\": \"gpt4o配置均衡，價格合理。BuildMate顯卡/電源過剩，記憶體單通道影響效能。\"\n",
      "      },\n",
      "      \"Agent3\": {\n",
      "        \"gpt4o_score\": 9,\n",
      "        \"buildmate_score\": 5,\n",
      "        \"reason\": \"gpt4o均衡，價格合理。BuildMate單通道記憶體、顯卡性價比低、電源過剩。\"\n",
      "      }\n",
      "    }\n",
      "  ]\n",
      "}\n"
     ]
    },
    {
     "data": {
      "text/html": [
       "<pre style=\"white-space:pre;overflow-x:auto;line-height:normal;font-family:Menlo,'DejaVu Sans Mono',consolas,'Courier New',monospace\"><span style=\"font-weight: bold\">{</span>\n",
       "    <span style=\"color: #008000; text-decoration-color: #008000\">'question_id'</span>: <span style=\"color: #008080; text-decoration-color: #008080; font-weight: bold\">23</span>,\n",
       "    <span style=\"color: #008000; text-decoration-color: #008000\">'question'</span>: <span style=\"color: #008000; text-decoration-color: #008000\">'我要組裝一台預算約40000元的電腦，主要用來看4K電影和日常使用，有建議配置嗎？'</span>,\n",
       "    <span style=\"color: #008000; text-decoration-color: #008000\">'gpt4o_recommendation'</span>: <span style=\"color: #008000; text-decoration-color: #008000\">'CPU: AMD Ryzen 5 5600G | price: 4500\\nMotherboard: ASRock B550M-HDV | price: </span>\n",
       "<span style=\"color: #008000; text-decoration-color: #008000\">2900\\nMemory: Corsair Vengeance LPX 16GB (2 x 8GB) DDR4-3200 | price: 1800\\nGPU: ASUS GeForce GTX 1660 Super 6GB | </span>\n",
       "<span style=\"color: #008000; text-decoration-color: #008000\">price: 6500\\nStorage: Samsung 970 EVO Plus 1TB NVMe M.2 SSD | price: 3500\\nPower Supply: Cooler Master MWE 650W 80+</span>\n",
       "<span style=\"color: #008000; text-decoration-color: #008000\">Gold | price: 2500\\nCase: Cooler Master MasterBox Q300L | price: 1200\\nCase Fan: ARCTIC P12 PWM PST 120mm | price: </span>\n",
       "<span style=\"color: #008000; text-decoration-color: #008000\">500\\n總價: 23400'</span>,\n",
       "    <span style=\"color: #008000; text-decoration-color: #008000\">'buildmate_recommendation'</span>: <span style=\"color: #008000; text-decoration-color: #008000\">'CPU: Intel Core Ultra 5 245KF | price: 9650\\nMotherboard: 華碩 PRIME </span>\n",
       "<span style=\"color: #008000; text-decoration-color: #008000\">H610M-K-CSM(DDR5)(M-ATX/1A1H/Realtek 1Gb/註冊四年/2DIMM) | price: 2890\\nMemory: UMAX 單條16GB DDR5-4800/CL40 支援 </span>\n",
       "<span style=\"color: #008000; text-decoration-color: #008000\">XMP | price: 1150\\nGPU: INTEL 原廠 ARC B580 12G | price: 8990\\nStorage: 威剛 Ultimate SU650 </span>\n",
       "<span style=\"color: #008000; text-decoration-color: #008000\">480G/2.5吋/讀:520M/寫:450M/TLC顆粒【三年保】 | price: 899\\nPower Supply: 全漢 HYDRO PTM X PRO 1000W ATX3.0(PCIe </span>\n",
       "<span style=\"color: #008000; text-decoration-color: #008000\">5.0) 雙8/白金/全模/全日系/短機身/10年 | price: 3990\\nCase: 銀欣 RL08 紅黑 顯卡長34.5/U高16.8/右方玻璃透側/M-ATX </span>\n",
       "<span style=\"color: #008000; text-decoration-color: #008000\">左側放置推薦！ | price: 1290\\nCase Fan: 安耐美 靜蝠 12cm 磁力滾珠軸承 | price: 230\\n總價: 29089'</span>\n",
       "<span style=\"font-weight: bold\">}</span>\n",
       "</pre>\n"
      ],
      "text/plain": [
       "\u001b[1m{\u001b[0m\n",
       "    \u001b[32m'question_id'\u001b[0m: \u001b[1;36m23\u001b[0m,\n",
       "    \u001b[32m'question'\u001b[0m: \u001b[32m'我要組裝一台預算約40000元的電腦，主要用來看4K電影和日常使用，有建議配置嗎？'\u001b[0m,\n",
       "    \u001b[32m'gpt4o_recommendation'\u001b[0m: \u001b[32m'CPU: AMD Ryzen 5 5600G | price: 4500\\nMotherboard: ASRock B550M-HDV | price: \u001b[0m\n",
       "\u001b[32m2900\\nMemory: Corsair Vengeance LPX 16GB \u001b[0m\u001b[32m(\u001b[0m\u001b[32m2 x 8GB\u001b[0m\u001b[32m)\u001b[0m\u001b[32m DDR4-3200 | price: 1800\\nGPU: ASUS GeForce GTX 1660 Super 6GB | \u001b[0m\n",
       "\u001b[32mprice: 6500\\nStorage: Samsung 970 EVO Plus 1TB NVMe M.2 SSD | price: 3500\\nPower Supply: Cooler Master MWE 650W 80+\u001b[0m\n",
       "\u001b[32mGold | price: 2500\\nCase: Cooler Master MasterBox Q300L | price: 1200\\nCase Fan: ARCTIC P12 PWM PST 120mm | price: \u001b[0m\n",
       "\u001b[32m500\\n總價: 23400'\u001b[0m,\n",
       "    \u001b[32m'buildmate_recommendation'\u001b[0m: \u001b[32m'CPU: Intel Core Ultra 5 245KF | price: 9650\\nMotherboard: 華碩 PRIME \u001b[0m\n",
       "\u001b[32mH610M-K-CSM\u001b[0m\u001b[32m(\u001b[0m\u001b[32mDDR5\u001b[0m\u001b[32m)\u001b[0m\u001b[32m(\u001b[0m\u001b[32mM-ATX/1A1H/Realtek 1Gb/註冊四年/2DIMM\u001b[0m\u001b[32m)\u001b[0m\u001b[32m | price: 2890\\nMemory: UMAX 單條16GB DDR5-4800/CL40 支援 \u001b[0m\n",
       "\u001b[32mXMP | price: 1150\\nGPU: INTEL 原廠 ARC B580 12G | price: 8990\\nStorage: 威剛 Ultimate SU650 \u001b[0m\n",
       "\u001b[32m480G/2.5吋/讀:520M/寫:450M/TLC顆粒【三年保】 | price: 899\\nPower Supply: 全漢 HYDRO PTM X PRO 1000W ATX3.0\u001b[0m\u001b[32m(\u001b[0m\u001b[32mPCIe \u001b[0m\n",
       "\u001b[32m5.0\u001b[0m\u001b[32m)\u001b[0m\u001b[32m 雙8/白金/全模/全日系/短機身/10年 | price: 3990\\nCase: 銀欣 RL08 紅黑 顯卡長34.5/U高16.8/右方玻璃透側/M-ATX \u001b[0m\n",
       "\u001b[32m左側放置推薦！ | price: 1290\\nCase Fan: 安耐美 靜蝠 12cm 磁力滾珠軸承 | price: 230\\n總價: 29089'\u001b[0m\n",
       "\u001b[1m}\u001b[0m\n"
      ]
     },
     "metadata": {},
     "output_type": "display_data"
    },
    {
     "data": {
      "text/html": [
       "<pre style=\"white-space:pre;overflow-x:auto;line-height:normal;font-family:Menlo,'DejaVu Sans Mono',consolas,'Courier New',monospace\">Agent1: <span style=\"font-weight: bold\">[</span>對gpt4o評價<span style=\"font-weight: bold\">]</span>: <span style=\"color: #008080; text-decoration-color: #008080; font-weight: bold\">7</span>\n",
       "<span style=\"font-weight: bold\">[</span>對BuildMate評價<span style=\"font-weight: bold\">]</span>: <span style=\"color: #008080; text-decoration-color: #008080; font-weight: bold\">4</span>\n",
       "<span style=\"font-weight: bold\">[</span>簡短原因<span style=\"font-weight: bold\">]</span>: gpt4o均衡，價格合理。BuildMate CPU/GPU配對不佳，電源瓦數過高。\n",
       "\n",
       "</pre>\n"
      ],
      "text/plain": [
       "Agent1: \u001b[1m[\u001b[0m對gpt4o評價\u001b[1m]\u001b[0m: \u001b[1;36m7\u001b[0m\n",
       "\u001b[1m[\u001b[0m對BuildMate評價\u001b[1m]\u001b[0m: \u001b[1;36m4\u001b[0m\n",
       "\u001b[1m[\u001b[0m簡短原因\u001b[1m]\u001b[0m: gpt4o均衡，價格合理。BuildMate CPU/GPU配對不佳，電源瓦數過高。\n",
       "\n"
      ]
     },
     "metadata": {},
     "output_type": "display_data"
    },
    {
     "name": "stdout",
     "output_type": "stream",
     "text": [
      "======\n"
     ]
    },
    {
     "data": {
      "text/html": [
       "<pre style=\"white-space:pre;overflow-x:auto;line-height:normal;font-family:Menlo,'DejaVu Sans Mono',consolas,'Courier New',monospace\">Agent2: <span style=\"font-weight: bold\">[</span>對gpt4o評價<span style=\"font-weight: bold\">]</span>: <span style=\"color: #008080; text-decoration-color: #008080; font-weight: bold\">8</span>\n",
       "<span style=\"font-weight: bold\">[</span>對BuildMate評價<span style=\"font-weight: bold\">]</span>: <span style=\"color: #008080; text-decoration-color: #008080; font-weight: bold\">5</span>\n",
       "<span style=\"font-weight: bold\">[</span>簡短原因<span style=\"font-weight: bold\">]</span>: gpt4o在預算內選擇1660S較為合理。BuildMate用高價CPU搭配低階顯卡及過高瓦數電源。\n",
       "\n",
       "</pre>\n"
      ],
      "text/plain": [
       "Agent2: \u001b[1m[\u001b[0m對gpt4o評價\u001b[1m]\u001b[0m: \u001b[1;36m8\u001b[0m\n",
       "\u001b[1m[\u001b[0m對BuildMate評價\u001b[1m]\u001b[0m: \u001b[1;36m5\u001b[0m\n",
       "\u001b[1m[\u001b[0m簡短原因\u001b[1m]\u001b[0m: gpt4o在預算內選擇1660S較為合理。BuildMate用高價CPU搭配低階顯卡及過高瓦數電源。\n",
       "\n"
      ]
     },
     "metadata": {},
     "output_type": "display_data"
    },
    {
     "name": "stdout",
     "output_type": "stream",
     "text": [
      "======\n"
     ]
    },
    {
     "data": {
      "text/html": [
       "<pre style=\"white-space:pre;overflow-x:auto;line-height:normal;font-family:Menlo,'DejaVu Sans Mono',consolas,'Courier New',monospace\">Agent3: <span style=\"font-weight: bold\">[</span>對gpt4o評價<span style=\"font-weight: bold\">]</span>: <span style=\"color: #008080; text-decoration-color: #008080; font-weight: bold\">8</span>\n",
       "<span style=\"font-weight: bold\">[</span>對BuildMate評價<span style=\"font-weight: bold\">]</span>: <span style=\"color: #008080; text-decoration-color: #008080; font-weight: bold\">4</span>\n",
       "<span style=\"font-weight: bold\">[</span>簡短原因<span style=\"font-weight: bold\">]</span>: gpt4o 價格合理，效能符合看4K影片需求。BuildMate CPU/GPU搭配不合理，電源瓦數過高。\n",
       "\n",
       "</pre>\n"
      ],
      "text/plain": [
       "Agent3: \u001b[1m[\u001b[0m對gpt4o評價\u001b[1m]\u001b[0m: \u001b[1;36m8\u001b[0m\n",
       "\u001b[1m[\u001b[0m對BuildMate評價\u001b[1m]\u001b[0m: \u001b[1;36m4\u001b[0m\n",
       "\u001b[1m[\u001b[0m簡短原因\u001b[1m]\u001b[0m: gpt4o 價格合理，效能符合看4K影片需求。BuildMate CPU/GPU搭配不合理，電源瓦數過高。\n",
       "\n"
      ]
     },
     "metadata": {},
     "output_type": "display_data"
    },
    {
     "name": "stdout",
     "output_type": "stream",
     "text": [
      "======\n"
     ]
    },
    {
     "data": {
      "text/html": [
       "<pre style=\"white-space:pre;overflow-x:auto;line-height:normal;font-family:Menlo,'DejaVu Sans Mono',consolas,'Courier New',monospace\">Coordinator: 已達成共識\n",
       "gpt4o較佳，價格較低且效能符合需求，BuildMate則CPU與GPU搭配不合理、電源瓦數過高。\n",
       "\n",
       "</pre>\n"
      ],
      "text/plain": [
       "Coordinator: 已達成共識\n",
       "gpt4o較佳，價格較低且效能符合需求，BuildMate則CPU與GPU搭配不合理、電源瓦數過高。\n",
       "\n"
      ]
     },
     "metadata": {},
     "output_type": "display_data"
    },
    {
     "name": "stdout",
     "output_type": "stream",
     "text": [
      "======\n"
     ]
    },
    {
     "data": {
      "text/html": [
       "<pre style=\"white-space:pre;overflow-x:auto;line-height:normal;font-family:Menlo,'DejaVu Sans Mono',consolas,'Courier New',monospace\">Agent1: <span style=\"font-weight: bold\">[</span>對gpt4o評價<span style=\"font-weight: bold\">]</span>: <span style=\"color: #008080; text-decoration-color: #008080; font-weight: bold\">8</span>\n",
       "<span style=\"font-weight: bold\">[</span>對BuildMate評價<span style=\"font-weight: bold\">]</span>: <span style=\"color: #008080; text-decoration-color: #008080; font-weight: bold\">5</span>\n",
       "<span style=\"font-weight: bold\">[</span>簡短原因<span style=\"font-weight: bold\">]</span>: gpt4o性價比高，滿足4K影片需求。BuildMate高階CPU搭配低階GPU，不均衡。\n",
       "\n",
       "</pre>\n"
      ],
      "text/plain": [
       "Agent1: \u001b[1m[\u001b[0m對gpt4o評價\u001b[1m]\u001b[0m: \u001b[1;36m8\u001b[0m\n",
       "\u001b[1m[\u001b[0m對BuildMate評價\u001b[1m]\u001b[0m: \u001b[1;36m5\u001b[0m\n",
       "\u001b[1m[\u001b[0m簡短原因\u001b[1m]\u001b[0m: gpt4o性價比高，滿足4K影片需求。BuildMate高階CPU搭配低階GPU，不均衡。\n",
       "\n"
      ]
     },
     "metadata": {},
     "output_type": "display_data"
    },
    {
     "name": "stdout",
     "output_type": "stream",
     "text": [
      "======\n"
     ]
    },
    {
     "data": {
      "text/html": [
       "<pre style=\"white-space:pre;overflow-x:auto;line-height:normal;font-family:Menlo,'DejaVu Sans Mono',consolas,'Courier New',monospace\">Agent2: <span style=\"font-weight: bold\">[</span>對gpt4o評價<span style=\"font-weight: bold\">]</span>: <span style=\"color: #008080; text-decoration-color: #008080; font-weight: bold\">8</span>\n",
       "<span style=\"font-weight: bold\">[</span>對BuildMate評價<span style=\"font-weight: bold\">]</span>: <span style=\"color: #008080; text-decoration-color: #008080; font-weight: bold\">5</span>\n",
       "<span style=\"font-weight: bold\">[</span>簡短原因<span style=\"font-weight: bold\">]</span>: gpt4o性價比高，配置均衡。BuildMate CPU效能過剩，GPU不足，電源瓦數過高。\n",
       "\n",
       "</pre>\n"
      ],
      "text/plain": [
       "Agent2: \u001b[1m[\u001b[0m對gpt4o評價\u001b[1m]\u001b[0m: \u001b[1;36m8\u001b[0m\n",
       "\u001b[1m[\u001b[0m對BuildMate評價\u001b[1m]\u001b[0m: \u001b[1;36m5\u001b[0m\n",
       "\u001b[1m[\u001b[0m簡短原因\u001b[1m]\u001b[0m: gpt4o性價比高，配置均衡。BuildMate CPU效能過剩，GPU不足，電源瓦數過高。\n",
       "\n"
      ]
     },
     "metadata": {},
     "output_type": "display_data"
    },
    {
     "name": "stdout",
     "output_type": "stream",
     "text": [
      "======\n"
     ]
    },
    {
     "data": {
      "text/html": [
       "<pre style=\"white-space:pre;overflow-x:auto;line-height:normal;font-family:Menlo,'DejaVu Sans Mono',consolas,'Courier New',monospace\">Agent3: <span style=\"font-weight: bold\">[</span>對gpt4o評價<span style=\"font-weight: bold\">]</span>: <span style=\"color: #008080; text-decoration-color: #008080; font-weight: bold\">8</span>\n",
       "<span style=\"font-weight: bold\">[</span>對BuildMate評價<span style=\"font-weight: bold\">]</span>: <span style=\"color: #008080; text-decoration-color: #008080; font-weight: bold\">5</span>\n",
       "<span style=\"font-weight: bold\">[</span>簡短原因<span style=\"font-weight: bold\">]</span>: gpt4o性價比高，滿足需求。BuildMate CPU與GPU不匹配，且電源過剩。\n",
       "\n",
       "</pre>\n"
      ],
      "text/plain": [
       "Agent3: \u001b[1m[\u001b[0m對gpt4o評價\u001b[1m]\u001b[0m: \u001b[1;36m8\u001b[0m\n",
       "\u001b[1m[\u001b[0m對BuildMate評價\u001b[1m]\u001b[0m: \u001b[1;36m5\u001b[0m\n",
       "\u001b[1m[\u001b[0m簡短原因\u001b[1m]\u001b[0m: gpt4o性價比高，滿足需求。BuildMate CPU與GPU不匹配，且電源過剩。\n",
       "\n"
      ]
     },
     "metadata": {},
     "output_type": "display_data"
    },
    {
     "name": "stdout",
     "output_type": "stream",
     "text": [
      "======\n"
     ]
    },
    {
     "data": {
      "text/html": [
       "<pre style=\"white-space:pre;overflow-x:auto;line-height:normal;font-family:Menlo,'DejaVu Sans Mono',consolas,'Courier New',monospace\">Coordinator: 已達成共識\n",
       "gpt4o較佳，價格合理且效能均衡，符合4K影片和日常使用需求。BuildMate CPU效能過剩，GPU和SSD相對不足，電源瓦數也過高。\n",
       "\n",
       "</pre>\n"
      ],
      "text/plain": [
       "Coordinator: 已達成共識\n",
       "gpt4o較佳，價格合理且效能均衡，符合4K影片和日常使用需求。BuildMate CPU效能過剩，GPU和SSD相對不足，電源瓦數也過高。\n",
       "\n"
      ]
     },
     "metadata": {},
     "output_type": "display_data"
    },
    {
     "name": "stdout",
     "output_type": "stream",
     "text": [
      "======\n",
      "{'Coordinator': {'messages': [HumanMessage(content='Agent1: [對gpt4o評價]: 7\\n[對BuildMate評價]: 4\\n[簡短原因]: gpt4o均衡，價格合理。BuildMate CPU/GPU配對不佳，電源瓦數過高。\\n', additional_kwargs={}, response_metadata={}), HumanMessage(content='Agent2: [對gpt4o評價]: 8\\n[對BuildMate評價]: 5\\n[簡短原因]: gpt4o在預算內選擇1660S較為合理。BuildMate用高價CPU搭配低階顯卡及過高瓦數電源。\\n', additional_kwargs={}, response_metadata={}), HumanMessage(content='Agent3: [對gpt4o評價]: 8\\n[對BuildMate評價]: 4\\n[簡短原因]: gpt4o 價格合理，效能符合看4K影片需求。BuildMate CPU/GPU搭配不合理，電源瓦數過高。\\n', additional_kwargs={}, response_metadata={}), HumanMessage(content='Coordinator: 已達成共識\\ngpt4o較佳，價格較低且效能符合需求，BuildMate則CPU與GPU搭配不合理、電源瓦數過高。\\n', additional_kwargs={}, response_metadata={}), HumanMessage(content='Agent1: [對gpt4o評價]: 8\\n[對BuildMate評價]: 5\\n[簡短原因]: gpt4o性價比高，滿足4K影片需求。BuildMate高階CPU搭配低階GPU，不均衡。\\n', additional_kwargs={}, response_metadata={}), HumanMessage(content='Agent2: [對gpt4o評價]: 8\\n[對BuildMate評價]: 5\\n[簡短原因]: gpt4o性價比高，配置均衡。BuildMate CPU效能過剩，GPU不足，電源瓦數過高。\\n', additional_kwargs={}, response_metadata={}), HumanMessage(content='Agent3: [對gpt4o評價]: 8\\n[對BuildMate評價]: 5\\n[簡短原因]: gpt4o性價比高，滿足需求。BuildMate CPU與GPU不匹配，且電源過剩。\\n', additional_kwargs={}, response_metadata={}), HumanMessage(content='Coordinator: 已達成共識\\ngpt4o較佳，價格合理且效能均衡，符合4K影片和日常使用需求。BuildMate CPU效能過剩，GPU和SSD相對不足，電源瓦數也過高。\\n', additional_kwargs={}, response_metadata={})], 'next_agent': '__end__', 'question_id': 23, 'question': '我要組裝一台預算約40000元的電腦，主要用來看4K電影和日常使用，有建議配置嗎？', 'gpt4o_recommendation': 'CPU: AMD Ryzen 5 5600G | price: 4500\\nMotherboard: ASRock B550M-HDV | price: 2900\\nMemory: Corsair Vengeance LPX 16GB (2 x 8GB) DDR4-3200 | price: 1800\\nGPU: ASUS GeForce GTX 1660 Super 6GB | price: 6500\\nStorage: Samsung 970 EVO Plus 1TB NVMe M.2 SSD | price: 3500\\nPower Supply: Cooler Master MWE 650W 80+ Gold | price: 2500\\nCase: Cooler Master MasterBox Q300L | price: 1200\\nCase Fan: ARCTIC P12 PWM PST 120mm | price: 500\\n總價: 23400', 'buildmate_recommendation': 'CPU: Intel Core Ultra 5 245KF | price: 9650\\nMotherboard: 華碩 PRIME H610M-K-CSM(DDR5)(M-ATX/1A1H/Realtek 1Gb/註冊四年/2DIMM) | price: 2890\\nMemory: UMAX 單條16GB DDR5-4800/CL40 支援 XMP | price: 1150\\nGPU: INTEL 原廠 ARC B580 12G | price: 8990\\nStorage: 威剛 Ultimate SU650 480G/2.5吋/讀:520M/寫:450M/TLC顆粒【三年保】 | price: 899\\nPower Supply: 全漢 HYDRO PTM X PRO 1000W ATX3.0(PCIe 5.0) 雙8/白金/全模/全日系/短機身/10年 | price: 3990\\nCase: 銀欣 RL08 紅黑 顯卡長34.5/U高16.8/右方玻璃透側/M-ATX 左側放置推薦！ | price: 1290\\nCase Fan: 安耐美 靜蝠 12cm 磁力滾珠軸承 | price: 230\\n總價: 29089', 'agent_scores': {'Agent1_round1': {'gpt4o_score': 7, 'buildmate_score': 4, 'reason': 'gpt4o均衡，價格合理。BuildMate CPU/GPU配對不佳，電源瓦數過高。'}, 'Agent2_round1': {'gpt4o_score': 8, 'buildmate_score': 5, 'reason': 'gpt4o在預算內選擇1660S較為合理。BuildMate用高價CPU搭配低階顯卡及過高瓦數電源。'}, 'Agent3_round1': {'gpt4o_score': 8, 'buildmate_score': 4, 'reason': 'gpt4o 價格合理，效能符合看4K影片需求。BuildMate CPU/GPU搭配不合理，電源瓦數過高。'}, 'Agent1_round2': {'gpt4o_score': 8, 'buildmate_score': 5, 'reason': 'gpt4o性價比高，滿足4K影片需求。BuildMate高階CPU搭配低階GPU，不均衡。'}, 'Agent2_round2': {'gpt4o_score': 8, 'buildmate_score': 5, 'reason': 'gpt4o性價比高，配置均衡。BuildMate CPU效能過剩，GPU不足，電源瓦數過高。'}, 'Agent3_round2': {'gpt4o_score': 8, 'buildmate_score': 5, 'reason': 'gpt4o性價比高，滿足需求。BuildMate CPU與GPU不匹配，且電源過剩。'}}, 'round_count': 2, 'max_rounds': 3, 'consensus_reached': True}}\n",
      "{\n",
      "  \"question_id\": 23,\n",
      "  \"question\": \"我要組裝一台預算約40000元的電腦，主要用來看4K電影和日常使用，有建議配置嗎？\",\n",
      "  \"buildmate_recommendation\": \"CPU: Intel Core Ultra 5 245KF | price: 9650\\nMotherboard: 華碩 PRIME H610M-K-CSM(DDR5)(M-ATX/1A1H/Realtek 1Gb/註冊四年/2DIMM) | price: 2890\\nMemory: UMAX 單條16GB DDR5-4800/CL40 支援 XMP | price: 1150\\nGPU: INTEL 原廠 ARC B580 12G | price: 8990\\nStorage: 威剛 Ultimate SU650 480G/2.5吋/讀:520M/寫:450M/TLC顆粒【三年保】 | price: 899\\nPower Supply: 全漢 HYDRO PTM X PRO 1000W ATX3.0(PCIe 5.0) 雙8/白金/全模/全日系/短機身/10年 | price: 3990\\nCase: 銀欣 RL08 紅黑 顯卡長34.5/U高16.8/右方玻璃透側/M-ATX 左側放置推薦！ | price: 1290\\nCase Fan: 安耐美 靜蝠 12cm 磁力滾珠軸承 | price: 230\\n總價: 29089\",\n",
      "  \"gpt4o_recommendation\": \"CPU: AMD Ryzen 5 5600G | price: 4500\\nMotherboard: ASRock B550M-HDV | price: 2900\\nMemory: Corsair Vengeance LPX 16GB (2 x 8GB) DDR4-3200 | price: 1800\\nGPU: ASUS GeForce GTX 1660 Super 6GB | price: 6500\\nStorage: Samsung 970 EVO Plus 1TB NVMe M.2 SSD | price: 3500\\nPower Supply: Cooler Master MWE 650W 80+ Gold | price: 2500\\nCase: Cooler Master MasterBox Q300L | price: 1200\\nCase Fan: ARCTIC P12 PWM PST 120mm | price: 500\\n總價: 23400\",\n",
      "  \"winner\": 0,\n",
      "  \"buildmate_avg_score\": 4.666666666666667,\n",
      "  \"gpt4o_avg_score\": 7.833333333333333,\n",
      "  \"rounds\": [\n",
      "    {\n",
      "      \"round_number\": 1,\n",
      "      \"Agent1\": {\n",
      "        \"gpt4o_score\": 7,\n",
      "        \"buildmate_score\": 4,\n",
      "        \"reason\": \"gpt4o均衡，價格合理。BuildMate CPU/GPU配對不佳，電源瓦數過高。\"\n",
      "      },\n",
      "      \"Agent2\": {\n",
      "        \"gpt4o_score\": 8,\n",
      "        \"buildmate_score\": 5,\n",
      "        \"reason\": \"gpt4o在預算內選擇1660S較為合理。BuildMate用高價CPU搭配低階顯卡及過高瓦數電源。\"\n",
      "      },\n",
      "      \"Agent3\": {\n",
      "        \"gpt4o_score\": 8,\n",
      "        \"buildmate_score\": 4,\n",
      "        \"reason\": \"gpt4o 價格合理，效能符合看4K影片需求。BuildMate CPU/GPU搭配不合理，電源瓦數過高。\"\n",
      "      }\n",
      "    },\n",
      "    {\n",
      "      \"round_number\": 2,\n",
      "      \"Agent1\": {\n",
      "        \"gpt4o_score\": 8,\n",
      "        \"buildmate_score\": 5,\n",
      "        \"reason\": \"gpt4o性價比高，滿足4K影片需求。BuildMate高階CPU搭配低階GPU，不均衡。\"\n",
      "      },\n",
      "      \"Agent2\": {\n",
      "        \"gpt4o_score\": 8,\n",
      "        \"buildmate_score\": 5,\n",
      "        \"reason\": \"gpt4o性價比高，配置均衡。BuildMate CPU效能過剩，GPU不足，電源瓦數過高。\"\n",
      "      },\n",
      "      \"Agent3\": {\n",
      "        \"gpt4o_score\": 8,\n",
      "        \"buildmate_score\": 5,\n",
      "        \"reason\": \"gpt4o性價比高，滿足需求。BuildMate CPU與GPU不匹配，且電源過剩。\"\n",
      "      }\n",
      "    }\n",
      "  ]\n",
      "}\n"
     ]
    },
    {
     "data": {
      "text/html": [
       "<pre style=\"white-space:pre;overflow-x:auto;line-height:normal;font-family:Menlo,'DejaVu Sans Mono',consolas,'Courier New',monospace\"><span style=\"font-weight: bold\">{</span>\n",
       "    <span style=\"color: #008000; text-decoration-color: #008000\">'question_id'</span>: <span style=\"color: #008080; text-decoration-color: #008080; font-weight: bold\">24</span>,\n",
       "    <span style=\"color: #008000; text-decoration-color: #008000\">'question'</span>: <span style=\"color: #008000; text-decoration-color: #008000\">'想請問，85000元預算能組一台什麼樣的專業級遊戲機？希望能玩最新遊戲。'</span>,\n",
       "    <span style=\"color: #008000; text-decoration-color: #008000\">'gpt4o_recommendation'</span>: <span style=\"color: #008000; text-decoration-color: #008000\">'CPU: AMD Ryzen 5 7600X | price: 6890\\nMemory: Corsair Vengeance LPX 16GB (2x8GB) </span>\n",
       "<span style=\"color: #008000; text-decoration-color: #008000\">DDR5-5600 | price: 2990\\nGPU: NVIDIA GeForce RTX 3060 12GB | price: 13900\\nStorage: Samsung 970 EVO Plus 1TB NVMe </span>\n",
       "<span style=\"color: #008000; text-decoration-color: #008000\">M.2 SSD | price: 3290\\nPower Supply: Seasonic Focus GX-650 (650W) 80+ Gold | price: 2990\\nCase: Cooler Master </span>\n",
       "<span style=\"color: #008000; text-decoration-color: #008000\">MasterBox Q300L | price: 1490\\nCase Fan: Noctua NF-P12 redux-1700 PWM | price: 790\\n總價: 32340'</span>,\n",
       "    <span style=\"color: #008000; text-decoration-color: #008000\">'buildmate_recommendation'</span>: <span style=\"color: #008000; text-decoration-color: #008000\">'CPU: Intel i5-14400F | price: 5400\\nMotherboard: 華碩 TUF GAMING B760M-PLUS WIFI </span>\n",
       "<span style=\"color: #008000; text-decoration-color: #008000\">D4 | price: 4990\\nMemory: 威剛 單條16GB DDR5 6000 XPG Lancer Blade(矮版散熱片)/CL48黑【雙參數】 | price: 1349\\nGPU:</span>\n",
       "<span style=\"color: #008000; text-decoration-color: #008000\">華碩 DUAL-RTX4060-O12G | price: 8990\\nStorage: 威剛 Ultimate SU800 </span>\n",
       "<span style=\"color: #008000; text-decoration-color: #008000\">512G/2.5吋/讀:560M/寫:520M/TLC/DRAM快取/SMI/台灣製【五年】 | price: 1499\\nPower Supply: Antec </span>\n",
       "<span style=\"color: #008000; text-decoration-color: #008000\">HCG1000(1000W)雙8/金牌/全模/全日系/智慧溫控風扇/10年保 | price: 3990\\nCase: SAMA SAK702 新鏡界(白) | price: </span>\n",
       "<span style=\"color: #008000; text-decoration-color: #008000\">1890\\nCase Fan: MSI MEG SILENT GALE P12 靜音風扇/HDB軸/2000RPM/PWM/六年 | price: 790\\n總價: 28898'</span>\n",
       "<span style=\"font-weight: bold\">}</span>\n",
       "</pre>\n"
      ],
      "text/plain": [
       "\u001b[1m{\u001b[0m\n",
       "    \u001b[32m'question_id'\u001b[0m: \u001b[1;36m24\u001b[0m,\n",
       "    \u001b[32m'question'\u001b[0m: \u001b[32m'想請問，85000元預算能組一台什麼樣的專業級遊戲機？希望能玩最新遊戲。'\u001b[0m,\n",
       "    \u001b[32m'gpt4o_recommendation'\u001b[0m: \u001b[32m'CPU: AMD Ryzen 5 7600X | price: 6890\\nMemory: Corsair Vengeance LPX 16GB \u001b[0m\u001b[32m(\u001b[0m\u001b[32m2x8GB\u001b[0m\u001b[32m)\u001b[0m\u001b[32m \u001b[0m\n",
       "\u001b[32mDDR5-5600 | price: 2990\\nGPU: NVIDIA GeForce RTX 3060 12GB | price: 13900\\nStorage: Samsung 970 EVO Plus 1TB NVMe \u001b[0m\n",
       "\u001b[32mM.2 SSD | price: 3290\\nPower Supply: Seasonic Focus GX-650 \u001b[0m\u001b[32m(\u001b[0m\u001b[32m650W\u001b[0m\u001b[32m)\u001b[0m\u001b[32m 80+ Gold | price: 2990\\nCase: Cooler Master \u001b[0m\n",
       "\u001b[32mMasterBox Q300L | price: 1490\\nCase Fan: Noctua NF-P12 redux-1700 PWM | price: 790\\n總價: 32340'\u001b[0m,\n",
       "    \u001b[32m'buildmate_recommendation'\u001b[0m: \u001b[32m'CPU: Intel i5-14400F | price: 5400\\nMotherboard: 華碩 TUF GAMING B760M-PLUS WIFI \u001b[0m\n",
       "\u001b[32mD4 | price: 4990\\nMemory: 威剛 單條16GB DDR5 6000 XPG Lancer Blade\u001b[0m\u001b[32m(\u001b[0m\u001b[32m矮版散熱片\u001b[0m\u001b[32m)\u001b[0m\u001b[32m/CL48黑【雙參數】 | price: 1349\\nGPU:\u001b[0m\n",
       "\u001b[32m華碩 DUAL-RTX4060-O12G | price: 8990\\nStorage: 威剛 Ultimate SU800 \u001b[0m\n",
       "\u001b[32m512G/2.5吋/讀:560M/寫:520M/TLC/DRAM快取/SMI/台灣製【五年】 | price: 1499\\nPower Supply: Antec \u001b[0m\n",
       "\u001b[32mHCG1000\u001b[0m\u001b[32m(\u001b[0m\u001b[32m1000W\u001b[0m\u001b[32m)\u001b[0m\u001b[32m雙8/金牌/全模/全日系/智慧溫控風扇/10年保 | price: 3990\\nCase: SAMA SAK702 新鏡界\u001b[0m\u001b[32m(\u001b[0m\u001b[32m白\u001b[0m\u001b[32m)\u001b[0m\u001b[32m | price: \u001b[0m\n",
       "\u001b[32m1890\\nCase Fan: MSI MEG SILENT GALE P12 靜音風扇/HDB軸/2000RPM/PWM/六年 | price: 790\\n總價: 28898'\u001b[0m\n",
       "\u001b[1m}\u001b[0m\n"
      ]
     },
     "metadata": {},
     "output_type": "display_data"
    },
    {
     "data": {
      "text/html": [
       "<pre style=\"white-space:pre;overflow-x:auto;line-height:normal;font-family:Menlo,'DejaVu Sans Mono',consolas,'Courier New',monospace\">Agent1: <span style=\"font-weight: bold\">[</span>對gpt4o評價<span style=\"font-weight: bold\">]</span>: <span style=\"color: #008080; text-decoration-color: #008080; font-weight: bold\">4</span>\n",
       "<span style=\"font-weight: bold\">[</span>對BuildMate評價<span style=\"font-weight: bold\">]</span>: <span style=\"color: #008080; text-decoration-color: #008080; font-weight: bold\">7</span>\n",
       "<span style=\"font-weight: bold\">[</span>簡短原因<span style=\"font-weight: bold\">]</span>: gpt4o顯示卡過時，電源瓦數不足。BuildMate配置較均衡，但記憶體單通道影響效能。\n",
       "\n",
       "</pre>\n"
      ],
      "text/plain": [
       "Agent1: \u001b[1m[\u001b[0m對gpt4o評價\u001b[1m]\u001b[0m: \u001b[1;36m4\u001b[0m\n",
       "\u001b[1m[\u001b[0m對BuildMate評價\u001b[1m]\u001b[0m: \u001b[1;36m7\u001b[0m\n",
       "\u001b[1m[\u001b[0m簡短原因\u001b[1m]\u001b[0m: gpt4o顯示卡過時，電源瓦數不足。BuildMate配置較均衡，但記憶體單通道影響效能。\n",
       "\n"
      ]
     },
     "metadata": {},
     "output_type": "display_data"
    },
    {
     "name": "stdout",
     "output_type": "stream",
     "text": [
      "======\n"
     ]
    },
    {
     "data": {
      "text/html": [
       "<pre style=\"white-space:pre;overflow-x:auto;line-height:normal;font-family:Menlo,'DejaVu Sans Mono',consolas,'Courier New',monospace\">Agent2: <span style=\"font-weight: bold\">[</span>對gpt4o評價<span style=\"font-weight: bold\">]</span>: <span style=\"color: #008080; text-decoration-color: #008080; font-weight: bold\">5</span>\n",
       "<span style=\"font-weight: bold\">[</span>對BuildMate評價<span style=\"font-weight: bold\">]</span>: <span style=\"color: #008080; text-decoration-color: #008080; font-weight: bold\">7</span>\n",
       "<span style=\"font-weight: bold\">[</span>簡短原因<span style=\"font-weight: bold\">]</span>: gpt4o電源瓦數不足以支援3060。BuildMate記憶體單通道，但其他配置合理。\n",
       "\n",
       "</pre>\n"
      ],
      "text/plain": [
       "Agent2: \u001b[1m[\u001b[0m對gpt4o評價\u001b[1m]\u001b[0m: \u001b[1;36m5\u001b[0m\n",
       "\u001b[1m[\u001b[0m對BuildMate評價\u001b[1m]\u001b[0m: \u001b[1;36m7\u001b[0m\n",
       "\u001b[1m[\u001b[0m簡短原因\u001b[1m]\u001b[0m: gpt4o電源瓦數不足以支援3060。BuildMate記憶體單通道，但其他配置合理。\n",
       "\n"
      ]
     },
     "metadata": {},
     "output_type": "display_data"
    },
    {
     "name": "stdout",
     "output_type": "stream",
     "text": [
      "======\n"
     ]
    },
    {
     "data": {
      "text/html": [
       "<pre style=\"white-space:pre;overflow-x:auto;line-height:normal;font-family:Menlo,'DejaVu Sans Mono',consolas,'Courier New',monospace\">Agent3: <span style=\"font-weight: bold\">[</span>對gpt4o評價<span style=\"font-weight: bold\">]</span>: <span style=\"color: #008080; text-decoration-color: #008080; font-weight: bold\">4</span>\n",
       "<span style=\"font-weight: bold\">[</span>對BuildMate評價<span style=\"font-weight: bold\">]</span>: <span style=\"color: #008080; text-decoration-color: #008080; font-weight: bold\">8</span>\n",
       "<span style=\"font-weight: bold\">[</span>簡短原因<span style=\"font-weight: bold\">]</span>: gpt4o電源不足，顯卡過時。BuildMate較佳，但記憶體單通道建議升級雙通道。\n",
       "\n",
       "</pre>\n"
      ],
      "text/plain": [
       "Agent3: \u001b[1m[\u001b[0m對gpt4o評價\u001b[1m]\u001b[0m: \u001b[1;36m4\u001b[0m\n",
       "\u001b[1m[\u001b[0m對BuildMate評價\u001b[1m]\u001b[0m: \u001b[1;36m8\u001b[0m\n",
       "\u001b[1m[\u001b[0m簡短原因\u001b[1m]\u001b[0m: gpt4o電源不足，顯卡過時。BuildMate較佳，但記憶體單通道建議升級雙通道。\n",
       "\n"
      ]
     },
     "metadata": {},
     "output_type": "display_data"
    },
    {
     "name": "stdout",
     "output_type": "stream",
     "text": [
      "======\n"
     ]
    },
    {
     "data": {
      "text/html": [
       "<pre style=\"white-space:pre;overflow-x:auto;line-height:normal;font-family:Menlo,'DejaVu Sans Mono',consolas,'Courier New',monospace\">Coordinator: 已達成共識，BuildMate較佳。價格較低且顯卡更新，雖然記憶體單通道，但其他配件更具優勢。\n",
       "\n",
       "</pre>\n"
      ],
      "text/plain": [
       "Coordinator: 已達成共識，BuildMate較佳。價格較低且顯卡更新，雖然記憶體單通道，但其他配件更具優勢。\n",
       "\n"
      ]
     },
     "metadata": {},
     "output_type": "display_data"
    },
    {
     "name": "stdout",
     "output_type": "stream",
     "text": [
      "======\n"
     ]
    },
    {
     "data": {
      "text/html": [
       "<pre style=\"white-space:pre;overflow-x:auto;line-height:normal;font-family:Menlo,'DejaVu Sans Mono',consolas,'Courier New',monospace\">Agent1: <span style=\"font-weight: bold\">[</span>對gpt4o評價<span style=\"font-weight: bold\">]</span>: <span style=\"color: #008080; text-decoration-color: #008080; font-weight: bold\">4</span>\n",
       "<span style=\"font-weight: bold\">[</span>對BuildMate評價<span style=\"font-weight: bold\">]</span>: <span style=\"color: #008080; text-decoration-color: #008080; font-weight: bold\">7</span>\n",
       "<span style=\"font-weight: bold\">[</span>簡短原因<span style=\"font-weight: bold\">]</span>: gpt4o顯卡過時，電源仍不足。BuildMate顯卡較新，電源充足，但記憶體單通道。\n",
       "\n",
       "</pre>\n"
      ],
      "text/plain": [
       "Agent1: \u001b[1m[\u001b[0m對gpt4o評價\u001b[1m]\u001b[0m: \u001b[1;36m4\u001b[0m\n",
       "\u001b[1m[\u001b[0m對BuildMate評價\u001b[1m]\u001b[0m: \u001b[1;36m7\u001b[0m\n",
       "\u001b[1m[\u001b[0m簡短原因\u001b[1m]\u001b[0m: gpt4o顯卡過時，電源仍不足。BuildMate顯卡較新，電源充足，但記憶體單通道。\n",
       "\n"
      ]
     },
     "metadata": {},
     "output_type": "display_data"
    },
    {
     "name": "stdout",
     "output_type": "stream",
     "text": [
      "======\n"
     ]
    },
    {
     "data": {
      "text/html": [
       "<pre style=\"white-space:pre;overflow-x:auto;line-height:normal;font-family:Menlo,'DejaVu Sans Mono',consolas,'Courier New',monospace\">Agent2: <span style=\"font-weight: bold\">[</span>對gpt4o評價<span style=\"font-weight: bold\">]</span>: <span style=\"color: #008080; text-decoration-color: #008080; font-weight: bold\">5</span>\n",
       "<span style=\"font-weight: bold\">[</span>對BuildMate評價<span style=\"font-weight: bold\">]</span>: <span style=\"color: #008080; text-decoration-color: #008080; font-weight: bold\">8</span>\n",
       "<span style=\"font-weight: bold\">[</span>簡短原因<span style=\"font-weight: bold\">]</span>: gpt4o 組裝單記憶體和電源較佳，但顯卡已過時。 BuildMate 4060性價比更高。\n",
       "\n",
       "</pre>\n"
      ],
      "text/plain": [
       "Agent2: \u001b[1m[\u001b[0m對gpt4o評價\u001b[1m]\u001b[0m: \u001b[1;36m5\u001b[0m\n",
       "\u001b[1m[\u001b[0m對BuildMate評價\u001b[1m]\u001b[0m: \u001b[1;36m8\u001b[0m\n",
       "\u001b[1m[\u001b[0m簡短原因\u001b[1m]\u001b[0m: gpt4o 組裝單記憶體和電源較佳，但顯卡已過時。 BuildMate 4060性價比更高。\n",
       "\n"
      ]
     },
     "metadata": {},
     "output_type": "display_data"
    },
    {
     "name": "stdout",
     "output_type": "stream",
     "text": [
      "======\n"
     ]
    },
    {
     "data": {
      "text/html": [
       "<pre style=\"white-space:pre;overflow-x:auto;line-height:normal;font-family:Menlo,'DejaVu Sans Mono',consolas,'Courier New',monospace\">Agent3: <span style=\"font-weight: bold\">[</span>對gpt4o評價<span style=\"font-weight: bold\">]</span>: <span style=\"color: #008080; text-decoration-color: #008080; font-weight: bold\">4</span>\n",
       "<span style=\"font-weight: bold\">[</span>對BuildMate評價<span style=\"font-weight: bold\">]</span>: <span style=\"color: #008080; text-decoration-color: #008080; font-weight: bold\">7</span>\n",
       "<span style=\"font-weight: bold\">[</span>簡短原因<span style=\"font-weight: bold\">]</span>: gpt4o顯卡過時，電源不足。BuildMate配置較新，但記憶體單通道仍需改進。\n",
       "\n",
       "</pre>\n"
      ],
      "text/plain": [
       "Agent3: \u001b[1m[\u001b[0m對gpt4o評價\u001b[1m]\u001b[0m: \u001b[1;36m4\u001b[0m\n",
       "\u001b[1m[\u001b[0m對BuildMate評價\u001b[1m]\u001b[0m: \u001b[1;36m7\u001b[0m\n",
       "\u001b[1m[\u001b[0m簡短原因\u001b[1m]\u001b[0m: gpt4o顯卡過時，電源不足。BuildMate配置較新，但記憶體單通道仍需改進。\n",
       "\n"
      ]
     },
     "metadata": {},
     "output_type": "display_data"
    },
    {
     "name": "stdout",
     "output_type": "stream",
     "text": [
      "======\n"
     ]
    },
    {
     "data": {
      "text/html": [
       "<pre style=\"white-space:pre;overflow-x:auto;line-height:normal;font-family:Menlo,'DejaVu Sans Mono',consolas,'Courier New',monospace\">Coordinator: 已達成共識，BuildMate較佳。在相近預算內，BuildMate 提供 RTX <span style=\"color: #008080; text-decoration-color: #008080; font-weight: bold\">4060</span> \n",
       "顯卡，效能更佳。雖然記憶體和SSD容量較小，但考量預算和效能，仍是較佳選擇。\n",
       "\n",
       "</pre>\n"
      ],
      "text/plain": [
       "Coordinator: 已達成共識，BuildMate較佳。在相近預算內，BuildMate 提供 RTX \u001b[1;36m4060\u001b[0m \n",
       "顯卡，效能更佳。雖然記憶體和SSD容量較小，但考量預算和效能，仍是較佳選擇。\n",
       "\n"
      ]
     },
     "metadata": {},
     "output_type": "display_data"
    },
    {
     "name": "stdout",
     "output_type": "stream",
     "text": [
      "======\n",
      "{'Coordinator': {'messages': [HumanMessage(content='Agent1: [對gpt4o評價]: 4\\n[對BuildMate評價]: 7\\n[簡短原因]: gpt4o顯示卡過時，電源瓦數不足。BuildMate配置較均衡，但記憶體單通道影響效能。\\n', additional_kwargs={}, response_metadata={}), HumanMessage(content='Agent2: [對gpt4o評價]: 5\\n[對BuildMate評價]: 7\\n[簡短原因]: gpt4o電源瓦數不足以支援3060。BuildMate記憶體單通道，但其他配置合理。\\n', additional_kwargs={}, response_metadata={}), HumanMessage(content='Agent3: [對gpt4o評價]: 4\\n[對BuildMate評價]: 8\\n[簡短原因]: gpt4o電源不足，顯卡過時。BuildMate較佳，但記憶體單通道建議升級雙通道。\\n', additional_kwargs={}, response_metadata={}), HumanMessage(content='Coordinator: 已達成共識，BuildMate較佳。價格較低且顯卡更新，雖然記憶體單通道，但其他配件更具優勢。\\n', additional_kwargs={}, response_metadata={}), HumanMessage(content='Agent1: [對gpt4o評價]: 4\\n[對BuildMate評價]: 7\\n[簡短原因]: gpt4o顯卡過時，電源仍不足。BuildMate顯卡較新，電源充足，但記憶體單通道。\\n', additional_kwargs={}, response_metadata={}), HumanMessage(content='Agent2: [對gpt4o評價]: 5\\n[對BuildMate評價]: 8\\n[簡短原因]: gpt4o 組裝單記憶體和電源較佳，但顯卡已過時。 BuildMate 4060性價比更高。\\n', additional_kwargs={}, response_metadata={}), HumanMessage(content='Agent3: [對gpt4o評價]: 4\\n[對BuildMate評價]: 7\\n[簡短原因]: gpt4o顯卡過時，電源不足。BuildMate配置較新，但記憶體單通道仍需改進。\\n', additional_kwargs={}, response_metadata={}), HumanMessage(content='Coordinator: 已達成共識，BuildMate較佳。在相近預算內，BuildMate 提供 RTX 4060 顯卡，效能更佳。雖然記憶體和SSD容量較小，但考量預算和效能，仍是較佳選擇。\\n', additional_kwargs={}, response_metadata={})], 'next_agent': '__end__', 'question_id': 24, 'question': '想請問，85000元預算能組一台什麼樣的專業級遊戲機？希望能玩最新遊戲。', 'gpt4o_recommendation': 'CPU: AMD Ryzen 5 7600X | price: 6890\\nMemory: Corsair Vengeance LPX 16GB (2x8GB) DDR5-5600 | price: 2990\\nGPU: NVIDIA GeForce RTX 3060 12GB | price: 13900\\nStorage: Samsung 970 EVO Plus 1TB NVMe M.2 SSD | price: 3290\\nPower Supply: Seasonic Focus GX-650 (650W) 80+ Gold | price: 2990\\nCase: Cooler Master MasterBox Q300L | price: 1490\\nCase Fan: Noctua NF-P12 redux-1700 PWM | price: 790\\n總價: 32340', 'buildmate_recommendation': 'CPU: Intel i5-14400F | price: 5400\\nMotherboard: 華碩 TUF GAMING B760M-PLUS WIFI D4 | price: 4990\\nMemory: 威剛 單條16GB DDR5 6000 XPG Lancer Blade(矮版散熱片)/CL48黑【雙參數】 | price: 1349\\nGPU: 華碩 DUAL-RTX4060-O12G | price: 8990\\nStorage: 威剛 Ultimate SU800 512G/2.5吋/讀:560M/寫:520M/TLC/DRAM快取/SMI/台灣製【五年】 | price: 1499\\nPower Supply: Antec HCG1000(1000W)雙8/金牌/全模/全日系/智慧溫控風扇/10年保 | price: 3990\\nCase: SAMA SAK702 新鏡界(白) | price: 1890\\nCase Fan: MSI MEG SILENT GALE P12 靜音風扇/HDB軸/2000RPM/PWM/六年 | price: 790\\n總價: 28898', 'agent_scores': {'Agent1_round1': {'gpt4o_score': 4, 'buildmate_score': 7, 'reason': 'gpt4o顯示卡過時，電源瓦數不足。BuildMate配置較均衡，但記憶體單通道影響效能。'}, 'Agent2_round1': {'gpt4o_score': 5, 'buildmate_score': 7, 'reason': 'gpt4o電源瓦數不足以支援3060。BuildMate記憶體單通道，但其他配置合理。'}, 'Agent3_round1': {'gpt4o_score': 4, 'buildmate_score': 8, 'reason': 'gpt4o電源不足，顯卡過時。BuildMate較佳，但記憶體單通道建議升級雙通道。'}, 'Agent1_round2': {'gpt4o_score': 4, 'buildmate_score': 7, 'reason': 'gpt4o顯卡過時，電源仍不足。BuildMate顯卡較新，電源充足，但記憶體單通道。'}, 'Agent2_round2': {'gpt4o_score': 5, 'buildmate_score': 8, 'reason': 'gpt4o 組裝單記憶體和電源較佳，但顯卡已過時。 BuildMate 4060性價比更高。'}, 'Agent3_round2': {'gpt4o_score': 4, 'buildmate_score': 7, 'reason': 'gpt4o顯卡過時，電源不足。BuildMate配置較新，但記憶體單通道仍需改進。'}}, 'round_count': 2, 'max_rounds': 3, 'consensus_reached': True}}\n",
      "{\n",
      "  \"question_id\": 24,\n",
      "  \"question\": \"想請問，85000元預算能組一台什麼樣的專業級遊戲機？希望能玩最新遊戲。\",\n",
      "  \"buildmate_recommendation\": \"CPU: Intel i5-14400F | price: 5400\\nMotherboard: 華碩 TUF GAMING B760M-PLUS WIFI D4 | price: 4990\\nMemory: 威剛 單條16GB DDR5 6000 XPG Lancer Blade(矮版散熱片)/CL48黑【雙參數】 | price: 1349\\nGPU: 華碩 DUAL-RTX4060-O12G | price: 8990\\nStorage: 威剛 Ultimate SU800 512G/2.5吋/讀:560M/寫:520M/TLC/DRAM快取/SMI/台灣製【五年】 | price: 1499\\nPower Supply: Antec HCG1000(1000W)雙8/金牌/全模/全日系/智慧溫控風扇/10年保 | price: 3990\\nCase: SAMA SAK702 新鏡界(白) | price: 1890\\nCase Fan: MSI MEG SILENT GALE P12 靜音風扇/HDB軸/2000RPM/PWM/六年 | price: 790\\n總價: 28898\",\n",
      "  \"gpt4o_recommendation\": \"CPU: AMD Ryzen 5 7600X | price: 6890\\nMemory: Corsair Vengeance LPX 16GB (2x8GB) DDR5-5600 | price: 2990\\nGPU: NVIDIA GeForce RTX 3060 12GB | price: 13900\\nStorage: Samsung 970 EVO Plus 1TB NVMe M.2 SSD | price: 3290\\nPower Supply: Seasonic Focus GX-650 (650W) 80+ Gold | price: 2990\\nCase: Cooler Master MasterBox Q300L | price: 1490\\nCase Fan: Noctua NF-P12 redux-1700 PWM | price: 790\\n總價: 32340\",\n",
      "  \"winner\": 1,\n",
      "  \"buildmate_avg_score\": 7.333333333333333,\n",
      "  \"gpt4o_avg_score\": 4.333333333333333,\n",
      "  \"rounds\": [\n",
      "    {\n",
      "      \"round_number\": 1,\n",
      "      \"Agent1\": {\n",
      "        \"gpt4o_score\": 4,\n",
      "        \"buildmate_score\": 7,\n",
      "        \"reason\": \"gpt4o顯示卡過時，電源瓦數不足。BuildMate配置較均衡，但記憶體單通道影響效能。\"\n",
      "      },\n",
      "      \"Agent2\": {\n",
      "        \"gpt4o_score\": 5,\n",
      "        \"buildmate_score\": 7,\n",
      "        \"reason\": \"gpt4o電源瓦數不足以支援3060。BuildMate記憶體單通道，但其他配置合理。\"\n",
      "      },\n",
      "      \"Agent3\": {\n",
      "        \"gpt4o_score\": 4,\n",
      "        \"buildmate_score\": 8,\n",
      "        \"reason\": \"gpt4o電源不足，顯卡過時。BuildMate較佳，但記憶體單通道建議升級雙通道。\"\n",
      "      }\n",
      "    },\n",
      "    {\n",
      "      \"round_number\": 2,\n",
      "      \"Agent1\": {\n",
      "        \"gpt4o_score\": 4,\n",
      "        \"buildmate_score\": 7,\n",
      "        \"reason\": \"gpt4o顯卡過時，電源仍不足。BuildMate顯卡較新，電源充足，但記憶體單通道。\"\n",
      "      },\n",
      "      \"Agent2\": {\n",
      "        \"gpt4o_score\": 5,\n",
      "        \"buildmate_score\": 8,\n",
      "        \"reason\": \"gpt4o 組裝單記憶體和電源較佳，但顯卡已過時。 BuildMate 4060性價比更高。\"\n",
      "      },\n",
      "      \"Agent3\": {\n",
      "        \"gpt4o_score\": 4,\n",
      "        \"buildmate_score\": 7,\n",
      "        \"reason\": \"gpt4o顯卡過時，電源不足。BuildMate配置較新，但記憶體單通道仍需改進。\"\n",
      "      }\n",
      "    }\n",
      "  ]\n",
      "}\n"
     ]
    },
    {
     "data": {
      "text/html": [
       "<pre style=\"white-space:pre;overflow-x:auto;line-height:normal;font-family:Menlo,'DejaVu Sans Mono',consolas,'Courier New',monospace\"><span style=\"font-weight: bold\">{</span>\n",
       "    <span style=\"color: #008000; text-decoration-color: #008000\">'question_id'</span>: <span style=\"color: #008080; text-decoration-color: #008080; font-weight: bold\">25</span>,\n",
       "    <span style=\"color: #008000; text-decoration-color: #008000\">'question'</span>: <span style=\"color: #008000; text-decoration-color: #008000\">'預算約50000元，我想要一台電腦主要用於AI學習和研究，有沒有好的配置建議？'</span>,\n",
       "    <span style=\"color: #008000; text-decoration-color: #008000\">'gpt4o_recommendation'</span>: <span style=\"color: #008000; text-decoration-color: #008000\">'CPU: AMD Ryzen 7 5800X | price: 8500\\nMotherboard: MSI MAG B550 TOMAHAWK | price: </span>\n",
       "<span style=\"color: #008000; text-decoration-color: #008000\">4500\\nMemory: Corsair Vengeance LPX 32GB (2 x 16GB) DDR4-3200 | price: 3000\\nGPU: NVIDIA GeForce RTX 3060 12GB | </span>\n",
       "<span style=\"color: #008000; text-decoration-color: #008000\">price: 12000\\nStorage: Samsung 970 EVO Plus 1TB NVMe SSD | price: 3500\\nPower Supply: Seasonic Focus GX-750 (750W) </span>\n",
       "<span style=\"color: #008000; text-decoration-color: #008000\">80+ Gold | price: 3500\\nCase: Fractal Design Meshify C | price: 2500\\nCase Fan: Noctua NF-P12 redux-1700 PWM | </span>\n",
       "<span style=\"color: #008000; text-decoration-color: #008000\">price: 800\\n總價: 38300'</span>,\n",
       "    <span style=\"color: #008000; text-decoration-color: #008000\">'buildmate_recommendation'</span>: <span style=\"color: #008000; text-decoration-color: #008000\">'CPU: Intel i7-14700F | price: 9700\\nMotherboard: 華碩 PRIME B760M-F </span>\n",
       "<span style=\"color: #008000; text-decoration-color: #008000\">D4-CSM(M-ATX/Realtek 1Gb/註四年/2DIMM)8相 | price: 2590\\nMemory: 威剛 單條16GB DDR5 6000 XPG Lancer </span>\n",
       "<span style=\"color: #008000; text-decoration-color: #008000\">Blade(矮版散熱片)/CL48黑【雙參數】 | price: 1349\\nGPU: Acer Nitro Intel ARC B580 OC 12GB | price: 8690\\nStorage: </span>\n",
       "<span style=\"color: #008000; text-decoration-color: #008000\">UMAX S330 960GB /2.5吋 讀:560MB寫:500MB/3D NAND Flash【三年保】 | price: 1600\\nPower Supply: Antec </span>\n",
       "<span style=\"color: #008000; text-decoration-color: #008000\">HCG1000(1000W)雙8/金牌/全模/全日系/智慧溫控風扇/10年保 送12+4pin模組線！ | price: 3990\\nCase: Montech SKY TWO 黑 | </span>\n",
       "<span style=\"color: #008000; text-decoration-color: #008000\">price: 1890\\nCase Fan: MSI MEG SILENT GALE P12 靜音風扇 | price: 790\\n總價: 30599'</span>\n",
       "<span style=\"font-weight: bold\">}</span>\n",
       "</pre>\n"
      ],
      "text/plain": [
       "\u001b[1m{\u001b[0m\n",
       "    \u001b[32m'question_id'\u001b[0m: \u001b[1;36m25\u001b[0m,\n",
       "    \u001b[32m'question'\u001b[0m: \u001b[32m'預算約50000元，我想要一台電腦主要用於AI學習和研究，有沒有好的配置建議？'\u001b[0m,\n",
       "    \u001b[32m'gpt4o_recommendation'\u001b[0m: \u001b[32m'CPU: AMD Ryzen 7 5800X | price: 8500\\nMotherboard: MSI MAG B550 TOMAHAWK | price: \u001b[0m\n",
       "\u001b[32m4500\\nMemory: Corsair Vengeance LPX 32GB \u001b[0m\u001b[32m(\u001b[0m\u001b[32m2 x 16GB\u001b[0m\u001b[32m)\u001b[0m\u001b[32m DDR4-3200 | price: 3000\\nGPU: NVIDIA GeForce RTX 3060 12GB | \u001b[0m\n",
       "\u001b[32mprice: 12000\\nStorage: Samsung 970 EVO Plus 1TB NVMe SSD | price: 3500\\nPower Supply: Seasonic Focus GX-750 \u001b[0m\u001b[32m(\u001b[0m\u001b[32m750W\u001b[0m\u001b[32m)\u001b[0m\u001b[32m \u001b[0m\n",
       "\u001b[32m80+ Gold | price: 3500\\nCase: Fractal Design Meshify C | price: 2500\\nCase Fan: Noctua NF-P12 redux-1700 PWM | \u001b[0m\n",
       "\u001b[32mprice: 800\\n總價: 38300'\u001b[0m,\n",
       "    \u001b[32m'buildmate_recommendation'\u001b[0m: \u001b[32m'CPU: Intel i7-14700F | price: 9700\\nMotherboard: 華碩 PRIME B760M-F \u001b[0m\n",
       "\u001b[32mD4-CSM\u001b[0m\u001b[32m(\u001b[0m\u001b[32mM-ATX/Realtek 1Gb/註四年/2DIMM\u001b[0m\u001b[32m)\u001b[0m\u001b[32m8相 | price: 2590\\nMemory: 威剛 單條16GB DDR5 6000 XPG Lancer \u001b[0m\n",
       "\u001b[32mBlade\u001b[0m\u001b[32m(\u001b[0m\u001b[32m矮版散熱片\u001b[0m\u001b[32m)\u001b[0m\u001b[32m/CL48黑【雙參數】 | price: 1349\\nGPU: Acer Nitro Intel ARC B580 OC 12GB | price: 8690\\nStorage: \u001b[0m\n",
       "\u001b[32mUMAX S330 960GB /2.5吋 讀:560MB寫:500MB/3D NAND Flash【三年保】 | price: 1600\\nPower Supply: Antec \u001b[0m\n",
       "\u001b[32mHCG1000\u001b[0m\u001b[32m(\u001b[0m\u001b[32m1000W\u001b[0m\u001b[32m)\u001b[0m\u001b[32m雙8/金牌/全模/全日系/智慧溫控風扇/10年保 送12+4pin模組線！ | price: 3990\\nCase: Montech SKY TWO 黑 | \u001b[0m\n",
       "\u001b[32mprice: 1890\\nCase Fan: MSI MEG SILENT GALE P12 靜音風扇 | price: 790\\n總價: 30599'\u001b[0m\n",
       "\u001b[1m}\u001b[0m\n"
      ]
     },
     "metadata": {},
     "output_type": "display_data"
    },
    {
     "data": {
      "text/html": [
       "<pre style=\"white-space:pre;overflow-x:auto;line-height:normal;font-family:Menlo,'DejaVu Sans Mono',consolas,'Courier New',monospace\">Agent1: <span style=\"font-weight: bold\">[</span>對gpt4o評價<span style=\"font-weight: bold\">]</span>: <span style=\"color: #008080; text-decoration-color: #008080; font-weight: bold\">7</span>\n",
       "<span style=\"font-weight: bold\">[</span>對BuildMate評價<span style=\"font-weight: bold\">]</span>: <span style=\"color: #008080; text-decoration-color: #008080; font-weight: bold\">5</span>\n",
       "<span style=\"font-weight: bold\">[</span>簡短原因<span style=\"font-weight: bold\">]</span>: gpt4o均衡穩定，BuildMate GPU/SSD較弱，電源過剩。\n",
       "\n",
       "</pre>\n"
      ],
      "text/plain": [
       "Agent1: \u001b[1m[\u001b[0m對gpt4o評價\u001b[1m]\u001b[0m: \u001b[1;36m7\u001b[0m\n",
       "\u001b[1m[\u001b[0m對BuildMate評價\u001b[1m]\u001b[0m: \u001b[1;36m5\u001b[0m\n",
       "\u001b[1m[\u001b[0m簡短原因\u001b[1m]\u001b[0m: gpt4o均衡穩定，BuildMate GPU/SSD較弱，電源過剩。\n",
       "\n"
      ]
     },
     "metadata": {},
     "output_type": "display_data"
    },
    {
     "name": "stdout",
     "output_type": "stream",
     "text": [
      "======\n"
     ]
    },
    {
     "data": {
      "text/html": [
       "<pre style=\"white-space:pre;overflow-x:auto;line-height:normal;font-family:Menlo,'DejaVu Sans Mono',consolas,'Courier New',monospace\">Agent2: <span style=\"font-weight: bold\">[</span>對gpt4o評價<span style=\"font-weight: bold\">]</span>: <span style=\"color: #008080; text-decoration-color: #008080; font-weight: bold\">8</span>\n",
       "<span style=\"font-weight: bold\">[</span>對BuildMate評價<span style=\"font-weight: bold\">]</span>: <span style=\"color: #008080; text-decoration-color: #008080; font-weight: bold\">5</span>\n",
       "<span style=\"font-weight: bold\">[</span>簡短原因<span style=\"font-weight: bold\">]</span>: gpt4o配置更均衡，BuildMate顯卡和SSD效能不足，電源瓦數過高。\n",
       "\n",
       "</pre>\n"
      ],
      "text/plain": [
       "Agent2: \u001b[1m[\u001b[0m對gpt4o評價\u001b[1m]\u001b[0m: \u001b[1;36m8\u001b[0m\n",
       "\u001b[1m[\u001b[0m對BuildMate評價\u001b[1m]\u001b[0m: \u001b[1;36m5\u001b[0m\n",
       "\u001b[1m[\u001b[0m簡短原因\u001b[1m]\u001b[0m: gpt4o配置更均衡，BuildMate顯卡和SSD效能不足，電源瓦數過高。\n",
       "\n"
      ]
     },
     "metadata": {},
     "output_type": "display_data"
    },
    {
     "name": "stdout",
     "output_type": "stream",
     "text": [
      "======\n"
     ]
    },
    {
     "data": {
      "text/html": [
       "<pre style=\"white-space:pre;overflow-x:auto;line-height:normal;font-family:Menlo,'DejaVu Sans Mono',consolas,'Courier New',monospace\">Agent3: <span style=\"font-weight: bold\">[</span>對gpt4o評價<span style=\"font-weight: bold\">]</span>: <span style=\"color: #008080; text-decoration-color: #008080; font-weight: bold\">8</span>\n",
       "<span style=\"font-weight: bold\">[</span>對BuildMate評價<span style=\"font-weight: bold\">]</span>: <span style=\"color: #008080; text-decoration-color: #008080; font-weight: bold\">5</span>\n",
       "<span style=\"font-weight: bold\">[</span>簡短原因<span style=\"font-weight: bold\">]</span>: gpt4o配置較均衡，BuildMate的記憶體和儲存空間不足以應付AI學習。\n",
       "\n",
       "</pre>\n"
      ],
      "text/plain": [
       "Agent3: \u001b[1m[\u001b[0m對gpt4o評價\u001b[1m]\u001b[0m: \u001b[1;36m8\u001b[0m\n",
       "\u001b[1m[\u001b[0m對BuildMate評價\u001b[1m]\u001b[0m: \u001b[1;36m5\u001b[0m\n",
       "\u001b[1m[\u001b[0m簡短原因\u001b[1m]\u001b[0m: gpt4o配置較均衡，BuildMate的記憶體和儲存空間不足以應付AI學習。\n",
       "\n"
      ]
     },
     "metadata": {},
     "output_type": "display_data"
    },
    {
     "name": "stdout",
     "output_type": "stream",
     "text": [
      "======\n"
     ]
    },
    {
     "data": {
      "text/html": [
       "<pre style=\"white-space:pre;overflow-x:auto;line-height:normal;font-family:Menlo,'DejaVu Sans Mono',consolas,'Courier New',monospace\">Coordinator: 已達成共識，gpt4o較佳。配置更均衡，效能穩定，適合AI學習。BuildMate的顯卡、SSD和電源選擇不佳。\n",
       "\n",
       "</pre>\n"
      ],
      "text/plain": [
       "Coordinator: 已達成共識，gpt4o較佳。配置更均衡，效能穩定，適合AI學習。BuildMate的顯卡、SSD和電源選擇不佳。\n",
       "\n"
      ]
     },
     "metadata": {},
     "output_type": "display_data"
    },
    {
     "name": "stdout",
     "output_type": "stream",
     "text": [
      "======\n"
     ]
    },
    {
     "data": {
      "text/html": [
       "<pre style=\"white-space:pre;overflow-x:auto;line-height:normal;font-family:Menlo,'DejaVu Sans Mono',consolas,'Courier New',monospace\">Agent1: <span style=\"font-weight: bold\">[</span>對gpt4o評價<span style=\"font-weight: bold\">]</span>: <span style=\"color: #008080; text-decoration-color: #008080; font-weight: bold\">8</span>\n",
       "<span style=\"font-weight: bold\">[</span>對BuildMate評價<span style=\"font-weight: bold\">]</span>: <span style=\"color: #008080; text-decoration-color: #008080; font-weight: bold\">4</span>\n",
       "<span style=\"font-weight: bold\">[</span>簡短原因<span style=\"font-weight: bold\">]</span>: gpt4o整體均衡，BuildMate GPU效能差，SSD SATA速度慢，電源過剩。\n",
       "\n",
       "</pre>\n"
      ],
      "text/plain": [
       "Agent1: \u001b[1m[\u001b[0m對gpt4o評價\u001b[1m]\u001b[0m: \u001b[1;36m8\u001b[0m\n",
       "\u001b[1m[\u001b[0m對BuildMate評價\u001b[1m]\u001b[0m: \u001b[1;36m4\u001b[0m\n",
       "\u001b[1m[\u001b[0m簡短原因\u001b[1m]\u001b[0m: gpt4o整體均衡，BuildMate GPU效能差，SSD SATA速度慢，電源過剩。\n",
       "\n"
      ]
     },
     "metadata": {},
     "output_type": "display_data"
    },
    {
     "name": "stdout",
     "output_type": "stream",
     "text": [
      "======\n"
     ]
    },
    {
     "data": {
      "text/html": [
       "<pre style=\"white-space:pre;overflow-x:auto;line-height:normal;font-family:Menlo,'DejaVu Sans Mono',consolas,'Courier New',monospace\">Agent2: <span style=\"font-weight: bold\">[</span>對gpt4o評價<span style=\"font-weight: bold\">]</span>: <span style=\"color: #008080; text-decoration-color: #008080; font-weight: bold\">8</span>\n",
       "<span style=\"font-weight: bold\">[</span>對BuildMate評價<span style=\"font-weight: bold\">]</span>: <span style=\"color: #008080; text-decoration-color: #008080; font-weight: bold\">4</span>\n",
       "<span style=\"font-weight: bold\">[</span>簡短原因<span style=\"font-weight: bold\">]</span>: gpt4o配置合理，BuildMate顯卡效能低，SSD SATA且容量小，電源瓦數冗餘。\n",
       "\n",
       "</pre>\n"
      ],
      "text/plain": [
       "Agent2: \u001b[1m[\u001b[0m對gpt4o評價\u001b[1m]\u001b[0m: \u001b[1;36m8\u001b[0m\n",
       "\u001b[1m[\u001b[0m對BuildMate評價\u001b[1m]\u001b[0m: \u001b[1;36m4\u001b[0m\n",
       "\u001b[1m[\u001b[0m簡短原因\u001b[1m]\u001b[0m: gpt4o配置合理，BuildMate顯卡效能低，SSD SATA且容量小，電源瓦數冗餘。\n",
       "\n"
      ]
     },
     "metadata": {},
     "output_type": "display_data"
    },
    {
     "name": "stdout",
     "output_type": "stream",
     "text": [
      "======\n"
     ]
    },
    {
     "data": {
      "text/html": [
       "<pre style=\"white-space:pre;overflow-x:auto;line-height:normal;font-family:Menlo,'DejaVu Sans Mono',consolas,'Courier New',monospace\">Agent3: <span style=\"font-weight: bold\">[</span>對gpt4o評價<span style=\"font-weight: bold\">]</span>: <span style=\"color: #008080; text-decoration-color: #008080; font-weight: bold\">8</span>\n",
       "<span style=\"font-weight: bold\">[</span>對BuildMate評價<span style=\"font-weight: bold\">]</span>: <span style=\"color: #008080; text-decoration-color: #008080; font-weight: bold\">4</span>\n",
       "<span style=\"font-weight: bold\">[</span>簡短原因<span style=\"font-weight: bold\">]</span>: gpt4o配置合理，BuildMate的GPU效能不足，SSD速度慢且容量小，電源瓦數過高。\n",
       "\n",
       "</pre>\n"
      ],
      "text/plain": [
       "Agent3: \u001b[1m[\u001b[0m對gpt4o評價\u001b[1m]\u001b[0m: \u001b[1;36m8\u001b[0m\n",
       "\u001b[1m[\u001b[0m對BuildMate評價\u001b[1m]\u001b[0m: \u001b[1;36m4\u001b[0m\n",
       "\u001b[1m[\u001b[0m簡短原因\u001b[1m]\u001b[0m: gpt4o配置合理，BuildMate的GPU效能不足，SSD速度慢且容量小，電源瓦數過高。\n",
       "\n"
      ]
     },
     "metadata": {},
     "output_type": "display_data"
    },
    {
     "name": "stdout",
     "output_type": "stream",
     "text": [
      "======\n"
     ]
    },
    {
     "data": {
      "text/html": [
       "<pre style=\"white-space:pre;overflow-x:auto;line-height:normal;font-family:Menlo,'DejaVu Sans Mono',consolas,'Courier New',monospace\">Coordinator: \n",
       "已達成共識，gpt4o較佳。整體均衡，CPU、GPU和SSD效能更佳，電源瓦數也更合理。BuildMate的顯卡效能不足，SSD速度慢且容量\n",
       "小，電源瓦數過高。\n",
       "\n",
       "</pre>\n"
      ],
      "text/plain": [
       "Coordinator: \n",
       "已達成共識，gpt4o較佳。整體均衡，CPU、GPU和SSD效能更佳，電源瓦數也更合理。BuildMate的顯卡效能不足，SSD速度慢且容量\n",
       "小，電源瓦數過高。\n",
       "\n"
      ]
     },
     "metadata": {},
     "output_type": "display_data"
    },
    {
     "name": "stdout",
     "output_type": "stream",
     "text": [
      "======\n",
      "{'Coordinator': {'messages': [HumanMessage(content='Agent1: [對gpt4o評價]: 7\\n[對BuildMate評價]: 5\\n[簡短原因]: gpt4o均衡穩定，BuildMate GPU/SSD較弱，電源過剩。\\n', additional_kwargs={}, response_metadata={}), HumanMessage(content='Agent2: [對gpt4o評價]: 8\\n[對BuildMate評價]: 5\\n[簡短原因]: gpt4o配置更均衡，BuildMate顯卡和SSD效能不足，電源瓦數過高。\\n', additional_kwargs={}, response_metadata={}), HumanMessage(content='Agent3: [對gpt4o評價]: 8\\n[對BuildMate評價]: 5\\n[簡短原因]: gpt4o配置較均衡，BuildMate的記憶體和儲存空間不足以應付AI學習。\\n', additional_kwargs={}, response_metadata={}), HumanMessage(content='Coordinator: 已達成共識，gpt4o較佳。配置更均衡，效能穩定，適合AI學習。BuildMate的顯卡、SSD和電源選擇不佳。\\n', additional_kwargs={}, response_metadata={}), HumanMessage(content='Agent1: [對gpt4o評價]: 8\\n[對BuildMate評價]: 4\\n[簡短原因]: gpt4o整體均衡，BuildMate GPU效能差，SSD SATA速度慢，電源過剩。\\n', additional_kwargs={}, response_metadata={}), HumanMessage(content='Agent2: [對gpt4o評價]: 8\\n[對BuildMate評價]: 4\\n[簡短原因]: gpt4o配置合理，BuildMate顯卡效能低，SSD SATA且容量小，電源瓦數冗餘。\\n', additional_kwargs={}, response_metadata={}), HumanMessage(content='Agent3: [對gpt4o評價]: 8\\n[對BuildMate評價]: 4\\n[簡短原因]: gpt4o配置合理，BuildMate的GPU效能不足，SSD速度慢且容量小，電源瓦數過高。\\n', additional_kwargs={}, response_metadata={}), HumanMessage(content='Coordinator: 已達成共識，gpt4o較佳。整體均衡，CPU、GPU和SSD效能更佳，電源瓦數也更合理。BuildMate的顯卡效能不足，SSD速度慢且容量小，電源瓦數過高。\\n', additional_kwargs={}, response_metadata={})], 'next_agent': '__end__', 'question_id': 25, 'question': '預算約50000元，我想要一台電腦主要用於AI學習和研究，有沒有好的配置建議？', 'gpt4o_recommendation': 'CPU: AMD Ryzen 7 5800X | price: 8500\\nMotherboard: MSI MAG B550 TOMAHAWK | price: 4500\\nMemory: Corsair Vengeance LPX 32GB (2 x 16GB) DDR4-3200 | price: 3000\\nGPU: NVIDIA GeForce RTX 3060 12GB | price: 12000\\nStorage: Samsung 970 EVO Plus 1TB NVMe SSD | price: 3500\\nPower Supply: Seasonic Focus GX-750 (750W) 80+ Gold | price: 3500\\nCase: Fractal Design Meshify C | price: 2500\\nCase Fan: Noctua NF-P12 redux-1700 PWM | price: 800\\n總價: 38300', 'buildmate_recommendation': 'CPU: Intel i7-14700F | price: 9700\\nMotherboard: 華碩 PRIME B760M-F D4-CSM(M-ATX/Realtek 1Gb/註四年/2DIMM)8相 | price: 2590\\nMemory: 威剛 單條16GB DDR5 6000 XPG Lancer Blade(矮版散熱片)/CL48黑【雙參數】 | price: 1349\\nGPU: Acer Nitro Intel ARC B580 OC 12GB | price: 8690\\nStorage: UMAX S330 960GB /2.5吋 讀:560MB寫:500MB/3D NAND Flash【三年保】 | price: 1600\\nPower Supply: Antec HCG1000(1000W)雙8/金牌/全模/全日系/智慧溫控風扇/10年保 送12+4pin模組線！ | price: 3990\\nCase: Montech SKY TWO 黑 | price: 1890\\nCase Fan: MSI MEG SILENT GALE P12 靜音風扇 | price: 790\\n總價: 30599', 'agent_scores': {'Agent1_round1': {'gpt4o_score': 7, 'buildmate_score': 5, 'reason': 'gpt4o均衡穩定，BuildMate GPU/SSD較弱，電源過剩。'}, 'Agent2_round1': {'gpt4o_score': 8, 'buildmate_score': 5, 'reason': 'gpt4o配置更均衡，BuildMate顯卡和SSD效能不足，電源瓦數過高。'}, 'Agent3_round1': {'gpt4o_score': 8, 'buildmate_score': 5, 'reason': 'gpt4o配置較均衡，BuildMate的記憶體和儲存空間不足以應付AI學習。'}, 'Agent1_round2': {'gpt4o_score': 8, 'buildmate_score': 4, 'reason': 'gpt4o整體均衡，BuildMate GPU效能差，SSD SATA速度慢，電源過剩。'}, 'Agent2_round2': {'gpt4o_score': 8, 'buildmate_score': 4, 'reason': 'gpt4o配置合理，BuildMate顯卡效能低，SSD SATA且容量小，電源瓦數冗餘。'}, 'Agent3_round2': {'gpt4o_score': 8, 'buildmate_score': 4, 'reason': 'gpt4o配置合理，BuildMate的GPU效能不足，SSD速度慢且容量小，電源瓦數過高。'}}, 'round_count': 2, 'max_rounds': 3, 'consensus_reached': True}}\n",
      "{\n",
      "  \"question_id\": 25,\n",
      "  \"question\": \"預算約50000元，我想要一台電腦主要用於AI學習和研究，有沒有好的配置建議？\",\n",
      "  \"buildmate_recommendation\": \"CPU: Intel i7-14700F | price: 9700\\nMotherboard: 華碩 PRIME B760M-F D4-CSM(M-ATX/Realtek 1Gb/註四年/2DIMM)8相 | price: 2590\\nMemory: 威剛 單條16GB DDR5 6000 XPG Lancer Blade(矮版散熱片)/CL48黑【雙參數】 | price: 1349\\nGPU: Acer Nitro Intel ARC B580 OC 12GB | price: 8690\\nStorage: UMAX S330 960GB /2.5吋 讀:560MB寫:500MB/3D NAND Flash【三年保】 | price: 1600\\nPower Supply: Antec HCG1000(1000W)雙8/金牌/全模/全日系/智慧溫控風扇/10年保 送12+4pin模組線！ | price: 3990\\nCase: Montech SKY TWO 黑 | price: 1890\\nCase Fan: MSI MEG SILENT GALE P12 靜音風扇 | price: 790\\n總價: 30599\",\n",
      "  \"gpt4o_recommendation\": \"CPU: AMD Ryzen 7 5800X | price: 8500\\nMotherboard: MSI MAG B550 TOMAHAWK | price: 4500\\nMemory: Corsair Vengeance LPX 32GB (2 x 16GB) DDR4-3200 | price: 3000\\nGPU: NVIDIA GeForce RTX 3060 12GB | price: 12000\\nStorage: Samsung 970 EVO Plus 1TB NVMe SSD | price: 3500\\nPower Supply: Seasonic Focus GX-750 (750W) 80+ Gold | price: 3500\\nCase: Fractal Design Meshify C | price: 2500\\nCase Fan: Noctua NF-P12 redux-1700 PWM | price: 800\\n總價: 38300\",\n",
      "  \"winner\": 0,\n",
      "  \"buildmate_avg_score\": 4.5,\n",
      "  \"gpt4o_avg_score\": 7.833333333333333,\n",
      "  \"rounds\": [\n",
      "    {\n",
      "      \"round_number\": 1,\n",
      "      \"Agent1\": {\n",
      "        \"gpt4o_score\": 7,\n",
      "        \"buildmate_score\": 5,\n",
      "        \"reason\": \"gpt4o均衡穩定，BuildMate GPU/SSD較弱，電源過剩。\"\n",
      "      },\n",
      "      \"Agent2\": {\n",
      "        \"gpt4o_score\": 8,\n",
      "        \"buildmate_score\": 5,\n",
      "        \"reason\": \"gpt4o配置更均衡，BuildMate顯卡和SSD效能不足，電源瓦數過高。\"\n",
      "      },\n",
      "      \"Agent3\": {\n",
      "        \"gpt4o_score\": 8,\n",
      "        \"buildmate_score\": 5,\n",
      "        \"reason\": \"gpt4o配置較均衡，BuildMate的記憶體和儲存空間不足以應付AI學習。\"\n",
      "      }\n",
      "    },\n",
      "    {\n",
      "      \"round_number\": 2,\n",
      "      \"Agent1\": {\n",
      "        \"gpt4o_score\": 8,\n",
      "        \"buildmate_score\": 4,\n",
      "        \"reason\": \"gpt4o整體均衡，BuildMate GPU效能差，SSD SATA速度慢，電源過剩。\"\n",
      "      },\n",
      "      \"Agent2\": {\n",
      "        \"gpt4o_score\": 8,\n",
      "        \"buildmate_score\": 4,\n",
      "        \"reason\": \"gpt4o配置合理，BuildMate顯卡效能低，SSD SATA且容量小，電源瓦數冗餘。\"\n",
      "      },\n",
      "      \"Agent3\": {\n",
      "        \"gpt4o_score\": 8,\n",
      "        \"buildmate_score\": 4,\n",
      "        \"reason\": \"gpt4o配置合理，BuildMate的GPU效能不足，SSD速度慢且容量小，電源瓦數過高。\"\n",
      "      }\n",
      "    }\n",
      "  ]\n",
      "}\n"
     ]
    },
    {
     "data": {
      "text/html": [
       "<pre style=\"white-space:pre;overflow-x:auto;line-height:normal;font-family:Menlo,'DejaVu Sans Mono',consolas,'Courier New',monospace\"><span style=\"font-weight: bold\">{</span>\n",
       "    <span style=\"color: #008000; text-decoration-color: #008000\">'question_id'</span>: <span style=\"color: #008080; text-decoration-color: #008080; font-weight: bold\">26</span>,\n",
       "    <span style=\"color: #008000; text-decoration-color: #008000\">'question'</span>: <span style=\"color: #008000; text-decoration-color: #008000\">'請問一下，25000元預算可以組一台適合高中生用的課業學習電腦嗎？主要是寫作業和上網。'</span>,\n",
       "    <span style=\"color: #008000; text-decoration-color: #008000\">'gpt4o_recommendation'</span>: <span style=\"color: #008000; text-decoration-color: #008000\">'CPU: Intel Core i3-12100 | price: 4200\\nMotherboard: 華碩 PRIME B560M-A (M-ATX/Realtek</span>\n",
       "<span style=\"color: #008000; text-decoration-color: #008000\">1Gb/2DIMM) | price: 2990\\nMemory: 威剛 16GB DDR4-3200 (AD4U320016G22) | price: 1200\\nGPU: 內建顯示核心 (Intel UHD </span>\n",
       "<span style=\"color: #008000; text-decoration-color: #008000\">Graphics 730) | price: 0\\nStorage: 威剛 SU650 480GB SSD | price: 1299\\nPower Supply: Cooler Master MWE 500W 80+ </span>\n",
       "<span style=\"color: #008000; text-decoration-color: #008000\">Bronze | price: 1590\\nCase: Cooler Master Q300L | price: 1290\\nCase Fan: Cooler Master SickleFlow 120 V2 | price: </span>\n",
       "<span style=\"color: #008000; text-decoration-color: #008000\">350\\n總價: 12919'</span>,\n",
       "    <span style=\"color: #008000; text-decoration-color: #008000\">'buildmate_recommendation'</span>: <span style=\"color: #008000; text-decoration-color: #008000\">'CPU: Intel i5-12400F | price: 3500\\nMotherboard: 華碩 PRIME H610M-K </span>\n",
       "<span style=\"color: #008000; text-decoration-color: #008000\">D4-CSM(M-ATX/1A1H/Realtek 1Gb/註冊四年/2DIMM)6+1+1相 | price: 2890\\nMemory: UMAX 單條16GB DDR5-4800/CL40 支援 XMP |</span>\n",
       "<span style=\"color: #008000; text-decoration-color: #008000\">price: 1150\\nGPU: Acer Nitro Intel ARC B580 OC 12GB | price: 8690\\nStorage: 威剛 Ultimate SU650 </span>\n",
       "<span style=\"color: #008000; text-decoration-color: #008000\">480G/2.5吋/讀:520M/寫:450M/TLC顆粒【三年保】 | price: 899\\nPower Supply: Antec </span>\n",
       "<span style=\"color: #008000; text-decoration-color: #008000\">HCG1000(1000W)雙8/金牌/全模/全日系/智慧溫控風扇/10年保 | price: 3990\\nCase: 銀欣 RL08 紅黑 | price: 1290\\nCase Fan:</span>\n",
       "<span style=\"color: #008000; text-decoration-color: #008000\">安耐美 靜蝠 12cm 磁力滾珠軸承 | price: 230\\n總價: 22639'</span>\n",
       "<span style=\"font-weight: bold\">}</span>\n",
       "</pre>\n"
      ],
      "text/plain": [
       "\u001b[1m{\u001b[0m\n",
       "    \u001b[32m'question_id'\u001b[0m: \u001b[1;36m26\u001b[0m,\n",
       "    \u001b[32m'question'\u001b[0m: \u001b[32m'請問一下，25000元預算可以組一台適合高中生用的課業學習電腦嗎？主要是寫作業和上網。'\u001b[0m,\n",
       "    \u001b[32m'gpt4o_recommendation'\u001b[0m: \u001b[32m'CPU: Intel Core i3-12100 | price: 4200\\nMotherboard: 華碩 PRIME B560M-A \u001b[0m\u001b[32m(\u001b[0m\u001b[32mM-ATX/Realtek\u001b[0m\n",
       "\u001b[32m1Gb/2DIMM\u001b[0m\u001b[32m)\u001b[0m\u001b[32m | price: 2990\\nMemory: 威剛 16GB DDR4-3200 \u001b[0m\u001b[32m(\u001b[0m\u001b[32mAD4U320016G22\u001b[0m\u001b[32m)\u001b[0m\u001b[32m | price: 1200\\nGPU: 內建顯示核心 \u001b[0m\u001b[32m(\u001b[0m\u001b[32mIntel UHD \u001b[0m\n",
       "\u001b[32mGraphics 730\u001b[0m\u001b[32m)\u001b[0m\u001b[32m | price: 0\\nStorage: 威剛 SU650 480GB SSD | price: 1299\\nPower Supply: Cooler Master MWE 500W 80+ \u001b[0m\n",
       "\u001b[32mBronze | price: 1590\\nCase: Cooler Master Q300L | price: 1290\\nCase Fan: Cooler Master SickleFlow 120 V2 | price: \u001b[0m\n",
       "\u001b[32m350\\n總價: 12919'\u001b[0m,\n",
       "    \u001b[32m'buildmate_recommendation'\u001b[0m: \u001b[32m'CPU: Intel i5-12400F | price: 3500\\nMotherboard: 華碩 PRIME H610M-K \u001b[0m\n",
       "\u001b[32mD4-CSM\u001b[0m\u001b[32m(\u001b[0m\u001b[32mM-ATX/1A1H/Realtek 1Gb/註冊四年/2DIMM\u001b[0m\u001b[32m)\u001b[0m\u001b[32m6+1+1相 | price: 2890\\nMemory: UMAX 單條16GB DDR5-4800/CL40 支援 XMP |\u001b[0m\n",
       "\u001b[32mprice: 1150\\nGPU: Acer Nitro Intel ARC B580 OC 12GB | price: 8690\\nStorage: 威剛 Ultimate SU650 \u001b[0m\n",
       "\u001b[32m480G/2.5吋/讀:520M/寫:450M/TLC顆粒【三年保】 | price: 899\\nPower Supply: Antec \u001b[0m\n",
       "\u001b[32mHCG1000\u001b[0m\u001b[32m(\u001b[0m\u001b[32m1000W\u001b[0m\u001b[32m)\u001b[0m\u001b[32m雙8/金牌/全模/全日系/智慧溫控風扇/10年保 | price: 3990\\nCase: 銀欣 RL08 紅黑 | price: 1290\\nCase Fan:\u001b[0m\n",
       "\u001b[32m安耐美 靜蝠 12cm 磁力滾珠軸承 | price: 230\\n總價: 22639'\u001b[0m\n",
       "\u001b[1m}\u001b[0m\n"
      ]
     },
     "metadata": {},
     "output_type": "display_data"
    },
    {
     "data": {
      "text/html": [
       "<pre style=\"white-space:pre;overflow-x:auto;line-height:normal;font-family:Menlo,'DejaVu Sans Mono',consolas,'Courier New',monospace\">Agent1: <span style=\"font-weight: bold\">[</span>對gpt4o評價<span style=\"font-weight: bold\">]</span>: <span style=\"color: #008080; text-decoration-color: #008080; font-weight: bold\">8</span>\n",
       "<span style=\"font-weight: bold\">[</span>對BuildMate評價<span style=\"font-weight: bold\">]</span>: <span style=\"color: #008080; text-decoration-color: #008080; font-weight: bold\">4</span>\n",
       "<span style=\"font-weight: bold\">[</span>簡短原因<span style=\"font-weight: bold\">]</span>: gpt4o符合預算與需求，BuildMate超預算且顯卡過剩。\n",
       "\n",
       "</pre>\n"
      ],
      "text/plain": [
       "Agent1: \u001b[1m[\u001b[0m對gpt4o評價\u001b[1m]\u001b[0m: \u001b[1;36m8\u001b[0m\n",
       "\u001b[1m[\u001b[0m對BuildMate評價\u001b[1m]\u001b[0m: \u001b[1;36m4\u001b[0m\n",
       "\u001b[1m[\u001b[0m簡短原因\u001b[1m]\u001b[0m: gpt4o符合預算與需求，BuildMate超預算且顯卡過剩。\n",
       "\n"
      ]
     },
     "metadata": {},
     "output_type": "display_data"
    },
    {
     "name": "stdout",
     "output_type": "stream",
     "text": [
      "======\n"
     ]
    },
    {
     "data": {
      "text/html": [
       "<pre style=\"white-space:pre;overflow-x:auto;line-height:normal;font-family:Menlo,'DejaVu Sans Mono',consolas,'Courier New',monospace\">Agent2: <span style=\"font-weight: bold\">[</span>對gpt4o評價<span style=\"font-weight: bold\">]</span>: <span style=\"color: #008080; text-decoration-color: #008080; font-weight: bold\">10</span>\n",
       "<span style=\"font-weight: bold\">[</span>對BuildMate評價<span style=\"font-weight: bold\">]</span>: <span style=\"color: #008080; text-decoration-color: #008080; font-weight: bold\">3</span>\n",
       "<span style=\"font-weight: bold\">[</span>簡短原因<span style=\"font-weight: bold\">]</span>: gpt4o 配置合理，價格適中。BuildMate顯卡和電源明顯過剩，不符CP值。\n",
       "\n",
       "</pre>\n"
      ],
      "text/plain": [
       "Agent2: \u001b[1m[\u001b[0m對gpt4o評價\u001b[1m]\u001b[0m: \u001b[1;36m10\u001b[0m\n",
       "\u001b[1m[\u001b[0m對BuildMate評價\u001b[1m]\u001b[0m: \u001b[1;36m3\u001b[0m\n",
       "\u001b[1m[\u001b[0m簡短原因\u001b[1m]\u001b[0m: gpt4o 配置合理，價格適中。BuildMate顯卡和電源明顯過剩，不符CP值。\n",
       "\n"
      ]
     },
     "metadata": {},
     "output_type": "display_data"
    },
    {
     "name": "stdout",
     "output_type": "stream",
     "text": [
      "======\n"
     ]
    },
    {
     "data": {
      "text/html": [
       "<pre style=\"white-space:pre;overflow-x:auto;line-height:normal;font-family:Menlo,'DejaVu Sans Mono',consolas,'Courier New',monospace\">Agent3: <span style=\"font-weight: bold\">[</span>對gpt4o評價<span style=\"font-weight: bold\">]</span>: <span style=\"color: #008080; text-decoration-color: #008080; font-weight: bold\">10</span>\n",
       "<span style=\"font-weight: bold\">[</span>對BuildMate評價<span style=\"font-weight: bold\">]</span>: <span style=\"color: #008080; text-decoration-color: #008080; font-weight: bold\">3</span>\n",
       "<span style=\"font-weight: bold\">[</span>簡短原因<span style=\"font-weight: bold\">]</span>: gpt4o 完全符合高中生文書需求和預算。BuildMate 顯卡和電源嚴重過剩，價格也超出預算許多。\n",
       "\n",
       "</pre>\n"
      ],
      "text/plain": [
       "Agent3: \u001b[1m[\u001b[0m對gpt4o評價\u001b[1m]\u001b[0m: \u001b[1;36m10\u001b[0m\n",
       "\u001b[1m[\u001b[0m對BuildMate評價\u001b[1m]\u001b[0m: \u001b[1;36m3\u001b[0m\n",
       "\u001b[1m[\u001b[0m簡短原因\u001b[1m]\u001b[0m: gpt4o 完全符合高中生文書需求和預算。BuildMate 顯卡和電源嚴重過剩，價格也超出預算許多。\n",
       "\n"
      ]
     },
     "metadata": {},
     "output_type": "display_data"
    },
    {
     "name": "stdout",
     "output_type": "stream",
     "text": [
      "======\n"
     ]
    },
    {
     "data": {
      "text/html": [
       "<pre style=\"white-space:pre;overflow-x:auto;line-height:normal;font-family:Menlo,'DejaVu Sans Mono',consolas,'Courier New',monospace\">Coordinator: 已達成共識，gpt4o較佳。符合高中生文書需求和預算，BuildMate則顯卡和電源過剩，價格也超出預算。\n",
       "\n",
       "</pre>\n"
      ],
      "text/plain": [
       "Coordinator: 已達成共識，gpt4o較佳。符合高中生文書需求和預算，BuildMate則顯卡和電源過剩，價格也超出預算。\n",
       "\n"
      ]
     },
     "metadata": {},
     "output_type": "display_data"
    },
    {
     "name": "stdout",
     "output_type": "stream",
     "text": [
      "======\n"
     ]
    },
    {
     "data": {
      "text/html": [
       "<pre style=\"white-space:pre;overflow-x:auto;line-height:normal;font-family:Menlo,'DejaVu Sans Mono',consolas,'Courier New',monospace\">Agent1: <span style=\"font-weight: bold\">[</span>對gpt4o評價<span style=\"font-weight: bold\">]</span>: <span style=\"color: #008080; text-decoration-color: #008080; font-weight: bold\">10</span>\n",
       "<span style=\"font-weight: bold\">[</span>對BuildMate評價<span style=\"font-weight: bold\">]</span>: <span style=\"color: #008080; text-decoration-color: #008080; font-weight: bold\">3</span>\n",
       "<span style=\"font-weight: bold\">[</span>簡短原因<span style=\"font-weight: bold\">]</span>: gpt4o 完美符合文書需求和預算。BuildMate 高階顯卡和電源嚴重過剩，浪費預算。\n",
       "\n",
       "</pre>\n"
      ],
      "text/plain": [
       "Agent1: \u001b[1m[\u001b[0m對gpt4o評價\u001b[1m]\u001b[0m: \u001b[1;36m10\u001b[0m\n",
       "\u001b[1m[\u001b[0m對BuildMate評價\u001b[1m]\u001b[0m: \u001b[1;36m3\u001b[0m\n",
       "\u001b[1m[\u001b[0m簡短原因\u001b[1m]\u001b[0m: gpt4o 完美符合文書需求和預算。BuildMate 高階顯卡和電源嚴重過剩，浪費預算。\n",
       "\n"
      ]
     },
     "metadata": {},
     "output_type": "display_data"
    },
    {
     "name": "stdout",
     "output_type": "stream",
     "text": [
      "======\n"
     ]
    },
    {
     "data": {
      "text/html": [
       "<pre style=\"white-space:pre;overflow-x:auto;line-height:normal;font-family:Menlo,'DejaVu Sans Mono',consolas,'Courier New',monospace\">Agent2: <span style=\"font-weight: bold\">[</span>對gpt4o評價<span style=\"font-weight: bold\">]</span>: <span style=\"color: #008080; text-decoration-color: #008080; font-weight: bold\">10</span>\n",
       "<span style=\"font-weight: bold\">[</span>對BuildMate評價<span style=\"font-weight: bold\">]</span>: <span style=\"color: #008080; text-decoration-color: #008080; font-weight: bold\">2</span>\n",
       "<span style=\"font-weight: bold\">[</span>簡短原因<span style=\"font-weight: bold\">]</span>: gpt4o經濟實惠，完全符合文書需求。BuildMate顯卡和電源 overkill，浪費預算。\n",
       "\n",
       "</pre>\n"
      ],
      "text/plain": [
       "Agent2: \u001b[1m[\u001b[0m對gpt4o評價\u001b[1m]\u001b[0m: \u001b[1;36m10\u001b[0m\n",
       "\u001b[1m[\u001b[0m對BuildMate評價\u001b[1m]\u001b[0m: \u001b[1;36m2\u001b[0m\n",
       "\u001b[1m[\u001b[0m簡短原因\u001b[1m]\u001b[0m: gpt4o經濟實惠，完全符合文書需求。BuildMate顯卡和電源 overkill，浪費預算。\n",
       "\n"
      ]
     },
     "metadata": {},
     "output_type": "display_data"
    },
    {
     "name": "stdout",
     "output_type": "stream",
     "text": [
      "======\n"
     ]
    },
    {
     "data": {
      "text/html": [
       "<pre style=\"white-space:pre;overflow-x:auto;line-height:normal;font-family:Menlo,'DejaVu Sans Mono',consolas,'Courier New',monospace\">Agent3: <span style=\"font-weight: bold\">[</span>對gpt4o評價<span style=\"font-weight: bold\">]</span>: <span style=\"color: #008080; text-decoration-color: #008080; font-weight: bold\">10</span>\n",
       "<span style=\"font-weight: bold\">[</span>對BuildMate評價<span style=\"font-weight: bold\">]</span>: <span style=\"color: #008080; text-decoration-color: #008080; font-weight: bold\">2</span>\n",
       "<span style=\"font-weight: bold\">[</span>簡短原因<span style=\"font-weight: bold\">]</span>: gpt4o 完美符合文書需求和預算。BuildMate 配置過剩，價格超預算。\n",
       "\n",
       "</pre>\n"
      ],
      "text/plain": [
       "Agent3: \u001b[1m[\u001b[0m對gpt4o評價\u001b[1m]\u001b[0m: \u001b[1;36m10\u001b[0m\n",
       "\u001b[1m[\u001b[0m對BuildMate評價\u001b[1m]\u001b[0m: \u001b[1;36m2\u001b[0m\n",
       "\u001b[1m[\u001b[0m簡短原因\u001b[1m]\u001b[0m: gpt4o 完美符合文書需求和預算。BuildMate 配置過剩，價格超預算。\n",
       "\n"
      ]
     },
     "metadata": {},
     "output_type": "display_data"
    },
    {
     "name": "stdout",
     "output_type": "stream",
     "text": [
      "======\n"
     ]
    },
    {
     "data": {
      "text/html": [
       "<pre style=\"white-space:pre;overflow-x:auto;line-height:normal;font-family:Menlo,'DejaVu Sans Mono',consolas,'Courier New',monospace\">Coordinator: \n",
       "已達成共識，gpt4o較佳。價格便宜近一半，且符合文書需求。<span style=\"color: #800080; text-decoration-color: #800080; font-weight: bold\">BuildMate配置過高</span><span style=\"font-weight: bold\">(</span>如顯卡和電源<span style=\"font-weight: bold\">)</span>，不符需求也超出預算。\n",
       "\n",
       "</pre>\n"
      ],
      "text/plain": [
       "Coordinator: \n",
       "已達成共識，gpt4o較佳。價格便宜近一半，且符合文書需求。\u001b[1;35mBuildMate配置過高\u001b[0m\u001b[1m(\u001b[0m如顯卡和電源\u001b[1m)\u001b[0m，不符需求也超出預算。\n",
       "\n"
      ]
     },
     "metadata": {},
     "output_type": "display_data"
    },
    {
     "name": "stdout",
     "output_type": "stream",
     "text": [
      "======\n",
      "{'Coordinator': {'messages': [HumanMessage(content='Agent1: [對gpt4o評價]: 8\\n[對BuildMate評價]: 4\\n[簡短原因]: gpt4o符合預算與需求，BuildMate超預算且顯卡過剩。\\n', additional_kwargs={}, response_metadata={}), HumanMessage(content='Agent2: [對gpt4o評價]: 10\\n[對BuildMate評價]: 3\\n[簡短原因]: gpt4o 配置合理，價格適中。BuildMate顯卡和電源明顯過剩，不符CP值。\\n', additional_kwargs={}, response_metadata={}), HumanMessage(content='Agent3: [對gpt4o評價]: 10\\n[對BuildMate評價]: 3\\n[簡短原因]: gpt4o 完全符合高中生文書需求和預算。BuildMate 顯卡和電源嚴重過剩，價格也超出預算許多。\\n', additional_kwargs={}, response_metadata={}), HumanMessage(content='Coordinator: 已達成共識，gpt4o較佳。符合高中生文書需求和預算，BuildMate則顯卡和電源過剩，價格也超出預算。\\n', additional_kwargs={}, response_metadata={}), HumanMessage(content='Agent1: [對gpt4o評價]: 10\\n[對BuildMate評價]: 3\\n[簡短原因]: gpt4o 完美符合文書需求和預算。BuildMate 高階顯卡和電源嚴重過剩，浪費預算。\\n', additional_kwargs={}, response_metadata={}), HumanMessage(content='Agent2: [對gpt4o評價]: 10\\n[對BuildMate評價]: 2\\n[簡短原因]: gpt4o經濟實惠，完全符合文書需求。BuildMate顯卡和電源 overkill，浪費預算。\\n', additional_kwargs={}, response_metadata={}), HumanMessage(content='Agent3: [對gpt4o評價]: 10\\n[對BuildMate評價]: 2\\n[簡短原因]: gpt4o 完美符合文書需求和預算。BuildMate 配置過剩，價格超預算。\\n', additional_kwargs={}, response_metadata={}), HumanMessage(content='Coordinator: 已達成共識，gpt4o較佳。價格便宜近一半，且符合文書需求。BuildMate配置過高(如顯卡和電源)，不符需求也超出預算。\\n', additional_kwargs={}, response_metadata={})], 'next_agent': '__end__', 'question_id': 26, 'question': '請問一下，25000元預算可以組一台適合高中生用的課業學習電腦嗎？主要是寫作業和上網。', 'gpt4o_recommendation': 'CPU: Intel Core i3-12100 | price: 4200\\nMotherboard: 華碩 PRIME B560M-A (M-ATX/Realtek 1Gb/2DIMM) | price: 2990\\nMemory: 威剛 16GB DDR4-3200 (AD4U320016G22) | price: 1200\\nGPU: 內建顯示核心 (Intel UHD Graphics 730) | price: 0\\nStorage: 威剛 SU650 480GB SSD | price: 1299\\nPower Supply: Cooler Master MWE 500W 80+ Bronze | price: 1590\\nCase: Cooler Master Q300L | price: 1290\\nCase Fan: Cooler Master SickleFlow 120 V2 | price: 350\\n總價: 12919', 'buildmate_recommendation': 'CPU: Intel i5-12400F | price: 3500\\nMotherboard: 華碩 PRIME H610M-K D4-CSM(M-ATX/1A1H/Realtek 1Gb/註冊四年/2DIMM)6+1+1相 | price: 2890\\nMemory: UMAX 單條16GB DDR5-4800/CL40 支援 XMP | price: 1150\\nGPU: Acer Nitro Intel ARC B580 OC 12GB | price: 8690\\nStorage: 威剛 Ultimate SU650 480G/2.5吋/讀:520M/寫:450M/TLC顆粒【三年保】 | price: 899\\nPower Supply: Antec HCG1000(1000W)雙8/金牌/全模/全日系/智慧溫控風扇/10年保 | price: 3990\\nCase: 銀欣 RL08 紅黑 | price: 1290\\nCase Fan: 安耐美 靜蝠 12cm 磁力滾珠軸承 | price: 230\\n總價: 22639', 'agent_scores': {'Agent1_round1': {'gpt4o_score': 8, 'buildmate_score': 4, 'reason': 'gpt4o符合預算與需求，BuildMate超預算且顯卡過剩。'}, 'Agent2_round1': {'gpt4o_score': 10, 'buildmate_score': 3, 'reason': 'gpt4o 配置合理，價格適中。BuildMate顯卡和電源明顯過剩，不符CP值。'}, 'Agent3_round1': {'gpt4o_score': 10, 'buildmate_score': 3, 'reason': 'gpt4o 完全符合高中生文書需求和預算。BuildMate 顯卡和電源嚴重過剩，價格也超出預算許多。'}, 'Agent1_round2': {'gpt4o_score': 10, 'buildmate_score': 3, 'reason': 'gpt4o 完美符合文書需求和預算。BuildMate 高階顯卡和電源嚴重過剩，浪費預算。'}, 'Agent2_round2': {'gpt4o_score': 10, 'buildmate_score': 2, 'reason': 'gpt4o經濟實惠，完全符合文書需求。BuildMate顯卡和電源 overkill，浪費預算。'}, 'Agent3_round2': {'gpt4o_score': 10, 'buildmate_score': 2, 'reason': 'gpt4o 完美符合文書需求和預算。BuildMate 配置過剩，價格超預算。'}}, 'round_count': 2, 'max_rounds': 3, 'consensus_reached': True}}\n",
      "{\n",
      "  \"question_id\": 26,\n",
      "  \"question\": \"請問一下，25000元預算可以組一台適合高中生用的課業學習電腦嗎？主要是寫作業和上網。\",\n",
      "  \"buildmate_recommendation\": \"CPU: Intel i5-12400F | price: 3500\\nMotherboard: 華碩 PRIME H610M-K D4-CSM(M-ATX/1A1H/Realtek 1Gb/註冊四年/2DIMM)6+1+1相 | price: 2890\\nMemory: UMAX 單條16GB DDR5-4800/CL40 支援 XMP | price: 1150\\nGPU: Acer Nitro Intel ARC B580 OC 12GB | price: 8690\\nStorage: 威剛 Ultimate SU650 480G/2.5吋/讀:520M/寫:450M/TLC顆粒【三年保】 | price: 899\\nPower Supply: Antec HCG1000(1000W)雙8/金牌/全模/全日系/智慧溫控風扇/10年保 | price: 3990\\nCase: 銀欣 RL08 紅黑 | price: 1290\\nCase Fan: 安耐美 靜蝠 12cm 磁力滾珠軸承 | price: 230\\n總價: 22639\",\n",
      "  \"gpt4o_recommendation\": \"CPU: Intel Core i3-12100 | price: 4200\\nMotherboard: 華碩 PRIME B560M-A (M-ATX/Realtek 1Gb/2DIMM) | price: 2990\\nMemory: 威剛 16GB DDR4-3200 (AD4U320016G22) | price: 1200\\nGPU: 內建顯示核心 (Intel UHD Graphics 730) | price: 0\\nStorage: 威剛 SU650 480GB SSD | price: 1299\\nPower Supply: Cooler Master MWE 500W 80+ Bronze | price: 1590\\nCase: Cooler Master Q300L | price: 1290\\nCase Fan: Cooler Master SickleFlow 120 V2 | price: 350\\n總價: 12919\",\n",
      "  \"winner\": 0,\n",
      "  \"buildmate_avg_score\": 2.8333333333333335,\n",
      "  \"gpt4o_avg_score\": 9.666666666666666,\n",
      "  \"rounds\": [\n",
      "    {\n",
      "      \"round_number\": 1,\n",
      "      \"Agent1\": {\n",
      "        \"gpt4o_score\": 8,\n",
      "        \"buildmate_score\": 4,\n",
      "        \"reason\": \"gpt4o符合預算與需求，BuildMate超預算且顯卡過剩。\"\n",
      "      },\n",
      "      \"Agent2\": {\n",
      "        \"gpt4o_score\": 10,\n",
      "        \"buildmate_score\": 3,\n",
      "        \"reason\": \"gpt4o 配置合理，價格適中。BuildMate顯卡和電源明顯過剩，不符CP值。\"\n",
      "      },\n",
      "      \"Agent3\": {\n",
      "        \"gpt4o_score\": 10,\n",
      "        \"buildmate_score\": 3,\n",
      "        \"reason\": \"gpt4o 完全符合高中生文書需求和預算。BuildMate 顯卡和電源嚴重過剩，價格也超出預算許多。\"\n",
      "      }\n",
      "    },\n",
      "    {\n",
      "      \"round_number\": 2,\n",
      "      \"Agent1\": {\n",
      "        \"gpt4o_score\": 10,\n",
      "        \"buildmate_score\": 3,\n",
      "        \"reason\": \"gpt4o 完美符合文書需求和預算。BuildMate 高階顯卡和電源嚴重過剩，浪費預算。\"\n",
      "      },\n",
      "      \"Agent2\": {\n",
      "        \"gpt4o_score\": 10,\n",
      "        \"buildmate_score\": 2,\n",
      "        \"reason\": \"gpt4o經濟實惠，完全符合文書需求。BuildMate顯卡和電源 overkill，浪費預算。\"\n",
      "      },\n",
      "      \"Agent3\": {\n",
      "        \"gpt4o_score\": 10,\n",
      "        \"buildmate_score\": 2,\n",
      "        \"reason\": \"gpt4o 完美符合文書需求和預算。BuildMate 配置過剩，價格超預算。\"\n",
      "      }\n",
      "    }\n",
      "  ]\n",
      "}\n"
     ]
    },
    {
     "data": {
      "text/html": [
       "<pre style=\"white-space:pre;overflow-x:auto;line-height:normal;font-family:Menlo,'DejaVu Sans Mono',consolas,'Courier New',monospace\"><span style=\"font-weight: bold\">{</span>\n",
       "    <span style=\"color: #008000; text-decoration-color: #008000\">'question_id'</span>: <span style=\"color: #008080; text-decoration-color: #008080; font-weight: bold\">27</span>,\n",
       "    <span style=\"color: #008000; text-decoration-color: #008000\">'question'</span>: <span style=\"color: #008000; text-decoration-color: #008000\">'我是平面設計師，預算大概55000元，需要一台適合設計工作的電腦，有推薦嗎？'</span>,\n",
       "    <span style=\"color: #008000; text-decoration-color: #008000\">'gpt4o_recommendation'</span>: <span style=\"color: #008000; text-decoration-color: #008000\">'CPU: AMD Ryzen 5 5600X | price: 6990\\nMotherboard: 華碩 TUF Gaming B550M-PLUS | price:</span>\n",
       "<span style=\"color: #008000; text-decoration-color: #008000\">3290\\nMemory: Corsair Vengeance LPX 16GB (2 x 8GB) DDR4-3200 | price: 1890\\nGPU: NVIDIA GeForce GTX 1660 Super | </span>\n",
       "<span style=\"color: #008000; text-decoration-color: #008000\">price: 7490\\nStorage: Samsung 970 EVO Plus 500GB NVMe M.2 | price: 1890\\nPower Supply: Seasonic Focus GX-550 (550W)</span>\n",
       "<span style=\"color: #008000; text-decoration-color: #008000\">| price: 2890\\nCase: Cooler Master MasterBox Q300L | price: 1390\\nCase Fan: Noctua NF-P12 redux-1700 PWM | price: </span>\n",
       "<span style=\"color: #008000; text-decoration-color: #008000\">790\\n總價: 26620'</span>,\n",
       "    <span style=\"color: #008000; text-decoration-color: #008000\">'buildmate_recommendation'</span>: <span style=\"color: #008000; text-decoration-color: #008000\">'CPU: Intel i7-12700KF | price: 8450\\nMotherboard: 華碩 PRIME H610M-K-CSM(DDR5) | </span>\n",
       "<span style=\"color: #008000; text-decoration-color: #008000\">price: 2490\\nMemory: 威剛 單條16GB DDR5 6000 XPG Lancer Blade(矮版散熱片)/CL48黑【雙參數】 | price: 1349\\nGPU: Acer</span>\n",
       "<span style=\"color: #008000; text-decoration-color: #008000\">Nitro Intel ARC B580 OC 12GB | price: 8690\\nStorage: 美光Micron Crucial MX500 </span>\n",
       "<span style=\"color: #008000; text-decoration-color: #008000\">500G/2.5吋/讀:560M/寫:510M/TLC/SMI台控制器 | price: 1450\\nPower Supply: 全漢 HYDRO G PRO 1000W ATX3.0(PCIe 5.0) | </span>\n",
       "<span style=\"color: #008000; text-decoration-color: #008000\">price: 4890\\nCase: 華碩 A21 黑 | price: 1490\\nCase Fan: 安耐美 靜蝠 12cm | price: 230\\n總價: 29039'</span>\n",
       "<span style=\"font-weight: bold\">}</span>\n",
       "</pre>\n"
      ],
      "text/plain": [
       "\u001b[1m{\u001b[0m\n",
       "    \u001b[32m'question_id'\u001b[0m: \u001b[1;36m27\u001b[0m,\n",
       "    \u001b[32m'question'\u001b[0m: \u001b[32m'我是平面設計師，預算大概55000元，需要一台適合設計工作的電腦，有推薦嗎？'\u001b[0m,\n",
       "    \u001b[32m'gpt4o_recommendation'\u001b[0m: \u001b[32m'CPU: AMD Ryzen 5 5600X | price: 6990\\nMotherboard: 華碩 TUF Gaming B550M-PLUS | price:\u001b[0m\n",
       "\u001b[32m3290\\nMemory: Corsair Vengeance LPX 16GB \u001b[0m\u001b[32m(\u001b[0m\u001b[32m2 x 8GB\u001b[0m\u001b[32m)\u001b[0m\u001b[32m DDR4-3200 | price: 1890\\nGPU: NVIDIA GeForce GTX 1660 Super | \u001b[0m\n",
       "\u001b[32mprice: 7490\\nStorage: Samsung 970 EVO Plus 500GB NVMe M.2 | price: 1890\\nPower Supply: Seasonic Focus GX-550 \u001b[0m\u001b[32m(\u001b[0m\u001b[32m550W\u001b[0m\u001b[32m)\u001b[0m\n",
       "\u001b[32m| price: 2890\\nCase: Cooler Master MasterBox Q300L | price: 1390\\nCase Fan: Noctua NF-P12 redux-1700 PWM | price: \u001b[0m\n",
       "\u001b[32m790\\n總價: 26620'\u001b[0m,\n",
       "    \u001b[32m'buildmate_recommendation'\u001b[0m: \u001b[32m'CPU: Intel i7-12700KF | price: 8450\\nMotherboard: 華碩 PRIME H610M-K-CSM\u001b[0m\u001b[32m(\u001b[0m\u001b[32mDDR5\u001b[0m\u001b[32m)\u001b[0m\u001b[32m | \u001b[0m\n",
       "\u001b[32mprice: 2490\\nMemory: 威剛 單條16GB DDR5 6000 XPG Lancer Blade\u001b[0m\u001b[32m(\u001b[0m\u001b[32m矮版散熱片\u001b[0m\u001b[32m)\u001b[0m\u001b[32m/CL48黑【雙參數】 | price: 1349\\nGPU: Acer\u001b[0m\n",
       "\u001b[32mNitro Intel ARC B580 OC 12GB | price: 8690\\nStorage: 美光Micron Crucial MX500 \u001b[0m\n",
       "\u001b[32m500G/2.5吋/讀:560M/寫:510M/TLC/SMI台控制器 | price: 1450\\nPower Supply: 全漢 HYDRO G PRO 1000W ATX3.0\u001b[0m\u001b[32m(\u001b[0m\u001b[32mPCIe 5.0\u001b[0m\u001b[32m)\u001b[0m\u001b[32m | \u001b[0m\n",
       "\u001b[32mprice: 4890\\nCase: 華碩 A21 黑 | price: 1490\\nCase Fan: 安耐美 靜蝠 12cm | price: 230\\n總價: 29039'\u001b[0m\n",
       "\u001b[1m}\u001b[0m\n"
      ]
     },
     "metadata": {},
     "output_type": "display_data"
    },
    {
     "data": {
      "text/html": [
       "<pre style=\"white-space:pre;overflow-x:auto;line-height:normal;font-family:Menlo,'DejaVu Sans Mono',consolas,'Courier New',monospace\">Agent1: <span style=\"font-weight: bold\">[</span>對gpt4o評價<span style=\"font-weight: bold\">]</span>: <span style=\"color: #008080; text-decoration-color: #008080; font-weight: bold\">7</span>\n",
       "<span style=\"font-weight: bold\">[</span>對BuildMate評價<span style=\"font-weight: bold\">]</span>: <span style=\"color: #008080; text-decoration-color: #008080; font-weight: bold\">4</span>\n",
       "<span style=\"font-weight: bold\">[</span>簡短原因<span style=\"font-weight: bold\">]</span>: gpt4o均衡，價格合理。BuildMate CPU/MB不搭，顯卡/電源選擇不佳。\n",
       "\n",
       "</pre>\n"
      ],
      "text/plain": [
       "Agent1: \u001b[1m[\u001b[0m對gpt4o評價\u001b[1m]\u001b[0m: \u001b[1;36m7\u001b[0m\n",
       "\u001b[1m[\u001b[0m對BuildMate評價\u001b[1m]\u001b[0m: \u001b[1;36m4\u001b[0m\n",
       "\u001b[1m[\u001b[0m簡短原因\u001b[1m]\u001b[0m: gpt4o均衡，價格合理。BuildMate CPU/MB不搭，顯卡/電源選擇不佳。\n",
       "\n"
      ]
     },
     "metadata": {},
     "output_type": "display_data"
    },
    {
     "name": "stdout",
     "output_type": "stream",
     "text": [
      "======\n"
     ]
    },
    {
     "data": {
      "text/html": [
       "<pre style=\"white-space:pre;overflow-x:auto;line-height:normal;font-family:Menlo,'DejaVu Sans Mono',consolas,'Courier New',monospace\">Agent2: <span style=\"font-weight: bold\">[</span>對gpt4o評價<span style=\"font-weight: bold\">]</span>: <span style=\"color: #008080; text-decoration-color: #008080; font-weight: bold\">8</span>\n",
       "<span style=\"font-weight: bold\">[</span>對BuildMate評價<span style=\"font-weight: bold\">]</span>: <span style=\"color: #008080; text-decoration-color: #008080; font-weight: bold\">5</span>\n",
       "<span style=\"font-weight: bold\">[</span>簡短原因<span style=\"font-weight: bold\">]</span>: gpt4o價格合理，效能均衡。BuildMate主機板不支援CPU超頻，記憶體和電源選擇過剩。\n",
       "\n",
       "</pre>\n"
      ],
      "text/plain": [
       "Agent2: \u001b[1m[\u001b[0m對gpt4o評價\u001b[1m]\u001b[0m: \u001b[1;36m8\u001b[0m\n",
       "\u001b[1m[\u001b[0m對BuildMate評價\u001b[1m]\u001b[0m: \u001b[1;36m5\u001b[0m\n",
       "\u001b[1m[\u001b[0m簡短原因\u001b[1m]\u001b[0m: gpt4o價格合理，效能均衡。BuildMate主機板不支援CPU超頻，記憶體和電源選擇過剩。\n",
       "\n"
      ]
     },
     "metadata": {},
     "output_type": "display_data"
    },
    {
     "name": "stdout",
     "output_type": "stream",
     "text": [
      "======\n"
     ]
    },
    {
     "data": {
      "text/html": [
       "<pre style=\"white-space:pre;overflow-x:auto;line-height:normal;font-family:Menlo,'DejaVu Sans Mono',consolas,'Courier New',monospace\">Agent3: <span style=\"font-weight: bold\">[</span>對gpt4o評價<span style=\"font-weight: bold\">]</span>: <span style=\"color: #008080; text-decoration-color: #008080; font-weight: bold\">8</span>\n",
       "<span style=\"font-weight: bold\">[</span>對BuildMate評價<span style=\"font-weight: bold\">]</span>: <span style=\"color: #008080; text-decoration-color: #008080; font-weight: bold\">4</span>\n",
       "<span style=\"font-weight: bold\">[</span>簡短原因<span style=\"font-weight: bold\">]</span>: gpt4o性價比高，滿足平面設計需求。BuildMate記憶體與主機板不相容，電源瓦數過高。\n",
       "\n",
       "</pre>\n"
      ],
      "text/plain": [
       "Agent3: \u001b[1m[\u001b[0m對gpt4o評價\u001b[1m]\u001b[0m: \u001b[1;36m8\u001b[0m\n",
       "\u001b[1m[\u001b[0m對BuildMate評價\u001b[1m]\u001b[0m: \u001b[1;36m4\u001b[0m\n",
       "\u001b[1m[\u001b[0m簡短原因\u001b[1m]\u001b[0m: gpt4o性價比高，滿足平面設計需求。BuildMate記憶體與主機板不相容，電源瓦數過高。\n",
       "\n"
      ]
     },
     "metadata": {},
     "output_type": "display_data"
    },
    {
     "name": "stdout",
     "output_type": "stream",
     "text": [
      "======\n"
     ]
    },
    {
     "data": {
      "text/html": [
       "<pre style=\"white-space:pre;overflow-x:auto;line-height:normal;font-family:Menlo,'DejaVu Sans Mono',consolas,'Courier New',monospace\">Coordinator: \n",
       "已達成共識，gpt4o較佳。價格更低且效能均衡，滿足平面設計需求，BuildMate則存在CPU/MB不搭、顯卡/電源選擇不佳等問題。\n",
       "\n",
       "</pre>\n"
      ],
      "text/plain": [
       "Coordinator: \n",
       "已達成共識，gpt4o較佳。價格更低且效能均衡，滿足平面設計需求，BuildMate則存在CPU/MB不搭、顯卡/電源選擇不佳等問題。\n",
       "\n"
      ]
     },
     "metadata": {},
     "output_type": "display_data"
    },
    {
     "name": "stdout",
     "output_type": "stream",
     "text": [
      "======\n"
     ]
    },
    {
     "data": {
      "text/html": [
       "<pre style=\"white-space:pre;overflow-x:auto;line-height:normal;font-family:Menlo,'DejaVu Sans Mono',consolas,'Courier New',monospace\">Agent1: <span style=\"font-weight: bold\">[</span>對gpt4o評價<span style=\"font-weight: bold\">]</span>: <span style=\"color: #008080; text-decoration-color: #008080; font-weight: bold\">7</span>\n",
       "<span style=\"font-weight: bold\">[</span>對BuildMate評價<span style=\"font-weight: bold\">]</span>: <span style=\"color: #008080; text-decoration-color: #008080; font-weight: bold\">4</span>\n",
       "<span style=\"font-weight: bold\">[</span>簡短原因<span style=\"font-weight: bold\">]</span>: gpt4o性價比高，整體均衡。BuildMate主機板不支援CPU, DDR5記憶體效益低，電源過剩。\n",
       "\n",
       "</pre>\n"
      ],
      "text/plain": [
       "Agent1: \u001b[1m[\u001b[0m對gpt4o評價\u001b[1m]\u001b[0m: \u001b[1;36m7\u001b[0m\n",
       "\u001b[1m[\u001b[0m對BuildMate評價\u001b[1m]\u001b[0m: \u001b[1;36m4\u001b[0m\n",
       "\u001b[1m[\u001b[0m簡短原因\u001b[1m]\u001b[0m: gpt4o性價比高，整體均衡。BuildMate主機板不支援CPU, DDR5記憶體效益低，電源過剩。\n",
       "\n"
      ]
     },
     "metadata": {},
     "output_type": "display_data"
    },
    {
     "name": "stdout",
     "output_type": "stream",
     "text": [
      "======\n"
     ]
    },
    {
     "data": {
      "text/html": [
       "<pre style=\"white-space:pre;overflow-x:auto;line-height:normal;font-family:Menlo,'DejaVu Sans Mono',consolas,'Courier New',monospace\">Agent2: <span style=\"font-weight: bold\">[</span>對gpt4o評價<span style=\"font-weight: bold\">]</span>: <span style=\"color: #008080; text-decoration-color: #008080; font-weight: bold\">8</span>\n",
       "<span style=\"font-weight: bold\">[</span>對BuildMate評價<span style=\"font-weight: bold\">]</span>: <span style=\"color: #008080; text-decoration-color: #008080; font-weight: bold\">5</span>\n",
       "<span style=\"font-weight: bold\">[</span>簡短原因<span style=\"font-weight: bold\">]</span>: gpt4o性價比高，配置均衡。BuildMate主機板與CPU不匹配，電源瓦數過高。\n",
       "\n",
       "</pre>\n"
      ],
      "text/plain": [
       "Agent2: \u001b[1m[\u001b[0m對gpt4o評價\u001b[1m]\u001b[0m: \u001b[1;36m8\u001b[0m\n",
       "\u001b[1m[\u001b[0m對BuildMate評價\u001b[1m]\u001b[0m: \u001b[1;36m5\u001b[0m\n",
       "\u001b[1m[\u001b[0m簡短原因\u001b[1m]\u001b[0m: gpt4o性價比高，配置均衡。BuildMate主機板與CPU不匹配，電源瓦數過高。\n",
       "\n"
      ]
     },
     "metadata": {},
     "output_type": "display_data"
    },
    {
     "name": "stdout",
     "output_type": "stream",
     "text": [
      "======\n"
     ]
    },
    {
     "data": {
      "text/html": [
       "<pre style=\"white-space:pre;overflow-x:auto;line-height:normal;font-family:Menlo,'DejaVu Sans Mono',consolas,'Courier New',monospace\">Agent3: <span style=\"font-weight: bold\">[</span>對gpt4o評價<span style=\"font-weight: bold\">]</span>: <span style=\"color: #008080; text-decoration-color: #008080; font-weight: bold\">8</span>\n",
       "<span style=\"font-weight: bold\">[</span>對BuildMate評價<span style=\"font-weight: bold\">]</span>: <span style=\"color: #008080; text-decoration-color: #008080; font-weight: bold\">4</span>\n",
       "<span style=\"font-weight: bold\">[</span>簡短原因<span style=\"font-weight: bold\">]</span>: gpt4o性價比高，符合預算和需求。BuildMate主機板和記憶體不兼容，電源過剩。\n",
       "\n",
       "</pre>\n"
      ],
      "text/plain": [
       "Agent3: \u001b[1m[\u001b[0m對gpt4o評價\u001b[1m]\u001b[0m: \u001b[1;36m8\u001b[0m\n",
       "\u001b[1m[\u001b[0m對BuildMate評價\u001b[1m]\u001b[0m: \u001b[1;36m4\u001b[0m\n",
       "\u001b[1m[\u001b[0m簡短原因\u001b[1m]\u001b[0m: gpt4o性價比高，符合預算和需求。BuildMate主機板和記憶體不兼容，電源過剩。\n",
       "\n"
      ]
     },
     "metadata": {},
     "output_type": "display_data"
    },
    {
     "name": "stdout",
     "output_type": "stream",
     "text": [
      "======\n"
     ]
    },
    {
     "data": {
      "text/html": [
       "<pre style=\"white-space:pre;overflow-x:auto;line-height:normal;font-family:Menlo,'DejaVu Sans Mono',consolas,'Courier New',monospace\">Coordinator: \n",
       "已達成共識，gpt4o較佳。價格更低，且CPU/MB搭配合理，電源瓦數適中。BuildMate則CPU/MB不匹配、記憶體與主機板不相容、電\n",
       "源瓦數過高等問題。\n",
       "\n",
       "</pre>\n"
      ],
      "text/plain": [
       "Coordinator: \n",
       "已達成共識，gpt4o較佳。價格更低，且CPU/MB搭配合理，電源瓦數適中。BuildMate則CPU/MB不匹配、記憶體與主機板不相容、電\n",
       "源瓦數過高等問題。\n",
       "\n"
      ]
     },
     "metadata": {},
     "output_type": "display_data"
    },
    {
     "name": "stdout",
     "output_type": "stream",
     "text": [
      "======\n",
      "{'Coordinator': {'messages': [HumanMessage(content='Agent1: [對gpt4o評價]: 7\\n[對BuildMate評價]: 4\\n[簡短原因]: gpt4o均衡，價格合理。BuildMate CPU/MB不搭，顯卡/電源選擇不佳。\\n', additional_kwargs={}, response_metadata={}), HumanMessage(content='Agent2: [對gpt4o評價]: 8\\n[對BuildMate評價]: 5\\n[簡短原因]: gpt4o價格合理，效能均衡。BuildMate主機板不支援CPU超頻，記憶體和電源選擇過剩。\\n', additional_kwargs={}, response_metadata={}), HumanMessage(content='Agent3: [對gpt4o評價]: 8\\n[對BuildMate評價]: 4\\n[簡短原因]: gpt4o性價比高，滿足平面設計需求。BuildMate記憶體與主機板不相容，電源瓦數過高。\\n', additional_kwargs={}, response_metadata={}), HumanMessage(content='Coordinator: 已達成共識，gpt4o較佳。價格更低且效能均衡，滿足平面設計需求，BuildMate則存在CPU/MB不搭、顯卡/電源選擇不佳等問題。\\n', additional_kwargs={}, response_metadata={}), HumanMessage(content='Agent1: [對gpt4o評價]: 7\\n[對BuildMate評價]: 4\\n[簡短原因]: gpt4o性價比高，整體均衡。BuildMate主機板不支援CPU, DDR5記憶體效益低，電源過剩。\\n', additional_kwargs={}, response_metadata={}), HumanMessage(content='Agent2: [對gpt4o評價]: 8\\n[對BuildMate評價]: 5\\n[簡短原因]: gpt4o性價比高，配置均衡。BuildMate主機板與CPU不匹配，電源瓦數過高。\\n', additional_kwargs={}, response_metadata={}), HumanMessage(content='Agent3: [對gpt4o評價]: 8\\n[對BuildMate評價]: 4\\n[簡短原因]: gpt4o性價比高，符合預算和需求。BuildMate主機板和記憶體不兼容，電源過剩。\\n', additional_kwargs={}, response_metadata={}), HumanMessage(content='Coordinator: 已達成共識，gpt4o較佳。價格更低，且CPU/MB搭配合理，電源瓦數適中。BuildMate則CPU/MB不匹配、記憶體與主機板不相容、電源瓦數過高等問題。\\n', additional_kwargs={}, response_metadata={})], 'next_agent': '__end__', 'question_id': 27, 'question': '我是平面設計師，預算大概55000元，需要一台適合設計工作的電腦，有推薦嗎？', 'gpt4o_recommendation': 'CPU: AMD Ryzen 5 5600X | price: 6990\\nMotherboard: 華碩 TUF Gaming B550M-PLUS | price: 3290\\nMemory: Corsair Vengeance LPX 16GB (2 x 8GB) DDR4-3200 | price: 1890\\nGPU: NVIDIA GeForce GTX 1660 Super | price: 7490\\nStorage: Samsung 970 EVO Plus 500GB NVMe M.2 | price: 1890\\nPower Supply: Seasonic Focus GX-550 (550W) | price: 2890\\nCase: Cooler Master MasterBox Q300L | price: 1390\\nCase Fan: Noctua NF-P12 redux-1700 PWM | price: 790\\n總價: 26620', 'buildmate_recommendation': 'CPU: Intel i7-12700KF | price: 8450\\nMotherboard: 華碩 PRIME H610M-K-CSM(DDR5) | price: 2490\\nMemory: 威剛 單條16GB DDR5 6000 XPG Lancer Blade(矮版散熱片)/CL48黑【雙參數】 | price: 1349\\nGPU: Acer Nitro Intel ARC B580 OC 12GB | price: 8690\\nStorage: 美光Micron Crucial MX500 500G/2.5吋/讀:560M/寫:510M/TLC/SMI台控制器 | price: 1450\\nPower Supply: 全漢 HYDRO G PRO 1000W ATX3.0(PCIe 5.0) | price: 4890\\nCase: 華碩 A21 黑 | price: 1490\\nCase Fan: 安耐美 靜蝠 12cm | price: 230\\n總價: 29039', 'agent_scores': {'Agent1_round1': {'gpt4o_score': 7, 'buildmate_score': 4, 'reason': 'gpt4o均衡，價格合理。BuildMate CPU/MB不搭，顯卡/電源選擇不佳。'}, 'Agent2_round1': {'gpt4o_score': 8, 'buildmate_score': 5, 'reason': 'gpt4o價格合理，效能均衡。BuildMate主機板不支援CPU超頻，記憶體和電源選擇過剩。'}, 'Agent3_round1': {'gpt4o_score': 8, 'buildmate_score': 4, 'reason': 'gpt4o性價比高，滿足平面設計需求。BuildMate記憶體與主機板不相容，電源瓦數過高。'}, 'Agent1_round2': {'gpt4o_score': 7, 'buildmate_score': 4, 'reason': 'gpt4o性價比高，整體均衡。BuildMate主機板不支援CPU, DDR5記憶體效益低，電源過剩。'}, 'Agent2_round2': {'gpt4o_score': 8, 'buildmate_score': 5, 'reason': 'gpt4o性價比高，配置均衡。BuildMate主機板與CPU不匹配，電源瓦數過高。'}, 'Agent3_round2': {'gpt4o_score': 8, 'buildmate_score': 4, 'reason': 'gpt4o性價比高，符合預算和需求。BuildMate主機板和記憶體不兼容，電源過剩。'}}, 'round_count': 2, 'max_rounds': 3, 'consensus_reached': True}}\n",
      "{\n",
      "  \"question_id\": 27,\n",
      "  \"question\": \"我是平面設計師，預算大概55000元，需要一台適合設計工作的電腦，有推薦嗎？\",\n",
      "  \"buildmate_recommendation\": \"CPU: Intel i7-12700KF | price: 8450\\nMotherboard: 華碩 PRIME H610M-K-CSM(DDR5) | price: 2490\\nMemory: 威剛 單條16GB DDR5 6000 XPG Lancer Blade(矮版散熱片)/CL48黑【雙參數】 | price: 1349\\nGPU: Acer Nitro Intel ARC B580 OC 12GB | price: 8690\\nStorage: 美光Micron Crucial MX500 500G/2.5吋/讀:560M/寫:510M/TLC/SMI台控制器 | price: 1450\\nPower Supply: 全漢 HYDRO G PRO 1000W ATX3.0(PCIe 5.0) | price: 4890\\nCase: 華碩 A21 黑 | price: 1490\\nCase Fan: 安耐美 靜蝠 12cm | price: 230\\n總價: 29039\",\n",
      "  \"gpt4o_recommendation\": \"CPU: AMD Ryzen 5 5600X | price: 6990\\nMotherboard: 華碩 TUF Gaming B550M-PLUS | price: 3290\\nMemory: Corsair Vengeance LPX 16GB (2 x 8GB) DDR4-3200 | price: 1890\\nGPU: NVIDIA GeForce GTX 1660 Super | price: 7490\\nStorage: Samsung 970 EVO Plus 500GB NVMe M.2 | price: 1890\\nPower Supply: Seasonic Focus GX-550 (550W) | price: 2890\\nCase: Cooler Master MasterBox Q300L | price: 1390\\nCase Fan: Noctua NF-P12 redux-1700 PWM | price: 790\\n總價: 26620\",\n",
      "  \"winner\": 0,\n",
      "  \"buildmate_avg_score\": 4.333333333333333,\n",
      "  \"gpt4o_avg_score\": 7.666666666666667,\n",
      "  \"rounds\": [\n",
      "    {\n",
      "      \"round_number\": 1,\n",
      "      \"Agent1\": {\n",
      "        \"gpt4o_score\": 7,\n",
      "        \"buildmate_score\": 4,\n",
      "        \"reason\": \"gpt4o均衡，價格合理。BuildMate CPU/MB不搭，顯卡/電源選擇不佳。\"\n",
      "      },\n",
      "      \"Agent2\": {\n",
      "        \"gpt4o_score\": 8,\n",
      "        \"buildmate_score\": 5,\n",
      "        \"reason\": \"gpt4o價格合理，效能均衡。BuildMate主機板不支援CPU超頻，記憶體和電源選擇過剩。\"\n",
      "      },\n",
      "      \"Agent3\": {\n",
      "        \"gpt4o_score\": 8,\n",
      "        \"buildmate_score\": 4,\n",
      "        \"reason\": \"gpt4o性價比高，滿足平面設計需求。BuildMate記憶體與主機板不相容，電源瓦數過高。\"\n",
      "      }\n",
      "    },\n",
      "    {\n",
      "      \"round_number\": 2,\n",
      "      \"Agent1\": {\n",
      "        \"gpt4o_score\": 7,\n",
      "        \"buildmate_score\": 4,\n",
      "        \"reason\": \"gpt4o性價比高，整體均衡。BuildMate主機板不支援CPU, DDR5記憶體效益低，電源過剩。\"\n",
      "      },\n",
      "      \"Agent2\": {\n",
      "        \"gpt4o_score\": 8,\n",
      "        \"buildmate_score\": 5,\n",
      "        \"reason\": \"gpt4o性價比高，配置均衡。BuildMate主機板與CPU不匹配，電源瓦數過高。\"\n",
      "      },\n",
      "      \"Agent3\": {\n",
      "        \"gpt4o_score\": 8,\n",
      "        \"buildmate_score\": 4,\n",
      "        \"reason\": \"gpt4o性價比高，符合預算和需求。BuildMate主機板和記憶體不兼容，電源過剩。\"\n",
      "      }\n",
      "    }\n",
      "  ]\n",
      "}\n"
     ]
    },
    {
     "data": {
      "text/html": [
       "<pre style=\"white-space:pre;overflow-x:auto;line-height:normal;font-family:Menlo,'DejaVu Sans Mono',consolas,'Courier New',monospace\"><span style=\"font-weight: bold\">{</span>\n",
       "    <span style=\"color: #008000; text-decoration-color: #008000\">'question_id'</span>: <span style=\"color: #008080; text-decoration-color: #008080; font-weight: bold\">28</span>,\n",
       "    <span style=\"color: #008000; text-decoration-color: #008000\">'question'</span>: <span style=\"color: #008000; text-decoration-color: #008000\">'預算大約70000元，想要一台適合專業影像處理和影片剪輯的電腦，有什麼建議配置？'</span>,\n",
       "    <span style=\"color: #008000; text-decoration-color: #008000\">'gpt4o_recommendation'</span>: <span style=\"color: #008000; text-decoration-color: #008000\">'CPU: AMD Ryzen 7 5800X | price: 8500\\nMotherboard: 華碩 TUF Gaming B550-PLUS | price: </span>\n",
       "<span style=\"color: #008000; text-decoration-color: #008000\">4500\\nMemory: Corsair Vengeance LPX 32GB (2 x 16GB) DDR4-3200 | price: 2800\\nGPU: NVIDIA GeForce RTX 3060 12GB | </span>\n",
       "<span style=\"color: #008000; text-decoration-color: #008000\">price: 12000\\nStorage: Samsung 970 EVO Plus 1TB NVMe M.2 SSD | price: 3500\\nPower Supply: Cooler Master MWE Gold </span>\n",
       "<span style=\"color: #008000; text-decoration-color: #008000\">750W | price: 3000\\nCase: NZXT H510 | price: 2500\\nCase Fan: Noctua NF-P12 redux-1700 PWM | price: 700\\n總價: </span>\n",
       "<span style=\"color: #008000; text-decoration-color: #008000\">37500'</span>,\n",
       "    <span style=\"color: #008000; text-decoration-color: #008000\">'buildmate_recommendation'</span>: <span style=\"color: #008000; text-decoration-color: #008000\">'CPU: Intel i7-14700F | price: 9700\\nMotherboard: 華碩 PRIME B760M-F </span>\n",
       "<span style=\"color: #008000; text-decoration-color: #008000\">D4-CSM(M-ATX/Realtek 1Gb/註四年/2DIMM)8相 | price: 2590\\nMemory: 威剛單條16GB DDR5 6000 XPG Lancer </span>\n",
       "<span style=\"color: #008000; text-decoration-color: #008000\">Blade(矮版散熱片)/CL48黑【雙參數】 | price: 1349\\nGPU: INTEL 原廠 ARC B580 12G | price: 8990\\nStorage: 威剛 </span>\n",
       "<span style=\"color: #008000; text-decoration-color: #008000\">Ultimate SU800 512G/2.5吋/讀:560M/寫:520M/TLC/DRAM快取/SMI/台灣製【五年】 | price: 1499\\nPower Supply: 全漢 HYDRO G</span>\n",
       "<span style=\"color: #008000; text-decoration-color: #008000\">PRO 1000W ATX3.0(PCIe 5.0) 雙8/金牌/全模/全日系/防潮塗層/10年保 | price: 4890\\nCase: SAMA SAK702 新鏡界(白) | </span>\n",
       "<span style=\"color: #008000; text-decoration-color: #008000\">price: 1890\\nCase Fan: MSI MEG SILENT GALE P12 靜音風扇 | price: 790\\n總價: 31698'</span>\n",
       "<span style=\"font-weight: bold\">}</span>\n",
       "</pre>\n"
      ],
      "text/plain": [
       "\u001b[1m{\u001b[0m\n",
       "    \u001b[32m'question_id'\u001b[0m: \u001b[1;36m28\u001b[0m,\n",
       "    \u001b[32m'question'\u001b[0m: \u001b[32m'預算大約70000元，想要一台適合專業影像處理和影片剪輯的電腦，有什麼建議配置？'\u001b[0m,\n",
       "    \u001b[32m'gpt4o_recommendation'\u001b[0m: \u001b[32m'CPU: AMD Ryzen 7 5800X | price: 8500\\nMotherboard: 華碩 TUF Gaming B550-PLUS | price: \u001b[0m\n",
       "\u001b[32m4500\\nMemory: Corsair Vengeance LPX 32GB \u001b[0m\u001b[32m(\u001b[0m\u001b[32m2 x 16GB\u001b[0m\u001b[32m)\u001b[0m\u001b[32m DDR4-3200 | price: 2800\\nGPU: NVIDIA GeForce RTX 3060 12GB | \u001b[0m\n",
       "\u001b[32mprice: 12000\\nStorage: Samsung 970 EVO Plus 1TB NVMe M.2 SSD | price: 3500\\nPower Supply: Cooler Master MWE Gold \u001b[0m\n",
       "\u001b[32m750W | price: 3000\\nCase: NZXT H510 | price: 2500\\nCase Fan: Noctua NF-P12 redux-1700 PWM | price: 700\\n總價: \u001b[0m\n",
       "\u001b[32m37500'\u001b[0m,\n",
       "    \u001b[32m'buildmate_recommendation'\u001b[0m: \u001b[32m'CPU: Intel i7-14700F | price: 9700\\nMotherboard: 華碩 PRIME B760M-F \u001b[0m\n",
       "\u001b[32mD4-CSM\u001b[0m\u001b[32m(\u001b[0m\u001b[32mM-ATX/Realtek 1Gb/註四年/2DIMM\u001b[0m\u001b[32m)\u001b[0m\u001b[32m8相 | price: 2590\\nMemory: 威剛單條16GB DDR5 6000 XPG Lancer \u001b[0m\n",
       "\u001b[32mBlade\u001b[0m\u001b[32m(\u001b[0m\u001b[32m矮版散熱片\u001b[0m\u001b[32m)\u001b[0m\u001b[32m/CL48黑【雙參數】 | price: 1349\\nGPU: INTEL 原廠 ARC B580 12G | price: 8990\\nStorage: 威剛 \u001b[0m\n",
       "\u001b[32mUltimate SU800 512G/2.5吋/讀:560M/寫:520M/TLC/DRAM快取/SMI/台灣製【五年】 | price: 1499\\nPower Supply: 全漢 HYDRO G\u001b[0m\n",
       "\u001b[32mPRO 1000W ATX3.0\u001b[0m\u001b[32m(\u001b[0m\u001b[32mPCIe 5.0\u001b[0m\u001b[32m)\u001b[0m\u001b[32m 雙8/金牌/全模/全日系/防潮塗層/10年保 | price: 4890\\nCase: SAMA SAK702 新鏡界\u001b[0m\u001b[32m(\u001b[0m\u001b[32m白\u001b[0m\u001b[32m)\u001b[0m\u001b[32m | \u001b[0m\n",
       "\u001b[32mprice: 1890\\nCase Fan: MSI MEG SILENT GALE P12 靜音風扇 | price: 790\\n總價: 31698'\u001b[0m\n",
       "\u001b[1m}\u001b[0m\n"
      ]
     },
     "metadata": {},
     "output_type": "display_data"
    },
    {
     "data": {
      "text/html": [
       "<pre style=\"white-space:pre;overflow-x:auto;line-height:normal;font-family:Menlo,'DejaVu Sans Mono',consolas,'Courier New',monospace\">Agent1: <span style=\"font-weight: bold\">[</span>對gpt4o評價<span style=\"font-weight: bold\">]</span>: <span style=\"color: #008080; text-decoration-color: #008080; font-weight: bold\">7</span>\n",
       "<span style=\"font-weight: bold\">[</span>對BuildMate評價<span style=\"font-weight: bold\">]</span>: <span style=\"color: #008080; text-decoration-color: #008080; font-weight: bold\">4</span>\n",
       "<span style=\"font-weight: bold\">[</span>簡短原因<span style=\"font-weight: bold\">]</span>: gpt4o配置均衡，效能穩定。BuildMate記憶體不足，顯示卡效能較弱。\n",
       "\n",
       "</pre>\n"
      ],
      "text/plain": [
       "Agent1: \u001b[1m[\u001b[0m對gpt4o評價\u001b[1m]\u001b[0m: \u001b[1;36m7\u001b[0m\n",
       "\u001b[1m[\u001b[0m對BuildMate評價\u001b[1m]\u001b[0m: \u001b[1;36m4\u001b[0m\n",
       "\u001b[1m[\u001b[0m簡短原因\u001b[1m]\u001b[0m: gpt4o配置均衡，效能穩定。BuildMate記憶體不足，顯示卡效能較弱。\n",
       "\n"
      ]
     },
     "metadata": {},
     "output_type": "display_data"
    },
    {
     "name": "stdout",
     "output_type": "stream",
     "text": [
      "======\n"
     ]
    },
    {
     "data": {
      "text/html": [
       "<pre style=\"white-space:pre;overflow-x:auto;line-height:normal;font-family:Menlo,'DejaVu Sans Mono',consolas,'Courier New',monospace\">Agent2: <span style=\"font-weight: bold\">[</span>對gpt4o評價<span style=\"font-weight: bold\">]</span>: <span style=\"color: #008080; text-decoration-color: #008080; font-weight: bold\">8</span>\n",
       "<span style=\"font-weight: bold\">[</span>對BuildMate評價<span style=\"font-weight: bold\">]</span>: <span style=\"color: #008080; text-decoration-color: #008080; font-weight: bold\">5</span>\n",
       "<span style=\"font-weight: bold\">[</span>簡短原因<span style=\"font-weight: bold\">]</span>: \n",
       "gpt4o在相同預算內，CPU、GPU和記憶體皆選擇較佳的產品。BuildMate記憶體不足，顯示卡效能低，電源供應器過剩。\n",
       "\n",
       "</pre>\n"
      ],
      "text/plain": [
       "Agent2: \u001b[1m[\u001b[0m對gpt4o評價\u001b[1m]\u001b[0m: \u001b[1;36m8\u001b[0m\n",
       "\u001b[1m[\u001b[0m對BuildMate評價\u001b[1m]\u001b[0m: \u001b[1;36m5\u001b[0m\n",
       "\u001b[1m[\u001b[0m簡短原因\u001b[1m]\u001b[0m: \n",
       "gpt4o在相同預算內，CPU、GPU和記憶體皆選擇較佳的產品。BuildMate記憶體不足，顯示卡效能低，電源供應器過剩。\n",
       "\n"
      ]
     },
     "metadata": {},
     "output_type": "display_data"
    },
    {
     "name": "stdout",
     "output_type": "stream",
     "text": [
      "======\n"
     ]
    },
    {
     "data": {
      "text/html": [
       "<pre style=\"white-space:pre;overflow-x:auto;line-height:normal;font-family:Menlo,'DejaVu Sans Mono',consolas,'Courier New',monospace\">Agent3: <span style=\"font-weight: bold\">[</span>對gpt4o評價<span style=\"font-weight: bold\">]</span>: <span style=\"color: #008080; text-decoration-color: #008080; font-weight: bold\">8</span>\n",
       "<span style=\"font-weight: bold\">[</span>對BuildMate評價<span style=\"font-weight: bold\">]</span>: <span style=\"color: #008080; text-decoration-color: #008080; font-weight: bold\">5</span>\n",
       "<span style=\"font-weight: bold\">[</span>簡短原因<span style=\"font-weight: bold\">]</span>: gpt4o配置合理，記憶體容量適合剪輯。BuildMate記憶體不足，GPU效能偏弱。\n",
       "\n",
       "</pre>\n"
      ],
      "text/plain": [
       "Agent3: \u001b[1m[\u001b[0m對gpt4o評價\u001b[1m]\u001b[0m: \u001b[1;36m8\u001b[0m\n",
       "\u001b[1m[\u001b[0m對BuildMate評價\u001b[1m]\u001b[0m: \u001b[1;36m5\u001b[0m\n",
       "\u001b[1m[\u001b[0m簡短原因\u001b[1m]\u001b[0m: gpt4o配置合理，記憶體容量適合剪輯。BuildMate記憶體不足，GPU效能偏弱。\n",
       "\n"
      ]
     },
     "metadata": {},
     "output_type": "display_data"
    },
    {
     "name": "stdout",
     "output_type": "stream",
     "text": [
      "======\n"
     ]
    },
    {
     "data": {
      "text/html": [
       "<pre style=\"white-space:pre;overflow-x:auto;line-height:normal;font-family:Menlo,'DejaVu Sans Mono',consolas,'Courier New',monospace\">Coordinator: 已達成共識， gpt4o較佳。配置更均衡，記憶體容量也更符合影片剪輯需求。\n",
       "\n",
       "</pre>\n"
      ],
      "text/plain": [
       "Coordinator: 已達成共識， gpt4o較佳。配置更均衡，記憶體容量也更符合影片剪輯需求。\n",
       "\n"
      ]
     },
     "metadata": {},
     "output_type": "display_data"
    },
    {
     "name": "stdout",
     "output_type": "stream",
     "text": [
      "======\n"
     ]
    },
    {
     "data": {
      "text/html": [
       "<pre style=\"white-space:pre;overflow-x:auto;line-height:normal;font-family:Menlo,'DejaVu Sans Mono',consolas,'Courier New',monospace\">Agent1: <span style=\"font-weight: bold\">[</span>對gpt4o評價<span style=\"font-weight: bold\">]</span>: <span style=\"color: #008080; text-decoration-color: #008080; font-weight: bold\">7</span>\n",
       "<span style=\"font-weight: bold\">[</span>對BuildMate評價<span style=\"font-weight: bold\">]</span>: <span style=\"color: #008080; text-decoration-color: #008080; font-weight: bold\">4</span>\n",
       "<span style=\"font-weight: bold\">[</span>簡短原因<span style=\"font-weight: bold\">]</span>: gpt4o整體均衡，3060剪輯更佳。BuildMate記憶體不足、B580效能弱。\n",
       "\n",
       "</pre>\n"
      ],
      "text/plain": [
       "Agent1: \u001b[1m[\u001b[0m對gpt4o評價\u001b[1m]\u001b[0m: \u001b[1;36m7\u001b[0m\n",
       "\u001b[1m[\u001b[0m對BuildMate評價\u001b[1m]\u001b[0m: \u001b[1;36m4\u001b[0m\n",
       "\u001b[1m[\u001b[0m簡短原因\u001b[1m]\u001b[0m: gpt4o整體均衡，3060剪輯更佳。BuildMate記憶體不足、B580效能弱。\n",
       "\n"
      ]
     },
     "metadata": {},
     "output_type": "display_data"
    },
    {
     "name": "stdout",
     "output_type": "stream",
     "text": [
      "======\n"
     ]
    },
    {
     "data": {
      "text/html": [
       "<pre style=\"white-space:pre;overflow-x:auto;line-height:normal;font-family:Menlo,'DejaVu Sans Mono',consolas,'Courier New',monospace\">Agent2: <span style=\"font-weight: bold\">[</span>對gpt4o評價<span style=\"font-weight: bold\">]</span>: <span style=\"color: #008080; text-decoration-color: #008080; font-weight: bold\">8</span>\n",
       "<span style=\"font-weight: bold\">[</span>對BuildMate評價<span style=\"font-weight: bold\">]</span>: <span style=\"color: #008080; text-decoration-color: #008080; font-weight: bold\">4</span>\n",
       "<span style=\"font-weight: bold\">[</span>簡短原因<span style=\"font-weight: bold\">]</span>: gpt4o的3060和32G記憶體更適合影像處理。BuildMate記憶體和顯卡不足，電源過剩。\n",
       "\n",
       "</pre>\n"
      ],
      "text/plain": [
       "Agent2: \u001b[1m[\u001b[0m對gpt4o評價\u001b[1m]\u001b[0m: \u001b[1;36m8\u001b[0m\n",
       "\u001b[1m[\u001b[0m對BuildMate評價\u001b[1m]\u001b[0m: \u001b[1;36m4\u001b[0m\n",
       "\u001b[1m[\u001b[0m簡短原因\u001b[1m]\u001b[0m: gpt4o的3060和32G記憶體更適合影像處理。BuildMate記憶體和顯卡不足，電源過剩。\n",
       "\n"
      ]
     },
     "metadata": {},
     "output_type": "display_data"
    },
    {
     "name": "stdout",
     "output_type": "stream",
     "text": [
      "======\n"
     ]
    },
    {
     "data": {
      "text/html": [
       "<pre style=\"white-space:pre;overflow-x:auto;line-height:normal;font-family:Menlo,'DejaVu Sans Mono',consolas,'Courier New',monospace\">Agent3: <span style=\"font-weight: bold\">[</span>對gpt4o評價<span style=\"font-weight: bold\">]</span>: <span style=\"color: #008080; text-decoration-color: #008080; font-weight: bold\">8</span>\n",
       "<span style=\"font-weight: bold\">[</span>對BuildMate評價<span style=\"font-weight: bold\">]</span>: <span style=\"color: #008080; text-decoration-color: #008080; font-weight: bold\">5</span>\n",
       "<span style=\"font-weight: bold\">[</span>簡短原因<span style=\"font-weight: bold\">]</span>: gpt4o配置更均衡，適合影像處理。BuildMate記憶體和GPU效能不足。\n",
       "\n",
       "</pre>\n"
      ],
      "text/plain": [
       "Agent3: \u001b[1m[\u001b[0m對gpt4o評價\u001b[1m]\u001b[0m: \u001b[1;36m8\u001b[0m\n",
       "\u001b[1m[\u001b[0m對BuildMate評價\u001b[1m]\u001b[0m: \u001b[1;36m5\u001b[0m\n",
       "\u001b[1m[\u001b[0m簡短原因\u001b[1m]\u001b[0m: gpt4o配置更均衡，適合影像處理。BuildMate記憶體和GPU效能不足。\n",
       "\n"
      ]
     },
     "metadata": {},
     "output_type": "display_data"
    },
    {
     "name": "stdout",
     "output_type": "stream",
     "text": [
      "======\n"
     ]
    },
    {
     "data": {
      "text/html": [
       "<pre style=\"white-space:pre;overflow-x:auto;line-height:normal;font-family:Menlo,'DejaVu Sans Mono',consolas,'Courier New',monospace\">Coordinator: 已達成共識，gpt4o較佳。在相近預算下，gpt4o的3060顯卡和32G記憶體更適合專業影像處理和影片剪輯。\n",
       "\n",
       "</pre>\n"
      ],
      "text/plain": [
       "Coordinator: 已達成共識，gpt4o較佳。在相近預算下，gpt4o的3060顯卡和32G記憶體更適合專業影像處理和影片剪輯。\n",
       "\n"
      ]
     },
     "metadata": {},
     "output_type": "display_data"
    },
    {
     "name": "stdout",
     "output_type": "stream",
     "text": [
      "======\n",
      "{'Coordinator': {'messages': [HumanMessage(content='Agent1: [對gpt4o評價]: 7\\n[對BuildMate評價]: 4\\n[簡短原因]: gpt4o配置均衡，效能穩定。BuildMate記憶體不足，顯示卡效能較弱。\\n', additional_kwargs={}, response_metadata={}), HumanMessage(content='Agent2: [對gpt4o評價]: 8\\n[對BuildMate評價]: 5\\n[簡短原因]: gpt4o在相同預算內，CPU、GPU和記憶體皆選擇較佳的產品。BuildMate記憶體不足，顯示卡效能低，電源供應器過剩。\\n', additional_kwargs={}, response_metadata={}), HumanMessage(content='Agent3: [對gpt4o評價]: 8\\n[對BuildMate評價]: 5\\n[簡短原因]: gpt4o配置合理，記憶體容量適合剪輯。BuildMate記憶體不足，GPU效能偏弱。\\n', additional_kwargs={}, response_metadata={}), HumanMessage(content='Coordinator: 已達成共識， gpt4o較佳。配置更均衡，記憶體容量也更符合影片剪輯需求。\\n', additional_kwargs={}, response_metadata={}), HumanMessage(content='Agent1: [對gpt4o評價]: 7\\n[對BuildMate評價]: 4\\n[簡短原因]: gpt4o整體均衡，3060剪輯更佳。BuildMate記憶體不足、B580效能弱。\\n', additional_kwargs={}, response_metadata={}), HumanMessage(content='Agent2: [對gpt4o評價]: 8\\n[對BuildMate評價]: 4\\n[簡短原因]: gpt4o的3060和32G記憶體更適合影像處理。BuildMate記憶體和顯卡不足，電源過剩。\\n', additional_kwargs={}, response_metadata={}), HumanMessage(content='Agent3: [對gpt4o評價]: 8\\n[對BuildMate評價]: 5\\n[簡短原因]: gpt4o配置更均衡，適合影像處理。BuildMate記憶體和GPU效能不足。\\n', additional_kwargs={}, response_metadata={}), HumanMessage(content='Coordinator: 已達成共識，gpt4o較佳。在相近預算下，gpt4o的3060顯卡和32G記憶體更適合專業影像處理和影片剪輯。\\n', additional_kwargs={}, response_metadata={})], 'next_agent': '__end__', 'question_id': 28, 'question': '預算大約70000元，想要一台適合專業影像處理和影片剪輯的電腦，有什麼建議配置？', 'gpt4o_recommendation': 'CPU: AMD Ryzen 7 5800X | price: 8500\\nMotherboard: 華碩 TUF Gaming B550-PLUS | price: 4500\\nMemory: Corsair Vengeance LPX 32GB (2 x 16GB) DDR4-3200 | price: 2800\\nGPU: NVIDIA GeForce RTX 3060 12GB | price: 12000\\nStorage: Samsung 970 EVO Plus 1TB NVMe M.2 SSD | price: 3500\\nPower Supply: Cooler Master MWE Gold 750W | price: 3000\\nCase: NZXT H510 | price: 2500\\nCase Fan: Noctua NF-P12 redux-1700 PWM | price: 700\\n總價: 37500', 'buildmate_recommendation': 'CPU: Intel i7-14700F | price: 9700\\nMotherboard: 華碩 PRIME B760M-F D4-CSM(M-ATX/Realtek 1Gb/註四年/2DIMM)8相 | price: 2590\\nMemory: 威剛單條16GB DDR5 6000 XPG Lancer Blade(矮版散熱片)/CL48黑【雙參數】 | price: 1349\\nGPU: INTEL 原廠 ARC B580 12G | price: 8990\\nStorage: 威剛 Ultimate SU800 512G/2.5吋/讀:560M/寫:520M/TLC/DRAM快取/SMI/台灣製【五年】 | price: 1499\\nPower Supply: 全漢 HYDRO G PRO 1000W ATX3.0(PCIe 5.0) 雙8/金牌/全模/全日系/防潮塗層/10年保 | price: 4890\\nCase: SAMA SAK702 新鏡界(白) | price: 1890\\nCase Fan: MSI MEG SILENT GALE P12 靜音風扇 | price: 790\\n總價: 31698', 'agent_scores': {'Agent1_round1': {'gpt4o_score': 7, 'buildmate_score': 4, 'reason': 'gpt4o配置均衡，效能穩定。BuildMate記憶體不足，顯示卡效能較弱。'}, 'Agent2_round1': {'gpt4o_score': 8, 'buildmate_score': 5, 'reason': 'gpt4o在相同預算內，CPU、GPU和記憶體皆選擇較佳的產品。BuildMate記憶體不足，顯示卡效能低，電源供應器過剩。'}, 'Agent3_round1': {'gpt4o_score': 8, 'buildmate_score': 5, 'reason': 'gpt4o配置合理，記憶體容量適合剪輯。BuildMate記憶體不足，GPU效能偏弱。'}, 'Agent1_round2': {'gpt4o_score': 7, 'buildmate_score': 4, 'reason': 'gpt4o整體均衡，3060剪輯更佳。BuildMate記憶體不足、B580效能弱。'}, 'Agent2_round2': {'gpt4o_score': 8, 'buildmate_score': 4, 'reason': 'gpt4o的3060和32G記憶體更適合影像處理。BuildMate記憶體和顯卡不足，電源過剩。'}, 'Agent3_round2': {'gpt4o_score': 8, 'buildmate_score': 5, 'reason': 'gpt4o配置更均衡，適合影像處理。BuildMate記憶體和GPU效能不足。'}}, 'round_count': 2, 'max_rounds': 3, 'consensus_reached': True}}\n",
      "{\n",
      "  \"question_id\": 28,\n",
      "  \"question\": \"預算大約70000元，想要一台適合專業影像處理和影片剪輯的電腦，有什麼建議配置？\",\n",
      "  \"buildmate_recommendation\": \"CPU: Intel i7-14700F | price: 9700\\nMotherboard: 華碩 PRIME B760M-F D4-CSM(M-ATX/Realtek 1Gb/註四年/2DIMM)8相 | price: 2590\\nMemory: 威剛單條16GB DDR5 6000 XPG Lancer Blade(矮版散熱片)/CL48黑【雙參數】 | price: 1349\\nGPU: INTEL 原廠 ARC B580 12G | price: 8990\\nStorage: 威剛 Ultimate SU800 512G/2.5吋/讀:560M/寫:520M/TLC/DRAM快取/SMI/台灣製【五年】 | price: 1499\\nPower Supply: 全漢 HYDRO G PRO 1000W ATX3.0(PCIe 5.0) 雙8/金牌/全模/全日系/防潮塗層/10年保 | price: 4890\\nCase: SAMA SAK702 新鏡界(白) | price: 1890\\nCase Fan: MSI MEG SILENT GALE P12 靜音風扇 | price: 790\\n總價: 31698\",\n",
      "  \"gpt4o_recommendation\": \"CPU: AMD Ryzen 7 5800X | price: 8500\\nMotherboard: 華碩 TUF Gaming B550-PLUS | price: 4500\\nMemory: Corsair Vengeance LPX 32GB (2 x 16GB) DDR4-3200 | price: 2800\\nGPU: NVIDIA GeForce RTX 3060 12GB | price: 12000\\nStorage: Samsung 970 EVO Plus 1TB NVMe M.2 SSD | price: 3500\\nPower Supply: Cooler Master MWE Gold 750W | price: 3000\\nCase: NZXT H510 | price: 2500\\nCase Fan: Noctua NF-P12 redux-1700 PWM | price: 700\\n總價: 37500\",\n",
      "  \"winner\": 0,\n",
      "  \"buildmate_avg_score\": 4.5,\n",
      "  \"gpt4o_avg_score\": 7.666666666666667,\n",
      "  \"rounds\": [\n",
      "    {\n",
      "      \"round_number\": 1,\n",
      "      \"Agent1\": {\n",
      "        \"gpt4o_score\": 7,\n",
      "        \"buildmate_score\": 4,\n",
      "        \"reason\": \"gpt4o配置均衡，效能穩定。BuildMate記憶體不足，顯示卡效能較弱。\"\n",
      "      },\n",
      "      \"Agent2\": {\n",
      "        \"gpt4o_score\": 8,\n",
      "        \"buildmate_score\": 5,\n",
      "        \"reason\": \"gpt4o在相同預算內，CPU、GPU和記憶體皆選擇較佳的產品。BuildMate記憶體不足，顯示卡效能低，電源供應器過剩。\"\n",
      "      },\n",
      "      \"Agent3\": {\n",
      "        \"gpt4o_score\": 8,\n",
      "        \"buildmate_score\": 5,\n",
      "        \"reason\": \"gpt4o配置合理，記憶體容量適合剪輯。BuildMate記憶體不足，GPU效能偏弱。\"\n",
      "      }\n",
      "    },\n",
      "    {\n",
      "      \"round_number\": 2,\n",
      "      \"Agent1\": {\n",
      "        \"gpt4o_score\": 7,\n",
      "        \"buildmate_score\": 4,\n",
      "        \"reason\": \"gpt4o整體均衡，3060剪輯更佳。BuildMate記憶體不足、B580效能弱。\"\n",
      "      },\n",
      "      \"Agent2\": {\n",
      "        \"gpt4o_score\": 8,\n",
      "        \"buildmate_score\": 4,\n",
      "        \"reason\": \"gpt4o的3060和32G記憶體更適合影像處理。BuildMate記憶體和顯卡不足，電源過剩。\"\n",
      "      },\n",
      "      \"Agent3\": {\n",
      "        \"gpt4o_score\": 8,\n",
      "        \"buildmate_score\": 5,\n",
      "        \"reason\": \"gpt4o配置更均衡，適合影像處理。BuildMate記憶體和GPU效能不足。\"\n",
      "      }\n",
      "    }\n",
      "  ]\n",
      "}\n"
     ]
    },
    {
     "data": {
      "text/html": [
       "<pre style=\"white-space:pre;overflow-x:auto;line-height:normal;font-family:Menlo,'DejaVu Sans Mono',consolas,'Courier New',monospace\"><span style=\"font-weight: bold\">{</span>\n",
       "    <span style=\"color: #008000; text-decoration-color: #008000\">'question_id'</span>: <span style=\"color: #008080; text-decoration-color: #008080; font-weight: bold\">29</span>,\n",
       "    <span style=\"color: #008000; text-decoration-color: #008000\">'question'</span>: <span style=\"color: #008000; text-decoration-color: #008000\">'我想組一台電腦，預算約60000元，主要用於玩模擬飛行遊戲，有沒有推薦的配置？'</span>,\n",
       "    <span style=\"color: #008000; text-decoration-color: #008000\">'gpt4o_recommendation'</span>: <span style=\"color: #008000; text-decoration-color: #008000\">'CPU: AMD Ryzen 5 5600X | price: 5990\\nMotherboard: 華碩 TUF Gaming B550-PLUS | price: </span>\n",
       "<span style=\"color: #008000; text-decoration-color: #008000\">3990\\nMemory: Corsair Vengeance LPX 16GB (2x8GB) DDR4-3200 | price: 2490\\nGPU: NVIDIA GeForce RTX 3060 12GB | </span>\n",
       "<span style=\"color: #008000; text-decoration-color: #008000\">price: 13900\\nStorage: Samsung 970 EVO Plus 500GB NVMe M.2 SSD | price: 1990\\nPower Supply: Seasonic Focus GX-650, </span>\n",
       "<span style=\"color: #008000; text-decoration-color: #008000\">80+ Gold | price: 3290\\nCase: Cooler Master MasterBox Q300L | price: 1490\\nCase Fan: Noctua NF-P12 redux-1700 PWM |</span>\n",
       "<span style=\"color: #008000; text-decoration-color: #008000\">price: 790\\n總價: 33930'</span>,\n",
       "    <span style=\"color: #008000; text-decoration-color: #008000\">'buildmate_recommendation'</span>: <span style=\"color: #008000; text-decoration-color: #008000\">'CPU: Intel i7-14700F | price: 9700\\nMotherboard: 華碩 TUF GAMING B650M-PLUS WIFI |</span>\n",
       "<span style=\"color: #008000; text-decoration-color: #008000\">price: 4090\\nMemory: 威剛 單條16GB DDR5 6000 XPG Lancer Blade(矮版散熱片)/CL48黑【雙參數】 | price: 1349\\nGPU: </span>\n",
       "<span style=\"color: #008000; text-decoration-color: #008000\">INTEL 原廠 ARC B580 12G | price: 8990\\nStorage: 威剛 Ultimate SU800 </span>\n",
       "<span style=\"color: #008000; text-decoration-color: #008000\">512G/2.5吋/讀:560M/寫:520M/TLC/DRAM快取/SMI/台灣製 | price: 1499\\nPower Supply: 全漢 HYDRO G PRO 1000W ATX3.0(PCIe </span>\n",
       "<span style=\"color: #008000; text-decoration-color: #008000\">5.0) | price: 4890\\nCase: 聯力 PC-O11 Dynamic 白 | price: 2790\\nCase Fan: MSI MEG SILENT GALE P12 靜音風扇 | price:</span>\n",
       "<span style=\"color: #008000; text-decoration-color: #008000\">790\\n總價: 34098'</span>\n",
       "<span style=\"font-weight: bold\">}</span>\n",
       "</pre>\n"
      ],
      "text/plain": [
       "\u001b[1m{\u001b[0m\n",
       "    \u001b[32m'question_id'\u001b[0m: \u001b[1;36m29\u001b[0m,\n",
       "    \u001b[32m'question'\u001b[0m: \u001b[32m'我想組一台電腦，預算約60000元，主要用於玩模擬飛行遊戲，有沒有推薦的配置？'\u001b[0m,\n",
       "    \u001b[32m'gpt4o_recommendation'\u001b[0m: \u001b[32m'CPU: AMD Ryzen 5 5600X | price: 5990\\nMotherboard: 華碩 TUF Gaming B550-PLUS | price: \u001b[0m\n",
       "\u001b[32m3990\\nMemory: Corsair Vengeance LPX 16GB \u001b[0m\u001b[32m(\u001b[0m\u001b[32m2x8GB\u001b[0m\u001b[32m)\u001b[0m\u001b[32m DDR4-3200 | price: 2490\\nGPU: NVIDIA GeForce RTX 3060 12GB | \u001b[0m\n",
       "\u001b[32mprice: 13900\\nStorage: Samsung 970 EVO Plus 500GB NVMe M.2 SSD | price: 1990\\nPower Supply: Seasonic Focus GX-650, \u001b[0m\n",
       "\u001b[32m80+ Gold | price: 3290\\nCase: Cooler Master MasterBox Q300L | price: 1490\\nCase Fan: Noctua NF-P12 redux-1700 PWM |\u001b[0m\n",
       "\u001b[32mprice: 790\\n總價: 33930'\u001b[0m,\n",
       "    \u001b[32m'buildmate_recommendation'\u001b[0m: \u001b[32m'CPU: Intel i7-14700F | price: 9700\\nMotherboard: 華碩 TUF GAMING B650M-PLUS WIFI |\u001b[0m\n",
       "\u001b[32mprice: 4090\\nMemory: 威剛 單條16GB DDR5 6000 XPG Lancer Blade\u001b[0m\u001b[32m(\u001b[0m\u001b[32m矮版散熱片\u001b[0m\u001b[32m)\u001b[0m\u001b[32m/CL48黑【雙參數】 | price: 1349\\nGPU: \u001b[0m\n",
       "\u001b[32mINTEL 原廠 ARC B580 12G | price: 8990\\nStorage: 威剛 Ultimate SU800 \u001b[0m\n",
       "\u001b[32m512G/2.5吋/讀:560M/寫:520M/TLC/DRAM快取/SMI/台灣製 | price: 1499\\nPower Supply: 全漢 HYDRO G PRO 1000W ATX3.0\u001b[0m\u001b[32m(\u001b[0m\u001b[32mPCIe \u001b[0m\n",
       "\u001b[32m5.0\u001b[0m\u001b[32m)\u001b[0m\u001b[32m | price: 4890\\nCase: 聯力 PC-O11 Dynamic 白 | price: 2790\\nCase Fan: MSI MEG SILENT GALE P12 靜音風扇 | price:\u001b[0m\n",
       "\u001b[32m790\\n總價: 34098'\u001b[0m\n",
       "\u001b[1m}\u001b[0m\n"
      ]
     },
     "metadata": {},
     "output_type": "display_data"
    },
    {
     "data": {
      "text/html": [
       "<pre style=\"white-space:pre;overflow-x:auto;line-height:normal;font-family:Menlo,'DejaVu Sans Mono',consolas,'Courier New',monospace\">Agent1: <span style=\"font-weight: bold\">[</span>對gpt4o評價<span style=\"font-weight: bold\">]</span>: <span style=\"color: #008080; text-decoration-color: #008080; font-weight: bold\">7</span>\n",
       "<span style=\"font-weight: bold\">[</span>對BuildMate評價<span style=\"font-weight: bold\">]</span>: <span style=\"color: #008080; text-decoration-color: #008080; font-weight: bold\">5</span>\n",
       "<span style=\"font-weight: bold\">[</span>簡短原因<span style=\"font-weight: bold\">]</span>: gpt4o配置均衡，效能穩定。BuildMate顯卡效能不足，電源瓦數過高。\n",
       "\n",
       "</pre>\n"
      ],
      "text/plain": [
       "Agent1: \u001b[1m[\u001b[0m對gpt4o評價\u001b[1m]\u001b[0m: \u001b[1;36m7\u001b[0m\n",
       "\u001b[1m[\u001b[0m對BuildMate評價\u001b[1m]\u001b[0m: \u001b[1;36m5\u001b[0m\n",
       "\u001b[1m[\u001b[0m簡短原因\u001b[1m]\u001b[0m: gpt4o配置均衡，效能穩定。BuildMate顯卡效能不足，電源瓦數過高。\n",
       "\n"
      ]
     },
     "metadata": {},
     "output_type": "display_data"
    },
    {
     "name": "stdout",
     "output_type": "stream",
     "text": [
      "======\n"
     ]
    },
    {
     "data": {
      "text/html": [
       "<pre style=\"white-space:pre;overflow-x:auto;line-height:normal;font-family:Menlo,'DejaVu Sans Mono',consolas,'Courier New',monospace\">Agent2: <span style=\"font-weight: bold\">[</span>對gpt4o評價<span style=\"font-weight: bold\">]</span>: <span style=\"color: #008080; text-decoration-color: #008080; font-weight: bold\">8</span>\n",
       "<span style=\"font-weight: bold\">[</span>對BuildMate評價<span style=\"font-weight: bold\">]</span>: <span style=\"color: #008080; text-decoration-color: #008080; font-weight: bold\">5</span>\n",
       "<span style=\"font-weight: bold\">[</span>簡短原因<span style=\"font-weight: bold\">]</span>: gpt4o性價比高，顯卡選擇更佳。BuildMate CPU過剩，B580顯卡效能低，電源瓦數冗餘。\n",
       "\n",
       "</pre>\n"
      ],
      "text/plain": [
       "Agent2: \u001b[1m[\u001b[0m對gpt4o評價\u001b[1m]\u001b[0m: \u001b[1;36m8\u001b[0m\n",
       "\u001b[1m[\u001b[0m對BuildMate評價\u001b[1m]\u001b[0m: \u001b[1;36m5\u001b[0m\n",
       "\u001b[1m[\u001b[0m簡短原因\u001b[1m]\u001b[0m: gpt4o性價比高，顯卡選擇更佳。BuildMate CPU過剩，B580顯卡效能低，電源瓦數冗餘。\n",
       "\n"
      ]
     },
     "metadata": {},
     "output_type": "display_data"
    },
    {
     "name": "stdout",
     "output_type": "stream",
     "text": [
      "======\n"
     ]
    },
    {
     "data": {
      "text/html": [
       "<pre style=\"white-space:pre;overflow-x:auto;line-height:normal;font-family:Menlo,'DejaVu Sans Mono',consolas,'Courier New',monospace\">Agent3: <span style=\"font-weight: bold\">[</span>對gpt4o評價<span style=\"font-weight: bold\">]</span>: <span style=\"color: #008080; text-decoration-color: #008080; font-weight: bold\">8</span>\n",
       "<span style=\"font-weight: bold\">[</span>對BuildMate評價<span style=\"font-weight: bold\">]</span>: <span style=\"color: #008080; text-decoration-color: #008080; font-weight: bold\">4</span>\n",
       "<span style=\"font-weight: bold\">[</span>簡短原因<span style=\"font-weight: bold\">]</span>: gpt4o在預算內提供較佳效能的3060顯卡。BuildMate選擇B580顯卡效能不足以應付模擬飛行，且電源瓦數過高。\n",
       "\n",
       "</pre>\n"
      ],
      "text/plain": [
       "Agent3: \u001b[1m[\u001b[0m對gpt4o評價\u001b[1m]\u001b[0m: \u001b[1;36m8\u001b[0m\n",
       "\u001b[1m[\u001b[0m對BuildMate評價\u001b[1m]\u001b[0m: \u001b[1;36m4\u001b[0m\n",
       "\u001b[1m[\u001b[0m簡短原因\u001b[1m]\u001b[0m: gpt4o在預算內提供較佳效能的3060顯卡。BuildMate選擇B580顯卡效能不足以應付模擬飛行，且電源瓦數過高。\n",
       "\n"
      ]
     },
     "metadata": {},
     "output_type": "display_data"
    },
    {
     "name": "stdout",
     "output_type": "stream",
     "text": [
      "======\n"
     ]
    },
    {
     "data": {
      "text/html": [
       "<pre style=\"white-space:pre;overflow-x:auto;line-height:normal;font-family:Menlo,'DejaVu Sans Mono',consolas,'Courier New',monospace\">Coordinator: 已達成共識， \n",
       "gpt4o較佳。它在預算內提供了更均衡的配置，顯卡性能更符合模擬飛行需求。BuildMate則CPU過剩、顯卡不足，電源瓦數也過高。\n",
       "\n",
       "</pre>\n"
      ],
      "text/plain": [
       "Coordinator: 已達成共識， \n",
       "gpt4o較佳。它在預算內提供了更均衡的配置，顯卡性能更符合模擬飛行需求。BuildMate則CPU過剩、顯卡不足，電源瓦數也過高。\n",
       "\n"
      ]
     },
     "metadata": {},
     "output_type": "display_data"
    },
    {
     "name": "stdout",
     "output_type": "stream",
     "text": [
      "======\n"
     ]
    },
    {
     "data": {
      "text/html": [
       "<pre style=\"white-space:pre;overflow-x:auto;line-height:normal;font-family:Menlo,'DejaVu Sans Mono',consolas,'Courier New',monospace\">Agent1: <span style=\"font-weight: bold\">[</span>對gpt4o評價<span style=\"font-weight: bold\">]</span>: <span style=\"color: #008080; text-decoration-color: #008080; font-weight: bold\">8</span>\n",
       "<span style=\"font-weight: bold\">[</span>對BuildMate評價<span style=\"font-weight: bold\">]</span>: <span style=\"color: #008080; text-decoration-color: #008080; font-weight: bold\">5</span>\n",
       "<span style=\"font-weight: bold\">[</span>簡短原因<span style=\"font-weight: bold\">]</span>: gpt4o配置均衡，3060顯卡效能佳。BuildMate i7-14700F及B580效能不匹配，1000W電源過剩。\n",
       "\n",
       "</pre>\n"
      ],
      "text/plain": [
       "Agent1: \u001b[1m[\u001b[0m對gpt4o評價\u001b[1m]\u001b[0m: \u001b[1;36m8\u001b[0m\n",
       "\u001b[1m[\u001b[0m對BuildMate評價\u001b[1m]\u001b[0m: \u001b[1;36m5\u001b[0m\n",
       "\u001b[1m[\u001b[0m簡短原因\u001b[1m]\u001b[0m: gpt4o配置均衡，3060顯卡效能佳。BuildMate i7-14700F及B580效能不匹配，1000W電源過剩。\n",
       "\n"
      ]
     },
     "metadata": {},
     "output_type": "display_data"
    },
    {
     "name": "stdout",
     "output_type": "stream",
     "text": [
      "======\n"
     ]
    },
    {
     "data": {
      "text/html": [
       "<pre style=\"white-space:pre;overflow-x:auto;line-height:normal;font-family:Menlo,'DejaVu Sans Mono',consolas,'Courier New',monospace\">Agent2: <span style=\"font-weight: bold\">[</span>對gpt4o評價<span style=\"font-weight: bold\">]</span>: <span style=\"color: #008080; text-decoration-color: #008080; font-weight: bold\">8</span>\n",
       "<span style=\"font-weight: bold\">[</span>對BuildMate評價<span style=\"font-weight: bold\">]</span>: <span style=\"color: #008080; text-decoration-color: #008080; font-weight: bold\">4</span>\n",
       "<span style=\"font-weight: bold\">[</span>簡短原因<span style=\"font-weight: bold\">]</span>: gpt4o性價比高，3060顯卡更適合模擬飛行。BuildMate i7-14700F及B580效能不匹配，1000W電源冗餘。\n",
       "\n",
       "</pre>\n"
      ],
      "text/plain": [
       "Agent2: \u001b[1m[\u001b[0m對gpt4o評價\u001b[1m]\u001b[0m: \u001b[1;36m8\u001b[0m\n",
       "\u001b[1m[\u001b[0m對BuildMate評價\u001b[1m]\u001b[0m: \u001b[1;36m4\u001b[0m\n",
       "\u001b[1m[\u001b[0m簡短原因\u001b[1m]\u001b[0m: gpt4o性價比高，3060顯卡更適合模擬飛行。BuildMate i7-14700F及B580效能不匹配，1000W電源冗餘。\n",
       "\n"
      ]
     },
     "metadata": {},
     "output_type": "display_data"
    },
    {
     "name": "stdout",
     "output_type": "stream",
     "text": [
      "======\n"
     ]
    },
    {
     "data": {
      "text/html": [
       "<pre style=\"white-space:pre;overflow-x:auto;line-height:normal;font-family:Menlo,'DejaVu Sans Mono',consolas,'Courier New',monospace\">Agent3: <span style=\"font-weight: bold\">[</span>對gpt4o評價<span style=\"font-weight: bold\">]</span>: <span style=\"color: #008080; text-decoration-color: #008080; font-weight: bold\">8</span>\n",
       "<span style=\"font-weight: bold\">[</span>對BuildMate評價<span style=\"font-weight: bold\">]</span>: <span style=\"color: #008080; text-decoration-color: #008080; font-weight: bold\">4</span>\n",
       "<span style=\"font-weight: bold\">[</span>簡短原因<span style=\"font-weight: bold\">]</span>: gpt4o性價比高，3060顯卡更適合模擬飛行。BuildMate i7-14700F及B580效能不匹配，1000W電源冗餘。\n",
       "\n",
       "</pre>\n"
      ],
      "text/plain": [
       "Agent3: \u001b[1m[\u001b[0m對gpt4o評價\u001b[1m]\u001b[0m: \u001b[1;36m8\u001b[0m\n",
       "\u001b[1m[\u001b[0m對BuildMate評價\u001b[1m]\u001b[0m: \u001b[1;36m4\u001b[0m\n",
       "\u001b[1m[\u001b[0m簡短原因\u001b[1m]\u001b[0m: gpt4o性價比高，3060顯卡更適合模擬飛行。BuildMate i7-14700F及B580效能不匹配，1000W電源冗餘。\n",
       "\n"
      ]
     },
     "metadata": {},
     "output_type": "display_data"
    },
    {
     "name": "stdout",
     "output_type": "stream",
     "text": [
      "======\n"
     ]
    },
    {
     "data": {
      "text/html": [
       "<pre style=\"white-space:pre;overflow-x:auto;line-height:normal;font-family:Menlo,'DejaVu Sans Mono',consolas,'Courier New',monospace\">Coordinator: 已達成共識，gpt4o較佳。它在相近價格下，顯卡採用RTX \n",
       "<span style=\"color: #008080; text-decoration-color: #008080; font-weight: bold\">3060</span>，性能更佳，整體配置更均衡。BuildMate的CPU和主機板效能不匹配，且電源瓦數過高。\n",
       "\n",
       "</pre>\n"
      ],
      "text/plain": [
       "Coordinator: 已達成共識，gpt4o較佳。它在相近價格下，顯卡採用RTX \n",
       "\u001b[1;36m3060\u001b[0m，性能更佳，整體配置更均衡。BuildMate的CPU和主機板效能不匹配，且電源瓦數過高。\n",
       "\n"
      ]
     },
     "metadata": {},
     "output_type": "display_data"
    },
    {
     "name": "stdout",
     "output_type": "stream",
     "text": [
      "======\n",
      "{'Coordinator': {'messages': [HumanMessage(content='Agent1: [對gpt4o評價]: 7\\n[對BuildMate評價]: 5\\n[簡短原因]: gpt4o配置均衡，效能穩定。BuildMate顯卡效能不足，電源瓦數過高。\\n', additional_kwargs={}, response_metadata={}), HumanMessage(content='Agent2: [對gpt4o評價]: 8\\n[對BuildMate評價]: 5\\n[簡短原因]: gpt4o性價比高，顯卡選擇更佳。BuildMate CPU過剩，B580顯卡效能低，電源瓦數冗餘。\\n', additional_kwargs={}, response_metadata={}), HumanMessage(content='Agent3: [對gpt4o評價]: 8\\n[對BuildMate評價]: 4\\n[簡短原因]: gpt4o在預算內提供較佳效能的3060顯卡。BuildMate選擇B580顯卡效能不足以應付模擬飛行，且電源瓦數過高。\\n', additional_kwargs={}, response_metadata={}), HumanMessage(content='Coordinator: 已達成共識， gpt4o較佳。它在預算內提供了更均衡的配置，顯卡性能更符合模擬飛行需求。BuildMate則CPU過剩、顯卡不足，電源瓦數也過高。\\n', additional_kwargs={}, response_metadata={}), HumanMessage(content='Agent1: [對gpt4o評價]: 8\\n[對BuildMate評價]: 5\\n[簡短原因]: gpt4o配置均衡，3060顯卡效能佳。BuildMate i7-14700F及B580效能不匹配，1000W電源過剩。\\n', additional_kwargs={}, response_metadata={}), HumanMessage(content='Agent2: [對gpt4o評價]: 8\\n[對BuildMate評價]: 4\\n[簡短原因]: gpt4o性價比高，3060顯卡更適合模擬飛行。BuildMate i7-14700F及B580效能不匹配，1000W電源冗餘。\\n', additional_kwargs={}, response_metadata={}), HumanMessage(content='Agent3: [對gpt4o評價]: 8\\n[對BuildMate評價]: 4\\n[簡短原因]: gpt4o性價比高，3060顯卡更適合模擬飛行。BuildMate i7-14700F及B580效能不匹配，1000W電源冗餘。\\n', additional_kwargs={}, response_metadata={}), HumanMessage(content='Coordinator: 已達成共識，gpt4o較佳。它在相近價格下，顯卡採用RTX 3060，性能更佳，整體配置更均衡。BuildMate的CPU和主機板效能不匹配，且電源瓦數過高。\\n', additional_kwargs={}, response_metadata={})], 'next_agent': '__end__', 'question_id': 29, 'question': '我想組一台電腦，預算約60000元，主要用於玩模擬飛行遊戲，有沒有推薦的配置？', 'gpt4o_recommendation': 'CPU: AMD Ryzen 5 5600X | price: 5990\\nMotherboard: 華碩 TUF Gaming B550-PLUS | price: 3990\\nMemory: Corsair Vengeance LPX 16GB (2x8GB) DDR4-3200 | price: 2490\\nGPU: NVIDIA GeForce RTX 3060 12GB | price: 13900\\nStorage: Samsung 970 EVO Plus 500GB NVMe M.2 SSD | price: 1990\\nPower Supply: Seasonic Focus GX-650, 80+ Gold | price: 3290\\nCase: Cooler Master MasterBox Q300L | price: 1490\\nCase Fan: Noctua NF-P12 redux-1700 PWM | price: 790\\n總價: 33930', 'buildmate_recommendation': 'CPU: Intel i7-14700F | price: 9700\\nMotherboard: 華碩 TUF GAMING B650M-PLUS WIFI | price: 4090\\nMemory: 威剛 單條16GB DDR5 6000 XPG Lancer Blade(矮版散熱片)/CL48黑【雙參數】 | price: 1349\\nGPU: INTEL 原廠 ARC B580 12G | price: 8990\\nStorage: 威剛 Ultimate SU800 512G/2.5吋/讀:560M/寫:520M/TLC/DRAM快取/SMI/台灣製 | price: 1499\\nPower Supply: 全漢 HYDRO G PRO 1000W ATX3.0(PCIe 5.0) | price: 4890\\nCase: 聯力 PC-O11 Dynamic 白 | price: 2790\\nCase Fan: MSI MEG SILENT GALE P12 靜音風扇 | price: 790\\n總價: 34098', 'agent_scores': {'Agent1_round1': {'gpt4o_score': 7, 'buildmate_score': 5, 'reason': 'gpt4o配置均衡，效能穩定。BuildMate顯卡效能不足，電源瓦數過高。'}, 'Agent2_round1': {'gpt4o_score': 8, 'buildmate_score': 5, 'reason': 'gpt4o性價比高，顯卡選擇更佳。BuildMate CPU過剩，B580顯卡效能低，電源瓦數冗餘。'}, 'Agent3_round1': {'gpt4o_score': 8, 'buildmate_score': 4, 'reason': 'gpt4o在預算內提供較佳效能的3060顯卡。BuildMate選擇B580顯卡效能不足以應付模擬飛行，且電源瓦數過高。'}, 'Agent1_round2': {'gpt4o_score': 8, 'buildmate_score': 5, 'reason': 'gpt4o配置均衡，3060顯卡效能佳。BuildMate i7-14700F及B580效能不匹配，1000W電源過剩。'}, 'Agent2_round2': {'gpt4o_score': 8, 'buildmate_score': 4, 'reason': 'gpt4o性價比高，3060顯卡更適合模擬飛行。BuildMate i7-14700F及B580效能不匹配，1000W電源冗餘。'}, 'Agent3_round2': {'gpt4o_score': 8, 'buildmate_score': 4, 'reason': 'gpt4o性價比高，3060顯卡更適合模擬飛行。BuildMate i7-14700F及B580效能不匹配，1000W電源冗餘。'}}, 'round_count': 2, 'max_rounds': 3, 'consensus_reached': True}}\n",
      "{\n",
      "  \"question_id\": 29,\n",
      "  \"question\": \"我想組一台電腦，預算約60000元，主要用於玩模擬飛行遊戲，有沒有推薦的配置？\",\n",
      "  \"buildmate_recommendation\": \"CPU: Intel i7-14700F | price: 9700\\nMotherboard: 華碩 TUF GAMING B650M-PLUS WIFI | price: 4090\\nMemory: 威剛 單條16GB DDR5 6000 XPG Lancer Blade(矮版散熱片)/CL48黑【雙參數】 | price: 1349\\nGPU: INTEL 原廠 ARC B580 12G | price: 8990\\nStorage: 威剛 Ultimate SU800 512G/2.5吋/讀:560M/寫:520M/TLC/DRAM快取/SMI/台灣製 | price: 1499\\nPower Supply: 全漢 HYDRO G PRO 1000W ATX3.0(PCIe 5.0) | price: 4890\\nCase: 聯力 PC-O11 Dynamic 白 | price: 2790\\nCase Fan: MSI MEG SILENT GALE P12 靜音風扇 | price: 790\\n總價: 34098\",\n",
      "  \"gpt4o_recommendation\": \"CPU: AMD Ryzen 5 5600X | price: 5990\\nMotherboard: 華碩 TUF Gaming B550-PLUS | price: 3990\\nMemory: Corsair Vengeance LPX 16GB (2x8GB) DDR4-3200 | price: 2490\\nGPU: NVIDIA GeForce RTX 3060 12GB | price: 13900\\nStorage: Samsung 970 EVO Plus 500GB NVMe M.2 SSD | price: 1990\\nPower Supply: Seasonic Focus GX-650, 80+ Gold | price: 3290\\nCase: Cooler Master MasterBox Q300L | price: 1490\\nCase Fan: Noctua NF-P12 redux-1700 PWM | price: 790\\n總價: 33930\",\n",
      "  \"winner\": 0,\n",
      "  \"buildmate_avg_score\": 4.5,\n",
      "  \"gpt4o_avg_score\": 7.833333333333333,\n",
      "  \"rounds\": [\n",
      "    {\n",
      "      \"round_number\": 1,\n",
      "      \"Agent1\": {\n",
      "        \"gpt4o_score\": 7,\n",
      "        \"buildmate_score\": 5,\n",
      "        \"reason\": \"gpt4o配置均衡，效能穩定。BuildMate顯卡效能不足，電源瓦數過高。\"\n",
      "      },\n",
      "      \"Agent2\": {\n",
      "        \"gpt4o_score\": 8,\n",
      "        \"buildmate_score\": 5,\n",
      "        \"reason\": \"gpt4o性價比高，顯卡選擇更佳。BuildMate CPU過剩，B580顯卡效能低，電源瓦數冗餘。\"\n",
      "      },\n",
      "      \"Agent3\": {\n",
      "        \"gpt4o_score\": 8,\n",
      "        \"buildmate_score\": 4,\n",
      "        \"reason\": \"gpt4o在預算內提供較佳效能的3060顯卡。BuildMate選擇B580顯卡效能不足以應付模擬飛行，且電源瓦數過高。\"\n",
      "      }\n",
      "    },\n",
      "    {\n",
      "      \"round_number\": 2,\n",
      "      \"Agent1\": {\n",
      "        \"gpt4o_score\": 8,\n",
      "        \"buildmate_score\": 5,\n",
      "        \"reason\": \"gpt4o配置均衡，3060顯卡效能佳。BuildMate i7-14700F及B580效能不匹配，1000W電源過剩。\"\n",
      "      },\n",
      "      \"Agent2\": {\n",
      "        \"gpt4o_score\": 8,\n",
      "        \"buildmate_score\": 4,\n",
      "        \"reason\": \"gpt4o性價比高，3060顯卡更適合模擬飛行。BuildMate i7-14700F及B580效能不匹配，1000W電源冗餘。\"\n",
      "      },\n",
      "      \"Agent3\": {\n",
      "        \"gpt4o_score\": 8,\n",
      "        \"buildmate_score\": 4,\n",
      "        \"reason\": \"gpt4o性價比高，3060顯卡更適合模擬飛行。BuildMate i7-14700F及B580效能不匹配，1000W電源冗餘。\"\n",
      "      }\n",
      "    }\n",
      "  ]\n",
      "}\n"
     ]
    },
    {
     "data": {
      "text/html": [
       "<pre style=\"white-space:pre;overflow-x:auto;line-height:normal;font-family:Menlo,'DejaVu Sans Mono',consolas,'Courier New',monospace\"><span style=\"font-weight: bold\">{</span>\n",
       "    <span style=\"color: #008000; text-decoration-color: #008000\">'question_id'</span>: <span style=\"color: #008080; text-decoration-color: #008080; font-weight: bold\">30</span>,\n",
       "    <span style=\"color: #008000; text-decoration-color: #008000\">'question'</span>: <span style=\"color: #008000; text-decoration-color: #008000\">'請問有沒有大約35000元的電腦配置推薦，適合用於網頁開發和輕度遊戲？'</span>,\n",
       "    <span style=\"color: #008000; text-decoration-color: #008000\">'gpt4o_recommendation'</span>: <span style=\"color: #008000; text-decoration-color: #008000\">'CPU: AMD Ryzen 5 5600G | price: 5990\\nMotherboard: 華碩 TUF Gaming B550M-PLUS (Wi-Fi) </span>\n",
       "<span style=\"color: #008000; text-decoration-color: #008000\">| price: 3990\\nMemory: Corsair Vengeance LPX 16GB (2 x 8GB) DDR4-3200 | price: 1990\\nGPU: NVIDIA GeForce GTX 1650 </span>\n",
       "<span style=\"color: #008000; text-decoration-color: #008000\">4GB | price: 4990\\nStorage: Samsung 970 EVO Plus 500GB NVMe M.2 SSD | price: 1990\\nPower Supply: Seasonic Focus </span>\n",
       "<span style=\"color: #008000; text-decoration-color: #008000\">GX-650 650W 80+ Gold | price: 2990\\nCase: Cooler Master MasterBox Q300L | price: 1390\\nCase Fan: Noctua NF-P12 </span>\n",
       "<span style=\"color: #008000; text-decoration-color: #008000\">redux-1700 PWM | price: 790\\n總價: 24120'</span>,\n",
       "    <span style=\"color: #008000; text-decoration-color: #008000\">'buildmate_recommendation'</span>: <span style=\"color: #008000; text-decoration-color: #008000\">'CPU: Intel i5-14400F | price: 5400\\nMotherboard: 華碩 PRIME </span>\n",
       "<span style=\"color: #008000; text-decoration-color: #008000\">H610M-K-CSM(DDR5)(M-ATX/1A1H/Realtek 1Gb/註冊四年/2DIMM) | price: 2890\\nMemory: UMAX 單條32GB DDR5-4800/CL40 支援 </span>\n",
       "<span style=\"color: #008000; text-decoration-color: #008000\">XMP | price: 2288\\nGPU: Acer Nitro Intel ARC B580 OC 12GB | price: 8690\\nStorage: WD Blue SA510 500GB(藍標) | </span>\n",
       "<span style=\"color: #008000; text-decoration-color: #008000\">price: 1280\\nPower Supply: Antec HCG1000(1000W)雙8/金牌/全模/全日系/智慧溫控風扇/10年保 | price: 3990\\nCase: 華碩 </span>\n",
       "<span style=\"color: #008000; text-decoration-color: #008000\">A21 黑 | price: 1490\\nCase Fan: MSI MEG SILENT GALE P12 靜音風扇 | price: 790\\n總價: 26818'</span>\n",
       "<span style=\"font-weight: bold\">}</span>\n",
       "</pre>\n"
      ],
      "text/plain": [
       "\u001b[1m{\u001b[0m\n",
       "    \u001b[32m'question_id'\u001b[0m: \u001b[1;36m30\u001b[0m,\n",
       "    \u001b[32m'question'\u001b[0m: \u001b[32m'請問有沒有大約35000元的電腦配置推薦，適合用於網頁開發和輕度遊戲？'\u001b[0m,\n",
       "    \u001b[32m'gpt4o_recommendation'\u001b[0m: \u001b[32m'CPU: AMD Ryzen 5 5600G | price: 5990\\nMotherboard: 華碩 TUF Gaming B550M-PLUS \u001b[0m\u001b[32m(\u001b[0m\u001b[32mWi-Fi\u001b[0m\u001b[32m)\u001b[0m\u001b[32m \u001b[0m\n",
       "\u001b[32m| price: 3990\\nMemory: Corsair Vengeance LPX 16GB \u001b[0m\u001b[32m(\u001b[0m\u001b[32m2 x 8GB\u001b[0m\u001b[32m)\u001b[0m\u001b[32m DDR4-3200 | price: 1990\\nGPU: NVIDIA GeForce GTX 1650 \u001b[0m\n",
       "\u001b[32m4GB | price: 4990\\nStorage: Samsung 970 EVO Plus 500GB NVMe M.2 SSD | price: 1990\\nPower Supply: Seasonic Focus \u001b[0m\n",
       "\u001b[32mGX-650 650W 80+ Gold | price: 2990\\nCase: Cooler Master MasterBox Q300L | price: 1390\\nCase Fan: Noctua NF-P12 \u001b[0m\n",
       "\u001b[32mredux-1700 PWM | price: 790\\n總價: 24120'\u001b[0m,\n",
       "    \u001b[32m'buildmate_recommendation'\u001b[0m: \u001b[32m'CPU: Intel i5-14400F | price: 5400\\nMotherboard: 華碩 PRIME \u001b[0m\n",
       "\u001b[32mH610M-K-CSM\u001b[0m\u001b[32m(\u001b[0m\u001b[32mDDR5\u001b[0m\u001b[32m)\u001b[0m\u001b[32m(\u001b[0m\u001b[32mM-ATX/1A1H/Realtek 1Gb/註冊四年/2DIMM\u001b[0m\u001b[32m)\u001b[0m\u001b[32m | price: 2890\\nMemory: UMAX 單條32GB DDR5-4800/CL40 支援 \u001b[0m\n",
       "\u001b[32mXMP | price: 2288\\nGPU: Acer Nitro Intel ARC B580 OC 12GB | price: 8690\\nStorage: WD Blue SA510 500GB\u001b[0m\u001b[32m(\u001b[0m\u001b[32m藍標\u001b[0m\u001b[32m)\u001b[0m\u001b[32m | \u001b[0m\n",
       "\u001b[32mprice: 1280\\nPower Supply: Antec HCG1000\u001b[0m\u001b[32m(\u001b[0m\u001b[32m1000W\u001b[0m\u001b[32m)\u001b[0m\u001b[32m雙8/金牌/全模/全日系/智慧溫控風扇/10年保 | price: 3990\\nCase: 華碩 \u001b[0m\n",
       "\u001b[32mA21 黑 | price: 1490\\nCase Fan: MSI MEG SILENT GALE P12 靜音風扇 | price: 790\\n總價: 26818'\u001b[0m\n",
       "\u001b[1m}\u001b[0m\n"
      ]
     },
     "metadata": {},
     "output_type": "display_data"
    },
    {
     "data": {
      "text/html": [
       "<pre style=\"white-space:pre;overflow-x:auto;line-height:normal;font-family:Menlo,'DejaVu Sans Mono',consolas,'Courier New',monospace\">Agent1: <span style=\"font-weight: bold\">[</span>對gpt4o評價<span style=\"font-weight: bold\">]</span>: <span style=\"color: #008080; text-decoration-color: #008080; font-weight: bold\">7</span>\n",
       "<span style=\"font-weight: bold\">[</span>對BuildMate評價<span style=\"font-weight: bold\">]</span>: <span style=\"color: #008080; text-decoration-color: #008080; font-weight: bold\">6</span>\n",
       "<span style=\"font-weight: bold\">[</span>簡短原因<span style=\"font-weight: bold\">]</span>: gpt4o均衡，BuildMate記憶體單通道且顯卡驅動堪慮。\n",
       "\n",
       "</pre>\n"
      ],
      "text/plain": [
       "Agent1: \u001b[1m[\u001b[0m對gpt4o評價\u001b[1m]\u001b[0m: \u001b[1;36m7\u001b[0m\n",
       "\u001b[1m[\u001b[0m對BuildMate評價\u001b[1m]\u001b[0m: \u001b[1;36m6\u001b[0m\n",
       "\u001b[1m[\u001b[0m簡短原因\u001b[1m]\u001b[0m: gpt4o均衡，BuildMate記憶體單通道且顯卡驅動堪慮。\n",
       "\n"
      ]
     },
     "metadata": {},
     "output_type": "display_data"
    },
    {
     "name": "stdout",
     "output_type": "stream",
     "text": [
      "======\n"
     ]
    },
    {
     "data": {
      "text/html": [
       "<pre style=\"white-space:pre;overflow-x:auto;line-height:normal;font-family:Menlo,'DejaVu Sans Mono',consolas,'Courier New',monospace\">Agent2: <span style=\"font-weight: bold\">[</span>對gpt4o評價<span style=\"font-weight: bold\">]</span>: <span style=\"color: #008080; text-decoration-color: #008080; font-weight: bold\">8</span>\n",
       "<span style=\"font-weight: bold\">[</span>對BuildMate評價<span style=\"font-weight: bold\">]</span>: <span style=\"color: #008080; text-decoration-color: #008080; font-weight: bold\">5</span>\n",
       "<span style=\"font-weight: bold\">[</span>簡短原因<span style=\"font-weight: bold\">]</span>: gpt4o較均衡，BuildMate記憶體單通道、顯卡驅動問題、電源瓦數過高。\n",
       "\n",
       "</pre>\n"
      ],
      "text/plain": [
       "Agent2: \u001b[1m[\u001b[0m對gpt4o評價\u001b[1m]\u001b[0m: \u001b[1;36m8\u001b[0m\n",
       "\u001b[1m[\u001b[0m對BuildMate評價\u001b[1m]\u001b[0m: \u001b[1;36m5\u001b[0m\n",
       "\u001b[1m[\u001b[0m簡短原因\u001b[1m]\u001b[0m: gpt4o較均衡，BuildMate記憶體單通道、顯卡驅動問題、電源瓦數過高。\n",
       "\n"
      ]
     },
     "metadata": {},
     "output_type": "display_data"
    },
    {
     "name": "stdout",
     "output_type": "stream",
     "text": [
      "======\n"
     ]
    },
    {
     "data": {
      "text/html": [
       "<pre style=\"white-space:pre;overflow-x:auto;line-height:normal;font-family:Menlo,'DejaVu Sans Mono',consolas,'Courier New',monospace\">Agent3: <span style=\"font-weight: bold\">[</span>對gpt4o評價<span style=\"font-weight: bold\">]</span>: <span style=\"color: #008080; text-decoration-color: #008080; font-weight: bold\">8</span>\n",
       "<span style=\"font-weight: bold\">[</span>對BuildMate評價<span style=\"font-weight: bold\">]</span>: <span style=\"color: #008080; text-decoration-color: #008080; font-weight: bold\">5</span>\n",
       "<span style=\"font-weight: bold\">[</span>簡短原因<span style=\"font-weight: bold\">]</span>: gpt4o較均衡，BuildMate記憶體單通道、顯卡驅動問題、電源瓦數過高。\n",
       "\n",
       "</pre>\n"
      ],
      "text/plain": [
       "Agent3: \u001b[1m[\u001b[0m對gpt4o評價\u001b[1m]\u001b[0m: \u001b[1;36m8\u001b[0m\n",
       "\u001b[1m[\u001b[0m對BuildMate評價\u001b[1m]\u001b[0m: \u001b[1;36m5\u001b[0m\n",
       "\u001b[1m[\u001b[0m簡短原因\u001b[1m]\u001b[0m: gpt4o較均衡，BuildMate記憶體單通道、顯卡驅動問題、電源瓦數過高。\n",
       "\n"
      ]
     },
     "metadata": {},
     "output_type": "display_data"
    },
    {
     "name": "stdout",
     "output_type": "stream",
     "text": [
      "======\n"
     ]
    },
    {
     "data": {
      "text/html": [
       "<pre style=\"white-space:pre;overflow-x:auto;line-height:normal;font-family:Menlo,'DejaVu Sans Mono',consolas,'Courier New',monospace\">Coordinator: 已達成共識，gpt4o較佳。記憶體雙通道效能較佳、GTX1650驅動較穩定、650W電源較為合理。\n",
       "\n",
       "</pre>\n"
      ],
      "text/plain": [
       "Coordinator: 已達成共識，gpt4o較佳。記憶體雙通道效能較佳、GTX1650驅動較穩定、650W電源較為合理。\n",
       "\n"
      ]
     },
     "metadata": {},
     "output_type": "display_data"
    },
    {
     "name": "stdout",
     "output_type": "stream",
     "text": [
      "======\n"
     ]
    },
    {
     "data": {
      "text/html": [
       "<pre style=\"white-space:pre;overflow-x:auto;line-height:normal;font-family:Menlo,'DejaVu Sans Mono',consolas,'Courier New',monospace\">Agent1: <span style=\"font-weight: bold\">[</span>對gpt4o評價<span style=\"font-weight: bold\">]</span>: <span style=\"color: #008080; text-decoration-color: #008080; font-weight: bold\">8</span>\n",
       "<span style=\"font-weight: bold\">[</span>對BuildMate評價<span style=\"font-weight: bold\">]</span>: <span style=\"color: #008080; text-decoration-color: #008080; font-weight: bold\">5</span>\n",
       "<span style=\"font-weight: bold\">[</span>簡短原因<span style=\"font-weight: bold\">]</span>: gpt4o均衡，BuildMate記憶體單通道、B580驅動及相容性堪慮、1000W電源過剩。\n",
       "\n",
       "</pre>\n"
      ],
      "text/plain": [
       "Agent1: \u001b[1m[\u001b[0m對gpt4o評價\u001b[1m]\u001b[0m: \u001b[1;36m8\u001b[0m\n",
       "\u001b[1m[\u001b[0m對BuildMate評價\u001b[1m]\u001b[0m: \u001b[1;36m5\u001b[0m\n",
       "\u001b[1m[\u001b[0m簡短原因\u001b[1m]\u001b[0m: gpt4o均衡，BuildMate記憶體單通道、B580驅動及相容性堪慮、1000W電源過剩。\n",
       "\n"
      ]
     },
     "metadata": {},
     "output_type": "display_data"
    },
    {
     "name": "stdout",
     "output_type": "stream",
     "text": [
      "======\n"
     ]
    },
    {
     "data": {
      "text/html": [
       "<pre style=\"white-space:pre;overflow-x:auto;line-height:normal;font-family:Menlo,'DejaVu Sans Mono',consolas,'Courier New',monospace\">Agent2: <span style=\"font-weight: bold\">[</span>對gpt4o評價<span style=\"font-weight: bold\">]</span>: <span style=\"color: #008080; text-decoration-color: #008080; font-weight: bold\">8</span>\n",
       "<span style=\"font-weight: bold\">[</span>對BuildMate評價<span style=\"font-weight: bold\">]</span>: <span style=\"color: #008080; text-decoration-color: #008080; font-weight: bold\">4</span>\n",
       "<span style=\"font-weight: bold\">[</span>簡短原因<span style=\"font-weight: bold\">]</span>:  gpt4o性價比高，BuildMate B580顯卡、單通道高頻記憶體及1000W電源皆不合理。\n",
       "\n",
       "</pre>\n"
      ],
      "text/plain": [
       "Agent2: \u001b[1m[\u001b[0m對gpt4o評價\u001b[1m]\u001b[0m: \u001b[1;36m8\u001b[0m\n",
       "\u001b[1m[\u001b[0m對BuildMate評價\u001b[1m]\u001b[0m: \u001b[1;36m4\u001b[0m\n",
       "\u001b[1m[\u001b[0m簡短原因\u001b[1m]\u001b[0m:  gpt4o性價比高，BuildMate B580顯卡、單通道高頻記憶體及1000W電源皆不合理。\n",
       "\n"
      ]
     },
     "metadata": {},
     "output_type": "display_data"
    },
    {
     "name": "stdout",
     "output_type": "stream",
     "text": [
      "======\n"
     ]
    },
    {
     "data": {
      "text/html": [
       "<pre style=\"white-space:pre;overflow-x:auto;line-height:normal;font-family:Menlo,'DejaVu Sans Mono',consolas,'Courier New',monospace\">Agent3: <span style=\"font-weight: bold\">[</span>對gpt4o評價<span style=\"font-weight: bold\">]</span>: <span style=\"color: #008080; text-decoration-color: #008080; font-weight: bold\">8</span>\n",
       "<span style=\"font-weight: bold\">[</span>對BuildMate評價<span style=\"font-weight: bold\">]</span>: <span style=\"color: #008080; text-decoration-color: #008080; font-weight: bold\">4</span>\n",
       "<span style=\"font-weight: bold\">[</span>簡短原因<span style=\"font-weight: bold\">]</span>: gpt4o較均衡，BuildMate H610搭DDR5及高時脈單通道記憶體、B580驅動及相容性堪慮、1000W電源過剩。\n",
       "\n",
       "</pre>\n"
      ],
      "text/plain": [
       "Agent3: \u001b[1m[\u001b[0m對gpt4o評價\u001b[1m]\u001b[0m: \u001b[1;36m8\u001b[0m\n",
       "\u001b[1m[\u001b[0m對BuildMate評價\u001b[1m]\u001b[0m: \u001b[1;36m4\u001b[0m\n",
       "\u001b[1m[\u001b[0m簡短原因\u001b[1m]\u001b[0m: gpt4o較均衡，BuildMate H610搭DDR5及高時脈單通道記憶體、B580驅動及相容性堪慮、1000W電源過剩。\n",
       "\n"
      ]
     },
     "metadata": {},
     "output_type": "display_data"
    },
    {
     "name": "stdout",
     "output_type": "stream",
     "text": [
      "======\n"
     ]
    },
    {
     "data": {
      "text/html": [
       "<pre style=\"white-space:pre;overflow-x:auto;line-height:normal;font-family:Menlo,'DejaVu Sans Mono',consolas,'Courier New',monospace\">Coordinator: \n",
       "已達成共識，gpt4o較佳。BuildMate的H610主機板不適合搭配高時脈DDR5記憶體，B580顯卡驅動不穩定，1000W電源過剩。\n",
       "\n",
       "</pre>\n"
      ],
      "text/plain": [
       "Coordinator: \n",
       "已達成共識，gpt4o較佳。BuildMate的H610主機板不適合搭配高時脈DDR5記憶體，B580顯卡驅動不穩定，1000W電源過剩。\n",
       "\n"
      ]
     },
     "metadata": {},
     "output_type": "display_data"
    },
    {
     "name": "stdout",
     "output_type": "stream",
     "text": [
      "======\n",
      "{'Coordinator': {'messages': [HumanMessage(content='Agent1: [對gpt4o評價]: 7\\n[對BuildMate評價]: 6\\n[簡短原因]: gpt4o均衡，BuildMate記憶體單通道且顯卡驅動堪慮。\\n', additional_kwargs={}, response_metadata={}), HumanMessage(content='Agent2: [對gpt4o評價]: 8\\n[對BuildMate評價]: 5\\n[簡短原因]: gpt4o較均衡，BuildMate記憶體單通道、顯卡驅動問題、電源瓦數過高。\\n', additional_kwargs={}, response_metadata={}), HumanMessage(content='Agent3: [對gpt4o評價]: 8\\n[對BuildMate評價]: 5\\n[簡短原因]: gpt4o較均衡，BuildMate記憶體單通道、顯卡驅動問題、電源瓦數過高。\\n', additional_kwargs={}, response_metadata={}), HumanMessage(content='Coordinator: 已達成共識，gpt4o較佳。記憶體雙通道效能較佳、GTX1650驅動較穩定、650W電源較為合理。\\n', additional_kwargs={}, response_metadata={}), HumanMessage(content='Agent1: [對gpt4o評價]: 8\\n[對BuildMate評價]: 5\\n[簡短原因]: gpt4o均衡，BuildMate記憶體單通道、B580驅動及相容性堪慮、1000W電源過剩。\\n', additional_kwargs={}, response_metadata={}), HumanMessage(content='Agent2: [對gpt4o評價]: 8\\n[對BuildMate評價]: 4\\n[簡短原因]:  gpt4o性價比高，BuildMate B580顯卡、單通道高頻記憶體及1000W電源皆不合理。\\n', additional_kwargs={}, response_metadata={}), HumanMessage(content='Agent3: [對gpt4o評價]: 8\\n[對BuildMate評價]: 4\\n[簡短原因]: gpt4o較均衡，BuildMate H610搭DDR5及高時脈單通道記憶體、B580驅動及相容性堪慮、1000W電源過剩。\\n', additional_kwargs={}, response_metadata={}), HumanMessage(content='Coordinator: 已達成共識，gpt4o較佳。BuildMate的H610主機板不適合搭配高時脈DDR5記憶體，B580顯卡驅動不穩定，1000W電源過剩。\\n', additional_kwargs={}, response_metadata={})], 'next_agent': '__end__', 'question_id': 30, 'question': '請問有沒有大約35000元的電腦配置推薦，適合用於網頁開發和輕度遊戲？', 'gpt4o_recommendation': 'CPU: AMD Ryzen 5 5600G | price: 5990\\nMotherboard: 華碩 TUF Gaming B550M-PLUS (Wi-Fi) | price: 3990\\nMemory: Corsair Vengeance LPX 16GB (2 x 8GB) DDR4-3200 | price: 1990\\nGPU: NVIDIA GeForce GTX 1650 4GB | price: 4990\\nStorage: Samsung 970 EVO Plus 500GB NVMe M.2 SSD | price: 1990\\nPower Supply: Seasonic Focus GX-650 650W 80+ Gold | price: 2990\\nCase: Cooler Master MasterBox Q300L | price: 1390\\nCase Fan: Noctua NF-P12 redux-1700 PWM | price: 790\\n總價: 24120', 'buildmate_recommendation': 'CPU: Intel i5-14400F | price: 5400\\nMotherboard: 華碩 PRIME H610M-K-CSM(DDR5)(M-ATX/1A1H/Realtek 1Gb/註冊四年/2DIMM) | price: 2890\\nMemory: UMAX 單條32GB DDR5-4800/CL40 支援 XMP | price: 2288\\nGPU: Acer Nitro Intel ARC B580 OC 12GB | price: 8690\\nStorage: WD Blue SA510 500GB(藍標) | price: 1280\\nPower Supply: Antec HCG1000(1000W)雙8/金牌/全模/全日系/智慧溫控風扇/10年保 | price: 3990\\nCase: 華碩 A21 黑 | price: 1490\\nCase Fan: MSI MEG SILENT GALE P12 靜音風扇 | price: 790\\n總價: 26818', 'agent_scores': {'Agent1_round1': {'gpt4o_score': 7, 'buildmate_score': 6, 'reason': 'gpt4o均衡，BuildMate記憶體單通道且顯卡驅動堪慮。'}, 'Agent2_round1': {'gpt4o_score': 8, 'buildmate_score': 5, 'reason': 'gpt4o較均衡，BuildMate記憶體單通道、顯卡驅動問題、電源瓦數過高。'}, 'Agent3_round1': {'gpt4o_score': 8, 'buildmate_score': 5, 'reason': 'gpt4o較均衡，BuildMate記憶體單通道、顯卡驅動問題、電源瓦數過高。'}, 'Agent1_round2': {'gpt4o_score': 8, 'buildmate_score': 5, 'reason': 'gpt4o均衡，BuildMate記憶體單通道、B580驅動及相容性堪慮、1000W電源過剩。'}, 'Agent2_round2': {'gpt4o_score': 8, 'buildmate_score': 4, 'reason': 'gpt4o性價比高，BuildMate B580顯卡、單通道高頻記憶體及1000W電源皆不合理。'}, 'Agent3_round2': {'gpt4o_score': 8, 'buildmate_score': 4, 'reason': 'gpt4o較均衡，BuildMate H610搭DDR5及高時脈單通道記憶體、B580驅動及相容性堪慮、1000W電源過剩。'}}, 'round_count': 2, 'max_rounds': 3, 'consensus_reached': True}}\n",
      "{\n",
      "  \"question_id\": 30,\n",
      "  \"question\": \"請問有沒有大約35000元的電腦配置推薦，適合用於網頁開發和輕度遊戲？\",\n",
      "  \"buildmate_recommendation\": \"CPU: Intel i5-14400F | price: 5400\\nMotherboard: 華碩 PRIME H610M-K-CSM(DDR5)(M-ATX/1A1H/Realtek 1Gb/註冊四年/2DIMM) | price: 2890\\nMemory: UMAX 單條32GB DDR5-4800/CL40 支援 XMP | price: 2288\\nGPU: Acer Nitro Intel ARC B580 OC 12GB | price: 8690\\nStorage: WD Blue SA510 500GB(藍標) | price: 1280\\nPower Supply: Antec HCG1000(1000W)雙8/金牌/全模/全日系/智慧溫控風扇/10年保 | price: 3990\\nCase: 華碩 A21 黑 | price: 1490\\nCase Fan: MSI MEG SILENT GALE P12 靜音風扇 | price: 790\\n總價: 26818\",\n",
      "  \"gpt4o_recommendation\": \"CPU: AMD Ryzen 5 5600G | price: 5990\\nMotherboard: 華碩 TUF Gaming B550M-PLUS (Wi-Fi) | price: 3990\\nMemory: Corsair Vengeance LPX 16GB (2 x 8GB) DDR4-3200 | price: 1990\\nGPU: NVIDIA GeForce GTX 1650 4GB | price: 4990\\nStorage: Samsung 970 EVO Plus 500GB NVMe M.2 SSD | price: 1990\\nPower Supply: Seasonic Focus GX-650 650W 80+ Gold | price: 2990\\nCase: Cooler Master MasterBox Q300L | price: 1390\\nCase Fan: Noctua NF-P12 redux-1700 PWM | price: 790\\n總價: 24120\",\n",
      "  \"winner\": 0,\n",
      "  \"buildmate_avg_score\": 4.833333333333333,\n",
      "  \"gpt4o_avg_score\": 7.833333333333333,\n",
      "  \"rounds\": [\n",
      "    {\n",
      "      \"round_number\": 1,\n",
      "      \"Agent1\": {\n",
      "        \"gpt4o_score\": 7,\n",
      "        \"buildmate_score\": 6,\n",
      "        \"reason\": \"gpt4o均衡，BuildMate記憶體單通道且顯卡驅動堪慮。\"\n",
      "      },\n",
      "      \"Agent2\": {\n",
      "        \"gpt4o_score\": 8,\n",
      "        \"buildmate_score\": 5,\n",
      "        \"reason\": \"gpt4o較均衡，BuildMate記憶體單通道、顯卡驅動問題、電源瓦數過高。\"\n",
      "      },\n",
      "      \"Agent3\": {\n",
      "        \"gpt4o_score\": 8,\n",
      "        \"buildmate_score\": 5,\n",
      "        \"reason\": \"gpt4o較均衡，BuildMate記憶體單通道、顯卡驅動問題、電源瓦數過高。\"\n",
      "      }\n",
      "    },\n",
      "    {\n",
      "      \"round_number\": 2,\n",
      "      \"Agent1\": {\n",
      "        \"gpt4o_score\": 8,\n",
      "        \"buildmate_score\": 5,\n",
      "        \"reason\": \"gpt4o均衡，BuildMate記憶體單通道、B580驅動及相容性堪慮、1000W電源過剩。\"\n",
      "      },\n",
      "      \"Agent2\": {\n",
      "        \"gpt4o_score\": 8,\n",
      "        \"buildmate_score\": 4,\n",
      "        \"reason\": \"gpt4o性價比高，BuildMate B580顯卡、單通道高頻記憶體及1000W電源皆不合理。\"\n",
      "      },\n",
      "      \"Agent3\": {\n",
      "        \"gpt4o_score\": 8,\n",
      "        \"buildmate_score\": 4,\n",
      "        \"reason\": \"gpt4o較均衡，BuildMate H610搭DDR5及高時脈單通道記憶體、B580驅動及相容性堪慮、1000W電源過剩。\"\n",
      "      }\n",
      "    }\n",
      "  ]\n",
      "}\n"
     ]
    }
   ],
   "source": [
    "from typing import Dict, List, TypedDict\n",
    "from langgraph.graph import StateGraph, END, START\n",
    "from typing import Annotated, Sequence\n",
    "from langchain_core.messages import BaseMessage, HumanMessage, SystemMessage\n",
    "import json\n",
    "from langchain_openai import ChatOpenAI\n",
    "from langchain_google_genai import ChatGoogleGenerativeAI\n",
    "from typing import Optional\n",
    "import re\n",
    "import rich\n",
    "def convert_messages_to_serializable(obj):\n",
    "    if isinstance(obj, dict):\n",
    "        # 遞迴處理字典\n",
    "        return {k: convert_messages_to_serializable(v) for k, v in obj.items()}\n",
    "    elif isinstance(obj, list):\n",
    "        # 遞迴處理列表\n",
    "        return [convert_messages_to_serializable(v) for v in obj]\n",
    "    elif isinstance(obj, HumanMessage) or isinstance(obj, SystemMessage):\n",
    "        # 將 Message 物件轉成字典格式\n",
    "        # ontent 前面有 \"Speaker: 內容\" 格式，可以分離\n",
    "        parts = obj.content.split(\":\", 1)\n",
    "        if len(parts) == 2:\n",
    "            speaker = parts[0].strip()\n",
    "            message = parts[1].strip()\n",
    "        else:\n",
    "            speaker = \"unknown\"\n",
    "            message = obj.content\n",
    "        \n",
    "        return {\n",
    "            \"speaker\": speaker,\n",
    "            \"message\": message\n",
    "        }\n",
    "    else:\n",
    "        # 對於非字典/列表/Message物件\n",
    "        return obj\n",
    "\n",
    "class EvaluationState(TypedDict):\n",
    "    messages: Annotated[Sequence[BaseMessage], \"聊天歷史\"]\n",
    "    next_agent: str\n",
    "    question_id: int\n",
    "    question: str\n",
    "    gpt4o_recommendation: str\n",
    "    buildmate_recommendation: str\n",
    "    agent_scores: Dict[str, Dict[str, int]]\n",
    "    round_count: int     # 用於紀錄第幾輪\n",
    "    max_rounds: int       # 最大回合數\n",
    "    consensus_reached: bool  # 是否已達成共識\n",
    "\n",
    "def create_agent(name: str, llm):\n",
    "    # new \n",
    "    system_prompts = {\n",
    "    \"Agent1\": \"\"\"你是電腦硬體顧問，專精於「效能」與「系統穩定」層面。\n",
    "請從處理器、顯示卡、記憶體、儲存裝置的整體效能，以及散熱方案、電源品質、系統組裝平衡度，來比較兩個推薦清單的效能與穩定度。\n",
    "\n",
    "請提供：\n",
    "[對gpt4o評價]: (0~10)\n",
    "[對BuildMate評價]: (0~10)\n",
    "[簡短原因]: (以專業觀點精簡描述)\n",
    "\n",
    "注意事項：\n",
    "1. 原因的說明請限制在50個字以內。\n",
    "\"\"\",\n",
    "\n",
    "    \"Agent2\": \"\"\"你是電腦硬體顧問，專精於「價格/效能比」(CP值)。\n",
    "請根據兩個推薦清單中各零件的價位與提供效能是否相稱、預算是否用在刀口上，評估CP值高低。\n",
    "\n",
    "請提供：\n",
    "[對gpt4o評價]: (0~10)\n",
    "[對BuildMate評價]: (0~10)\n",
    "[簡短原因]: (以專業觀點精簡描述)\n",
    "\n",
    "注意事項：\n",
    "1. 原因的說明請限制在50個字以內。\n",
    "\"\"\",\n",
    "\n",
    "    \"Agent3\": \"\"\"你是電腦硬體顧問，專精於「需求符合度」。\n",
    "1.請根據使用者的需求場景（例如遊戲、剪輯、多工、深度學習、家庭多媒體等），判斷各推薦清單是否選用合適的CPU/GPU、記憶體容量、儲存空間及其他週邊，並評估清單是否過度或不足。\n",
    "2.請評估使用者的總預算與清單總價是否接近，在使用者預算合理下，應該要充分運用預算。\n",
    "3.請評估清單是否與使用者的需求相符，例如零組件外觀，主機大小，保固等各式需求。\n",
    "4.請評估使用者的特殊考量事項是否被滿足，例如：省電。\n",
    "\n",
    "請提供：\n",
    "[對gpt4o評價]: (0~10)\n",
    "[對BuildMate評價]: (0~10)\n",
    "[簡短原因]: (以專業觀點精簡描述)\n",
    "\n",
    "注意事項：\n",
    "1. 原因的說明請限制在50個字以內。\n",
    "\"\"\",\n",
    "\n",
    "    \"Coordinator\": \"\"\"你是最終協調者，已獲得3位專家針對效能與穩定、CP值、需求符合度的評分。\n",
    "如果尚未達成共識，請只簡短回應「未達共識」。\n",
    "如果已達共識，請回應「已達成共識」並指出哪一方較佳(不超過50字)。\"\"\"\n",
    "}\n",
    "\n",
    "\n",
    "    def agent_function(state: EvaluationState):\n",
    "        messages = list(state[\"messages\"])\n",
    "        question = state[\"question\"]\n",
    "        gpt4o_recom = state[\"gpt4o_recommendation\"]\n",
    "        buildmate_recom = state[\"buildmate_recommendation\"]\n",
    "\n",
    "        system_msg = SystemMessage(content=system_prompts[name])\n",
    "        user_prompt = f\"\"\"(第{state['round_count']}輪)\n",
    "問題: {question}\n",
    "\n",
    "--- gpt4o的組裝清單 ---\n",
    "{gpt4o_recom}\n",
    "\n",
    "--- BuildMate的組裝清單 ---\n",
    "{buildmate_recom}\n",
    "\"\"\"\n",
    "\n",
    "        conversation = [system_msg]\n",
    "        conversation.extend(messages)\n",
    "        conversation.append(HumanMessage(content=user_prompt))\n",
    "\n",
    "        llm_response = llm.invoke(conversation)\n",
    "        content_with_speaker = f\"{name}: {llm_response.content}\"\n",
    "        rich.print( content_with_speaker)\n",
    "        if name in (\"Agent1\",\"Agent2\",\"Agent3\"):\n",
    "            gpt4o_match = re.search(r\"\\[對gpt4o評價\\]:\\s*(\\d+)\", llm_response.content)\n",
    "            bm_match = re.search(r\"\\[對BuildMate評價\\]:\\s*(\\d+)\", llm_response.content)\n",
    "            pattern = r\"\\[簡短原因\\]:\\s*(.+)\"\n",
    "            reason_match = re.search(pattern, llm_response.content)\n",
    "            reason = reason_match.group(1)\n",
    "\n",
    "            if gpt4o_match and bm_match:\n",
    "                gpt4o_score = int(gpt4o_match.group(1))\n",
    "                bm_score = int(bm_match.group(1))\n",
    "                # 將分數存入\n",
    "                state[\"agent_scores\"][f\"{name}_round{state['round_count']}\"] = {\n",
    "                    \"gpt4o_score\": gpt4o_score,\n",
    "                    \"buildmate_score\": bm_score,\n",
    "                    \"reason\": reason\n",
    "                }\n",
    "                #print (f'gpt score: {gpt4o_score}, buildmate score: {bm_score}')\n",
    "\n",
    "        if name == \"Coordinator\":\n",
    "            # 假設協調者若尚未達成共識則回應「未達共識」四字，如果達成共識就「已達成共識」\n",
    "            if \"已達成共識\" in llm_response.content:\n",
    "                state[\"consensus_reached\"] = True\n",
    "            else:\n",
    "                state[\"consensus_reached\"] = False\n",
    "\n",
    "        new_message = HumanMessage(content=content_with_speaker)\n",
    "\n",
    "        return {\n",
    "            \"messages\": [*messages, new_message],\n",
    "            \"next_agent\": decide_next_speaker(name, state),\n",
    "            \"question_id\": state[\"question_id\"],\n",
    "            \"question\": state[\"question\"],\n",
    "            \"gpt4o_recommendation\": state[\"gpt4o_recommendation\"],\n",
    "            \"buildmate_recommendation\": state[\"buildmate_recommendation\"],\n",
    "            \"agent_scores\": state[\"agent_scores\"],\n",
    "            \"round_count\": state[\"round_count\"],\n",
    "            \"max_rounds\": state[\"max_rounds\"],\n",
    "            \"consensus_reached\": state[\"consensus_reached\"]\n",
    "        }\n",
    "    return agent_function\n",
    "\n",
    "\n",
    "def decide_next_speaker(current_speaker: str, state: EvaluationState) -> str:\n",
    "    if current_speaker == \"Agent1\":\n",
    "        return \"Agent2\"\n",
    "    elif current_speaker == \"Agent2\":\n",
    "        return \"Agent3\"\n",
    "    elif current_speaker == \"Agent3\":\n",
    "        return \"Coordinator\"\n",
    "    elif current_speaker == \"Coordinator\":\n",
    "        # 即使已達共識，但如果 round_count < 2，仍然強制進入下一輪\n",
    "        if state[\"round_count\"] < 2:\n",
    "            # 即使協調者表示「已達成共識」，也不要結束\n",
    "            state[\"round_count\"] += 1\n",
    "            state[\"consensus_reached\"] = False  # 忽略本輪的共識結果，強制再跑一輪\n",
    "            return \"Agent1\"\n",
    "        else:\n",
    "            # 現在已經執行到第二輪或更多\n",
    "            # 這裡才根據共識及最大回合數決定是否結束\n",
    "            if state[\"consensus_reached\"] or state[\"round_count\"] >= state[\"max_rounds\"]:\n",
    "                return END\n",
    "            else:\n",
    "                state[\"round_count\"] += 1\n",
    "                return \"Agent1\"\n",
    "    else:\n",
    "        return END\n",
    "\n",
    "def create_workflow(llm):\n",
    "    workflow = StateGraph(EvaluationState)\n",
    "    workflow.add_node(\"Agent1\", create_agent(\"Agent1\", llm))\n",
    "    workflow.add_node(\"Agent2\", create_agent(\"Agent2\", llm))\n",
    "    workflow.add_node(\"Agent3\", create_agent(\"Agent3\", llm))\n",
    "    workflow.add_node(\"Coordinator\", create_agent(\"Coordinator\", llm))\n",
    "\n",
    "    def router(state: EvaluationState) -> str:\n",
    "        return state[\"next_agent\"]\n",
    "\n",
    "    workflow.add_conditional_edges(\"Agent1\", router, {\"Agent2\": \"Agent2\", END: END})\n",
    "    workflow.add_conditional_edges(\"Agent2\", router, {\"Agent3\": \"Agent3\", END: END})\n",
    "    workflow.add_conditional_edges(\"Agent3\", router, {\"Coordinator\": \"Coordinator\", END: END})\n",
    "    workflow.add_conditional_edges(\"Coordinator\", router, {\"Agent1\": \"Agent1\", END: END})\n",
    "\n",
    "    workflow.add_edge(START, \"Agent1\")\n",
    "\n",
    "    return workflow.compile()\n",
    "\n",
    "\n",
    "# 要比較的推薦清單\n",
    "input_recommendation_file = './final_output_all.json'\n",
    "with open(input_recommendation_file, \"r\", encoding=\"utf-8\") as f:\n",
    "        recommendation_data  = json.load(f)\n",
    "        final_report = []  # 用來儲存所有 question 的評估結果\n",
    "\n",
    "        for sample_data in recommendation_data:\n",
    "\n",
    "            rich.print(sample_data)\n",
    "            #llm = ChatOpenAI(model=\"gpt-4o-2024-11-20\", temperature=0.3)\n",
    "            llm = ChatGoogleGenerativeAI(model=\"gemini-1.5-pro\", temperature=0.3)\n",
    "            app = create_workflow(llm)\n",
    "\n",
    "            initial_state = {\n",
    "                \"messages\": [],\n",
    "                \"next_agent\": \"Agent1\",\n",
    "                \"question_id\": sample_data[\"question_id\"],\n",
    "                \"question\": sample_data[\"question\"],\n",
    "                \"gpt4o_recommendation\": sample_data[\"gpt4o_recommendation\"],\n",
    "                \"buildmate_recommendation\": sample_data[\"buildmate_recommendation\"],\n",
    "                \"agent_scores\": {},\n",
    "                \"round_count\": 1,\n",
    "                \"max_rounds\": 3,  #最多3回合\n",
    "                \"consensus_reached\": False\n",
    "            }\n",
    "\n",
    "            final_state = None\n",
    "            i = 0 \n",
    "            for output in app.stream(initial_state):\n",
    "                print (f\"======\")\n",
    "                final_state = output\n",
    "                i = i + 1\n",
    "            print (final_state)\n",
    "            serializable_state = dict(final_state)\n",
    "            state = final_state[\"Coordinator\"]\n",
    "            question_id = state[\"question_id\"]\n",
    "            question = state[\"question\"]\n",
    "            gpt4o_recom = state[\"gpt4o_recommendation\"]\n",
    "            buildmate_recom = state[\"buildmate_recommendation\"]\n",
    "            agent_scores = state[\"agent_scores\"]\n",
    "\n",
    "\n",
    "            gpt4o_scores_all = []\n",
    "            buildmate_scores_all = []\n",
    "            rounds_data = {}\n",
    "\n",
    "            for key, scores in agent_scores.items():\n",
    "                m = re.match(r\"(Agent\\d+)_round(\\d+)\", key)\n",
    "                if m:\n",
    "                    agent_name = m.group(1)\n",
    "                    round_num = int(m.group(2))\n",
    "                    if round_num not in rounds_data:\n",
    "                        rounds_data[round_num] = {}\n",
    "                    rounds_data[round_num][agent_name] = scores\n",
    "                    gpt4o_scores_all.append(scores[\"gpt4o_score\"])\n",
    "                    buildmate_scores_all.append(scores[\"buildmate_score\"])\n",
    "\n",
    "            if gpt4o_scores_all:\n",
    "                gpt4o_avg = sum(gpt4o_scores_all) / len(gpt4o_scores_all)\n",
    "            else:\n",
    "                gpt4o_avg = 0\n",
    "\n",
    "            if buildmate_scores_all:\n",
    "                buildmate_avg = sum(buildmate_scores_all) / len(buildmate_scores_all)\n",
    "            else:\n",
    "                buildmate_avg = 0\n",
    "\n",
    "            # 判斷誰贏 (1: BuildMate 贏; 0: BuildMate 輸)\n",
    "            winner = 1 if buildmate_avg > gpt4o_avg else 0\n",
    "\n",
    "            # 整理 round 資訊\n",
    "            rounds_list = []\n",
    "            for r in sorted(rounds_data.keys()):\n",
    "                round_info = {\"round_number\": r}\n",
    "                for agent_name, sc in rounds_data[r].items():\n",
    "                    round_info[agent_name] = {\n",
    "                        \"gpt4o_score\": sc[\"gpt4o_score\"],\n",
    "                        \"buildmate_score\": sc[\"buildmate_score\"],\n",
    "                        \"reason\": sc[\"reason\"]\n",
    "                    }\n",
    "                rounds_list.append(round_info)\n",
    "\n",
    "            report_item = {\n",
    "                \"question_id\": question_id,\n",
    "                \"question\": question,\n",
    "                \"buildmate_recommendation\":buildmate_recom,\n",
    "                \"gpt4o_recommendation\": gpt4o_recom,\n",
    "                \"winner\": winner,\n",
    "                \"buildmate_avg_score\": buildmate_avg,\n",
    "                \"gpt4o_avg_score\": gpt4o_avg,\n",
    "                \"rounds\": rounds_list\n",
    "            }\n",
    "\n",
    "            print(json.dumps(report_item, ensure_ascii=False, indent=2))\n",
    "            final_report.append(report_item)\n",
    "\n",
    "            #serializable_result = convert_messages_to_serializable(final_state)\n",
    "# 輸出評估結果的檔案 \n",
    "output_report = \"evaluation_report_budget_reason_gemini_all.json\"\n",
    "with open(output_report, \"w\", encoding=\"utf-8\") as out_f:\n",
    "    json.dump(final_report, out_f, ensure_ascii=False, indent=2)\n",
    "\n",
    "\n",
    "\n"
   ]
  },
  {
   "cell_type": "code",
   "execution_count": null,
   "metadata": {},
   "outputs": [],
   "source": []
  }
 ],
 "metadata": {
  "kernelspec": {
   "display_name": "Python 3 (ipykernel)",
   "language": "python",
   "name": "python3"
  },
  "language_info": {
   "codemirror_mode": {
    "name": "ipython",
    "version": 3
   },
   "file_extension": ".py",
   "mimetype": "text/x-python",
   "name": "python",
   "nbconvert_exporter": "python",
   "pygments_lexer": "ipython3",
   "version": "3.12.7"
  }
 },
 "nbformat": 4,
 "nbformat_minor": 4
}
