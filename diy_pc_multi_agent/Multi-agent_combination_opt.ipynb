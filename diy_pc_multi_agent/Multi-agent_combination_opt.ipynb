{
 "cells": [
  {
   "cell_type": "markdown",
   "metadata": {},
   "source": [
    "### Multi-Agent Combination Optimization\n",
    "1. Component_Agent：一個零件代表一個智能體\n",
    "2. Reducing_Agent：查看清單，選一個商品做降價，持續降價使得總價格低於預算\n",
    "3. Power_Agent：對於電源做控管，檢查電供是否足夠，不足則替換零件\n",
    "4. Heat_Dissipation_Agent：對於散熱做控管，檢查散熱是否足夠，不足則替換零件\n",
    "5. Debate_Agents：讓兩個廠商所代表的Agent，對於一個特定預算的物件，做替換\n",
    "6. PC_DIY_System：流水線方式建構一個元件的推薦流程"
   ]
  },
  {
   "cell_type": "code",
   "execution_count": null,
   "metadata": {},
   "outputs": [
    {
     "name": "stdout",
     "output_type": "stream",
     "text": [
      "組合清單：\n",
      "1. Mother board: 華碩 PRIME H610M-K-CSM(DDR5) | price: 2990\n",
      "2. Case: 銀欣 RL08 紅黑 | price: 1290\n",
      "3. CPU: Intel i7-14700F | price: 9700\n",
      "4. GPU: Acer Nitro Intel ARC B580 OC 12GB | price: 8690\n",
      "5. Memory: 美光Micron Crucial PRO 超頻 32GB(雙通16GB*2) D5 6000/CL36 黑色散熱片 | price: 2499\n",
      "6. Storage: 美光Micron Crucial BX500 500G/2.5吋/讀:540M/寫:500M/TLC顆粒【三年保】 | price: 949\n",
      "7. Power: Antec HCG1000(1000W)雙8/金牌/全模/全日系/智慧溫控風扇/10年保 | price: 3990\n",
      "8. Fan: Acer Predator Frostblade 120 風扇 | price: 390\n",
      "\n",
      "總價格：30498\n"
     ]
    }
   ],
   "source": [
    "from units import get_component_list, get_budget_from_string, summary_price, print_results\n",
    "from multi_agent import PC_DIY_System, PC_DIY_Debate_System\n",
    "import os\n",
    "os.environ['OPENAI_API_KEY'] = ''\n",
    "\n",
    "model = 'gpt-4o-mini'\n",
    "\n",
    "# 金額必須輸入為: xxx元，這句需求的文字陳述後，需要加上。\n",
    "require = '我想要一個50000元的遊戲機器。'\n",
    "budget = get_budget_from_string(require)\n",
    "\n",
    "# Build multi-agent system for pc diy \n",
    "pc_diy = PC_DIY_System(model, require, budget)\n",
    "\n",
    "component_dict = {'Mother board': '', 'Case': '', 'CPU': '', 'GPU': '', \n",
    "                'Memory': '', 'Storage': '', 'Power': '', 'Fan': ''}\n",
    "\n",
    "component_dict = pc_diy.execute(component_dict)\n",
    "print_results(component_dict)"
   ]
  },
  {
   "cell_type": "code",
   "execution_count": 7,
   "metadata": {},
   "outputs": [
    {
     "data": {
      "text/plain": [
       "{'Mother board': {'reason': '穩定性高，支援最新DDR5記憶體，適合遊戲需求。',\n",
       "  'name': '華碩 PRIME H610M-K-CSM(DDR5)',\n",
       "  'price': '2990'},\n",
       " 'Case': {'reason': '具備良好散熱設計，支持多風扇安裝，擴充性好，適合高效能遊戲機。',\n",
       "  'name': '銀欣 RL08 紅黑',\n",
       "  'price': '1290'},\n",
       " 'CPU': {'reason': '高效能多核心設計，適合遊戲及多任務處理，並且符合預算。',\n",
       "  'name': 'Intel i7-14700F',\n",
       "  'price': '9700'},\n",
       " 'GPU': {'reason': '具備深度學習性能，顯存容量達12GB，適合高效能遊戲需求。',\n",
       "  'name': 'Acer Nitro Intel ARC B580 OC 12GB',\n",
       "  'price': '8690'},\n",
       " 'Memory': {'reason': '高頻率和低延遲，適合遊戲需求，提升效能與穩定性。',\n",
       "  'name': '美光Micron Crucial PRO 超頻 32GB(雙通16GB*2) D5 6000/CL36 黑色散熱片',\n",
       "  'price': '2499'},\n",
       " 'Storage': {'reason': '具備良好讀寫速度，耐用性高，適合遊戲需求且容量足夠。',\n",
       "  'name': '美光Micron Crucial BX500 500G/2.5吋/讀:540M/寫:500M/TLC顆粒【三年保】',\n",
       "  'price': '949'},\n",
       " 'Power': {'reason': '具備1000W，金牌效率，模組化設計，適合高效能遊戲機器使用。',\n",
       "  'name': 'Antec HCG1000(1000W)雙8/金牌/全模/全日系/智慧溫控風扇/10年保',\n",
       "  'price': '3990'},\n",
       " 'Fan': {'reason': '高風量與低噪音，適合遊戲機器，並具備RGB燈效提升美觀。',\n",
       "  'name': 'Acer Predator Frostblade 120 風扇',\n",
       "  'price': '390'}}"
      ]
     },
     "execution_count": 7,
     "metadata": {},
     "output_type": "execute_result"
    }
   ],
   "source": [
    "component_dict"
   ]
  },
  {
   "cell_type": "markdown",
   "metadata": {},
   "source": [
    "### Test dataset"
   ]
  },
  {
   "cell_type": "code",
   "execution_count": 2,
   "metadata": {},
   "outputs": [],
   "source": [
    "questions = [\n",
    "    '請問30000元內能組一台什麼樣的主機，主要是玩LOL和看Netflix用？',\n",
    "    '有推薦的組合嗎？預算大概在50000元，要能處理攝影後製和輕遊戲，如：軒轅劍7。',\n",
    "    '碩士生研究用的電腦，預算約70000元，需要跑深度學習模型，有沒有建議配置？',\n",
    "    '預算大約30000元，尋求一台能寫報告和上網的簡易電腦，要求瀏覽器多開流暢。',\n",
    "    '想請問80000元左右，能組出來什麼級別的遊戲主機？想玩些新遊戲，畫質要好。',\n",
    "    '工作需要，我要一台能跑Solidworks和AutoCAD的工作站，預算大概60000元，有建議嗎？',\n",
    "    '有沒有推薦的遊戲主機配置？預算在45000元，想要玩 POE、APEX等槍戰、LOL。',\n",
    "    '預算約45000元，需要一台主要用來跑Adobe系列軟體的電腦，特別是Photoshop和After Effects。',\n",
    "    '我需要一台適合股市分析的電腦，預算大概30000元，需要大量運算和多螢幕，有什麼好提議？',\n",
    "    '想要組一台約65000元的電腦，主要用於VR遊戲和一般辦公，有沒有推薦配置？',\n",
    "    '請問40000元預算可以組出來能玩FPS、3A大作、多開模擬器遊戲的電腦嗎？',\n",
    "    '預算25000元，我想要一台電腦主要用於線上學習和偶爾寫程式，有建議配置嗎？',\n",
    "    '請問75000元左右的預算能組一台什麼樣的4K影片剪輯機？',\n",
    "    '我要組一台電腦，預算約35000元，主要用於玩《英雄聯盟》和做寫作業與論文研究，推薦配置是？',\n",
    "    '預算大概55000元，尋找一台適合做3D動畫和模型設計的電腦，有推薦嗎？',\n",
    "    '我是遊戲開發學生，預算大約85000元，需要一台能處理遊戲開發和渲染的高階機，有沒有好的配置？',\n",
    "    '預算30000元內，請問有適合辦公和輕度Photoshop使用的電腦配置嗎？',\n",
    "    '想問下，有沒有大約50000元的電腦配置，適合玩大型開放世界遊戲的？',\n",
    "    '我需要一台電腦，預算大概45000元，主要用於音樂製作和錄音，需要特別注意什麼配件？',\n",
    "    '預算約60000元，想要一台電腦主要用於科學計算和寫程式，有推薦配置嗎？',\n",
    "    '請問我想組一台約70000元的電腦，主要用於虛擬機運行和大數據處理，有什麼建議？',\n",
    "    '預算大約30000元，尋找一台適合初學者學習寫程式和偶爾玩遊戲的電腦，有推薦配置嗎？',\n",
    "    '我要組裝一台預算約40000元的電腦，主要用來看4K電影和日常使用，有建議配置嗎？',\n",
    "    '想請問，85000元預算能組一台什麼樣的專業級遊戲機？希望能玩最新遊戲。',\n",
    "    '預算約50000元，我想要一台電腦主要用於AI學習和研究，有沒有好的配置建議？',\n",
    "    '請問一下，25000元預算可以組一台適合高中生用的課業學習電腦嗎？主要是寫作業和上網。',\n",
    "    '我是平面設計師，預算大概55000元，需要一台適合設計工作的電腦，有推薦嗎？',\n",
    "    '預算大約70000元，想要一台適合專業影像處理和影片剪輯的電腦，有什麼建議配置？',\n",
    "    '我想組一台電腦，預算約60000元，主要用於玩模擬飛行遊戲，有沒有推薦的配置？',\n",
    "    '請問有沒有大約35000元的電腦配置推薦，適合用於網頁開發和輕度遊戲？'\n",
    "]"
   ]
  },
  {
   "cell_type": "code",
   "execution_count": 3,
   "metadata": {},
   "outputs": [],
   "source": [
    "questions = [\n",
    "    # AutoCAD\n",
    "    '預算約50000元，想要一台能高效運行AutoCAD進行工程繪圖與設計的電腦，特別需要多核心CPU來加速運算。',\n",
    "    # Photoshop\n",
    "    '預算大概35000元，需要一台能流暢執行Photoshop圖像編輯的電腦，GPU加速很重要。',\n",
    "    # Illustrator\n",
    "    '預算約30000元，希望有台能穩定跑Illustrator的電腦，CPU和內存要足夠強大，處理大型向量檔不會卡。',\n",
    "    # Premiere Pro\n",
    "    '我有約60000元預算，希望組一台能流暢剪接4K影片的電腦，用Premiere Pro時需強大GPU和大量記憶體。',\n",
    "    # After Effects\n",
    "    '預算約65000元，想要一台能順暢處理After Effects動態特效的電腦，GPU和大容量內存非常關鍵。',\n",
    "    # Blender\n",
    "    '預算50000元左右，需一台適合Blender 3D建模和GPU渲染的電腦，能加速NVIDIA CUDA運算。',\n",
    "    # 3ds Max\n",
    "    '預算70000元，想組一台能高效運行3ds Max的工作站，要求對GPU和CPU性能都有極高規格。',\n",
    "    # Maya\n",
    "    '大約75000元預算，需要一台能在Maya中順暢做3D建模和專業動畫渲染的電腦。',\n",
    "    # ZBrush\n",
    "    '預算約45000元，需要一台能流暢使用ZBrush進行數位雕刻的電腦，要求大容量內存和高速儲存。',\n",
    "    # SolidWorks\n",
    "    '預算約60000元，想要一台能跑SolidWorks工程設計軟體的工作站，多核心CPU和中高階GPU不可少。',\n",
    "    # Revit\n",
    "    '有大約55000元預算，想買台能穩定跑Revit做建築設計與BIM建模的電腦，需要充裕內存和不錯的GPU。',\n",
    "    # DaVinci Resolve\n",
    "    '預算60000元左右，要一台能在DaVinci Resolve中流暢剪輯與調色的電腦，GPU加速效果很重要。',\n",
    "    # Vegas Pro\n",
    "    '預算50000元左右，需要能跑Vegas Pro的電腦，多核CPU和高效能GPU是必須，以加快影片編輯。',\n",
    "    # Cinema 4D\n",
    "    '預算約65000元，希望組一台適合Cinema 4D動畫與渲染的電腦，GPU和內存絕不能馬虎。',\n",
    "    # MATLAB\n",
    "    '預算大約40000元，想組一台能執行MATLAB科學計算的電腦，多核心處理器與大內存很關鍵。',\n",
    "    # Unreal Engine\n",
    "    '預算80000元，我需要一台能順暢跑Unreal Engine的開發機，高效能GPU和多核CPU都要有。',\n",
    "    # Cyberpunk 2077\n",
    "    '預算約50000元，希望有一台能在高畫質下跑Cyberpunk 2077的電腦，需要強悍的GPU（如RTX系列）。',\n",
    "    # Red Dead Redemption 2\n",
    "    '預算60000元左右，想組一台流暢運行Red Dead Redemption 2的電腦，GPU、CPU和內存都要高規。',\n",
    "    # Grand Theft Auto V (GTA V)\n",
    "    '預算約40000元，我想要一台能長期流暢玩GTA V的主機，硬體規格要足以應對大型開放世界遊戲。',\n",
    "    # Call of Duty: Modern Warfare II\n",
    "    '預算45000元，需要一台能在高畫質下跑Modern Warfare II的電腦，GPU性能非常重要。',\n",
    "    # The Witcher 3\n",
    "    '預算35000元，想組一台能高品質運行The Witcher 3的電腦，GPU和內存要足夠充裕。',\n",
    "    # Elden Ring\n",
    "    '預算40000元左右，需要一台可流暢跑Elden Ring的電腦，強大的GPU與多核心CPU很重要。',\n",
    "    # Dota 2\n",
    "    '預算37000元，希望有台能流暢玩Dota 2的電腦，CPU和GPU配置需均衡。',\n",
    "    # Counter-Strike 2\n",
    "    '預算30000元，要一台適合玩CS2的電腦，最好能搭配高刷新率螢幕並有足夠GPU性能。',\n",
    "    # Unity\n",
    "    '預算約50000元，需要一台能跑Unity遊戲開發的電腦，要有足以支撐即時3D預覽的強勁GPU。',\n",
    "    # Visual Studio\n",
    "    '預算約38000元，希望組一台能穩定執行Visual Studio開發環境的電腦，多核心CPU很有幫助。',\n",
    "    # Eclipse\n",
    "    '預算35000元，需要一台能流暢跑Eclipse做軟體開發的電腦，高速儲存和多核CPU不可或缺。',\n",
    "    # Android Studio\n",
    "    '預算35000元，需要一台能快速執行Android Studio的電腦，有足夠內存和不錯CPU性能。',\n",
    "    # Docker\n",
    "    '預算45000元，希望組一台適合Docker多環境執行的電腦，需要大內存和高速CPU來同時跑多個容器。',\n",
    "    # VMware Workstation\n",
    "    '預算50000元，需要一台能流暢執行VMware Workstation虛擬化的電腦，內存和CPU虛擬化能力需很強。'\n",
    "]\n"
   ]
  },
  {
   "cell_type": "code",
   "execution_count": 4,
   "metadata": {},
   "outputs": [],
   "source": [
    "# question = '預算25000元，希望有台能流暢玩Dota 2的電腦，CPU和GPU配置需均衡。'\n",
    "# require = question\n",
    "# budget = get_budget_from_string(require)\n",
    "\n",
    "# pc_diy = PC_DIY_System(model, require, budget)\n",
    "\n",
    "# component_dict = {'Mother board': '', 'Case': '', 'CPU': '', 'GPU': '', \n",
    "#                 'Memory': '', 'Storage': '', 'Power': '', 'Fan': ''}\n",
    "\n",
    "# require_done = True\n",
    "# component_dict = pc_diy.execute(component_dict)"
   ]
  },
  {
   "cell_type": "code",
   "execution_count": 5,
   "metadata": {},
   "outputs": [
    {
     "name": "stdout",
     "output_type": "stream",
     "text": [
      "第0筆資料：預算約50000元，想要一台能高效運行AutoCAD進行工程繪圖與設計的電腦，特別需要多核心CPU來加速運算。\n",
      "第1筆資料：預算大概35000元，需要一台能流暢執行Photoshop圖像編輯的電腦，GPU加速很重要。\n",
      "第2筆資料：預算約30000元，希望有台能穩定跑Illustrator的電腦，CPU和內存要足夠強大，處理大型向量檔不會卡。\n",
      "第3筆資料：我有約60000元預算，希望組一台能流暢剪接4K影片的電腦，用Premiere Pro時需強大GPU和大量記憶體。\n",
      "第4筆資料：預算約65000元，想要一台能順暢處理After Effects動態特效的電腦，GPU和大容量內存非常關鍵。\n",
      "第5筆資料：預算50000元左右，需一台適合Blender 3D建模和GPU渲染的電腦，能加速NVIDIA CUDA運算。\n",
      "第6筆資料：預算70000元，想組一台能高效運行3ds Max的工作站，要求對GPU和CPU性能都有極高規格。\n",
      "第7筆資料：大約75000元預算，需要一台能在Maya中順暢做3D建模和專業動畫渲染的電腦。\n",
      "第8筆資料：預算約45000元，需要一台能流暢使用ZBrush進行數位雕刻的電腦，要求大容量內存和高速儲存。\n",
      "第9筆資料：預算約60000元，想要一台能跑SolidWorks工程設計軟體的工作站，多核心CPU和中高階GPU不可少。\n",
      "第10筆資料：有大約55000元預算，想買台能穩定跑Revit做建築設計與BIM建模的電腦，需要充裕內存和不錯的GPU。\n",
      "第11筆資料：預算60000元左右，要一台能在DaVinci Resolve中流暢剪輯與調色的電腦，GPU加速效果很重要。\n",
      "第12筆資料：預算50000元左右，需要能跑Vegas Pro的電腦，多核CPU和高效能GPU是必須，以加快影片編輯。\n",
      "第13筆資料：預算約65000元，希望組一台適合Cinema 4D動畫與渲染的電腦，GPU和內存絕不能馬虎。\n",
      "第14筆資料：預算大約40000元，想組一台能執行MATLAB科學計算的電腦，多核心處理器與大內存很關鍵。\n",
      "第15筆資料：預算80000元，我需要一台能順暢跑Unreal Engine的開發機，高效能GPU和多核CPU都要有。\n",
      "第16筆資料：預算約50000元，希望有一台能在高畫質下跑Cyberpunk 2077的電腦，需要強悍的GPU（如RTX系列）。\n",
      "第17筆資料：預算60000元左右，想組一台流暢運行Red Dead Redemption 2的電腦，GPU、CPU和內存都要高規。\n",
      "第18筆資料：預算約40000元，我想要一台能長期流暢玩GTA V的主機，硬體規格要足以應對大型開放世界遊戲。\n",
      "第19筆資料：預算45000元，需要一台能在高畫質下跑Modern Warfare II的電腦，GPU性能非常重要。\n",
      "第20筆資料：預算35000元，想組一台能高品質運行The Witcher 3的電腦，GPU和內存要足夠充裕。\n",
      "第21筆資料：預算40000元左右，需要一台可流暢跑Elden Ring的電腦，強大的GPU與多核心CPU很重要。\n",
      "第22筆資料：預算37000元，希望有台能流暢玩Dota 2的電腦，CPU和GPU配置需均衡。\n",
      "第23筆資料：預算30000元，要一台適合玩CS2的電腦，最好能搭配高刷新率螢幕並有足夠GPU性能。\n",
      "第24筆資料：預算約50000元，需要一台能跑Unity遊戲開發的電腦，要有足以支撐即時3D預覽的強勁GPU。\n",
      "第25筆資料：預算約38000元，希望組一台能穩定執行Visual Studio開發環境的電腦，多核心CPU很有幫助。\n",
      "第26筆資料：預算35000元，需要一台能流暢跑Eclipse做軟體開發的電腦，高速儲存和多核CPU不可或缺。\n",
      "第27筆資料：預算35000元，需要一台能快速執行Android Studio的電腦，有足夠內存和不錯CPU性能。\n",
      "第28筆資料：預算45000元，希望組一台適合Docker多環境執行的電腦，需要大內存和高速CPU來同時跑多個容器。\n",
      "第29筆資料：預算50000元，需要一台能流暢執行VMware Workstation虛擬化的電腦，內存和CPU虛擬化能力需很強。\n"
     ]
    }
   ],
   "source": [
    "result_data = {}\n",
    "\n",
    "for i, question in enumerate(questions):\n",
    "\n",
    "    print(f'第{i}筆資料：{question}')\n",
    "    \n",
    "    require = question\n",
    "    budget = get_budget_from_string(require)\n",
    "\n",
    "    pc_diy = PC_DIY_System(model, require, budget)\n",
    "\n",
    "    component_dict = {'Mother board': '', 'Case': '', 'CPU': '', 'GPU': '', \n",
    "                    'Memory': '', 'Storage': '', 'Power': '', 'Fan': ''}\n",
    "\n",
    "    require_done = True\n",
    "    \n",
    "    while require_done:\n",
    "        try:\n",
    "            component_dict = pc_diy.execute(component_dict)\n",
    "            require_done = False\n",
    "        except Exception:\n",
    "            print('Error')\n",
    "\n",
    "    # component_dict = pc_diy.execute(component_dict)\n",
    "    \n",
    "    result_data[require] = component_dict"
   ]
  },
  {
   "cell_type": "code",
   "execution_count": null,
   "metadata": {},
   "outputs": [],
   "source": []
  },
  {
   "cell_type": "code",
   "execution_count": 6,
   "metadata": {},
   "outputs": [
    {
     "name": "stdout",
     "output_type": "stream",
     "text": [
      "資料已成功儲存到 questions.json！\n"
     ]
    }
   ],
   "source": [
    "import json\n",
    "\n",
    "# 將資料存放到 questions.json 檔案\n",
    "with open('results_new.json', 'w', encoding='utf-8') as file:\n",
    "    json.dump(result_data, file, ensure_ascii=False, indent=4)\n",
    "\n",
    "print(\"資料已成功儲存到 questions.json！\")"
   ]
  },
  {
   "cell_type": "code",
   "execution_count": null,
   "metadata": {},
   "outputs": [],
   "source": []
  }
 ],
 "metadata": {
  "kernelspec": {
   "display_name": "pc_diy",
   "language": "python",
   "name": "python3"
  },
  "language_info": {
   "codemirror_mode": {
    "name": "ipython",
    "version": 3
   },
   "file_extension": ".py",
   "mimetype": "text/x-python",
   "name": "python",
   "nbconvert_exporter": "python",
   "pygments_lexer": "ipython3",
   "version": "3.10.15"
  }
 },
 "nbformat": 4,
 "nbformat_minor": 2
}
